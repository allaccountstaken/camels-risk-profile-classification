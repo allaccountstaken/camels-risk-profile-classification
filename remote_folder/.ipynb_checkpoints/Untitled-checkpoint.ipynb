{
 "cells": [
  {
   "cell_type": "code",
   "execution_count": 20,
   "metadata": {},
   "outputs": [],
   "source": [
    "import os,sys,inspect\n",
    "currentdir = os.path.dirname(os.path.abspath(inspect.getfile(inspect.currentframe())))\n",
    "parentdir = os.path.dirname(currentdir)\n",
    "sys.path.insert(0,parentdir) "
   ]
  },
  {
   "cell_type": "code",
   "execution_count": 21,
   "metadata": {},
   "outputs": [
    {
     "data": {
      "text/plain": [
       "'/Users/dmitrymikhaylov/Documents/code/azure/udacity/camels-risk-profile-classification/Untitled Folder'"
      ]
     },
     "execution_count": 21,
     "metadata": {},
     "output_type": "execute_result"
    }
   ],
   "source": [
    "\n",
    "currentdir"
   ]
  },
  {
   "cell_type": "code",
   "execution_count": 22,
   "metadata": {},
   "outputs": [
    {
     "data": {
      "text/plain": [
       "'/Users/dmitrymikhaylov/Documents/code/azure/udacity/camels-risk-profile-classification'"
      ]
     },
     "execution_count": 22,
     "metadata": {},
     "output_type": "execute_result"
    }
   ],
   "source": [
    "parentdir"
   ]
  },
  {
   "cell_type": "code",
   "execution_count": null,
   "metadata": {},
   "outputs": [],
   "source": [
    "\n",
    "scripts.load_dat()"
   ]
  },
  {
   "cell_type": "code",
   "execution_count": 24,
   "metadata": {},
   "outputs": [],
   "source": [
    "from scripts import helpers"
   ]
  },
  {
   "cell_type": "code",
   "execution_count": 25,
   "metadata": {},
   "outputs": [
    {
     "data": {
      "text/html": [
       "<div>\n",
       "<style scoped>\n",
       "    .dataframe tbody tr th:only-of-type {\n",
       "        vertical-align: middle;\n",
       "    }\n",
       "\n",
       "    .dataframe tbody tr th {\n",
       "        vertical-align: top;\n",
       "    }\n",
       "\n",
       "    .dataframe thead th {\n",
       "        text-align: right;\n",
       "    }\n",
       "</style>\n",
       "<table border=\"1\" class=\"dataframe\">\n",
       "  <thead>\n",
       "    <tr style=\"text-align: right;\">\n",
       "      <th></th>\n",
       "      <th>AsOfDate</th>\n",
       "      <th>Target</th>\n",
       "      <th>EQTA</th>\n",
       "      <th>EQTL</th>\n",
       "      <th>LLRTA</th>\n",
       "      <th>LLRGL</th>\n",
       "      <th>OEXTA</th>\n",
       "      <th>INCEMP</th>\n",
       "      <th>ROA</th>\n",
       "      <th>ROE</th>\n",
       "      <th>TDTL</th>\n",
       "      <th>TDTA</th>\n",
       "      <th>TATA</th>\n",
       "    </tr>\n",
       "  </thead>\n",
       "  <tbody>\n",
       "    <tr>\n",
       "      <th>1252</th>\n",
       "      <td>12/31/2009</td>\n",
       "      <td>1</td>\n",
       "      <td>0.008644</td>\n",
       "      <td>0.010834</td>\n",
       "      <td>0.092012</td>\n",
       "      <td>0.115320</td>\n",
       "      <td>0.025272</td>\n",
       "      <td>-593.165644</td>\n",
       "      <td>-0.136337</td>\n",
       "      <td>-15.772594</td>\n",
       "      <td>1.232007</td>\n",
       "      <td>0.982991</td>\n",
       "      <td>0.112894</td>\n",
       "    </tr>\n",
       "    <tr>\n",
       "      <th>3287</th>\n",
       "      <td>12/31/2009</td>\n",
       "      <td>1</td>\n",
       "      <td>0.078408</td>\n",
       "      <td>0.189268</td>\n",
       "      <td>0.003523</td>\n",
       "      <td>0.008503</td>\n",
       "      <td>0.022508</td>\n",
       "      <td>20.900000</td>\n",
       "      <td>0.003875</td>\n",
       "      <td>0.049421</td>\n",
       "      <td>2.205290</td>\n",
       "      <td>0.913583</td>\n",
       "      <td>0.358536</td>\n",
       "    </tr>\n",
       "    <tr>\n",
       "      <th>5672</th>\n",
       "      <td>12/31/2009</td>\n",
       "      <td>1</td>\n",
       "      <td>0.002112</td>\n",
       "      <td>0.003144</td>\n",
       "      <td>0.066657</td>\n",
       "      <td>0.099216</td>\n",
       "      <td>0.034378</td>\n",
       "      <td>-323.516556</td>\n",
       "      <td>-0.058455</td>\n",
       "      <td>-27.677620</td>\n",
       "      <td>1.383128</td>\n",
       "      <td>0.929228</td>\n",
       "      <td>0.135505</td>\n",
       "    </tr>\n",
       "    <tr>\n",
       "      <th>5702</th>\n",
       "      <td>12/31/2009</td>\n",
       "      <td>1</td>\n",
       "      <td>0.015982</td>\n",
       "      <td>0.021148</td>\n",
       "      <td>0.030035</td>\n",
       "      <td>0.039743</td>\n",
       "      <td>0.039763</td>\n",
       "      <td>-153.596354</td>\n",
       "      <td>-0.049911</td>\n",
       "      <td>-3.123001</td>\n",
       "      <td>1.195850</td>\n",
       "      <td>0.903733</td>\n",
       "      <td>0.094482</td>\n",
       "    </tr>\n",
       "    <tr>\n",
       "      <th>8221</th>\n",
       "      <td>12/31/2009</td>\n",
       "      <td>1</td>\n",
       "      <td>0.011542</td>\n",
       "      <td>0.013393</td>\n",
       "      <td>0.041798</td>\n",
       "      <td>0.048502</td>\n",
       "      <td>0.038922</td>\n",
       "      <td>-217.888889</td>\n",
       "      <td>-0.069640</td>\n",
       "      <td>-6.033846</td>\n",
       "      <td>1.145630</td>\n",
       "      <td>0.987286</td>\n",
       "      <td>0.098334</td>\n",
       "    </tr>\n",
       "  </tbody>\n",
       "</table>\n",
       "</div>"
      ],
      "text/plain": [
       "        AsOfDate  Target      EQTA      EQTL     LLRTA     LLRGL     OEXTA  \\\n",
       "1252  12/31/2009       1  0.008644  0.010834  0.092012  0.115320  0.025272   \n",
       "3287  12/31/2009       1  0.078408  0.189268  0.003523  0.008503  0.022508   \n",
       "5672  12/31/2009       1  0.002112  0.003144  0.066657  0.099216  0.034378   \n",
       "5702  12/31/2009       1  0.015982  0.021148  0.030035  0.039743  0.039763   \n",
       "8221  12/31/2009       1  0.011542  0.013393  0.041798  0.048502  0.038922   \n",
       "\n",
       "          INCEMP       ROA        ROE      TDTL      TDTA      TATA  \n",
       "1252 -593.165644 -0.136337 -15.772594  1.232007  0.982991  0.112894  \n",
       "3287   20.900000  0.003875   0.049421  2.205290  0.913583  0.358536  \n",
       "5672 -323.516556 -0.058455 -27.677620  1.383128  0.929228  0.135505  \n",
       "5702 -153.596354 -0.049911  -3.123001  1.195850  0.903733  0.094482  \n",
       "8221 -217.888889 -0.069640  -6.033846  1.145630  0.987286  0.098334  "
      ]
     },
     "execution_count": 25,
     "metadata": {},
     "output_type": "execute_result"
    }
   ],
   "source": [
    "path= \"https://raw.githubusercontent.com/allaccountstaken/camels-risk-profile-classification/main/data/camel_data_after2010Q3.csv\"\n",
    "df = helpers.load_data(path)\n",
    "df.head()"
   ]
  },
  {
   "cell_type": "code",
   "execution_count": 26,
   "metadata": {},
   "outputs": [],
   "source": [
    "ds = helpers.clean_data(df)"
   ]
  },
  {
   "cell_type": "code",
   "execution_count": 27,
   "metadata": {},
   "outputs": [
    {
     "data": {
      "text/plain": [
       "(             EQTA       EQTL     LLRTA     LLRGL     OEXTA      INCEMP  \\\n",
       " 1252     0.008644   0.010834  0.092012  0.115320  0.025272 -593.165644   \n",
       " 3287     0.078408   0.189268  0.003523  0.008503  0.022508   20.900000   \n",
       " 5672     0.002112   0.003144  0.066657  0.099216  0.034378 -323.516556   \n",
       " 5702     0.015982   0.021148  0.030035  0.039743  0.039763 -153.596354   \n",
       " 8221     0.011542   0.013393  0.041798  0.048502  0.038922 -217.888889   \n",
       " ...           ...        ...       ...       ...       ...         ...   \n",
       " 4041421  0.137583   0.627601  0.000030  0.000139  0.014422   80.990769   \n",
       " 4114567  0.088101   0.110318  0.000205  0.000257  0.006203   46.455670   \n",
       " 4160667  0.133252   0.178635  0.000013  0.000017  0.005188   85.779221   \n",
       " 4165907  0.770208  16.588064  0.001014  0.021834  0.069140 -143.142857   \n",
       " 4184186  0.104075   0.186904  0.000037  0.000066  0.004862   13.052459   \n",
       " \n",
       "               ROA        ROE      TDTL      TDTA      TATA  \n",
       " 1252    -0.136337 -15.772594  1.232007  0.982991  0.112894  \n",
       " 3287     0.003875   0.049421  2.205290  0.913583  0.358536  \n",
       " 5672    -0.058455 -27.677620  1.383128  0.929228  0.135505  \n",
       " 5702    -0.049911  -3.123001  1.195850  0.903733  0.094482  \n",
       " 8221    -0.069640  -6.033846  1.145630  0.987286  0.098334  \n",
       " ...           ...        ...       ...       ...       ...  \n",
       " 4041421  0.010562   0.076767  3.434820  0.752980  0.621207  \n",
       " 4114567  0.003079   0.034947  1.081685  0.863838  0.004055  \n",
       " 4160667  0.016813   0.126171  0.975221  0.727462  0.059737  \n",
       " 4165907 -0.067721  -0.087926  4.921397  0.228508  0.135442  \n",
       " 4184186  0.002934   0.028189  1.498431  0.834379  0.024833  \n",
       " \n",
       " [7014 rows x 11 columns],\n",
       " array([[1],\n",
       "        [1],\n",
       "        [1],\n",
       "        ...,\n",
       "        [0],\n",
       "        [0],\n",
       "        [0]]))"
      ]
     },
     "execution_count": 27,
     "metadata": {},
     "output_type": "execute_result"
    }
   ],
   "source": [
    "ds"
   ]
  },
  {
   "cell_type": "code",
   "execution_count": null,
   "metadata": {},
   "outputs": [],
   "source": []
  }
 ],
 "metadata": {
  "kernelspec": {
   "display_name": "Python 3",
   "language": "python",
   "name": "python3"
  },
  "language_info": {
   "codemirror_mode": {
    "name": "ipython",
    "version": 3
   },
   "file_extension": ".py",
   "mimetype": "text/x-python",
   "name": "python",
   "nbconvert_exporter": "python",
   "pygments_lexer": "ipython3",
   "version": "3.8.3"
  }
 },
 "nbformat": 4,
 "nbformat_minor": 4
}
