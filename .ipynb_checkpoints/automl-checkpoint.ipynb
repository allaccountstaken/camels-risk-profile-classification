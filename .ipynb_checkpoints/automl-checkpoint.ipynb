{
 "cells": [
  {
   "cell_type": "markdown",
   "metadata": {},
   "source": [
    "# Automated ML\n",
    "\n",
    "TODO: Import Dependencies. In the cell below, import all the dependencies that you will need to complete the project."
   ]
  },
  {
   "cell_type": "code",
   "execution_count": 107,
   "metadata": {
    "gather": {
     "logged": 1616608254351
    },
    "jupyter": {
     "outputs_hidden": false,
     "source_hidden": false
    },
    "nteract": {
     "transient": {
      "deleting": false
     }
    }
   },
   "outputs": [],
   "source": [
    "#!pip install azureml-sdk==1.22.0"
   ]
  },
  {
   "cell_type": "code",
   "execution_count": 91,
   "metadata": {
    "gather": {
     "logged": 1616608775479
    },
    "jupyter": {
     "outputs_hidden": false,
     "source_hidden": false
    },
    "nteract": {
     "transient": {
      "deleting": false
     }
    }
   },
   "outputs": [
    {
     "name": "stdout",
     "output_type": "stream",
     "text": [
      "SDK version: 1.22.0\n"
     ]
    }
   ],
   "source": [
    "import logging\n",
    "import os\n",
    "import csv\n",
    "import joblib\n",
    "import json\n",
    "import requests\n",
    "import pandas as pd \n",
    "import numpy as np \n",
    "import azureml.core\n",
    "from azureml.core import Workspace, Experiment\n",
    "from azureml.train.automl import AutoMLConfig\n",
    "from azureml.core.dataset import Dataset\n",
    "from azureml.core.compute import ComputeTarget, AmlCompute\n",
    "from azureml.core.compute_target import ComputeTargetException\n",
    "from azureml.widgets import RunDetails\n",
    "from azureml.core.run import Run\n",
    "from azureml.core.model import InferenceConfig \n",
    "from azureml.core.webservice import AciWebservice, Webservice\n",
    "from azureml.core.model import Model\n",
    "from sklearn.metrics import confusion_matrix, matthews_corrcoef\n",
    "import matplotlib.pyplot as plt\n",
    "import joblib\n",
    "%matplotlib inline\n",
    "display.mpl_style ='ggplot'\n",
    "pd.set_option('use_inf_as_na', True)\n",
    "\n",
    "print(\"SDK version:\", azureml.core.VERSION)"
   ]
  },
  {
   "cell_type": "markdown",
   "metadata": {},
   "source": [
    "## Dataset\n",
    "\n",
    "### Overview\n",
    "The primary objective was to develop an early warning system, i.e. binary classification of failed ('Target'==1) vs. survived ('Target'==0), for the US banks using their quarterly filings with the regulator. Overall, 137 failed banks and 6,877 surviving banks were used in this machine learning exercise. Historical observations from the first 4 quarters ending 2010Q3 (stored in ./data) are used to tune the model and out-of-sample testing is performed on quarterly data starting from 2010Q4 (stored in ./oos). "
   ]
  },
  {
   "cell_type": "markdown",
   "metadata": {
    "nteract": {
     "transient": {
      "deleting": false
     }
    }
   },
   "source": [
    "### Setting up the project"
   ]
  },
  {
   "cell_type": "code",
   "execution_count": 9,
   "metadata": {
    "gather": {
     "logged": 1616608790416
    },
    "jupyter": {
     "outputs_hidden": false,
     "source_hidden": false
    },
    "nteract": {
     "transient": {
      "deleting": false
     }
    }
   },
   "outputs": [
    {
     "name": "stdout",
     "output_type": "stream",
     "text": [
      "Workspace name: my_ws\n",
      "Azure region: eastus\n",
      "Subscription id: 0c66ad45-500d-48af-80d3-0039ebf1975e\n",
      "Resource group: final-rgp\n"
     ]
    }
   ],
   "source": [
    "ws = Workspace.from_config()\n",
    "ws.write_config(path='.azureml')\n",
    "experiment_name = 'camels-clf'\n",
    "project_folder = './dmik'\n",
    "exp = Experiment(workspace=ws, name=experiment_name)\n",
    "#run = exp.start_logging() # added and \n",
    "\n",
    "print('Workspace name: ' + ws.name, \n",
    "      'Azure region: ' + ws.location, \n",
    "      'Subscription id: ' + ws.subscription_id, \n",
    "      'Resource group: ' + ws.resource_group, sep = '\\n')\n"
   ]
  },
  {
   "cell_type": "markdown",
   "metadata": {
    "nteract": {
     "transient": {
      "deleting": false
     }
    }
   },
   "source": [
    "### Uploading the training dataset using GUI"
   ]
  },
  {
   "cell_type": "code",
   "execution_count": 149,
   "metadata": {
    "gather": {
     "logged": 1616608795938
    },
    "jupyter": {
     "outputs_hidden": false,
     "source_hidden": false
    },
    "nteract": {
     "transient": {
      "deleting": false
     }
    }
   },
   "outputs": [
    {
     "data": {
      "text/html": [
       "<div>\n",
       "<style scoped>\n",
       "    .dataframe tbody tr th:only-of-type {\n",
       "        vertical-align: middle;\n",
       "    }\n",
       "\n",
       "    .dataframe tbody tr th {\n",
       "        vertical-align: top;\n",
       "    }\n",
       "\n",
       "    .dataframe thead th {\n",
       "        text-align: right;\n",
       "    }\n",
       "</style>\n",
       "<table border=\"1\" class=\"dataframe\">\n",
       "  <thead>\n",
       "    <tr style=\"text-align: right;\">\n",
       "      <th></th>\n",
       "      <th>Column2</th>\n",
       "      <th>Target</th>\n",
       "      <th>EQTA</th>\n",
       "      <th>EQTL</th>\n",
       "      <th>LLRTA</th>\n",
       "      <th>LLRGL</th>\n",
       "      <th>OEXTA</th>\n",
       "      <th>INCEMP</th>\n",
       "      <th>ROA</th>\n",
       "      <th>ROE</th>\n",
       "      <th>TDTL</th>\n",
       "      <th>TDTA</th>\n",
       "      <th>TATA</th>\n",
       "    </tr>\n",
       "  </thead>\n",
       "  <tbody>\n",
       "    <tr>\n",
       "      <th>0</th>\n",
       "      <td>1252</td>\n",
       "      <td>1</td>\n",
       "      <td>0.01</td>\n",
       "      <td>0.01</td>\n",
       "      <td>0.09</td>\n",
       "      <td>0.12</td>\n",
       "      <td>0.03</td>\n",
       "      <td>-593.17</td>\n",
       "      <td>-0.14</td>\n",
       "      <td>-15.77</td>\n",
       "      <td>1.23</td>\n",
       "      <td>0.98</td>\n",
       "      <td>0.11</td>\n",
       "    </tr>\n",
       "    <tr>\n",
       "      <th>1</th>\n",
       "      <td>3287</td>\n",
       "      <td>1</td>\n",
       "      <td>0.08</td>\n",
       "      <td>0.19</td>\n",
       "      <td>0.00</td>\n",
       "      <td>0.01</td>\n",
       "      <td>0.02</td>\n",
       "      <td>20.90</td>\n",
       "      <td>0.00</td>\n",
       "      <td>0.05</td>\n",
       "      <td>2.21</td>\n",
       "      <td>0.91</td>\n",
       "      <td>0.36</td>\n",
       "    </tr>\n",
       "    <tr>\n",
       "      <th>2</th>\n",
       "      <td>5672</td>\n",
       "      <td>1</td>\n",
       "      <td>0.00</td>\n",
       "      <td>0.00</td>\n",
       "      <td>0.07</td>\n",
       "      <td>0.10</td>\n",
       "      <td>0.03</td>\n",
       "      <td>-323.52</td>\n",
       "      <td>-0.06</td>\n",
       "      <td>-27.68</td>\n",
       "      <td>1.38</td>\n",
       "      <td>0.93</td>\n",
       "      <td>0.14</td>\n",
       "    </tr>\n",
       "    <tr>\n",
       "      <th>3</th>\n",
       "      <td>5702</td>\n",
       "      <td>1</td>\n",
       "      <td>0.02</td>\n",
       "      <td>0.02</td>\n",
       "      <td>0.03</td>\n",
       "      <td>0.04</td>\n",
       "      <td>0.04</td>\n",
       "      <td>-153.60</td>\n",
       "      <td>-0.05</td>\n",
       "      <td>-3.12</td>\n",
       "      <td>1.20</td>\n",
       "      <td>0.90</td>\n",
       "      <td>0.09</td>\n",
       "    </tr>\n",
       "    <tr>\n",
       "      <th>4</th>\n",
       "      <td>8221</td>\n",
       "      <td>1</td>\n",
       "      <td>0.01</td>\n",
       "      <td>0.01</td>\n",
       "      <td>0.04</td>\n",
       "      <td>0.05</td>\n",
       "      <td>0.04</td>\n",
       "      <td>-217.89</td>\n",
       "      <td>-0.07</td>\n",
       "      <td>-6.03</td>\n",
       "      <td>1.15</td>\n",
       "      <td>0.99</td>\n",
       "      <td>0.10</td>\n",
       "    </tr>\n",
       "  </tbody>\n",
       "</table>\n",
       "</div>"
      ],
      "text/plain": [
       "  Column2  Target  EQTA  EQTL  LLRTA  LLRGL  OEXTA  INCEMP   ROA    ROE  TDTL  \\\n",
       "0    1252       1  0.01  0.01   0.09   0.12   0.03 -593.17 -0.14 -15.77  1.23   \n",
       "1    3287       1  0.08  0.19   0.00   0.01   0.02   20.90  0.00   0.05  2.21   \n",
       "2    5672       1  0.00  0.00   0.07   0.10   0.03 -323.52 -0.06 -27.68  1.38   \n",
       "3    5702       1  0.02  0.02   0.03   0.04   0.04 -153.60 -0.05  -3.12  1.20   \n",
       "4    8221       1  0.01  0.01   0.04   0.05   0.04 -217.89 -0.07  -6.03  1.15   \n",
       "\n",
       "   TDTA  TATA  \n",
       "0  0.98  0.11  \n",
       "1  0.91  0.36  \n",
       "2  0.93  0.14  \n",
       "3  0.90  0.09  \n",
       "4  0.99  0.10  "
      ]
     },
     "execution_count": 149,
     "metadata": {},
     "output_type": "execute_result"
    }
   ],
   "source": [
    "dataset = ws.datasets['camels11'] \n",
    "df = dataset.to_pandas_dataframe()\n",
    "\n",
    "#len(df)\n",
    "df.head()\n",
    "#df.tail()"
   ]
  },
  {
   "cell_type": "markdown",
   "metadata": {},
   "source": [
    "### Checking for or creating appropriate `ComputeTarget`"
   ]
  },
  {
   "cell_type": "code",
   "execution_count": 11,
   "metadata": {
    "gather": {
     "logged": 1616608806079
    }
   },
   "outputs": [
    {
     "name": "stdout",
     "output_type": "stream",
     "text": [
      "Existing compute target.\n",
      "{\n",
      "  \"errors\": [],\n",
      "  \"creationTime\": \"2021-03-24T17:46:03.595148+00:00\",\n",
      "  \"createdBy\": {\n",
      "    \"userObjectId\": \"49e75006-b9ac-415c-9176-f83c59d4bf26\",\n",
      "    \"userTenantId\": \"d689239e-c492-40c6-b391-2c5951d31d14\",\n",
      "    \"userName\": null\n",
      "  },\n",
      "  \"modifiedTime\": \"2021-03-24T17:48:35.815670+00:00\",\n",
      "  \"state\": \"Running\",\n",
      "  \"vmSize\": \"STANDARD_DS2_V2\"\n",
      "}\n"
     ]
    }
   ],
   "source": [
    "cpu_cluster_name = 'my-cmp'\n",
    "\n",
    "try:\n",
    "    compute_target = ComputeTarget(workspace=ws, name=cpu_cluster_name)\n",
    "    print('Existing compute target.')\n",
    "\n",
    "except:\n",
    "    print('Creating compute target.')\n",
    "    compute_config = AmlCompute.provisioning_configuration(vm_size='STANDARD_D2_V2', max_nodes=4)\n",
    "    compute_target = ComputeTarget.create(ws, cpu_cluster_name, compute_config)\n",
    "\n",
    "print(compute_target.get_status())"
   ]
  },
  {
   "cell_type": "markdown",
   "metadata": {},
   "source": [
    "## AutoML Configuration\n",
    "### Primary metric determins configuaration\n",
    "Financial metrics recorded in the last reports of the failed banks should have predictive power that is needed to forecast future failures. Due to significant class imbalances and taking into account costs accosiated with financial distress, the model should aim to maximize the recall score. In other words, accuracy is probably not the best metrics, as Type II error needs to be minimized. This is why the main focus of this classification should be on maximizing AUC, hopefully, by achieving good recall score. This is why 'norm_macro_recall' was chosen as a primary metric. Timeout and number of concurrent iterations were set conservatively to control the costs."
   ]
  },
  {
   "cell_type": "code",
   "execution_count": 19,
   "metadata": {
    "gather": {
     "logged": 1616608814673
    }
   },
   "outputs": [],
   "source": [
    "automl_settings = {\n",
    "    \"experiment_timeout_minutes\": 20,\n",
    "    \"max_concurrent_iterations\": 4,\n",
    "    \"primary_metric\" : 'norm_macro_recall',\n",
    "    \"verbosity\": logging.INFO\n",
    "    }\n",
    "\n",
    "automl_config = AutoMLConfig(\n",
    "    compute_target=compute_target, \n",
    "    task = \"classification\",\n",
    "    training_data=dataset, \n",
    "    label_column_name=\"Target\", \n",
    "    path = project_folder,\n",
    "    enable_early_stopping= True, \n",
    "    featurization= 'auto', \n",
    "    debug_log = \"automl_errors.log\",\n",
    "    **automl_settings\n",
    "    )"
   ]
  },
  {
   "cell_type": "markdown",
   "metadata": {},
   "source": [
    "## Run Details\n",
    "\n",
    "### Possible modeling choices \n",
    "Generally speaking, decision trees should work well for this task, as these models do not make any functional form assumptions, handle both categorical and continuous data well, and are easy to interpret. Tree-based models simply aim to reduce entropy at every split and are therefore very straightforward, no need to worry about missing data and scaling. They are not very stable though, as new data may produce a totally different tree, and they also tend to overfit.\n",
    "\n",
    "Possible solution would be model averaging - employing “wisdom of the crowd”. It seems that for the present task two paths are possible: reducing variance or reducing bias. The former implies complex model, i.e. starting with a bushy, high-variance tree and resampling with replacement, what will produce a family of Random Forest models. The later implies starting with a simple model, i.e. possible a stump, high-bias classifier and learning from miss-classified instances, what will produce a family of Boosting models.\n"
   ]
  },
  {
   "cell_type": "code",
   "execution_count": 20,
   "metadata": {
    "gather": {
     "logged": 1616549581425
    },
    "jupyter": {
     "outputs_hidden": false,
     "source_hidden": false
    },
    "nteract": {
     "transient": {
      "deleting": false
     }
    }
   },
   "outputs": [
    {
     "name": "stdout",
     "output_type": "stream",
     "text": [
      "Running on remote.\n"
     ]
    },
    {
     "data": {
      "application/vnd.jupyter.widget-view+json": {
       "model_id": "462b3e31b67e420faadfa107025943ad",
       "version_major": 2,
       "version_minor": 0
      },
      "text/plain": [
       "_AutoMLWidget(widget_settings={'childWidgetDisplay': 'popup', 'send_telemetry': False, 'log_level': 'INFO', 's…"
      ]
     },
     "metadata": {},
     "output_type": "display_data"
    },
    {
     "data": {
      "application/aml.mini.widget.v1": "{\"status\": \"Completed\", \"workbench_run_details_uri\": \"https://ml.azure.com/experiments/camels-clf/runs/AutoML_9be7e20a-6720-4133-aa8c-9138c31e23cb?wsid=/subscriptions/0c66ad45-500d-48af-80d3-0039ebf1975e/resourcegroups/final-rgp/workspaces/my_ws\", \"run_id\": \"AutoML_9be7e20a-6720-4133-aa8c-9138c31e23cb\", \"run_properties\": {\"run_id\": \"AutoML_9be7e20a-6720-4133-aa8c-9138c31e23cb\", \"created_utc\": \"2021-03-25T16:46:37.574108Z\", \"properties\": {\"num_iterations\": \"1000\", \"training_type\": \"TrainFull\", \"acquisition_function\": \"EI\", \"primary_metric\": \"norm_macro_recall\", \"train_split\": \"0\", \"acquisition_parameter\": \"0\", \"num_cross_validation\": null, \"target\": \"my-cmp\", \"AMLSettingsJsonString\": \"{\\\"path\\\":null,\\\"name\\\":\\\"camels-clf\\\",\\\"subscription_id\\\":\\\"0c66ad45-500d-48af-80d3-0039ebf1975e\\\",\\\"resource_group\\\":\\\"final-rgp\\\",\\\"workspace_name\\\":\\\"my_ws\\\",\\\"region\\\":\\\"eastus\\\",\\\"compute_target\\\":\\\"my-cmp\\\",\\\"spark_service\\\":null,\\\"azure_service\\\":\\\"remote\\\",\\\"many_models\\\":false,\\\"pipeline_fetch_max_batch_size\\\":1,\\\"iterations\\\":1000,\\\"primary_metric\\\":\\\"norm_macro_recall\\\",\\\"task_type\\\":\\\"classification\\\",\\\"data_script\\\":null,\\\"validation_size\\\":0.0,\\\"n_cross_validations\\\":null,\\\"y_min\\\":null,\\\"y_max\\\":null,\\\"num_classes\\\":null,\\\"featurization\\\":\\\"auto\\\",\\\"_ignore_package_version_incompatibilities\\\":false,\\\"is_timeseries\\\":false,\\\"max_cores_per_iteration\\\":1,\\\"max_concurrent_iterations\\\":4,\\\"iteration_timeout_minutes\\\":null,\\\"mem_in_mb\\\":null,\\\"enforce_time_on_windows\\\":false,\\\"experiment_timeout_minutes\\\":20,\\\"experiment_exit_score\\\":null,\\\"whitelist_models\\\":null,\\\"blacklist_algos\\\":[\\\"TensorFlowLinearClassifier\\\",\\\"TensorFlowDNN\\\"],\\\"supported_models\\\":[\\\"BernoulliNaiveBayes\\\",\\\"XGBoostClassifier\\\",\\\"KNN\\\",\\\"TensorFlowLinearClassifier\\\",\\\"RandomForest\\\",\\\"SGD\\\",\\\"DecisionTree\\\",\\\"SVM\\\",\\\"LinearSVM\\\",\\\"LightGBM\\\",\\\"GradientBoosting\\\",\\\"MultinomialNaiveBayes\\\",\\\"TensorFlowDNN\\\",\\\"LogisticRegression\\\",\\\"ExtremeRandomTrees\\\",\\\"AveragedPerceptronClassifier\\\"],\\\"private_models\\\":[],\\\"auto_blacklist\\\":true,\\\"blacklist_samples_reached\\\":false,\\\"exclude_nan_labels\\\":true,\\\"verbosity\\\":20,\\\"_debug_log\\\":\\\"azureml_automl.log\\\",\\\"show_warnings\\\":false,\\\"model_explainability\\\":true,\\\"service_url\\\":null,\\\"sdk_url\\\":null,\\\"sdk_packages\\\":null,\\\"enable_onnx_compatible_models\\\":false,\\\"enable_split_onnx_featurizer_estimator_models\\\":false,\\\"vm_type\\\":\\\"STANDARD_DS2_V2\\\",\\\"telemetry_verbosity\\\":20,\\\"send_telemetry\\\":true,\\\"enable_dnn\\\":false,\\\"scenario\\\":\\\"SDK-1.13.0\\\",\\\"environment_label\\\":null,\\\"force_text_dnn\\\":false,\\\"enable_feature_sweeping\\\":true,\\\"enable_early_stopping\\\":true,\\\"early_stopping_n_iters\\\":10,\\\"metrics\\\":null,\\\"enable_ensembling\\\":true,\\\"enable_stack_ensembling\\\":true,\\\"ensemble_iterations\\\":15,\\\"enable_tf\\\":false,\\\"enable_subsampling\\\":null,\\\"subsample_seed\\\":null,\\\"enable_nimbusml\\\":false,\\\"enable_streaming\\\":false,\\\"force_streaming\\\":false,\\\"track_child_runs\\\":true,\\\"allowed_private_models\\\":[],\\\"label_column_name\\\":\\\"Target\\\",\\\"weight_column_name\\\":null,\\\"cv_split_column_names\\\":null,\\\"enable_local_managed\\\":false,\\\"_local_managed_run_id\\\":null,\\\"cost_mode\\\":1,\\\"lag_length\\\":0,\\\"metric_operation\\\":\\\"maximize\\\",\\\"preprocess\\\":true}\", \"DataPrepJsonString\": \"{\\\\\\\"training_data\\\\\\\": \\\\\\\"{\\\\\\\\\\\\\\\"blocks\\\\\\\\\\\\\\\": [{\\\\\\\\\\\\\\\"id\\\\\\\\\\\\\\\": \\\\\\\\\\\\\\\"bcdc347c-ef75-463f-be0e-c354bd11bf95\\\\\\\\\\\\\\\", \\\\\\\\\\\\\\\"type\\\\\\\\\\\\\\\": \\\\\\\\\\\\\\\"Microsoft.DPrep.GetDatastoreFilesBlock\\\\\\\\\\\\\\\", \\\\\\\\\\\\\\\"arguments\\\\\\\\\\\\\\\": {\\\\\\\\\\\\\\\"datastores\\\\\\\\\\\\\\\": [{\\\\\\\\\\\\\\\"datastoreName\\\\\\\\\\\\\\\": \\\\\\\\\\\\\\\"workspaceblobstore\\\\\\\\\\\\\\\", \\\\\\\\\\\\\\\"path\\\\\\\\\\\\\\\": \\\\\\\\\\\\\\\"UI/03-25-2021_024354_UTC/camel_data_after2010Q3.csv\\\\\\\\\\\\\\\", \\\\\\\\\\\\\\\"resourceGroup\\\\\\\\\\\\\\\": \\\\\\\\\\\\\\\"final-rgp\\\\\\\\\\\\\\\", \\\\\\\\\\\\\\\"subscription\\\\\\\\\\\\\\\": \\\\\\\\\\\\\\\"0c66ad45-500d-48af-80d3-0039ebf1975e\\\\\\\\\\\\\\\", \\\\\\\\\\\\\\\"workspaceName\\\\\\\\\\\\\\\": \\\\\\\\\\\\\\\"my_ws\\\\\\\\\\\\\\\"}]}, \\\\\\\\\\\\\\\"localData\\\\\\\\\\\\\\\": {}, \\\\\\\\\\\\\\\"isEnabled\\\\\\\\\\\\\\\": true, \\\\\\\\\\\\\\\"name\\\\\\\\\\\\\\\": null, \\\\\\\\\\\\\\\"annotation\\\\\\\\\\\\\\\": null}, {\\\\\\\\\\\\\\\"id\\\\\\\\\\\\\\\": \\\\\\\\\\\\\\\"811e5c70-3487-455a-a876-cd318f5900c8\\\\\\\\\\\\\\\", \\\\\\\\\\\\\\\"type\\\\\\\\\\\\\\\": \\\\\\\\\\\\\\\"Microsoft.DPrep.ParseDelimitedBlock\\\\\\\\\\\\\\\", \\\\\\\\\\\\\\\"arguments\\\\\\\\\\\\\\\": {\\\\\\\\\\\\\\\"columnHeadersMode\\\\\\\\\\\\\\\": 1, \\\\\\\\\\\\\\\"fileEncoding\\\\\\\\\\\\\\\": 0, \\\\\\\\\\\\\\\"handleQuotedLineBreaks\\\\\\\\\\\\\\\": false, \\\\\\\\\\\\\\\"preview\\\\\\\\\\\\\\\": false, \\\\\\\\\\\\\\\"separator\\\\\\\\\\\\\\\": \\\\\\\\\\\\\\\",\\\\\\\\\\\\\\\", \\\\\\\\\\\\\\\"skipRows\\\\\\\\\\\\\\\": 0, \\\\\\\\\\\\\\\"skipRowsMode\\\\\\\\\\\\\\\": 0}, \\\\\\\\\\\\\\\"localData\\\\\\\\\\\\\\\": {}, \\\\\\\\\\\\\\\"isEnabled\\\\\\\\\\\\\\\": true, \\\\\\\\\\\\\\\"name\\\\\\\\\\\\\\\": null, \\\\\\\\\\\\\\\"annotation\\\\\\\\\\\\\\\": null}, {\\\\\\\\\\\\\\\"id\\\\\\\\\\\\\\\": \\\\\\\\\\\\\\\"559fbcda-c73b-48ad-912e-398acc9b75ed\\\\\\\\\\\\\\\", \\\\\\\\\\\\\\\"type\\\\\\\\\\\\\\\": \\\\\\\\\\\\\\\"Microsoft.DPrep.DropColumnsBlock\\\\\\\\\\\\\\\", \\\\\\\\\\\\\\\"arguments\\\\\\\\\\\\\\\": {\\\\\\\\\\\\\\\"columns\\\\\\\\\\\\\\\": {\\\\\\\\\\\\\\\"type\\\\\\\\\\\\\\\": 0, \\\\\\\\\\\\\\\"details\\\\\\\\\\\\\\\": {\\\\\\\\\\\\\\\"selectedColumns\\\\\\\\\\\\\\\": [\\\\\\\\\\\\\\\"Path\\\\\\\\\\\\\\\", \\\\\\\\\\\\\\\"AsOfDate\\\\\\\\\\\\\\\", \\\\\\\\\\\\\\\"Column1\\\\\\\\\\\\\\\"]}}}, \\\\\\\\\\\\\\\"localData\\\\\\\\\\\\\\\": {}, \\\\\\\\\\\\\\\"isEnabled\\\\\\\\\\\\\\\": true, \\\\\\\\\\\\\\\"name\\\\\\\\\\\\\\\": null, \\\\\\\\\\\\\\\"annotation\\\\\\\\\\\\\\\": null}, {\\\\\\\\\\\\\\\"id\\\\\\\\\\\\\\\": \\\\\\\\\\\\\\\"bac16c17-8f06-4784-aaf6-b0f52ace6e91\\\\\\\\\\\\\\\", \\\\\\\\\\\\\\\"type\\\\\\\\\\\\\\\": \\\\\\\\\\\\\\\"Microsoft.DPrep.SetColumnTypesBlock\\\\\\\\\\\\\\\", \\\\\\\\\\\\\\\"arguments\\\\\\\\\\\\\\\": {\\\\\\\\\\\\\\\"columnConversion\\\\\\\\\\\\\\\": [{\\\\\\\\\\\\\\\"column\\\\\\\\\\\\\\\": {\\\\\\\\\\\\\\\"type\\\\\\\\\\\\\\\": 2, \\\\\\\\\\\\\\\"details\\\\\\\\\\\\\\\": {\\\\\\\\\\\\\\\"selectedColumn\\\\\\\\\\\\\\\": \\\\\\\\\\\\\\\"Path\\\\\\\\\\\\\\\"}}, \\\\\\\\\\\\\\\"typeProperty\\\\\\\\\\\\\\\": 0}, {\\\\\\\\\\\\\\\"column\\\\\\\\\\\\\\\": {\\\\\\\\\\\\\\\"type\\\\\\\\\\\\\\\": 2, \\\\\\\\\\\\\\\"details\\\\\\\\\\\\\\\": {\\\\\\\\\\\\\\\"selectedColumn\\\\\\\\\\\\\\\": \\\\\\\\\\\\\\\"Column1\\\\\\\\\\\\\\\"}}, \\\\\\\\\\\\\\\"typeProperty\\\\\\\\\\\\\\\": 2}, {\\\\\\\\\\\\\\\"column\\\\\\\\\\\\\\\": {\\\\\\\\\\\\\\\"type\\\\\\\\\\\\\\\": 2, \\\\\\\\\\\\\\\"details\\\\\\\\\\\\\\\": {\\\\\\\\\\\\\\\"selectedColumn\\\\\\\\\\\\\\\": \\\\\\\\\\\\\\\"AsOfDate\\\\\\\\\\\\\\\"}}, \\\\\\\\\\\\\\\"typeArguments\\\\\\\\\\\\\\\": {\\\\\\\\\\\\\\\"dateTimeFormats\\\\\\\\\\\\\\\": [\\\\\\\\\\\\\\\"%m/%d/%Y\\\\\\\\\\\\\\\"]}, \\\\\\\\\\\\\\\"typeProperty\\\\\\\\\\\\\\\": 4}, {\\\\\\\\\\\\\\\"column\\\\\\\\\\\\\\\": {\\\\\\\\\\\\\\\"type\\\\\\\\\\\\\\\": 2, \\\\\\\\\\\\\\\"details\\\\\\\\\\\\\\\": {\\\\\\\\\\\\\\\"selectedColumn\\\\\\\\\\\\\\\": \\\\\\\\\\\\\\\"Target\\\\\\\\\\\\\\\"}}, \\\\\\\\\\\\\\\"typeProperty\\\\\\\\\\\\\\\": 2}, {\\\\\\\\\\\\\\\"column\\\\\\\\\\\\\\\": {\\\\\\\\\\\\\\\"type\\\\\\\\\\\\\\\": 2, \\\\\\\\\\\\\\\"details\\\\\\\\\\\\\\\": {\\\\\\\\\\\\\\\"selectedColumn\\\\\\\\\\\\\\\": \\\\\\\\\\\\\\\"EQTA\\\\\\\\\\\\\\\"}}, \\\\\\\\\\\\\\\"typeProperty\\\\\\\\\\\\\\\": 3}, {\\\\\\\\\\\\\\\"column\\\\\\\\\\\\\\\": {\\\\\\\\\\\\\\\"type\\\\\\\\\\\\\\\": 2, \\\\\\\\\\\\\\\"details\\\\\\\\\\\\\\\": {\\\\\\\\\\\\\\\"selectedColumn\\\\\\\\\\\\\\\": \\\\\\\\\\\\\\\"EQTL\\\\\\\\\\\\\\\"}}, \\\\\\\\\\\\\\\"typeProperty\\\\\\\\\\\\\\\": 3}, {\\\\\\\\\\\\\\\"column\\\\\\\\\\\\\\\": {\\\\\\\\\\\\\\\"type\\\\\\\\\\\\\\\": 2, \\\\\\\\\\\\\\\"details\\\\\\\\\\\\\\\": {\\\\\\\\\\\\\\\"selectedColumn\\\\\\\\\\\\\\\": \\\\\\\\\\\\\\\"LLRTA\\\\\\\\\\\\\\\"}}, \\\\\\\\\\\\\\\"typeProperty\\\\\\\\\\\\\\\": 3}, {\\\\\\\\\\\\\\\"column\\\\\\\\\\\\\\\": {\\\\\\\\\\\\\\\"type\\\\\\\\\\\\\\\": 2, \\\\\\\\\\\\\\\"details\\\\\\\\\\\\\\\": {\\\\\\\\\\\\\\\"selectedColumn\\\\\\\\\\\\\\\": \\\\\\\\\\\\\\\"LLRGL\\\\\\\\\\\\\\\"}}, \\\\\\\\\\\\\\\"typeProperty\\\\\\\\\\\\\\\": 3}, {\\\\\\\\\\\\\\\"column\\\\\\\\\\\\\\\": {\\\\\\\\\\\\\\\"type\\\\\\\\\\\\\\\": 2, \\\\\\\\\\\\\\\"details\\\\\\\\\\\\\\\": {\\\\\\\\\\\\\\\"selectedColumn\\\\\\\\\\\\\\\": \\\\\\\\\\\\\\\"OEXTA\\\\\\\\\\\\\\\"}}, \\\\\\\\\\\\\\\"typeProperty\\\\\\\\\\\\\\\": 3}, {\\\\\\\\\\\\\\\"column\\\\\\\\\\\\\\\": {\\\\\\\\\\\\\\\"type\\\\\\\\\\\\\\\": 2, \\\\\\\\\\\\\\\"details\\\\\\\\\\\\\\\": {\\\\\\\\\\\\\\\"selectedColumn\\\\\\\\\\\\\\\": \\\\\\\\\\\\\\\"INCEMP\\\\\\\\\\\\\\\"}}, \\\\\\\\\\\\\\\"typeProperty\\\\\\\\\\\\\\\": 3}, {\\\\\\\\\\\\\\\"column\\\\\\\\\\\\\\\": {\\\\\\\\\\\\\\\"type\\\\\\\\\\\\\\\": 2, \\\\\\\\\\\\\\\"details\\\\\\\\\\\\\\\": {\\\\\\\\\\\\\\\"selectedColumn\\\\\\\\\\\\\\\": \\\\\\\\\\\\\\\"ROA\\\\\\\\\\\\\\\"}}, \\\\\\\\\\\\\\\"typeProperty\\\\\\\\\\\\\\\": 3}, {\\\\\\\\\\\\\\\"column\\\\\\\\\\\\\\\": {\\\\\\\\\\\\\\\"type\\\\\\\\\\\\\\\": 2, \\\\\\\\\\\\\\\"details\\\\\\\\\\\\\\\": {\\\\\\\\\\\\\\\"selectedColumn\\\\\\\\\\\\\\\": \\\\\\\\\\\\\\\"ROE\\\\\\\\\\\\\\\"}}, \\\\\\\\\\\\\\\"typeProperty\\\\\\\\\\\\\\\": 3}, {\\\\\\\\\\\\\\\"column\\\\\\\\\\\\\\\": {\\\\\\\\\\\\\\\"type\\\\\\\\\\\\\\\": 2, \\\\\\\\\\\\\\\"details\\\\\\\\\\\\\\\": {\\\\\\\\\\\\\\\"selectedColumn\\\\\\\\\\\\\\\": \\\\\\\\\\\\\\\"TDTL\\\\\\\\\\\\\\\"}}, \\\\\\\\\\\\\\\"typeProperty\\\\\\\\\\\\\\\": 3}, {\\\\\\\\\\\\\\\"column\\\\\\\\\\\\\\\": {\\\\\\\\\\\\\\\"type\\\\\\\\\\\\\\\": 2, \\\\\\\\\\\\\\\"details\\\\\\\\\\\\\\\": {\\\\\\\\\\\\\\\"selectedColumn\\\\\\\\\\\\\\\": \\\\\\\\\\\\\\\"TDTA\\\\\\\\\\\\\\\"}}, \\\\\\\\\\\\\\\"typeProperty\\\\\\\\\\\\\\\": 3}, {\\\\\\\\\\\\\\\"column\\\\\\\\\\\\\\\": {\\\\\\\\\\\\\\\"type\\\\\\\\\\\\\\\": 2, \\\\\\\\\\\\\\\"details\\\\\\\\\\\\\\\": {\\\\\\\\\\\\\\\"selectedColumn\\\\\\\\\\\\\\\": \\\\\\\\\\\\\\\"TATA\\\\\\\\\\\\\\\"}}, \\\\\\\\\\\\\\\"typeProperty\\\\\\\\\\\\\\\": 3}]}, \\\\\\\\\\\\\\\"localData\\\\\\\\\\\\\\\": {}, \\\\\\\\\\\\\\\"isEnabled\\\\\\\\\\\\\\\": true, \\\\\\\\\\\\\\\"name\\\\\\\\\\\\\\\": null, \\\\\\\\\\\\\\\"annotation\\\\\\\\\\\\\\\": null}], \\\\\\\\\\\\\\\"inspectors\\\\\\\\\\\\\\\": [], \\\\\\\\\\\\\\\"meta\\\\\\\\\\\\\\\": {\\\\\\\\\\\\\\\"savedDatasetId\\\\\\\\\\\\\\\": \\\\\\\\\\\\\\\"5b8de62c-4927-494e-b241-d41208da132a\\\\\\\\\\\\\\\", \\\\\\\\\\\\\\\"datasetType\\\\\\\\\\\\\\\": \\\\\\\\\\\\\\\"tabular\\\\\\\\\\\\\\\", \\\\\\\\\\\\\\\"subscriptionId\\\\\\\\\\\\\\\": \\\\\\\\\\\\\\\"0c66ad45-500d-48af-80d3-0039ebf1975e\\\\\\\\\\\\\\\", \\\\\\\\\\\\\\\"workspaceId\\\\\\\\\\\\\\\": \\\\\\\\\\\\\\\"76a84e9f-15e6-4c3b-a3d4-64fa11fb217b\\\\\\\\\\\\\\\", \\\\\\\\\\\\\\\"workspaceLocation\\\\\\\\\\\\\\\": \\\\\\\\\\\\\\\"eastus\\\\\\\\\\\\\\\"}}\\\\\\\", \\\\\\\"activities\\\\\\\": 0}\", \"EnableSubsampling\": null, \"runTemplate\": \"AutoML\", \"azureml.runsource\": \"automl\", \"display_task_type\": \"classification\", \"dependencies_versions\": \"{\\\"azureml-widgets\\\": \\\"1.22.0\\\", \\\"azureml-train\\\": \\\"1.22.0\\\", \\\"azureml-train-restclients-hyperdrive\\\": \\\"1.22.0\\\", \\\"azureml-train-core\\\": \\\"1.22.0\\\", \\\"azureml-train-automl\\\": \\\"1.22.0\\\", \\\"azureml-train-automl-runtime\\\": \\\"1.22.0\\\", \\\"azureml-train-automl-client\\\": \\\"1.22.0.post1\\\", \\\"azureml-tensorboard\\\": \\\"1.22.0\\\", \\\"azureml-telemetry\\\": \\\"1.22.0\\\", \\\"azureml-sdk\\\": \\\"1.22.0\\\", \\\"azureml-samples\\\": \\\"0+unknown\\\", \\\"azureml-pipeline\\\": \\\"1.22.0\\\", \\\"azureml-pipeline-steps\\\": \\\"1.22.0\\\", \\\"azureml-pipeline-core\\\": \\\"1.22.0\\\", \\\"azureml-opendatasets\\\": \\\"1.22.0\\\", \\\"azureml-model-management-sdk\\\": \\\"1.0.1b6.post1\\\", \\\"azureml-mlflow\\\": \\\"1.22.0\\\", \\\"azureml-interpret\\\": \\\"1.22.0\\\", \\\"azureml-explain-model\\\": \\\"1.22.0\\\", \\\"azureml-defaults\\\": \\\"1.22.0\\\", \\\"azureml-dataset-runtime\\\": \\\"1.22.0\\\", \\\"azureml-dataprep\\\": \\\"2.9.1\\\", \\\"azureml-dataprep-rslex\\\": \\\"1.7.0\\\", \\\"azureml-dataprep-native\\\": \\\"29.0.0\\\", \\\"azureml-datadrift\\\": \\\"1.22.0\\\", \\\"azureml-core\\\": \\\"1.22.0\\\", \\\"azureml-contrib-services\\\": \\\"1.22.0\\\", \\\"azureml-contrib-server\\\": \\\"1.22.0\\\", \\\"azureml-contrib-reinforcementlearning\\\": \\\"1.22.0\\\", \\\"azureml-contrib-pipeline-steps\\\": \\\"1.22.0\\\", \\\"azureml-contrib-notebook\\\": \\\"1.22.0\\\", \\\"azureml-contrib-interpret\\\": \\\"1.22.0\\\", \\\"azureml-contrib-gbdt\\\": \\\"1.22.0\\\", \\\"azureml-contrib-fairness\\\": \\\"1.22.0\\\", \\\"azureml-contrib-dataset\\\": \\\"1.22.0\\\", \\\"azureml-cli-common\\\": \\\"1.22.0\\\", \\\"azureml-automl-runtime\\\": \\\"1.22.0\\\", \\\"azureml-automl-core\\\": \\\"1.22.0\\\", \\\"azureml-accel-models\\\": \\\"1.22.0\\\"}\", \"_aml_system_scenario_identification\": \"Remote.Parent\", \"ClientType\": \"SDK\", \"environment_cpu_name\": \"AzureML-AutoML\", \"environment_cpu_label\": \"prod\", \"environment_gpu_name\": \"AzureML-AutoML-GPU\", \"environment_gpu_label\": \"prod\", \"root_attribution\": \"automl\", \"attribution\": \"AutoML\", \"Orchestrator\": \"AutoML\", \"CancelUri\": \"https://eastus.experiments.azureml.net/jasmine/v1.0/subscriptions/0c66ad45-500d-48af-80d3-0039ebf1975e/resourceGroups/final-rgp/providers/Microsoft.MachineLearningServices/workspaces/my_ws/experimentids/7ef4db68-2cc8-4556-b9f5-a0915e73df6e/cancel/AutoML_9be7e20a-6720-4133-aa8c-9138c31e23cb\", \"ClientSdkVersion\": \"1.24.0\", \"snapshotId\": \"00000000-0000-0000-0000-000000000000\", \"SetupRunId\": \"AutoML_9be7e20a-6720-4133-aa8c-9138c31e23cb_setup\", \"SetupRunContainerId\": \"dcid.AutoML_9be7e20a-6720-4133-aa8c-9138c31e23cb_setup\", \"FeaturizationRunJsonPath\": \"featurizer_container.json\", \"FeaturizationRunId\": \"AutoML_9be7e20a-6720-4133-aa8c-9138c31e23cb_featurize\", \"ProblemInfoJsonString\": \"{\\\"dataset_num_categorical\\\": 0, \\\"is_sparse\\\": false, \\\"subsampling\\\": false, \\\"dataset_classes\\\": 2, \\\"dataset_features\\\": 11, \\\"dataset_samples\\\": 7020, \\\"single_frequency_class_detected\\\": false}\", \"ModelExplainRunId\": \"AutoML_9be7e20a-6720-4133-aa8c-9138c31e23cb_ModelExplain\"}, \"tags\": {\"model_explain_run\": \"best_run\", \"_aml_system_azureml.automlComponent\": \"AutoML\", \"pipeline_id\": \"\", \"score\": \"\", \"predicted_cost\": \"\", \"fit_time\": \"\", \"training_percent\": \"\", \"iteration\": \"\", \"run_preprocessor\": \"\", \"run_algorithm\": \"\", \"dynamic_whitelisting_iterations\": \"<25>;<30>;<35>;<40>;<45>;\", \"automl_best_child_run_id\": \"AutoML_9be7e20a-6720-4133-aa8c-9138c31e23cb_46\", \"model_explain_best_run_child_id\": \"AutoML_9be7e20a-6720-4133-aa8c-9138c31e23cb_46\"}, \"end_time_utc\": \"2021-03-25T17:09:25.654565Z\", \"status\": \"Completed\", \"log_files\": {}, \"log_groups\": [], \"run_duration\": \"0:22:48\", \"run_number\": \"49\", \"run_queued_details\": {\"status\": \"Completed\", \"details\": null}}, \"child_runs\": [{\"run_id\": \"AutoML_9be7e20a-6720-4133-aa8c-9138c31e23cb_1\", \"run_number\": 53, \"metric\": null, \"status\": \"Completed\", \"run_type\": \"azureml.scriptrun\", \"training_percent\": \"100\", \"start_time\": \"2021-03-25T16:50:32.588424Z\", \"end_time\": \"2021-03-25T16:51:44.030497Z\", \"created_time\": \"2021-03-25T16:50:14.585814Z\", \"created_time_dt\": \"2021-03-25T16:50:14.585814Z\", \"duration\": \"0:01:29\", \"iteration\": \"1\", \"goal\": \"norm_macro_recall_max\", \"run_name\": \"MaxAbsScaler, XGBoostClassifier\", \"run_properties\": \"copy=True\", \"primary_metric\": 0.67745474, \"best_metric\": 0.67745474}, {\"run_id\": \"AutoML_9be7e20a-6720-4133-aa8c-9138c31e23cb_3\", \"run_number\": 54, \"metric\": null, \"status\": \"Completed\", \"run_type\": \"azureml.scriptrun\", \"training_percent\": \"100\", \"start_time\": \"2021-03-25T16:50:33.012747Z\", \"end_time\": \"2021-03-25T16:51:33.130434Z\", \"created_time\": \"2021-03-25T16:50:14.607397Z\", \"created_time_dt\": \"2021-03-25T16:50:14.607397Z\", \"duration\": \"0:01:18\", \"iteration\": \"3\", \"goal\": \"norm_macro_recall_max\", \"run_name\": \"MinMaxScaler, RandomForest\", \"run_properties\": \"copy=True, feature_range=(0, 1\", \"primary_metric\": 0.55920483, \"best_metric\": 0.92214262}, {\"run_id\": \"AutoML_9be7e20a-6720-4133-aa8c-9138c31e23cb_0\", \"run_number\": 55, \"metric\": null, \"status\": \"Completed\", \"run_type\": \"azureml.scriptrun\", \"training_percent\": \"100\", \"start_time\": \"2021-03-25T16:50:34.379108Z\", \"end_time\": \"2021-03-25T16:51:38.652772Z\", \"created_time\": \"2021-03-25T16:50:14.856114Z\", \"created_time_dt\": \"2021-03-25T16:50:14.856114Z\", \"duration\": \"0:01:23\", \"iteration\": \"0\", \"goal\": \"norm_macro_recall_max\", \"run_name\": \"MaxAbsScaler, LightGBM\", \"run_properties\": \"copy=True\", \"primary_metric\": 0.56279309, \"best_metric\": 0.56279309}, {\"run_id\": \"AutoML_9be7e20a-6720-4133-aa8c-9138c31e23cb_2\", \"run_number\": 56, \"metric\": null, \"status\": \"Completed\", \"run_type\": \"azureml.scriptrun\", \"training_percent\": \"100\", \"start_time\": \"2021-03-25T16:50:35.126962Z\", \"end_time\": \"2021-03-25T16:51:46.119967Z\", \"created_time\": \"2021-03-25T16:50:14.589781Z\", \"created_time_dt\": \"2021-03-25T16:50:14.589781Z\", \"duration\": \"0:01:31\", \"iteration\": \"2\", \"goal\": \"norm_macro_recall_max\", \"run_name\": \"MinMaxScaler, RandomForest\", \"run_properties\": \"copy=True, feature_range=(0, 1\", \"primary_metric\": 0.92214262, \"best_metric\": 0.92214262}, {\"run_id\": \"AutoML_9be7e20a-6720-4133-aa8c-9138c31e23cb_4\", \"run_number\": 57, \"metric\": null, \"status\": \"Completed\", \"run_type\": \"azureml.scriptrun\", \"training_percent\": \"100\", \"start_time\": \"2021-03-25T16:51:51.829895Z\", \"end_time\": \"2021-03-25T16:52:54.676967Z\", \"created_time\": \"2021-03-25T16:51:38.039302Z\", \"created_time_dt\": \"2021-03-25T16:51:38.039302Z\", \"duration\": \"0:01:16\", \"iteration\": \"4\", \"goal\": \"norm_macro_recall_max\", \"run_name\": \"StandardScalerWrapper, RandomForest\", \"run_properties\": \"<azureml.automl.runtime.shared.model_wrappers.StandardScalerWrapper object at 0x7f0b91cafc18\", \"primary_metric\": 0.93172907, \"best_metric\": 0.93172907}, {\"run_id\": \"AutoML_9be7e20a-6720-4133-aa8c-9138c31e23cb_5\", \"run_number\": 58, \"metric\": null, \"status\": \"Completed\", \"run_type\": \"azureml.scriptrun\", \"training_percent\": \"100\", \"start_time\": \"2021-03-25T16:52:00.893335Z\", \"end_time\": \"2021-03-25T16:52:57.04382Z\", \"created_time\": \"2021-03-25T16:51:48.563681Z\", \"created_time_dt\": \"2021-03-25T16:51:48.563681Z\", \"duration\": \"0:01:08\", \"iteration\": \"5\", \"goal\": \"norm_macro_recall_max\", \"run_name\": \"StandardScalerWrapper, RandomForest\", \"run_properties\": \"<azureml.automl.runtime.shared.model_wrappers.StandardScalerWrapper object at 0x7f0afc3204a8\", \"primary_metric\": 0.66556235, \"best_metric\": 0.93172907}, {\"run_id\": \"AutoML_9be7e20a-6720-4133-aa8c-9138c31e23cb_6\", \"run_number\": 59, \"metric\": null, \"status\": \"Completed\", \"run_type\": \"azureml.scriptrun\", \"training_percent\": \"100\", \"start_time\": \"2021-03-25T16:52:01.720219Z\", \"end_time\": \"2021-03-25T16:52:54.883329Z\", \"created_time\": \"2021-03-25T16:51:48.598082Z\", \"created_time_dt\": \"2021-03-25T16:51:48.598082Z\", \"duration\": \"0:01:06\", \"iteration\": \"6\", \"goal\": \"norm_macro_recall_max\", \"run_name\": \"MinMaxScaler, ExtremeRandomTrees\", \"run_properties\": \"copy=True, feature_range=(0, 1\", \"primary_metric\": 0.83579147, \"best_metric\": 0.93172907}, {\"run_id\": \"AutoML_9be7e20a-6720-4133-aa8c-9138c31e23cb_7\", \"run_number\": 60, \"metric\": null, \"status\": \"Completed\", \"run_type\": \"azureml.scriptrun\", \"training_percent\": \"100\", \"start_time\": \"2021-03-25T16:52:19.412616Z\", \"end_time\": \"2021-03-25T16:53:40.212311Z\", \"created_time\": \"2021-03-25T16:51:58.543263Z\", \"created_time_dt\": \"2021-03-25T16:51:58.543263Z\", \"duration\": \"0:01:41\", \"iteration\": \"7\", \"goal\": \"norm_macro_recall_max\", \"run_name\": \"MinMaxScaler, RandomForest\", \"run_properties\": \"copy=True, feature_range=(0, 1\", \"primary_metric\": 0.0, \"best_metric\": 0.93172907}, {\"run_id\": \"AutoML_9be7e20a-6720-4133-aa8c-9138c31e23cb_8\", \"run_number\": 61, \"metric\": null, \"status\": \"Completed\", \"run_type\": \"azureml.scriptrun\", \"training_percent\": \"100\", \"start_time\": \"2021-03-25T16:53:11.421067Z\", \"end_time\": \"2021-03-25T16:54:13.066179Z\", \"created_time\": \"2021-03-25T16:52:58.378913Z\", \"created_time_dt\": \"2021-03-25T16:52:58.378913Z\", \"duration\": \"0:01:14\", \"iteration\": \"8\", \"goal\": \"norm_macro_recall_max\", \"run_name\": \"MinMaxScaler, ExtremeRandomTrees\", \"run_properties\": \"copy=True, feature_range=(0, 1\", \"primary_metric\": 0.0, \"best_metric\": 0.93172907}, {\"run_id\": \"AutoML_9be7e20a-6720-4133-aa8c-9138c31e23cb_9\", \"run_number\": 62, \"metric\": null, \"status\": \"Completed\", \"run_type\": \"azureml.scriptrun\", \"training_percent\": \"100\", \"start_time\": \"2021-03-25T16:53:09.99745Z\", \"end_time\": \"2021-03-25T16:54:03.098942Z\", \"created_time\": \"2021-03-25T16:52:58.48339Z\", \"created_time_dt\": \"2021-03-25T16:52:58.48339Z\", \"duration\": \"0:01:04\", \"iteration\": \"9\", \"goal\": \"norm_macro_recall_max\", \"run_name\": \"RobustScaler, ExtremeRandomTrees\", \"run_properties\": \"copy=True, quantile_range=[10, 90], with_centering=False,\\n             with_scaling=False\", \"primary_metric\": 0.0, \"best_metric\": 0.93172907}, {\"run_id\": \"AutoML_9be7e20a-6720-4133-aa8c-9138c31e23cb_10\", \"run_number\": 63, \"metric\": null, \"status\": \"Completed\", \"run_type\": \"azureml.scriptrun\", \"training_percent\": \"100\", \"start_time\": \"2021-03-25T16:53:15.380886Z\", \"end_time\": \"2021-03-25T16:54:12.155909Z\", \"created_time\": \"2021-03-25T16:53:04.130581Z\", \"created_time_dt\": \"2021-03-25T16:53:04.130581Z\", \"duration\": \"0:01:08\", \"iteration\": \"10\", \"goal\": \"norm_macro_recall_max\", \"run_name\": \"MinMaxScaler, ExtremeRandomTrees\", \"run_properties\": \"copy=True, feature_range=(0, 1\", \"primary_metric\": 0.0, \"best_metric\": 0.93172907}, {\"run_id\": \"AutoML_9be7e20a-6720-4133-aa8c-9138c31e23cb_11\", \"run_number\": 64, \"metric\": null, \"status\": \"Completed\", \"run_type\": \"azureml.scriptrun\", \"training_percent\": \"100\", \"start_time\": \"2021-03-25T16:53:57.834992Z\", \"end_time\": \"2021-03-25T16:54:48.925025Z\", \"created_time\": \"2021-03-25T16:53:43.64859Z\", \"created_time_dt\": \"2021-03-25T16:53:43.64859Z\", \"duration\": \"0:01:05\", \"iteration\": \"11\", \"goal\": \"norm_macro_recall_max\", \"run_name\": \"RobustScaler, ExtremeRandomTrees\", \"run_properties\": \"copy=True, quantile_range=[10, 90], with_centering=True,\\n             with_scaling=False\", \"primary_metric\": 0.0, \"best_metric\": 0.93172907}, {\"run_id\": \"AutoML_9be7e20a-6720-4133-aa8c-9138c31e23cb_12\", \"run_number\": 65, \"metric\": null, \"status\": \"Completed\", \"run_type\": \"azureml.scriptrun\", \"training_percent\": \"100\", \"start_time\": \"2021-03-25T16:54:18.868811Z\", \"end_time\": \"2021-03-25T16:55:14.19134Z\", \"created_time\": \"2021-03-25T16:54:06.979867Z\", \"created_time_dt\": \"2021-03-25T16:54:06.979867Z\", \"duration\": \"0:01:07\", \"iteration\": \"12\", \"goal\": \"norm_macro_recall_max\", \"run_name\": \"StandardScalerWrapper, ExtremeRandomTrees\", \"run_properties\": \"<azureml.automl.runtime.shared.model_wrappers.StandardScalerWrapper object at 0x7fef3f820668\", \"primary_metric\": 0.86364874, \"best_metric\": 0.93172907}, {\"run_id\": \"AutoML_9be7e20a-6720-4133-aa8c-9138c31e23cb_13\", \"run_number\": 66, \"metric\": null, \"status\": \"Completed\", \"run_type\": \"azureml.scriptrun\", \"training_percent\": \"100\", \"start_time\": \"2021-03-25T16:54:32.926645Z\", \"end_time\": \"2021-03-25T16:56:02.576898Z\", \"created_time\": \"2021-03-25T16:54:19.83411Z\", \"created_time_dt\": \"2021-03-25T16:54:19.83411Z\", \"duration\": \"0:01:42\", \"iteration\": \"13\", \"goal\": \"norm_macro_recall_max\", \"run_name\": \"StandardScalerWrapper, SGD\", \"run_properties\": \"<azureml.automl.runtime.shared.model_wrappers.StandardScalerWrapper object at 0x7f53568236d8\", \"primary_metric\": 0.45118541, \"best_metric\": 0.93172907}, {\"run_id\": \"AutoML_9be7e20a-6720-4133-aa8c-9138c31e23cb_14\", \"run_number\": 67, \"metric\": null, \"status\": \"Completed\", \"run_type\": \"azureml.scriptrun\", \"training_percent\": \"100\", \"start_time\": \"2021-03-25T16:54:29.894917Z\", \"end_time\": \"2021-03-25T16:56:03.127072Z\", \"created_time\": \"2021-03-25T16:54:20.449719Z\", \"created_time_dt\": \"2021-03-25T16:54:20.449719Z\", \"duration\": \"0:01:42\", \"iteration\": \"14\", \"goal\": \"norm_macro_recall_max\", \"run_name\": \"RobustScaler, RandomForest\", \"run_properties\": \"copy=True, quantile_range=[10, 90], with_centering=True,\\n             with_scaling=False\", \"primary_metric\": 0.93188615, \"best_metric\": 0.93188615}, {\"run_id\": \"AutoML_9be7e20a-6720-4133-aa8c-9138c31e23cb_15\", \"run_number\": 68, \"metric\": null, \"status\": \"Completed\", \"run_type\": \"azureml.scriptrun\", \"training_percent\": \"100\", \"start_time\": \"2021-03-25T16:55:07.160392Z\", \"end_time\": \"2021-03-25T16:56:03.917939Z\", \"created_time\": \"2021-03-25T16:54:56.984069Z\", \"created_time_dt\": \"2021-03-25T16:54:56.984069Z\", \"duration\": \"0:01:06\", \"iteration\": \"15\", \"goal\": \"norm_macro_recall_max\", \"run_name\": \"MinMaxScaler, ExtremeRandomTrees\", \"run_properties\": \"copy=True, feature_range=(0, 1\", \"primary_metric\": 0.0, \"best_metric\": 0.93188615}, {\"run_id\": \"AutoML_9be7e20a-6720-4133-aa8c-9138c31e23cb_16\", \"run_number\": 69, \"metric\": null, \"status\": \"Completed\", \"run_type\": \"azureml.scriptrun\", \"training_percent\": \"100\", \"start_time\": \"2021-03-25T16:55:33.236765Z\", \"end_time\": \"2021-03-25T16:56:39.221544Z\", \"created_time\": \"2021-03-25T16:55:20.590988Z\", \"created_time_dt\": \"2021-03-25T16:55:20.590988Z\", \"duration\": \"0:01:18\", \"iteration\": \"16\", \"goal\": \"norm_macro_recall_max\", \"run_name\": \"StandardScalerWrapper, RandomForest\", \"run_properties\": \"<azureml.automl.runtime.shared.model_wrappers.StandardScalerWrapper object at 0x7f86975919e8\", \"primary_metric\": 0.93914159, \"best_metric\": 0.93914159}, {\"run_id\": \"AutoML_9be7e20a-6720-4133-aa8c-9138c31e23cb_17\", \"run_number\": 70, \"metric\": null, \"status\": \"Completed\", \"run_type\": \"azureml.scriptrun\", \"training_percent\": \"100\", \"start_time\": \"2021-03-25T16:56:17.532489Z\", \"end_time\": \"2021-03-25T16:57:41.811269Z\", \"created_time\": \"2021-03-25T16:56:05.982498Z\", \"created_time_dt\": \"2021-03-25T16:56:05.982498Z\", \"duration\": \"0:01:35\", \"iteration\": \"17\", \"goal\": \"norm_macro_recall_max\", \"run_name\": \"RobustScaler, ExtremeRandomTrees\", \"run_properties\": \"copy=True, quantile_range=[10, 90], with_centering=True,\\n             with_scaling=False\", \"primary_metric\": 0.0, \"best_metric\": 0.93914159}, {\"run_id\": \"AutoML_9be7e20a-6720-4133-aa8c-9138c31e23cb_18\", \"run_number\": 71, \"metric\": null, \"status\": \"Completed\", \"run_type\": \"azureml.scriptrun\", \"training_percent\": \"100\", \"start_time\": \"2021-03-25T16:56:18.22706Z\", \"end_time\": \"2021-03-25T16:57:37.339675Z\", \"created_time\": \"2021-03-25T16:56:06.630382Z\", \"created_time_dt\": \"2021-03-25T16:56:06.630382Z\", \"duration\": \"0:01:30\", \"iteration\": \"18\", \"goal\": \"norm_macro_recall_max\", \"run_name\": \"RobustScaler, RandomForest\", \"run_properties\": \"copy=True, quantile_range=[25, 75], with_centering=True,\\n             with_scaling=False\", \"primary_metric\": 0.90793624, \"best_metric\": 0.93914159}, {\"run_id\": \"AutoML_9be7e20a-6720-4133-aa8c-9138c31e23cb_19\", \"run_number\": 72, \"metric\": null, \"status\": \"Completed\", \"run_type\": \"azureml.scriptrun\", \"training_percent\": \"100\", \"start_time\": \"2021-03-25T16:56:26.081446Z\", \"end_time\": \"2021-03-25T16:57:50.237958Z\", \"created_time\": \"2021-03-25T16:56:11.279996Z\", \"created_time_dt\": \"2021-03-25T16:56:11.279996Z\", \"duration\": \"0:01:38\", \"iteration\": \"19\", \"goal\": \"norm_macro_recall_max\", \"run_name\": \"MinMaxScaler, ExtremeRandomTrees\", \"run_properties\": \"copy=True, feature_range=(0, 1\", \"primary_metric\": 0.8486475, \"best_metric\": 0.93914159}, {\"run_id\": \"AutoML_9be7e20a-6720-4133-aa8c-9138c31e23cb_20\", \"run_number\": 73, \"metric\": null, \"status\": \"Completed\", \"run_type\": \"azureml.scriptrun\", \"training_percent\": \"100\", \"start_time\": \"2021-03-25T16:56:55.763909Z\", \"end_time\": \"2021-03-25T16:58:16.282155Z\", \"created_time\": \"2021-03-25T16:56:42.776956Z\", \"created_time_dt\": \"2021-03-25T16:56:42.776956Z\", \"duration\": \"0:01:33\", \"iteration\": \"20\", \"goal\": \"norm_macro_recall_max\", \"run_name\": \"MaxAbsScaler, ExtremeRandomTrees\", \"run_properties\": \"copy=True\", \"primary_metric\": 0.89397481, \"best_metric\": 0.93914159}, {\"run_id\": \"AutoML_9be7e20a-6720-4133-aa8c-9138c31e23cb_21\", \"run_number\": 74, \"metric\": null, \"status\": \"Completed\", \"run_type\": \"azureml.scriptrun\", \"training_percent\": \"100\", \"start_time\": \"2021-03-25T16:57:51.975494Z\", \"end_time\": \"2021-03-25T16:59:02.310497Z\", \"created_time\": \"2021-03-25T16:57:40.208767Z\", \"created_time_dt\": \"2021-03-25T16:57:40.208767Z\", \"duration\": \"0:01:22\", \"iteration\": \"21\", \"goal\": \"norm_macro_recall_max\", \"run_name\": \"StandardScalerWrapper, XGBoostClassifier\", \"run_properties\": \"<azureml.automl.runtime.shared.model_wrappers.StandardScalerWrapper object at 0x7f1c18684da0\", \"primary_metric\": 0.68680394, \"best_metric\": 0.93914159}, {\"run_id\": \"AutoML_9be7e20a-6720-4133-aa8c-9138c31e23cb_22\", \"run_number\": 75, \"metric\": null, \"status\": \"Completed\", \"run_type\": \"azureml.scriptrun\", \"training_percent\": \"100\", \"start_time\": \"2021-03-25T16:57:57.449829Z\", \"end_time\": \"2021-03-25T16:59:04.838704Z\", \"created_time\": \"2021-03-25T16:57:44.391736Z\", \"created_time_dt\": \"2021-03-25T16:57:44.391736Z\", \"duration\": \"0:01:20\", \"iteration\": \"22\", \"goal\": \"norm_macro_recall_max\", \"run_name\": \"MaxAbsScaler, RandomForest\", \"run_properties\": \"copy=True\", \"primary_metric\": 0.57121508, \"best_metric\": 0.93914159}, {\"run_id\": \"AutoML_9be7e20a-6720-4133-aa8c-9138c31e23cb_23\", \"run_number\": 76, \"metric\": null, \"status\": \"Completed\", \"run_type\": \"azureml.scriptrun\", \"training_percent\": \"100\", \"start_time\": \"2021-03-25T16:58:04.435401Z\", \"end_time\": \"2021-03-25T16:59:08.447784Z\", \"created_time\": \"2021-03-25T16:57:53.506144Z\", \"created_time_dt\": \"2021-03-25T16:57:53.506144Z\", \"duration\": \"0:01:14\", \"iteration\": \"23\", \"goal\": \"norm_macro_recall_max\", \"run_name\": \"MaxAbsScaler, ExtremeRandomTrees\", \"run_properties\": \"copy=True\", \"primary_metric\": 0.86172699, \"best_metric\": 0.93914159}, {\"run_id\": \"AutoML_9be7e20a-6720-4133-aa8c-9138c31e23cb_24\", \"run_number\": 77, \"metric\": null, \"status\": \"Completed\", \"run_type\": \"azureml.scriptrun\", \"training_percent\": \"100\", \"start_time\": \"2021-03-25T16:58:32.559087Z\", \"end_time\": \"2021-03-25T16:59:23.856085Z\", \"created_time\": \"2021-03-25T16:58:19.005108Z\", \"created_time_dt\": \"2021-03-25T16:58:19.005108Z\", \"duration\": \"0:01:04\", \"iteration\": \"24\", \"goal\": \"norm_macro_recall_max\", \"run_name\": \"StandardScalerWrapper, ExtremeRandomTrees\", \"run_properties\": \"<azureml.automl.runtime.shared.model_wrappers.StandardScalerWrapper object at 0x7f1a0637ccf8\", \"primary_metric\": 0.87047373, \"best_metric\": 0.93914159}, {\"run_id\": \"AutoML_9be7e20a-6720-4133-aa8c-9138c31e23cb_25\", \"run_number\": 78, \"metric\": null, \"status\": \"Completed\", \"run_type\": \"azureml.scriptrun\", \"training_percent\": \"100\", \"start_time\": \"2021-03-25T16:59:16.667455Z\", \"end_time\": \"2021-03-25T17:00:23.732639Z\", \"created_time\": \"2021-03-25T16:59:05.014471Z\", \"created_time_dt\": \"2021-03-25T16:59:05.014471Z\", \"duration\": \"0:01:18\", \"iteration\": \"25\", \"goal\": \"norm_macro_recall_max\", \"run_name\": \"MaxAbsScaler, RandomForest\", \"run_properties\": \"copy=True\", \"primary_metric\": 0.0, \"best_metric\": 0.93914159}, {\"run_id\": \"AutoML_9be7e20a-6720-4133-aa8c-9138c31e23cb_26\", \"run_number\": 79, \"metric\": null, \"status\": \"Completed\", \"run_type\": \"azureml.scriptrun\", \"training_percent\": \"100\", \"start_time\": \"2021-03-25T16:59:20.473294Z\", \"end_time\": \"2021-03-25T17:00:38.257391Z\", \"created_time\": \"2021-03-25T16:59:08.565459Z\", \"created_time_dt\": \"2021-03-25T16:59:08.565459Z\", \"duration\": \"0:01:29\", \"iteration\": \"26\", \"goal\": \"norm_macro_recall_max\", \"run_name\": \"MinMaxScaler, GradientBoosting\", \"run_properties\": \"copy=True, feature_range=(0, 1\", \"primary_metric\": 0.67240186, \"best_metric\": 0.93914159}, {\"run_id\": \"AutoML_9be7e20a-6720-4133-aa8c-9138c31e23cb_27\", \"run_number\": 80, \"metric\": null, \"status\": \"Completed\", \"run_type\": \"azureml.scriptrun\", \"training_percent\": \"100\", \"start_time\": \"2021-03-25T16:59:24.657685Z\", \"end_time\": \"2021-03-25T17:00:43.316773Z\", \"created_time\": \"2021-03-25T16:59:12.691087Z\", \"created_time_dt\": \"2021-03-25T16:59:12.691087Z\", \"duration\": \"0:01:30\", \"iteration\": \"27\", \"goal\": \"norm_macro_recall_max\", \"run_name\": \"StandardScalerWrapper, XGBoostClassifier\", \"run_properties\": \"<azureml.automl.runtime.shared.model_wrappers.StandardScalerWrapper object at 0x7f79b6d1e748\", \"primary_metric\": 0.63639186, \"best_metric\": 0.93914159}, {\"run_id\": \"AutoML_9be7e20a-6720-4133-aa8c-9138c31e23cb_28\", \"run_number\": 81, \"metric\": null, \"status\": \"Completed\", \"run_type\": \"azureml.scriptrun\", \"training_percent\": \"100\", \"start_time\": \"2021-03-25T16:59:40.461784Z\", \"end_time\": \"2021-03-25T17:01:03.822755Z\", \"created_time\": \"2021-03-25T16:59:25.590546Z\", \"created_time_dt\": \"2021-03-25T16:59:25.590546Z\", \"duration\": \"0:01:38\", \"iteration\": \"28\", \"goal\": \"norm_macro_recall_max\", \"run_name\": \"MinMaxScaler, LightGBM\", \"run_properties\": \"copy=True, feature_range=(0, 1\", \"primary_metric\": 0.43378632, \"best_metric\": 0.93914159}, {\"run_id\": \"AutoML_9be7e20a-6720-4133-aa8c-9138c31e23cb_29\", \"run_number\": 82, \"metric\": null, \"status\": \"Completed\", \"run_type\": \"azureml.scriptrun\", \"training_percent\": \"100\", \"start_time\": \"2021-03-25T17:00:39.772906Z\", \"end_time\": \"2021-03-25T17:02:03.300786Z\", \"created_time\": \"2021-03-25T17:00:25.609682Z\", \"created_time_dt\": \"2021-03-25T17:00:25.609682Z\", \"duration\": \"0:01:37\", \"iteration\": \"29\", \"goal\": \"norm_macro_recall_max\", \"run_name\": \"StandardScalerWrapper, LightGBM\", \"run_properties\": \"<azureml.automl.runtime.shared.model_wrappers.StandardScalerWrapper object at 0x7f5d599390b8\", \"primary_metric\": 0.73023899, \"best_metric\": 0.93914159}, {\"run_id\": \"AutoML_9be7e20a-6720-4133-aa8c-9138c31e23cb_30\", \"run_number\": 83, \"metric\": null, \"status\": \"Completed\", \"run_type\": \"azureml.scriptrun\", \"training_percent\": \"100\", \"start_time\": \"2021-03-25T17:00:54.198251Z\", \"end_time\": \"2021-03-25T17:01:54.392702Z\", \"created_time\": \"2021-03-25T17:00:40.921312Z\", \"created_time_dt\": \"2021-03-25T17:00:40.921312Z\", \"duration\": \"0:01:13\", \"iteration\": \"30\", \"goal\": \"norm_macro_recall_max\", \"run_name\": \"StandardScalerWrapper, RandomForest\", \"run_properties\": \"<azureml.automl.runtime.shared.model_wrappers.StandardScalerWrapper object at 0x7f589eab79e8\", \"primary_metric\": 0.94047112, \"best_metric\": 0.94047112}, {\"run_id\": \"AutoML_9be7e20a-6720-4133-aa8c-9138c31e23cb_31\", \"run_number\": 84, \"metric\": null, \"status\": \"Completed\", \"run_type\": \"azureml.scriptrun\", \"training_percent\": \"100\", \"start_time\": \"2021-03-25T17:00:55.545992Z\", \"end_time\": \"2021-03-25T17:02:12.031339Z\", \"created_time\": \"2021-03-25T17:00:45.382444Z\", \"created_time_dt\": \"2021-03-25T17:00:45.382444Z\", \"duration\": \"0:01:26\", \"iteration\": \"31\", \"goal\": \"norm_macro_recall_max\", \"run_name\": \"MinMaxScaler, LightGBM\", \"run_properties\": \"copy=True, feature_range=(0, 1\", \"primary_metric\": 0.66050346, \"best_metric\": 0.94047112}, {\"run_id\": \"AutoML_9be7e20a-6720-4133-aa8c-9138c31e23cb_32\", \"run_number\": 85, \"metric\": null, \"status\": \"Completed\", \"run_type\": \"azureml.scriptrun\", \"training_percent\": \"100\", \"start_time\": \"2021-03-25T17:01:18.131809Z\", \"end_time\": \"2021-03-25T17:02:23.486809Z\", \"created_time\": \"2021-03-25T17:01:05.58555Z\", \"created_time_dt\": \"2021-03-25T17:01:05.58555Z\", \"duration\": \"0:01:17\", \"iteration\": \"32\", \"goal\": \"norm_macro_recall_max\", \"run_name\": \"MaxAbsScaler, ExtremeRandomTrees\", \"run_properties\": \"copy=True\", \"primary_metric\": 0.91283309, \"best_metric\": 0.94047112}, {\"run_id\": \"AutoML_9be7e20a-6720-4133-aa8c-9138c31e23cb_33\", \"run_number\": 86, \"metric\": null, \"status\": \"Completed\", \"run_type\": \"azureml.scriptrun\", \"training_percent\": \"100\", \"start_time\": \"2021-03-25T17:02:08.5115Z\", \"end_time\": \"2021-03-25T17:03:34.904436Z\", \"created_time\": \"2021-03-25T17:01:56.237172Z\", \"created_time_dt\": \"2021-03-25T17:01:56.237172Z\", \"duration\": \"0:01:38\", \"iteration\": \"33\", \"goal\": \"norm_macro_recall_max\", \"run_name\": \"StandardScalerWrapper, LightGBM\", \"run_properties\": \"<azureml.automl.runtime.shared.model_wrappers.StandardScalerWrapper object at 0x7fd0fff09dd8\", \"primary_metric\": 0.589186, \"best_metric\": 0.94047112}, {\"run_id\": \"AutoML_9be7e20a-6720-4133-aa8c-9138c31e23cb_34\", \"run_number\": 87, \"metric\": null, \"status\": \"Completed\", \"run_type\": \"azureml.scriptrun\", \"training_percent\": \"100\", \"start_time\": \"2021-03-25T17:02:17.76715Z\", \"end_time\": \"2021-03-25T17:03:37.491183Z\", \"created_time\": \"2021-03-25T17:02:05.279241Z\", \"created_time_dt\": \"2021-03-25T17:02:05.279241Z\", \"duration\": \"0:01:32\", \"iteration\": \"34\", \"goal\": \"norm_macro_recall_max\", \"run_name\": \"StandardScalerWrapper, XGBoostClassifier\", \"run_properties\": \"<azureml.automl.runtime.shared.model_wrappers.StandardScalerWrapper object at 0x7ffa50f814a8\", \"primary_metric\": 0.69340484, \"best_metric\": 0.94047112}, {\"run_id\": \"AutoML_9be7e20a-6720-4133-aa8c-9138c31e23cb_35\", \"run_number\": 88, \"metric\": null, \"status\": \"Completed\", \"run_type\": \"azureml.scriptrun\", \"training_percent\": \"100\", \"start_time\": \"2021-03-25T17:02:27.638906Z\", \"end_time\": \"2021-03-25T17:03:41.139265Z\", \"created_time\": \"2021-03-25T17:02:14.777848Z\", \"created_time_dt\": \"2021-03-25T17:02:14.777848Z\", \"duration\": \"0:01:26\", \"iteration\": \"35\", \"goal\": \"norm_macro_recall_max\", \"run_name\": \"MinMaxScaler, RandomForest\", \"run_properties\": \"copy=True, feature_range=(0, 1\", \"primary_metric\": 0.74021333, \"best_metric\": 0.94047112}, {\"run_id\": \"AutoML_9be7e20a-6720-4133-aa8c-9138c31e23cb_36\", \"run_number\": 89, \"metric\": null, \"status\": \"Completed\", \"run_type\": \"azureml.scriptrun\", \"training_percent\": \"100\", \"start_time\": \"2021-03-25T17:02:40.022074Z\", \"end_time\": \"2021-03-25T17:04:07.185013Z\", \"created_time\": \"2021-03-25T17:02:29.144429Z\", \"created_time_dt\": \"2021-03-25T17:02:29.144429Z\", \"duration\": \"0:01:38\", \"iteration\": \"36\", \"goal\": \"norm_macro_recall_max\", \"run_name\": \"MinMaxScaler, ExtremeRandomTrees\", \"run_properties\": \"copy=True, feature_range=(0, 1\", \"primary_metric\": 0.89610606, \"best_metric\": 0.94047112}, {\"run_id\": \"AutoML_9be7e20a-6720-4133-aa8c-9138c31e23cb_37\", \"run_number\": 90, \"metric\": null, \"status\": \"Completed\", \"run_type\": \"azureml.scriptrun\", \"training_percent\": \"100\", \"start_time\": \"2021-03-25T17:03:50.966752Z\", \"end_time\": \"2021-03-25T17:05:11.519246Z\", \"created_time\": \"2021-03-25T17:03:39.008162Z\", \"created_time_dt\": \"2021-03-25T17:03:39.008162Z\", \"duration\": \"0:01:32\", \"iteration\": \"37\", \"goal\": \"norm_macro_recall_max\", \"run_name\": \"StandardScalerWrapper, LightGBM\", \"run_properties\": \"<azureml.automl.runtime.shared.model_wrappers.StandardScalerWrapper object at 0x7fc7a17209e8\", \"primary_metric\": 0.51486025, \"best_metric\": 0.94047112}, {\"run_id\": \"AutoML_9be7e20a-6720-4133-aa8c-9138c31e23cb_38\", \"run_number\": 91, \"metric\": null, \"status\": \"Completed\", \"run_type\": \"azureml.scriptrun\", \"training_percent\": \"100\", \"start_time\": \"2021-03-25T17:03:55.59344Z\", \"end_time\": \"2021-03-25T17:05:11.743486Z\", \"created_time\": \"2021-03-25T17:03:44.684314Z\", \"created_time_dt\": \"2021-03-25T17:03:44.684314Z\", \"duration\": \"0:01:27\", \"iteration\": \"38\", \"goal\": \"norm_macro_recall_max\", \"run_name\": \"StandardScalerWrapper, LightGBM\", \"run_properties\": \"<azureml.automl.runtime.shared.model_wrappers.StandardScalerWrapper object at 0x7fd63345d4a8\", \"primary_metric\": 0.6798789, \"best_metric\": 0.94047112}, {\"run_id\": \"AutoML_9be7e20a-6720-4133-aa8c-9138c31e23cb_39\", \"run_number\": 92, \"metric\": null, \"status\": \"Completed\", \"run_type\": \"azureml.scriptrun\", \"training_percent\": \"100\", \"start_time\": \"2021-03-25T17:04:00.934727Z\", \"end_time\": \"2021-03-25T17:05:22.29405Z\", \"created_time\": \"2021-03-25T17:03:44.900543Z\", \"created_time_dt\": \"2021-03-25T17:03:44.900543Z\", \"duration\": \"0:01:37\", \"iteration\": \"39\", \"goal\": \"norm_macro_recall_max\", \"run_name\": \"StandardScalerWrapper, LogisticRegression\", \"run_properties\": \"<azureml.automl.runtime.shared.model_wrappers.StandardScalerWrapper object at 0x7f5d64255278\", \"primary_metric\": 0.93695115, \"best_metric\": 0.94047112}, {\"run_id\": \"AutoML_9be7e20a-6720-4133-aa8c-9138c31e23cb_40\", \"run_number\": 93, \"metric\": null, \"status\": \"Completed\", \"run_type\": \"azureml.scriptrun\", \"training_percent\": \"100\", \"start_time\": \"2021-03-25T17:04:31.935687Z\", \"end_time\": \"2021-03-25T17:05:59.249935Z\", \"created_time\": \"2021-03-25T17:04:13.018055Z\", \"created_time_dt\": \"2021-03-25T17:04:13.018055Z\", \"duration\": \"0:01:46\", \"iteration\": \"40\", \"goal\": \"norm_macro_recall_max\", \"run_name\": \"RobustScaler, RandomForest\", \"run_properties\": \"copy=True, quantile_range=[10, 90], with_centering=True,\\n             with_scaling=True\", \"primary_metric\": 0.0, \"best_metric\": 0.94047112}, {\"run_id\": \"AutoML_9be7e20a-6720-4133-aa8c-9138c31e23cb_41\", \"run_number\": 94, \"metric\": null, \"status\": \"Completed\", \"run_type\": \"azureml.scriptrun\", \"training_percent\": \"100\", \"start_time\": \"2021-03-25T17:05:28.918306Z\", \"end_time\": \"2021-03-25T17:06:37.037463Z\", \"created_time\": \"2021-03-25T17:05:17.732885Z\", \"created_time_dt\": \"2021-03-25T17:05:17.732885Z\", \"duration\": \"0:01:19\", \"iteration\": \"41\", \"goal\": \"norm_macro_recall_max\", \"run_name\": \"MinMaxScaler, LightGBM\", \"run_properties\": \"copy=True, feature_range=(0, 1\", \"primary_metric\": 0.64127243, \"best_metric\": 0.94047112}, {\"run_id\": \"AutoML_9be7e20a-6720-4133-aa8c-9138c31e23cb_42\", \"run_number\": 95, \"metric\": null, \"status\": \"Completed\", \"run_type\": \"azureml.scriptrun\", \"training_percent\": \"100\", \"start_time\": \"2021-03-25T17:05:29.910775Z\", \"end_time\": \"2021-03-25T17:06:40.186429Z\", \"created_time\": \"2021-03-25T17:05:17.926498Z\", \"created_time_dt\": \"2021-03-25T17:05:17.926498Z\", \"duration\": \"0:01:22\", \"iteration\": \"42\", \"goal\": \"norm_macro_recall_max\", \"run_name\": \"StandardScalerWrapper, RandomForest\", \"run_properties\": \"<azureml.automl.runtime.shared.model_wrappers.StandardScalerWrapper object at 0x7fdaf2e10ac8\", \"primary_metric\": 0.93333714, \"best_metric\": 0.94047112}, {\"run_id\": \"AutoML_9be7e20a-6720-4133-aa8c-9138c31e23cb_43\", \"run_number\": 96, \"metric\": null, \"status\": \"Canceled\", \"run_type\": \"azureml.scriptrun\", \"training_percent\": \"100\", \"start_time\": \"2021-03-25T17:05:40.984103Z\", \"end_time\": \"2021-03-25T17:06:52.558948Z\", \"created_time\": \"2021-03-25T17:05:25.004353Z\", \"created_time_dt\": \"2021-03-25T17:05:25.004353Z\", \"duration\": \"0:01:27\", \"iteration\": \"43\", \"goal\": \"norm_macro_recall_max\", \"run_name\": \"StandardScalerWrapper, XGBoostClassifier\", \"run_properties\": \"<azureml.automl.runtime.shared.model_wrappers.StandardScalerWrapper object at 0x7febc6c33208\", \"primary_metric\": 0.67987725, \"best_metric\": 0.94047112}, {\"run_id\": \"AutoML_9be7e20a-6720-4133-aa8c-9138c31e23cb_44\", \"run_number\": 97, \"metric\": null, \"status\": \"Canceled\", \"run_type\": \"azureml.scriptrun\", \"training_percent\": \"100\", \"start_time\": \"2021-03-25T17:06:14.829494Z\", \"end_time\": \"2021-03-25T17:06:51.471284Z\", \"created_time\": \"2021-03-25T17:06:03.191986Z\", \"created_time_dt\": \"2021-03-25T17:06:03.191986Z\", \"duration\": \"0:00:48\", \"iteration\": \"44\", \"goal\": null, \"run_name\": \"MinMaxScaler, RandomForest\", \"run_properties\": null}, {\"run_id\": \"AutoML_9be7e20a-6720-4133-aa8c-9138c31e23cb_45\", \"run_number\": 98, \"metric\": null, \"status\": \"Canceled\", \"run_type\": \"azureml.scriptrun\", \"training_percent\": \"100\", \"start_time\": \"2021-03-25T17:06:40.706799Z\", \"end_time\": \"2021-03-25T17:06:57.766744Z\", \"created_time\": \"2021-03-25T17:06:40.706799Z\", \"created_time_dt\": \"2021-03-25T17:06:40.706799Z\", \"duration\": \"0:00:17\", \"iteration\": \"45\", \"goal\": null, \"run_name\": \"Canceled\", \"run_properties\": null}, {\"run_id\": \"AutoML_9be7e20a-6720-4133-aa8c-9138c31e23cb_46\", \"run_number\": 99, \"metric\": null, \"status\": \"Completed\", \"run_type\": \"azureml.scriptrun\", \"training_percent\": \"100\", \"start_time\": \"2021-03-25T17:07:13.239809Z\", \"end_time\": \"2021-03-25T17:09:07.072802Z\", \"created_time\": \"2021-03-25T17:07:00.497629Z\", \"created_time_dt\": \"2021-03-25T17:07:00.497629Z\", \"duration\": \"0:02:06\", \"iteration\": \"46\", \"goal\": \"norm_macro_recall_max\", \"run_name\": \"VotingEnsemble\", \"run_properties\": \"classification_labels=None,\\n                              estimators=[('30',\\n                                           Pipeline(memory=None,\\n                                                    steps=[('standardscalerwrapper',\\n                                                            <azureml.automl.runtime.shared.model_wrappers.StandardScalerWrapper object at 0x7ff704049898>\", \"primary_metric\": 0.94409529, \"best_metric\": 0.94409529}, {\"run_id\": \"AutoML_9be7e20a-6720-4133-aa8c-9138c31e23cb_47\", \"run_number\": 100, \"metric\": null, \"status\": \"Completed\", \"run_type\": \"azureml.scriptrun\", \"training_percent\": \"100\", \"start_time\": \"2021-03-25T17:07:11.99902Z\", \"end_time\": \"2021-03-25T17:09:15.135831Z\", \"created_time\": \"2021-03-25T17:07:00.685512Z\", \"created_time_dt\": \"2021-03-25T17:07:00.685512Z\", \"duration\": \"0:02:14\", \"iteration\": \"47\", \"goal\": \"norm_macro_recall_max\", \"run_name\": \"StackEnsemble\", \"run_properties\": \"base_learners=[('30',\\n                                        Pipeline(memory=None,\\n                                                 steps=[('standardscalerwrapper',\\n                                                         <azureml.automl.runtime.shared.model_wrappers.StandardScalerWrapper object at 0x7f9594fc0d30>\", \"primary_metric\": 0.93638416, \"best_metric\": 0.94409529}], \"children_metrics\": {\"categories\": [0], \"series\": {\"AUC_macro\": [{\"categories\": [\"0\", \"1\", \"2\", \"3\", \"4\", \"5\", \"6\", \"7\", \"8\", \"9\", \"10\", \"11\", \"12\", \"13\", \"14\", \"15\", \"16\", \"17\", \"18\", \"19\", \"20\", \"21\", \"22\", \"23\", \"24\", \"25\", \"26\", \"27\", \"28\", \"29\", \"30\", \"31\", \"32\", \"33\", \"34\", \"35\", \"36\", \"37\", \"38\", \"39\", \"40\", \"41\", \"42\", \"43\", \"46\", \"47\"], \"mode\": \"markers\", \"name\": \"AUC_macro\", \"stepped\": false, \"type\": \"scatter\", \"data\": [0.9823685632237739, 0.9860589599625071, 0.981791017510171, 0.9830446562072491, 0.9762793826846368, 0.9802097932208387, 0.9559378890734559, 0.9737135626090092, 0.9788454810153558, 0.9708766994783602, 0.9662735279257225, 0.9689581243303088, 0.9622359535946413, 0.9878778962180017, 0.9787108345375612, 0.9617771408172006, 0.9805680742408392, 0.94128318760749, 0.9749343340527927, 0.9626273608368381, 0.969733970653971, 0.9752522564584174, 0.9827322342578059, 0.9598545654209159, 0.9680945973136362, 0.5, 0.9852663150040005, 0.9831873974767728, 0.9812454874395352, 0.9861202461312254, 0.9806335474690605, 0.9833755804043062, 0.9741234021652799, 0.9857259329471186, 0.9522608861028714, 0.943788395319177, 0.9718184453807472, 0.9841891766409145, 0.9865596595576455, 0.9840456939061415, 0.5, 0.987449143391332, 0.9758653050810429, 0.9628216575705512, 0.9834935009043337, 0.9778388567597819]}, {\"categories\": [\"0\", \"1\", \"2\", \"3\", \"4\", \"5\", \"6\", \"7\", \"8\", \"9\", \"10\", \"11\", \"12\", \"13\", \"14\", \"15\", \"16\", \"17\", \"18\", \"19\", \"20\", \"21\", \"22\", \"23\", \"24\", \"25\", \"26\", \"27\", \"28\", \"29\", \"30\", \"31\", \"32\", \"33\", \"34\", \"35\", \"36\", \"37\", \"38\", \"39\", \"40\", \"41\", \"42\", \"43\", \"46\", \"47\"], \"mode\": \"lines\", \"name\": \"AUC_macro_max\", \"stepped\": true, \"type\": \"scatter\", \"data\": [0.9823685632237739, 0.9860589599625071, 0.9860589599625071, 0.9860589599625071, 0.9860589599625071, 0.9860589599625071, 0.9860589599625071, 0.9860589599625071, 0.9860589599625071, 0.9860589599625071, 0.9860589599625071, 0.9860589599625071, 0.9860589599625071, 0.9878778962180017, 0.9878778962180017, 0.9878778962180017, 0.9878778962180017, 0.9878778962180017, 0.9878778962180017, 0.9878778962180017, 0.9878778962180017, 0.9878778962180017, 0.9878778962180017, 0.9878778962180017, 0.9878778962180017, 0.9878778962180017, 0.9878778962180017, 0.9878778962180017, 0.9878778962180017, 0.9878778962180017, 0.9878778962180017, 0.9878778962180017, 0.9878778962180017, 0.9878778962180017, 0.9878778962180017, 0.9878778962180017, 0.9878778962180017, 0.9878778962180017, 0.9878778962180017, 0.9878778962180017, 0.9878778962180017, 0.9878778962180017, 0.9878778962180017, 0.9878778962180017, 0.9878778962180017, 0.9878778962180017]}], \"precision_score_micro\": [{\"categories\": [\"0\", \"1\", \"2\", \"3\", \"4\", \"5\", \"6\", \"7\", \"8\", \"9\", \"10\", \"11\", \"12\", \"13\", \"14\", \"15\", \"16\", \"17\", \"18\", \"19\", \"20\", \"21\", \"22\", \"23\", \"24\", \"25\", \"26\", \"27\", \"28\", \"29\", \"30\", \"31\", \"32\", \"33\", \"34\", \"35\", \"36\", \"37\", \"38\", \"39\", \"40\", \"41\", \"42\", \"43\", \"46\", \"47\"], \"mode\": \"markers\", \"name\": \"precision_score_micro\", \"stepped\": false, \"type\": \"scatter\", \"data\": [0.9876068376068377, 0.9894586894586895, 0.9712250712250712, 0.9861823361823362, 0.9632478632478633, 0.9874643874643875, 0.9381766381766382, 0.9804843304843304, 0.9804843304843304, 0.9804843304843304, 0.9804843304843304, 0.9804843304843304, 0.9149572649572649, 0.9856125356125357, 0.9547008547008548, 0.9804843304843304, 0.9705128205128205, 0.9804843304843304, 0.9337606837606837, 0.8878917378917378, 0.9374643874643874, 0.9888888888888889, 0.9871794871794872, 0.9283475783475783, 0.9380341880341879, 0.6608262108262108, 0.9880341880341881, 0.9886039886039887, 0.9854700854700855, 0.9910256410256411, 0.956980056980057, 0.9891737891737892, 0.9447293447293447, 0.9883190883190883, 0.9897435897435898, 0.7606837606837606, 0.9344729344729344, 0.9866096866096866, 0.9897435897435898, 0.9683760683760684, 0.9804843304843304, 0.9887464387464387, 0.9586894586894587, 0.9897435897435898, 0.9692307692307692, 0.9678062678062678]}, {\"categories\": [\"0\", \"1\", \"2\", \"3\", \"4\", \"5\", \"6\", \"7\", \"8\", \"9\", \"10\", \"11\", \"12\", \"13\", \"14\", \"15\", \"16\", \"17\", \"18\", \"19\", \"20\", \"21\", \"22\", \"23\", \"24\", \"25\", \"26\", \"27\", \"28\", \"29\", \"30\", \"31\", \"32\", \"33\", \"34\", \"35\", \"36\", \"37\", \"38\", \"39\", \"40\", \"41\", \"42\", \"43\", \"46\", \"47\"], \"mode\": \"lines\", \"name\": \"precision_score_micro_max\", \"stepped\": true, \"type\": \"scatter\", \"data\": [0.9876068376068377, 0.9894586894586895, 0.9894586894586895, 0.9894586894586895, 0.9894586894586895, 0.9894586894586895, 0.9894586894586895, 0.9894586894586895, 0.9894586894586895, 0.9894586894586895, 0.9894586894586895, 0.9894586894586895, 0.9894586894586895, 0.9894586894586895, 0.9894586894586895, 0.9894586894586895, 0.9894586894586895, 0.9894586894586895, 0.9894586894586895, 0.9894586894586895, 0.9894586894586895, 0.9894586894586895, 0.9894586894586895, 0.9894586894586895, 0.9894586894586895, 0.9894586894586895, 0.9894586894586895, 0.9894586894586895, 0.9894586894586895, 0.9910256410256411, 0.9910256410256411, 0.9910256410256411, 0.9910256410256411, 0.9910256410256411, 0.9910256410256411, 0.9910256410256411, 0.9910256410256411, 0.9910256410256411, 0.9910256410256411, 0.9910256410256411, 0.9910256410256411, 0.9910256410256411, 0.9910256410256411, 0.9910256410256411, 0.9910256410256411, 0.9910256410256411]}], \"AUC_micro\": [{\"categories\": [\"0\", \"1\", \"2\", \"3\", \"4\", \"5\", \"6\", \"7\", \"8\", \"9\", \"10\", \"11\", \"12\", \"13\", \"14\", \"15\", \"16\", \"17\", \"18\", \"19\", \"20\", \"21\", \"22\", \"23\", \"24\", \"25\", \"26\", \"27\", \"28\", \"29\", \"30\", \"31\", \"32\", \"33\", \"34\", \"35\", \"36\", \"37\", \"38\", \"39\", \"40\", \"41\", \"42\", \"43\", \"46\", \"47\"], \"mode\": \"markers\", \"name\": \"AUC_micro\", \"stepped\": false, \"type\": \"scatter\", \"data\": [0.9991629532227823, 0.9993393113692259, 0.9939347894903451, 0.9991471863053061, 0.9868038814620012, 0.9991043903864415, 0.9737774855723572, 0.9986546375435265, 0.9988545547519907, 0.9985644191199746, 0.9984401100640418, 0.9985111525068789, 0.9519456010909003, 0.9990245817809921, 0.9881601407456108, 0.99821474663355, 0.9925334818710887, 0.997669174763192, 0.9771120973044051, 0.9470920081817518, 0.9738731219714126, 0.9989044123018482, 0.9991354372123603, 0.965177880049675, 0.974352399737015, 0.6608262108262108, 0.9992998027613412, 0.99918024204349, 0.9990865536805708, 0.9993463730002192, 0.9901501814108652, 0.999231438868191, 0.9795110429298464, 0.9992854359948377, 0.9980054240631163, 0.8771245769109018, 0.976631967272993, 0.9992034967248643, 0.9993797939951786, 0.9890892931063872, 0.9804843304843306, 0.9993761414274235, 0.983946355954903, 0.9984086979813475, 0.9964437382813451, 0.985636277302944]}, {\"categories\": [\"0\", \"1\", \"2\", \"3\", \"4\", \"5\", \"6\", \"7\", \"8\", \"9\", \"10\", \"11\", \"12\", \"13\", \"14\", \"15\", \"16\", \"17\", \"18\", \"19\", \"20\", \"21\", \"22\", \"23\", \"24\", \"25\", \"26\", \"27\", \"28\", \"29\", \"30\", \"31\", \"32\", \"33\", \"34\", \"35\", \"36\", \"37\", \"38\", \"39\", \"40\", \"41\", \"42\", \"43\", \"46\", \"47\"], \"mode\": \"lines\", \"name\": \"AUC_micro_max\", \"stepped\": true, \"type\": \"scatter\", \"data\": [0.9991629532227823, 0.9993393113692259, 0.9993393113692259, 0.9993393113692259, 0.9993393113692259, 0.9993393113692259, 0.9993393113692259, 0.9993393113692259, 0.9993393113692259, 0.9993393113692259, 0.9993393113692259, 0.9993393113692259, 0.9993393113692259, 0.9993393113692259, 0.9993393113692259, 0.9993393113692259, 0.9993393113692259, 0.9993393113692259, 0.9993393113692259, 0.9993393113692259, 0.9993393113692259, 0.9993393113692259, 0.9993393113692259, 0.9993393113692259, 0.9993393113692259, 0.9993393113692259, 0.9993393113692259, 0.9993393113692259, 0.9993393113692259, 0.9993463730002192, 0.9993463730002192, 0.9993463730002192, 0.9993463730002192, 0.9993463730002192, 0.9993463730002192, 0.9993463730002192, 0.9993463730002192, 0.9993463730002192, 0.9993797939951786, 0.9993797939951786, 0.9993797939951786, 0.9993797939951786, 0.9993797939951786, 0.9993797939951786, 0.9993797939951786, 0.9993797939951786]}], \"recall_score_micro\": [{\"categories\": [\"0\", \"1\", \"2\", \"3\", \"4\", \"5\", \"6\", \"7\", \"8\", \"9\", \"10\", \"11\", \"12\", \"13\", \"14\", \"15\", \"16\", \"17\", \"18\", \"19\", \"20\", \"21\", \"22\", \"23\", \"24\", \"25\", \"26\", \"27\", \"28\", \"29\", \"30\", \"31\", \"32\", \"33\", \"34\", \"35\", \"36\", \"37\", \"38\", \"39\", \"40\", \"41\", \"42\", \"43\", \"46\", \"47\"], \"mode\": \"markers\", \"name\": \"recall_score_micro\", \"stepped\": false, \"type\": \"scatter\", \"data\": [0.9876068376068377, 0.9894586894586895, 0.9712250712250712, 0.9861823361823362, 0.9632478632478633, 0.9874643874643875, 0.9381766381766382, 0.9804843304843304, 0.9804843304843304, 0.9804843304843304, 0.9804843304843304, 0.9804843304843304, 0.9149572649572649, 0.9856125356125357, 0.9547008547008548, 0.9804843304843304, 0.9705128205128205, 0.9804843304843304, 0.9337606837606837, 0.8878917378917378, 0.9374643874643874, 0.9888888888888889, 0.9871794871794872, 0.9283475783475783, 0.9380341880341879, 0.6608262108262108, 0.9880341880341881, 0.9886039886039887, 0.9854700854700855, 0.9910256410256411, 0.956980056980057, 0.9891737891737892, 0.9447293447293447, 0.9883190883190883, 0.9897435897435898, 0.7606837606837606, 0.9344729344729344, 0.9866096866096866, 0.9897435897435898, 0.9683760683760684, 0.9804843304843304, 0.9887464387464387, 0.9586894586894587, 0.9897435897435898, 0.9692307692307692, 0.9678062678062678]}, {\"categories\": [\"0\", \"1\", \"2\", \"3\", \"4\", \"5\", \"6\", \"7\", \"8\", \"9\", \"10\", \"11\", \"12\", \"13\", \"14\", \"15\", \"16\", \"17\", \"18\", \"19\", \"20\", \"21\", \"22\", \"23\", \"24\", \"25\", \"26\", \"27\", \"28\", \"29\", \"30\", \"31\", \"32\", \"33\", \"34\", \"35\", \"36\", \"37\", \"38\", \"39\", \"40\", \"41\", \"42\", \"43\", \"46\", \"47\"], \"mode\": \"lines\", \"name\": \"recall_score_micro_max\", \"stepped\": true, \"type\": \"scatter\", \"data\": [0.9876068376068377, 0.9894586894586895, 0.9894586894586895, 0.9894586894586895, 0.9894586894586895, 0.9894586894586895, 0.9894586894586895, 0.9894586894586895, 0.9894586894586895, 0.9894586894586895, 0.9894586894586895, 0.9894586894586895, 0.9894586894586895, 0.9894586894586895, 0.9894586894586895, 0.9894586894586895, 0.9894586894586895, 0.9894586894586895, 0.9894586894586895, 0.9894586894586895, 0.9894586894586895, 0.9894586894586895, 0.9894586894586895, 0.9894586894586895, 0.9894586894586895, 0.9894586894586895, 0.9894586894586895, 0.9894586894586895, 0.9894586894586895, 0.9910256410256411, 0.9910256410256411, 0.9910256410256411, 0.9910256410256411, 0.9910256410256411, 0.9910256410256411, 0.9910256410256411, 0.9910256410256411, 0.9910256410256411, 0.9910256410256411, 0.9910256410256411, 0.9910256410256411, 0.9910256410256411, 0.9910256410256411, 0.9910256410256411, 0.9910256410256411, 0.9910256410256411]}], \"AUC_weighted\": [{\"categories\": [\"0\", \"1\", \"2\", \"3\", \"4\", \"5\", \"6\", \"7\", \"8\", \"9\", \"10\", \"11\", \"12\", \"13\", \"14\", \"15\", \"16\", \"17\", \"18\", \"19\", \"20\", \"21\", \"22\", \"23\", \"24\", \"25\", \"26\", \"27\", \"28\", \"29\", \"30\", \"31\", \"32\", \"33\", \"34\", \"35\", \"36\", \"37\", \"38\", \"39\", \"40\", \"41\", \"42\", \"43\", \"46\", \"47\"], \"mode\": \"markers\", \"name\": \"AUC_weighted\", \"stepped\": false, \"type\": \"scatter\", \"data\": [0.9823685632237739, 0.986058959962507, 0.9817910175101711, 0.9830446562072491, 0.9762793826846368, 0.9802097932208387, 0.9559378890734559, 0.9737135626090091, 0.9788454810153557, 0.9708766994783602, 0.9662735279257225, 0.9689581243303088, 0.9622359535946413, 0.9878778962180018, 0.9787108345375612, 0.9617771408172006, 0.9805680742408392, 0.94128318760749, 0.9749343340527927, 0.9626273608368381, 0.9697339706539708, 0.9752522564584174, 0.9827322342578056, 0.959854565420916, 0.9680945973136365, 0.5, 0.9852644209291581, 0.9831873974767728, 0.9812454874395352, 0.9861202461312254, 0.9806335474690605, 0.9833755804043064, 0.9741234021652799, 0.9857259329471187, 0.9522608861028714, 0.943788395319177, 0.9718184453807474, 0.9841891766409147, 0.9865596595576452, 0.9840456939061415, 0.5, 0.9874491433913324, 0.9758653050810429, 0.9628216575705512, 0.9834935009043339, 0.9778388567597819]}, {\"categories\": [\"0\", \"1\", \"2\", \"3\", \"4\", \"5\", \"6\", \"7\", \"8\", \"9\", \"10\", \"11\", \"12\", \"13\", \"14\", \"15\", \"16\", \"17\", \"18\", \"19\", \"20\", \"21\", \"22\", \"23\", \"24\", \"25\", \"26\", \"27\", \"28\", \"29\", \"30\", \"31\", \"32\", \"33\", \"34\", \"35\", \"36\", \"37\", \"38\", \"39\", \"40\", \"41\", \"42\", \"43\", \"46\", \"47\"], \"mode\": \"lines\", \"name\": \"AUC_weighted_max\", \"stepped\": true, \"type\": \"scatter\", \"data\": [0.9823685632237739, 0.986058959962507, 0.986058959962507, 0.986058959962507, 0.986058959962507, 0.986058959962507, 0.986058959962507, 0.986058959962507, 0.986058959962507, 0.986058959962507, 0.986058959962507, 0.986058959962507, 0.986058959962507, 0.9878778962180018, 0.9878778962180018, 0.9878778962180018, 0.9878778962180018, 0.9878778962180018, 0.9878778962180018, 0.9878778962180018, 0.9878778962180018, 0.9878778962180018, 0.9878778962180018, 0.9878778962180018, 0.9878778962180018, 0.9878778962180018, 0.9878778962180018, 0.9878778962180018, 0.9878778962180018, 0.9878778962180018, 0.9878778962180018, 0.9878778962180018, 0.9878778962180018, 0.9878778962180018, 0.9878778962180018, 0.9878778962180018, 0.9878778962180018, 0.9878778962180018, 0.9878778962180018, 0.9878778962180018, 0.9878778962180018, 0.9878778962180018, 0.9878778962180018, 0.9878778962180018, 0.9878778962180018, 0.9878778962180018]}], \"recall_score_weighted\": [{\"categories\": [\"0\", \"1\", \"2\", \"3\", \"4\", \"5\", \"6\", \"7\", \"8\", \"9\", \"10\", \"11\", \"12\", \"13\", \"14\", \"15\", \"16\", \"17\", \"18\", \"19\", \"20\", \"21\", \"22\", \"23\", \"24\", \"25\", \"26\", \"27\", \"28\", \"29\", \"30\", \"31\", \"32\", \"33\", \"34\", \"35\", \"36\", \"37\", \"38\", \"39\", \"40\", \"41\", \"42\", \"43\", \"46\", \"47\"], \"mode\": \"markers\", \"name\": \"recall_score_weighted\", \"stepped\": false, \"type\": \"scatter\", \"data\": [0.9876068376068377, 0.9894586894586895, 0.9712250712250712, 0.9861823361823362, 0.9632478632478633, 0.9874643874643875, 0.9381766381766382, 0.9804843304843304, 0.9804843304843304, 0.9804843304843304, 0.9804843304843304, 0.9804843304843304, 0.9149572649572649, 0.9856125356125357, 0.9547008547008548, 0.9804843304843304, 0.9705128205128205, 0.9804843304843304, 0.9337606837606837, 0.8878917378917378, 0.9374643874643874, 0.9888888888888889, 0.9871794871794872, 0.9283475783475783, 0.9380341880341879, 0.6608262108262108, 0.9880341880341881, 0.9886039886039887, 0.9854700854700855, 0.9910256410256411, 0.956980056980057, 0.9891737891737892, 0.9447293447293447, 0.9883190883190883, 0.9897435897435898, 0.7606837606837606, 0.9344729344729344, 0.9866096866096866, 0.9897435897435898, 0.9683760683760684, 0.9804843304843304, 0.9887464387464387, 0.9586894586894587, 0.9897435897435898, 0.9692307692307692, 0.9678062678062678]}, {\"categories\": [\"0\", \"1\", \"2\", \"3\", \"4\", \"5\", \"6\", \"7\", \"8\", \"9\", \"10\", \"11\", \"12\", \"13\", \"14\", \"15\", \"16\", \"17\", \"18\", \"19\", \"20\", \"21\", \"22\", \"23\", \"24\", \"25\", \"26\", \"27\", \"28\", \"29\", \"30\", \"31\", \"32\", \"33\", \"34\", \"35\", \"36\", \"37\", \"38\", \"39\", \"40\", \"41\", \"42\", \"43\", \"46\", \"47\"], \"mode\": \"lines\", \"name\": \"recall_score_weighted_max\", \"stepped\": true, \"type\": \"scatter\", \"data\": [0.9876068376068377, 0.9894586894586895, 0.9894586894586895, 0.9894586894586895, 0.9894586894586895, 0.9894586894586895, 0.9894586894586895, 0.9894586894586895, 0.9894586894586895, 0.9894586894586895, 0.9894586894586895, 0.9894586894586895, 0.9894586894586895, 0.9894586894586895, 0.9894586894586895, 0.9894586894586895, 0.9894586894586895, 0.9894586894586895, 0.9894586894586895, 0.9894586894586895, 0.9894586894586895, 0.9894586894586895, 0.9894586894586895, 0.9894586894586895, 0.9894586894586895, 0.9894586894586895, 0.9894586894586895, 0.9894586894586895, 0.9894586894586895, 0.9910256410256411, 0.9910256410256411, 0.9910256410256411, 0.9910256410256411, 0.9910256410256411, 0.9910256410256411, 0.9910256410256411, 0.9910256410256411, 0.9910256410256411, 0.9910256410256411, 0.9910256410256411, 0.9910256410256411, 0.9910256410256411, 0.9910256410256411, 0.9910256410256411, 0.9910256410256411, 0.9910256410256411]}], \"log_loss\": [{\"categories\": [\"0\", \"1\", \"2\", \"3\", \"4\", \"5\", \"6\", \"7\", \"8\", \"9\", \"10\", \"11\", \"12\", \"13\", \"14\", \"15\", \"16\", \"17\", \"18\", \"19\", \"20\", \"21\", \"22\", \"23\", \"24\", \"25\", \"26\", \"27\", \"28\", \"29\", \"30\", \"31\", \"32\", \"33\", \"34\", \"35\", \"36\", \"37\", \"38\", \"39\", \"40\", \"41\", \"42\", \"43\", \"46\", \"47\"], \"mode\": \"markers\", \"name\": \"log_loss\", \"stepped\": false, \"type\": \"scatter\", \"data\": [0.04991036786613363, 0.027649049605158803, 0.09811173931300049, 0.039120631145765326, 0.14353690921316592, 0.04108353377037443, 0.6427211751060186, 0.05305050313377474, 0.04871958239043759, 0.07414288537407228, 0.06761803436225879, 0.06660476069300045, 0.5799460347092543, 0.0381438002703712, 0.14921040043309755, 0.07801476527566929, 0.10797699507699794, 0.06840566701175214, 0.20080275691247476, 0.4830421993585144, 0.5501572177215496, 0.21554167880409011, 0.03905746921451462, 0.5065146573309102, 0.34204499162561897, 0.6908805011797184, 0.03449864865655037, 0.039651249017283376, 0.03135336654785091, 0.024618142867539577, 0.13656652739796532, 0.026363305808023398, 0.5540866786244089, 0.027705474039307895, 0.21403823772309707, 0.43651983505558606, 0.5616032143096966, 0.029162939168677283, 0.024259464918382826, 0.12113199006178273, 0.09637805766930264, 0.02594322920713422, 0.1619530788905304, 0.21353238049072254, 0.2947486803194082, 0.13413748753249063]}, {\"categories\": [\"0\", \"1\", \"2\", \"3\", \"4\", \"5\", \"6\", \"7\", \"8\", \"9\", \"10\", \"11\", \"12\", \"13\", \"14\", \"15\", \"16\", \"17\", \"18\", \"19\", \"20\", \"21\", \"22\", \"23\", \"24\", \"25\", \"26\", \"27\", \"28\", \"29\", \"30\", \"31\", \"32\", \"33\", \"34\", \"35\", \"36\", \"37\", \"38\", \"39\", \"40\", \"41\", \"42\", \"43\", \"46\", \"47\"], \"mode\": \"lines\", \"name\": \"log_loss_min\", \"stepped\": true, \"type\": \"scatter\", \"data\": [0.04991036786613363, 0.027649049605158803, 0.027649049605158803, 0.027649049605158803, 0.027649049605158803, 0.027649049605158803, 0.027649049605158803, 0.027649049605158803, 0.027649049605158803, 0.027649049605158803, 0.027649049605158803, 0.027649049605158803, 0.027649049605158803, 0.027649049605158803, 0.027649049605158803, 0.027649049605158803, 0.027649049605158803, 0.027649049605158803, 0.027649049605158803, 0.027649049605158803, 0.027649049605158803, 0.027649049605158803, 0.027649049605158803, 0.027649049605158803, 0.027649049605158803, 0.027649049605158803, 0.027649049605158803, 0.027649049605158803, 0.027649049605158803, 0.024618142867539577, 0.024618142867539577, 0.024618142867539577, 0.024618142867539577, 0.024618142867539577, 0.024618142867539577, 0.024618142867539577, 0.024618142867539577, 0.024618142867539577, 0.024259464918382826, 0.024259464918382826, 0.024259464918382826, 0.024259464918382826, 0.024259464918382826, 0.024259464918382826, 0.024259464918382826, 0.024259464918382826]}], \"average_precision_score_weighted\": [{\"categories\": [\"0\", \"1\", \"2\", \"3\", \"4\", \"5\", \"6\", \"7\", \"8\", \"9\", \"10\", \"11\", \"12\", \"13\", \"14\", \"15\", \"16\", \"17\", \"18\", \"19\", \"20\", \"21\", \"22\", \"23\", \"24\", \"25\", \"26\", \"27\", \"28\", \"29\", \"30\", \"31\", \"32\", \"33\", \"34\", \"35\", \"36\", \"37\", \"38\", \"39\", \"40\", \"41\", \"42\", \"43\", \"46\", \"47\"], \"mode\": \"markers\", \"name\": \"average_precision_score_weighted\", \"stepped\": false, \"type\": \"scatter\", \"data\": [0.9947754642538372, 0.9957383385214261, 0.9921606238940089, 0.9927514386049842, 0.9886748195035855, 0.9941244448991986, 0.9882006782957387, 0.987247688121565, 0.9918171795418789, 0.9906676305049876, 0.9902483239357204, 0.9898380509490576, 0.9870520024453343, 0.9937360373440264, 0.9903762511016403, 0.9871055885316622, 0.9899777663644146, 0.9886598818411588, 0.9875213333001175, 0.9874393706786196, 0.9904610098638539, 0.9938470024190753, 0.9923891756717097, 0.9872033629334401, 0.9903472263258069, 0.9617450751211435, 0.9951111093437476, 0.9946127684808116, 0.9940867654569923, 0.9960751124968622, 0.9909891442542728, 0.9950518270095587, 0.9908204403835765, 0.995244280342741, 0.992890392694367, 0.9828733976791915, 0.9902040059396265, 0.9945260352192958, 0.9963756852721272, 0.9931261457484375, 0.9617450751211435, 0.9956506637939784, 0.9878954111581292, 0.9938314681228371, 0.9926153354804786, 0.9933203453452969]}, {\"categories\": [\"0\", \"1\", \"2\", \"3\", \"4\", \"5\", \"6\", \"7\", \"8\", \"9\", \"10\", \"11\", \"12\", \"13\", \"14\", \"15\", \"16\", \"17\", \"18\", \"19\", \"20\", \"21\", \"22\", \"23\", \"24\", \"25\", \"26\", \"27\", \"28\", \"29\", \"30\", \"31\", \"32\", \"33\", \"34\", \"35\", \"36\", \"37\", \"38\", \"39\", \"40\", \"41\", \"42\", \"43\", \"46\", \"47\"], \"mode\": \"lines\", \"name\": \"average_precision_score_weighted_max\", \"stepped\": true, \"type\": \"scatter\", \"data\": [0.9947754642538372, 0.9957383385214261, 0.9957383385214261, 0.9957383385214261, 0.9957383385214261, 0.9957383385214261, 0.9957383385214261, 0.9957383385214261, 0.9957383385214261, 0.9957383385214261, 0.9957383385214261, 0.9957383385214261, 0.9957383385214261, 0.9957383385214261, 0.9957383385214261, 0.9957383385214261, 0.9957383385214261, 0.9957383385214261, 0.9957383385214261, 0.9957383385214261, 0.9957383385214261, 0.9957383385214261, 0.9957383385214261, 0.9957383385214261, 0.9957383385214261, 0.9957383385214261, 0.9957383385214261, 0.9957383385214261, 0.9957383385214261, 0.9960751124968622, 0.9960751124968622, 0.9960751124968622, 0.9960751124968622, 0.9960751124968622, 0.9960751124968622, 0.9960751124968622, 0.9960751124968622, 0.9960751124968622, 0.9963756852721272, 0.9963756852721272, 0.9963756852721272, 0.9963756852721272, 0.9963756852721272, 0.9963756852721272, 0.9963756852721272, 0.9963756852721272]}], \"f1_score_macro\": [{\"categories\": [\"0\", \"1\", \"2\", \"3\", \"4\", \"5\", \"6\", \"7\", \"8\", \"9\", \"10\", \"11\", \"12\", \"13\", \"14\", \"15\", \"16\", \"17\", \"18\", \"19\", \"20\", \"21\", \"22\", \"23\", \"24\", \"25\", \"26\", \"27\", \"28\", \"29\", \"30\", \"31\", \"32\", \"33\", \"34\", \"35\", \"36\", \"37\", \"38\", \"39\", \"40\", \"41\", \"42\", \"43\", \"46\", \"47\"], \"mode\": \"markers\", \"name\": \"f1_score_macro\", \"stepped\": false, \"type\": \"scatter\", \"data\": [0.8146425519239978, 0.8513360221840934, 0.7733103585486529, 0.8007249397875165, 0.7433137259901725, 0.8337460018974442, 0.6819953111851343, 0.4950720608456045, 0.4950720608456045, 0.4950720608456045, 0.4950720608456045, 0.4950720608456045, 0.6308708065606355, 0.7692758791598808, 0.7176467957788369, 0.4950720608456045, 0.7721681545133513, 0.4950720608456045, 0.6659489389170791, 0.5971418214780103, 0.6723376563237372, 0.8492338504060369, 0.8047255121494264, 0.6672332451251156, 0.6758677971203189, 0.3368326773998785, 0.839008187408638, 0.8387548440516165, 0.7654943038113536, 0.8765486200456176, 0.724180545400122, 0.8468995700550749, 0.6887183425267809, 0.827206493170884, 0.8581702205848177, 0.5001577243752743, 0.6645952772570224, 0.7953401085812749, 0.8547089878775201, 0.7628072967630731, 0.4950720608456045, 0.8408070680846308, 0.7277880715387751, 0.8551001227531918, 0.7671410967753808, 0.7612991445658706]}, {\"categories\": [\"0\", \"1\", \"2\", \"3\", \"4\", \"5\", \"6\", \"7\", \"8\", \"9\", \"10\", \"11\", \"12\", \"13\", \"14\", \"15\", \"16\", \"17\", \"18\", \"19\", \"20\", \"21\", \"22\", \"23\", \"24\", \"25\", \"26\", \"27\", \"28\", \"29\", \"30\", \"31\", \"32\", \"33\", \"34\", \"35\", \"36\", \"37\", \"38\", \"39\", \"40\", \"41\", \"42\", \"43\", \"46\", \"47\"], \"mode\": \"lines\", \"name\": \"f1_score_macro_max\", \"stepped\": true, \"type\": \"scatter\", \"data\": [0.8146425519239978, 0.8513360221840934, 0.8513360221840934, 0.8513360221840934, 0.8513360221840934, 0.8513360221840934, 0.8513360221840934, 0.8513360221840934, 0.8513360221840934, 0.8513360221840934, 0.8513360221840934, 0.8513360221840934, 0.8513360221840934, 0.8513360221840934, 0.8513360221840934, 0.8513360221840934, 0.8513360221840934, 0.8513360221840934, 0.8513360221840934, 0.8513360221840934, 0.8513360221840934, 0.8513360221840934, 0.8513360221840934, 0.8513360221840934, 0.8513360221840934, 0.8513360221840934, 0.8513360221840934, 0.8513360221840934, 0.8513360221840934, 0.8765486200456176, 0.8765486200456176, 0.8765486200456176, 0.8765486200456176, 0.8765486200456176, 0.8765486200456176, 0.8765486200456176, 0.8765486200456176, 0.8765486200456176, 0.8765486200456176, 0.8765486200456176, 0.8765486200456176, 0.8765486200456176, 0.8765486200456176, 0.8765486200456176, 0.8765486200456176, 0.8765486200456176]}], \"balanced_accuracy\": [{\"categories\": [\"0\", \"1\", \"2\", \"3\", \"4\", \"5\", \"6\", \"7\", \"8\", \"9\", \"10\", \"11\", \"12\", \"13\", \"14\", \"15\", \"16\", \"17\", \"18\", \"19\", \"20\", \"21\", \"22\", \"23\", \"24\", \"25\", \"26\", \"27\", \"28\", \"29\", \"30\", \"31\", \"32\", \"33\", \"34\", \"35\", \"36\", \"37\", \"38\", \"39\", \"40\", \"41\", \"42\", \"43\", \"46\", \"47\"], \"mode\": \"markers\", \"name\": \"balanced_accuracy\", \"stepped\": false, \"type\": \"scatter\", \"data\": [0.7813965464752597, 0.8387273709033485, 0.9610713094506996, 0.7796024133544424, 0.9658645366197603, 0.8327811739392326, 0.917895734929643, 0.5, 0.5, 0.5, 0.5, 0.5, 0.9318243710549842, 0.7255927064768907, 0.9659430726632227, 0.5, 0.9695707930810733, 0.5, 0.9539681213288566, 0.9243237491777411, 0.9469874048449854, 0.8434019714549122, 0.7856075414150414, 0.9308634973787188, 0.9352368629350281, 0.5, 0.8362009286683851, 0.8181959291516057, 0.7168931581279009, 0.865119493118228, 0.9702355620401142, 0.8302517281564926, 0.9564165463109591, 0.7945929978535128, 0.8467024200272064, 0.8701066648967236, 0.9480530296832672, 0.7574301247666911, 0.8399394480863593, 0.9684755773540207, 0.5, 0.8206362164140176, 0.9666685723001267, 0.8399386263143246, 0.9720476442436531, 0.9681920815686272]}, {\"categories\": [\"0\", \"1\", \"2\", \"3\", \"4\", \"5\", \"6\", \"7\", \"8\", \"9\", \"10\", \"11\", \"12\", \"13\", \"14\", \"15\", \"16\", \"17\", \"18\", \"19\", \"20\", \"21\", \"22\", \"23\", \"24\", \"25\", \"26\", \"27\", \"28\", \"29\", \"30\", \"31\", \"32\", \"33\", \"34\", \"35\", \"36\", \"37\", \"38\", \"39\", \"40\", \"41\", \"42\", \"43\", \"46\", \"47\"], \"mode\": \"lines\", \"name\": \"balanced_accuracy_max\", \"stepped\": true, \"type\": \"scatter\", \"data\": [0.7813965464752597, 0.8387273709033485, 0.9610713094506996, 0.9610713094506996, 0.9658645366197603, 0.9658645366197603, 0.9658645366197603, 0.9658645366197603, 0.9658645366197603, 0.9658645366197603, 0.9658645366197603, 0.9658645366197603, 0.9658645366197603, 0.9658645366197603, 0.9659430726632227, 0.9659430726632227, 0.9695707930810733, 0.9695707930810733, 0.9695707930810733, 0.9695707930810733, 0.9695707930810733, 0.9695707930810733, 0.9695707930810733, 0.9695707930810733, 0.9695707930810733, 0.9695707930810733, 0.9695707930810733, 0.9695707930810733, 0.9695707930810733, 0.9695707930810733, 0.9702355620401142, 0.9702355620401142, 0.9702355620401142, 0.9702355620401142, 0.9702355620401142, 0.9702355620401142, 0.9702355620401142, 0.9702355620401142, 0.9702355620401142, 0.9702355620401142, 0.9702355620401142, 0.9702355620401142, 0.9702355620401142, 0.9702355620401142, 0.9720476442436531, 0.9720476442436531]}], \"accuracy\": [{\"categories\": [\"0\", \"1\", \"2\", \"3\", \"4\", \"5\", \"6\", \"7\", \"8\", \"9\", \"10\", \"11\", \"12\", \"13\", \"14\", \"15\", \"16\", \"17\", \"18\", \"19\", \"20\", \"21\", \"22\", \"23\", \"24\", \"25\", \"26\", \"27\", \"28\", \"29\", \"30\", \"31\", \"32\", \"33\", \"34\", \"35\", \"36\", \"37\", \"38\", \"39\", \"40\", \"41\", \"42\", \"43\", \"46\", \"47\"], \"mode\": \"markers\", \"name\": \"accuracy\", \"stepped\": false, \"type\": \"scatter\", \"data\": [0.9876068376068377, 0.9894586894586895, 0.9712250712250712, 0.9861823361823362, 0.9632478632478633, 0.9874643874643875, 0.9381766381766382, 0.9804843304843304, 0.9804843304843304, 0.9804843304843304, 0.9804843304843304, 0.9804843304843304, 0.9149572649572649, 0.9856125356125357, 0.9547008547008548, 0.9804843304843304, 0.9705128205128205, 0.9804843304843304, 0.9337606837606837, 0.8878917378917378, 0.9374643874643874, 0.9888888888888889, 0.9871794871794872, 0.9283475783475783, 0.9380341880341879, 0.6608262108262108, 0.9880341880341881, 0.9886039886039887, 0.9854700854700855, 0.9910256410256411, 0.956980056980057, 0.9891737891737892, 0.9447293447293447, 0.9883190883190883, 0.9897435897435898, 0.7606837606837606, 0.9344729344729344, 0.9866096866096866, 0.9897435897435898, 0.9683760683760684, 0.9804843304843304, 0.9887464387464387, 0.9586894586894587, 0.9897435897435898, 0.9692307692307692, 0.9678062678062678]}, {\"categories\": [\"0\", \"1\", \"2\", \"3\", \"4\", \"5\", \"6\", \"7\", \"8\", \"9\", \"10\", \"11\", \"12\", \"13\", \"14\", \"15\", \"16\", \"17\", \"18\", \"19\", \"20\", \"21\", \"22\", \"23\", \"24\", \"25\", \"26\", \"27\", \"28\", \"29\", \"30\", \"31\", \"32\", \"33\", \"34\", \"35\", \"36\", \"37\", \"38\", \"39\", \"40\", \"41\", \"42\", \"43\", \"46\", \"47\"], \"mode\": \"lines\", \"name\": \"accuracy_max\", \"stepped\": true, \"type\": \"scatter\", \"data\": [0.9876068376068377, 0.9894586894586895, 0.9894586894586895, 0.9894586894586895, 0.9894586894586895, 0.9894586894586895, 0.9894586894586895, 0.9894586894586895, 0.9894586894586895, 0.9894586894586895, 0.9894586894586895, 0.9894586894586895, 0.9894586894586895, 0.9894586894586895, 0.9894586894586895, 0.9894586894586895, 0.9894586894586895, 0.9894586894586895, 0.9894586894586895, 0.9894586894586895, 0.9894586894586895, 0.9894586894586895, 0.9894586894586895, 0.9894586894586895, 0.9894586894586895, 0.9894586894586895, 0.9894586894586895, 0.9894586894586895, 0.9894586894586895, 0.9910256410256411, 0.9910256410256411, 0.9910256410256411, 0.9910256410256411, 0.9910256410256411, 0.9910256410256411, 0.9910256410256411, 0.9910256410256411, 0.9910256410256411, 0.9910256410256411, 0.9910256410256411, 0.9910256410256411, 0.9910256410256411, 0.9910256410256411, 0.9910256410256411, 0.9910256410256411, 0.9910256410256411]}], \"average_precision_score_macro\": [{\"categories\": [\"0\", \"1\", \"2\", \"3\", \"4\", \"5\", \"6\", \"7\", \"8\", \"9\", \"10\", \"11\", \"12\", \"13\", \"14\", \"15\", \"16\", \"17\", \"18\", \"19\", \"20\", \"21\", \"22\", \"23\", \"24\", \"25\", \"26\", \"27\", \"28\", \"29\", \"30\", \"31\", \"32\", \"33\", \"34\", \"35\", \"36\", \"37\", \"38\", \"39\", \"40\", \"41\", \"42\", \"43\", \"46\", \"47\"], \"mode\": \"markers\", \"name\": \"average_precision_score_macro\", \"stepped\": false, \"type\": \"scatter\", \"data\": [0.8761183753061058, 0.8949515993637022, 0.8092157025998105, 0.824052988817748, 0.7228449185910261, 0.8642390864460494, 0.7290414276528966, 0.6864504244608115, 0.8005497031312188, 0.7796083750875704, 0.7653629465779956, 0.7562112862558207, 0.6932664869103228, 0.843990773398564, 0.7654382722992225, 0.6887599051121504, 0.7562909403390176, 0.7394605540027444, 0.6899344011562111, 0.6973754936438507, 0.7696299071909466, 0.8627500635676738, 0.8160629991648548, 0.6959680683633759, 0.7646908915496716, 0.5, 0.8809963363789737, 0.870149097601565, 0.8551060651508268, 0.9042773877884841, 0.781856384090127, 0.8848945534691101, 0.7797533307447172, 0.8821991566527769, 0.8601227160834798, 0.5937664623214789, 0.7628642614690458, 0.8641240111206953, 0.9118829133252304, 0.8301836416992477, 0.5, 0.8934115076847627, 0.7057199227377456, 0.8731428209714084, 0.8202235072481744, 0.8441912614560917]}, {\"categories\": [\"0\", \"1\", \"2\", \"3\", \"4\", \"5\", \"6\", \"7\", \"8\", \"9\", \"10\", \"11\", \"12\", \"13\", \"14\", \"15\", \"16\", \"17\", \"18\", \"19\", \"20\", \"21\", \"22\", \"23\", \"24\", \"25\", \"26\", \"27\", \"28\", \"29\", \"30\", \"31\", \"32\", \"33\", \"34\", \"35\", \"36\", \"37\", \"38\", \"39\", \"40\", \"41\", \"42\", \"43\", \"46\", \"47\"], \"mode\": \"lines\", \"name\": \"average_precision_score_macro_max\", \"stepped\": true, \"type\": \"scatter\", \"data\": [0.8761183753061058, 0.8949515993637022, 0.8949515993637022, 0.8949515993637022, 0.8949515993637022, 0.8949515993637022, 0.8949515993637022, 0.8949515993637022, 0.8949515993637022, 0.8949515993637022, 0.8949515993637022, 0.8949515993637022, 0.8949515993637022, 0.8949515993637022, 0.8949515993637022, 0.8949515993637022, 0.8949515993637022, 0.8949515993637022, 0.8949515993637022, 0.8949515993637022, 0.8949515993637022, 0.8949515993637022, 0.8949515993637022, 0.8949515993637022, 0.8949515993637022, 0.8949515993637022, 0.8949515993637022, 0.8949515993637022, 0.8949515993637022, 0.9042773877884841, 0.9042773877884841, 0.9042773877884841, 0.9042773877884841, 0.9042773877884841, 0.9042773877884841, 0.9042773877884841, 0.9042773877884841, 0.9042773877884841, 0.9118829133252304, 0.9118829133252304, 0.9118829133252304, 0.9118829133252304, 0.9118829133252304, 0.9118829133252304, 0.9118829133252304, 0.9118829133252304]}], \"f1_score_micro\": [{\"categories\": [\"0\", \"1\", \"2\", \"3\", \"4\", \"5\", \"6\", \"7\", \"8\", \"9\", \"10\", \"11\", \"12\", \"13\", \"14\", \"15\", \"16\", \"17\", \"18\", \"19\", \"20\", \"21\", \"22\", \"23\", \"24\", \"25\", \"26\", \"27\", \"28\", \"29\", \"30\", \"31\", \"32\", \"33\", \"34\", \"35\", \"36\", \"37\", \"38\", \"39\", \"40\", \"41\", \"42\", \"43\", \"46\", \"47\"], \"mode\": \"markers\", \"name\": \"f1_score_micro\", \"stepped\": false, \"type\": \"scatter\", \"data\": [0.9876068376068377, 0.9894586894586895, 0.9712250712250712, 0.9861823361823362, 0.9632478632478633, 0.9874643874643875, 0.9381766381766382, 0.9804843304843304, 0.9804843304843304, 0.9804843304843304, 0.9804843304843304, 0.9804843304843304, 0.9149572649572649, 0.9856125356125357, 0.9547008547008548, 0.9804843304843304, 0.9705128205128205, 0.9804843304843304, 0.9337606837606837, 0.8878917378917378, 0.9374643874643874, 0.9888888888888889, 0.9871794871794872, 0.9283475783475783, 0.9380341880341879, 0.6608262108262108, 0.9880341880341881, 0.9886039886039887, 0.9854700854700855, 0.9910256410256411, 0.956980056980057, 0.9891737891737892, 0.9447293447293447, 0.9883190883190883, 0.9897435897435898, 0.7606837606837606, 0.9344729344729344, 0.9866096866096866, 0.9897435897435898, 0.9683760683760684, 0.9804843304843304, 0.9887464387464387, 0.9586894586894587, 0.9897435897435898, 0.9692307692307692, 0.9678062678062678]}, {\"categories\": [\"0\", \"1\", \"2\", \"3\", \"4\", \"5\", \"6\", \"7\", \"8\", \"9\", \"10\", \"11\", \"12\", \"13\", \"14\", \"15\", \"16\", \"17\", \"18\", \"19\", \"20\", \"21\", \"22\", \"23\", \"24\", \"25\", \"26\", \"27\", \"28\", \"29\", \"30\", \"31\", \"32\", \"33\", \"34\", \"35\", \"36\", \"37\", \"38\", \"39\", \"40\", \"41\", \"42\", \"43\", \"46\", \"47\"], \"mode\": \"lines\", \"name\": \"f1_score_micro_max\", \"stepped\": true, \"type\": \"scatter\", \"data\": [0.9876068376068377, 0.9894586894586895, 0.9894586894586895, 0.9894586894586895, 0.9894586894586895, 0.9894586894586895, 0.9894586894586895, 0.9894586894586895, 0.9894586894586895, 0.9894586894586895, 0.9894586894586895, 0.9894586894586895, 0.9894586894586895, 0.9894586894586895, 0.9894586894586895, 0.9894586894586895, 0.9894586894586895, 0.9894586894586895, 0.9894586894586895, 0.9894586894586895, 0.9894586894586895, 0.9894586894586895, 0.9894586894586895, 0.9894586894586895, 0.9894586894586895, 0.9894586894586895, 0.9894586894586895, 0.9894586894586895, 0.9894586894586895, 0.9910256410256411, 0.9910256410256411, 0.9910256410256411, 0.9910256410256411, 0.9910256410256411, 0.9910256410256411, 0.9910256410256411, 0.9910256410256411, 0.9910256410256411, 0.9910256410256411, 0.9910256410256411, 0.9910256410256411, 0.9910256410256411, 0.9910256410256411, 0.9910256410256411, 0.9910256410256411, 0.9910256410256411]}], \"precision_score_weighted\": [{\"categories\": [\"0\", \"1\", \"2\", \"3\", \"4\", \"5\", \"6\", \"7\", \"8\", \"9\", \"10\", \"11\", \"12\", \"13\", \"14\", \"15\", \"16\", \"17\", \"18\", \"19\", \"20\", \"21\", \"22\", \"23\", \"24\", \"25\", \"26\", \"27\", \"28\", \"29\", \"30\", \"31\", \"32\", \"33\", \"34\", \"35\", \"36\", \"37\", \"38\", \"39\", \"40\", \"41\", \"42\", \"43\", \"46\", \"47\"], \"mode\": \"markers\", \"name\": \"precision_score_weighted\", \"stepped\": false, \"type\": \"scatter\", \"data\": [0.9865463323634928, 0.9891670454450546, 0.9876188744923912, 0.9853164282661023, 0.9867308293903486, 0.9873974064716986, 0.9837772867642455, 0.9613568680449021, 0.9613568680449021, 0.9613568680449021, 0.9613568680449021, 0.9613568680449021, 0.9829841844358294, 0.9839206201646218, 0.9861023035968463, 0.9613568680449021, 0.987775972243308, 0.9613568680449021, 0.9845859659227228, 0.9826575923525157, 0.9844776210567922, 0.9887829123675903, 0.9862202973199334, 0.9839992726208747, 0.9840188062106021, 0.6416987483867825, 0.987918187236068, 0.9880077872086157, 0.9840965244691301, 0.9909576885821135, 0.9863933752966164, 0.9887219889209221, 0.984987359084981, 0.9873908739971888, 0.9896226780919107, 0.9815918860056407, 0.984165612559309, 0.9852280226363, 0.9895783686227041, 0.9873222795152942, 0.9613568680449021, 0.9882303427948509, 0.9862913291067241, 0.9895152052919839, 0.9876804966401455, 0.9874198250672818]}, {\"categories\": [\"0\", \"1\", \"2\", \"3\", \"4\", \"5\", \"6\", \"7\", \"8\", \"9\", \"10\", \"11\", \"12\", \"13\", \"14\", \"15\", \"16\", \"17\", \"18\", \"19\", \"20\", \"21\", \"22\", \"23\", \"24\", \"25\", \"26\", \"27\", \"28\", \"29\", \"30\", \"31\", \"32\", \"33\", \"34\", \"35\", \"36\", \"37\", \"38\", \"39\", \"40\", \"41\", \"42\", \"43\", \"46\", \"47\"], \"mode\": \"lines\", \"name\": \"precision_score_weighted_max\", \"stepped\": true, \"type\": \"scatter\", \"data\": [0.9865463323634928, 0.9891670454450546, 0.9891670454450546, 0.9891670454450546, 0.9891670454450546, 0.9891670454450546, 0.9891670454450546, 0.9891670454450546, 0.9891670454450546, 0.9891670454450546, 0.9891670454450546, 0.9891670454450546, 0.9891670454450546, 0.9891670454450546, 0.9891670454450546, 0.9891670454450546, 0.9891670454450546, 0.9891670454450546, 0.9891670454450546, 0.9891670454450546, 0.9891670454450546, 0.9891670454450546, 0.9891670454450546, 0.9891670454450546, 0.9891670454450546, 0.9891670454450546, 0.9891670454450546, 0.9891670454450546, 0.9891670454450546, 0.9909576885821135, 0.9909576885821135, 0.9909576885821135, 0.9909576885821135, 0.9909576885821135, 0.9909576885821135, 0.9909576885821135, 0.9909576885821135, 0.9909576885821135, 0.9909576885821135, 0.9909576885821135, 0.9909576885821135, 0.9909576885821135, 0.9909576885821135, 0.9909576885821135, 0.9909576885821135, 0.9909576885821135]}], \"matthews_correlation\": [{\"categories\": [\"0\", \"1\", \"2\", \"3\", \"4\", \"5\", \"6\", \"7\", \"8\", \"9\", \"10\", \"11\", \"12\", \"13\", \"14\", \"15\", \"16\", \"17\", \"18\", \"19\", \"20\", \"21\", \"22\", \"23\", \"24\", \"25\", \"26\", \"27\", \"28\", \"29\", \"30\", \"31\", \"32\", \"33\", \"34\", \"35\", \"36\", \"37\", \"38\", \"39\", \"40\", \"41\", \"42\", \"43\", \"46\", \"47\"], \"mode\": \"markers\", \"name\": \"matthews_correlation\", \"stepped\": false, \"type\": \"scatter\", \"data\": [0.6364068396939287, 0.7061688403944107, 0.6057619228777995, 0.6078408216976586, 0.5642743570724497, 0.6694230300834455, 0.4589127127854906, 0.0, 0.0, 0.0, 0.0, 0.0, 0.3963862970972834, 0.5566999069173668, 0.528256588950606, 0.0, 0.607652413000913, 0.0, 0.4520301757569702, 0.35129927128322985, 0.4576003050571374, 0.7007101724058661, 0.6201172169778553, 0.445782076327913, 0.4577907968779933, 0.0, 0.6787123817620416, 0.6805464505277873, 0.5519396660001208, 0.7565322849881899, 0.5391281606292094, 0.6959145532436904, 0.48383888074818854, 0.6589661722610786, 0.7208564780031755, 0.23521703614181874, 0.44735789512451624, 0.598020474818077, 0.7141735976402753, 0.593300091241027, 0.0, 0.684305134036978, 0.5424950969550637, 0.7146469517424269, 0.6012741939348588, 0.5913673507999038]}, {\"categories\": [\"0\", \"1\", \"2\", \"3\", \"4\", \"5\", \"6\", \"7\", \"8\", \"9\", \"10\", \"11\", \"12\", \"13\", \"14\", \"15\", \"16\", \"17\", \"18\", \"19\", \"20\", \"21\", \"22\", \"23\", \"24\", \"25\", \"26\", \"27\", \"28\", \"29\", \"30\", \"31\", \"32\", \"33\", \"34\", \"35\", \"36\", \"37\", \"38\", \"39\", \"40\", \"41\", \"42\", \"43\", \"46\", \"47\"], \"mode\": \"lines\", \"name\": \"matthews_correlation_max\", \"stepped\": true, \"type\": \"scatter\", \"data\": [0.6364068396939287, 0.7061688403944107, 0.7061688403944107, 0.7061688403944107, 0.7061688403944107, 0.7061688403944107, 0.7061688403944107, 0.7061688403944107, 0.7061688403944107, 0.7061688403944107, 0.7061688403944107, 0.7061688403944107, 0.7061688403944107, 0.7061688403944107, 0.7061688403944107, 0.7061688403944107, 0.7061688403944107, 0.7061688403944107, 0.7061688403944107, 0.7061688403944107, 0.7061688403944107, 0.7061688403944107, 0.7061688403944107, 0.7061688403944107, 0.7061688403944107, 0.7061688403944107, 0.7061688403944107, 0.7061688403944107, 0.7061688403944107, 0.7565322849881899, 0.7565322849881899, 0.7565322849881899, 0.7565322849881899, 0.7565322849881899, 0.7565322849881899, 0.7565322849881899, 0.7565322849881899, 0.7565322849881899, 0.7565322849881899, 0.7565322849881899, 0.7565322849881899, 0.7565322849881899, 0.7565322849881899, 0.7565322849881899, 0.7565322849881899, 0.7565322849881899]}], \"norm_macro_recall\": [{\"categories\": [\"0\", \"1\", \"2\", \"3\", \"4\", \"5\", \"6\", \"7\", \"8\", \"9\", \"10\", \"11\", \"12\", \"13\", \"14\", \"15\", \"16\", \"17\", \"18\", \"19\", \"20\", \"21\", \"22\", \"23\", \"24\", \"25\", \"26\", \"27\", \"28\", \"29\", \"30\", \"31\", \"32\", \"33\", \"34\", \"35\", \"36\", \"37\", \"38\", \"39\", \"40\", \"41\", \"42\", \"43\", \"46\", \"47\"], \"mode\": \"markers\", \"name\": \"norm_macro_recall\", \"stepped\": false, \"type\": \"scatter\", \"data\": [0.5627930929505192, 0.6774547418066968, 0.9221426189013994, 0.5592048267088846, 0.9317290732395206, 0.6655623478784652, 0.8357914698592861, 0.0, 0.0, 0.0, 0.0, 0.0, 0.8636487421099682, 0.45118541295378134, 0.9318861453264452, 0.0, 0.9391415861621466, 0.0, 0.9079362426577134, 0.8486474983554823, 0.8939748096899707, 0.6868039429098246, 0.571215082830083, 0.8617269947574376, 0.8704737258700561, 0.0, 0.6724018573367703, 0.6363918583032112, 0.4337863162558018, 0.730238986236456, 0.9404711240802284, 0.6605034563129855, 0.9128330926219181, 0.5891859957070257, 0.6934048400544128, 0.7402133297934473, 0.8961060593665344, 0.5148602495333824, 0.6798788961727186, 0.9369511547080412, 0.0, 0.6412724328280351, 0.9333371446002534, 0.679877252628649, 0.9440952884873063, 0.9363841631372544]}, {\"categories\": [\"0\", \"1\", \"2\", \"3\", \"4\", \"5\", \"6\", \"7\", \"8\", \"9\", \"10\", \"11\", \"12\", \"13\", \"14\", \"15\", \"16\", \"17\", \"18\", \"19\", \"20\", \"21\", \"22\", \"23\", \"24\", \"25\", \"26\", \"27\", \"28\", \"29\", \"30\", \"31\", \"32\", \"33\", \"34\", \"35\", \"36\", \"37\", \"38\", \"39\", \"40\", \"41\", \"42\", \"43\", \"46\", \"47\"], \"mode\": \"lines\", \"name\": \"norm_macro_recall_max\", \"stepped\": true, \"type\": \"scatter\", \"data\": [0.5627930929505192, 0.6774547418066968, 0.9221426189013994, 0.9221426189013994, 0.9317290732395206, 0.9317290732395206, 0.9317290732395206, 0.9317290732395206, 0.9317290732395206, 0.9317290732395206, 0.9317290732395206, 0.9317290732395206, 0.9317290732395206, 0.9317290732395206, 0.9318861453264452, 0.9318861453264452, 0.9391415861621466, 0.9391415861621466, 0.9391415861621466, 0.9391415861621466, 0.9391415861621466, 0.9391415861621466, 0.9391415861621466, 0.9391415861621466, 0.9391415861621466, 0.9391415861621466, 0.9391415861621466, 0.9391415861621466, 0.9391415861621466, 0.9391415861621466, 0.9404711240802284, 0.9404711240802284, 0.9404711240802284, 0.9404711240802284, 0.9404711240802284, 0.9404711240802284, 0.9404711240802284, 0.9404711240802284, 0.9404711240802284, 0.9404711240802284, 0.9404711240802284, 0.9404711240802284, 0.9404711240802284, 0.9404711240802284, 0.9440952884873063, 0.9440952884873063]}], \"recall_score_macro\": [{\"categories\": [\"0\", \"1\", \"2\", \"3\", \"4\", \"5\", \"6\", \"7\", \"8\", \"9\", \"10\", \"11\", \"12\", \"13\", \"14\", \"15\", \"16\", \"17\", \"18\", \"19\", \"20\", \"21\", \"22\", \"23\", \"24\", \"25\", \"26\", \"27\", \"28\", \"29\", \"30\", \"31\", \"32\", \"33\", \"34\", \"35\", \"36\", \"37\", \"38\", \"39\", \"40\", \"41\", \"42\", \"43\", \"46\", \"47\"], \"mode\": \"markers\", \"name\": \"recall_score_macro\", \"stepped\": false, \"type\": \"scatter\", \"data\": [0.7813965464752597, 0.8387273709033485, 0.9610713094506996, 0.7796024133544424, 0.9658645366197603, 0.8327811739392326, 0.917895734929643, 0.5, 0.5, 0.5, 0.5, 0.5, 0.9318243710549842, 0.7255927064768907, 0.9659430726632227, 0.5, 0.9695707930810733, 0.5, 0.9539681213288566, 0.9243237491777411, 0.9469874048449854, 0.8434019714549122, 0.7856075414150414, 0.9308634973787188, 0.9352368629350281, 0.5, 0.8362009286683851, 0.8181959291516057, 0.7168931581279009, 0.865119493118228, 0.9702355620401142, 0.8302517281564926, 0.9564165463109591, 0.7945929978535128, 0.8467024200272064, 0.8701066648967236, 0.9480530296832672, 0.7574301247666911, 0.8399394480863593, 0.9684755773540207, 0.5, 0.8206362164140176, 0.9666685723001267, 0.8399386263143246, 0.9720476442436531, 0.9681920815686272]}, {\"categories\": [\"0\", \"1\", \"2\", \"3\", \"4\", \"5\", \"6\", \"7\", \"8\", \"9\", \"10\", \"11\", \"12\", \"13\", \"14\", \"15\", \"16\", \"17\", \"18\", \"19\", \"20\", \"21\", \"22\", \"23\", \"24\", \"25\", \"26\", \"27\", \"28\", \"29\", \"30\", \"31\", \"32\", \"33\", \"34\", \"35\", \"36\", \"37\", \"38\", \"39\", \"40\", \"41\", \"42\", \"43\", \"46\", \"47\"], \"mode\": \"lines\", \"name\": \"recall_score_macro_max\", \"stepped\": true, \"type\": \"scatter\", \"data\": [0.7813965464752597, 0.8387273709033485, 0.9610713094506996, 0.9610713094506996, 0.9658645366197603, 0.9658645366197603, 0.9658645366197603, 0.9658645366197603, 0.9658645366197603, 0.9658645366197603, 0.9658645366197603, 0.9658645366197603, 0.9658645366197603, 0.9658645366197603, 0.9659430726632227, 0.9659430726632227, 0.9695707930810733, 0.9695707930810733, 0.9695707930810733, 0.9695707930810733, 0.9695707930810733, 0.9695707930810733, 0.9695707930810733, 0.9695707930810733, 0.9695707930810733, 0.9695707930810733, 0.9695707930810733, 0.9695707930810733, 0.9695707930810733, 0.9695707930810733, 0.9702355620401142, 0.9702355620401142, 0.9702355620401142, 0.9702355620401142, 0.9702355620401142, 0.9702355620401142, 0.9702355620401142, 0.9702355620401142, 0.9702355620401142, 0.9702355620401142, 0.9702355620401142, 0.9702355620401142, 0.9702355620401142, 0.9702355620401142, 0.9720476442436531, 0.9720476442436531]}], \"f1_score_weighted\": [{\"categories\": [\"0\", \"1\", \"2\", \"3\", \"4\", \"5\", \"6\", \"7\", \"8\", \"9\", \"10\", \"11\", \"12\", \"13\", \"14\", \"15\", \"16\", \"17\", \"18\", \"19\", \"20\", \"21\", \"22\", \"23\", \"24\", \"25\", \"26\", \"27\", \"28\", \"29\", \"30\", \"31\", \"32\", \"33\", \"34\", \"35\", \"36\", \"37\", \"38\", \"39\", \"40\", \"41\", \"42\", \"43\", \"46\", \"47\"], \"mode\": \"markers\", \"name\": \"f1_score_weighted\", \"stepped\": false, \"type\": \"scatter\", \"data\": [0.9867898031302715, 0.9891721996191879, 0.9770654918465499, 0.985488449301617, 0.9717787647182995, 0.9873577847312923, 0.9564598939673479, 0.9708245392774518, 0.9708245392774518, 0.9708245392774518, 0.9708245392774518, 0.9708245392774518, 0.9420074027176688, 0.9841185549763555, 0.9664347462498594, 0.9708245392774518, 0.9766147834600277, 0.9708245392774518, 0.9535363286841824, 0.9261167142413568, 0.9557217856414262, 0.9887469691959686, 0.9862846347710917, 0.9505912035736624, 0.9560121506761848, 0.6479870668526647, 0.9879491116162534, 0.9881837108679239, 0.983874624734684, 0.990852264754324, 0.9678442778307857, 0.9888633407750024, 0.9600754384611242, 0.9876747578625187, 0.9894993840820926, 0.8463967799234289, 0.9537816488771206, 0.9856272711883177, 0.9894682839609383, 0.9750849735464188, 0.9708245392774518, 0.9883802258658855, 0.9688045311202038, 0.9894517443775174, 0.9757477845136785, 0.9748391373894996]}, {\"categories\": [\"0\", \"1\", \"2\", \"3\", \"4\", \"5\", \"6\", \"7\", \"8\", \"9\", \"10\", \"11\", \"12\", \"13\", \"14\", \"15\", \"16\", \"17\", \"18\", \"19\", \"20\", \"21\", \"22\", \"23\", \"24\", \"25\", \"26\", \"27\", \"28\", \"29\", \"30\", \"31\", \"32\", \"33\", \"34\", \"35\", \"36\", \"37\", \"38\", \"39\", \"40\", \"41\", \"42\", \"43\", \"46\", \"47\"], \"mode\": \"lines\", \"name\": \"f1_score_weighted_max\", \"stepped\": true, \"type\": \"scatter\", \"data\": [0.9867898031302715, 0.9891721996191879, 0.9891721996191879, 0.9891721996191879, 0.9891721996191879, 0.9891721996191879, 0.9891721996191879, 0.9891721996191879, 0.9891721996191879, 0.9891721996191879, 0.9891721996191879, 0.9891721996191879, 0.9891721996191879, 0.9891721996191879, 0.9891721996191879, 0.9891721996191879, 0.9891721996191879, 0.9891721996191879, 0.9891721996191879, 0.9891721996191879, 0.9891721996191879, 0.9891721996191879, 0.9891721996191879, 0.9891721996191879, 0.9891721996191879, 0.9891721996191879, 0.9891721996191879, 0.9891721996191879, 0.9891721996191879, 0.990852264754324, 0.990852264754324, 0.990852264754324, 0.990852264754324, 0.990852264754324, 0.990852264754324, 0.990852264754324, 0.990852264754324, 0.990852264754324, 0.990852264754324, 0.990852264754324, 0.990852264754324, 0.990852264754324, 0.990852264754324, 0.990852264754324, 0.990852264754324, 0.990852264754324]}], \"precision_score_macro\": [{\"categories\": [\"0\", \"1\", \"2\", \"3\", \"4\", \"5\", \"6\", \"7\", \"8\", \"9\", \"10\", \"11\", \"12\", \"13\", \"14\", \"15\", \"16\", \"17\", \"18\", \"19\", \"20\", \"21\", \"22\", \"23\", \"24\", \"25\", \"26\", \"27\", \"28\", \"29\", \"30\", \"31\", \"32\", \"33\", \"34\", \"35\", \"36\", \"37\", \"38\", \"39\", \"40\", \"41\", \"42\", \"43\", \"46\", \"47\"], \"mode\": \"markers\", \"name\": \"precision_score_macro\", \"stepped\": false, \"type\": \"scatter\", \"data\": [0.8616748830508237, 0.8706905273860416, 0.6999263109886367, 0.8342462897153681, 0.6716168621437424, 0.8384008715332575, 0.630772145833124, 0.4902421652421652, 0.4902421652421652, 0.4902421652421652, 0.4902421652421652, 0.4902421652421652, 0.5913227594953682, 0.8487986303107183, 0.6511839542655827, 0.4902421652421652, 0.6974677551259525, 0.4902421652421652, 0.6134605314215041, 0.5735421977967522, 0.618138459862266, 0.859373743907132, 0.8445698774100917, 0.62039461841571, 0.6228154304584722, 0.3304131054131054, 0.8431429923257486, 0.8651578327380096, 0.8555000777957639, 0.8946072115688507, 0.655429741579905, 0.8676123401988699, 0.6287287602024555, 0.8685631589813608, 0.878367301479663, 0.537524345434247, 0.611999276669978, 0.8473686995341599, 0.8786774937861038, 0.6880228605244515, 0.4902421652421652, 0.8661554689656147, 0.6578811637942702, 0.8788397353630556, 0.6920191311420832, 0.687962752050644]}, {\"categories\": [\"0\", \"1\", \"2\", \"3\", \"4\", \"5\", \"6\", \"7\", \"8\", \"9\", \"10\", \"11\", \"12\", \"13\", \"14\", \"15\", \"16\", \"17\", \"18\", \"19\", \"20\", \"21\", \"22\", \"23\", \"24\", \"25\", \"26\", \"27\", \"28\", \"29\", \"30\", \"31\", \"32\", \"33\", \"34\", \"35\", \"36\", \"37\", \"38\", \"39\", \"40\", \"41\", \"42\", \"43\", \"46\", \"47\"], \"mode\": \"lines\", \"name\": \"precision_score_macro_max\", \"stepped\": true, \"type\": \"scatter\", \"data\": [0.8616748830508237, 0.8706905273860416, 0.8706905273860416, 0.8706905273860416, 0.8706905273860416, 0.8706905273860416, 0.8706905273860416, 0.8706905273860416, 0.8706905273860416, 0.8706905273860416, 0.8706905273860416, 0.8706905273860416, 0.8706905273860416, 0.8706905273860416, 0.8706905273860416, 0.8706905273860416, 0.8706905273860416, 0.8706905273860416, 0.8706905273860416, 0.8706905273860416, 0.8706905273860416, 0.8706905273860416, 0.8706905273860416, 0.8706905273860416, 0.8706905273860416, 0.8706905273860416, 0.8706905273860416, 0.8706905273860416, 0.8706905273860416, 0.8946072115688507, 0.8946072115688507, 0.8946072115688507, 0.8946072115688507, 0.8946072115688507, 0.8946072115688507, 0.8946072115688507, 0.8946072115688507, 0.8946072115688507, 0.8946072115688507, 0.8946072115688507, 0.8946072115688507, 0.8946072115688507, 0.8946072115688507, 0.8946072115688507, 0.8946072115688507, 0.8946072115688507]}], \"weighted_accuracy\": [{\"categories\": [\"0\", \"1\", \"2\", \"3\", \"4\", \"5\", \"6\", \"7\", \"8\", \"9\", \"10\", \"11\", \"12\", \"13\", \"14\", \"15\", \"16\", \"17\", \"18\", \"19\", \"20\", \"21\", \"22\", \"23\", \"24\", \"25\", \"26\", \"27\", \"28\", \"29\", \"30\", \"31\", \"32\", \"33\", \"34\", \"35\", \"36\", \"37\", \"38\", \"39\", \"40\", \"41\", \"42\", \"43\", \"46\", \"47\"], \"mode\": \"markers\", \"name\": \"weighted_accuracy\", \"stepped\": false, \"type\": \"scatter\", \"data\": [0.9957616980235221, 0.9953755454730753, 0.9715288453475787, 0.9944503244627717, 0.9631055219323453, 0.9937640036072942, 0.9390432893126546, 0.9995957652550409, 0.9995957652550409, 0.9995957652550409, 0.9995957652550409, 0.9995957652550409, 0.9142671661013648, 0.9957183073516491, 0.9542590719821408, 0.9995957652550409, 0.9705149362585656, 0.9995957652550409, 0.9329173403603167, 0.8864603733808076, 0.9369680298770241, 0.9946495209141512, 0.9949003860092008, 0.9282845760344282, 0.9380987440500369, 0.6665546933861203, 0.9939195618766955, 0.9953541835232943, 0.9961472128328147, 0.9959737591461039, 0.9564364283116936, 0.9953687866873383, 0.9442175683669634, 0.9959197600096082, 0.9953776959323931, 0.7562615539017635, 0.9339017063731193, 0.9956006089784806, 0.9955233560483544, 0.9683258293055695, 0.9995957652550409, 0.9953586157689185, 0.9583089046017245, 0.99552177677458, 0.9690624242596572, 0.9677585019014178]}, {\"categories\": [\"0\", \"1\", \"2\", \"3\", \"4\", \"5\", \"6\", \"7\", \"8\", \"9\", \"10\", \"11\", \"12\", \"13\", \"14\", \"15\", \"16\", \"17\", \"18\", \"19\", \"20\", \"21\", \"22\", \"23\", \"24\", \"25\", \"26\", \"27\", \"28\", \"29\", \"30\", \"31\", \"32\", \"33\", \"34\", \"35\", \"36\", \"37\", \"38\", \"39\", \"40\", \"41\", \"42\", \"43\", \"46\", \"47\"], \"mode\": \"lines\", \"name\": \"weighted_accuracy_max\", \"stepped\": true, \"type\": \"scatter\", \"data\": [0.9957616980235221, 0.9957616980235221, 0.9957616980235221, 0.9957616980235221, 0.9957616980235221, 0.9957616980235221, 0.9957616980235221, 0.9995957652550409, 0.9995957652550409, 0.9995957652550409, 0.9995957652550409, 0.9995957652550409, 0.9995957652550409, 0.9995957652550409, 0.9995957652550409, 0.9995957652550409, 0.9995957652550409, 0.9995957652550409, 0.9995957652550409, 0.9995957652550409, 0.9995957652550409, 0.9995957652550409, 0.9995957652550409, 0.9995957652550409, 0.9995957652550409, 0.9995957652550409, 0.9995957652550409, 0.9995957652550409, 0.9995957652550409, 0.9995957652550409, 0.9995957652550409, 0.9995957652550409, 0.9995957652550409, 0.9995957652550409, 0.9995957652550409, 0.9995957652550409, 0.9995957652550409, 0.9995957652550409, 0.9995957652550409, 0.9995957652550409, 0.9995957652550409, 0.9995957652550409, 0.9995957652550409, 0.9995957652550409, 0.9995957652550409, 0.9995957652550409]}], \"average_precision_score_micro\": [{\"categories\": [\"0\", \"1\", \"2\", \"3\", \"4\", \"5\", \"6\", \"7\", \"8\", \"9\", \"10\", \"11\", \"12\", \"13\", \"14\", \"15\", \"16\", \"17\", \"18\", \"19\", \"20\", \"21\", \"22\", \"23\", \"24\", \"25\", \"26\", \"27\", \"28\", \"29\", \"30\", \"31\", \"32\", \"33\", \"34\", \"35\", \"36\", \"37\", \"38\", \"39\", \"40\", \"41\", \"42\", \"43\", \"46\", \"47\"], \"mode\": \"markers\", \"name\": \"average_precision_score_micro\", \"stepped\": false, \"type\": \"scatter\", \"data\": [0.999075065372022, 0.999322878547693, 0.9939391465102534, 0.9989830670396808, 0.9870819000971522, 0.9988859400810769, 0.9727812995999391, 0.9985034888480806, 0.9988162250118164, 0.9984676421652513, 0.9981296540437902, 0.9984482695630836, 0.9479743735479226, 0.9984960754852948, 0.9883400507945392, 0.9980216595379998, 0.9924997683922765, 0.9971306451873779, 0.9777487670106675, 0.9479627422268194, 0.9734772512598114, 0.9985371748205241, 0.9989813840525352, 0.9637348769505395, 0.973703460945497, 0.8112856429736771, 0.9992603871907458, 0.9991152725452288, 0.9990247298015317, 0.9992685572646879, 0.9902295789446219, 0.999038077610933, 0.9765800983288729, 0.9992570090428318, 0.9971522496944641, 0.8892165746911361, 0.9760707672137032, 0.9991602836700454, 0.9993192519097777, 0.9862038936950585, 0.9711147028027369, 0.9993356932055111, 0.9843310477789191, 0.9977605034881263, 0.9964428942059381, 0.9803857136543535]}, {\"categories\": [\"0\", \"1\", \"2\", \"3\", \"4\", \"5\", \"6\", \"7\", \"8\", \"9\", \"10\", \"11\", \"12\", \"13\", \"14\", \"15\", \"16\", \"17\", \"18\", \"19\", \"20\", \"21\", \"22\", \"23\", \"24\", \"25\", \"26\", \"27\", \"28\", \"29\", \"30\", \"31\", \"32\", \"33\", \"34\", \"35\", \"36\", \"37\", \"38\", \"39\", \"40\", \"41\", \"42\", \"43\", \"46\", \"47\"], \"mode\": \"lines\", \"name\": \"average_precision_score_micro_max\", \"stepped\": true, \"type\": \"scatter\", \"data\": [0.999075065372022, 0.999322878547693, 0.999322878547693, 0.999322878547693, 0.999322878547693, 0.999322878547693, 0.999322878547693, 0.999322878547693, 0.999322878547693, 0.999322878547693, 0.999322878547693, 0.999322878547693, 0.999322878547693, 0.999322878547693, 0.999322878547693, 0.999322878547693, 0.999322878547693, 0.999322878547693, 0.999322878547693, 0.999322878547693, 0.999322878547693, 0.999322878547693, 0.999322878547693, 0.999322878547693, 0.999322878547693, 0.999322878547693, 0.999322878547693, 0.999322878547693, 0.999322878547693, 0.999322878547693, 0.999322878547693, 0.999322878547693, 0.999322878547693, 0.999322878547693, 0.999322878547693, 0.999322878547693, 0.999322878547693, 0.999322878547693, 0.999322878547693, 0.999322878547693, 0.999322878547693, 0.9993356932055111, 0.9993356932055111, 0.9993356932055111, 0.9993356932055111, 0.9993356932055111]}]}, \"metricName\": null, \"primaryMetricName\": \"norm_macro_recall\", \"showLegend\": false}, \"run_metrics\": [{\"name\": \"experiment_status\", \"run_id\": \"AutoML_9be7e20a-6720-4133-aa8c-9138c31e23cb\", \"categories\": [0, 1, 2, 3, 4, 5, 6, 7, 8, 9, 10, 11, 12, 13, 14], \"series\": [{\"data\": [\"DatasetEvaluation\", \"FeaturesGeneration\", \"DatasetFeaturization\", \"DatasetFeaturizationCompleted\", \"DatasetBalancing\", \"DatasetCrossValidationSplit\", \"ModelSelection\", \"BestRunExplainModel\", \"ModelExplanationDataSetSetup\", \"PickSurrogateModel\", \"EngineeredFeatureExplanations\", \"EngineeredFeatureExplanations\", \"RawFeaturesExplanations\", \"RawFeaturesExplanations\", \"BestRunExplainModel\"]}]}, {\"name\": \"experiment_status_description\", \"run_id\": \"AutoML_9be7e20a-6720-4133-aa8c-9138c31e23cb\", \"categories\": [0, 1, 2, 3, 4, 5, 6, 7, 8, 9, 10, 11, 12, 13, 14], \"series\": [{\"data\": [\"Gathering dataset statistics.\", \"Generating features for the dataset.\", \"Beginning to fit featurizers and featurize the dataset.\", \"Completed fit featurizers and featurizing the dataset.\", \"Performing class balancing sweeping\", \"Generating individually featurized CV splits.\", \"Beginning model selection.\", \"Best run model explanations started\", \"Model explanations data setup completed\", \"Choosing LightGBM as the surrogate model for explanations\", \"Computation of engineered features started\", \"Computation of engineered features completed\", \"Computation of raw features started\", \"Computation of raw features completed\", \"Best run model explanations completed\"]}]}, {\"name\": \"AUC_macro\", \"run_id\": \"AutoML_9be7e20a-6720-4133-aa8c-9138c31e23cb\", \"categories\": [0], \"series\": [{\"data\": [0.9834935009043337]}]}, {\"name\": \"precision_score_micro\", \"run_id\": \"AutoML_9be7e20a-6720-4133-aa8c-9138c31e23cb\", \"categories\": [0], \"series\": [{\"data\": [0.9692307692307692]}]}, {\"name\": \"recall_score_macro\", \"run_id\": \"AutoML_9be7e20a-6720-4133-aa8c-9138c31e23cb\", \"categories\": [0], \"series\": [{\"data\": [0.9720476442436531]}]}, {\"name\": \"recall_score_micro\", \"run_id\": \"AutoML_9be7e20a-6720-4133-aa8c-9138c31e23cb\", \"categories\": [0], \"series\": [{\"data\": [0.9692307692307692]}]}, {\"name\": \"AUC_weighted\", \"run_id\": \"AutoML_9be7e20a-6720-4133-aa8c-9138c31e23cb\", \"categories\": [0], \"series\": [{\"data\": [0.9834935009043339]}]}, {\"name\": \"f1_score_macro\", \"run_id\": \"AutoML_9be7e20a-6720-4133-aa8c-9138c31e23cb\", \"categories\": [0], \"series\": [{\"data\": [0.7671410967753808]}]}, {\"name\": \"matthews_correlation\", \"run_id\": \"AutoML_9be7e20a-6720-4133-aa8c-9138c31e23cb\", \"categories\": [0], \"series\": [{\"data\": [0.6012741939348588]}]}, {\"name\": \"norm_macro_recall\", \"run_id\": \"AutoML_9be7e20a-6720-4133-aa8c-9138c31e23cb\", \"categories\": [0], \"series\": [{\"data\": [0.9440952884873063]}]}, {\"name\": \"recall_score_weighted\", \"run_id\": \"AutoML_9be7e20a-6720-4133-aa8c-9138c31e23cb\", \"categories\": [0], \"series\": [{\"data\": [0.9692307692307692]}]}, {\"name\": \"average_precision_score_micro\", \"run_id\": \"AutoML_9be7e20a-6720-4133-aa8c-9138c31e23cb\", \"categories\": [0], \"series\": [{\"data\": [0.9964428942059381]}]}, {\"name\": \"average_precision_score_macro\", \"run_id\": \"AutoML_9be7e20a-6720-4133-aa8c-9138c31e23cb\", \"categories\": [0], \"series\": [{\"data\": [0.8202235072481744]}]}, {\"name\": \"AUC_micro\", \"run_id\": \"AutoML_9be7e20a-6720-4133-aa8c-9138c31e23cb\", \"categories\": [0], \"series\": [{\"data\": [0.9964437382813451]}]}, {\"name\": \"accuracy\", \"run_id\": \"AutoML_9be7e20a-6720-4133-aa8c-9138c31e23cb\", \"categories\": [0], \"series\": [{\"data\": [0.9692307692307692]}]}, {\"name\": \"weighted_accuracy\", \"run_id\": \"AutoML_9be7e20a-6720-4133-aa8c-9138c31e23cb\", \"categories\": [0], \"series\": [{\"data\": [0.9690624242596572]}]}, {\"name\": \"f1_score_micro\", \"run_id\": \"AutoML_9be7e20a-6720-4133-aa8c-9138c31e23cb\", \"categories\": [0], \"series\": [{\"data\": [0.9692307692307692]}]}, {\"name\": \"precision_score_macro\", \"run_id\": \"AutoML_9be7e20a-6720-4133-aa8c-9138c31e23cb\", \"categories\": [0], \"series\": [{\"data\": [0.6920191311420832]}]}, {\"name\": \"balanced_accuracy\", \"run_id\": \"AutoML_9be7e20a-6720-4133-aa8c-9138c31e23cb\", \"categories\": [0], \"series\": [{\"data\": [0.9720476442436531]}]}, {\"name\": \"precision_score_weighted\", \"run_id\": \"AutoML_9be7e20a-6720-4133-aa8c-9138c31e23cb\", \"categories\": [0], \"series\": [{\"data\": [0.9876804966401455]}]}, {\"name\": \"f1_score_weighted\", \"run_id\": \"AutoML_9be7e20a-6720-4133-aa8c-9138c31e23cb\", \"categories\": [0], \"series\": [{\"data\": [0.9757477845136785]}]}, {\"name\": \"average_precision_score_weighted\", \"run_id\": \"AutoML_9be7e20a-6720-4133-aa8c-9138c31e23cb\", \"categories\": [0], \"series\": [{\"data\": [0.9926153354804786]}]}, {\"name\": \"log_loss\", \"run_id\": \"AutoML_9be7e20a-6720-4133-aa8c-9138c31e23cb\", \"categories\": [0], \"series\": [{\"data\": [0.2947486803194082]}]}], \"run_logs\": \"\\nRun is completed.\", \"graph\": {}, \"widget_settings\": {\"childWidgetDisplay\": \"popup\", \"send_telemetry\": false, \"log_level\": \"INFO\", \"sdk_version\": \"1.22.0\"}, \"loading\": false}"
     },
     "metadata": {},
     "output_type": "display_data"
    },
    {
     "data": {
      "text/plain": [
       "{'runId': 'AutoML_9be7e20a-6720-4133-aa8c-9138c31e23cb',\n",
       " 'target': 'my-cmp',\n",
       " 'status': 'Completed',\n",
       " 'startTimeUtc': '2021-03-25T16:46:57.35374Z',\n",
       " 'endTimeUtc': '2021-03-25T17:09:25.654565Z',\n",
       " 'properties': {'num_iterations': '1000',\n",
       "  'training_type': 'TrainFull',\n",
       "  'acquisition_function': 'EI',\n",
       "  'primary_metric': 'norm_macro_recall',\n",
       "  'train_split': '0',\n",
       "  'acquisition_parameter': '0',\n",
       "  'num_cross_validation': None,\n",
       "  'target': 'my-cmp',\n",
       "  'AMLSettingsJsonString': '{\"path\":null,\"name\":\"camels-clf\",\"subscription_id\":\"0c66ad45-500d-48af-80d3-0039ebf1975e\",\"resource_group\":\"final-rgp\",\"workspace_name\":\"my_ws\",\"region\":\"eastus\",\"compute_target\":\"my-cmp\",\"spark_service\":null,\"azure_service\":\"remote\",\"many_models\":false,\"pipeline_fetch_max_batch_size\":1,\"iterations\":1000,\"primary_metric\":\"norm_macro_recall\",\"task_type\":\"classification\",\"data_script\":null,\"validation_size\":0.0,\"n_cross_validations\":null,\"y_min\":null,\"y_max\":null,\"num_classes\":null,\"featurization\":\"auto\",\"_ignore_package_version_incompatibilities\":false,\"is_timeseries\":false,\"max_cores_per_iteration\":1,\"max_concurrent_iterations\":4,\"iteration_timeout_minutes\":null,\"mem_in_mb\":null,\"enforce_time_on_windows\":false,\"experiment_timeout_minutes\":20,\"experiment_exit_score\":null,\"whitelist_models\":null,\"blacklist_algos\":[\"TensorFlowLinearClassifier\",\"TensorFlowDNN\"],\"supported_models\":[\"BernoulliNaiveBayes\",\"XGBoostClassifier\",\"KNN\",\"TensorFlowLinearClassifier\",\"RandomForest\",\"SGD\",\"DecisionTree\",\"SVM\",\"LinearSVM\",\"LightGBM\",\"GradientBoosting\",\"MultinomialNaiveBayes\",\"TensorFlowDNN\",\"LogisticRegression\",\"ExtremeRandomTrees\",\"AveragedPerceptronClassifier\"],\"private_models\":[],\"auto_blacklist\":true,\"blacklist_samples_reached\":false,\"exclude_nan_labels\":true,\"verbosity\":20,\"_debug_log\":\"azureml_automl.log\",\"show_warnings\":false,\"model_explainability\":true,\"service_url\":null,\"sdk_url\":null,\"sdk_packages\":null,\"enable_onnx_compatible_models\":false,\"enable_split_onnx_featurizer_estimator_models\":false,\"vm_type\":\"STANDARD_DS2_V2\",\"telemetry_verbosity\":20,\"send_telemetry\":true,\"enable_dnn\":false,\"scenario\":\"SDK-1.13.0\",\"environment_label\":null,\"force_text_dnn\":false,\"enable_feature_sweeping\":true,\"enable_early_stopping\":true,\"early_stopping_n_iters\":10,\"metrics\":null,\"enable_ensembling\":true,\"enable_stack_ensembling\":true,\"ensemble_iterations\":15,\"enable_tf\":false,\"enable_subsampling\":null,\"subsample_seed\":null,\"enable_nimbusml\":false,\"enable_streaming\":false,\"force_streaming\":false,\"track_child_runs\":true,\"allowed_private_models\":[],\"label_column_name\":\"Target\",\"weight_column_name\":null,\"cv_split_column_names\":null,\"enable_local_managed\":false,\"_local_managed_run_id\":null,\"cost_mode\":1,\"lag_length\":0,\"metric_operation\":\"maximize\",\"preprocess\":true}',\n",
       "  'DataPrepJsonString': '{\\\\\"training_data\\\\\": \\\\\"{\\\\\\\\\\\\\"blocks\\\\\\\\\\\\\": [{\\\\\\\\\\\\\"id\\\\\\\\\\\\\": \\\\\\\\\\\\\"bcdc347c-ef75-463f-be0e-c354bd11bf95\\\\\\\\\\\\\", \\\\\\\\\\\\\"type\\\\\\\\\\\\\": \\\\\\\\\\\\\"Microsoft.DPrep.GetDatastoreFilesBlock\\\\\\\\\\\\\", \\\\\\\\\\\\\"arguments\\\\\\\\\\\\\": {\\\\\\\\\\\\\"datastores\\\\\\\\\\\\\": [{\\\\\\\\\\\\\"datastoreName\\\\\\\\\\\\\": \\\\\\\\\\\\\"workspaceblobstore\\\\\\\\\\\\\", \\\\\\\\\\\\\"path\\\\\\\\\\\\\": \\\\\\\\\\\\\"UI/03-25-2021_024354_UTC/camel_data_after2010Q3.csv\\\\\\\\\\\\\", \\\\\\\\\\\\\"resourceGroup\\\\\\\\\\\\\": \\\\\\\\\\\\\"final-rgp\\\\\\\\\\\\\", \\\\\\\\\\\\\"subscription\\\\\\\\\\\\\": \\\\\\\\\\\\\"0c66ad45-500d-48af-80d3-0039ebf1975e\\\\\\\\\\\\\", \\\\\\\\\\\\\"workspaceName\\\\\\\\\\\\\": \\\\\\\\\\\\\"my_ws\\\\\\\\\\\\\"}]}, \\\\\\\\\\\\\"localData\\\\\\\\\\\\\": {}, \\\\\\\\\\\\\"isEnabled\\\\\\\\\\\\\": true, \\\\\\\\\\\\\"name\\\\\\\\\\\\\": null, \\\\\\\\\\\\\"annotation\\\\\\\\\\\\\": null}, {\\\\\\\\\\\\\"id\\\\\\\\\\\\\": \\\\\\\\\\\\\"811e5c70-3487-455a-a876-cd318f5900c8\\\\\\\\\\\\\", \\\\\\\\\\\\\"type\\\\\\\\\\\\\": \\\\\\\\\\\\\"Microsoft.DPrep.ParseDelimitedBlock\\\\\\\\\\\\\", \\\\\\\\\\\\\"arguments\\\\\\\\\\\\\": {\\\\\\\\\\\\\"columnHeadersMode\\\\\\\\\\\\\": 1, \\\\\\\\\\\\\"fileEncoding\\\\\\\\\\\\\": 0, \\\\\\\\\\\\\"handleQuotedLineBreaks\\\\\\\\\\\\\": false, \\\\\\\\\\\\\"preview\\\\\\\\\\\\\": false, \\\\\\\\\\\\\"separator\\\\\\\\\\\\\": \\\\\\\\\\\\\",\\\\\\\\\\\\\", \\\\\\\\\\\\\"skipRows\\\\\\\\\\\\\": 0, \\\\\\\\\\\\\"skipRowsMode\\\\\\\\\\\\\": 0}, \\\\\\\\\\\\\"localData\\\\\\\\\\\\\": {}, \\\\\\\\\\\\\"isEnabled\\\\\\\\\\\\\": true, \\\\\\\\\\\\\"name\\\\\\\\\\\\\": null, \\\\\\\\\\\\\"annotation\\\\\\\\\\\\\": null}, {\\\\\\\\\\\\\"id\\\\\\\\\\\\\": \\\\\\\\\\\\\"559fbcda-c73b-48ad-912e-398acc9b75ed\\\\\\\\\\\\\", \\\\\\\\\\\\\"type\\\\\\\\\\\\\": \\\\\\\\\\\\\"Microsoft.DPrep.DropColumnsBlock\\\\\\\\\\\\\", \\\\\\\\\\\\\"arguments\\\\\\\\\\\\\": {\\\\\\\\\\\\\"columns\\\\\\\\\\\\\": {\\\\\\\\\\\\\"type\\\\\\\\\\\\\": 0, \\\\\\\\\\\\\"details\\\\\\\\\\\\\": {\\\\\\\\\\\\\"selectedColumns\\\\\\\\\\\\\": [\\\\\\\\\\\\\"Path\\\\\\\\\\\\\", \\\\\\\\\\\\\"AsOfDate\\\\\\\\\\\\\", \\\\\\\\\\\\\"Column1\\\\\\\\\\\\\"]}}}, \\\\\\\\\\\\\"localData\\\\\\\\\\\\\": {}, \\\\\\\\\\\\\"isEnabled\\\\\\\\\\\\\": true, \\\\\\\\\\\\\"name\\\\\\\\\\\\\": null, \\\\\\\\\\\\\"annotation\\\\\\\\\\\\\": null}, {\\\\\\\\\\\\\"id\\\\\\\\\\\\\": \\\\\\\\\\\\\"bac16c17-8f06-4784-aaf6-b0f52ace6e91\\\\\\\\\\\\\", \\\\\\\\\\\\\"type\\\\\\\\\\\\\": \\\\\\\\\\\\\"Microsoft.DPrep.SetColumnTypesBlock\\\\\\\\\\\\\", \\\\\\\\\\\\\"arguments\\\\\\\\\\\\\": {\\\\\\\\\\\\\"columnConversion\\\\\\\\\\\\\": [{\\\\\\\\\\\\\"column\\\\\\\\\\\\\": {\\\\\\\\\\\\\"type\\\\\\\\\\\\\": 2, \\\\\\\\\\\\\"details\\\\\\\\\\\\\": {\\\\\\\\\\\\\"selectedColumn\\\\\\\\\\\\\": \\\\\\\\\\\\\"Path\\\\\\\\\\\\\"}}, \\\\\\\\\\\\\"typeProperty\\\\\\\\\\\\\": 0}, {\\\\\\\\\\\\\"column\\\\\\\\\\\\\": {\\\\\\\\\\\\\"type\\\\\\\\\\\\\": 2, \\\\\\\\\\\\\"details\\\\\\\\\\\\\": {\\\\\\\\\\\\\"selectedColumn\\\\\\\\\\\\\": \\\\\\\\\\\\\"Column1\\\\\\\\\\\\\"}}, \\\\\\\\\\\\\"typeProperty\\\\\\\\\\\\\": 2}, {\\\\\\\\\\\\\"column\\\\\\\\\\\\\": {\\\\\\\\\\\\\"type\\\\\\\\\\\\\": 2, \\\\\\\\\\\\\"details\\\\\\\\\\\\\": {\\\\\\\\\\\\\"selectedColumn\\\\\\\\\\\\\": \\\\\\\\\\\\\"AsOfDate\\\\\\\\\\\\\"}}, \\\\\\\\\\\\\"typeArguments\\\\\\\\\\\\\": {\\\\\\\\\\\\\"dateTimeFormats\\\\\\\\\\\\\": [\\\\\\\\\\\\\"%m/%d/%Y\\\\\\\\\\\\\"]}, \\\\\\\\\\\\\"typeProperty\\\\\\\\\\\\\": 4}, {\\\\\\\\\\\\\"column\\\\\\\\\\\\\": {\\\\\\\\\\\\\"type\\\\\\\\\\\\\": 2, \\\\\\\\\\\\\"details\\\\\\\\\\\\\": {\\\\\\\\\\\\\"selectedColumn\\\\\\\\\\\\\": \\\\\\\\\\\\\"Target\\\\\\\\\\\\\"}}, \\\\\\\\\\\\\"typeProperty\\\\\\\\\\\\\": 2}, {\\\\\\\\\\\\\"column\\\\\\\\\\\\\": {\\\\\\\\\\\\\"type\\\\\\\\\\\\\": 2, \\\\\\\\\\\\\"details\\\\\\\\\\\\\": {\\\\\\\\\\\\\"selectedColumn\\\\\\\\\\\\\": \\\\\\\\\\\\\"EQTA\\\\\\\\\\\\\"}}, \\\\\\\\\\\\\"typeProperty\\\\\\\\\\\\\": 3}, {\\\\\\\\\\\\\"column\\\\\\\\\\\\\": {\\\\\\\\\\\\\"type\\\\\\\\\\\\\": 2, \\\\\\\\\\\\\"details\\\\\\\\\\\\\": {\\\\\\\\\\\\\"selectedColumn\\\\\\\\\\\\\": \\\\\\\\\\\\\"EQTL\\\\\\\\\\\\\"}}, \\\\\\\\\\\\\"typeProperty\\\\\\\\\\\\\": 3}, {\\\\\\\\\\\\\"column\\\\\\\\\\\\\": {\\\\\\\\\\\\\"type\\\\\\\\\\\\\": 2, \\\\\\\\\\\\\"details\\\\\\\\\\\\\": {\\\\\\\\\\\\\"selectedColumn\\\\\\\\\\\\\": \\\\\\\\\\\\\"LLRTA\\\\\\\\\\\\\"}}, \\\\\\\\\\\\\"typeProperty\\\\\\\\\\\\\": 3}, {\\\\\\\\\\\\\"column\\\\\\\\\\\\\": {\\\\\\\\\\\\\"type\\\\\\\\\\\\\": 2, \\\\\\\\\\\\\"details\\\\\\\\\\\\\": {\\\\\\\\\\\\\"selectedColumn\\\\\\\\\\\\\": \\\\\\\\\\\\\"LLRGL\\\\\\\\\\\\\"}}, \\\\\\\\\\\\\"typeProperty\\\\\\\\\\\\\": 3}, {\\\\\\\\\\\\\"column\\\\\\\\\\\\\": {\\\\\\\\\\\\\"type\\\\\\\\\\\\\": 2, \\\\\\\\\\\\\"details\\\\\\\\\\\\\": {\\\\\\\\\\\\\"selectedColumn\\\\\\\\\\\\\": \\\\\\\\\\\\\"OEXTA\\\\\\\\\\\\\"}}, \\\\\\\\\\\\\"typeProperty\\\\\\\\\\\\\": 3}, {\\\\\\\\\\\\\"column\\\\\\\\\\\\\": {\\\\\\\\\\\\\"type\\\\\\\\\\\\\": 2, \\\\\\\\\\\\\"details\\\\\\\\\\\\\": {\\\\\\\\\\\\\"selectedColumn\\\\\\\\\\\\\": \\\\\\\\\\\\\"INCEMP\\\\\\\\\\\\\"}}, \\\\\\\\\\\\\"typeProperty\\\\\\\\\\\\\": 3}, {\\\\\\\\\\\\\"column\\\\\\\\\\\\\": {\\\\\\\\\\\\\"type\\\\\\\\\\\\\": 2, \\\\\\\\\\\\\"details\\\\\\\\\\\\\": {\\\\\\\\\\\\\"selectedColumn\\\\\\\\\\\\\": \\\\\\\\\\\\\"ROA\\\\\\\\\\\\\"}}, \\\\\\\\\\\\\"typeProperty\\\\\\\\\\\\\": 3}, {\\\\\\\\\\\\\"column\\\\\\\\\\\\\": {\\\\\\\\\\\\\"type\\\\\\\\\\\\\": 2, \\\\\\\\\\\\\"details\\\\\\\\\\\\\": {\\\\\\\\\\\\\"selectedColumn\\\\\\\\\\\\\": \\\\\\\\\\\\\"ROE\\\\\\\\\\\\\"}}, \\\\\\\\\\\\\"typeProperty\\\\\\\\\\\\\": 3}, {\\\\\\\\\\\\\"column\\\\\\\\\\\\\": {\\\\\\\\\\\\\"type\\\\\\\\\\\\\": 2, \\\\\\\\\\\\\"details\\\\\\\\\\\\\": {\\\\\\\\\\\\\"selectedColumn\\\\\\\\\\\\\": \\\\\\\\\\\\\"TDTL\\\\\\\\\\\\\"}}, \\\\\\\\\\\\\"typeProperty\\\\\\\\\\\\\": 3}, {\\\\\\\\\\\\\"column\\\\\\\\\\\\\": {\\\\\\\\\\\\\"type\\\\\\\\\\\\\": 2, \\\\\\\\\\\\\"details\\\\\\\\\\\\\": {\\\\\\\\\\\\\"selectedColumn\\\\\\\\\\\\\": \\\\\\\\\\\\\"TDTA\\\\\\\\\\\\\"}}, \\\\\\\\\\\\\"typeProperty\\\\\\\\\\\\\": 3}, {\\\\\\\\\\\\\"column\\\\\\\\\\\\\": {\\\\\\\\\\\\\"type\\\\\\\\\\\\\": 2, \\\\\\\\\\\\\"details\\\\\\\\\\\\\": {\\\\\\\\\\\\\"selectedColumn\\\\\\\\\\\\\": \\\\\\\\\\\\\"TATA\\\\\\\\\\\\\"}}, \\\\\\\\\\\\\"typeProperty\\\\\\\\\\\\\": 3}]}, \\\\\\\\\\\\\"localData\\\\\\\\\\\\\": {}, \\\\\\\\\\\\\"isEnabled\\\\\\\\\\\\\": true, \\\\\\\\\\\\\"name\\\\\\\\\\\\\": null, \\\\\\\\\\\\\"annotation\\\\\\\\\\\\\": null}], \\\\\\\\\\\\\"inspectors\\\\\\\\\\\\\": [], \\\\\\\\\\\\\"meta\\\\\\\\\\\\\": {\\\\\\\\\\\\\"savedDatasetId\\\\\\\\\\\\\": \\\\\\\\\\\\\"5b8de62c-4927-494e-b241-d41208da132a\\\\\\\\\\\\\", \\\\\\\\\\\\\"datasetType\\\\\\\\\\\\\": \\\\\\\\\\\\\"tabular\\\\\\\\\\\\\", \\\\\\\\\\\\\"subscriptionId\\\\\\\\\\\\\": \\\\\\\\\\\\\"0c66ad45-500d-48af-80d3-0039ebf1975e\\\\\\\\\\\\\", \\\\\\\\\\\\\"workspaceId\\\\\\\\\\\\\": \\\\\\\\\\\\\"76a84e9f-15e6-4c3b-a3d4-64fa11fb217b\\\\\\\\\\\\\", \\\\\\\\\\\\\"workspaceLocation\\\\\\\\\\\\\": \\\\\\\\\\\\\"eastus\\\\\\\\\\\\\"}}\\\\\", \\\\\"activities\\\\\": 0}',\n",
       "  'EnableSubsampling': None,\n",
       "  'runTemplate': 'AutoML',\n",
       "  'azureml.runsource': 'automl',\n",
       "  'display_task_type': 'classification',\n",
       "  'dependencies_versions': '{\"azureml-widgets\": \"1.22.0\", \"azureml-train\": \"1.22.0\", \"azureml-train-restclients-hyperdrive\": \"1.22.0\", \"azureml-train-core\": \"1.22.0\", \"azureml-train-automl\": \"1.22.0\", \"azureml-train-automl-runtime\": \"1.22.0\", \"azureml-train-automl-client\": \"1.22.0.post1\", \"azureml-tensorboard\": \"1.22.0\", \"azureml-telemetry\": \"1.22.0\", \"azureml-sdk\": \"1.22.0\", \"azureml-samples\": \"0+unknown\", \"azureml-pipeline\": \"1.22.0\", \"azureml-pipeline-steps\": \"1.22.0\", \"azureml-pipeline-core\": \"1.22.0\", \"azureml-opendatasets\": \"1.22.0\", \"azureml-model-management-sdk\": \"1.0.1b6.post1\", \"azureml-mlflow\": \"1.22.0\", \"azureml-interpret\": \"1.22.0\", \"azureml-explain-model\": \"1.22.0\", \"azureml-defaults\": \"1.22.0\", \"azureml-dataset-runtime\": \"1.22.0\", \"azureml-dataprep\": \"2.9.1\", \"azureml-dataprep-rslex\": \"1.7.0\", \"azureml-dataprep-native\": \"29.0.0\", \"azureml-datadrift\": \"1.22.0\", \"azureml-core\": \"1.22.0\", \"azureml-contrib-services\": \"1.22.0\", \"azureml-contrib-server\": \"1.22.0\", \"azureml-contrib-reinforcementlearning\": \"1.22.0\", \"azureml-contrib-pipeline-steps\": \"1.22.0\", \"azureml-contrib-notebook\": \"1.22.0\", \"azureml-contrib-interpret\": \"1.22.0\", \"azureml-contrib-gbdt\": \"1.22.0\", \"azureml-contrib-fairness\": \"1.22.0\", \"azureml-contrib-dataset\": \"1.22.0\", \"azureml-cli-common\": \"1.22.0\", \"azureml-automl-runtime\": \"1.22.0\", \"azureml-automl-core\": \"1.22.0\", \"azureml-accel-models\": \"1.22.0\"}',\n",
       "  '_aml_system_scenario_identification': 'Remote.Parent',\n",
       "  'ClientType': 'SDK',\n",
       "  'environment_cpu_name': 'AzureML-AutoML',\n",
       "  'environment_cpu_label': 'prod',\n",
       "  'environment_gpu_name': 'AzureML-AutoML-GPU',\n",
       "  'environment_gpu_label': 'prod',\n",
       "  'root_attribution': 'automl',\n",
       "  'attribution': 'AutoML',\n",
       "  'Orchestrator': 'AutoML',\n",
       "  'CancelUri': 'https://eastus.experiments.azureml.net/jasmine/v1.0/subscriptions/0c66ad45-500d-48af-80d3-0039ebf1975e/resourceGroups/final-rgp/providers/Microsoft.MachineLearningServices/workspaces/my_ws/experimentids/7ef4db68-2cc8-4556-b9f5-a0915e73df6e/cancel/AutoML_9be7e20a-6720-4133-aa8c-9138c31e23cb',\n",
       "  'ClientSdkVersion': '1.24.0',\n",
       "  'snapshotId': '00000000-0000-0000-0000-000000000000',\n",
       "  'SetupRunId': 'AutoML_9be7e20a-6720-4133-aa8c-9138c31e23cb_setup',\n",
       "  'SetupRunContainerId': 'dcid.AutoML_9be7e20a-6720-4133-aa8c-9138c31e23cb_setup',\n",
       "  'FeaturizationRunJsonPath': 'featurizer_container.json',\n",
       "  'FeaturizationRunId': 'AutoML_9be7e20a-6720-4133-aa8c-9138c31e23cb_featurize',\n",
       "  'ProblemInfoJsonString': '{\"dataset_num_categorical\": 0, \"is_sparse\": false, \"subsampling\": false, \"dataset_classes\": 2, \"dataset_features\": 11, \"dataset_samples\": 7020, \"single_frequency_class_detected\": false}',\n",
       "  'ModelExplainRunId': 'AutoML_9be7e20a-6720-4133-aa8c-9138c31e23cb_ModelExplain'},\n",
       " 'inputDatasets': [{'dataset': {'id': '5b8de62c-4927-494e-b241-d41208da132a'}, 'consumptionDetails': {'type': 'RunInput', 'inputName': 'training_data', 'mechanism': 'Direct'}}],\n",
       " 'outputDatasets': [],\n",
       " 'logFiles': {},\n",
       " 'submittedBy': 'Dmitry Mikhaylov'}"
      ]
     },
     "execution_count": 20,
     "metadata": {},
     "output_type": "execute_result"
    }
   ],
   "source": [
    "remote_run = exp.submit(config=automl_config, show_output=False) \n",
    "RunDetails(remote_run).show() \n",
    "remote_run.wait_for_completion(show_output=False)"
   ]
  },
  {
   "cell_type": "code",
   "execution_count": 22,
   "metadata": {
    "gather": {
     "logged": 1616550177228
    }
   },
   "outputs": [
    {
     "name": "stdout",
     "output_type": "stream",
     "text": [
      "Run Status: Completed\n"
     ]
    }
   ],
   "source": [
    "print(\"Run Status:\", remote_run.get_status())"
   ]
  },
  {
   "cell_type": "markdown",
   "metadata": {},
   "source": [
    "## Best Model\n",
    "\n",
    "Get the best model from the automl experiments and display all the properties of the model.\n",
    "\n"
   ]
  },
  {
   "cell_type": "code",
   "execution_count": 23,
   "metadata": {
    "gather": {
     "logged": 1616550183974
    },
    "jupyter": {
     "outputs_hidden": false,
     "source_hidden": false
    },
    "nteract": {
     "transient": {
      "deleting": false
     }
    }
   },
   "outputs": [
    {
     "name": "stdout",
     "output_type": "stream",
     "text": [
      "{'experiment_status': ['DatasetEvaluation', 'FeaturesGeneration', 'DatasetFeaturization', 'DatasetFeaturizationCompleted', 'DatasetBalancing', 'DatasetCrossValidationSplit', 'ModelSelection', 'BestRunExplainModel', 'ModelExplanationDataSetSetup', 'PickSurrogateModel', 'EngineeredFeatureExplanations', 'EngineeredFeatureExplanations', 'RawFeaturesExplanations', 'RawFeaturesExplanations', 'BestRunExplainModel'], 'experiment_status_description': ['Gathering dataset statistics.', 'Generating features for the dataset.', 'Beginning to fit featurizers and featurize the dataset.', 'Completed fit featurizers and featurizing the dataset.', 'Performing class balancing sweeping', 'Generating individually featurized CV splits.', 'Beginning model selection.', 'Best run model explanations started', 'Model explanations data setup completed', 'Choosing LightGBM as the surrogate model for explanations', 'Computation of engineered features started', 'Computation of engineered features completed', 'Computation of raw features started', 'Computation of raw features completed', 'Best run model explanations completed'], 'AUC_macro': 0.9834935009043337, 'precision_score_micro': 0.9692307692307692, 'recall_score_macro': 0.9720476442436531, 'recall_score_micro': 0.9692307692307692, 'AUC_weighted': 0.9834935009043339, 'f1_score_macro': 0.7671410967753808, 'matthews_correlation': 0.6012741939348588, 'norm_macro_recall': 0.9440952884873063, 'recall_score_weighted': 0.9692307692307692, 'average_precision_score_micro': 0.9964428942059381, 'average_precision_score_macro': 0.8202235072481744, 'AUC_micro': 0.9964437382813451, 'accuracy': 0.9692307692307692, 'weighted_accuracy': 0.9690624242596572, 'f1_score_micro': 0.9692307692307692, 'precision_score_macro': 0.6920191311420832, 'balanced_accuracy': 0.9720476442436531, 'precision_score_weighted': 0.9876804966401455, 'f1_score_weighted': 0.9757477845136785, 'average_precision_score_weighted': 0.9926153354804786, 'log_loss': 0.2947486803194082}\n"
     ]
    }
   ],
   "source": [
    "print(remote_run.get_metrics())"
   ]
  },
  {
   "cell_type": "markdown",
   "metadata": {
    "nteract": {
     "transient": {
      "deleting": false
     }
    }
   },
   "source": [
    "View dependencies for the best run model:"
   ]
  },
  {
   "cell_type": "code",
   "execution_count": 24,
   "metadata": {
    "gather": {
     "logged": 1616547685651
    },
    "jupyter": {
     "outputs_hidden": false,
     "source_hidden": false
    },
    "nteract": {
     "transient": {
      "deleting": false
     }
    }
   },
   "outputs": [
    {
     "data": {
      "text/plain": [
       "{'azureml-widgets': '1.22.0',\n",
       " 'azureml-train': '1.22.0',\n",
       " 'azureml-train-restclients-hyperdrive': '1.22.0',\n",
       " 'azureml-train-core': '1.22.0',\n",
       " 'azureml-train-automl': '1.22.0',\n",
       " 'azureml-train-automl-runtime': '1.22.0',\n",
       " 'azureml-train-automl-client': '1.22.0.post1',\n",
       " 'azureml-tensorboard': '1.22.0',\n",
       " 'azureml-telemetry': '1.22.0',\n",
       " 'azureml-sdk': '1.22.0',\n",
       " 'azureml-samples': '0+unknown',\n",
       " 'azureml-pipeline': '1.22.0',\n",
       " 'azureml-pipeline-steps': '1.22.0',\n",
       " 'azureml-pipeline-core': '1.22.0',\n",
       " 'azureml-opendatasets': '1.22.0',\n",
       " 'azureml-model-management-sdk': '1.0.1b6.post1',\n",
       " 'azureml-mlflow': '1.22.0',\n",
       " 'azureml-interpret': '1.22.0',\n",
       " 'azureml-explain-model': '1.22.0',\n",
       " 'azureml-defaults': '1.22.0',\n",
       " 'azureml-dataset-runtime': '1.22.0',\n",
       " 'azureml-dataprep': '2.9.1',\n",
       " 'azureml-dataprep-rslex': '1.7.0',\n",
       " 'azureml-dataprep-native': '29.0.0',\n",
       " 'azureml-datadrift': '1.22.0',\n",
       " 'azureml-core': '1.22.0',\n",
       " 'azureml-contrib-services': '1.22.0',\n",
       " 'azureml-contrib-server': '1.22.0',\n",
       " 'azureml-contrib-reinforcementlearning': '1.22.0',\n",
       " 'azureml-contrib-pipeline-steps': '1.22.0',\n",
       " 'azureml-contrib-notebook': '1.22.0',\n",
       " 'azureml-contrib-interpret': '1.22.0',\n",
       " 'azureml-contrib-gbdt': '1.22.0',\n",
       " 'azureml-contrib-fairness': '1.22.0',\n",
       " 'azureml-contrib-dataset': '1.22.0',\n",
       " 'azureml-cli-common': '1.22.0',\n",
       " 'azureml-automl-runtime': '1.22.0',\n",
       " 'azureml-automl-core': '1.22.0',\n",
       " 'azureml-accel-models': '1.22.0'}"
      ]
     },
     "execution_count": 24,
     "metadata": {},
     "output_type": "execute_result"
    }
   ],
   "source": [
    "remote_run.get_run_sdk_dependencies()"
   ]
  },
  {
   "cell_type": "code",
   "execution_count": 25,
   "metadata": {
    "gather": {
     "logged": 1616550217058
    },
    "jupyter": {
     "outputs_hidden": false,
     "source_hidden": false
    },
    "nteract": {
     "transient": {
      "deleting": false
     }
    }
   },
   "outputs": [
    {
     "name": "stderr",
     "output_type": "stream",
     "text": [
      "WARNING:root:The version of the SDK does not match the version the model was trained on.\n",
      "WARNING:root:The consistency in the result may not be guaranteed.\n",
      "WARNING:root:Package:azureml-automl-core, training version:1.24.0, current version:1.22.0\n",
      "Package:azureml-automl-runtime, training version:1.24.0, current version:1.22.0\n",
      "Package:azureml-core, training version:1.24.0.post1, current version:1.22.0\n",
      "Package:azureml-dataprep, training version:2.11.2, current version:2.9.1\n",
      "Package:azureml-dataprep-native, training version:30.0.0, current version:29.0.0\n",
      "Package:azureml-dataprep-rslex, training version:1.9.1, current version:1.7.0\n",
      "Package:azureml-dataset-runtime, training version:1.24.0, current version:1.22.0\n",
      "Package:azureml-defaults, training version:1.24.0, current version:1.22.0\n",
      "Package:azureml-interpret, training version:1.24.0, current version:1.22.0\n",
      "Package:azureml-mlflow, training version:1.24.0, current version:1.22.0\n",
      "Package:azureml-pipeline-core, training version:1.24.0, current version:1.22.0\n",
      "Package:azureml-telemetry, training version:1.24.0, current version:1.22.0\n",
      "Package:azureml-train-automl-client, training version:1.24.0, current version:1.22.0.post1\n",
      "Package:azureml-train-automl-runtime, training version:1.24.0, current version:1.22.0\n",
      "WARNING:root:Please ensure the version of your local conda dependencies match the version on which your model was trained in order to properly retrieve your model.\n"
     ]
    }
   ],
   "source": [
    "best_run, fitted_model = remote_run.get_output()"
   ]
  },
  {
   "cell_type": "markdown",
   "metadata": {},
   "source": [
    "The line below should give the preprocessor(s) and algorithm (estimator) used"
   ]
  },
  {
   "cell_type": "code",
   "execution_count": 26,
   "metadata": {
    "gather": {
     "logged": 1616550294217
    },
    "jupyter": {
     "outputs_hidden": false,
     "source_hidden": false
    },
    "nteract": {
     "transient": {
      "deleting": false
     }
    }
   },
   "outputs": [
    {
     "data": {
      "text/plain": [
       "('prefittedsoftvotingclassifier',\n",
       " PreFittedSoftVotingClassifier(classification_labels=None,\n",
       "                               estimators=[('30',\n",
       "                                            Pipeline(memory=None,\n",
       "                                                     steps=[('standardscalerwrapper',\n",
       "                                                             <azureml.automl.runtime.shared.model_wrappers.StandardScalerWrapper object at 0x7f8d10b361d0>),\n",
       "                                                            ('randomforestclassifier',\n",
       "                                                             RandomForestClassifier(bootstrap=True,\n",
       "                                                                                    ccp_alpha=0.0,\n",
       "                                                                                    class_weight='balanced',\n",
       "                                                                                    criterion='gini',\n",
       "                                                                                    max_depth=N...\n",
       "                                                                                  min_samples_split=0.15052631578947367,\n",
       "                                                                                  min_weight_fraction_leaf=0.0,\n",
       "                                                                                  n_estimators=50,\n",
       "                                                                                  n_jobs=1,\n",
       "                                                                                  oob_score=False,\n",
       "                                                                                  random_state=None,\n",
       "                                                                                  verbose=0,\n",
       "                                                                                  warm_start=False))],\n",
       "                                                     verbose=False))],\n",
       "                               flatten_transform=None,\n",
       "                               weights=[0.07142857142857142, 0.07142857142857142,\n",
       "                                        0.21428571428571427, 0.07142857142857142,\n",
       "                                        0.07142857142857142, 0.35714285714285715,\n",
       "                                        0.07142857142857142,\n",
       "                                        0.07142857142857142]))"
      ]
     },
     "execution_count": 26,
     "metadata": {},
     "output_type": "execute_result"
    }
   ],
   "source": [
    "estimator = fitted_model.steps[-1]\n",
    "estimator"
   ]
  },
  {
   "cell_type": "markdown",
   "metadata": {},
   "source": [
    "Specifically, the voting model consists of the following 9 components:"
   ]
  },
  {
   "cell_type": "code",
   "execution_count": 27,
   "metadata": {},
   "outputs": [
    {
     "data": {
      "text/plain": [
       "'[30, 16, 39, 42, 14, 25, 7, 6]'"
      ]
     },
     "execution_count": 27,
     "metadata": {},
     "output_type": "execute_result"
    }
   ],
   "source": [
    "best_run.get_tags()['ensembled_iterations']"
   ]
  },
  {
   "cell_type": "code",
   "execution_count": 28,
   "metadata": {},
   "outputs": [
    {
     "data": {
      "text/plain": [
       "\"['RandomForest', 'RandomForest', 'LogisticRegression', 'RandomForest', 'RandomForest', 'RandomForest', 'RandomForest', 'ExtremeRandomTrees']\""
      ]
     },
     "execution_count": 28,
     "metadata": {},
     "output_type": "execute_result"
    }
   ],
   "source": [
    "best_run.get_tags()['ensembled_algorithms']"
   ]
  },
  {
   "cell_type": "code",
   "execution_count": 29,
   "metadata": {
    "gather": {
     "logged": 1616550334646
    }
   },
   "outputs": [
    {
     "data": {
      "text/plain": [
       "'[0.07142857142857142, 0.07142857142857142, 0.21428571428571427, 0.07142857142857142, 0.07142857142857142, 0.35714285714285715, 0.07142857142857142, 0.07142857142857142]'"
      ]
     },
     "execution_count": 29,
     "metadata": {},
     "output_type": "execute_result"
    }
   ],
   "source": [
    "best_run.get_tags()['ensemble_weights']"
   ]
  },
  {
   "cell_type": "markdown",
   "metadata": {
    "nteract": {
     "transient": {
      "deleting": false
     }
    }
   },
   "source": [
    "Save the best model"
   ]
  },
  {
   "cell_type": "code",
   "execution_count": 30,
   "metadata": {
    "gather": {
     "logged": 1616550338399
    },
    "jupyter": {
     "outputs_hidden": false,
     "source_hidden": false
    },
    "nteract": {
     "transient": {
      "deleting": false
     }
    }
   },
   "outputs": [
    {
     "data": {
      "text/plain": [
       "['fitted_automl_model.joblib']"
      ]
     },
     "execution_count": 30,
     "metadata": {},
     "output_type": "execute_result"
    }
   ],
   "source": [
    "joblib.dump(value=fitted_model, filename=\"fitted_automl_model.joblib\")"
   ]
  },
  {
   "cell_type": "markdown",
   "metadata": {
    "nteract": {
     "transient": {
      "deleting": false
     }
    }
   },
   "source": [
    "### `VotingEnsemble` model validation\n",
    "Load the fitted model for testing"
   ]
  },
  {
   "cell_type": "code",
   "execution_count": 150,
   "metadata": {
    "gather": {
     "logged": 1616551999863
    },
    "jupyter": {
     "outputs_hidden": false,
     "source_hidden": false
    },
    "nteract": {
     "transient": {
      "deleting": false
     }
    }
   },
   "outputs": [],
   "source": [
    "best_model = joblib.load('fitted_automl_model.joblib')"
   ]
  },
  {
   "cell_type": "markdown",
   "metadata": {
    "nteract": {
     "transient": {
      "deleting": false
     }
    }
   },
   "source": [
    "Fetch sample dataset, isolate Target in vector 'y'"
   ]
  },
  {
   "cell_type": "code",
   "execution_count": 157,
   "metadata": {
    "gather": {
     "logged": 1616551996113
    },
    "jupyter": {
     "outputs_hidden": false,
     "source_hidden": false
    },
    "nteract": {
     "transient": {
      "deleting": false
     }
    }
   },
   "outputs": [
    {
     "data": {
      "text/html": [
       "<div>\n",
       "<style scoped>\n",
       "    .dataframe tbody tr th:only-of-type {\n",
       "        vertical-align: middle;\n",
       "    }\n",
       "\n",
       "    .dataframe tbody tr th {\n",
       "        vertical-align: top;\n",
       "    }\n",
       "\n",
       "    .dataframe thead th {\n",
       "        text-align: right;\n",
       "    }\n",
       "</style>\n",
       "<table border=\"1\" class=\"dataframe\">\n",
       "  <thead>\n",
       "    <tr style=\"text-align: right;\">\n",
       "      <th></th>\n",
       "      <th>Column2</th>\n",
       "      <th>EQTA</th>\n",
       "      <th>EQTL</th>\n",
       "      <th>LLRTA</th>\n",
       "      <th>LLRGL</th>\n",
       "      <th>OEXTA</th>\n",
       "      <th>INCEMP</th>\n",
       "      <th>ROA</th>\n",
       "      <th>ROE</th>\n",
       "      <th>TDTL</th>\n",
       "      <th>TDTA</th>\n",
       "      <th>TATA</th>\n",
       "    </tr>\n",
       "  </thead>\n",
       "  <tbody>\n",
       "    <tr>\n",
       "      <th>43</th>\n",
       "      <td>21521</td>\n",
       "      <td>0.01</td>\n",
       "      <td>0.01</td>\n",
       "      <td>0.02</td>\n",
       "      <td>0.04</td>\n",
       "      <td>0.01</td>\n",
       "      <td>-105.63</td>\n",
       "      <td>-0.02</td>\n",
       "      <td>-2.90</td>\n",
       "      <td>2.47</td>\n",
       "      <td>0.94</td>\n",
       "      <td>0.01</td>\n",
       "    </tr>\n",
       "    <tr>\n",
       "      <th>56</th>\n",
       "      <td>32955</td>\n",
       "      <td>0.02</td>\n",
       "      <td>0.02</td>\n",
       "      <td>0.04</td>\n",
       "      <td>0.05</td>\n",
       "      <td>0.01</td>\n",
       "      <td>-66.70</td>\n",
       "      <td>-0.01</td>\n",
       "      <td>-0.46</td>\n",
       "      <td>1.04</td>\n",
       "      <td>0.85</td>\n",
       "      <td>0.06</td>\n",
       "    </tr>\n",
       "    <tr>\n",
       "      <th>100</th>\n",
       "      <td>35053</td>\n",
       "      <td>0.04</td>\n",
       "      <td>0.06</td>\n",
       "      <td>0.03</td>\n",
       "      <td>0.04</td>\n",
       "      <td>0.02</td>\n",
       "      <td>-65.36</td>\n",
       "      <td>-0.01</td>\n",
       "      <td>-0.24</td>\n",
       "      <td>1.28</td>\n",
       "      <td>0.96</td>\n",
       "      <td>0.08</td>\n",
       "    </tr>\n",
       "    <tr>\n",
       "      <th>107</th>\n",
       "      <td>57658</td>\n",
       "      <td>0.01</td>\n",
       "      <td>0.01</td>\n",
       "      <td>0.00</td>\n",
       "      <td>0.01</td>\n",
       "      <td>0.02</td>\n",
       "      <td>-185.08</td>\n",
       "      <td>-0.03</td>\n",
       "      <td>-4.20</td>\n",
       "      <td>1.51</td>\n",
       "      <td>0.97</td>\n",
       "      <td>0.10</td>\n",
       "    </tr>\n",
       "    <tr>\n",
       "      <th>136</th>\n",
       "      <td>58205</td>\n",
       "      <td>0.00</td>\n",
       "      <td>0.00</td>\n",
       "      <td>0.04</td>\n",
       "      <td>0.05</td>\n",
       "      <td>0.04</td>\n",
       "      <td>-345.90</td>\n",
       "      <td>-0.04</td>\n",
       "      <td>-138.36</td>\n",
       "      <td>1.06</td>\n",
       "      <td>0.80</td>\n",
       "      <td>0.13</td>\n",
       "    </tr>\n",
       "  </tbody>\n",
       "</table>\n",
       "</div>"
      ],
      "text/plain": [
       "    Column2  EQTA  EQTL  LLRTA  LLRGL  OEXTA  INCEMP   ROA     ROE  TDTL  \\\n",
       "43    21521  0.01  0.01   0.02   0.04   0.01 -105.63 -0.02   -2.90  2.47   \n",
       "56    32955  0.02  0.02   0.04   0.05   0.01  -66.70 -0.01   -0.46  1.04   \n",
       "100   35053  0.04  0.06   0.03   0.04   0.02  -65.36 -0.01   -0.24  1.28   \n",
       "107   57658  0.01  0.01   0.00   0.01   0.02 -185.08 -0.03   -4.20  1.51   \n",
       "136   58205  0.00  0.00   0.04   0.05   0.04 -345.90 -0.04 -138.36  1.06   \n",
       "\n",
       "     TDTA  TATA  \n",
       "43   0.94  0.01  \n",
       "56   0.85  0.06  \n",
       "100  0.96  0.08  \n",
       "107  0.97  0.10  \n",
       "136  0.80  0.13  "
      ]
     },
     "execution_count": 157,
     "metadata": {},
     "output_type": "execute_result"
    }
   ],
   "source": [
    "sample = df.loc[df['Target']==1].sample(30)\n",
    "y = sample.pop('Target')\n",
    "sample.head()"
   ]
  },
  {
   "cell_type": "markdown",
   "metadata": {
    "nteract": {
     "transient": {
      "deleting": false
     }
    }
   },
   "source": [
    "Run the model to produce predictions"
   ]
  },
  {
   "cell_type": "code",
   "execution_count": 158,
   "metadata": {
    "gather": {
     "logged": 1616552006431
    },
    "jupyter": {
     "outputs_hidden": false,
     "source_hidden": false
    },
    "nteract": {
     "transient": {
      "deleting": false
     }
    }
   },
   "outputs": [
    {
     "name": "stdout",
     "output_type": "stream",
     "text": [
      "[1 1 1 1 1 1 1 1 1 1 1 1 1 1 1 1 1 1 1 1 1 1 1 1 1 1 0 1 1 1]\n"
     ]
    }
   ],
   "source": [
    "print(best_model.predict(sample))"
   ]
  },
  {
   "cell_type": "code",
   "execution_count": 159,
   "metadata": {},
   "outputs": [
    {
     "name": "stdout",
     "output_type": "stream",
     "text": [
      "[1, 1, 1, 1, 1, 1, 1, 1, 1, 1, 1, 1, 1, 1, 1, 1, 1, 1, 1, 1, 1, 1, 1, 1, 1, 1, 1, 1, 1, 1]\n"
     ]
    }
   ],
   "source": [
    "print(list(y))"
   ]
  },
  {
   "cell_type": "code",
   "execution_count": 160,
   "metadata": {},
   "outputs": [
    {
     "data": {
      "text/html": [
       "<div>\n",
       "<style scoped>\n",
       "    .dataframe tbody tr th:only-of-type {\n",
       "        vertical-align: middle;\n",
       "    }\n",
       "\n",
       "    .dataframe tbody tr th {\n",
       "        vertical-align: top;\n",
       "    }\n",
       "\n",
       "    .dataframe thead th {\n",
       "        text-align: right;\n",
       "    }\n",
       "</style>\n",
       "<table border=\"1\" class=\"dataframe\">\n",
       "  <thead>\n",
       "    <tr style=\"text-align: right;\">\n",
       "      <th></th>\n",
       "      <th>Predicted 0</th>\n",
       "      <th>Predicted 1</th>\n",
       "    </tr>\n",
       "  </thead>\n",
       "  <tbody>\n",
       "    <tr>\n",
       "      <th>True 0</th>\n",
       "      <td>0</td>\n",
       "      <td>0</td>\n",
       "    </tr>\n",
       "    <tr>\n",
       "      <th>True 1</th>\n",
       "      <td>1</td>\n",
       "      <td>29</td>\n",
       "    </tr>\n",
       "  </tbody>\n",
       "</table>\n",
       "</div>"
      ],
      "text/plain": [
       "        Predicted 0  Predicted 1\n",
       "True 0            0            0\n",
       "True 1            1           29"
      ]
     },
     "execution_count": 160,
     "metadata": {},
     "output_type": "execute_result"
    }
   ],
   "source": [
    "y_test = list(y)\n",
    "predictions = best_model.predict(sample)\n",
    "\n",
    "pd.DataFrame(confusion_matrix(y_test, predictions), index=[\"True 0\", \"True 1\"], \n",
    "             columns=[\"Predicted 0\", \"Predicted 1\"])"
   ]
  },
  {
   "cell_type": "markdown",
   "metadata": {},
   "source": [
    "## Model Deployment\n",
    "\n",
    "Register the model"
   ]
  },
  {
   "cell_type": "code",
   "execution_count": 45,
   "metadata": {
    "gather": {
     "logged": 1616552312685
    },
    "jupyter": {
     "outputs_hidden": false,
     "source_hidden": false
    },
    "nteract": {
     "transient": {
      "deleting": false
     }
    }
   },
   "outputs": [],
   "source": [
    "automl_model = remote_run.register_model(model_name='automl_model.pkl')"
   ]
  },
  {
   "cell_type": "markdown",
   "metadata": {},
   "source": [
    "Create inference config"
   ]
  },
  {
   "cell_type": "code",
   "execution_count": 46,
   "metadata": {
    "gather": {
     "logged": 1616552323847
    }
   },
   "outputs": [],
   "source": [
    "environment = best_run.get_environment()\n",
    "entry_script='inference/scoring.py'\n",
    "best_run.download_file('outputs/scoring_file_v_1_0_0.py', entry_script)\n",
    "inference_config = InferenceConfig(entry_script = entry_script, environment = environment) "
   ]
  },
  {
   "cell_type": "markdown",
   "metadata": {},
   "source": [
    "Deploy the model as web service"
   ]
  },
  {
   "cell_type": "code",
   "execution_count": 47,
   "metadata": {
    "gather": {
     "logged": 1616514265047
    }
   },
   "outputs": [
    {
     "name": "stdout",
     "output_type": "stream",
     "text": [
      "Tips: You can try get_logs(): https://aka.ms/debugimage#dockerlog or local deployment: https://aka.ms/debugimage#debug-locally to debug if deployment takes longer than 10 minutes.\n",
      "Running.........................................................\n",
      "Succeeded\n",
      "ACI service creation operation finished, operation \"Succeeded\"\n"
     ]
    }
   ],
   "source": [
    "deployment_config = AciWebservice.deploy_configuration(cpu_cores = 1, \n",
    "                                                    memory_gb = 1, \n",
    "                                                    auth_enabled= True, \n",
    "                                                    enable_app_insights= True)\n",
    "\n",
    "service = Model.deploy(ws, \"aciservice\", [automl_model], inference_config, deployment_config)\n",
    "service.wait_for_deployment(show_output = True)\n"
   ]
  },
  {
   "cell_type": "markdown",
   "metadata": {
    "nteract": {
     "transient": {
      "deleting": false
     }
    }
   },
   "source": [
    "Check status of the web service"
   ]
  },
  {
   "cell_type": "code",
   "execution_count": 162,
   "metadata": {
    "gather": {
     "logged": 1616514374431
    }
   },
   "outputs": [
    {
     "name": "stdout",
     "output_type": "stream",
     "text": [
      "Print ACI service status: Healthy\n"
     ]
    }
   ],
   "source": [
    "print(\"Print ACI service status: {}\".format(service.state))"
   ]
  },
  {
   "cell_type": "markdown",
   "metadata": {
    "nteract": {
     "transient": {
      "deleting": false
     }
    }
   },
   "source": [
    "If 'Healthy', get the URIs"
   ]
  },
  {
   "cell_type": "code",
   "execution_count": 163,
   "metadata": {
    "gather": {
     "logged": 1616514380896
    },
    "jupyter": {
     "outputs_hidden": false,
     "source_hidden": false
    },
    "nteract": {
     "transient": {
      "deleting": false
     }
    }
   },
   "outputs": [
    {
     "name": "stdout",
     "output_type": "stream",
     "text": [
      "Scoring URI:\n",
      " http://75c2cb24-71df-4afe-a1e8-28f29b15e017.eastus.azurecontainer.io/score\n",
      "Swagger URI:\n",
      " http://75c2cb24-71df-4afe-a1e8-28f29b15e017.eastus.azurecontainer.io/swagger.json\n"
     ]
    }
   ],
   "source": [
    "print(\"Scoring URI:\\n {}\".format(service.scoring_uri))\n",
    "print(\"Swagger URI:\\n {}\".format(service.swagger_uri))"
   ]
  },
  {
   "cell_type": "markdown",
   "metadata": {},
   "source": [
    "Store primary and secondary keys for authorization"
   ]
  },
  {
   "cell_type": "code",
   "execution_count": 164,
   "metadata": {
    "gather": {
     "logged": 1616514386860
    },
    "jupyter": {
     "outputs_hidden": false,
     "source_hidden": false
    },
    "nteract": {
     "transient": {
      "deleting": false
     }
    }
   },
   "outputs": [
    {
     "name": "stdout",
     "output_type": "stream",
     "text": [
      "Primary key: J2gXfoXZURVF5rDh71qDWt7BjE401Xbv,\n",
      "Secondary key: I4h6azGCKPBcAgKV4NwfCxsYJkmGXheU\n"
     ]
    }
   ],
   "source": [
    "primary, secondary = service.get_keys()\n",
    "print(\"Primary key: {},\\nSecondary key: {}\".format(primary, secondary)) "
   ]
  },
  {
   "cell_type": "markdown",
   "metadata": {
    "collapsed": true,
    "gather": {
     "logged": 1598431657736
    },
    "jupyter": {
     "outputs_hidden": false,
     "source_hidden": false
    },
    "nteract": {
     "transient": {
      "deleting": false
     }
    }
   },
   "source": [
    "Take a small sample of feautures of the failed banks (`'Target'=1`)"
   ]
  },
  {
   "cell_type": "code",
   "execution_count": 167,
   "metadata": {
    "gather": {
     "logged": 1616514524390
    },
    "jupyter": {
     "outputs_hidden": false,
     "source_hidden": false
    },
    "nteract": {
     "transient": {
      "deleting": false
     }
    }
   },
   "outputs": [],
   "source": [
    "sample = df.loc[df['Target']==1].sample(5)\n",
    "y = sample.pop('Target')"
   ]
  },
  {
   "cell_type": "markdown",
   "metadata": {
    "nteract": {
     "transient": {
      "deleting": false
     }
    }
   },
   "source": [
    "Use this  sample to create JSON payload and headers"
   ]
  },
  {
   "cell_type": "code",
   "execution_count": 168,
   "metadata": {},
   "outputs": [
    {
     "name": "stdout",
     "output_type": "stream",
     "text": [
      "{\"data\": [{\"Column2\": \"58205\", \"EQTA\": 0.00028479642751361324, \"EQTL\": 0.00037714785704587626, \"LLRTA\": 0.03605522772322344, \"LLRGL\": 0.04774691870200794, \"OEXTA\": 0.03591852543801691, \"INCEMP\": -345.9, \"ROA\": -0.03940443371078353, \"ROE\": -138.36, \"TDTL\": 1.057990254499374, \"TDTA\": 0.7989223303182885, \"TATA\": 0.1264723975302454}, {\"Column2\": \"8265\", \"EQTA\": -0.013513513513513514, \"EQTL\": -0.016544005839060884, \"LLRTA\": 0.026182432432432432, \"LLRGL\": 0.03205401131318046, \"OEXTA\": 0.05380564387917329, \"INCEMP\": -251.0, \"ROA\": -0.12470190779014309, \"ROE\": 9.227941176470589, \"TDTL\": 1.2368469071224377, \"TDTA\": 1.0102841812400636, \"TATA\": 0.0}, {\"Column2\": \"33493\", \"EQTA\": 0.02833014992542976, \"EQTL\": 0.033999093305177384, \"LLRTA\": 0.036527970381224, \"LLRGL\": 0.04383732089342803, \"OEXTA\": 0.008662249143096365, \"INCEMP\": -25.584615384615386, \"ROA\": -0.0027195243203642166, \"ROE\": -0.09599399676749018, \"TDTL\": 0.8972863919237435, \"TDTA\": 0.7476745859389309, \"TATA\": 0.07831019911562312}, {\"Column2\": \"32536\", \"EQTA\": -0.013874568268510223, \"EQTL\": -0.02038155934447939, \"LLRTA\": 0.029670447310446633, \"LLRGL\": 0.04358549908955471, \"OEXTA\": 0.016322690060456495, \"INCEMP\": -289.91525423728814, \"ROA\": -0.04818771375286647, \"ROE\": 3.4730964467005077, \"TDTL\": 1.3637684158251946, \"TDTA\": 0.9283734216798228, \"TATA\": 0.15939836491382273}, {\"Column2\": \"23011\", \"EQTA\": 0.057753360567421655, \"EQTL\": 0.06095295430428741, \"LLRTA\": 0.0319405152197837, \"LLRGL\": 0.033710051597328004, \"OEXTA\": 0.035665996377751016, \"INCEMP\": -438.7818181818182, \"ROA\": -0.05793725788453745, \"ROE\": -1.0031841838346551, \"TDTL\": 0.8434607405245272, \"TDTA\": 0.799185090008854, \"TATA\": 0.003192995192741674}]}\n"
     ]
    }
   ],
   "source": [
    "json_payload = json.dumps({'data': sample.to_dict(orient='records')})\n",
    "print(json_payload)"
   ]
  },
  {
   "cell_type": "markdown",
   "metadata": {},
   "source": [
    "Check if result is delivered, compare to true values"
   ]
  },
  {
   "cell_type": "code",
   "execution_count": 169,
   "metadata": {},
   "outputs": [
    {
     "name": "stdout",
     "output_type": "stream",
     "text": [
      "\n",
      "Predicted Values: {\"result\": [1, 1, 1, 1, 1]}\n",
      "\n",
      "True Values:  [1, 1, 1, 1, 1]\n"
     ]
    }
   ],
   "source": [
    "headers = {\"Content-Type\": \"application/json\"}\n",
    "headers[\"Authorization\"] = \"Bearer {}\".format(primary) #{primary}\"\n",
    "resp = requests.post(service.scoring_uri, json_payload, headers=headers)\n",
    "print('\\nPredicted Values:', resp.json())\n",
    "print(f'\\nTrue Values: ', list(y.values))"
   ]
  },
  {
   "cell_type": "markdown",
   "metadata": {},
   "source": [
    "Print out service logs"
   ]
  },
  {
   "cell_type": "code",
   "execution_count": 55,
   "metadata": {},
   "outputs": [
    {
     "name": "stdout",
     "output_type": "stream",
     "text": [
      "webservice logs: \n",
      "2021-03-25T17:24:40,255848500+00:00 - rsyslog/run \n",
      "2021-03-25T17:24:40,254289700+00:00 - gunicorn/run \n",
      "2021-03-25T17:24:40,264493500+00:00 - iot-server/run \n",
      "2021-03-25T17:24:40,340020300+00:00 - nginx/run \n",
      "/usr/sbin/nginx: /azureml-envs/azureml_2b14f450572e78de640d54eaabed5e4d/lib/libcrypto.so.1.0.0: no version information available (required by /usr/sbin/nginx)\n",
      "/usr/sbin/nginx: /azureml-envs/azureml_2b14f450572e78de640d54eaabed5e4d/lib/libcrypto.so.1.0.0: no version information available (required by /usr/sbin/nginx)\n",
      "/usr/sbin/nginx: /azureml-envs/azureml_2b14f450572e78de640d54eaabed5e4d/lib/libssl.so.1.0.0: no version information available (required by /usr/sbin/nginx)\n",
      "/usr/sbin/nginx: /azureml-envs/azureml_2b14f450572e78de640d54eaabed5e4d/lib/libssl.so.1.0.0: no version information available (required by /usr/sbin/nginx)\n",
      "/usr/sbin/nginx: /azureml-envs/azureml_2b14f450572e78de640d54eaabed5e4d/lib/libssl.so.1.0.0: no version information available (required by /usr/sbin/nginx)\n",
      "rsyslogd: /azureml-envs/azureml_2b14f450572e78de640d54eaabed5e4d/lib/libuuid.so.1: no version information available (required by rsyslogd)\n",
      "EdgeHubConnectionString and IOTEDGE_IOTHUBHOSTNAME are not set. Exiting...\n",
      "2021-03-25T17:24:40,667069300+00:00 - iot-server/finish 1 0\n",
      "2021-03-25T17:24:40,668379200+00:00 - Exit code 1 is normal. Not restarting iot-server.\n",
      "Starting gunicorn 19.9.0\n",
      "Listening at: http://127.0.0.1:31311 (75)\n",
      "Using worker: sync\n",
      "worker timeout is set to 300\n",
      "Booting worker with pid: 102\n",
      "SPARK_HOME not set. Skipping PySpark Initialization.\n",
      "Generating new fontManager, this may take some time...\n",
      "Initializing logger\n",
      "2021-03-25 17:24:43,326 | root | INFO | Starting up app insights client\n",
      "2021-03-25 17:24:43,327 | root | INFO | Starting up request id generator\n",
      "2021-03-25 17:24:43,327 | root | INFO | Starting up app insight hooks\n",
      "2021-03-25 17:24:43,327 | root | INFO | Invoking user's init function\n",
      "2021-03-25 17:24:47,495 | azureml.core | WARNING | Failure while loading azureml_run_type_providers. Failed to load entrypoint automl = azureml.train.automl.run:AutoMLRun._from_run_dto with exception (cryptography 3.2 (/azureml-envs/azureml_2b14f450572e78de640d54eaabed5e4d/lib/python3.6/site-packages), Requirement.parse('cryptography<4.0.0,>=3.3.1; extra == \"crypto\"'), {'PyJWT'}).\n",
      "Failure while loading azureml_run_type_providers. Failed to load entrypoint automl = azureml.train.automl.run:AutoMLRun._from_run_dto with exception (cryptography 3.2 (/azureml-envs/azureml_2b14f450572e78de640d54eaabed5e4d/lib/python3.6/site-packages), Requirement.parse('cryptography<4.0.0,>=3.3.1; extra == \"crypto\"'), {'PyJWT'}).\n",
      "2021-03-25 17:24:48,100 | root | INFO | Users's init has completed successfully\n",
      "2021-03-25 17:24:48,118 | root | INFO | Skipping middleware: dbg_model_info as it's not enabled.\n",
      "2021-03-25 17:24:48,118 | root | INFO | Skipping middleware: dbg_resource_usage as it's not enabled.\n",
      "2021-03-25 17:24:48,121 | root | INFO | Scoring timeout is found from os.environ: 60000 ms\n",
      "2021-03-25 17:24:50,469 | root | INFO | 200\n",
      "127.0.0.1 - - [25/Mar/2021:17:24:50 +0000] \"GET /swagger.json HTTP/1.0\" 200 2692 \"-\" \"Go-http-client/1.1\"\n",
      "2021-03-25 17:25:00,401 | root | INFO | 200\n",
      "127.0.0.1 - - [25/Mar/2021:17:25:00 +0000] \"GET /swagger.json HTTP/1.0\" 200 2692 \"-\" \"Go-http-client/1.1\"\n",
      "2021-03-25 17:31:37,741 | root | INFO | Validation Request Content-Type\n",
      "2021-03-25 17:31:37,744 | root | INFO | Scoring Timer is set to 60.0 seconds\n",
      "2021-03-25 17:31:37,922 | root | INFO | 200\n",
      "127.0.0.1 - - [25/Mar/2021:17:31:37 +0000] \"POST /score HTTP/1.0\" 200 31 \"-\" \"python-requests/2.25.1\"\n",
      "\n",
      "\n"
     ]
    }
   ],
   "source": [
    "print(f'webservice logs: \\n{service.get_logs()}\\n')"
   ]
  },
  {
   "cell_type": "markdown",
   "metadata": {},
   "source": [
    "## Out of sample testing"
   ]
  },
  {
   "cell_type": "markdown",
   "metadata": {},
   "source": [
    "Define periods from which new , 'unseen' data will be used. In this case 9 out-of-sample quarters of reports that the model has never seen."
   ]
  },
  {
   "cell_type": "code",
   "execution_count": null,
   "metadata": {},
   "outputs": [],
   "source": [
    "oos_reports = ['2010Q4', '2011Q1', '2011Q2', '2011Q3', '2011Q4', '2012Q1', '2012Q2', '2012Q3', '2012Q4']"
   ]
  },
  {
   "cell_type": "markdown",
   "metadata": {},
   "source": [
    "Get the date for the quarter, get features and true y_oos, send features to the web service and get response, y_pred. Use y_oos and y_pred to compute confusion matrix. Store results in a dictionary."
   ]
  },
  {
   "cell_type": "code",
   "execution_count": null,
   "metadata": {},
   "outputs": [],
   "source": [
    "outofsample_results = {}\n",
    "for report in oos_reports:\n",
    "    # Get the quarter-end report and drop missing values\n",
    "    oos_df = pd.read_csv('https://raw.githubusercontent.com/allaccountstaken/automl_v_hyperdrive/main/oos/camel_data_after{}_OOS.csv'.format(report))\n",
    "    oos_df.replace([np.inf, -np.inf], np.nan)\n",
    "    oos_df.dropna(inplace=True)\n",
    "    \n",
    "    # Prepare data for model consumption, 12 columns expected\n",
    "    oos_df.pop('AsOfDate')\n",
    "    oos_df.rename(columns={'Unnamed: 0':'Column2'}, inplace=True)\n",
    "    \n",
    "    # Assing true values (y_oos) and features (X_oos)\n",
    "    y_oos = oos_df['Target']\n",
    "    X_oos = oos_df[['Column2', 'EQTA', 'EQTL', 'LLRTA', 'LLRGL', 'OEXTA', 'INCEMP', 'ROA', 'ROE', \n",
    "                    'TDTL', 'TDTA', 'TATA']].copy()\n",
    "    \n",
    "    \n",
    "    # Send JSON payload and ask for peridictions\n",
    "    json_payload = json.dumps({'data': X_oos.to_dict(orient='records')})\n",
    "    y_pred = json.loads(service.run(json_payload))[\"result\"]\n",
    "  \n",
    "    \n",
    "    # Compute confusion matrix\n",
    "    tn, fp, fn, tp = confusion_matrix(y_oos, y_pred).ravel()\n",
    "    mcc = np.round(matthews_corrcoef(y_oos, y_pred), 2)\n",
    "    \n",
    "    # Build report as a dictionary \n",
    "    outofsample_results[report] = {'Actually failed':fn+tp, \n",
    "                                   'Predicted fail':tp,\n",
    "                                   'Recall (TP/TP+FN)':np.round(tp/(tp+fn), 2),\n",
    "                                   'Precision (TP/TP+FP)':np.round(tp/(tp+fp), 2),\n",
    "                                   'Matthews Correlation':mcc\n",
    "                                  }"
   ]
  },
  {
   "cell_type": "code",
   "execution_count": 138,
   "metadata": {},
   "outputs": [
    {
     "data": {
      "text/plain": [
       "{'2010Q4': {'Actually failed': 24,\n",
       "  'Predicted fail': 22,\n",
       "  'Recall (TP/TP+FN)': 0.92,\n",
       "  'Precision (TP/TP+FP)': 0.1,\n",
       "  'Matthews Correlation': 0.3},\n",
       " '2011Q1': {'Actually failed': 19,\n",
       "  'Predicted fail': 19,\n",
       "  'Recall (TP/TP+FN)': 1.0,\n",
       "  'Precision (TP/TP+FP)': 0.08,\n",
       "  'Matthews Correlation': 0.28},\n",
       " '2011Q2': {'Actually failed': 25,\n",
       "  'Predicted fail': 25,\n",
       "  'Recall (TP/TP+FN)': 1.0,\n",
       "  'Precision (TP/TP+FP)': 0.1,\n",
       "  'Matthews Correlation': 0.32},\n",
       " '2011Q3': {'Actually failed': 18,\n",
       "  'Predicted fail': 17,\n",
       "  'Recall (TP/TP+FN)': 0.94,\n",
       "  'Precision (TP/TP+FP)': 0.08,\n",
       "  'Matthews Correlation': 0.27},\n",
       " '2011Q4': {'Actually failed': 13,\n",
       "  'Predicted fail': 13,\n",
       "  'Recall (TP/TP+FN)': 1.0,\n",
       "  'Precision (TP/TP+FP)': 0.06,\n",
       "  'Matthews Correlation': 0.24},\n",
       " '2012Q1': {'Actually failed': 15,\n",
       "  'Predicted fail': 15,\n",
       "  'Recall (TP/TP+FN)': 1.0,\n",
       "  'Precision (TP/TP+FP)': 0.07,\n",
       "  'Matthews Correlation': 0.26},\n",
       " '2012Q2': {'Actually failed': 12,\n",
       "  'Predicted fail': 12,\n",
       "  'Recall (TP/TP+FN)': 1.0,\n",
       "  'Precision (TP/TP+FP)': 0.06,\n",
       "  'Matthews Correlation': 0.25},\n",
       " '2012Q3': {'Actually failed': 8,\n",
       "  'Predicted fail': 8,\n",
       "  'Recall (TP/TP+FN)': 1.0,\n",
       "  'Precision (TP/TP+FP)': 0.05,\n",
       "  'Matthews Correlation': 0.22},\n",
       " '2012Q4': {'Actually failed': 4,\n",
       "  'Predicted fail': 4,\n",
       "  'Recall (TP/TP+FN)': 1.0,\n",
       "  'Precision (TP/TP+FP)': 0.03,\n",
       "  'Matthews Correlation': 0.16}}"
      ]
     },
     "execution_count": 138,
     "metadata": {},
     "output_type": "execute_result"
    }
   ],
   "source": [
    "outofsample_results"
   ]
  },
  {
   "cell_type": "markdown",
   "metadata": {},
   "source": [
    "These are summary data used in model training. This is needed for the plot only."
   ]
  },
  {
   "cell_type": "code",
   "execution_count": 139,
   "metadata": {},
   "outputs": [],
   "source": [
    "insample_results = {\n",
    "    '2009Q4':{'Actually failed':31, 'Predicted fail':0, 'Recall (TP/TP+FN)':0.69, 'Precision (TP/TP+FP)':0.63},\n",
    "    '2010Q1':{'Actually failed':35, 'Predicted fail':0, 'Recall (TP/TP+FN)':0.69, 'Precision (TP/TP+FP)':0.63},\n",
    "    '2010Q2':{'Actually failed':41, 'Predicted fail':0, 'Recall (TP/TP+FN)':0.69, 'Precision (TP/TP+FP)':0.63}, \n",
    "    '2010Q3':{'Actually failed':30, 'Predicted fail':0, 'Recall (TP/TP+FN)':0.69, 'Precision (TP/TP+FP)':0.63}}\n",
    "\n",
    "results_df = pd.DataFrame.from_dict(insample_results, orient='index')"
   ]
  },
  {
   "cell_type": "markdown",
   "metadata": {},
   "source": [
    "Create a plot: counts of banks that actually failed (blue) and counts of banks that are predicted to fail (orange) as vertical bars. Area curves represent recall scores and precision. Note: the objective is to maximize recal, i.e. make the orange bars equal to the blue bars."
   ]
  },
  {
   "cell_type": "code",
   "execution_count": 140,
   "metadata": {},
   "outputs": [
    {
     "data": {
      "image/png": "[encoded data removed]",
      "text/plain": [
       "<Figure size 1440x576 with 2 Axes>"
      ]
     },
     "metadata": {
      "needs_background": "light"
     },
     "output_type": "display_data"
    }
   ],
   "source": [
    "# Combine all metrics in one DataFrame\n",
    "results_plot_df = results_df.append(pd.DataFrame.from_dict(outofsample_results).T)\n",
    "\n",
    "# Prepare figure and split axis\n",
    "fig, ax1 = plt.subplots(sharex=True, figsize=(20, 8))\n",
    "ax2 = ax1.twinx()\n",
    "\n",
    "# Plot bars and areas\n",
    "results_plot_df[['Actually failed','Predicted fail']].plot(\n",
    "    kind='bar', ax=ax1, width=0.9).legend(loc='upper left')                                                              \n",
    "results_plot_df[['Precision (TP/TP+FP)', 'Recall (TP/TP+FN)']].plot(\n",
    "    kind='area', stacked=False, alpha=0.2, ax=ax2).legend(loc='upper right')\n",
    "plt.axvline(x=3.4, ymin=0, ymax = 0.99, linewidth=3, color='k', linestyle=':')\n",
    "\n",
    "# Plot managements comtrols\n",
    "ax1.yaxis.tick_left()\n",
    "ax2.yaxis.tick_right()\n",
    "ax2.grid(True)\n",
    "ax1.set_xlim([-1.01, 13.01])\n",
    "\n",
    "# Assign titles\n",
    "ax1.text(x= 1.5, y=42.5, s='In-sample modeling', fontsize=14, verticalalignment='top')\n",
    "ax1.text(x= 3.5, y=42.5, s='Out-of-sample forecasting', fontsize=14, verticalalignment='top')\n",
    "plt.title('AutoML VotingEnsemble performance with out-of-sample data', fontsize=16)\n",
    "\n",
    "plt.show()"
   ]
  },
  {
   "cell_type": "markdown",
   "metadata": {
    "collapsed": true,
    "jupyter": {
     "outputs_hidden": false,
     "source_hidden": false
    },
    "nteract": {
     "transient": {
      "deleting": false
     }
    }
   },
   "source": [
    "Clean up - deleting the ACI service"
   ]
  },
  {
   "cell_type": "code",
   "execution_count": 3,
   "metadata": {
    "gather": {
     "logged": 1616454181026
    },
    "jupyter": {
     "outputs_hidden": false,
     "source_hidden": false
    },
    "nteract": {
     "transient": {
      "deleting": false
     }
    }
   },
   "outputs": [],
   "source": [
    "#service.delete()"
   ]
  },
  {
   "cell_type": "markdown",
   "metadata": {},
   "source": [
    "-- the end --"
   ]
  }
 ],
 "metadata": {
  "kernel_info": {
   "name": "python3-azureml"
  },
  "kernelspec": {
   "display_name": "Python 3",
   "language": "python",
   "name": "python3"
  },
  "language_info": {
   "codemirror_mode": {
    "name": "ipython",
    "version": 3
   },
   "file_extension": ".py",
   "mimetype": "text/x-python",
   "name": "python",
   "nbconvert_exporter": "python",
   "pygments_lexer": "ipython3",
   "version": "3.8.3"
  },
  "microsoft": {
   "host": {
    "AzureML": {
     "notebookHasBeenCompleted": true
    }
   }
  },
  "nteract": {
   "version": "nteract-front-end@1.0.0"
  }
 },
 "nbformat": 4,
 "nbformat_minor": 2
}
