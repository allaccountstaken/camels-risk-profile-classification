{
  "cells": [
    {
      "cell_type": "markdown",
      "source": [
        "# Automated ML\n",
        "\n",
        "TODO: Import Dependencies. In the cell below, import all the dependencies that you will need to complete the project."
      ],
      "metadata": {}
    },
    {
      "cell_type": "code",
      "source": [
        "#!pip install azureml-sdk==1.22.0"
      ],
      "outputs": [],
      "execution_count": 31,
      "metadata": {
        "collapsed": true,
        "jupyter": {
          "source_hidden": false,
          "outputs_hidden": false
        },
        "nteract": {
          "transient": {
            "deleting": false
          }
        },
        "gather": {
          "logged": 1616551943937
        }
      }
    },
    {
      "cell_type": "code",
      "source": [
        "import logging\n",
        "import os\n",
        "import csv\n",
        "import joblib\n",
        "import json\n",
        "import requests\n",
        "import pandas as pd \n",
        "import numpy as np \n",
        "import azureml.core\n",
        "from azureml.core import Workspace, Experiment\n",
        "from azureml.train.automl import AutoMLConfig\n",
        "from azureml.core.dataset import Dataset\n",
        "from azureml.core.compute import ComputeTarget, AmlCompute\n",
        "from azureml.core.compute_target import ComputeTargetException\n",
        "from azureml.widgets import RunDetails\n",
        "from azureml.core.run import Run\n",
        "from azureml.core.model import InferenceConfig \n",
        "from azureml.core.webservice import AciWebservice, Webservice\n",
        "from azureml.core.model import Model\n",
        "\n",
        "\n",
        "print(\"SDK version:\", azureml.core.VERSION)"
      ],
      "outputs": [
        {
          "output_type": "stream",
          "name": "stdout",
          "text": [
            "SDK version: 1.22.0\n"
          ]
        }
      ],
      "execution_count": 32,
      "metadata": {
        "gather": {
          "logged": 1616551946204
        },
        "jupyter": {
          "outputs_hidden": false,
          "source_hidden": false
        },
        "nteract": {
          "transient": {
            "deleting": false
          }
        }
      }
    },
    {
      "cell_type": "markdown",
      "source": [
        "## Dataset\n",
        "\n",
        "### Overview\n",
        "The primary objective was to develop an early warning system, i.e. binary classification of failed ('Target'==1) vs. survived ('Target'==0), for the US banks using their quarterly filings with the regulator. Overall, 137 failed banks and 6,877 surviving banks were used in this machine learning exercise. Historical observations from the first 4 quarters ending 2010Q3 (stored in ./data) are used to tune the model and out-of-sample testing is performed on quarterly data starting from 2010Q4 (stored in ./oos). "
      ],
      "metadata": {}
    },
    {
      "cell_type": "markdown",
      "source": [
        "### Setting up the project"
      ],
      "metadata": {
        "nteract": {
          "transient": {
            "deleting": false
          }
        }
      }
    },
    {
      "cell_type": "code",
      "source": [
        "ws = Workspace.from_config()\n",
        "ws.write_config(path='.azureml')\n",
        "experiment_name = 'camels-clf'\n",
        "project_folder = './dmik'\n",
        "exp = Experiment(workspace=ws, name=experiment_name)\n",
        "run = exp.start_logging() # added and \n",
        "\n",
        "print('Workspace name: ' + ws.name, \n",
        "      'Azure region: ' + ws.location, \n",
        "      'Subscription id: ' + ws.subscription_id, \n",
        "      'Resource group: ' + ws.resource_group, sep = '\\n')\n"
      ],
      "outputs": [
        {
          "output_type": "stream",
          "name": "stdout",
          "text": [
            "Workspace name: final-ws\n",
            "Azure region: eastus\n",
            "Subscription id: 0c66ad45-500d-48af-80d3-0039ebf1975e\n",
            "Resource group: final-rgp\n"
          ]
        }
      ],
      "execution_count": 3,
      "metadata": {
        "gather": {
          "logged": 1616548514312
        },
        "jupyter": {
          "outputs_hidden": false,
          "source_hidden": false
        },
        "nteract": {
          "transient": {
            "deleting": false
          }
        }
      }
    },
    {
      "cell_type": "markdown",
      "source": [
        "### Uploading the training dataset using GUI"
      ],
      "metadata": {
        "nteract": {
          "transient": {
            "deleting": false
          }
        }
      }
    },
    {
      "cell_type": "code",
      "source": [
        "dataset = ws.datasets['camels11'] \n",
        "df = dataset.to_pandas_dataframe()\n",
        "#df.pop('Column2')\n",
        "\n",
        "#len(df)\n",
        "df.head()\n",
        "#df.tail()"
      ],
      "outputs": [
        {
          "output_type": "execute_result",
          "execution_count": 33,
          "data": {
            "text/plain": "  Column2  Target  EQTA  EQTL  LLRTA  LLRGL  OEXTA  INCEMP   ROA    ROE  TDTL  \\\n0    1252       1  0.01  0.01   0.09   0.12   0.03 -593.17 -0.14 -15.77  1.23   \n1    3287       1  0.08  0.19   0.00   0.01   0.02   20.90  0.00   0.05  2.21   \n2    5672       1  0.00  0.00   0.07   0.10   0.03 -323.52 -0.06 -27.68  1.38   \n3    5702       1  0.02  0.02   0.03   0.04   0.04 -153.60 -0.05  -3.12  1.20   \n4    8221       1  0.01  0.01   0.04   0.05   0.04 -217.89 -0.07  -6.03  1.15   \n\n   TDTA  TATA  \n0  0.98  0.11  \n1  0.91  0.36  \n2  0.93  0.14  \n3  0.90  0.09  \n4  0.99  0.10  ",
            "text/html": "<div>\n<style scoped>\n    .dataframe tbody tr th:only-of-type {\n        vertical-align: middle;\n    }\n\n    .dataframe tbody tr th {\n        vertical-align: top;\n    }\n\n    .dataframe thead th {\n        text-align: right;\n    }\n</style>\n<table border=\"1\" class=\"dataframe\">\n  <thead>\n    <tr style=\"text-align: right;\">\n      <th></th>\n      <th>Column2</th>\n      <th>Target</th>\n      <th>EQTA</th>\n      <th>EQTL</th>\n      <th>LLRTA</th>\n      <th>LLRGL</th>\n      <th>OEXTA</th>\n      <th>INCEMP</th>\n      <th>ROA</th>\n      <th>ROE</th>\n      <th>TDTL</th>\n      <th>TDTA</th>\n      <th>TATA</th>\n    </tr>\n  </thead>\n  <tbody>\n    <tr>\n      <th>0</th>\n      <td>1252</td>\n      <td>1</td>\n      <td>0.01</td>\n      <td>0.01</td>\n      <td>0.09</td>\n      <td>0.12</td>\n      <td>0.03</td>\n      <td>-593.17</td>\n      <td>-0.14</td>\n      <td>-15.77</td>\n      <td>1.23</td>\n      <td>0.98</td>\n      <td>0.11</td>\n    </tr>\n    <tr>\n      <th>1</th>\n      <td>3287</td>\n      <td>1</td>\n      <td>0.08</td>\n      <td>0.19</td>\n      <td>0.00</td>\n      <td>0.01</td>\n      <td>0.02</td>\n      <td>20.90</td>\n      <td>0.00</td>\n      <td>0.05</td>\n      <td>2.21</td>\n      <td>0.91</td>\n      <td>0.36</td>\n    </tr>\n    <tr>\n      <th>2</th>\n      <td>5672</td>\n      <td>1</td>\n      <td>0.00</td>\n      <td>0.00</td>\n      <td>0.07</td>\n      <td>0.10</td>\n      <td>0.03</td>\n      <td>-323.52</td>\n      <td>-0.06</td>\n      <td>-27.68</td>\n      <td>1.38</td>\n      <td>0.93</td>\n      <td>0.14</td>\n    </tr>\n    <tr>\n      <th>3</th>\n      <td>5702</td>\n      <td>1</td>\n      <td>0.02</td>\n      <td>0.02</td>\n      <td>0.03</td>\n      <td>0.04</td>\n      <td>0.04</td>\n      <td>-153.60</td>\n      <td>-0.05</td>\n      <td>-3.12</td>\n      <td>1.20</td>\n      <td>0.90</td>\n      <td>0.09</td>\n    </tr>\n    <tr>\n      <th>4</th>\n      <td>8221</td>\n      <td>1</td>\n      <td>0.01</td>\n      <td>0.01</td>\n      <td>0.04</td>\n      <td>0.05</td>\n      <td>0.04</td>\n      <td>-217.89</td>\n      <td>-0.07</td>\n      <td>-6.03</td>\n      <td>1.15</td>\n      <td>0.99</td>\n      <td>0.10</td>\n    </tr>\n  </tbody>\n</table>\n</div>"
          },
          "metadata": {}
        }
      ],
      "execution_count": 33,
      "metadata": {
        "collapsed": true,
        "jupyter": {
          "source_hidden": false,
          "outputs_hidden": false
        },
        "nteract": {
          "transient": {
            "deleting": false
          }
        },
        "gather": {
          "logged": 1616551964898
        }
      }
    },
    {
      "cell_type": "markdown",
      "source": [
        "### Checking for or creating appropriate `ComputeTarget`"
      ],
      "metadata": {}
    },
    {
      "cell_type": "code",
      "source": [
        "cpu_cluster_name = 'final-cmp'\n",
        "\n",
        "try:\n",
        "    compute_target = ComputeTarget(workspace=ws, name=cpu_cluster_name)\n",
        "    print('Existing compute target.')\n",
        "\n",
        "except:\n",
        "    print('Creating compute target.')\n",
        "    compute_config = AmlCompute.provisioning_configuration(vm_size='STANDARD_D2_V2', max_nodes=4)\n",
        "    compute_target = ComputeTarget.create(ws, cpu_cluster_name, compute_config)\n",
        "\n",
        "print(compute_target.get_status())"
      ],
      "outputs": [
        {
          "output_type": "stream",
          "name": "stdout",
          "text": [
            "Existing compute target.\n",
            "{\n",
            "  \"errors\": [],\n",
            "  \"creationTime\": \"2021-03-22T19:24:32.034596+00:00\",\n",
            "  \"createdBy\": {\n",
            "    \"userObjectId\": \"49e75006-b9ac-415c-9176-f83c59d4bf26\",\n",
            "    \"userTenantId\": \"d689239e-c492-40c6-b391-2c5951d31d14\",\n",
            "    \"userName\": null\n",
            "  },\n",
            "  \"modifiedTime\": \"2021-03-22T19:27:20.575645+00:00\",\n",
            "  \"state\": \"Running\",\n",
            "  \"vmSize\": \"STANDARD_DS2_V2\"\n",
            "}\n"
          ]
        }
      ],
      "execution_count": 5,
      "metadata": {
        "gather": {
          "logged": 1616548548648
        }
      }
    },
    {
      "cell_type": "markdown",
      "source": [
        "## AutoML Configuration\n",
        "### Primary metric determins configuaration\n",
        "Financial metrics recorded in the last reports of the failed banks should have predictive power that is needed to forecast future failures. Due to significant class imbalances and taking into account costs accosiated with financial distress, the model should aim to maximize the recall score. In other words, accuracy is probably not the best metrics, as Type II error needs to be minimized. This is why the main focus of this classification should be on maximizing AUC, hopefully, by achieving good recall score. This is why 'norm_macro_recall' was chosen as a primary metric. Timeout and number of concurrent iterations were set conservatively to control the costs."
      ],
      "metadata": {}
    },
    {
      "cell_type": "code",
      "source": [
        "automl_settings = {\n",
        "    \"experiment_timeout_minutes\": 20,\n",
        "    \"max_concurrent_iterations\": 4,\n",
        "    \"primary_metric\" : 'norm_macro_recall',\n",
        "    \"verbosity\": logging.INFO\n",
        "    }\n",
        "\n",
        "automl_config = AutoMLConfig(\n",
        "    compute_target=compute_target, \n",
        "    task = \"classification\",\n",
        "    training_data=dataset, \n",
        "    label_column_name=\"Target\", \n",
        "    path = project_folder,\n",
        "    enable_early_stopping= True, \n",
        "    featurization= 'auto', \n",
        "    debug_log = \"automl_errors.log\",\n",
        "    **automl_settings\n",
        "    )"
      ],
      "outputs": [],
      "execution_count": 6,
      "metadata": {
        "gather": {
          "logged": 1616548552965
        }
      }
    },
    {
      "cell_type": "markdown",
      "source": [
        "## Run Details\n",
        "\n",
        "### Possible modeling choices \n",
        "Generally speaking, decision trees should work well for this task, as these models do not make any functional form assumptions, handle both categorical and continuous data well, and are easy to interpret. Tree-based models simply aim to reduce entropy at every split and are therefore very straightforward, no need to worry about missing data and scaling. They are not very stable though, as new data may produce a totally different tree, and they also tend to overfit.\n",
        "\n",
        "Possible solution would be model averaging - employing “wisdom of the crowd”. It seems that for the present task two paths are possible: reducing variance or reducing bias. The former implies complex model, i.e. starting with a bushy, high-variance tree and resampling with replacement, what will produce a family of Random Forest models. The later implies starting with a simple model, i.e. possible a stump, high-bias classifier and learning from miss-classified instances, what will produce a family of Boosting models.\n"
      ],
      "metadata": {}
    },
    {
      "cell_type": "code",
      "source": [
        "remote_run = exp.submit(config=automl_config, show_output=False) \n",
        "RunDetails(remote_run).show() \n",
        "remote_run.wait_for_completion(show_output=False)"
      ],
      "outputs": [
        {
          "output_type": "stream",
          "name": "stdout",
          "text": [
            "Running on remote.\n"
          ]
        },
        {
          "output_type": "display_data",
          "data": {
            "text/plain": "_AutoMLWidget(widget_settings={'childWidgetDisplay': 'popup', 'send_telemetry': False, 'log_level': 'INFO', 's…",
            "application/vnd.jupyter.widget-view+json": {
              "version_major": 2,
              "version_minor": 0,
              "model_id": "fb2274357a8b47f7af71022b1ba997c3"
            }
          },
          "metadata": {}
        },
        {
          "output_type": "display_data",
          "data": {
            "application/aml.mini.widget.v1": "{\"status\": \"Completed\", \"workbench_run_details_uri\": \"https://ml.azure.com/experiments/camels-clf/runs/AutoML_644989e4-1844-40f1-8b40-53c568d3c068?wsid=/subscriptions/0c66ad45-500d-48af-80d3-0039ebf1975e/resourcegroups/final-rgp/workspaces/final-ws\", \"run_id\": \"AutoML_644989e4-1844-40f1-8b40-53c568d3c068\", \"run_properties\": {\"run_id\": \"AutoML_644989e4-1844-40f1-8b40-53c568d3c068\", \"created_utc\": \"2021-03-24T01:16:23.731304Z\", \"properties\": {\"num_iterations\": \"1000\", \"training_type\": \"TrainFull\", \"acquisition_function\": \"EI\", \"primary_metric\": \"norm_macro_recall\", \"train_split\": \"0\", \"acquisition_parameter\": \"0\", \"num_cross_validation\": null, \"target\": \"final-cmp\", \"AMLSettingsJsonString\": \"{\\\"path\\\":null,\\\"name\\\":\\\"camels-clf\\\",\\\"subscription_id\\\":\\\"0c66ad45-500d-48af-80d3-0039ebf1975e\\\",\\\"resource_group\\\":\\\"final-rgp\\\",\\\"workspace_name\\\":\\\"final-ws\\\",\\\"region\\\":\\\"eastus\\\",\\\"compute_target\\\":\\\"final-cmp\\\",\\\"spark_service\\\":null,\\\"azure_service\\\":\\\"remote\\\",\\\"many_models\\\":false,\\\"pipeline_fetch_max_batch_size\\\":1,\\\"iterations\\\":1000,\\\"primary_metric\\\":\\\"norm_macro_recall\\\",\\\"task_type\\\":\\\"classification\\\",\\\"data_script\\\":null,\\\"validation_size\\\":0.0,\\\"n_cross_validations\\\":null,\\\"y_min\\\":null,\\\"y_max\\\":null,\\\"num_classes\\\":null,\\\"featurization\\\":\\\"auto\\\",\\\"_ignore_package_version_incompatibilities\\\":false,\\\"is_timeseries\\\":false,\\\"max_cores_per_iteration\\\":1,\\\"max_concurrent_iterations\\\":4,\\\"iteration_timeout_minutes\\\":null,\\\"mem_in_mb\\\":null,\\\"enforce_time_on_windows\\\":false,\\\"experiment_timeout_minutes\\\":20,\\\"experiment_exit_score\\\":null,\\\"whitelist_models\\\":null,\\\"blacklist_algos\\\":[\\\"TensorFlowLinearClassifier\\\",\\\"TensorFlowDNN\\\"],\\\"supported_models\\\":[\\\"MultinomialNaiveBayes\\\",\\\"LogisticRegression\\\",\\\"SVM\\\",\\\"XGBoostClassifier\\\",\\\"SGD\\\",\\\"DecisionTree\\\",\\\"LightGBM\\\",\\\"GradientBoosting\\\",\\\"AveragedPerceptronClassifier\\\",\\\"TensorFlowLinearClassifier\\\",\\\"LinearSVM\\\",\\\"ExtremeRandomTrees\\\",\\\"TensorFlowDNN\\\",\\\"RandomForest\\\",\\\"BernoulliNaiveBayes\\\",\\\"KNN\\\"],\\\"private_models\\\":[],\\\"auto_blacklist\\\":true,\\\"blacklist_samples_reached\\\":false,\\\"exclude_nan_labels\\\":true,\\\"verbosity\\\":20,\\\"_debug_log\\\":\\\"azureml_automl.log\\\",\\\"show_warnings\\\":false,\\\"model_explainability\\\":true,\\\"service_url\\\":null,\\\"sdk_url\\\":null,\\\"sdk_packages\\\":null,\\\"enable_onnx_compatible_models\\\":false,\\\"enable_split_onnx_featurizer_estimator_models\\\":false,\\\"vm_type\\\":\\\"STANDARD_DS2_V2\\\",\\\"telemetry_verbosity\\\":20,\\\"send_telemetry\\\":true,\\\"enable_dnn\\\":false,\\\"scenario\\\":\\\"SDK-1.13.0\\\",\\\"environment_label\\\":null,\\\"force_text_dnn\\\":false,\\\"enable_feature_sweeping\\\":true,\\\"enable_early_stopping\\\":true,\\\"early_stopping_n_iters\\\":10,\\\"metrics\\\":null,\\\"enable_ensembling\\\":true,\\\"enable_stack_ensembling\\\":true,\\\"ensemble_iterations\\\":15,\\\"enable_tf\\\":false,\\\"enable_subsampling\\\":null,\\\"subsample_seed\\\":null,\\\"enable_nimbusml\\\":false,\\\"enable_streaming\\\":false,\\\"force_streaming\\\":false,\\\"track_child_runs\\\":true,\\\"allowed_private_models\\\":[],\\\"label_column_name\\\":\\\"Target\\\",\\\"weight_column_name\\\":null,\\\"cv_split_column_names\\\":null,\\\"enable_local_managed\\\":false,\\\"_local_managed_run_id\\\":null,\\\"cost_mode\\\":1,\\\"lag_length\\\":0,\\\"metric_operation\\\":\\\"maximize\\\",\\\"preprocess\\\":true}\", \"DataPrepJsonString\": \"{\\\\\\\"training_data\\\\\\\": \\\\\\\"{\\\\\\\\\\\\\\\"blocks\\\\\\\\\\\\\\\": [{\\\\\\\\\\\\\\\"id\\\\\\\\\\\\\\\": \\\\\\\\\\\\\\\"0d2d11b9-cd34-4682-852f-64735b51567f\\\\\\\\\\\\\\\", \\\\\\\\\\\\\\\"type\\\\\\\\\\\\\\\": \\\\\\\\\\\\\\\"Microsoft.DPrep.GetDatastoreFilesBlock\\\\\\\\\\\\\\\", \\\\\\\\\\\\\\\"arguments\\\\\\\\\\\\\\\": {\\\\\\\\\\\\\\\"datastores\\\\\\\\\\\\\\\": [{\\\\\\\\\\\\\\\"datastoreName\\\\\\\\\\\\\\\": \\\\\\\\\\\\\\\"workspaceblobstore\\\\\\\\\\\\\\\", \\\\\\\\\\\\\\\"path\\\\\\\\\\\\\\\": \\\\\\\\\\\\\\\"UI/03-23-2021_112308_UTC/camel_data_after2010Q3.csv\\\\\\\\\\\\\\\", \\\\\\\\\\\\\\\"resourceGroup\\\\\\\\\\\\\\\": \\\\\\\\\\\\\\\"final-rgp\\\\\\\\\\\\\\\", \\\\\\\\\\\\\\\"subscription\\\\\\\\\\\\\\\": \\\\\\\\\\\\\\\"0c66ad45-500d-48af-80d3-0039ebf1975e\\\\\\\\\\\\\\\", \\\\\\\\\\\\\\\"workspaceName\\\\\\\\\\\\\\\": \\\\\\\\\\\\\\\"final-ws\\\\\\\\\\\\\\\"}]}, \\\\\\\\\\\\\\\"localData\\\\\\\\\\\\\\\": {}, \\\\\\\\\\\\\\\"isEnabled\\\\\\\\\\\\\\\": true, \\\\\\\\\\\\\\\"name\\\\\\\\\\\\\\\": null, \\\\\\\\\\\\\\\"annotation\\\\\\\\\\\\\\\": null}, {\\\\\\\\\\\\\\\"id\\\\\\\\\\\\\\\": \\\\\\\\\\\\\\\"02153692-0259-4f94-8541-adb9ed81e8d6\\\\\\\\\\\\\\\", \\\\\\\\\\\\\\\"type\\\\\\\\\\\\\\\": \\\\\\\\\\\\\\\"Microsoft.DPrep.ParseDelimitedBlock\\\\\\\\\\\\\\\", \\\\\\\\\\\\\\\"arguments\\\\\\\\\\\\\\\": {\\\\\\\\\\\\\\\"columnHeadersMode\\\\\\\\\\\\\\\": 1, \\\\\\\\\\\\\\\"fileEncoding\\\\\\\\\\\\\\\": 0, \\\\\\\\\\\\\\\"handleQuotedLineBreaks\\\\\\\\\\\\\\\": false, \\\\\\\\\\\\\\\"preview\\\\\\\\\\\\\\\": false, \\\\\\\\\\\\\\\"separator\\\\\\\\\\\\\\\": \\\\\\\\\\\\\\\",\\\\\\\\\\\\\\\", \\\\\\\\\\\\\\\"skipRows\\\\\\\\\\\\\\\": 0, \\\\\\\\\\\\\\\"skipRowsMode\\\\\\\\\\\\\\\": 0}, \\\\\\\\\\\\\\\"localData\\\\\\\\\\\\\\\": {}, \\\\\\\\\\\\\\\"isEnabled\\\\\\\\\\\\\\\": true, \\\\\\\\\\\\\\\"name\\\\\\\\\\\\\\\": null, \\\\\\\\\\\\\\\"annotation\\\\\\\\\\\\\\\": null}, {\\\\\\\\\\\\\\\"id\\\\\\\\\\\\\\\": \\\\\\\\\\\\\\\"efa258f3-54d9-44e6-ba92-5778db9a66cc\\\\\\\\\\\\\\\", \\\\\\\\\\\\\\\"type\\\\\\\\\\\\\\\": \\\\\\\\\\\\\\\"Microsoft.DPrep.DropColumnsBlock\\\\\\\\\\\\\\\", \\\\\\\\\\\\\\\"arguments\\\\\\\\\\\\\\\": {\\\\\\\\\\\\\\\"columns\\\\\\\\\\\\\\\": {\\\\\\\\\\\\\\\"type\\\\\\\\\\\\\\\": 0, \\\\\\\\\\\\\\\"details\\\\\\\\\\\\\\\": {\\\\\\\\\\\\\\\"selectedColumns\\\\\\\\\\\\\\\": [\\\\\\\\\\\\\\\"Path\\\\\\\\\\\\\\\", \\\\\\\\\\\\\\\"Column1\\\\\\\\\\\\\\\", \\\\\\\\\\\\\\\"AsOfDate\\\\\\\\\\\\\\\"]}}}, \\\\\\\\\\\\\\\"localData\\\\\\\\\\\\\\\": {}, \\\\\\\\\\\\\\\"isEnabled\\\\\\\\\\\\\\\": true, \\\\\\\\\\\\\\\"name\\\\\\\\\\\\\\\": null, \\\\\\\\\\\\\\\"annotation\\\\\\\\\\\\\\\": null}, {\\\\\\\\\\\\\\\"id\\\\\\\\\\\\\\\": \\\\\\\\\\\\\\\"e74b76a4-aa9a-467d-9bf2-e7b81a6f29a3\\\\\\\\\\\\\\\", \\\\\\\\\\\\\\\"type\\\\\\\\\\\\\\\": \\\\\\\\\\\\\\\"Microsoft.DPrep.SetColumnTypesBlock\\\\\\\\\\\\\\\", \\\\\\\\\\\\\\\"arguments\\\\\\\\\\\\\\\": {\\\\\\\\\\\\\\\"columnConversion\\\\\\\\\\\\\\\": [{\\\\\\\\\\\\\\\"column\\\\\\\\\\\\\\\": {\\\\\\\\\\\\\\\"type\\\\\\\\\\\\\\\": 2, \\\\\\\\\\\\\\\"details\\\\\\\\\\\\\\\": {\\\\\\\\\\\\\\\"selectedColumn\\\\\\\\\\\\\\\": \\\\\\\\\\\\\\\"Path\\\\\\\\\\\\\\\"}}, \\\\\\\\\\\\\\\"typeProperty\\\\\\\\\\\\\\\": 0}, {\\\\\\\\\\\\\\\"column\\\\\\\\\\\\\\\": {\\\\\\\\\\\\\\\"type\\\\\\\\\\\\\\\": 2, \\\\\\\\\\\\\\\"details\\\\\\\\\\\\\\\": {\\\\\\\\\\\\\\\"selectedColumn\\\\\\\\\\\\\\\": \\\\\\\\\\\\\\\"Column1\\\\\\\\\\\\\\\"}}, \\\\\\\\\\\\\\\"typeProperty\\\\\\\\\\\\\\\": 2}, {\\\\\\\\\\\\\\\"column\\\\\\\\\\\\\\\": {\\\\\\\\\\\\\\\"type\\\\\\\\\\\\\\\": 2, \\\\\\\\\\\\\\\"details\\\\\\\\\\\\\\\": {\\\\\\\\\\\\\\\"selectedColumn\\\\\\\\\\\\\\\": \\\\\\\\\\\\\\\"AsOfDate\\\\\\\\\\\\\\\"}}, \\\\\\\\\\\\\\\"typeArguments\\\\\\\\\\\\\\\": {\\\\\\\\\\\\\\\"dateTimeFormats\\\\\\\\\\\\\\\": [\\\\\\\\\\\\\\\"%m/%d/%Y\\\\\\\\\\\\\\\"]}, \\\\\\\\\\\\\\\"typeProperty\\\\\\\\\\\\\\\": 4}, {\\\\\\\\\\\\\\\"column\\\\\\\\\\\\\\\": {\\\\\\\\\\\\\\\"type\\\\\\\\\\\\\\\": 2, \\\\\\\\\\\\\\\"details\\\\\\\\\\\\\\\": {\\\\\\\\\\\\\\\"selectedColumn\\\\\\\\\\\\\\\": \\\\\\\\\\\\\\\"Target\\\\\\\\\\\\\\\"}}, \\\\\\\\\\\\\\\"typeProperty\\\\\\\\\\\\\\\": 2}, {\\\\\\\\\\\\\\\"column\\\\\\\\\\\\\\\": {\\\\\\\\\\\\\\\"type\\\\\\\\\\\\\\\": 2, \\\\\\\\\\\\\\\"details\\\\\\\\\\\\\\\": {\\\\\\\\\\\\\\\"selectedColumn\\\\\\\\\\\\\\\": \\\\\\\\\\\\\\\"EQTA\\\\\\\\\\\\\\\"}}, \\\\\\\\\\\\\\\"typeProperty\\\\\\\\\\\\\\\": 3}, {\\\\\\\\\\\\\\\"column\\\\\\\\\\\\\\\": {\\\\\\\\\\\\\\\"type\\\\\\\\\\\\\\\": 2, \\\\\\\\\\\\\\\"details\\\\\\\\\\\\\\\": {\\\\\\\\\\\\\\\"selectedColumn\\\\\\\\\\\\\\\": \\\\\\\\\\\\\\\"EQTL\\\\\\\\\\\\\\\"}}, \\\\\\\\\\\\\\\"typeProperty\\\\\\\\\\\\\\\": 3}, {\\\\\\\\\\\\\\\"column\\\\\\\\\\\\\\\": {\\\\\\\\\\\\\\\"type\\\\\\\\\\\\\\\": 2, \\\\\\\\\\\\\\\"details\\\\\\\\\\\\\\\": {\\\\\\\\\\\\\\\"selectedColumn\\\\\\\\\\\\\\\": \\\\\\\\\\\\\\\"LLRTA\\\\\\\\\\\\\\\"}}, \\\\\\\\\\\\\\\"typeProperty\\\\\\\\\\\\\\\": 3}, {\\\\\\\\\\\\\\\"column\\\\\\\\\\\\\\\": {\\\\\\\\\\\\\\\"type\\\\\\\\\\\\\\\": 2, \\\\\\\\\\\\\\\"details\\\\\\\\\\\\\\\": {\\\\\\\\\\\\\\\"selectedColumn\\\\\\\\\\\\\\\": \\\\\\\\\\\\\\\"LLRGL\\\\\\\\\\\\\\\"}}, \\\\\\\\\\\\\\\"typeProperty\\\\\\\\\\\\\\\": 3}, {\\\\\\\\\\\\\\\"column\\\\\\\\\\\\\\\": {\\\\\\\\\\\\\\\"type\\\\\\\\\\\\\\\": 2, \\\\\\\\\\\\\\\"details\\\\\\\\\\\\\\\": {\\\\\\\\\\\\\\\"selectedColumn\\\\\\\\\\\\\\\": \\\\\\\\\\\\\\\"OEXTA\\\\\\\\\\\\\\\"}}, \\\\\\\\\\\\\\\"typeProperty\\\\\\\\\\\\\\\": 3}, {\\\\\\\\\\\\\\\"column\\\\\\\\\\\\\\\": {\\\\\\\\\\\\\\\"type\\\\\\\\\\\\\\\": 2, \\\\\\\\\\\\\\\"details\\\\\\\\\\\\\\\": {\\\\\\\\\\\\\\\"selectedColumn\\\\\\\\\\\\\\\": \\\\\\\\\\\\\\\"INCEMP\\\\\\\\\\\\\\\"}}, \\\\\\\\\\\\\\\"typeProperty\\\\\\\\\\\\\\\": 3}, {\\\\\\\\\\\\\\\"column\\\\\\\\\\\\\\\": {\\\\\\\\\\\\\\\"type\\\\\\\\\\\\\\\": 2, \\\\\\\\\\\\\\\"details\\\\\\\\\\\\\\\": {\\\\\\\\\\\\\\\"selectedColumn\\\\\\\\\\\\\\\": \\\\\\\\\\\\\\\"ROA\\\\\\\\\\\\\\\"}}, \\\\\\\\\\\\\\\"typeProperty\\\\\\\\\\\\\\\": 3}, {\\\\\\\\\\\\\\\"column\\\\\\\\\\\\\\\": {\\\\\\\\\\\\\\\"type\\\\\\\\\\\\\\\": 2, \\\\\\\\\\\\\\\"details\\\\\\\\\\\\\\\": {\\\\\\\\\\\\\\\"selectedColumn\\\\\\\\\\\\\\\": \\\\\\\\\\\\\\\"ROE\\\\\\\\\\\\\\\"}}, \\\\\\\\\\\\\\\"typeProperty\\\\\\\\\\\\\\\": 3}, {\\\\\\\\\\\\\\\"column\\\\\\\\\\\\\\\": {\\\\\\\\\\\\\\\"type\\\\\\\\\\\\\\\": 2, \\\\\\\\\\\\\\\"details\\\\\\\\\\\\\\\": {\\\\\\\\\\\\\\\"selectedColumn\\\\\\\\\\\\\\\": \\\\\\\\\\\\\\\"TDTL\\\\\\\\\\\\\\\"}}, \\\\\\\\\\\\\\\"typeProperty\\\\\\\\\\\\\\\": 3}, {\\\\\\\\\\\\\\\"column\\\\\\\\\\\\\\\": {\\\\\\\\\\\\\\\"type\\\\\\\\\\\\\\\": 2, \\\\\\\\\\\\\\\"details\\\\\\\\\\\\\\\": {\\\\\\\\\\\\\\\"selectedColumn\\\\\\\\\\\\\\\": \\\\\\\\\\\\\\\"TDTA\\\\\\\\\\\\\\\"}}, \\\\\\\\\\\\\\\"typeProperty\\\\\\\\\\\\\\\": 3}, {\\\\\\\\\\\\\\\"column\\\\\\\\\\\\\\\": {\\\\\\\\\\\\\\\"type\\\\\\\\\\\\\\\": 2, \\\\\\\\\\\\\\\"details\\\\\\\\\\\\\\\": {\\\\\\\\\\\\\\\"selectedColumn\\\\\\\\\\\\\\\": \\\\\\\\\\\\\\\"TATA\\\\\\\\\\\\\\\"}}, \\\\\\\\\\\\\\\"typeProperty\\\\\\\\\\\\\\\": 3}]}, \\\\\\\\\\\\\\\"localData\\\\\\\\\\\\\\\": {}, \\\\\\\\\\\\\\\"isEnabled\\\\\\\\\\\\\\\": true, \\\\\\\\\\\\\\\"name\\\\\\\\\\\\\\\": null, \\\\\\\\\\\\\\\"annotation\\\\\\\\\\\\\\\": null}], \\\\\\\\\\\\\\\"inspectors\\\\\\\\\\\\\\\": [], \\\\\\\\\\\\\\\"meta\\\\\\\\\\\\\\\": {\\\\\\\\\\\\\\\"savedDatasetId\\\\\\\\\\\\\\\": \\\\\\\\\\\\\\\"a5a4d1ce-4a3c-4367-bab6-8df466a4af80\\\\\\\\\\\\\\\", \\\\\\\\\\\\\\\"datasetType\\\\\\\\\\\\\\\": \\\\\\\\\\\\\\\"tabular\\\\\\\\\\\\\\\", \\\\\\\\\\\\\\\"subscriptionId\\\\\\\\\\\\\\\": \\\\\\\\\\\\\\\"0c66ad45-500d-48af-80d3-0039ebf1975e\\\\\\\\\\\\\\\", \\\\\\\\\\\\\\\"workspaceId\\\\\\\\\\\\\\\": \\\\\\\\\\\\\\\"5f2d671b-df42-47ff-af2f-d74f27ad4dde\\\\\\\\\\\\\\\", \\\\\\\\\\\\\\\"workspaceLocation\\\\\\\\\\\\\\\": \\\\\\\\\\\\\\\"eastus\\\\\\\\\\\\\\\"}}\\\\\\\", \\\\\\\"activities\\\\\\\": 0}\", \"EnableSubsampling\": null, \"runTemplate\": \"AutoML\", \"azureml.runsource\": \"automl\", \"display_task_type\": \"classification\", \"dependencies_versions\": \"{\\\"azureml\\\": \\\"0.2.7\\\", \\\"azureml-widgets\\\": \\\"1.24.0\\\", \\\"azureml-train\\\": \\\"1.22.0\\\", \\\"azureml-train-restclients-hyperdrive\\\": \\\"1.22.0\\\", \\\"azureml-train-core\\\": \\\"1.22.0\\\", \\\"azureml-train-automl\\\": \\\"1.22.0\\\", \\\"azureml-train-automl-runtime\\\": \\\"1.22.0\\\", \\\"azureml-train-automl-client\\\": \\\"1.22.0.post1\\\", \\\"azureml-tensorboard\\\": \\\"1.22.0\\\", \\\"azureml-telemetry\\\": \\\"1.22.0\\\", \\\"azureml-sdk\\\": \\\"1.22.0\\\", \\\"azureml-samples\\\": \\\"0+unknown\\\", \\\"azureml-pipeline\\\": \\\"1.22.0\\\", \\\"azureml-pipeline-steps\\\": \\\"1.22.0\\\", \\\"azureml-pipeline-core\\\": \\\"1.22.0\\\", \\\"azureml-opendatasets\\\": \\\"1.22.0\\\", \\\"azureml-model-management-sdk\\\": \\\"1.0.1b6.post1\\\", \\\"azureml-mlflow\\\": \\\"1.22.0\\\", \\\"azureml-interpret\\\": \\\"1.22.0\\\", \\\"azureml-explain-model\\\": \\\"1.22.0\\\", \\\"azureml-defaults\\\": \\\"1.22.0\\\", \\\"azureml-dataset-runtime\\\": \\\"1.22.0\\\", \\\"azureml-dataprep\\\": \\\"2.9.1\\\", \\\"azureml-dataprep-rslex\\\": \\\"1.7.0\\\", \\\"azureml-dataprep-native\\\": \\\"29.0.0\\\", \\\"azureml-datadrift\\\": \\\"1.22.0\\\", \\\"azureml-core\\\": \\\"1.22.0\\\", \\\"azureml-contrib-services\\\": \\\"1.22.0\\\", \\\"azureml-contrib-server\\\": \\\"1.22.0\\\", \\\"azureml-contrib-reinforcementlearning\\\": \\\"1.22.0\\\", \\\"azureml-contrib-pipeline-steps\\\": \\\"1.22.0\\\", \\\"azureml-contrib-notebook\\\": \\\"1.22.0\\\", \\\"azureml-contrib-interpret\\\": \\\"1.22.0\\\", \\\"azureml-contrib-gbdt\\\": \\\"1.22.0\\\", \\\"azureml-contrib-fairness\\\": \\\"1.22.0\\\", \\\"azureml-contrib-dataset\\\": \\\"1.22.0\\\", \\\"azureml-cli-common\\\": \\\"1.22.0\\\", \\\"azureml-automl-runtime\\\": \\\"1.22.0\\\", \\\"azureml-automl-core\\\": \\\"1.22.0\\\", \\\"azureml-accel-models\\\": \\\"1.22.0\\\"}\", \"_aml_system_scenario_identification\": \"Remote.Parent\", \"ClientType\": \"SDK\", \"environment_cpu_name\": \"AzureML-AutoML\", \"environment_cpu_label\": \"prod\", \"environment_gpu_name\": \"AzureML-AutoML-GPU\", \"environment_gpu_label\": \"prod\", \"root_attribution\": \"automl\", \"attribution\": \"AutoML\", \"Orchestrator\": \"AutoML\", \"CancelUri\": \"https://eastus.experiments.azureml.net/jasmine/v1.0/subscriptions/0c66ad45-500d-48af-80d3-0039ebf1975e/resourceGroups/final-rgp/providers/Microsoft.MachineLearningServices/workspaces/final-ws/experimentids/b86bab09-1296-418d-b16b-860e8f8360ff/cancel/AutoML_644989e4-1844-40f1-8b40-53c568d3c068\", \"ClientSdkVersion\": \"1.24.0\", \"snapshotId\": \"00000000-0000-0000-0000-000000000000\", \"SetupRunId\": \"AutoML_644989e4-1844-40f1-8b40-53c568d3c068_setup\", \"SetupRunContainerId\": \"dcid.AutoML_644989e4-1844-40f1-8b40-53c568d3c068_setup\", \"FeaturizationRunJsonPath\": \"featurizer_container.json\", \"FeaturizationRunId\": \"AutoML_644989e4-1844-40f1-8b40-53c568d3c068_featurize\", \"ProblemInfoJsonString\": \"{\\\"dataset_num_categorical\\\": 0, \\\"is_sparse\\\": false, \\\"subsampling\\\": false, \\\"dataset_classes\\\": 2, \\\"dataset_features\\\": 11, \\\"dataset_samples\\\": 7020, \\\"single_frequency_class_detected\\\": false}\", \"ModelExplainRunId\": \"AutoML_644989e4-1844-40f1-8b40-53c568d3c068_ModelExplain\"}, \"tags\": {\"model_explain_run\": \"best_run\", \"_aml_system_azureml.automlComponent\": \"AutoML\", \"pipeline_id\": \"\", \"score\": \"\", \"predicted_cost\": \"\", \"fit_time\": \"\", \"training_percent\": \"\", \"iteration\": \"\", \"run_preprocessor\": \"\", \"run_algorithm\": \"\", \"dynamic_whitelisting_iterations\": \"<25>;<30>;<35>;\", \"automl_best_child_run_id\": \"AutoML_644989e4-1844-40f1-8b40-53c568d3c068_36\", \"model_explain_best_run_child_id\": \"AutoML_644989e4-1844-40f1-8b40-53c568d3c068_36\"}, \"end_time_utc\": \"2021-03-24T01:32:56.026721Z\", \"status\": \"Completed\", \"log_files\": {}, \"log_groups\": [], \"run_duration\": \"0:16:32\", \"run_number\": \"228\", \"run_queued_details\": {\"status\": \"Completed\", \"details\": null}}, \"child_runs\": [{\"run_id\": \"AutoML_644989e4-1844-40f1-8b40-53c568d3c068_0\", \"run_number\": 232, \"metric\": null, \"status\": \"Completed\", \"run_type\": \"azureml.scriptrun\", \"training_percent\": \"100\", \"start_time\": \"2021-03-24T01:20:02.118213Z\", \"end_time\": \"2021-03-24T01:21:08.042083Z\", \"created_time\": \"2021-03-24T01:19:51.820085Z\", \"created_time_dt\": \"2021-03-24T01:19:51.820085Z\", \"duration\": \"0:01:16\", \"iteration\": \"0\", \"goal\": \"norm_macro_recall_max\", \"run_name\": \"MaxAbsScaler, LightGBM\", \"run_properties\": \"copy=True\", \"primary_metric\": 0.56279309, \"best_metric\": 0.56279309}, {\"run_id\": \"AutoML_644989e4-1844-40f1-8b40-53c568d3c068_1\", \"run_number\": 233, \"metric\": null, \"status\": \"Completed\", \"run_type\": \"azureml.scriptrun\", \"training_percent\": \"100\", \"start_time\": \"2021-03-24T01:20:01.867401Z\", \"end_time\": \"2021-03-24T01:20:58.020021Z\", \"created_time\": \"2021-03-24T01:19:51.836335Z\", \"created_time_dt\": \"2021-03-24T01:19:51.836335Z\", \"duration\": \"0:01:06\", \"iteration\": \"1\", \"goal\": \"norm_macro_recall_max\", \"run_name\": \"MaxAbsScaler, XGBoostClassifier\", \"run_properties\": \"copy=True\", \"primary_metric\": 0.67745474, \"best_metric\": 0.67745474}, {\"run_id\": \"AutoML_644989e4-1844-40f1-8b40-53c568d3c068_2\", \"run_number\": 234, \"metric\": null, \"status\": \"Completed\", \"run_type\": \"azureml.scriptrun\", \"training_percent\": \"100\", \"start_time\": \"2021-03-24T01:20:05.179987Z\", \"end_time\": \"2021-03-24T01:21:10.259139Z\", \"created_time\": \"2021-03-24T01:19:51.849451Z\", \"created_time_dt\": \"2021-03-24T01:19:51.849451Z\", \"duration\": \"0:01:18\", \"iteration\": \"2\", \"goal\": \"norm_macro_recall_max\", \"run_name\": \"MinMaxScaler, RandomForest\", \"run_properties\": \"copy=True, feature_range=(0, 1\", \"primary_metric\": 0.92680739, \"best_metric\": 0.92680739}, {\"run_id\": \"AutoML_644989e4-1844-40f1-8b40-53c568d3c068_3\", \"run_number\": 235, \"metric\": null, \"status\": \"Completed\", \"run_type\": \"azureml.scriptrun\", \"training_percent\": \"100\", \"start_time\": \"2021-03-24T01:20:02.005505Z\", \"end_time\": \"2021-03-24T01:21:02.236428Z\", \"created_time\": \"2021-03-24T01:19:51.85829Z\", \"created_time_dt\": \"2021-03-24T01:19:51.85829Z\", \"duration\": \"0:01:10\", \"iteration\": \"3\", \"goal\": \"norm_macro_recall_max\", \"run_name\": \"MinMaxScaler, RandomForest\", \"run_properties\": \"copy=True, feature_range=(0, 1\", \"primary_metric\": 0.70050616, \"best_metric\": 0.92680739}, {\"run_id\": \"AutoML_644989e4-1844-40f1-8b40-53c568d3c068_4\", \"run_number\": 236, \"metric\": null, \"status\": \"Completed\", \"run_type\": \"azureml.scriptrun\", \"training_percent\": \"100\", \"start_time\": \"2021-03-24T01:21:14.114732Z\", \"end_time\": \"2021-03-24T01:22:20.611896Z\", \"created_time\": \"2021-03-24T01:21:02.750283Z\", \"created_time_dt\": \"2021-03-24T01:21:02.750283Z\", \"duration\": \"0:01:17\", \"iteration\": \"4\", \"goal\": \"norm_macro_recall_max\", \"run_name\": \"StandardScalerWrapper, RandomForest\", \"run_properties\": \"<azureml.automl.runtime.shared.model_wrappers.StandardScalerWrapper object at 0x7f1580528550\", \"primary_metric\": 0.92984305, \"best_metric\": 0.92984305}, {\"run_id\": \"AutoML_644989e4-1844-40f1-8b40-53c568d3c068_5\", \"run_number\": 237, \"metric\": null, \"status\": \"Completed\", \"run_type\": \"azureml.scriptrun\", \"training_percent\": \"100\", \"start_time\": \"2021-03-24T01:21:23.421428Z\", \"end_time\": \"2021-03-24T01:22:16.989397Z\", \"created_time\": \"2021-03-24T01:21:09.733583Z\", \"created_time_dt\": \"2021-03-24T01:21:09.733583Z\", \"duration\": \"0:01:07\", \"iteration\": \"5\", \"goal\": \"norm_macro_recall_max\", \"run_name\": \"StandardScalerWrapper, RandomForest\", \"run_properties\": \"<azureml.automl.runtime.shared.model_wrappers.StandardScalerWrapper object at 0x7fe37702ce80\", \"primary_metric\": 0.76384948, \"best_metric\": 0.92984305}, {\"run_id\": \"AutoML_644989e4-1844-40f1-8b40-53c568d3c068_6\", \"run_number\": 238, \"metric\": null, \"status\": \"Completed\", \"run_type\": \"azureml.scriptrun\", \"training_percent\": \"100\", \"start_time\": \"2021-03-24T01:21:25.528214Z\", \"end_time\": \"2021-03-24T01:22:20.624269Z\", \"created_time\": \"2021-03-24T01:21:16.924055Z\", \"created_time_dt\": \"2021-03-24T01:21:16.924055Z\", \"duration\": \"0:01:03\", \"iteration\": \"6\", \"goal\": \"norm_macro_recall_max\", \"run_name\": \"MinMaxScaler, ExtremeRandomTrees\", \"run_properties\": \"copy=True, feature_range=(0, 1\", \"primary_metric\": 0.81688671, \"best_metric\": 0.92984305}, {\"run_id\": \"AutoML_644989e4-1844-40f1-8b40-53c568d3c068_7\", \"run_number\": 239, \"metric\": null, \"status\": \"Completed\", \"run_type\": \"azureml.scriptrun\", \"training_percent\": \"100\", \"start_time\": \"2021-03-24T01:21:28.473728Z\", \"end_time\": \"2021-03-24T01:22:22.387414Z\", \"created_time\": \"2021-03-24T01:21:17.142403Z\", \"created_time_dt\": \"2021-03-24T01:21:17.142403Z\", \"duration\": \"0:01:05\", \"iteration\": \"7\", \"goal\": \"norm_macro_recall_max\", \"run_name\": \"MinMaxScaler, RandomForest\", \"run_properties\": \"copy=True, feature_range=(0, 1\", \"primary_metric\": 0.0, \"best_metric\": 0.92984305}, {\"run_id\": \"AutoML_644989e4-1844-40f1-8b40-53c568d3c068_8\", \"run_number\": 240, \"metric\": null, \"status\": \"Completed\", \"run_type\": \"azureml.scriptrun\", \"training_percent\": \"100\", \"start_time\": \"2021-03-24T01:22:34.792499Z\", \"end_time\": \"2021-03-24T01:23:28.945934Z\", \"created_time\": \"2021-03-24T01:22:21.834048Z\", \"created_time_dt\": \"2021-03-24T01:22:21.834048Z\", \"duration\": \"0:01:07\", \"iteration\": \"8\", \"goal\": \"norm_macro_recall_max\", \"run_name\": \"MinMaxScaler, ExtremeRandomTrees\", \"run_properties\": \"copy=True, feature_range=(0, 1\", \"primary_metric\": 0.0, \"best_metric\": 0.92984305}, {\"run_id\": \"AutoML_644989e4-1844-40f1-8b40-53c568d3c068_9\", \"run_number\": 241, \"metric\": null, \"status\": \"Completed\", \"run_type\": \"azureml.scriptrun\", \"training_percent\": \"100\", \"start_time\": \"2021-03-24T01:22:37.260984Z\", \"end_time\": \"2021-03-24T01:23:33.024409Z\", \"created_time\": \"2021-03-24T01:22:28.859089Z\", \"created_time_dt\": \"2021-03-24T01:22:28.859089Z\", \"duration\": \"0:01:04\", \"iteration\": \"9\", \"goal\": \"norm_macro_recall_max\", \"run_name\": \"RobustScaler, ExtremeRandomTrees\", \"run_properties\": \"copy=True, quantile_range=[10, 90], with_centering=False,\\n             with_scaling=False\", \"primary_metric\": 0.0, \"best_metric\": 0.92984305}, {\"run_id\": \"AutoML_644989e4-1844-40f1-8b40-53c568d3c068_11\", \"run_number\": 242, \"metric\": null, \"status\": \"Completed\", \"run_type\": \"azureml.scriptrun\", \"training_percent\": \"100\", \"start_time\": \"2021-03-24T01:22:40.943176Z\", \"end_time\": \"2021-03-24T01:23:34.28336Z\", \"created_time\": \"2021-03-24T01:22:29.072672Z\", \"created_time_dt\": \"2021-03-24T01:22:29.072672Z\", \"duration\": \"0:01:05\", \"iteration\": \"11\", \"goal\": \"norm_macro_recall_max\", \"run_name\": \"RobustScaler, ExtremeRandomTrees\", \"run_properties\": \"copy=True, quantile_range=[10, 90], with_centering=True,\\n             with_scaling=False\", \"primary_metric\": 0.0, \"best_metric\": 0.92984305}, {\"run_id\": \"AutoML_644989e4-1844-40f1-8b40-53c568d3c068_10\", \"run_number\": 243, \"metric\": null, \"status\": \"Completed\", \"run_type\": \"azureml.scriptrun\", \"training_percent\": \"100\", \"start_time\": \"2021-03-24T01:22:41.451601Z\", \"end_time\": \"2021-03-24T01:23:37.729423Z\", \"created_time\": \"2021-03-24T01:22:29.197967Z\", \"created_time_dt\": \"2021-03-24T01:22:29.197967Z\", \"duration\": \"0:01:08\", \"iteration\": \"10\", \"goal\": \"norm_macro_recall_max\", \"run_name\": \"MinMaxScaler, ExtremeRandomTrees\", \"run_properties\": \"copy=True, feature_range=(0, 1\", \"primary_metric\": 0.0, \"best_metric\": 0.92984305}, {\"run_id\": \"AutoML_644989e4-1844-40f1-8b40-53c568d3c068_12\", \"run_number\": 244, \"metric\": null, \"status\": \"Completed\", \"run_type\": \"azureml.scriptrun\", \"training_percent\": \"100\", \"start_time\": \"2021-03-24T01:23:45.334735Z\", \"end_time\": \"2021-03-24T01:24:39.606652Z\", \"created_time\": \"2021-03-24T01:23:33.498598Z\", \"created_time_dt\": \"2021-03-24T01:23:33.498598Z\", \"duration\": \"0:01:06\", \"iteration\": \"12\", \"goal\": \"norm_macro_recall_max\", \"run_name\": \"StandardScalerWrapper, ExtremeRandomTrees\", \"run_properties\": \"<azureml.automl.runtime.shared.model_wrappers.StandardScalerWrapper object at 0x7fcfe4e03f28\", \"primary_metric\": 0.84784865, \"best_metric\": 0.92984305}, {\"run_id\": \"AutoML_644989e4-1844-40f1-8b40-53c568d3c068_14\", \"run_number\": 245, \"metric\": null, \"status\": \"Completed\", \"run_type\": \"azureml.scriptrun\", \"training_percent\": \"100\", \"start_time\": \"2021-03-24T01:23:50.15189Z\", \"end_time\": \"2021-03-24T01:24:43.575215Z\", \"created_time\": \"2021-03-24T01:23:41.53887Z\", \"created_time_dt\": \"2021-03-24T01:23:41.53887Z\", \"duration\": \"0:01:02\", \"iteration\": \"14\", \"goal\": \"norm_macro_recall_max\", \"run_name\": \"RobustScaler, RandomForest\", \"run_properties\": \"copy=True, quantile_range=[10, 90], with_centering=True,\\n             with_scaling=False\", \"primary_metric\": 0.91013394, \"best_metric\": 0.92984305}, {\"run_id\": \"AutoML_644989e4-1844-40f1-8b40-53c568d3c068_13\", \"run_number\": 246, \"metric\": null, \"status\": \"Completed\", \"run_type\": \"azureml.scriptrun\", \"training_percent\": \"100\", \"start_time\": \"2021-03-24T01:23:50.890345Z\", \"end_time\": \"2021-03-24T01:24:44.914457Z\", \"created_time\": \"2021-03-24T01:23:41.96014Z\", \"created_time_dt\": \"2021-03-24T01:23:41.96014Z\", \"duration\": \"0:01:02\", \"iteration\": \"13\", \"goal\": \"norm_macro_recall_max\", \"run_name\": \"StandardScalerWrapper, SGD\", \"run_properties\": \"<azureml.automl.runtime.shared.model_wrappers.StandardScalerWrapper object at 0x7fc2b00696a0\", \"primary_metric\": 0.45546629, \"best_metric\": 0.92984305}, {\"run_id\": \"AutoML_644989e4-1844-40f1-8b40-53c568d3c068_15\", \"run_number\": 247, \"metric\": null, \"status\": \"Completed\", \"run_type\": \"azureml.scriptrun\", \"training_percent\": \"100\", \"start_time\": \"2021-03-24T01:24:09.704313Z\", \"end_time\": \"2021-03-24T01:25:34.448895Z\", \"created_time\": \"2021-03-24T01:23:52.069842Z\", \"created_time_dt\": \"2021-03-24T01:23:52.069842Z\", \"duration\": \"0:01:42\", \"iteration\": \"15\", \"goal\": \"norm_macro_recall_max\", \"run_name\": \"MinMaxScaler, ExtremeRandomTrees\", \"run_properties\": \"copy=True, feature_range=(0, 1\", \"primary_metric\": 0.0, \"best_metric\": 0.92984305}, {\"run_id\": \"AutoML_644989e4-1844-40f1-8b40-53c568d3c068_16\", \"run_number\": 248, \"metric\": null, \"status\": \"Completed\", \"run_type\": \"azureml.scriptrun\", \"training_percent\": \"100\", \"start_time\": \"2021-03-24T01:25:01.393836Z\", \"end_time\": \"2021-03-24T01:25:52.518975Z\", \"created_time\": \"2021-03-24T01:24:44.967269Z\", \"created_time_dt\": \"2021-03-24T01:24:44.967269Z\", \"duration\": \"0:01:07\", \"iteration\": \"16\", \"goal\": \"norm_macro_recall_max\", \"run_name\": \"StandardScalerWrapper, RandomForest\", \"run_properties\": \"<azureml.automl.runtime.shared.model_wrappers.StandardScalerWrapper object at 0x7fb61b6e74a8\", \"primary_metric\": 0.92121699, \"best_metric\": 0.92984305}, {\"run_id\": \"AutoML_644989e4-1844-40f1-8b40-53c568d3c068_17\", \"run_number\": 249, \"metric\": null, \"status\": \"Completed\", \"run_type\": \"azureml.scriptrun\", \"training_percent\": \"100\", \"start_time\": \"2021-03-24T01:25:09.704637Z\", \"end_time\": \"2021-03-24T01:25:56.305625Z\", \"created_time\": \"2021-03-24T01:24:55.167412Z\", \"created_time_dt\": \"2021-03-24T01:24:55.167412Z\", \"duration\": \"0:01:01\", \"iteration\": \"17\", \"goal\": \"norm_macro_recall_max\", \"run_name\": \"RobustScaler, ExtremeRandomTrees\", \"run_properties\": \"copy=True, quantile_range=[10, 90], with_centering=True,\\n             with_scaling=False\", \"primary_metric\": 0.0, \"best_metric\": 0.92984305}, {\"run_id\": \"AutoML_644989e4-1844-40f1-8b40-53c568d3c068_18\", \"run_number\": 250, \"metric\": null, \"status\": \"Completed\", \"run_type\": \"azureml.scriptrun\", \"training_percent\": \"100\", \"start_time\": \"2021-03-24T01:25:04.051432Z\", \"end_time\": \"2021-03-24T01:25:53.730881Z\", \"created_time\": \"2021-03-24T01:24:55.364748Z\", \"created_time_dt\": \"2021-03-24T01:24:55.364748Z\", \"duration\": \"0:00:58\", \"iteration\": \"18\", \"goal\": \"norm_macro_recall_max\", \"run_name\": \"RobustScaler, RandomForest\", \"run_properties\": \"copy=True, quantile_range=[25, 75], with_centering=True,\\n             with_scaling=False\", \"primary_metric\": 0.91489626, \"best_metric\": 0.92984305}, {\"run_id\": \"AutoML_644989e4-1844-40f1-8b40-53c568d3c068_19\", \"run_number\": 251, \"metric\": null, \"status\": \"Completed\", \"run_type\": \"azureml.scriptrun\", \"training_percent\": \"100\", \"start_time\": \"2021-03-24T01:25:55.019709Z\", \"end_time\": \"2021-03-24T01:26:44.842852Z\", \"created_time\": \"2021-03-24T01:25:39.537911Z\", \"created_time_dt\": \"2021-03-24T01:25:39.537911Z\", \"duration\": \"0:01:05\", \"iteration\": \"19\", \"goal\": \"norm_macro_recall_max\", \"run_name\": \"MinMaxScaler, ExtremeRandomTrees\", \"run_properties\": \"copy=True, feature_range=(0, 1\", \"primary_metric\": 0.85938721, \"best_metric\": 0.92984305}, {\"run_id\": \"AutoML_644989e4-1844-40f1-8b40-53c568d3c068_20\", \"run_number\": 252, \"metric\": null, \"status\": \"Completed\", \"run_type\": \"azureml.scriptrun\", \"training_percent\": \"100\", \"start_time\": \"2021-03-24T01:26:11.040211Z\", \"end_time\": \"2021-03-24T01:27:03.433884Z\", \"created_time\": \"2021-03-24T01:25:56.407633Z\", \"created_time_dt\": \"2021-03-24T01:25:56.407633Z\", \"duration\": \"0:01:07\", \"iteration\": \"20\", \"goal\": \"norm_macro_recall_max\", \"run_name\": \"MaxAbsScaler, ExtremeRandomTrees\", \"run_properties\": \"copy=True\", \"primary_metric\": 0.86302834, \"best_metric\": 0.92984305}, {\"run_id\": \"AutoML_644989e4-1844-40f1-8b40-53c568d3c068_21\", \"run_number\": 253, \"metric\": null, \"status\": \"Completed\", \"run_type\": \"azureml.scriptrun\", \"training_percent\": \"100\", \"start_time\": \"2021-03-24T01:26:16.919935Z\", \"end_time\": \"2021-03-24T01:27:13.639566Z\", \"created_time\": \"2021-03-24T01:26:03.218483Z\", \"created_time_dt\": \"2021-03-24T01:26:03.218483Z\", \"duration\": \"0:01:10\", \"iteration\": \"21\", \"goal\": \"norm_macro_recall_max\", \"run_name\": \"StandardScalerWrapper, XGBoostClassifier\", \"run_properties\": \"<azureml.automl.runtime.shared.model_wrappers.StandardScalerWrapper object at 0x7ff1441d42e8\", \"primary_metric\": 0.68680394, \"best_metric\": 0.92984305}, {\"run_id\": \"AutoML_644989e4-1844-40f1-8b40-53c568d3c068_22\", \"run_number\": 254, \"metric\": null, \"status\": \"Completed\", \"run_type\": \"azureml.scriptrun\", \"training_percent\": \"100\", \"start_time\": \"2021-03-24T01:26:15.637511Z\", \"end_time\": \"2021-03-24T01:27:10.126329Z\", \"created_time\": \"2021-03-24T01:26:03.542954Z\", \"created_time_dt\": \"2021-03-24T01:26:03.542954Z\", \"duration\": \"0:01:06\", \"iteration\": \"22\", \"goal\": \"norm_macro_recall_max\", \"run_name\": \"MaxAbsScaler, RandomForest\", \"run_properties\": \"copy=True\", \"primary_metric\": 0.31331398, \"best_metric\": 0.92984305}, {\"run_id\": \"AutoML_644989e4-1844-40f1-8b40-53c568d3c068_23\", \"run_number\": 255, \"metric\": null, \"status\": \"Completed\", \"run_type\": \"azureml.scriptrun\", \"training_percent\": \"100\", \"start_time\": \"2021-03-24T01:27:02.99152Z\", \"end_time\": \"2021-03-24T01:27:53.867309Z\", \"created_time\": \"2021-03-24T01:26:49.986384Z\", \"created_time_dt\": \"2021-03-24T01:26:49.986384Z\", \"duration\": \"0:01:03\", \"iteration\": \"23\", \"goal\": \"norm_macro_recall_max\", \"run_name\": \"MaxAbsScaler, ExtremeRandomTrees\", \"run_properties\": \"copy=True\", \"primary_metric\": 0.81495444, \"best_metric\": 0.92984305}, {\"run_id\": \"AutoML_644989e4-1844-40f1-8b40-53c568d3c068_24\", \"run_number\": 256, \"metric\": null, \"status\": \"Completed\", \"run_type\": \"azureml.scriptrun\", \"training_percent\": \"100\", \"start_time\": \"2021-03-24T01:27:22.468592Z\", \"end_time\": \"2021-03-24T01:28:21.334401Z\", \"created_time\": \"2021-03-24T01:27:09.211021Z\", \"created_time_dt\": \"2021-03-24T01:27:09.211021Z\", \"duration\": \"0:01:12\", \"iteration\": \"24\", \"goal\": \"norm_macro_recall_max\", \"run_name\": \"StandardScalerWrapper, ExtremeRandomTrees\", \"run_properties\": \"<azureml.automl.runtime.shared.model_wrappers.StandardScalerWrapper object at 0x7f4d96a24080\", \"primary_metric\": 0.85358699, \"best_metric\": 0.92984305}, {\"run_id\": \"AutoML_644989e4-1844-40f1-8b40-53c568d3c068_25\", \"run_number\": 257, \"metric\": null, \"status\": \"Completed\", \"run_type\": \"azureml.scriptrun\", \"training_percent\": \"100\", \"start_time\": \"2021-03-24T01:27:31.712834Z\", \"end_time\": \"2021-03-24T01:28:21.88381Z\", \"created_time\": \"2021-03-24T01:27:17.112474Z\", \"created_time_dt\": \"2021-03-24T01:27:17.112474Z\", \"duration\": \"0:01:04\", \"iteration\": \"25\", \"goal\": \"norm_macro_recall_max\", \"run_name\": \"MaxAbsScaler, RandomForest\", \"run_properties\": \"copy=True\", \"primary_metric\": 0.0, \"best_metric\": 0.92984305}, {\"run_id\": \"AutoML_644989e4-1844-40f1-8b40-53c568d3c068_26\", \"run_number\": 258, \"metric\": null, \"status\": \"Completed\", \"run_type\": \"azureml.scriptrun\", \"training_percent\": \"100\", \"start_time\": \"2021-03-24T01:27:29.055188Z\", \"end_time\": \"2021-03-24T01:28:28.161064Z\", \"created_time\": \"2021-03-24T01:27:17.254574Z\", \"created_time_dt\": \"2021-03-24T01:27:17.254574Z\", \"duration\": \"0:01:10\", \"iteration\": \"26\", \"goal\": \"norm_macro_recall_max\", \"run_name\": \"MinMaxScaler, GradientBoosting\", \"run_properties\": \"copy=True, feature_range=(0, 1\", \"primary_metric\": 0.65834348, \"best_metric\": 0.92984305}, {\"run_id\": \"AutoML_644989e4-1844-40f1-8b40-53c568d3c068_27\", \"run_number\": 259, \"metric\": null, \"status\": \"Completed\", \"run_type\": \"azureml.scriptrun\", \"training_percent\": \"100\", \"start_time\": \"2021-03-24T01:28:08.470902Z\", \"end_time\": \"2021-03-24T01:29:17.004919Z\", \"created_time\": \"2021-03-24T01:27:56.646212Z\", \"created_time_dt\": \"2021-03-24T01:27:56.646212Z\", \"duration\": \"0:01:20\", \"iteration\": \"27\", \"goal\": \"norm_macro_recall_max\", \"run_name\": \"StandardScalerWrapper, XGBoostClassifier\", \"run_properties\": \"<azureml.automl.runtime.shared.model_wrappers.StandardScalerWrapper object at 0x7f020c9df2e8\", \"primary_metric\": 0.63639186, \"best_metric\": 0.92984305}, {\"run_id\": \"AutoML_644989e4-1844-40f1-8b40-53c568d3c068_28\", \"run_number\": 260, \"metric\": null, \"status\": \"Completed\", \"run_type\": \"azureml.scriptrun\", \"training_percent\": \"100\", \"start_time\": \"2021-03-24T01:28:36.880582Z\", \"end_time\": \"2021-03-24T01:29:32.855653Z\", \"created_time\": \"2021-03-24T01:28:24.408458Z\", \"created_time_dt\": \"2021-03-24T01:28:24.408458Z\", \"duration\": \"0:01:08\", \"iteration\": \"28\", \"goal\": \"norm_macro_recall_max\", \"run_name\": \"StandardScalerWrapper, LightGBM\", \"run_properties\": \"<azureml.automl.runtime.shared.model_wrappers.StandardScalerWrapper object at 0x7f3814b84fd0\", \"primary_metric\": 0.73023899, \"best_metric\": 0.92984305}, {\"run_id\": \"AutoML_644989e4-1844-40f1-8b40-53c568d3c068_29\", \"run_number\": 261, \"metric\": null, \"status\": \"Completed\", \"run_type\": \"azureml.scriptrun\", \"training_percent\": \"100\", \"start_time\": \"2021-03-24T01:28:33.404789Z\", \"end_time\": \"2021-03-24T01:29:29.211774Z\", \"created_time\": \"2021-03-24T01:28:24.614349Z\", \"created_time_dt\": \"2021-03-24T01:28:24.614349Z\", \"duration\": \"0:01:04\", \"iteration\": \"29\", \"goal\": \"norm_macro_recall_max\", \"run_name\": \"StandardScalerWrapper, LightGBM\", \"run_properties\": \"<azureml.automl.runtime.shared.model_wrappers.StandardScalerWrapper object at 0x7f8728a2a278\", \"primary_metric\": 0.64836162, \"best_metric\": 0.92984305}, {\"run_id\": \"AutoML_644989e4-1844-40f1-8b40-53c568d3c068_30\", \"run_number\": 262, \"metric\": null, \"status\": \"Completed\", \"run_type\": \"azureml.scriptrun\", \"training_percent\": \"100\", \"start_time\": \"2021-03-24T01:28:41.800841Z\", \"end_time\": \"2021-03-24T01:30:20.749821Z\", \"created_time\": \"2021-03-24T01:28:31.433548Z\", \"created_time_dt\": \"2021-03-24T01:28:31.433548Z\", \"duration\": \"0:01:49\", \"iteration\": \"30\", \"goal\": \"norm_macro_recall_max\", \"run_name\": \"PCA, RandomForest\", \"run_properties\": \"copy=True, iterated_power='auto', n_components=0.95, random_state=None,\\n    svd_solver='auto', tol=0.0, whiten=True\", \"primary_metric\": 0.78966598, \"best_metric\": 0.92984305}, {\"run_id\": \"AutoML_644989e4-1844-40f1-8b40-53c568d3c068_31\", \"run_number\": 263, \"metric\": null, \"status\": \"Completed\", \"run_type\": \"azureml.scriptrun\", \"training_percent\": \"100\", \"start_time\": \"2021-03-24T01:29:30.395572Z\", \"end_time\": \"2021-03-24T01:30:23.626542Z\", \"created_time\": \"2021-03-24T01:29:20.080852Z\", \"created_time_dt\": \"2021-03-24T01:29:20.080852Z\", \"duration\": \"0:01:03\", \"iteration\": \"31\", \"goal\": \"norm_macro_recall_max\", \"run_name\": \"MinMaxScaler, LightGBM\", \"run_properties\": \"copy=True, feature_range=(0, 1\", \"primary_metric\": 0.66050346, \"best_metric\": 0.92984305}, {\"run_id\": \"AutoML_644989e4-1844-40f1-8b40-53c568d3c068_32\", \"run_number\": 264, \"metric\": null, \"status\": \"Completed\", \"run_type\": \"azureml.scriptrun\", \"training_percent\": \"100\", \"start_time\": \"2021-03-24T01:29:44.285477Z\", \"end_time\": \"2021-03-24T01:30:40.31603Z\", \"created_time\": \"2021-03-24T01:29:32.059609Z\", \"created_time_dt\": \"2021-03-24T01:29:32.059609Z\", \"duration\": \"0:01:08\", \"iteration\": \"32\", \"goal\": \"norm_macro_recall_max\", \"run_name\": \"MaxAbsScaler, ExtremeRandomTrees\", \"run_properties\": \"copy=True\", \"primary_metric\": 0.89058074, \"best_metric\": 0.92984305}, {\"run_id\": \"AutoML_644989e4-1844-40f1-8b40-53c568d3c068_33\", \"run_number\": 265, \"metric\": null, \"status\": \"Canceled\", \"run_type\": \"azureml.scriptrun\", \"training_percent\": \"100\", \"start_time\": \"2021-03-24T01:29:50.454255Z\", \"end_time\": \"2021-03-24T01:30:49.932712Z\", \"created_time\": \"2021-03-24T01:29:39.02795Z\", \"created_time_dt\": \"2021-03-24T01:29:39.02795Z\", \"duration\": \"0:01:10\", \"iteration\": \"33\", \"goal\": \"norm_macro_recall_max\", \"run_name\": \"MinMaxScaler, ExtremeRandomTrees\", \"run_properties\": \"copy=True, feature_range=(0, 1\", \"primary_metric\": 0.89932056, \"best_metric\": 0.92984305}, {\"run_id\": \"AutoML_644989e4-1844-40f1-8b40-53c568d3c068_34\", \"run_number\": 266, \"metric\": null, \"status\": \"Canceled\", \"run_type\": \"azureml.scriptrun\", \"training_percent\": \"100\", \"start_time\": \"2021-03-24T01:30:37.793556Z\", \"end_time\": \"2021-03-24T01:30:50.608206Z\", \"created_time\": \"2021-03-24T01:30:23.656195Z\", \"created_time_dt\": \"2021-03-24T01:30:23.656195Z\", \"duration\": \"0:00:26\", \"iteration\": \"34\", \"goal\": null, \"run_name\": \"Canceled\", \"run_properties\": null}, {\"run_id\": \"AutoML_644989e4-1844-40f1-8b40-53c568d3c068_35\", \"run_number\": 267, \"metric\": null, \"status\": \"Canceled\", \"run_type\": \"azureml.scriptrun\", \"training_percent\": \"100\", \"start_time\": \"2021-03-24T01:30:37.98539Z\", \"end_time\": \"2021-03-24T01:30:49.704599Z\", \"created_time\": \"2021-03-24T01:30:30.055112Z\", \"created_time_dt\": \"2021-03-24T01:30:30.055112Z\", \"duration\": \"0:00:19\", \"iteration\": \"35\", \"goal\": null, \"run_name\": \"Canceled\", \"run_properties\": null}, {\"run_id\": \"AutoML_644989e4-1844-40f1-8b40-53c568d3c068_36\", \"run_number\": 268, \"metric\": null, \"status\": \"Completed\", \"run_type\": \"azureml.scriptrun\", \"training_percent\": \"100\", \"start_time\": \"2021-03-24T01:30:59.962009Z\", \"end_time\": \"2021-03-24T01:32:20.26452Z\", \"created_time\": \"2021-03-24T01:30:51.836674Z\", \"created_time_dt\": \"2021-03-24T01:30:51.836674Z\", \"duration\": \"0:01:28\", \"iteration\": \"36\", \"goal\": \"norm_macro_recall_max\", \"run_name\": \"VotingEnsemble\", \"run_properties\": \"classification_labels=None,\\n                              estimators=[('4',\\n                                           Pipeline(memory=None,\\n                                                    steps=[('standardscalerwrapper',\\n                                                            <azureml.automl.runtime.shared.model_wrappers.StandardScalerWrapper object at 0x7fa76441d908>\", \"primary_metric\": 0.93972434, \"best_metric\": 0.93972434}, {\"run_id\": \"AutoML_644989e4-1844-40f1-8b40-53c568d3c068_37\", \"run_number\": 269, \"metric\": null, \"status\": \"Completed\", \"run_type\": \"azureml.scriptrun\", \"training_percent\": \"100\", \"start_time\": \"2021-03-24T01:31:04.713853Z\", \"end_time\": \"2021-03-24T01:32:25.145445Z\", \"created_time\": \"2021-03-24T01:30:52.049895Z\", \"created_time_dt\": \"2021-03-24T01:30:52.049895Z\", \"duration\": \"0:01:33\", \"iteration\": \"37\", \"goal\": \"norm_macro_recall_max\", \"run_name\": \"StackEnsemble\", \"run_properties\": \"base_learners=[('4',\\n                                        Pipeline(memory=None,\\n                                                 steps=[('standardscalerwrapper',\\n                                                         <azureml.automl.runtime.shared.model_wrappers.StandardScalerWrapper object at 0x7fab6563bf98>\", \"primary_metric\": 0.93113649, \"best_metric\": 0.93972434}], \"children_metrics\": {\"categories\": [0], \"series\": {\"matthews_correlation\": [{\"categories\": [\"0\", \"1\", \"2\", \"3\", \"4\", \"5\", \"6\", \"7\", \"8\", \"9\", \"10\", \"11\", \"12\", \"13\", \"14\", \"15\", \"16\", \"17\", \"18\", \"19\", \"20\", \"21\", \"22\", \"23\", \"24\", \"25\", \"26\", \"27\", \"28\", \"29\", \"30\", \"31\", \"32\", \"33\", \"36\", \"37\"], \"mode\": \"markers\", \"name\": \"matthews_correlation\", \"stepped\": false, \"type\": \"scatter\", \"data\": [0.6364068396939287, 0.7061688403944107, 0.6080847837469018, 0.6682939740874557, 0.5549905400853659, 0.7319263939118291, 0.42373124165223736, 0.0, 0.0, 0.0, 0.0, 0.0, 0.406103028096428, 0.5617904922625366, 0.5323076329716575, 0.0, 0.6175275380839648, 0.0, 0.4742329173538997, 0.37948425403638913, 0.38444375414567594, 0.7007101724058661, 0.4230632817547623, 0.34400063572366024, 0.4647463673866739, 0.0, 0.6737714416396093, 0.6805464505277873, 0.7565322849881899, 0.6922928132565241, 0.29456847941546, 0.6959145532436904, 0.4475063442338116, 0.44125788570383895, 0.6118911007971954, 0.5949604539231784]}, {\"categories\": [\"0\", \"1\", \"2\", \"3\", \"4\", \"5\", \"6\", \"7\", \"8\", \"9\", \"10\", \"11\", \"12\", \"13\", \"14\", \"15\", \"16\", \"17\", \"18\", \"19\", \"20\", \"21\", \"22\", \"23\", \"24\", \"25\", \"26\", \"27\", \"28\", \"29\", \"30\", \"31\", \"32\", \"33\", \"36\", \"37\"], \"mode\": \"lines\", \"name\": \"matthews_correlation_max\", \"stepped\": true, \"type\": \"scatter\", \"data\": [0.6364068396939287, 0.7061688403944107, 0.7061688403944107, 0.7061688403944107, 0.7061688403944107, 0.7319263939118291, 0.7319263939118291, 0.7319263939118291, 0.7319263939118291, 0.7319263939118291, 0.7319263939118291, 0.7319263939118291, 0.7319263939118291, 0.7319263939118291, 0.7319263939118291, 0.7319263939118291, 0.7319263939118291, 0.7319263939118291, 0.7319263939118291, 0.7319263939118291, 0.7319263939118291, 0.7319263939118291, 0.7319263939118291, 0.7319263939118291, 0.7319263939118291, 0.7319263939118291, 0.7319263939118291, 0.7319263939118291, 0.7565322849881899, 0.7565322849881899, 0.7565322849881899, 0.7565322849881899, 0.7565322849881899, 0.7565322849881899, 0.7565322849881899, 0.7565322849881899]}], \"weighted_accuracy\": [{\"categories\": [\"0\", \"1\", \"2\", \"3\", \"4\", \"5\", \"6\", \"7\", \"8\", \"9\", \"10\", \"11\", \"12\", \"13\", \"14\", \"15\", \"16\", \"17\", \"18\", \"19\", \"20\", \"21\", \"22\", \"23\", \"24\", \"25\", \"26\", \"27\", \"28\", \"29\", \"30\", \"31\", \"32\", \"33\", \"36\", \"37\"], \"mode\": \"markers\", \"name\": \"weighted_accuracy\", \"stepped\": false, \"type\": \"scatter\", \"data\": [0.9957616980235221, 0.9953755454730753, 0.9715285377613031, 0.9924770558702644, 0.9612201515491492, 0.9936707155153296, 0.9372314331829489, 0.9995957652550409, 0.9995957652550409, 0.9995957652550409, 0.9995957652550409, 0.9995957652550409, 0.9192855696445218, 0.99600683962014, 0.9579959057723092, 0.9995957652550409, 0.9734132559368103, 0.9995957652550409, 0.9398750291665229, 0.906735215451706, 0.9077752711223077, 0.9946495209141512, 0.9962523248466703, 0.8858766351408894, 0.9457682995790909, 0.6666066067625268, 0.99420571630709, 0.9953541835232943, 0.9959737591461039, 0.9955063615559339, 0.8472495163071709, 0.9953687866873383, 0.9347824582741162, 0.9307105301014205, 0.9710973859891826, 0.96891729872535]}, {\"categories\": [\"0\", \"1\", \"2\", \"3\", \"4\", \"5\", \"6\", \"7\", \"8\", \"9\", \"10\", \"11\", \"12\", \"13\", \"14\", \"15\", \"16\", \"17\", \"18\", \"19\", \"20\", \"21\", \"22\", \"23\", \"24\", \"25\", \"26\", \"27\", \"28\", \"29\", \"30\", \"31\", \"32\", \"33\", \"36\", \"37\"], \"mode\": \"lines\", \"name\": \"weighted_accuracy_max\", \"stepped\": true, \"type\": \"scatter\", \"data\": [0.9957616980235221, 0.9957616980235221, 0.9957616980235221, 0.9957616980235221, 0.9957616980235221, 0.9957616980235221, 0.9957616980235221, 0.9995957652550409, 0.9995957652550409, 0.9995957652550409, 0.9995957652550409, 0.9995957652550409, 0.9995957652550409, 0.9995957652550409, 0.9995957652550409, 0.9995957652550409, 0.9995957652550409, 0.9995957652550409, 0.9995957652550409, 0.9995957652550409, 0.9995957652550409, 0.9995957652550409, 0.9995957652550409, 0.9995957652550409, 0.9995957652550409, 0.9995957652550409, 0.9995957652550409, 0.9995957652550409, 0.9995957652550409, 0.9995957652550409, 0.9995957652550409, 0.9995957652550409, 0.9995957652550409, 0.9995957652550409, 0.9995957652550409, 0.9995957652550409]}], \"recall_score_micro\": [{\"categories\": [\"0\", \"1\", \"2\", \"3\", \"4\", \"5\", \"6\", \"7\", \"8\", \"9\", \"10\", \"11\", \"12\", \"13\", \"14\", \"15\", \"16\", \"17\", \"18\", \"19\", \"20\", \"21\", \"22\", \"23\", \"24\", \"25\", \"26\", \"27\", \"28\", \"29\", \"30\", \"31\", \"32\", \"33\", \"36\", \"37\"], \"mode\": \"markers\", \"name\": \"recall_score_micro\", \"stepped\": false, \"type\": \"scatter\", \"data\": [0.9876068376068377, 0.9894586894586895, 0.9712250712250712, 0.987037037037037, 0.9613960113960114, 0.9896011396011396, 0.9361823361823362, 0.9804843304843304, 0.9804843304843304, 0.9804843304843304, 0.9804843304843304, 0.9804843304843304, 0.9193732193732194, 0.9857549857549858, 0.957977207977208, 0.9804843304843304, 0.9729344729344729, 0.9804843304843304, 0.9405982905982907, 0.9076923076923077, 0.9086894586894587, 0.9888888888888889, 0.9836182336182336, 0.8867521367521368, 0.9450142450142449, 0.661965811965812, 0.9880341880341881, 0.9886039886039887, 0.9910256410256411, 0.9890313390313391, 0.849002849002849, 0.9891737891737892, 0.9351851851851851, 0.9314814814814815, 0.971082621082621, 0.9688034188034188]}, {\"categories\": [\"0\", \"1\", \"2\", \"3\", \"4\", \"5\", \"6\", \"7\", \"8\", \"9\", \"10\", \"11\", \"12\", \"13\", \"14\", \"15\", \"16\", \"17\", \"18\", \"19\", \"20\", \"21\", \"22\", \"23\", \"24\", \"25\", \"26\", \"27\", \"28\", \"29\", \"30\", \"31\", \"32\", \"33\", \"36\", \"37\"], \"mode\": \"lines\", \"name\": \"recall_score_micro_max\", \"stepped\": true, \"type\": \"scatter\", \"data\": [0.9876068376068377, 0.9894586894586895, 0.9894586894586895, 0.9894586894586895, 0.9894586894586895, 0.9896011396011396, 0.9896011396011396, 0.9896011396011396, 0.9896011396011396, 0.9896011396011396, 0.9896011396011396, 0.9896011396011396, 0.9896011396011396, 0.9896011396011396, 0.9896011396011396, 0.9896011396011396, 0.9896011396011396, 0.9896011396011396, 0.9896011396011396, 0.9896011396011396, 0.9896011396011396, 0.9896011396011396, 0.9896011396011396, 0.9896011396011396, 0.9896011396011396, 0.9896011396011396, 0.9896011396011396, 0.9896011396011396, 0.9910256410256411, 0.9910256410256411, 0.9910256410256411, 0.9910256410256411, 0.9910256410256411, 0.9910256410256411, 0.9910256410256411, 0.9910256410256411]}], \"average_precision_score_weighted\": [{\"categories\": [\"0\", \"1\", \"2\", \"3\", \"4\", \"5\", \"6\", \"7\", \"8\", \"9\", \"10\", \"11\", \"12\", \"13\", \"14\", \"15\", \"16\", \"17\", \"18\", \"19\", \"20\", \"21\", \"22\", \"23\", \"24\", \"25\", \"26\", \"27\", \"28\", \"29\", \"30\", \"31\", \"32\", \"33\", \"36\", \"37\"], \"mode\": \"markers\", \"name\": \"average_precision_score_weighted\", \"stepped\": false, \"type\": \"scatter\", \"data\": [0.9947754642538372, 0.9957383385214261, 0.9916879572000341, 0.991943089567011, 0.988882235648718, 0.9948079850165602, 0.987042761838861, 0.9872023916726865, 0.9898572093861437, 0.9910192422646529, 0.9879360238282416, 0.9887011418959445, 0.9887609262109175, 0.9939856711877297, 0.9902370951164331, 0.9885407578179845, 0.9897990881468995, 0.9819093329311414, 0.9878957504787205, 0.9875640583264156, 0.9885191418507867, 0.9938470024190753, 0.9924311280197963, 0.9874648994736148, 0.9900163541425061, 0.9617450751211435, 0.9947967153336799, 0.9946127684808116, 0.9960751124968622, 0.9957866191799902, 0.9807596452604161, 0.9950518270095587, 0.9905481373885253, 0.9900306973216658, 0.9931155822613803, 0.9935160707915344]}, {\"categories\": [\"0\", \"1\", \"2\", \"3\", \"4\", \"5\", \"6\", \"7\", \"8\", \"9\", \"10\", \"11\", \"12\", \"13\", \"14\", \"15\", \"16\", \"17\", \"18\", \"19\", \"20\", \"21\", \"22\", \"23\", \"24\", \"25\", \"26\", \"27\", \"28\", \"29\", \"30\", \"31\", \"32\", \"33\", \"36\", \"37\"], \"mode\": \"lines\", \"name\": \"average_precision_score_weighted_max\", \"stepped\": true, \"type\": \"scatter\", \"data\": [0.9947754642538372, 0.9957383385214261, 0.9957383385214261, 0.9957383385214261, 0.9957383385214261, 0.9957383385214261, 0.9957383385214261, 0.9957383385214261, 0.9957383385214261, 0.9957383385214261, 0.9957383385214261, 0.9957383385214261, 0.9957383385214261, 0.9957383385214261, 0.9957383385214261, 0.9957383385214261, 0.9957383385214261, 0.9957383385214261, 0.9957383385214261, 0.9957383385214261, 0.9957383385214261, 0.9957383385214261, 0.9957383385214261, 0.9957383385214261, 0.9957383385214261, 0.9957383385214261, 0.9957383385214261, 0.9957383385214261, 0.9960751124968622, 0.9960751124968622, 0.9960751124968622, 0.9960751124968622, 0.9960751124968622, 0.9960751124968622, 0.9960751124968622, 0.9960751124968622]}], \"f1_score_micro\": [{\"categories\": [\"0\", \"1\", \"2\", \"3\", \"4\", \"5\", \"6\", \"7\", \"8\", \"9\", \"10\", \"11\", \"12\", \"13\", \"14\", \"15\", \"16\", \"17\", \"18\", \"19\", \"20\", \"21\", \"22\", \"23\", \"24\", \"25\", \"26\", \"27\", \"28\", \"29\", \"30\", \"31\", \"32\", \"33\", \"36\", \"37\"], \"mode\": \"markers\", \"name\": \"f1_score_micro\", \"stepped\": false, \"type\": \"scatter\", \"data\": [0.9876068376068377, 0.9894586894586895, 0.9712250712250712, 0.987037037037037, 0.9613960113960114, 0.9896011396011396, 0.9361823361823362, 0.9804843304843304, 0.9804843304843304, 0.9804843304843304, 0.9804843304843304, 0.9804843304843304, 0.9193732193732194, 0.9857549857549858, 0.9579772079772079, 0.9804843304843304, 0.9729344729344729, 0.9804843304843304, 0.9405982905982907, 0.9076923076923077, 0.9086894586894587, 0.9888888888888889, 0.9836182336182336, 0.8867521367521368, 0.9450142450142449, 0.661965811965812, 0.9880341880341881, 0.9886039886039887, 0.9910256410256411, 0.9890313390313391, 0.849002849002849, 0.9891737891737892, 0.9351851851851851, 0.9314814814814815, 0.971082621082621, 0.9688034188034188]}, {\"categories\": [\"0\", \"1\", \"2\", \"3\", \"4\", \"5\", \"6\", \"7\", \"8\", \"9\", \"10\", \"11\", \"12\", \"13\", \"14\", \"15\", \"16\", \"17\", \"18\", \"19\", \"20\", \"21\", \"22\", \"23\", \"24\", \"25\", \"26\", \"27\", \"28\", \"29\", \"30\", \"31\", \"32\", \"33\", \"36\", \"37\"], \"mode\": \"lines\", \"name\": \"f1_score_micro_max\", \"stepped\": true, \"type\": \"scatter\", \"data\": [0.9876068376068377, 0.9894586894586895, 0.9894586894586895, 0.9894586894586895, 0.9894586894586895, 0.9896011396011396, 0.9896011396011396, 0.9896011396011396, 0.9896011396011396, 0.9896011396011396, 0.9896011396011396, 0.9896011396011396, 0.9896011396011396, 0.9896011396011396, 0.9896011396011396, 0.9896011396011396, 0.9896011396011396, 0.9896011396011396, 0.9896011396011396, 0.9896011396011396, 0.9896011396011396, 0.9896011396011396, 0.9896011396011396, 0.9896011396011396, 0.9896011396011396, 0.9896011396011396, 0.9896011396011396, 0.9896011396011396, 0.9910256410256411, 0.9910256410256411, 0.9910256410256411, 0.9910256410256411, 0.9910256410256411, 0.9910256410256411, 0.9910256410256411, 0.9910256410256411]}], \"AUC_macro\": [{\"categories\": [\"0\", \"1\", \"2\", \"3\", \"4\", \"5\", \"6\", \"7\", \"8\", \"9\", \"10\", \"11\", \"12\", \"13\", \"14\", \"15\", \"16\", \"17\", \"18\", \"19\", \"20\", \"21\", \"22\", \"23\", \"24\", \"25\", \"26\", \"27\", \"28\", \"29\", \"30\", \"31\", \"32\", \"33\", \"36\", \"37\"], \"mode\": \"markers\", \"name\": \"AUC_macro\", \"stepped\": false, \"type\": \"scatter\", \"data\": [0.9823685632237739, 0.9860589599625071, 0.9810965865605309, 0.9821248414234289, 0.9771743516698382, 0.9847752941354114, 0.9628452525151886, 0.9727647044351718, 0.9766312567779813, 0.9787949807449235, 0.9625477447160905, 0.971880117260478, 0.9630032931322793, 0.9883465983627362, 0.9805339913425005, 0.9710327806733288, 0.9792066008625181, 0.8651456334906876, 0.9738218091552585, 0.9649614659223599, 0.967237168743812, 0.9752522564584174, 0.9839790116780031, 0.9505746200268477, 0.9786088818906643, 0.5, 0.9860134307875242, 0.9831873974767728, 0.9861202461312254, 0.9871027843407484, 0.9235986389217837, 0.9833755804043062, 0.9724834317732151, 0.9717986563459603, 0.9828267782367437, 0.9834831090796045]}, {\"categories\": [\"0\", \"1\", \"2\", \"3\", \"4\", \"5\", \"6\", \"7\", \"8\", \"9\", \"10\", \"11\", \"12\", \"13\", \"14\", \"15\", \"16\", \"17\", \"18\", \"19\", \"20\", \"21\", \"22\", \"23\", \"24\", \"25\", \"26\", \"27\", \"28\", \"29\", \"30\", \"31\", \"32\", \"33\", \"36\", \"37\"], \"mode\": \"lines\", \"name\": \"AUC_macro_max\", \"stepped\": true, \"type\": \"scatter\", \"data\": [0.9823685632237739, 0.9860589599625071, 0.9860589599625071, 0.9860589599625071, 0.9860589599625071, 0.9860589599625071, 0.9860589599625071, 0.9860589599625071, 0.9860589599625071, 0.9860589599625071, 0.9860589599625071, 0.9860589599625071, 0.9860589599625071, 0.9883465983627362, 0.9883465983627362, 0.9883465983627362, 0.9883465983627362, 0.9883465983627362, 0.9883465983627362, 0.9883465983627362, 0.9883465983627362, 0.9883465983627362, 0.9883465983627362, 0.9883465983627362, 0.9883465983627362, 0.9883465983627362, 0.9883465983627362, 0.9883465983627362, 0.9883465983627362, 0.9883465983627362, 0.9883465983627362, 0.9883465983627362, 0.9883465983627362, 0.9883465983627362, 0.9883465983627362, 0.9883465983627362]}], \"precision_score_weighted\": [{\"categories\": [\"0\", \"1\", \"2\", \"3\", \"4\", \"5\", \"6\", \"7\", \"8\", \"9\", \"10\", \"11\", \"12\", \"13\", \"14\", \"15\", \"16\", \"17\", \"18\", \"19\", \"20\", \"21\", \"22\", \"23\", \"24\", \"25\", \"26\", \"27\", \"28\", \"29\", \"30\", \"31\", \"32\", \"33\", \"36\", \"37\"], \"mode\": \"markers\", \"name\": \"precision_score_weighted\", \"stepped\": false, \"type\": \"scatter\", \"data\": [0.9865463323634928, 0.9891670454450546, 0.9876472973957293, 0.9875684618572292, 0.9865450099483083, 0.9901452716599287, 0.9825943208955055, 0.9613568680449021, 0.9613568680449021, 0.9613568680449021, 0.9613568680449021, 0.9613568680449021, 0.983022105059761, 0.9839120194831725, 0.9857152492803852, 0.9613568680449021, 0.9878060034552577, 0.9613568680449021, 0.9849884666965257, 0.982886459904304, 0.9830059289780976, 0.9887829123675903, 0.9805977302096984, 0.9816728452829772, 0.9835066885828768, 0.6428383495263835, 0.9877924235928708, 0.9880077872086157, 0.9909576885821135, 0.9885096106916936, 0.9814265503638602, 0.9887219889209221, 0.9840869630437936, 0.9841840686549483, 0.9879011609189913, 0.9874119695896965]}, {\"categories\": [\"0\", \"1\", \"2\", \"3\", \"4\", \"5\", \"6\", \"7\", \"8\", \"9\", \"10\", \"11\", \"12\", \"13\", \"14\", \"15\", \"16\", \"17\", \"18\", \"19\", \"20\", \"21\", \"22\", \"23\", \"24\", \"25\", \"26\", \"27\", \"28\", \"29\", \"30\", \"31\", \"32\", \"33\", \"36\", \"37\"], \"mode\": \"lines\", \"name\": \"precision_score_weighted_max\", \"stepped\": true, \"type\": \"scatter\", \"data\": [0.9865463323634928, 0.9891670454450546, 0.9891670454450546, 0.9891670454450546, 0.9891670454450546, 0.9901452716599287, 0.9901452716599287, 0.9901452716599287, 0.9901452716599287, 0.9901452716599287, 0.9901452716599287, 0.9901452716599287, 0.9901452716599287, 0.9901452716599287, 0.9901452716599287, 0.9901452716599287, 0.9901452716599287, 0.9901452716599287, 0.9901452716599287, 0.9901452716599287, 0.9901452716599287, 0.9901452716599287, 0.9901452716599287, 0.9901452716599287, 0.9901452716599287, 0.9901452716599287, 0.9901452716599287, 0.9901452716599287, 0.9909576885821135, 0.9909576885821135, 0.9909576885821135, 0.9909576885821135, 0.9909576885821135, 0.9909576885821135, 0.9909576885821135, 0.9909576885821135]}], \"recall_score_macro\": [{\"categories\": [\"0\", \"1\", \"2\", \"3\", \"4\", \"5\", \"6\", \"7\", \"8\", \"9\", \"10\", \"11\", \"12\", \"13\", \"14\", \"15\", \"16\", \"17\", \"18\", \"19\", \"20\", \"21\", \"22\", \"23\", \"24\", \"25\", \"26\", \"27\", \"28\", \"29\", \"30\", \"31\", \"32\", \"33\", \"36\", \"37\"], \"mode\": \"markers\", \"name\": \"recall_score_macro\", \"stepped\": false, \"type\": \"scatter\", \"data\": [0.7813965464752597, 0.8387273709033485, 0.9634036967361018, 0.8502530820632437, 0.9649215237051812, 0.8819247408076599, 0.9084433549549761, 0.5, 0.5, 0.5, 0.5, 0.5, 0.923924322980343, 0.7277331433627682, 0.9550669710398342, 0.5, 0.9606084943882728, 0.5, 0.9574481303751741, 0.9296936061609474, 0.9315141714597068, 0.8434019714549122, 0.6566569877536196, 0.9074772199901499, 0.9267934950383351, 0.5, 0.8291717391564819, 0.8181959291516057, 0.865119493118228, 0.8241808080095211, 0.8948329877316056, 0.8302517281564926, 0.9452903694969729, 0.9496602792719656, 0.9698621683724485, 0.9655682465387624]}, {\"categories\": [\"0\", \"1\", \"2\", \"3\", \"4\", \"5\", \"6\", \"7\", \"8\", \"9\", \"10\", \"11\", \"12\", \"13\", \"14\", \"15\", \"16\", \"17\", \"18\", \"19\", \"20\", \"21\", \"22\", \"23\", \"24\", \"25\", \"26\", \"27\", \"28\", \"29\", \"30\", \"31\", \"32\", \"33\", \"36\", \"37\"], \"mode\": \"lines\", \"name\": \"recall_score_macro_max\", \"stepped\": true, \"type\": \"scatter\", \"data\": [0.7813965464752597, 0.8387273709033485, 0.9634036967361018, 0.9634036967361018, 0.9649215237051812, 0.9649215237051812, 0.9649215237051812, 0.9649215237051812, 0.9649215237051812, 0.9649215237051812, 0.9649215237051812, 0.9649215237051812, 0.9649215237051812, 0.9649215237051812, 0.9649215237051812, 0.9649215237051812, 0.9649215237051812, 0.9649215237051812, 0.9649215237051812, 0.9649215237051812, 0.9649215237051812, 0.9649215237051812, 0.9649215237051812, 0.9649215237051812, 0.9649215237051812, 0.9649215237051812, 0.9649215237051812, 0.9649215237051812, 0.9649215237051812, 0.9649215237051812, 0.9649215237051812, 0.9649215237051812, 0.9649215237051812, 0.9649215237051812, 0.9698621683724485, 0.9698621683724485]}], \"norm_macro_recall\": [{\"categories\": [\"0\", \"1\", \"2\", \"3\", \"4\", \"5\", \"6\", \"7\", \"8\", \"9\", \"10\", \"11\", \"12\", \"13\", \"14\", \"15\", \"16\", \"17\", \"18\", \"19\", \"20\", \"21\", \"22\", \"23\", \"24\", \"25\", \"26\", \"27\", \"28\", \"29\", \"30\", \"31\", \"32\", \"33\", \"36\", \"37\"], \"mode\": \"markers\", \"name\": \"norm_macro_recall\", \"stepped\": false, \"type\": \"scatter\", \"data\": [0.5627930929505192, 0.6774547418066968, 0.9268073934722035, 0.7005061641264875, 0.9298430474103623, 0.7638494816153196, 0.8168867099099519, 0.0, 0.0, 0.0, 0.0, 0.0, 0.8478486459606863, 0.4554662867255366, 0.9101339420796685, 0.0, 0.9212169887765457, 0.0, 0.9148962607503482, 0.8593872123218947, 0.8630283429194138, 0.6868039429098246, 0.3133139755072392, 0.8149544399802998, 0.85358699007667, 0.0, 0.6583434783129638, 0.6363918583032112, 0.730238986236456, 0.6483616160190421, 0.7896659754632113, 0.6605034563129855, 0.8905807389939459, 0.8993205585439309, 0.9397243367448972, 0.9311364930775249]}, {\"categories\": [\"0\", \"1\", \"2\", \"3\", \"4\", \"5\", \"6\", \"7\", \"8\", \"9\", \"10\", \"11\", \"12\", \"13\", \"14\", \"15\", \"16\", \"17\", \"18\", \"19\", \"20\", \"21\", \"22\", \"23\", \"24\", \"25\", \"26\", \"27\", \"28\", \"29\", \"30\", \"31\", \"32\", \"33\", \"36\", \"37\"], \"mode\": \"lines\", \"name\": \"norm_macro_recall_max\", \"stepped\": true, \"type\": \"scatter\", \"data\": [0.5627930929505192, 0.6774547418066968, 0.9268073934722035, 0.9268073934722035, 0.9298430474103623, 0.9298430474103623, 0.9298430474103623, 0.9298430474103623, 0.9298430474103623, 0.9298430474103623, 0.9298430474103623, 0.9298430474103623, 0.9298430474103623, 0.9298430474103623, 0.9298430474103623, 0.9298430474103623, 0.9298430474103623, 0.9298430474103623, 0.9298430474103623, 0.9298430474103623, 0.9298430474103623, 0.9298430474103623, 0.9298430474103623, 0.9298430474103623, 0.9298430474103623, 0.9298430474103623, 0.9298430474103623, 0.9298430474103623, 0.9298430474103623, 0.9298430474103623, 0.9298430474103623, 0.9298430474103623, 0.9298430474103623, 0.9298430474103623, 0.9397243367448972, 0.9397243367448972]}], \"AUC_weighted\": [{\"categories\": [\"0\", \"1\", \"2\", \"3\", \"4\", \"5\", \"6\", \"7\", \"8\", \"9\", \"10\", \"11\", \"12\", \"13\", \"14\", \"15\", \"16\", \"17\", \"18\", \"19\", \"20\", \"21\", \"22\", \"23\", \"24\", \"25\", \"26\", \"27\", \"28\", \"29\", \"30\", \"31\", \"32\", \"33\", \"36\", \"37\"], \"mode\": \"markers\", \"name\": \"AUC_weighted\", \"stepped\": false, \"type\": \"scatter\", \"data\": [0.9823685632237739, 0.986058959962507, 0.9810965865605309, 0.9821248414234289, 0.9771743516698382, 0.9847752941354114, 0.9628452525151885, 0.9727647044351718, 0.9766312567779813, 0.9787949807449235, 0.9625477447160904, 0.971880117260478, 0.9630032931322794, 0.9883465983627363, 0.9805339913425005, 0.9710327806733288, 0.9792066008625181, 0.8651456334906875, 0.9738218091552585, 0.9649614659223597, 0.9672371687438122, 0.9752522564584174, 0.9839790116780031, 0.9505746200268477, 0.9786088818906643, 0.5, 0.9860200600494727, 0.9831873974767728, 0.9861202461312254, 0.9871027843407484, 0.9235986389217841, 0.9833755804043064, 0.9724834317732151, 0.9717986563459601, 0.982826778236744, 0.9834831090796046]}, {\"categories\": [\"0\", \"1\", \"2\", \"3\", \"4\", \"5\", \"6\", \"7\", \"8\", \"9\", \"10\", \"11\", \"12\", \"13\", \"14\", \"15\", \"16\", \"17\", \"18\", \"19\", \"20\", \"21\", \"22\", \"23\", \"24\", \"25\", \"26\", \"27\", \"28\", \"29\", \"30\", \"31\", \"32\", \"33\", \"36\", \"37\"], \"mode\": \"lines\", \"name\": \"AUC_weighted_max\", \"stepped\": true, \"type\": \"scatter\", \"data\": [0.9823685632237739, 0.986058959962507, 0.986058959962507, 0.986058959962507, 0.986058959962507, 0.986058959962507, 0.986058959962507, 0.986058959962507, 0.986058959962507, 0.986058959962507, 0.986058959962507, 0.986058959962507, 0.986058959962507, 0.9883465983627363, 0.9883465983627363, 0.9883465983627363, 0.9883465983627363, 0.9883465983627363, 0.9883465983627363, 0.9883465983627363, 0.9883465983627363, 0.9883465983627363, 0.9883465983627363, 0.9883465983627363, 0.9883465983627363, 0.9883465983627363, 0.9883465983627363, 0.9883465983627363, 0.9883465983627363, 0.9883465983627363, 0.9883465983627363, 0.9883465983627363, 0.9883465983627363, 0.9883465983627363, 0.9883465983627363, 0.9883465983627363]}], \"recall_score_weighted\": [{\"categories\": [\"0\", \"1\", \"2\", \"3\", \"4\", \"5\", \"6\", \"7\", \"8\", \"9\", \"10\", \"11\", \"12\", \"13\", \"14\", \"15\", \"16\", \"17\", \"18\", \"19\", \"20\", \"21\", \"22\", \"23\", \"24\", \"25\", \"26\", \"27\", \"28\", \"29\", \"30\", \"31\", \"32\", \"33\", \"36\", \"37\"], \"mode\": \"markers\", \"name\": \"recall_score_weighted\", \"stepped\": false, \"type\": \"scatter\", \"data\": [0.9876068376068377, 0.9894586894586895, 0.9712250712250712, 0.987037037037037, 0.9613960113960114, 0.9896011396011396, 0.9361823361823362, 0.9804843304843304, 0.9804843304843304, 0.9804843304843304, 0.9804843304843304, 0.9804843304843304, 0.9193732193732194, 0.9857549857549858, 0.957977207977208, 0.9804843304843304, 0.9729344729344729, 0.9804843304843304, 0.9405982905982907, 0.9076923076923077, 0.9086894586894587, 0.9888888888888889, 0.9836182336182336, 0.8867521367521368, 0.9450142450142449, 0.661965811965812, 0.9880341880341881, 0.9886039886039887, 0.9910256410256411, 0.9890313390313391, 0.849002849002849, 0.9891737891737892, 0.9351851851851851, 0.9314814814814815, 0.971082621082621, 0.9688034188034188]}, {\"categories\": [\"0\", \"1\", \"2\", \"3\", \"4\", \"5\", \"6\", \"7\", \"8\", \"9\", \"10\", \"11\", \"12\", \"13\", \"14\", \"15\", \"16\", \"17\", \"18\", \"19\", \"20\", \"21\", \"22\", \"23\", \"24\", \"25\", \"26\", \"27\", \"28\", \"29\", \"30\", \"31\", \"32\", \"33\", \"36\", \"37\"], \"mode\": \"lines\", \"name\": \"recall_score_weighted_max\", \"stepped\": true, \"type\": \"scatter\", \"data\": [0.9876068376068377, 0.9894586894586895, 0.9894586894586895, 0.9894586894586895, 0.9894586894586895, 0.9896011396011396, 0.9896011396011396, 0.9896011396011396, 0.9896011396011396, 0.9896011396011396, 0.9896011396011396, 0.9896011396011396, 0.9896011396011396, 0.9896011396011396, 0.9896011396011396, 0.9896011396011396, 0.9896011396011396, 0.9896011396011396, 0.9896011396011396, 0.9896011396011396, 0.9896011396011396, 0.9896011396011396, 0.9896011396011396, 0.9896011396011396, 0.9896011396011396, 0.9896011396011396, 0.9896011396011396, 0.9896011396011396, 0.9910256410256411, 0.9910256410256411, 0.9910256410256411, 0.9910256410256411, 0.9910256410256411, 0.9910256410256411, 0.9910256410256411, 0.9910256410256411]}], \"log_loss\": [{\"categories\": [\"0\", \"1\", \"2\", \"3\", \"4\", \"5\", \"6\", \"7\", \"8\", \"9\", \"10\", \"11\", \"12\", \"13\", \"14\", \"15\", \"16\", \"17\", \"18\", \"19\", \"20\", \"21\", \"22\", \"23\", \"24\", \"25\", \"26\", \"27\", \"28\", \"29\", \"30\", \"31\", \"32\", \"33\", \"36\", \"37\"], \"mode\": \"markers\", \"name\": \"log_loss\", \"stepped\": false, \"type\": \"scatter\", \"data\": [0.04991036786613363, 0.027649049605158803, 0.10180002734640188, 0.03752305651166026, 0.15596872631515685, 0.035171974427104784, 0.6512575151912962, 0.05472870085399963, 0.0528029041150414, 0.07342194692055294, 0.07692525857601795, 0.06826378770674747, 0.5876544791911159, 0.035079367887118074, 0.13635725100077312, 0.07280506334238379, 0.10438340634199927, 0.07641353104144422, 0.20328707824656958, 0.46997538834658076, 0.588580893519016, 0.21554167880409011, 0.039852987290513765, 0.5055364966477419, 0.38887638595838864, 0.6901203230371853, 0.03345659555405809, 0.039651249017283376, 0.024618142867539577, 0.025885340912086136, 0.32887237278364906, 0.026363305808023398, 0.5600278036723437, 0.5634099576055595, 0.25186066838437976, 0.11263043833209048]}, {\"categories\": [\"0\", \"1\", \"2\", \"3\", \"4\", \"5\", \"6\", \"7\", \"8\", \"9\", \"10\", \"11\", \"12\", \"13\", \"14\", \"15\", \"16\", \"17\", \"18\", \"19\", \"20\", \"21\", \"22\", \"23\", \"24\", \"25\", \"26\", \"27\", \"28\", \"29\", \"30\", \"31\", \"32\", \"33\", \"36\", \"37\"], \"mode\": \"lines\", \"name\": \"log_loss_min\", \"stepped\": true, \"type\": \"scatter\", \"data\": [0.04991036786613363, 0.027649049605158803, 0.027649049605158803, 0.027649049605158803, 0.027649049605158803, 0.027649049605158803, 0.027649049605158803, 0.027649049605158803, 0.027649049605158803, 0.027649049605158803, 0.027649049605158803, 0.027649049605158803, 0.027649049605158803, 0.027649049605158803, 0.027649049605158803, 0.027649049605158803, 0.027649049605158803, 0.027649049605158803, 0.027649049605158803, 0.027649049605158803, 0.027649049605158803, 0.027649049605158803, 0.027649049605158803, 0.027649049605158803, 0.027649049605158803, 0.027649049605158803, 0.027649049605158803, 0.027649049605158803, 0.024618142867539577, 0.024618142867539577, 0.024618142867539577, 0.024618142867539577, 0.024618142867539577, 0.024618142867539577, 0.024618142867539577, 0.024618142867539577]}], \"precision_score_macro\": [{\"categories\": [\"0\", \"1\", \"2\", \"3\", \"4\", \"5\", \"6\", \"7\", \"8\", \"9\", \"10\", \"11\", \"12\", \"13\", \"14\", \"15\", \"16\", \"17\", \"18\", \"19\", \"20\", \"21\", \"22\", \"23\", \"24\", \"25\", \"26\", \"27\", \"28\", \"29\", \"30\", \"31\", \"32\", \"33\", \"36\", \"37\"], \"mode\": \"markers\", \"name\": \"precision_score_macro\", \"stepped\": false, \"type\": \"scatter\", \"data\": [0.8616748830508237, 0.8706905273860416, 0.700832376897634, 0.8215025409281077, 0.6665706356375071, 0.8513384034588748, 0.611572235625279, 0.4902421652421652, 0.4902421652421652, 0.4902421652421652, 0.4902421652421652, 0.4902421652421652, 0.5996878267784863, 0.8471483635355392, 0.6558831458516283, 0.4902421652421652, 0.7085051330735604, 0.4902421652421652, 0.6239210619321653, 0.5839676170262273, 0.5863517212770499, 0.859373743907132, 0.8168143298578081, 0.5729162325293681, 0.6270153273733282, 0.330982905982906, 0.8450239751715588, 0.8651578327380096, 0.8946072115688507, 0.870324844915969, 0.5557159734349734, 0.8676123401988699, 0.613087935047311, 0.6085858775699043, 0.7002787357468451, 0.6913819363781663]}, {\"categories\": [\"0\", \"1\", \"2\", \"3\", \"4\", \"5\", \"6\", \"7\", \"8\", \"9\", \"10\", \"11\", \"12\", \"13\", \"14\", \"15\", \"16\", \"17\", \"18\", \"19\", \"20\", \"21\", \"22\", \"23\", \"24\", \"25\", \"26\", \"27\", \"28\", \"29\", \"30\", \"31\", \"32\", \"33\", \"36\", \"37\"], \"mode\": \"lines\", \"name\": \"precision_score_macro_max\", \"stepped\": true, \"type\": \"scatter\", \"data\": [0.8616748830508237, 0.8706905273860416, 0.8706905273860416, 0.8706905273860416, 0.8706905273860416, 0.8706905273860416, 0.8706905273860416, 0.8706905273860416, 0.8706905273860416, 0.8706905273860416, 0.8706905273860416, 0.8706905273860416, 0.8706905273860416, 0.8706905273860416, 0.8706905273860416, 0.8706905273860416, 0.8706905273860416, 0.8706905273860416, 0.8706905273860416, 0.8706905273860416, 0.8706905273860416, 0.8706905273860416, 0.8706905273860416, 0.8706905273860416, 0.8706905273860416, 0.8706905273860416, 0.8706905273860416, 0.8706905273860416, 0.8946072115688507, 0.8946072115688507, 0.8946072115688507, 0.8946072115688507, 0.8946072115688507, 0.8946072115688507, 0.8946072115688507, 0.8946072115688507]}], \"accuracy\": [{\"categories\": [\"0\", \"1\", \"2\", \"3\", \"4\", \"5\", \"6\", \"7\", \"8\", \"9\", \"10\", \"11\", \"12\", \"13\", \"14\", \"15\", \"16\", \"17\", \"18\", \"19\", \"20\", \"21\", \"22\", \"23\", \"24\", \"25\", \"26\", \"27\", \"28\", \"29\", \"30\", \"31\", \"32\", \"33\", \"36\", \"37\"], \"mode\": \"markers\", \"name\": \"accuracy\", \"stepped\": false, \"type\": \"scatter\", \"data\": [0.9876068376068377, 0.9894586894586895, 0.9712250712250712, 0.987037037037037, 0.9613960113960114, 0.9896011396011396, 0.9361823361823362, 0.9804843304843304, 0.9804843304843304, 0.9804843304843304, 0.9804843304843304, 0.9804843304843304, 0.9193732193732194, 0.9857549857549858, 0.957977207977208, 0.9804843304843304, 0.9729344729344729, 0.9804843304843304, 0.9405982905982907, 0.9076923076923077, 0.9086894586894587, 0.9888888888888889, 0.9836182336182336, 0.8867521367521368, 0.9450142450142449, 0.661965811965812, 0.9880341880341881, 0.9886039886039887, 0.9910256410256411, 0.9890313390313391, 0.849002849002849, 0.9891737891737892, 0.9351851851851851, 0.9314814814814815, 0.971082621082621, 0.9688034188034188]}, {\"categories\": [\"0\", \"1\", \"2\", \"3\", \"4\", \"5\", \"6\", \"7\", \"8\", \"9\", \"10\", \"11\", \"12\", \"13\", \"14\", \"15\", \"16\", \"17\", \"18\", \"19\", \"20\", \"21\", \"22\", \"23\", \"24\", \"25\", \"26\", \"27\", \"28\", \"29\", \"30\", \"31\", \"32\", \"33\", \"36\", \"37\"], \"mode\": \"lines\", \"name\": \"accuracy_max\", \"stepped\": true, \"type\": \"scatter\", \"data\": [0.9876068376068377, 0.9894586894586895, 0.9894586894586895, 0.9894586894586895, 0.9894586894586895, 0.9896011396011396, 0.9896011396011396, 0.9896011396011396, 0.9896011396011396, 0.9896011396011396, 0.9896011396011396, 0.9896011396011396, 0.9896011396011396, 0.9896011396011396, 0.9896011396011396, 0.9896011396011396, 0.9896011396011396, 0.9896011396011396, 0.9896011396011396, 0.9896011396011396, 0.9896011396011396, 0.9896011396011396, 0.9896011396011396, 0.9896011396011396, 0.9896011396011396, 0.9896011396011396, 0.9896011396011396, 0.9896011396011396, 0.9910256410256411, 0.9910256410256411, 0.9910256410256411, 0.9910256410256411, 0.9910256410256411, 0.9910256410256411, 0.9910256410256411, 0.9910256410256411]}], \"f1_score_weighted\": [{\"categories\": [\"0\", \"1\", \"2\", \"3\", \"4\", \"5\", \"6\", \"7\", \"8\", \"9\", \"10\", \"11\", \"12\", \"13\", \"14\", \"15\", \"16\", \"17\", \"18\", \"19\", \"20\", \"21\", \"22\", \"23\", \"24\", \"25\", \"26\", \"27\", \"28\", \"29\", \"30\", \"31\", \"32\", \"33\", \"36\", \"37\"], \"mode\": \"markers\", \"name\": \"f1_score_weighted\", \"stepped\": false, \"type\": \"scatter\", \"data\": [0.9867898031302715, 0.9891721996191879, 0.977072219204794, 0.9871610459653164, 0.9706050909349885, 0.9898106723818038, 0.9546174033471871, 0.9708245392774518, 0.9708245392774518, 0.9708245392774518, 0.9708245392774518, 0.9708245392774518, 0.9448773640035529, 0.9842723639882355, 0.9682158167232503, 0.9708245392774518, 0.9782113721653714, 0.9708245392774518, 0.9576678891903114, 0.9377385511733781, 0.9384153616822712, 0.9887469691959686, 0.9802712467753874, 0.9248901620630772, 0.9599629193527802, 0.6488827635984998, 0.9878953082883729, 0.9881837108679239, 0.990852264754324, 0.9886752277264114, 0.9026323323630132, 0.9888633407750024, 0.9542405306563624, 0.9520091678884839, 0.9770223494800433, 0.9754694441533825]}, {\"categories\": [\"0\", \"1\", \"2\", \"3\", \"4\", \"5\", \"6\", \"7\", \"8\", \"9\", \"10\", \"11\", \"12\", \"13\", \"14\", \"15\", \"16\", \"17\", \"18\", \"19\", \"20\", \"21\", \"22\", \"23\", \"24\", \"25\", \"26\", \"27\", \"28\", \"29\", \"30\", \"31\", \"32\", \"33\", \"36\", \"37\"], \"mode\": \"lines\", \"name\": \"f1_score_weighted_max\", \"stepped\": true, \"type\": \"scatter\", \"data\": [0.9867898031302715, 0.9891721996191879, 0.9891721996191879, 0.9891721996191879, 0.9891721996191879, 0.9898106723818038, 0.9898106723818038, 0.9898106723818038, 0.9898106723818038, 0.9898106723818038, 0.9898106723818038, 0.9898106723818038, 0.9898106723818038, 0.9898106723818038, 0.9898106723818038, 0.9898106723818038, 0.9898106723818038, 0.9898106723818038, 0.9898106723818038, 0.9898106723818038, 0.9898106723818038, 0.9898106723818038, 0.9898106723818038, 0.9898106723818038, 0.9898106723818038, 0.9898106723818038, 0.9898106723818038, 0.9898106723818038, 0.990852264754324, 0.990852264754324, 0.990852264754324, 0.990852264754324, 0.990852264754324, 0.990852264754324, 0.990852264754324, 0.990852264754324]}], \"AUC_micro\": [{\"categories\": [\"0\", \"1\", \"2\", \"3\", \"4\", \"5\", \"6\", \"7\", \"8\", \"9\", \"10\", \"11\", \"12\", \"13\", \"14\", \"15\", \"16\", \"17\", \"18\", \"19\", \"20\", \"21\", \"22\", \"23\", \"24\", \"25\", \"26\", \"27\", \"28\", \"29\", \"30\", \"31\", \"32\", \"33\", \"36\", \"37\"], \"mode\": \"markers\", \"name\": \"AUC_micro\", \"stepped\": false, \"type\": \"scatter\", \"data\": [0.9991629532227823, 0.9993393113692259, 0.9933641366547349, 0.9991430467285168, 0.9854018433291939, 0.9992893929432393, 0.9775974018068035, 0.9986012491781722, 0.9987924002240242, 0.998861859887501, 0.9981645847030464, 0.9985424428373147, 0.9557780578079725, 0.9993078384104025, 0.989396291426206, 0.9985227798475663, 0.9930545206613582, 0.9946917232814668, 0.9762157571772957, 0.9606083351596171, 0.9546641463949156, 0.9989044123018482, 0.9991021988457885, 0.9564041079212018, 0.97879599191565, 0.661965811965812, 0.9993280797233789, 0.99918024204349, 0.9993463730002192, 0.9993614702802738, 0.9364607835975357, 0.999231438868191, 0.9750758516570484, 0.9747874814327807, 0.9945350890009008, 0.9877587235493218]}, {\"categories\": [\"0\", \"1\", \"2\", \"3\", \"4\", \"5\", \"6\", \"7\", \"8\", \"9\", \"10\", \"11\", \"12\", \"13\", \"14\", \"15\", \"16\", \"17\", \"18\", \"19\", \"20\", \"21\", \"22\", \"23\", \"24\", \"25\", \"26\", \"27\", \"28\", \"29\", \"30\", \"31\", \"32\", \"33\", \"36\", \"37\"], \"mode\": \"lines\", \"name\": \"AUC_micro_max\", \"stepped\": true, \"type\": \"scatter\", \"data\": [0.9991629532227823, 0.9993393113692259, 0.9993393113692259, 0.9993393113692259, 0.9993393113692259, 0.9993393113692259, 0.9993393113692259, 0.9993393113692259, 0.9993393113692259, 0.9993393113692259, 0.9993393113692259, 0.9993393113692259, 0.9993393113692259, 0.9993393113692259, 0.9993393113692259, 0.9993393113692259, 0.9993393113692259, 0.9993393113692259, 0.9993393113692259, 0.9993393113692259, 0.9993393113692259, 0.9993393113692259, 0.9993393113692259, 0.9993393113692259, 0.9993393113692259, 0.9993393113692259, 0.9993393113692259, 0.9993393113692259, 0.9993463730002192, 0.9993614702802738, 0.9993614702802738, 0.9993614702802738, 0.9993614702802738, 0.9993614702802738, 0.9993614702802738, 0.9993614702802738]}], \"average_precision_score_macro\": [{\"categories\": [\"0\", \"1\", \"2\", \"3\", \"4\", \"5\", \"6\", \"7\", \"8\", \"9\", \"10\", \"11\", \"12\", \"13\", \"14\", \"15\", \"16\", \"17\", \"18\", \"19\", \"20\", \"21\", \"22\", \"23\", \"24\", \"25\", \"26\", \"27\", \"28\", \"29\", \"30\", \"31\", \"32\", \"33\", \"36\", \"37\"], \"mode\": \"markers\", \"name\": \"average_precision_score_macro\", \"stepped\": false, \"type\": \"scatter\", \"data\": [0.8761183753061058, 0.8949515993637022, 0.8000673287414468, 0.8038619970879116, 0.725821944597303, 0.8754079877482798, 0.6897588501536491, 0.6910387782409145, 0.7448849816094362, 0.7759520846930398, 0.7150182324394195, 0.7277477325014342, 0.7240160765868703, 0.8482846631023065, 0.7550013603988327, 0.7231668314479428, 0.7505209721749977, 0.6482490659423618, 0.7023443813816289, 0.7021311641328548, 0.7170978291192855, 0.8627500635676738, 0.8144015970700128, 0.7187845553967902, 0.7515724098824105, 0.5, 0.8721533026964399, 0.870149097601565, 0.9042773877884841, 0.8970466712602997, 0.5680920587511126, 0.8848945534691101, 0.7722678968829721, 0.7610757959271673, 0.8308437776116024, 0.8407275715871085]}, {\"categories\": [\"0\", \"1\", \"2\", \"3\", \"4\", \"5\", \"6\", \"7\", \"8\", \"9\", \"10\", \"11\", \"12\", \"13\", \"14\", \"15\", \"16\", \"17\", \"18\", \"19\", \"20\", \"21\", \"22\", \"23\", \"24\", \"25\", \"26\", \"27\", \"28\", \"29\", \"30\", \"31\", \"32\", \"33\", \"36\", \"37\"], \"mode\": \"lines\", \"name\": \"average_precision_score_macro_max\", \"stepped\": true, \"type\": \"scatter\", \"data\": [0.8761183753061058, 0.8949515993637022, 0.8949515993637022, 0.8949515993637022, 0.8949515993637022, 0.8949515993637022, 0.8949515993637022, 0.8949515993637022, 0.8949515993637022, 0.8949515993637022, 0.8949515993637022, 0.8949515993637022, 0.8949515993637022, 0.8949515993637022, 0.8949515993637022, 0.8949515993637022, 0.8949515993637022, 0.8949515993637022, 0.8949515993637022, 0.8949515993637022, 0.8949515993637022, 0.8949515993637022, 0.8949515993637022, 0.8949515993637022, 0.8949515993637022, 0.8949515993637022, 0.8949515993637022, 0.8949515993637022, 0.9042773877884841, 0.9042773877884841, 0.9042773877884841, 0.9042773877884841, 0.9042773877884841, 0.9042773877884841, 0.9042773877884841, 0.9042773877884841]}], \"average_precision_score_micro\": [{\"categories\": [\"0\", \"1\", \"2\", \"3\", \"4\", \"5\", \"6\", \"7\", \"8\", \"9\", \"10\", \"11\", \"12\", \"13\", \"14\", \"15\", \"16\", \"17\", \"18\", \"19\", \"20\", \"21\", \"22\", \"23\", \"24\", \"25\", \"26\", \"27\", \"28\", \"29\", \"30\", \"31\", \"32\", \"33\", \"36\", \"37\"], \"mode\": \"markers\", \"name\": \"average_precision_score_micro\", \"stepped\": false, \"type\": \"scatter\", \"data\": [0.999075065372022, 0.999322878547693, 0.9933600558784444, 0.9989527709005054, 0.9858072854191301, 0.9991399760078906, 0.9763379750561416, 0.9983796012998852, 0.9987812321701948, 0.9988349369119115, 0.997965847255092, 0.9985076733026479, 0.951771954428017, 0.9993119015714829, 0.9896231384147228, 0.9985038393582499, 0.9929444369320805, 0.9928682374689375, 0.976863134065452, 0.9602887657294863, 0.9520168533834682, 0.9985371748205241, 0.9989514786906307, 0.9533843302144037, 0.9778616255596266, 0.8118554435434778, 0.9992924087438625, 0.9991152725452288, 0.9992685572646879, 0.999325594460479, 0.9421175548480522, 0.999038077610933, 0.9733866240311667, 0.9741562292431812, 0.9945881048081224, 0.9767327299447291]}, {\"categories\": [\"0\", \"1\", \"2\", \"3\", \"4\", \"5\", \"6\", \"7\", \"8\", \"9\", \"10\", \"11\", \"12\", \"13\", \"14\", \"15\", \"16\", \"17\", \"18\", \"19\", \"20\", \"21\", \"22\", \"23\", \"24\", \"25\", \"26\", \"27\", \"28\", \"29\", \"30\", \"31\", \"32\", \"33\", \"36\", \"37\"], \"mode\": \"lines\", \"name\": \"average_precision_score_micro_max\", \"stepped\": true, \"type\": \"scatter\", \"data\": [0.999075065372022, 0.999322878547693, 0.999322878547693, 0.999322878547693, 0.999322878547693, 0.999322878547693, 0.999322878547693, 0.999322878547693, 0.999322878547693, 0.999322878547693, 0.999322878547693, 0.999322878547693, 0.999322878547693, 0.999322878547693, 0.999322878547693, 0.999322878547693, 0.999322878547693, 0.999322878547693, 0.999322878547693, 0.999322878547693, 0.999322878547693, 0.999322878547693, 0.999322878547693, 0.999322878547693, 0.999322878547693, 0.999322878547693, 0.999322878547693, 0.999322878547693, 0.999322878547693, 0.999325594460479, 0.999325594460479, 0.999325594460479, 0.999325594460479, 0.999325594460479, 0.999325594460479, 0.999325594460479]}], \"f1_score_macro\": [{\"categories\": [\"0\", \"1\", \"2\", \"3\", \"4\", \"5\", \"6\", \"7\", \"8\", \"9\", \"10\", \"11\", \"12\", \"13\", \"14\", \"15\", \"16\", \"17\", \"18\", \"19\", \"20\", \"21\", \"22\", \"23\", \"24\", \"25\", \"26\", \"27\", \"28\", \"29\", \"30\", \"31\", \"32\", \"33\", \"36\", \"37\"], \"mode\": \"markers\", \"name\": \"f1_score_macro\", \"stepped\": false, \"type\": \"scatter\", \"data\": [0.8146425519239978, 0.8513360221840934, 0.7741345083185168, 0.8322444803075131, 0.7370466183919279, 0.8652208256018113, 0.6607814437906484, 0.4950720608456045, 0.4950720608456045, 0.4950720608456045, 0.4950720608456045, 0.4950720608456045, 0.6411687127760004, 0.7739261005661491, 0.7241317777511913, 0.4950720608456045, 0.7812511857582929, 0.4950720608456045, 0.6811045898757241, 0.6186108430757339, 0.6218295586650171, 0.8492338504060369, 0.6904955797704555, 0.5960037259295407, 0.6846586957407242, 0.3375244301665621, 0.8366530861225705, 0.8387548440516165, 0.8765486200456176, 0.8449469322919994, 0.5583281266485436, 0.8468995700550749, 0.665749850238473, 0.6593843648168092, 0.7749091354742518, 0.7645497793938412]}, {\"categories\": [\"0\", \"1\", \"2\", \"3\", \"4\", \"5\", \"6\", \"7\", \"8\", \"9\", \"10\", \"11\", \"12\", \"13\", \"14\", \"15\", \"16\", \"17\", \"18\", \"19\", \"20\", \"21\", \"22\", \"23\", \"24\", \"25\", \"26\", \"27\", \"28\", \"29\", \"30\", \"31\", \"32\", \"33\", \"36\", \"37\"], \"mode\": \"lines\", \"name\": \"f1_score_macro_max\", \"stepped\": true, \"type\": \"scatter\", \"data\": [0.8146425519239978, 0.8513360221840934, 0.8513360221840934, 0.8513360221840934, 0.8513360221840934, 0.8652208256018113, 0.8652208256018113, 0.8652208256018113, 0.8652208256018113, 0.8652208256018113, 0.8652208256018113, 0.8652208256018113, 0.8652208256018113, 0.8652208256018113, 0.8652208256018113, 0.8652208256018113, 0.8652208256018113, 0.8652208256018113, 0.8652208256018113, 0.8652208256018113, 0.8652208256018113, 0.8652208256018113, 0.8652208256018113, 0.8652208256018113, 0.8652208256018113, 0.8652208256018113, 0.8652208256018113, 0.8652208256018113, 0.8765486200456176, 0.8765486200456176, 0.8765486200456176, 0.8765486200456176, 0.8765486200456176, 0.8765486200456176, 0.8765486200456176, 0.8765486200456176]}], \"balanced_accuracy\": [{\"categories\": [\"0\", \"1\", \"2\", \"3\", \"4\", \"5\", \"6\", \"7\", \"8\", \"9\", \"10\", \"11\", \"12\", \"13\", \"14\", \"15\", \"16\", \"17\", \"18\", \"19\", \"20\", \"21\", \"22\", \"23\", \"24\", \"25\", \"26\", \"27\", \"28\", \"29\", \"30\", \"31\", \"32\", \"33\", \"36\", \"37\"], \"mode\": \"markers\", \"name\": \"balanced_accuracy\", \"stepped\": false, \"type\": \"scatter\", \"data\": [0.7813965464752597, 0.8387273709033485, 0.9634036967361018, 0.8502530820632437, 0.9649215237051812, 0.8819247408076599, 0.9084433549549761, 0.5, 0.5, 0.5, 0.5, 0.5, 0.923924322980343, 0.7277331433627682, 0.9550669710398342, 0.5, 0.9606084943882728, 0.5, 0.9574481303751741, 0.9296936061609474, 0.9315141714597068, 0.8434019714549122, 0.6566569877536196, 0.9074772199901499, 0.9267934950383351, 0.5, 0.8291717391564819, 0.8181959291516057, 0.865119493118228, 0.8241808080095211, 0.8948329877316056, 0.8302517281564926, 0.9452903694969729, 0.9496602792719656, 0.9698621683724485, 0.9655682465387624]}, {\"categories\": [\"0\", \"1\", \"2\", \"3\", \"4\", \"5\", \"6\", \"7\", \"8\", \"9\", \"10\", \"11\", \"12\", \"13\", \"14\", \"15\", \"16\", \"17\", \"18\", \"19\", \"20\", \"21\", \"22\", \"23\", \"24\", \"25\", \"26\", \"27\", \"28\", \"29\", \"30\", \"31\", \"32\", \"33\", \"36\", \"37\"], \"mode\": \"lines\", \"name\": \"balanced_accuracy_max\", \"stepped\": true, \"type\": \"scatter\", \"data\": [0.7813965464752597, 0.8387273709033485, 0.9634036967361018, 0.9634036967361018, 0.9649215237051812, 0.9649215237051812, 0.9649215237051812, 0.9649215237051812, 0.9649215237051812, 0.9649215237051812, 0.9649215237051812, 0.9649215237051812, 0.9649215237051812, 0.9649215237051812, 0.9649215237051812, 0.9649215237051812, 0.9649215237051812, 0.9649215237051812, 0.9649215237051812, 0.9649215237051812, 0.9649215237051812, 0.9649215237051812, 0.9649215237051812, 0.9649215237051812, 0.9649215237051812, 0.9649215237051812, 0.9649215237051812, 0.9649215237051812, 0.9649215237051812, 0.9649215237051812, 0.9649215237051812, 0.9649215237051812, 0.9649215237051812, 0.9649215237051812, 0.9698621683724485, 0.9698621683724485]}], \"precision_score_micro\": [{\"categories\": [\"0\", \"1\", \"2\", \"3\", \"4\", \"5\", \"6\", \"7\", \"8\", \"9\", \"10\", \"11\", \"12\", \"13\", \"14\", \"15\", \"16\", \"17\", \"18\", \"19\", \"20\", \"21\", \"22\", \"23\", \"24\", \"25\", \"26\", \"27\", \"28\", \"29\", \"30\", \"31\", \"32\", \"33\", \"36\", \"37\"], \"mode\": \"markers\", \"name\": \"precision_score_micro\", \"stepped\": false, \"type\": \"scatter\", \"data\": [0.9876068376068377, 0.9894586894586895, 0.9712250712250712, 0.987037037037037, 0.9613960113960114, 0.9896011396011396, 0.9361823361823362, 0.9804843304843304, 0.9804843304843304, 0.9804843304843304, 0.9804843304843304, 0.9804843304843304, 0.9193732193732194, 0.9857549857549858, 0.957977207977208, 0.9804843304843304, 0.9729344729344729, 0.9804843304843304, 0.9405982905982907, 0.9076923076923077, 0.9086894586894587, 0.9888888888888889, 0.9836182336182336, 0.8867521367521368, 0.9450142450142449, 0.661965811965812, 0.9880341880341881, 0.9886039886039887, 0.9910256410256411, 0.9890313390313391, 0.849002849002849, 0.9891737891737892, 0.9351851851851851, 0.9314814814814815, 0.971082621082621, 0.9688034188034188]}, {\"categories\": [\"0\", \"1\", \"2\", \"3\", \"4\", \"5\", \"6\", \"7\", \"8\", \"9\", \"10\", \"11\", \"12\", \"13\", \"14\", \"15\", \"16\", \"17\", \"18\", \"19\", \"20\", \"21\", \"22\", \"23\", \"24\", \"25\", \"26\", \"27\", \"28\", \"29\", \"30\", \"31\", \"32\", \"33\", \"36\", \"37\"], \"mode\": \"lines\", \"name\": \"precision_score_micro_max\", \"stepped\": true, \"type\": \"scatter\", \"data\": [0.9876068376068377, 0.9894586894586895, 0.9894586894586895, 0.9894586894586895, 0.9894586894586895, 0.9896011396011396, 0.9896011396011396, 0.9896011396011396, 0.9896011396011396, 0.9896011396011396, 0.9896011396011396, 0.9896011396011396, 0.9896011396011396, 0.9896011396011396, 0.9896011396011396, 0.9896011396011396, 0.9896011396011396, 0.9896011396011396, 0.9896011396011396, 0.9896011396011396, 0.9896011396011396, 0.9896011396011396, 0.9896011396011396, 0.9896011396011396, 0.9896011396011396, 0.9896011396011396, 0.9896011396011396, 0.9896011396011396, 0.9910256410256411, 0.9910256410256411, 0.9910256410256411, 0.9910256410256411, 0.9910256410256411, 0.9910256410256411, 0.9910256410256411, 0.9910256410256411]}]}, \"metricName\": null, \"primaryMetricName\": \"norm_macro_recall\", \"showLegend\": false}, \"run_metrics\": [{\"name\": \"experiment_status\", \"run_id\": \"AutoML_644989e4-1844-40f1-8b40-53c568d3c068\", \"categories\": [0, 1, 2, 3, 4, 5, 6, 7, 8, 9, 10, 11, 12, 13, 14], \"series\": [{\"data\": [\"DatasetEvaluation\", \"FeaturesGeneration\", \"DatasetFeaturization\", \"DatasetFeaturizationCompleted\", \"DatasetBalancing\", \"DatasetCrossValidationSplit\", \"ModelSelection\", \"BestRunExplainModel\", \"ModelExplanationDataSetSetup\", \"PickSurrogateModel\", \"EngineeredFeatureExplanations\", \"EngineeredFeatureExplanations\", \"RawFeaturesExplanations\", \"RawFeaturesExplanations\", \"BestRunExplainModel\"]}]}, {\"name\": \"experiment_status_description\", \"run_id\": \"AutoML_644989e4-1844-40f1-8b40-53c568d3c068\", \"categories\": [0, 1, 2, 3, 4, 5, 6, 7, 8, 9, 10, 11, 12, 13, 14], \"series\": [{\"data\": [\"Gathering dataset statistics.\", \"Generating features for the dataset.\", \"Beginning to fit featurizers and featurize the dataset.\", \"Completed fit featurizers and featurizing the dataset.\", \"Performing class balancing sweeping\", \"Generating individually featurized CV splits.\", \"Beginning model selection.\", \"Best run model explanations started\", \"Model explanations data setup completed\", \"Choosing LightGBM as the surrogate model for explanations\", \"Computation of engineered features started\", \"Computation of engineered features completed\", \"Computation of raw features started\", \"Computation of raw features completed\", \"Best run model explanations completed\"]}]}, {\"name\": \"average_precision_score_weighted\", \"run_id\": \"AutoML_644989e4-1844-40f1-8b40-53c568d3c068\", \"categories\": [0], \"series\": [{\"data\": [0.9931155822613803]}]}, {\"name\": \"matthews_correlation\", \"run_id\": \"AutoML_644989e4-1844-40f1-8b40-53c568d3c068\", \"categories\": [0], \"series\": [{\"data\": [0.6118911007971954]}]}, {\"name\": \"precision_score_macro\", \"run_id\": \"AutoML_644989e4-1844-40f1-8b40-53c568d3c068\", \"categories\": [0], \"series\": [{\"data\": [0.7002787357468451]}]}, {\"name\": \"f1_score_weighted\", \"run_id\": \"AutoML_644989e4-1844-40f1-8b40-53c568d3c068\", \"categories\": [0], \"series\": [{\"data\": [0.9770223494800433]}]}, {\"name\": \"AUC_micro\", \"run_id\": \"AutoML_644989e4-1844-40f1-8b40-53c568d3c068\", \"categories\": [0], \"series\": [{\"data\": [0.9945350890009008]}]}, {\"name\": \"log_loss\", \"run_id\": \"AutoML_644989e4-1844-40f1-8b40-53c568d3c068\", \"categories\": [0], \"series\": [{\"data\": [0.25186066838437976]}]}, {\"name\": \"f1_score_micro\", \"run_id\": \"AutoML_644989e4-1844-40f1-8b40-53c568d3c068\", \"categories\": [0], \"series\": [{\"data\": [0.971082621082621]}]}, {\"name\": \"recall_score_weighted\", \"run_id\": \"AutoML_644989e4-1844-40f1-8b40-53c568d3c068\", \"categories\": [0], \"series\": [{\"data\": [0.971082621082621]}]}, {\"name\": \"balanced_accuracy\", \"run_id\": \"AutoML_644989e4-1844-40f1-8b40-53c568d3c068\", \"categories\": [0], \"series\": [{\"data\": [0.9698621683724485]}]}, {\"name\": \"accuracy\", \"run_id\": \"AutoML_644989e4-1844-40f1-8b40-53c568d3c068\", \"categories\": [0], \"series\": [{\"data\": [0.971082621082621]}]}, {\"name\": \"average_precision_score_micro\", \"run_id\": \"AutoML_644989e4-1844-40f1-8b40-53c568d3c068\", \"categories\": [0], \"series\": [{\"data\": [0.9945881048081224]}]}, {\"name\": \"AUC_weighted\", \"run_id\": \"AutoML_644989e4-1844-40f1-8b40-53c568d3c068\", \"categories\": [0], \"series\": [{\"data\": [0.982826778236744]}]}, {\"name\": \"f1_score_macro\", \"run_id\": \"AutoML_644989e4-1844-40f1-8b40-53c568d3c068\", \"categories\": [0], \"series\": [{\"data\": [0.7749091354742518]}]}, {\"name\": \"precision_score_micro\", \"run_id\": \"AutoML_644989e4-1844-40f1-8b40-53c568d3c068\", \"categories\": [0], \"series\": [{\"data\": [0.971082621082621]}]}, {\"name\": \"AUC_macro\", \"run_id\": \"AutoML_644989e4-1844-40f1-8b40-53c568d3c068\", \"categories\": [0], \"series\": [{\"data\": [0.9828267782367437]}]}, {\"name\": \"weighted_accuracy\", \"run_id\": \"AutoML_644989e4-1844-40f1-8b40-53c568d3c068\", \"categories\": [0], \"series\": [{\"data\": [0.9710973859891826]}]}, {\"name\": \"recall_score_macro\", \"run_id\": \"AutoML_644989e4-1844-40f1-8b40-53c568d3c068\", \"categories\": [0], \"series\": [{\"data\": [0.9698621683724485]}]}, {\"name\": \"norm_macro_recall\", \"run_id\": \"AutoML_644989e4-1844-40f1-8b40-53c568d3c068\", \"categories\": [0], \"series\": [{\"data\": [0.9397243367448972]}]}, {\"name\": \"average_precision_score_macro\", \"run_id\": \"AutoML_644989e4-1844-40f1-8b40-53c568d3c068\", \"categories\": [0], \"series\": [{\"data\": [0.8308437776116024]}]}, {\"name\": \"precision_score_weighted\", \"run_id\": \"AutoML_644989e4-1844-40f1-8b40-53c568d3c068\", \"categories\": [0], \"series\": [{\"data\": [0.9879011609189913]}]}, {\"name\": \"recall_score_micro\", \"run_id\": \"AutoML_644989e4-1844-40f1-8b40-53c568d3c068\", \"categories\": [0], \"series\": [{\"data\": [0.971082621082621]}]}], \"run_logs\": \"\\nRun is completed.\", \"graph\": {}, \"widget_settings\": {\"childWidgetDisplay\": \"popup\", \"send_telemetry\": false, \"log_level\": \"INFO\", \"sdk_version\": \"1.22.0\"}, \"loading\": false}"
          },
          "metadata": {}
        },
        {
          "output_type": "execute_result",
          "execution_count": 7,
          "data": {
            "text/plain": "{'runId': 'AutoML_644989e4-1844-40f1-8b40-53c568d3c068',\n 'target': 'final-cmp',\n 'status': 'Completed',\n 'startTimeUtc': '2021-03-24T01:16:38.628668Z',\n 'endTimeUtc': '2021-03-24T01:32:56.026721Z',\n 'properties': {'num_iterations': '1000',\n  'training_type': 'TrainFull',\n  'acquisition_function': 'EI',\n  'primary_metric': 'norm_macro_recall',\n  'train_split': '0',\n  'acquisition_parameter': '0',\n  'num_cross_validation': None,\n  'target': 'final-cmp',\n  'AMLSettingsJsonString': '{\"path\":null,\"name\":\"camels-clf\",\"subscription_id\":\"0c66ad45-500d-48af-80d3-0039ebf1975e\",\"resource_group\":\"final-rgp\",\"workspace_name\":\"final-ws\",\"region\":\"eastus\",\"compute_target\":\"final-cmp\",\"spark_service\":null,\"azure_service\":\"remote\",\"many_models\":false,\"pipeline_fetch_max_batch_size\":1,\"iterations\":1000,\"primary_metric\":\"norm_macro_recall\",\"task_type\":\"classification\",\"data_script\":null,\"validation_size\":0.0,\"n_cross_validations\":null,\"y_min\":null,\"y_max\":null,\"num_classes\":null,\"featurization\":\"auto\",\"_ignore_package_version_incompatibilities\":false,\"is_timeseries\":false,\"max_cores_per_iteration\":1,\"max_concurrent_iterations\":4,\"iteration_timeout_minutes\":null,\"mem_in_mb\":null,\"enforce_time_on_windows\":false,\"experiment_timeout_minutes\":20,\"experiment_exit_score\":null,\"whitelist_models\":null,\"blacklist_algos\":[\"TensorFlowLinearClassifier\",\"TensorFlowDNN\"],\"supported_models\":[\"MultinomialNaiveBayes\",\"LogisticRegression\",\"SVM\",\"XGBoostClassifier\",\"SGD\",\"DecisionTree\",\"LightGBM\",\"GradientBoosting\",\"AveragedPerceptronClassifier\",\"TensorFlowLinearClassifier\",\"LinearSVM\",\"ExtremeRandomTrees\",\"TensorFlowDNN\",\"RandomForest\",\"BernoulliNaiveBayes\",\"KNN\"],\"private_models\":[],\"auto_blacklist\":true,\"blacklist_samples_reached\":false,\"exclude_nan_labels\":true,\"verbosity\":20,\"_debug_log\":\"azureml_automl.log\",\"show_warnings\":false,\"model_explainability\":true,\"service_url\":null,\"sdk_url\":null,\"sdk_packages\":null,\"enable_onnx_compatible_models\":false,\"enable_split_onnx_featurizer_estimator_models\":false,\"vm_type\":\"STANDARD_DS2_V2\",\"telemetry_verbosity\":20,\"send_telemetry\":true,\"enable_dnn\":false,\"scenario\":\"SDK-1.13.0\",\"environment_label\":null,\"force_text_dnn\":false,\"enable_feature_sweeping\":true,\"enable_early_stopping\":true,\"early_stopping_n_iters\":10,\"metrics\":null,\"enable_ensembling\":true,\"enable_stack_ensembling\":true,\"ensemble_iterations\":15,\"enable_tf\":false,\"enable_subsampling\":null,\"subsample_seed\":null,\"enable_nimbusml\":false,\"enable_streaming\":false,\"force_streaming\":false,\"track_child_runs\":true,\"allowed_private_models\":[],\"label_column_name\":\"Target\",\"weight_column_name\":null,\"cv_split_column_names\":null,\"enable_local_managed\":false,\"_local_managed_run_id\":null,\"cost_mode\":1,\"lag_length\":0,\"metric_operation\":\"maximize\",\"preprocess\":true}',\n  'DataPrepJsonString': '{\\\\\"training_data\\\\\": \\\\\"{\\\\\\\\\\\\\"blocks\\\\\\\\\\\\\": [{\\\\\\\\\\\\\"id\\\\\\\\\\\\\": \\\\\\\\\\\\\"0d2d11b9-cd34-4682-852f-64735b51567f\\\\\\\\\\\\\", \\\\\\\\\\\\\"type\\\\\\\\\\\\\": \\\\\\\\\\\\\"Microsoft.DPrep.GetDatastoreFilesBlock\\\\\\\\\\\\\", \\\\\\\\\\\\\"arguments\\\\\\\\\\\\\": {\\\\\\\\\\\\\"datastores\\\\\\\\\\\\\": [{\\\\\\\\\\\\\"datastoreName\\\\\\\\\\\\\": \\\\\\\\\\\\\"workspaceblobstore\\\\\\\\\\\\\", \\\\\\\\\\\\\"path\\\\\\\\\\\\\": \\\\\\\\\\\\\"UI/03-23-2021_112308_UTC/camel_data_after2010Q3.csv\\\\\\\\\\\\\", \\\\\\\\\\\\\"resourceGroup\\\\\\\\\\\\\": \\\\\\\\\\\\\"final-rgp\\\\\\\\\\\\\", \\\\\\\\\\\\\"subscription\\\\\\\\\\\\\": \\\\\\\\\\\\\"0c66ad45-500d-48af-80d3-0039ebf1975e\\\\\\\\\\\\\", \\\\\\\\\\\\\"workspaceName\\\\\\\\\\\\\": \\\\\\\\\\\\\"final-ws\\\\\\\\\\\\\"}]}, \\\\\\\\\\\\\"localData\\\\\\\\\\\\\": {}, \\\\\\\\\\\\\"isEnabled\\\\\\\\\\\\\": true, \\\\\\\\\\\\\"name\\\\\\\\\\\\\": null, \\\\\\\\\\\\\"annotation\\\\\\\\\\\\\": null}, {\\\\\\\\\\\\\"id\\\\\\\\\\\\\": \\\\\\\\\\\\\"02153692-0259-4f94-8541-adb9ed81e8d6\\\\\\\\\\\\\", \\\\\\\\\\\\\"type\\\\\\\\\\\\\": \\\\\\\\\\\\\"Microsoft.DPrep.ParseDelimitedBlock\\\\\\\\\\\\\", \\\\\\\\\\\\\"arguments\\\\\\\\\\\\\": {\\\\\\\\\\\\\"columnHeadersMode\\\\\\\\\\\\\": 1, \\\\\\\\\\\\\"fileEncoding\\\\\\\\\\\\\": 0, \\\\\\\\\\\\\"handleQuotedLineBreaks\\\\\\\\\\\\\": false, \\\\\\\\\\\\\"preview\\\\\\\\\\\\\": false, \\\\\\\\\\\\\"separator\\\\\\\\\\\\\": \\\\\\\\\\\\\",\\\\\\\\\\\\\", \\\\\\\\\\\\\"skipRows\\\\\\\\\\\\\": 0, \\\\\\\\\\\\\"skipRowsMode\\\\\\\\\\\\\": 0}, \\\\\\\\\\\\\"localData\\\\\\\\\\\\\": {}, \\\\\\\\\\\\\"isEnabled\\\\\\\\\\\\\": true, \\\\\\\\\\\\\"name\\\\\\\\\\\\\": null, \\\\\\\\\\\\\"annotation\\\\\\\\\\\\\": null}, {\\\\\\\\\\\\\"id\\\\\\\\\\\\\": \\\\\\\\\\\\\"efa258f3-54d9-44e6-ba92-5778db9a66cc\\\\\\\\\\\\\", \\\\\\\\\\\\\"type\\\\\\\\\\\\\": \\\\\\\\\\\\\"Microsoft.DPrep.DropColumnsBlock\\\\\\\\\\\\\", \\\\\\\\\\\\\"arguments\\\\\\\\\\\\\": {\\\\\\\\\\\\\"columns\\\\\\\\\\\\\": {\\\\\\\\\\\\\"type\\\\\\\\\\\\\": 0, \\\\\\\\\\\\\"details\\\\\\\\\\\\\": {\\\\\\\\\\\\\"selectedColumns\\\\\\\\\\\\\": [\\\\\\\\\\\\\"Path\\\\\\\\\\\\\", \\\\\\\\\\\\\"Column1\\\\\\\\\\\\\", \\\\\\\\\\\\\"AsOfDate\\\\\\\\\\\\\"]}}}, \\\\\\\\\\\\\"localData\\\\\\\\\\\\\": {}, \\\\\\\\\\\\\"isEnabled\\\\\\\\\\\\\": true, \\\\\\\\\\\\\"name\\\\\\\\\\\\\": null, \\\\\\\\\\\\\"annotation\\\\\\\\\\\\\": null}, {\\\\\\\\\\\\\"id\\\\\\\\\\\\\": \\\\\\\\\\\\\"e74b76a4-aa9a-467d-9bf2-e7b81a6f29a3\\\\\\\\\\\\\", \\\\\\\\\\\\\"type\\\\\\\\\\\\\": \\\\\\\\\\\\\"Microsoft.DPrep.SetColumnTypesBlock\\\\\\\\\\\\\", \\\\\\\\\\\\\"arguments\\\\\\\\\\\\\": {\\\\\\\\\\\\\"columnConversion\\\\\\\\\\\\\": [{\\\\\\\\\\\\\"column\\\\\\\\\\\\\": {\\\\\\\\\\\\\"type\\\\\\\\\\\\\": 2, \\\\\\\\\\\\\"details\\\\\\\\\\\\\": {\\\\\\\\\\\\\"selectedColumn\\\\\\\\\\\\\": \\\\\\\\\\\\\"Path\\\\\\\\\\\\\"}}, \\\\\\\\\\\\\"typeProperty\\\\\\\\\\\\\": 0}, {\\\\\\\\\\\\\"column\\\\\\\\\\\\\": {\\\\\\\\\\\\\"type\\\\\\\\\\\\\": 2, \\\\\\\\\\\\\"details\\\\\\\\\\\\\": {\\\\\\\\\\\\\"selectedColumn\\\\\\\\\\\\\": \\\\\\\\\\\\\"Column1\\\\\\\\\\\\\"}}, \\\\\\\\\\\\\"typeProperty\\\\\\\\\\\\\": 2}, {\\\\\\\\\\\\\"column\\\\\\\\\\\\\": {\\\\\\\\\\\\\"type\\\\\\\\\\\\\": 2, \\\\\\\\\\\\\"details\\\\\\\\\\\\\": {\\\\\\\\\\\\\"selectedColumn\\\\\\\\\\\\\": \\\\\\\\\\\\\"AsOfDate\\\\\\\\\\\\\"}}, \\\\\\\\\\\\\"typeArguments\\\\\\\\\\\\\": {\\\\\\\\\\\\\"dateTimeFormats\\\\\\\\\\\\\": [\\\\\\\\\\\\\"%m/%d/%Y\\\\\\\\\\\\\"]}, \\\\\\\\\\\\\"typeProperty\\\\\\\\\\\\\": 4}, {\\\\\\\\\\\\\"column\\\\\\\\\\\\\": {\\\\\\\\\\\\\"type\\\\\\\\\\\\\": 2, \\\\\\\\\\\\\"details\\\\\\\\\\\\\": {\\\\\\\\\\\\\"selectedColumn\\\\\\\\\\\\\": \\\\\\\\\\\\\"Target\\\\\\\\\\\\\"}}, \\\\\\\\\\\\\"typeProperty\\\\\\\\\\\\\": 2}, {\\\\\\\\\\\\\"column\\\\\\\\\\\\\": {\\\\\\\\\\\\\"type\\\\\\\\\\\\\": 2, \\\\\\\\\\\\\"details\\\\\\\\\\\\\": {\\\\\\\\\\\\\"selectedColumn\\\\\\\\\\\\\": \\\\\\\\\\\\\"EQTA\\\\\\\\\\\\\"}}, \\\\\\\\\\\\\"typeProperty\\\\\\\\\\\\\": 3}, {\\\\\\\\\\\\\"column\\\\\\\\\\\\\": {\\\\\\\\\\\\\"type\\\\\\\\\\\\\": 2, \\\\\\\\\\\\\"details\\\\\\\\\\\\\": {\\\\\\\\\\\\\"selectedColumn\\\\\\\\\\\\\": \\\\\\\\\\\\\"EQTL\\\\\\\\\\\\\"}}, \\\\\\\\\\\\\"typeProperty\\\\\\\\\\\\\": 3}, {\\\\\\\\\\\\\"column\\\\\\\\\\\\\": {\\\\\\\\\\\\\"type\\\\\\\\\\\\\": 2, \\\\\\\\\\\\\"details\\\\\\\\\\\\\": {\\\\\\\\\\\\\"selectedColumn\\\\\\\\\\\\\": \\\\\\\\\\\\\"LLRTA\\\\\\\\\\\\\"}}, \\\\\\\\\\\\\"typeProperty\\\\\\\\\\\\\": 3}, {\\\\\\\\\\\\\"column\\\\\\\\\\\\\": {\\\\\\\\\\\\\"type\\\\\\\\\\\\\": 2, \\\\\\\\\\\\\"details\\\\\\\\\\\\\": {\\\\\\\\\\\\\"selectedColumn\\\\\\\\\\\\\": \\\\\\\\\\\\\"LLRGL\\\\\\\\\\\\\"}}, \\\\\\\\\\\\\"typeProperty\\\\\\\\\\\\\": 3}, {\\\\\\\\\\\\\"column\\\\\\\\\\\\\": {\\\\\\\\\\\\\"type\\\\\\\\\\\\\": 2, \\\\\\\\\\\\\"details\\\\\\\\\\\\\": {\\\\\\\\\\\\\"selectedColumn\\\\\\\\\\\\\": \\\\\\\\\\\\\"OEXTA\\\\\\\\\\\\\"}}, \\\\\\\\\\\\\"typeProperty\\\\\\\\\\\\\": 3}, {\\\\\\\\\\\\\"column\\\\\\\\\\\\\": {\\\\\\\\\\\\\"type\\\\\\\\\\\\\": 2, \\\\\\\\\\\\\"details\\\\\\\\\\\\\": {\\\\\\\\\\\\\"selectedColumn\\\\\\\\\\\\\": \\\\\\\\\\\\\"INCEMP\\\\\\\\\\\\\"}}, \\\\\\\\\\\\\"typeProperty\\\\\\\\\\\\\": 3}, {\\\\\\\\\\\\\"column\\\\\\\\\\\\\": {\\\\\\\\\\\\\"type\\\\\\\\\\\\\": 2, \\\\\\\\\\\\\"details\\\\\\\\\\\\\": {\\\\\\\\\\\\\"selectedColumn\\\\\\\\\\\\\": \\\\\\\\\\\\\"ROA\\\\\\\\\\\\\"}}, \\\\\\\\\\\\\"typeProperty\\\\\\\\\\\\\": 3}, {\\\\\\\\\\\\\"column\\\\\\\\\\\\\": {\\\\\\\\\\\\\"type\\\\\\\\\\\\\": 2, \\\\\\\\\\\\\"details\\\\\\\\\\\\\": {\\\\\\\\\\\\\"selectedColumn\\\\\\\\\\\\\": \\\\\\\\\\\\\"ROE\\\\\\\\\\\\\"}}, \\\\\\\\\\\\\"typeProperty\\\\\\\\\\\\\": 3}, {\\\\\\\\\\\\\"column\\\\\\\\\\\\\": {\\\\\\\\\\\\\"type\\\\\\\\\\\\\": 2, \\\\\\\\\\\\\"details\\\\\\\\\\\\\": {\\\\\\\\\\\\\"selectedColumn\\\\\\\\\\\\\": \\\\\\\\\\\\\"TDTL\\\\\\\\\\\\\"}}, \\\\\\\\\\\\\"typeProperty\\\\\\\\\\\\\": 3}, {\\\\\\\\\\\\\"column\\\\\\\\\\\\\": {\\\\\\\\\\\\\"type\\\\\\\\\\\\\": 2, \\\\\\\\\\\\\"details\\\\\\\\\\\\\": {\\\\\\\\\\\\\"selectedColumn\\\\\\\\\\\\\": \\\\\\\\\\\\\"TDTA\\\\\\\\\\\\\"}}, \\\\\\\\\\\\\"typeProperty\\\\\\\\\\\\\": 3}, {\\\\\\\\\\\\\"column\\\\\\\\\\\\\": {\\\\\\\\\\\\\"type\\\\\\\\\\\\\": 2, \\\\\\\\\\\\\"details\\\\\\\\\\\\\": {\\\\\\\\\\\\\"selectedColumn\\\\\\\\\\\\\": \\\\\\\\\\\\\"TATA\\\\\\\\\\\\\"}}, \\\\\\\\\\\\\"typeProperty\\\\\\\\\\\\\": 3}]}, \\\\\\\\\\\\\"localData\\\\\\\\\\\\\": {}, \\\\\\\\\\\\\"isEnabled\\\\\\\\\\\\\": true, \\\\\\\\\\\\\"name\\\\\\\\\\\\\": null, \\\\\\\\\\\\\"annotation\\\\\\\\\\\\\": null}], \\\\\\\\\\\\\"inspectors\\\\\\\\\\\\\": [], \\\\\\\\\\\\\"meta\\\\\\\\\\\\\": {\\\\\\\\\\\\\"savedDatasetId\\\\\\\\\\\\\": \\\\\\\\\\\\\"a5a4d1ce-4a3c-4367-bab6-8df466a4af80\\\\\\\\\\\\\", \\\\\\\\\\\\\"datasetType\\\\\\\\\\\\\": \\\\\\\\\\\\\"tabular\\\\\\\\\\\\\", \\\\\\\\\\\\\"subscriptionId\\\\\\\\\\\\\": \\\\\\\\\\\\\"0c66ad45-500d-48af-80d3-0039ebf1975e\\\\\\\\\\\\\", \\\\\\\\\\\\\"workspaceId\\\\\\\\\\\\\": \\\\\\\\\\\\\"5f2d671b-df42-47ff-af2f-d74f27ad4dde\\\\\\\\\\\\\", \\\\\\\\\\\\\"workspaceLocation\\\\\\\\\\\\\": \\\\\\\\\\\\\"eastus\\\\\\\\\\\\\"}}\\\\\", \\\\\"activities\\\\\": 0}',\n  'EnableSubsampling': None,\n  'runTemplate': 'AutoML',\n  'azureml.runsource': 'automl',\n  'display_task_type': 'classification',\n  'dependencies_versions': '{\"azureml\": \"0.2.7\", \"azureml-widgets\": \"1.24.0\", \"azureml-train\": \"1.22.0\", \"azureml-train-restclients-hyperdrive\": \"1.22.0\", \"azureml-train-core\": \"1.22.0\", \"azureml-train-automl\": \"1.22.0\", \"azureml-train-automl-runtime\": \"1.22.0\", \"azureml-train-automl-client\": \"1.22.0.post1\", \"azureml-tensorboard\": \"1.22.0\", \"azureml-telemetry\": \"1.22.0\", \"azureml-sdk\": \"1.22.0\", \"azureml-samples\": \"0+unknown\", \"azureml-pipeline\": \"1.22.0\", \"azureml-pipeline-steps\": \"1.22.0\", \"azureml-pipeline-core\": \"1.22.0\", \"azureml-opendatasets\": \"1.22.0\", \"azureml-model-management-sdk\": \"1.0.1b6.post1\", \"azureml-mlflow\": \"1.22.0\", \"azureml-interpret\": \"1.22.0\", \"azureml-explain-model\": \"1.22.0\", \"azureml-defaults\": \"1.22.0\", \"azureml-dataset-runtime\": \"1.22.0\", \"azureml-dataprep\": \"2.9.1\", \"azureml-dataprep-rslex\": \"1.7.0\", \"azureml-dataprep-native\": \"29.0.0\", \"azureml-datadrift\": \"1.22.0\", \"azureml-core\": \"1.22.0\", \"azureml-contrib-services\": \"1.22.0\", \"azureml-contrib-server\": \"1.22.0\", \"azureml-contrib-reinforcementlearning\": \"1.22.0\", \"azureml-contrib-pipeline-steps\": \"1.22.0\", \"azureml-contrib-notebook\": \"1.22.0\", \"azureml-contrib-interpret\": \"1.22.0\", \"azureml-contrib-gbdt\": \"1.22.0\", \"azureml-contrib-fairness\": \"1.22.0\", \"azureml-contrib-dataset\": \"1.22.0\", \"azureml-cli-common\": \"1.22.0\", \"azureml-automl-runtime\": \"1.22.0\", \"azureml-automl-core\": \"1.22.0\", \"azureml-accel-models\": \"1.22.0\"}',\n  '_aml_system_scenario_identification': 'Remote.Parent',\n  'ClientType': 'SDK',\n  'environment_cpu_name': 'AzureML-AutoML',\n  'environment_cpu_label': 'prod',\n  'environment_gpu_name': 'AzureML-AutoML-GPU',\n  'environment_gpu_label': 'prod',\n  'root_attribution': 'automl',\n  'attribution': 'AutoML',\n  'Orchestrator': 'AutoML',\n  'CancelUri': 'https://eastus.experiments.azureml.net/jasmine/v1.0/subscriptions/0c66ad45-500d-48af-80d3-0039ebf1975e/resourceGroups/final-rgp/providers/Microsoft.MachineLearningServices/workspaces/final-ws/experimentids/b86bab09-1296-418d-b16b-860e8f8360ff/cancel/AutoML_644989e4-1844-40f1-8b40-53c568d3c068',\n  'ClientSdkVersion': '1.24.0',\n  'snapshotId': '00000000-0000-0000-0000-000000000000',\n  'SetupRunId': 'AutoML_644989e4-1844-40f1-8b40-53c568d3c068_setup',\n  'SetupRunContainerId': 'dcid.AutoML_644989e4-1844-40f1-8b40-53c568d3c068_setup',\n  'FeaturizationRunJsonPath': 'featurizer_container.json',\n  'FeaturizationRunId': 'AutoML_644989e4-1844-40f1-8b40-53c568d3c068_featurize',\n  'ProblemInfoJsonString': '{\"dataset_num_categorical\": 0, \"is_sparse\": false, \"subsampling\": false, \"dataset_classes\": 2, \"dataset_features\": 11, \"dataset_samples\": 7020, \"single_frequency_class_detected\": false}',\n  'ModelExplainRunId': 'AutoML_644989e4-1844-40f1-8b40-53c568d3c068_ModelExplain'},\n 'inputDatasets': [{'dataset': {'id': 'a5a4d1ce-4a3c-4367-bab6-8df466a4af80'}, 'consumptionDetails': {'type': 'RunInput', 'inputName': 'training_data', 'mechanism': 'Direct'}}],\n 'outputDatasets': [],\n 'logFiles': {},\n 'submittedBy': 'Dmitry Mikhaylov'}"
          },
          "metadata": {}
        }
      ],
      "execution_count": 7,
      "metadata": {
        "gather": {
          "logged": 1616549581425
        },
        "jupyter": {
          "outputs_hidden": false,
          "source_hidden": false
        },
        "nteract": {
          "transient": {
            "deleting": false
          }
        }
      }
    },
    {
      "cell_type": "code",
      "source": [
        "#remote_run.wait_for_completion(show_output=False)"
      ],
      "outputs": [],
      "execution_count": 9,
      "metadata": {
        "collapsed": true,
        "jupyter": {
          "source_hidden": false,
          "outputs_hidden": false
        },
        "nteract": {
          "transient": {
            "deleting": false
          }
        },
        "gather": {
          "logged": 1616550174548
        }
      }
    },
    {
      "cell_type": "code",
      "source": [
        "print(\"Run Status: \",remote_run.get_status())"
      ],
      "outputs": [
        {
          "output_type": "stream",
          "name": "stdout",
          "text": [
            "Run Status:  Completed\n"
          ]
        }
      ],
      "execution_count": 10,
      "metadata": {
        "gather": {
          "logged": 1616550177228
        }
      }
    },
    {
      "cell_type": "markdown",
      "source": [
        "## Best Model\n",
        "\n",
        "Get the best model from the automl experiments and display all the properties of the model.\n",
        "\n"
      ],
      "metadata": {}
    },
    {
      "cell_type": "code",
      "source": [
        "print(remote_run.get_metrics())"
      ],
      "outputs": [
        {
          "output_type": "stream",
          "name": "stdout",
          "text": [
            "{'experiment_status': ['DatasetEvaluation', 'FeaturesGeneration', 'DatasetFeaturization', 'DatasetFeaturizationCompleted', 'DatasetBalancing', 'DatasetCrossValidationSplit', 'ModelSelection', 'BestRunExplainModel', 'ModelExplanationDataSetSetup', 'PickSurrogateModel', 'EngineeredFeatureExplanations', 'EngineeredFeatureExplanations', 'RawFeaturesExplanations', 'RawFeaturesExplanations', 'BestRunExplainModel'], 'experiment_status_description': ['Gathering dataset statistics.', 'Generating features for the dataset.', 'Beginning to fit featurizers and featurize the dataset.', 'Completed fit featurizers and featurizing the dataset.', 'Performing class balancing sweeping', 'Generating individually featurized CV splits.', 'Beginning model selection.', 'Best run model explanations started', 'Model explanations data setup completed', 'Choosing LightGBM as the surrogate model for explanations', 'Computation of engineered features started', 'Computation of engineered features completed', 'Computation of raw features started', 'Computation of raw features completed', 'Best run model explanations completed'], 'average_precision_score_weighted': 0.9931155822613803, 'matthews_correlation': 0.6118911007971954, 'precision_score_macro': 0.7002787357468451, 'f1_score_weighted': 0.9770223494800433, 'AUC_micro': 0.9945350890009008, 'log_loss': 0.25186066838437976, 'f1_score_micro': 0.971082621082621, 'recall_score_weighted': 0.971082621082621, 'balanced_accuracy': 0.9698621683724485, 'accuracy': 0.971082621082621, 'average_precision_score_micro': 0.9945881048081224, 'AUC_weighted': 0.982826778236744, 'f1_score_macro': 0.7749091354742518, 'precision_score_micro': 0.971082621082621, 'AUC_macro': 0.9828267782367437, 'weighted_accuracy': 0.9710973859891826, 'recall_score_macro': 0.9698621683724485, 'norm_macro_recall': 0.9397243367448972, 'average_precision_score_macro': 0.8308437776116024, 'precision_score_weighted': 0.9879011609189913, 'recall_score_micro': 0.971082621082621}\n"
          ]
        }
      ],
      "execution_count": 11,
      "metadata": {
        "collapsed": true,
        "jupyter": {
          "source_hidden": false,
          "outputs_hidden": false
        },
        "nteract": {
          "transient": {
            "deleting": false
          }
        },
        "gather": {
          "logged": 1616550183974
        }
      }
    },
    {
      "cell_type": "markdown",
      "source": [
        "Veiw the files that were created for the best run:"
      ],
      "metadata": {
        "nteract": {
          "transient": {
            "deleting": false
          }
        }
      }
    },
    {
      "cell_type": "code",
      "source": [
        "print(remote_run.get_file_names())"
      ],
      "outputs": [
        {
          "output_type": "stream",
          "name": "stdout",
          "text": [
            "['automl_driver.py', 'definition.json', 'definition_original.json', 'outputs/verifier_results.json']\n"
          ]
        }
      ],
      "execution_count": 12,
      "metadata": {
        "collapsed": true,
        "jupyter": {
          "source_hidden": false,
          "outputs_hidden": false
        },
        "nteract": {
          "transient": {
            "deleting": false
          }
        },
        "gather": {
          "logged": 1616550190224
        }
      }
    },
    {
      "cell_type": "markdown",
      "source": [
        "View dependencies for the best run model:"
      ],
      "metadata": {
        "nteract": {
          "transient": {
            "deleting": false
          }
        }
      }
    },
    {
      "cell_type": "code",
      "source": [
        "remote_run.get_run_sdk_dependencies()"
      ],
      "outputs": [
        {
          "output_type": "execute_result",
          "execution_count": 17,
          "data": {
            "text/plain": "{'azureml': '0.2.7',\n 'azureml-widgets': '1.24.0',\n 'azureml-train': '1.24.0',\n 'azureml-train-restclients-hyperdrive': '1.24.0',\n 'azureml-train-core': '1.24.0',\n 'azureml-train-automl': '1.22.0',\n 'azureml-train-automl-runtime': '1.22.0',\n 'azureml-train-automl-client': '1.24.0',\n 'azureml-tensorboard': '1.22.0',\n 'azureml-telemetry': '1.24.0',\n 'azureml-sdk': '1.24.0',\n 'azureml-samples': '0+unknown',\n 'azureml-pipeline': '1.24.0',\n 'azureml-pipeline-steps': '1.24.0',\n 'azureml-pipeline-core': '1.24.0',\n 'azureml-opendatasets': '1.22.0',\n 'azureml-model-management-sdk': '1.0.1b6.post1',\n 'azureml-mlflow': '1.22.0',\n 'azureml-interpret': '1.22.0',\n 'azureml-explain-model': '1.22.0',\n 'azureml-defaults': '1.22.0',\n 'azureml-dataset-runtime': '1.24.0',\n 'azureml-dataprep': '2.11.2',\n 'azureml-dataprep-rslex': '1.9.1',\n 'azureml-dataprep-native': '30.0.0',\n 'azureml-datadrift': '1.22.0',\n 'azureml-core': '1.24.0.post2',\n 'azureml-contrib-services': '1.22.0',\n 'azureml-contrib-server': '1.22.0',\n 'azureml-contrib-reinforcementlearning': '1.22.0',\n 'azureml-contrib-pipeline-steps': '1.22.0',\n 'azureml-contrib-notebook': '1.22.0',\n 'azureml-contrib-interpret': '1.22.0',\n 'azureml-contrib-gbdt': '1.22.0',\n 'azureml-contrib-fairness': '1.22.0',\n 'azureml-contrib-dataset': '1.22.0',\n 'azureml-cli-common': '1.22.0',\n 'azureml-automl-runtime': '1.22.0',\n 'azureml-automl-core': '1.24.0',\n 'azureml-accel-models': '1.22.0'}"
          },
          "metadata": {}
        }
      ],
      "execution_count": 17,
      "metadata": {
        "collapsed": true,
        "jupyter": {
          "source_hidden": false,
          "outputs_hidden": false
        },
        "nteract": {
          "transient": {
            "deleting": false
          }
        },
        "gather": {
          "logged": 1616547685651
        }
      }
    },
    {
      "cell_type": "code",
      "source": [],
      "outputs": [],
      "execution_count": null,
      "metadata": {
        "collapsed": true,
        "jupyter": {
          "source_hidden": false,
          "outputs_hidden": false
        },
        "nteract": {
          "transient": {
            "deleting": false
          }
        }
      }
    },
    {
      "cell_type": "code",
      "source": [
        "best_run, fitted_model = remote_run.get_output()"
      ],
      "outputs": [
        {
          "output_type": "stream",
          "name": "stderr",
          "text": [
            "WARNING:root:The version of the SDK does not match the version the model was trained on.\n",
            "WARNING:root:The consistency in the result may not be guaranteed.\n",
            "WARNING:root:Package:azureml-automl-core, training version:1.24.0, current version:1.22.0\n",
            "Package:azureml-automl-runtime, training version:1.24.0, current version:1.22.0\n",
            "Package:azureml-core, training version:1.24.0.post1, current version:1.22.0\n",
            "Package:azureml-dataprep, training version:2.11.2, current version:2.9.1\n",
            "Package:azureml-dataprep-native, training version:30.0.0, current version:29.0.0\n",
            "Package:azureml-dataprep-rslex, training version:1.9.1, current version:1.7.0\n",
            "Package:azureml-dataset-runtime, training version:1.24.0, current version:1.22.0\n",
            "Package:azureml-defaults, training version:1.24.0, current version:1.22.0\n",
            "Package:azureml-interpret, training version:1.24.0, current version:1.22.0\n",
            "Package:azureml-mlflow, training version:1.24.0, current version:1.22.0\n",
            "Package:azureml-pipeline-core, training version:1.24.0, current version:1.22.0\n",
            "Package:azureml-telemetry, training version:1.24.0, current version:1.22.0\n",
            "Package:azureml-train-automl-client, training version:1.24.0, current version:1.22.0.post1\n",
            "Package:azureml-train-automl-runtime, training version:1.24.0, current version:1.22.0\n",
            "WARNING:root:Please ensure the version of your local conda dependencies match the version on which your model was trained in order to properly retrieve your model.\n"
          ]
        }
      ],
      "execution_count": 13,
      "metadata": {
        "gather": {
          "logged": 1616550217058
        },
        "jupyter": {
          "outputs_hidden": false,
          "source_hidden": false
        },
        "nteract": {
          "transient": {
            "deleting": false
          }
        }
      }
    },
    {
      "cell_type": "code",
      "source": [
        "#This should give the preprocessor(s) and algorithm (estimator) used\n",
        "#best_run, model = parent_run.get_output()\n",
        "#estimator = model.steps[-1]\n",
        "estimator = fitted_model.steps[1]\n",
        "estimator"
      ],
      "outputs": [
        {
          "output_type": "execute_result",
          "execution_count": 15,
          "data": {
            "text/plain": "('prefittedsoftvotingclassifier',\n PreFittedSoftVotingClassifier(classification_labels=None,\n                               estimators=[('4',\n                                            Pipeline(memory=None,\n                                                     steps=[('standardscalerwrapper',\n                                                             <azureml.automl.runtime.shared.model_wrappers.StandardScalerWrapper object at 0x7f9cce69f9b0>),\n                                                            ('randomforestclassifier',\n                                                             RandomForestClassifier(bootstrap=False,\n                                                                                    ccp_alpha=0.0,\n                                                                                    class_weight='balanced',\n                                                                                    criterion='entropy',\n                                                                                    max_dept...\n                                                                                reg_alpha=0.0,\n                                                                                reg_lambda=0.0,\n                                                                                silent=True,\n                                                                                subsample=1.0,\n                                                                                subsample_for_bin=200000,\n                                                                                subsample_freq=0,\n                                                                                verbose=-10))],\n                                                     verbose=False))],\n                               flatten_transform=None,\n                               weights=[0.06666666666666667, 0.26666666666666666,\n                                        0.06666666666666667, 0.06666666666666667,\n                                        0.06666666666666667, 0.13333333333333333,\n                                        0.13333333333333333, 0.06666666666666667,\n                                        0.06666666666666667,\n                                        0.06666666666666667]))"
          },
          "metadata": {}
        }
      ],
      "execution_count": 15,
      "metadata": {
        "collapsed": true,
        "jupyter": {
          "source_hidden": false,
          "outputs_hidden": false
        },
        "nteract": {
          "transient": {
            "deleting": false
          }
        },
        "gather": {
          "logged": 1616550294217
        }
      }
    },
    {
      "cell_type": "code",
      "source": [
        "#fitted_model._final_estimator"
      ],
      "outputs": [],
      "execution_count": 17,
      "metadata": {
        "gather": {
          "logged": 1616550334646
        }
      }
    },
    {
      "cell_type": "markdown",
      "source": [
        "Save the best model"
      ],
      "metadata": {
        "nteract": {
          "transient": {
            "deleting": false
          }
        }
      }
    },
    {
      "cell_type": "code",
      "source": [
        "joblib.dump(value=fitted_model, filename=\"fitted_automl_model.joblib\")"
      ],
      "outputs": [
        {
          "output_type": "execute_result",
          "execution_count": 18,
          "data": {
            "text/plain": "['fitted_automl_model.joblib']"
          },
          "metadata": {}
        }
      ],
      "execution_count": 18,
      "metadata": {
        "collapsed": true,
        "jupyter": {
          "source_hidden": false,
          "outputs_hidden": false
        },
        "nteract": {
          "transient": {
            "deleting": false
          }
        },
        "gather": {
          "logged": 1616550338399
        }
      }
    },
    {
      "cell_type": "markdown",
      "source": [
        "Load the fitted model for testing"
      ],
      "metadata": {
        "nteract": {
          "transient": {
            "deleting": false
          }
        }
      }
    },
    {
      "cell_type": "code",
      "source": [
        "best_model = joblib.load('fitted_automl_model.joblib')"
      ],
      "outputs": [],
      "execution_count": 35,
      "metadata": {
        "collapsed": true,
        "jupyter": {
          "source_hidden": false,
          "outputs_hidden": false
        },
        "nteract": {
          "transient": {
            "deleting": false
          }
        },
        "gather": {
          "logged": 1616551999863
        }
      }
    },
    {
      "cell_type": "markdown",
      "source": [
        "Fetch sample dataset, isolate Target in vector 'y'"
      ],
      "metadata": {
        "nteract": {
          "transient": {
            "deleting": false
          }
        }
      }
    },
    {
      "cell_type": "code",
      "source": [
        "sample = ds.loc[df['Target']==1].sample(100)\n",
        "y = sample.pop('Target')\n",
        "sample.head()"
      ],
      "outputs": [
        {
          "output_type": "execute_result",
          "execution_count": 34,
          "data": {
            "text/plain": "   Column2  EQTA  EQTL  LLRTA  LLRGL  OEXTA  INCEMP   ROA   ROE  TDTL  TDTA  \\\n47   24067 -0.00 -0.00   0.03   0.05   0.01  -23.04 -0.01  4.25  1.45  0.80   \n76   57814 -0.01 -0.01   0.04   0.04   0.01 -410.83 -0.04  4.34  1.06  0.93   \n61   34658  0.01  0.01   0.03   0.04   0.01  -79.40 -0.02 -3.76  1.19  0.99   \n41   17792  0.02  0.02   0.03   0.05   0.02  -25.44 -0.01 -0.84  1.28  0.84   \n15   22469  0.02  0.03   0.02   0.02   0.04 -158.00 -0.05 -2.16  1.29  0.95   \n\n    TATA  \n47  0.27  \n76  0.10  \n61  0.01  \n41  0.07  \n15  0.09  ",
            "text/html": "<div>\n<style scoped>\n    .dataframe tbody tr th:only-of-type {\n        vertical-align: middle;\n    }\n\n    .dataframe tbody tr th {\n        vertical-align: top;\n    }\n\n    .dataframe thead th {\n        text-align: right;\n    }\n</style>\n<table border=\"1\" class=\"dataframe\">\n  <thead>\n    <tr style=\"text-align: right;\">\n      <th></th>\n      <th>Column2</th>\n      <th>EQTA</th>\n      <th>EQTL</th>\n      <th>LLRTA</th>\n      <th>LLRGL</th>\n      <th>OEXTA</th>\n      <th>INCEMP</th>\n      <th>ROA</th>\n      <th>ROE</th>\n      <th>TDTL</th>\n      <th>TDTA</th>\n      <th>TATA</th>\n    </tr>\n  </thead>\n  <tbody>\n    <tr>\n      <th>47</th>\n      <td>24067</td>\n      <td>-0.00</td>\n      <td>-0.00</td>\n      <td>0.03</td>\n      <td>0.05</td>\n      <td>0.01</td>\n      <td>-23.04</td>\n      <td>-0.01</td>\n      <td>4.25</td>\n      <td>1.45</td>\n      <td>0.80</td>\n      <td>0.27</td>\n    </tr>\n    <tr>\n      <th>76</th>\n      <td>57814</td>\n      <td>-0.01</td>\n      <td>-0.01</td>\n      <td>0.04</td>\n      <td>0.04</td>\n      <td>0.01</td>\n      <td>-410.83</td>\n      <td>-0.04</td>\n      <td>4.34</td>\n      <td>1.06</td>\n      <td>0.93</td>\n      <td>0.10</td>\n    </tr>\n    <tr>\n      <th>61</th>\n      <td>34658</td>\n      <td>0.01</td>\n      <td>0.01</td>\n      <td>0.03</td>\n      <td>0.04</td>\n      <td>0.01</td>\n      <td>-79.40</td>\n      <td>-0.02</td>\n      <td>-3.76</td>\n      <td>1.19</td>\n      <td>0.99</td>\n      <td>0.01</td>\n    </tr>\n    <tr>\n      <th>41</th>\n      <td>17792</td>\n      <td>0.02</td>\n      <td>0.02</td>\n      <td>0.03</td>\n      <td>0.05</td>\n      <td>0.02</td>\n      <td>-25.44</td>\n      <td>-0.01</td>\n      <td>-0.84</td>\n      <td>1.28</td>\n      <td>0.84</td>\n      <td>0.07</td>\n    </tr>\n    <tr>\n      <th>15</th>\n      <td>22469</td>\n      <td>0.02</td>\n      <td>0.03</td>\n      <td>0.02</td>\n      <td>0.02</td>\n      <td>0.04</td>\n      <td>-158.00</td>\n      <td>-0.05</td>\n      <td>-2.16</td>\n      <td>1.29</td>\n      <td>0.95</td>\n      <td>0.09</td>\n    </tr>\n  </tbody>\n</table>\n</div>"
          },
          "metadata": {}
        }
      ],
      "execution_count": 34,
      "metadata": {
        "collapsed": true,
        "jupyter": {
          "source_hidden": false,
          "outputs_hidden": false
        },
        "nteract": {
          "transient": {
            "deleting": false
          }
        },
        "gather": {
          "logged": 1616551996113
        }
      }
    },
    {
      "cell_type": "markdown",
      "source": [
        "Run the model to produce predictions"
      ],
      "metadata": {
        "nteract": {
          "transient": {
            "deleting": false
          }
        }
      }
    },
    {
      "cell_type": "code",
      "source": [
        "print(best_model.predict(sample))"
      ],
      "outputs": [
        {
          "output_type": "stream",
          "name": "stdout",
          "text": [
            "[1 1 1 1 1 1 1 1 1 1 1 1 1 1 1 1 1 1 1 1 1 1 1 1 1 1 1 1 1 1 1 1 1 1 1 1 1\n",
            " 1 1 1 1 1 1 1 0 1 1 1 1 1 1 1 1 1 1 1 1 1 1 1 1 1 1 1 1 1 1 1 1 1 1 1 1 1\n",
            " 1 1 1 1 1 1 1 1 1 1 1 1 1 1 1 1 1 1 1 1 1 1 1 1 1 1]\n"
          ]
        }
      ],
      "execution_count": 36,
      "metadata": {
        "collapsed": true,
        "jupyter": {
          "source_hidden": false,
          "outputs_hidden": false
        },
        "nteract": {
          "transient": {
            "deleting": false
          }
        },
        "gather": {
          "logged": 1616552006431
        }
      }
    },
    {
      "cell_type": "markdown",
      "source": [
        "## Model Deployment\n",
        "\n",
        "### Register the model"
      ],
      "metadata": {}
    },
    {
      "cell_type": "code",
      "source": [
        "automl_model = remote_run.register_model(model_name='automl_model.pkl')"
      ],
      "outputs": [],
      "execution_count": 51,
      "metadata": {
        "gather": {
          "logged": 1616552312685
        },
        "jupyter": {
          "outputs_hidden": false,
          "source_hidden": false
        },
        "nteract": {
          "transient": {
            "deleting": false
          }
        }
      }
    },
    {
      "cell_type": "code",
      "source": [
        "#remote_run.get_file_names()"
      ],
      "outputs": [],
      "execution_count": 41,
      "metadata": {
        "collapsed": true,
        "jupyter": {
          "source_hidden": false,
          "outputs_hidden": false
        },
        "nteract": {
          "transient": {
            "deleting": false
          }
        },
        "gather": {
          "logged": 1616552102174
        }
      }
    },
    {
      "cell_type": "code",
      "source": [
        "# Download the conda environment file produced by AutoML and create an environment\n",
        "#from azureml.core.environment import Environment\n",
        "#remote_run.download_file('outputs/conda_env_v_1_0_0.yml', 'conda_env.yml')\n",
        "#myenv = Environment.from_conda_specification(name = 'myenv',file_path = 'conda_env.yml')"
      ],
      "outputs": [],
      "execution_count": 39,
      "metadata": {
        "collapsed": true,
        "jupyter": {
          "source_hidden": false,
          "outputs_hidden": false
        },
        "nteract": {
          "transient": {
            "deleting": false
          }
        },
        "gather": {
          "logged": 1616552088313
        }
      }
    },
    {
      "cell_type": "markdown",
      "source": [
        "### Create inference config"
      ],
      "metadata": {}
    },
    {
      "cell_type": "code",
      "source": [
        "environment = best_run.get_environment()\n",
        "entry_script='inference/scoring.py'\n",
        "best_run.download_file('outputs/scoring_file_v_1_0_0.py', entry_script)\n",
        "inference_config = InferenceConfig(entry_script = entry_script, environment = environment) "
      ],
      "outputs": [],
      "execution_count": 52,
      "metadata": {
        "gather": {
          "logged": 1616552323847
        }
      }
    },
    {
      "cell_type": "markdown",
      "source": [
        "### Deploy the model as web service"
      ],
      "metadata": {}
    },
    {
      "cell_type": "code",
      "source": [
        "deployment_config = AciWebservice.deploy_configuration(cpu_cores = 1, \n",
        "                                                    memory_gb = 1, \n",
        "                                                    auth_enabled= True, \n",
        "                                                    enable_app_insights= True)\n",
        "\n",
        "service = Model.deploy(ws, \"aciservice\", [automl_model], inference_config, deployment_config)\n",
        "service.wait_for_deployment(show_output = True)\n"
      ],
      "outputs": [
        {
          "output_type": "error",
          "ename": "WebserviceException",
          "evalue": "WebserviceException:\n\tMessage: Service aciservice with the same name already exists, please use a different service name or delete the existing service.\n\tInnerException None\n\tErrorResponse \n{\n    \"error\": {\n        \"message\": \"Service aciservice with the same name already exists, please use a different service name or delete the existing service.\"\n    }\n}",
          "traceback": [
            "\u001b[0;31m---------------------------------------------------------------------------\u001b[0m",
            "\u001b[0;31mWebserviceException\u001b[0m                       Traceback (most recent call last)",
            "\u001b[0;32m<ipython-input-53-564602193650>\u001b[0m in \u001b[0;36m<module>\u001b[0;34m\u001b[0m\n\u001b[1;32m      4\u001b[0m                                                     enable_app_insights= True)\n\u001b[1;32m      5\u001b[0m \u001b[0;34m\u001b[0m\u001b[0m\n\u001b[0;32m----> 6\u001b[0;31m \u001b[0mservice\u001b[0m \u001b[0;34m=\u001b[0m \u001b[0mModel\u001b[0m\u001b[0;34m.\u001b[0m\u001b[0mdeploy\u001b[0m\u001b[0;34m(\u001b[0m\u001b[0mws\u001b[0m\u001b[0;34m,\u001b[0m \u001b[0;34m\"aciservice\"\u001b[0m\u001b[0;34m,\u001b[0m \u001b[0;34m[\u001b[0m\u001b[0mautoml_model\u001b[0m\u001b[0;34m]\u001b[0m\u001b[0;34m,\u001b[0m \u001b[0minference_config\u001b[0m\u001b[0;34m,\u001b[0m \u001b[0mdeployment_config\u001b[0m\u001b[0;34m)\u001b[0m\u001b[0;34m\u001b[0m\u001b[0;34m\u001b[0m\u001b[0m\n\u001b[0m\u001b[1;32m      7\u001b[0m \u001b[0mservice\u001b[0m\u001b[0;34m.\u001b[0m\u001b[0mwait_for_deployment\u001b[0m\u001b[0;34m(\u001b[0m\u001b[0mshow_output\u001b[0m \u001b[0;34m=\u001b[0m \u001b[0;32mTrue\u001b[0m\u001b[0;34m)\u001b[0m\u001b[0;34m\u001b[0m\u001b[0;34m\u001b[0m\u001b[0m\n",
            "\u001b[0;32m/anaconda/envs/azureml_py36/lib/python3.6/site-packages/azureml/core/model.py\u001b[0m in \u001b[0;36mdeploy\u001b[0;34m(workspace, name, models, inference_config, deployment_config, deployment_target, overwrite)\u001b[0m\n\u001b[1;32m   1622\u001b[0m         \u001b[0;32mif\u001b[0m \u001b[0muse_env_path\u001b[0m\u001b[0;34m:\u001b[0m\u001b[0;34m\u001b[0m\u001b[0;34m\u001b[0m\u001b[0m\n\u001b[1;32m   1623\u001b[0m             return Model._deploy_with_environment(workspace, name, models, inference_config, deployment_config,\n\u001b[0;32m-> 1624\u001b[0;31m                                                   deployment_target, overwrite)\n\u001b[0m\u001b[1;32m   1625\u001b[0m \u001b[0;34m\u001b[0m\u001b[0m\n\u001b[1;32m   1626\u001b[0m         \u001b[0;31m# ContainerImage-based webservice.\u001b[0m\u001b[0;34m\u001b[0m\u001b[0;34m\u001b[0m\u001b[0;34m\u001b[0m\u001b[0m\n",
            "\u001b[0;32m/anaconda/envs/azureml_py36/lib/python3.6/site-packages/azureml/core/model.py\u001b[0m in \u001b[0;36m_deploy_with_environment\u001b[0;34m(workspace, name, models, inference_config, deployment_config, deployment_target, overwrite)\u001b[0m\n\u001b[1;32m   1822\u001b[0m \u001b[0;34m\u001b[0m\u001b[0m\n\u001b[1;32m   1823\u001b[0m         return Model._deploy_with_environment_image_request(workspace, name, environment_image_request,\n\u001b[0;32m-> 1824\u001b[0;31m                                                             deployment_config, deployment_target, overwrite)\n\u001b[0m\u001b[1;32m   1825\u001b[0m \u001b[0;34m\u001b[0m\u001b[0m\n\u001b[1;32m   1826\u001b[0m     \u001b[0;34m@\u001b[0m\u001b[0mstaticmethod\u001b[0m\u001b[0;34m\u001b[0m\u001b[0;34m\u001b[0m\u001b[0m\n",
            "\u001b[0;32m/anaconda/envs/azureml_py36/lib/python3.6/site-packages/azureml/core/model.py\u001b[0m in \u001b[0;36m_deploy_with_environment_image_request\u001b[0;34m(workspace, name, environment_image_request, deployment_config, deployment_target, overwrite)\u001b[0m\n\u001b[1;32m   1866\u001b[0m             \u001b[0mwebservice_payload\u001b[0m\u001b[0;34m[\u001b[0m\u001b[0;34m'computeName'\u001b[0m\u001b[0;34m]\u001b[0m \u001b[0;34m=\u001b[0m \u001b[0mdeployment_target\u001b[0m\u001b[0;34m.\u001b[0m\u001b[0mname\u001b[0m\u001b[0;34m\u001b[0m\u001b[0;34m\u001b[0m\u001b[0m\n\u001b[1;32m   1867\u001b[0m \u001b[0;34m\u001b[0m\u001b[0m\n\u001b[0;32m-> 1868\u001b[0;31m         \u001b[0;32mreturn\u001b[0m \u001b[0mWebservice\u001b[0m\u001b[0;34m.\u001b[0m\u001b[0m_deploy_webservice\u001b[0m\u001b[0;34m(\u001b[0m\u001b[0mworkspace\u001b[0m\u001b[0;34m,\u001b[0m \u001b[0mname\u001b[0m\u001b[0;34m,\u001b[0m \u001b[0mwebservice_payload\u001b[0m\u001b[0;34m,\u001b[0m \u001b[0moverwrite\u001b[0m\u001b[0;34m,\u001b[0m \u001b[0mwebservice_class\u001b[0m\u001b[0;34m)\u001b[0m\u001b[0;34m\u001b[0m\u001b[0;34m\u001b[0m\u001b[0m\n\u001b[0m\u001b[1;32m   1869\u001b[0m \u001b[0;34m\u001b[0m\u001b[0m\n\u001b[1;32m   1870\u001b[0m     \u001b[0;32mdef\u001b[0m \u001b[0mget_sas_urls\u001b[0m\u001b[0;34m(\u001b[0m\u001b[0mself\u001b[0m\u001b[0;34m)\u001b[0m\u001b[0;34m:\u001b[0m\u001b[0;34m\u001b[0m\u001b[0;34m\u001b[0m\u001b[0m\n",
            "\u001b[0;32m/anaconda/envs/azureml_py36/lib/python3.6/site-packages/azureml/core/webservice/webservice.py\u001b[0m in \u001b[0;36m_deploy_webservice\u001b[0;34m(workspace, name, webservice_payload, overwrite, webservice_class)\u001b[0m\n\u001b[1;32m    822\u001b[0m         \"\"\"\n\u001b[1;32m    823\u001b[0m         \u001b[0;31m# TODO Remove check_for_existing_webservice() later, this check has already included in common validation.\u001b[0m\u001b[0;34m\u001b[0m\u001b[0;34m\u001b[0m\u001b[0;34m\u001b[0m\u001b[0m\n\u001b[0;32m--> 824\u001b[0;31m         \u001b[0mWebservice\u001b[0m\u001b[0;34m.\u001b[0m\u001b[0mcheck_for_existing_webservice\u001b[0m\u001b[0;34m(\u001b[0m\u001b[0mworkspace\u001b[0m\u001b[0;34m,\u001b[0m \u001b[0mname\u001b[0m\u001b[0;34m,\u001b[0m \u001b[0moverwrite\u001b[0m\u001b[0;34m)\u001b[0m\u001b[0;34m\u001b[0m\u001b[0;34m\u001b[0m\u001b[0m\n\u001b[0m\u001b[1;32m    825\u001b[0m         Webservice._check_for_webservice(workspace, name, Webservice._get_deploy_compute_type(webservice_payload),\n\u001b[1;32m    826\u001b[0m                                          webservice_payload, SERVICE_REQUEST_OPERATION_CREATE)\n",
            "\u001b[0;32m/anaconda/envs/azureml_py36/lib/python3.6/site-packages/azureml/core/webservice/webservice.py\u001b[0m in \u001b[0;36mcheck_for_existing_webservice\u001b[0;34m(workspace, name, overwrite, request_func, check_func)\u001b[0m\n\u001b[1;32m    665\u001b[0m                 \u001b[0;32mreturn\u001b[0m \u001b[0mWebservice\u001b[0m\u001b[0;34m.\u001b[0m\u001b[0m_check_validate_error\u001b[0m\u001b[0;34m(\u001b[0m\u001b[0mcontent\u001b[0m\u001b[0;34m)\u001b[0m\u001b[0;34m\u001b[0m\u001b[0;34m\u001b[0m\u001b[0m\n\u001b[1;32m    666\u001b[0m \u001b[0;34m\u001b[0m\u001b[0m\n\u001b[0;32m--> 667\u001b[0;31m         \u001b[0mWebservice\u001b[0m\u001b[0;34m.\u001b[0m\u001b[0m_run_validate_framework\u001b[0m\u001b[0;34m(\u001b[0m\u001b[0mrequest_func\u001b[0m\u001b[0;34m,\u001b[0m \u001b[0mcheck_func\u001b[0m\u001b[0;34m)\u001b[0m\u001b[0;34m\u001b[0m\u001b[0;34m\u001b[0m\u001b[0m\n\u001b[0m\u001b[1;32m    668\u001b[0m \u001b[0;34m\u001b[0m\u001b[0m\n\u001b[1;32m    669\u001b[0m     \u001b[0;34m@\u001b[0m\u001b[0mstaticmethod\u001b[0m\u001b[0;34m\u001b[0m\u001b[0;34m\u001b[0m\u001b[0m\n",
            "\u001b[0;32m/anaconda/envs/azureml_py36/lib/python3.6/site-packages/azureml/core/webservice/webservice.py\u001b[0m in \u001b[0;36m_run_validate_framework\u001b[0;34m(request_func, check_func)\u001b[0m\n\u001b[1;32m    636\u001b[0m             \u001b[0;32mreturn\u001b[0m\u001b[0;34m\u001b[0m\u001b[0;34m\u001b[0m\u001b[0m\n\u001b[1;32m    637\u001b[0m \u001b[0;34m\u001b[0m\u001b[0m\n\u001b[0;32m--> 638\u001b[0;31m         \u001b[0;32mraise\u001b[0m \u001b[0mWebserviceException\u001b[0m\u001b[0;34m(\u001b[0m\u001b[0merror\u001b[0m\u001b[0;34m)\u001b[0m\u001b[0;34m\u001b[0m\u001b[0;34m\u001b[0m\u001b[0m\n\u001b[0m\u001b[1;32m    639\u001b[0m \u001b[0;34m\u001b[0m\u001b[0m\n\u001b[1;32m    640\u001b[0m     \u001b[0;34m@\u001b[0m\u001b[0mstaticmethod\u001b[0m\u001b[0;34m\u001b[0m\u001b[0;34m\u001b[0m\u001b[0m\n",
            "\u001b[0;31mWebserviceException\u001b[0m: WebserviceException:\n\tMessage: Service aciservice with the same name already exists, please use a different service name or delete the existing service.\n\tInnerException None\n\tErrorResponse \n{\n    \"error\": {\n        \"message\": \"Service aciservice with the same name already exists, please use a different service name or delete the existing service.\"\n    }\n}"
          ]
        }
      ],
      "execution_count": 53,
      "metadata": {
        "gather": {
          "logged": 1616514265047
        }
      }
    },
    {
      "cell_type": "markdown",
      "source": [
        "Check status of the web service"
      ],
      "metadata": {
        "nteract": {
          "transient": {
            "deleting": false
          }
        }
      }
    },
    {
      "cell_type": "code",
      "source": [
        "print(\"Checking service status: {}\".format(aci_service.state))"
      ],
      "outputs": [
        {
          "output_type": "error",
          "ename": "NameError",
          "evalue": "name 'aci_service' is not defined",
          "traceback": [
            "\u001b[0;31m---------------------------------------------------------------------------\u001b[0m",
            "\u001b[0;31mNameError\u001b[0m                                 Traceback (most recent call last)",
            "\u001b[0;32m<ipython-input-50-d3d8b6424532>\u001b[0m in \u001b[0;36m<module>\u001b[0;34m\u001b[0m\n\u001b[0;32m----> 1\u001b[0;31m \u001b[0mprint\u001b[0m\u001b[0;34m(\u001b[0m\u001b[0;34m\"Checking service status: {}\"\u001b[0m\u001b[0;34m.\u001b[0m\u001b[0mformat\u001b[0m\u001b[0;34m(\u001b[0m\u001b[0maci_service\u001b[0m\u001b[0;34m.\u001b[0m\u001b[0mstate\u001b[0m\u001b[0;34m)\u001b[0m\u001b[0;34m)\u001b[0m\u001b[0;34m\u001b[0m\u001b[0;34m\u001b[0m\u001b[0m\n\u001b[0m",
            "\u001b[0;31mNameError\u001b[0m: name 'aci_service' is not defined"
          ]
        }
      ],
      "execution_count": 50,
      "metadata": {
        "gather": {
          "logged": 1616514374431
        }
      }
    },
    {
      "cell_type": "markdown",
      "source": [
        "If 'Healthy', get URIs"
      ],
      "metadata": {
        "nteract": {
          "transient": {
            "deleting": false
          }
        }
      }
    },
    {
      "cell_type": "code",
      "source": [
        "print(\"Scoring URI:\\n {}\".format(service.scoring_uri))\n",
        "print(\"Swagger URI:\\n {}\".format(service.swagger_uri))"
      ],
      "outputs": [
        {
          "output_type": "stream",
          "name": "stdout",
          "text": [
            "Scoring URI:\n",
            " http://ef644095-a149-4493-ab5e-c62cf2f7994a.eastus.azurecontainer.io/score\n",
            "Swagger URI:\n",
            " http://ef644095-a149-4493-ab5e-c62cf2f7994a.eastus.azurecontainer.io/swagger.json\n"
          ]
        }
      ],
      "execution_count": 215,
      "metadata": {
        "collapsed": true,
        "jupyter": {
          "source_hidden": false,
          "outputs_hidden": false
        },
        "nteract": {
          "transient": {
            "deleting": false
          }
        },
        "gather": {
          "logged": 1616514380896
        }
      }
    },
    {
      "cell_type": "code",
      "source": [
        "primary, secondary = service.get_keys()\n",
        "print(\"Primary key: {},\\nSecondary key: {}\".format(primary, secondary)) "
      ],
      "outputs": [
        {
          "output_type": "stream",
          "name": "stdout",
          "text": [
            "Primary key: Qz2GKwMhod2SzlPx598wMPY5L8cRikRu,\n",
            "Secondary key: XG4NnibDYmGRDNJouX4pfRKcJ9KpRxN9\n"
          ]
        }
      ],
      "execution_count": 216,
      "metadata": {
        "collapsed": true,
        "jupyter": {
          "source_hidden": false,
          "outputs_hidden": false
        },
        "nteract": {
          "transient": {
            "deleting": false
          }
        },
        "gather": {
          "logged": 1616514386860
        }
      }
    },
    {
      "cell_type": "markdown",
      "source": [
        "Take a small sample of feautures of the failed banks (`'Target'=1`)"
      ],
      "metadata": {
        "collapsed": true,
        "gather": {
          "logged": 1598431657736
        },
        "jupyter": {
          "outputs_hidden": false,
          "source_hidden": false
        },
        "nteract": {
          "transient": {
            "deleting": false
          }
        }
      }
    },
    {
      "cell_type": "code",
      "source": [
        "sample = ds.loc[df['Target']==1].sample(5)\n",
        "y = sample.pop('Target')"
      ],
      "outputs": [],
      "execution_count": 225,
      "metadata": {
        "gather": {
          "logged": 1616514524390
        },
        "jupyter": {
          "outputs_hidden": false,
          "source_hidden": false
        },
        "nteract": {
          "transient": {
            "deleting": false
          }
        }
      }
    },
    {
      "cell_type": "markdown",
      "source": [
        "Use this  sample to create JSON payload and headers"
      ],
      "metadata": {
        "nteract": {
          "transient": {
            "deleting": false
          }
        }
      }
    },
    {
      "cell_type": "code",
      "source": [
        "json_payload = json.dumps({'data': sample.to_dict(orient='records')})\n",
        "headers = {\"Content-Type\": \"application/json\"}\n",
        "headers[\"Authorization\"] = \"Bearer {}\".format(primary) #{primary}\""
      ],
      "outputs": [],
      "execution_count": 226,
      "metadata": {
        "collapsed": true,
        "jupyter": {
          "source_hidden": false,
          "outputs_hidden": false
        },
        "nteract": {
          "transient": {
            "deleting": false
          }
        },
        "gather": {
          "logged": 1616514527698
        }
      }
    },
    {
      "cell_type": "markdown",
      "source": [
        "Post payload with headers and get a response "
      ],
      "metadata": {
        "nteract": {
          "transient": {
            "deleting": false
          }
        }
      }
    },
    {
      "cell_type": "code",
      "source": [
        "resp = requests.post(service.scoring_uri, json_payload, headers=headers)\n",
        "print('\\nPredicted Values:', resp.json())\n",
        "print(f'\\nTrue Values: ', list(y.values))"
      ],
      "outputs": [
        {
          "output_type": "stream",
          "name": "stdout",
          "text": [
            "\n",
            "Predicted Values: {\"result\": [1, 1, 1, 1, 1]}\n",
            "\n",
            "True Values:  [1, 1, 1, 1, 1]\n"
          ]
        }
      ],
      "execution_count": 235,
      "metadata": {
        "collapsed": true,
        "jupyter": {
          "source_hidden": false,
          "outputs_hidden": false
        },
        "nteract": {
          "transient": {
            "deleting": false
          }
        },
        "gather": {
          "logged": 1616514644669
        }
      }
    },
    {
      "cell_type": "code",
      "source": [
        "print(json_payload)"
      ],
      "outputs": [
        {
          "output_type": "stream",
          "name": "stdout",
          "text": [
            "{\"data\": [{\"Column2\": \"182\", \"EQTA\": 0.015013920413251787, \"EQTL\": 0.02451152194865504, \"LLRTA\": 0.022838422576785894, \"LLRGL\": 0.0372856975963083, \"OEXTA\": 0.020825832709057773, \"INCEMP\": -78.41095890410959, \"ROA\": -0.025600143117501705, \"ROE\": -1.7050938337801609, \"TDTL\": 1.4536822045036362, \"TDTA\": 0.8904167179131679, \"TATA\": 0.2226326911680848}, {\"Column2\": \"18117\", \"EQTA\": 0.026934538114005577, \"EQTL\": 0.0378484979468338, \"LLRTA\": 0.044843306549340274, \"LLRGL\": 0.06301395586135548, \"OEXTA\": 0.013856658624640118, \"INCEMP\": -260.1124694376528, \"ROA\": -0.033529420107377604, \"ROE\": -1.2448485273984624, \"TDTL\": 1.0720831399448, \"TDTA\": 0.7629381814514413, \"TATA\": 0.17889511695081653}, {\"Column2\": \"35078\", \"EQTA\": 0.013828040714855293, \"EQTL\": 0.016965539467323498, \"LLRTA\": 0.012092499648201135, \"LLRGL\": 0.014836214635943003, \"OEXTA\": 0.043895117031755713, \"INCEMP\": -166.67857142857142, \"ROA\": -0.04378254139499976, \"ROE\": -3.166214382632293, \"TDTL\": 1.0588614442577289, \"TDTA\": 0.8630423565833294, \"TATA\": 0.07777100239223228}, {\"Column2\": \"58072\", \"EQTA\": 0.00593671005569599, \"EQTL\": 0.007005383996534439, \"LLRTA\": 0.022435729344759226, \"LLRGL\": 0.026474410545207005, \"OEXTA\": 0.033789949548453414, \"INCEMP\": -151.1, \"ROA\": -0.023773062440344456, \"ROE\": -4.004416961130742, \"TDTL\": 1.1674237267157621, \"TDTA\": 0.9893328018963907, \"TATA\": 0.0951656719705472}, {\"Column2\": \"33493\", \"EQTA\": 0.02833014992542976, \"EQTL\": 0.033999093305177384, \"LLRTA\": 0.036527970381224, \"LLRGL\": 0.04383732089342803, \"OEXTA\": 0.008662249143096365, \"INCEMP\": -25.584615384615386, \"ROA\": -0.0027195243203642166, \"ROE\": -0.09599399676749018, \"TDTL\": 0.8972863919237435, \"TDTA\": 0.7476745859389309, \"TATA\": 0.07831019911562312}]}\n"
          ]
        }
      ],
      "execution_count": 236,
      "metadata": {
        "collapsed": true,
        "jupyter": {
          "source_hidden": false,
          "outputs_hidden": false
        },
        "nteract": {
          "transient": {
            "deleting": false
          }
        },
        "gather": {
          "logged": 1616514696346
        }
      }
    },
    {
      "cell_type": "code",
      "source": [
        "# convert the sample records to a json data file\n",
        "scoring_json = json.dumps({'data': sample.to_dict(orient='records')})\n",
        "print(f'{scoring_json}')\n",
        "\n",
        "# Set the content type\n",
        "headers = {\"Content-Type\": \"application/json\"}\n",
        "\n",
        "# set the authorization header\n",
        "headers[\"Authorization\"] = f\"Bearer {primary}\"\n",
        "\n",
        "# post a request to the scoring uri\n",
        "resp = requests.post(service.scoring_uri, scoring_json, headers=headers)\n",
        "\n",
        "# print the scoring results\n",
        "print('\\n', resp.json())\n",
        "\n",
        "# compare the scoring results with the corresponding y label values\n",
        "print(f'\\nTrue Values: {list(y.values)}')"
      ],
      "outputs": [
        {
          "output_type": "stream",
          "name": "stdout",
          "text": [
            "{\"data\": [{\"Column2\": \"182\", \"EQTA\": 0.015013920413251787, \"EQTL\": 0.02451152194865504, \"LLRTA\": 0.022838422576785894, \"LLRGL\": 0.0372856975963083, \"OEXTA\": 0.020825832709057773, \"INCEMP\": -78.41095890410959, \"ROA\": -0.025600143117501705, \"ROE\": -1.7050938337801609, \"TDTL\": 1.4536822045036362, \"TDTA\": 0.8904167179131679, \"TATA\": 0.2226326911680848}, {\"Column2\": \"18117\", \"EQTA\": 0.026934538114005577, \"EQTL\": 0.0378484979468338, \"LLRTA\": 0.044843306549340274, \"LLRGL\": 0.06301395586135548, \"OEXTA\": 0.013856658624640118, \"INCEMP\": -260.1124694376528, \"ROA\": -0.033529420107377604, \"ROE\": -1.2448485273984624, \"TDTL\": 1.0720831399448, \"TDTA\": 0.7629381814514413, \"TATA\": 0.17889511695081653}, {\"Column2\": \"35078\", \"EQTA\": 0.013828040714855293, \"EQTL\": 0.016965539467323498, \"LLRTA\": 0.012092499648201135, \"LLRGL\": 0.014836214635943003, \"OEXTA\": 0.043895117031755713, \"INCEMP\": -166.67857142857142, \"ROA\": -0.04378254139499976, \"ROE\": -3.166214382632293, \"TDTL\": 1.0588614442577289, \"TDTA\": 0.8630423565833294, \"TATA\": 0.07777100239223228}, {\"Column2\": \"58072\", \"EQTA\": 0.00593671005569599, \"EQTL\": 0.007005383996534439, \"LLRTA\": 0.022435729344759226, \"LLRGL\": 0.026474410545207005, \"OEXTA\": 0.033789949548453414, \"INCEMP\": -151.1, \"ROA\": -0.023773062440344456, \"ROE\": -4.004416961130742, \"TDTL\": 1.1674237267157621, \"TDTA\": 0.9893328018963907, \"TATA\": 0.0951656719705472}, {\"Column2\": \"33493\", \"EQTA\": 0.02833014992542976, \"EQTL\": 0.033999093305177384, \"LLRTA\": 0.036527970381224, \"LLRGL\": 0.04383732089342803, \"OEXTA\": 0.008662249143096365, \"INCEMP\": -25.584615384615386, \"ROA\": -0.0027195243203642166, \"ROE\": -0.09599399676749018, \"TDTL\": 0.8972863919237435, \"TDTA\": 0.7476745859389309, \"TATA\": 0.07831019911562312}]}\n",
            "\n",
            " {\"result\": [1, 1, 1, 1, 1]}\n",
            "\n",
            "True Values: [1, 1, 1, 1, 1]\n"
          ]
        }
      ],
      "execution_count": 229,
      "metadata": {
        "gather": {
          "logged": 1616514537736
        }
      }
    },
    {
      "cell_type": "code",
      "source": [],
      "outputs": [],
      "execution_count": null,
      "metadata": {
        "collapsed": true,
        "jupyter": {
          "source_hidden": false,
          "outputs_hidden": false
        },
        "nteract": {
          "transient": {
            "deleting": false
          }
        },
        "gather": {
          "logged": 1616453411852
        }
      }
    },
    {
      "cell_type": "code",
      "source": [],
      "outputs": [],
      "execution_count": null,
      "metadata": {
        "collapsed": true,
        "jupyter": {
          "source_hidden": false,
          "outputs_hidden": false
        },
        "nteract": {
          "transient": {
            "deleting": false
          }
        }
      }
    },
    {
      "cell_type": "code",
      "source": [
        "aci_service.delete()"
      ],
      "outputs": [
        {
          "output_type": "error",
          "ename": "NameError",
          "evalue": "name 'aci_service' is not defined",
          "traceback": [
            "\u001b[0;31m---------------------------------------------------------------------------\u001b[0m",
            "\u001b[0;31mNameError\u001b[0m                                 Traceback (most recent call last)",
            "\u001b[0;32m<ipython-input-49-e934b73d8296>\u001b[0m in \u001b[0;36m<module>\u001b[0;34m\u001b[0m\n\u001b[0;32m----> 1\u001b[0;31m \u001b[0maci_service\u001b[0m\u001b[0;34m.\u001b[0m\u001b[0mdelete\u001b[0m\u001b[0;34m(\u001b[0m\u001b[0;34m)\u001b[0m\u001b[0;34m\u001b[0m\u001b[0;34m\u001b[0m\u001b[0m\n\u001b[0m",
            "\u001b[0;31mNameError\u001b[0m: name 'aci_service' is not defined"
          ]
        }
      ],
      "execution_count": 49,
      "metadata": {
        "collapsed": true,
        "jupyter": {
          "source_hidden": false,
          "outputs_hidden": false
        },
        "nteract": {
          "transient": {
            "deleting": false
          }
        },
        "gather": {
          "logged": 1616454181026
        }
      }
    },
    {
      "cell_type": "markdown",
      "source": [],
      "metadata": {
        "nteract": {
          "transient": {
            "deleting": false
          }
        }
      }
    },
    {
      "cell_type": "code",
      "source": [],
      "outputs": [],
      "execution_count": null,
      "metadata": {
        "collapsed": true,
        "jupyter": {
          "source_hidden": false,
          "outputs_hidden": false
        },
        "nteract": {
          "transient": {
            "deleting": false
          }
        }
      }
    },
    {
      "cell_type": "code",
      "source": [
        "# another way to test the scoring uri\n",
        "print(\"Prediction: {}\".format(service.run(scoring_json)))\n",
        "print(f'True Values: {list(y.values)}')\n",
        "pd.DataFrame()"
      ],
      "outputs": [
        {
          "output_type": "stream",
          "name": "stdout",
          "text": [
            "Prediction: {\"result\": [1, 1, 1, 1, 1, 1, 1, 1, 1, 1]}\n",
            "True Values: [1, 1, 1, 1, 1, 1, 1, 1, 1, 1]\n"
          ]
        }
      ],
      "execution_count": 55,
      "metadata": {
        "gather": {
          "logged": 1616449294791
        }
      }
    },
    {
      "cell_type": "code",
      "source": [],
      "outputs": [],
      "execution_count": null,
      "metadata": {
        "collapsed": true,
        "jupyter": {
          "source_hidden": false,
          "outputs_hidden": false
        },
        "nteract": {
          "transient": {
            "deleting": false
          }
        }
      }
    },
    {
      "cell_type": "code",
      "source": [],
      "outputs": [],
      "execution_count": null,
      "metadata": {
        "collapsed": true,
        "jupyter": {
          "source_hidden": false,
          "outputs_hidden": false
        },
        "nteract": {
          "transient": {
            "deleting": false
          }
        }
      }
    },
    {
      "cell_type": "markdown",
      "source": [
        "### Out-of-sample Testing"
      ],
      "metadata": {
        "nteract": {
          "transient": {
            "deleting": false
          }
        }
      }
    },
    {
      "cell_type": "code",
      "source": [],
      "outputs": [],
      "execution_count": null,
      "metadata": {
        "collapsed": true,
        "jupyter": {
          "source_hidden": false,
          "outputs_hidden": false
        },
        "nteract": {
          "transient": {
            "deleting": false
          }
        }
      }
    },
    {
      "cell_type": "code",
      "source": [
        "tn, fp, fn, tp = confusion_matrix(y_oos, predictions_oos).ravel()\n",
        "print(\"recall: {0:.5f}\".format(tp/(tp+fn)))\n",
        "print(\"precision: {0:.5f}\".format(tp/(tp+fp))) #TP / (TP + FP)"
      ],
      "outputs": [],
      "execution_count": null,
      "metadata": {
        "collapsed": true,
        "jupyter": {
          "source_hidden": false,
          "outputs_hidden": false
        },
        "nteract": {
          "transient": {
            "deleting": false
          }
        }
      }
    },
    {
      "cell_type": "markdown",
      "source": [
        "Printing the logs of the web service prior to deleting the service"
      ],
      "metadata": {
        "collapsed": true,
        "gather": {
          "logged": 1598432765711
        },
        "jupyter": {
          "outputs_hidden": false,
          "source_hidden": false
        },
        "nteract": {
          "transient": {
            "deleting": false
          }
        }
      }
    },
    {
      "cell_type": "code",
      "source": [
        "# print the logs by calling the get_logs() function of the web service\n",
        "print(f'webservice logs: \\n{service.get_logs()}\\n')"
      ],
      "outputs": [
        {
          "output_type": "stream",
          "name": "stdout",
          "text": [
            "webservice logs: \n",
            "2021-03-22T21:06:32,392545800+00:00 - iot-server/run \n",
            "2021-03-22T21:06:32,393517400+00:00 - gunicorn/run \n",
            "2021-03-22T21:06:32,423816600+00:00 - nginx/run \n",
            "/usr/sbin/nginx: /azureml-envs/azureml_2b14f450572e78de640d54eaabed5e4d/lib/libcrypto.so.1.0.0: no version information available (required by /usr/sbin/nginx)\n",
            "2021-03-22T21:06:32,432858200+00:00 - rsyslog/run \n",
            "/usr/sbin/nginx: /azureml-envs/azureml_2b14f450572e78de640d54eaabed5e4d/lib/libcrypto.so.1.0.0: no version information available (required by /usr/sbin/nginx)\n",
            "/usr/sbin/nginx: /azureml-envs/azureml_2b14f450572e78de640d54eaabed5e4d/lib/libssl.so.1.0.0: no version information available (required by /usr/sbin/nginx)\n",
            "/usr/sbin/nginx: /azureml-envs/azureml_2b14f450572e78de640d54eaabed5e4d/lib/libssl.so.1.0.0: no version information available (required by /usr/sbin/nginx)\n",
            "/usr/sbin/nginx: /azureml-envs/azureml_2b14f450572e78de640d54eaabed5e4d/lib/libssl.so.1.0.0: no version information available (required by /usr/sbin/nginx)\n",
            "rsyslogd: /azureml-envs/azureml_2b14f450572e78de640d54eaabed5e4d/lib/libuuid.so.1: no version information available (required by rsyslogd)\n",
            "EdgeHubConnectionString and IOTEDGE_IOTHUBHOSTNAME are not set. Exiting...\n",
            "2021-03-22T21:06:32,780105700+00:00 - iot-server/finish 1 0\n",
            "2021-03-22T21:06:32,782305100+00:00 - Exit code 1 is normal. Not restarting iot-server.\n",
            "Starting gunicorn 19.9.0\n",
            "Listening at: http://127.0.0.1:31311 (68)\n",
            "Using worker: sync\n",
            "worker timeout is set to 300\n",
            "Booting worker with pid: 97\n",
            "SPARK_HOME not set. Skipping PySpark Initialization.\n",
            "Generating new fontManager, this may take some time...\n",
            "Initializing logger\n",
            "2021-03-22 21:06:35,488 | root | INFO | Starting up app insights client\n",
            "2021-03-22 21:06:35,489 | root | INFO | Starting up request id generator\n",
            "2021-03-22 21:06:35,489 | root | INFO | Starting up app insight hooks\n",
            "2021-03-22 21:06:35,489 | root | INFO | Invoking user's init function\n",
            "2021-03-22 21:06:40,304 | azureml.core | WARNING | Failure while loading azureml_run_type_providers. Failed to load entrypoint automl = azureml.train.automl.run:AutoMLRun._from_run_dto with exception (cryptography 3.2 (/azureml-envs/azureml_2b14f450572e78de640d54eaabed5e4d/lib/python3.6/site-packages), Requirement.parse('cryptography<4.0.0,>=3.3.1; extra == \"crypto\"'), {'PyJWT'}).\n",
            "Failure while loading azureml_run_type_providers. Failed to load entrypoint automl = azureml.train.automl.run:AutoMLRun._from_run_dto with exception (cryptography 3.2 (/azureml-envs/azureml_2b14f450572e78de640d54eaabed5e4d/lib/python3.6/site-packages), Requirement.parse('cryptography<4.0.0,>=3.3.1; extra == \"crypto\"'), {'PyJWT'}).\n",
            "2021-03-22 21:06:40,966 | root | INFO | Users's init has completed successfully\n",
            "2021-03-22 21:06:40,982 | root | INFO | Skipping middleware: dbg_model_info as it's not enabled.\n",
            "2021-03-22 21:06:40,986 | root | INFO | Skipping middleware: dbg_resource_usage as it's not enabled.\n",
            "2021-03-22 21:06:40,989 | root | INFO | Scoring timeout is found from os.environ: 60000 ms\n",
            "2021-03-22 21:06:41,986 | root | INFO | 200\n",
            "127.0.0.1 - - [22/Mar/2021:21:06:41 +0000] \"GET /swagger.json HTTP/1.0\" 200 2692 \"-\" \"Go-http-client/1.1\"\n",
            "2021-03-22 21:06:44,534 | root | INFO | 200\n",
            "127.0.0.1 - - [22/Mar/2021:21:06:44 +0000] \"GET /swagger.json HTTP/1.0\" 200 2692 \"-\" \"Go-http-client/1.1\"\n",
            "2021-03-22 21:10:23,570 | root | INFO | Validation Request Content-Type\n",
            "2021-03-22 21:10:23,571 | root | INFO | Scoring Timer is set to 60.0 seconds\n",
            "2021-03-22 21:10:23,789 | root | INFO | 200\n",
            "127.0.0.1 - - [22/Mar/2021:21:10:23 +0000] \"POST /score HTTP/1.0\" 200 22 \"-\" \"python-requests/2.25.1\"\n",
            "2021-03-22 21:12:59,481 | root | INFO | Validation Request Content-Type\n",
            "2021-03-22 21:12:59,486 | root | INFO | Scoring Timer is set to 60.0 seconds\n",
            "2021-03-22 21:12:59,660 | root | INFO | 200\n",
            "127.0.0.1 - - [22/Mar/2021:21:12:59 +0000] \"POST /score HTTP/1.0\" 200 22 \"-\" \"python-requests/2.25.1\"\n",
            "2021-03-22 21:13:38,240 | root | INFO | Validation Request Content-Type\n",
            "2021-03-22 21:13:38,240 | root | INFO | Scoring Timer is set to 60.0 seconds\n",
            "2021-03-22 21:13:38,422 | root | INFO | 200\n",
            "127.0.0.1 - - [22/Mar/2021:21:13:38 +0000] \"POST /score HTTP/1.0\" 200 22 \"-\" \"python-requests/2.25.1\"\n",
            "\n",
            "\n"
          ]
        }
      ],
      "execution_count": 33,
      "metadata": {
        "jupyter": {
          "outputs_hidden": false,
          "source_hidden": false
        },
        "nteract": {
          "transient": {
            "deleting": false
          }
        },
        "gather": {
          "logged": 1616447631857
        }
      }
    },
    {
      "cell_type": "markdown",
      "source": [
        "## Clean Up"
      ],
      "metadata": {}
    },
    {
      "cell_type": "code",
      "source": [
        "service.delete()"
      ],
      "outputs": [],
      "execution_count": 143,
      "metadata": {
        "gather": {
          "logged": 1616454148791
        }
      }
    },
    {
      "cell_type": "code",
      "source": [
        "sevice.state()"
      ],
      "outputs": [
        {
          "output_type": "error",
          "ename": "NameError",
          "evalue": "name 'sevice' is not defined",
          "traceback": [
            "\u001b[0;31m---------------------------------------------------------------------------\u001b[0m",
            "\u001b[0;31mNameError\u001b[0m                                 Traceback (most recent call last)",
            "\u001b[0;32m<ipython-input-144-e1cf4eb2d0a8>\u001b[0m in \u001b[0;36m<module>\u001b[0;34m\u001b[0m\n\u001b[0;32m----> 1\u001b[0;31m \u001b[0msevice\u001b[0m\u001b[0;34m.\u001b[0m\u001b[0mstate\u001b[0m\u001b[0;34m(\u001b[0m\u001b[0;34m)\u001b[0m\u001b[0;34m\u001b[0m\u001b[0;34m\u001b[0m\u001b[0m\n\u001b[0m",
            "\u001b[0;31mNameError\u001b[0m: name 'sevice' is not defined"
          ]
        }
      ],
      "execution_count": 144,
      "metadata": {}
    },
    {
      "cell_type": "code",
      "source": [],
      "outputs": [],
      "execution_count": null,
      "metadata": {
        "collapsed": true,
        "jupyter": {
          "source_hidden": false,
          "outputs_hidden": false
        },
        "nteract": {
          "transient": {
            "deleting": false
          }
        }
      }
    }
  ],
  "metadata": {
    "kernel_info": {
      "name": "python3-azureml"
    },
    "kernelspec": {
      "name": "python3-azureml",
      "language": "python",
      "display_name": "Python 3.6 - AzureML"
    },
    "language_info": {
      "name": "python",
      "version": "3.6.9",
      "mimetype": "text/x-python",
      "codemirror_mode": {
        "name": "ipython",
        "version": 3
      },
      "pygments_lexer": "ipython3",
      "nbconvert_exporter": "python",
      "file_extension": ".py"
    },
    "nteract": {
      "version": "nteract-front-end@1.0.0"
    },
    "microsoft": {
      "host": {
        "AzureML": {
          "notebookHasBeenCompleted": true
        }
      }
    }
  },
  "nbformat": 4,
  "nbformat_minor": 2
}