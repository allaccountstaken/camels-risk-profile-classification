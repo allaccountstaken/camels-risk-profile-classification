{
 "cells": [
  {
   "cell_type": "markdown",
   "metadata": {},
   "source": [
    "# Automated ML\n",
    "\n",
    "TODO: Import Dependencies. In the cell below, import all the dependencies that you will need to complete the project."
   ]
  },
  {
   "cell_type": "code",
   "execution_count": 107,
   "metadata": {
    "gather": {
     "logged": 1616608254351
    },
    "jupyter": {
     "outputs_hidden": false,
     "source_hidden": false
    },
    "nteract": {
     "transient": {
      "deleting": false
     }
    }
   },
   "outputs": [],
   "source": [
    "#!pip install azureml-sdk==1.22.0"
   ]
  },
  {
   "cell_type": "code",
   "execution_count": 8,
   "metadata": {
    "gather": {
     "logged": 1616608775479
    },
    "jupyter": {
     "outputs_hidden": false,
     "source_hidden": false
    },
    "nteract": {
     "transient": {
      "deleting": false
     }
    }
   },
   "outputs": [
    {
     "name": "stdout",
     "output_type": "stream",
     "text": [
      "SDK version: 1.22.0\n"
     ]
    }
   ],
   "source": [
    "import logging\n",
    "import os\n",
    "import csv\n",
    "import joblib\n",
    "import json\n",
    "import requests\n",
    "import pandas as pd \n",
    "import numpy as np \n",
    "import azureml.core\n",
    "from azureml.core import Workspace, Experiment\n",
    "from azureml.train.automl import AutoMLConfig\n",
    "from azureml.core.dataset import Dataset\n",
    "from azureml.core.compute import ComputeTarget, AmlCompute\n",
    "from azureml.core.compute_target import ComputeTargetException\n",
    "from azureml.widgets import RunDetails\n",
    "from azureml.core.run import Run\n",
    "from azureml.core.model import InferenceConfig \n",
    "from azureml.core.webservice import AciWebservice, Webservice\n",
    "from azureml.core.model import Model\n",
    "from sklearn.metrics import confusion_matrix, matthews_corrcoef\n",
    "import matplotlib.pyplot as plt\n",
    "import joblib\n",
    "%matplotlib inline\n",
    "display.mpl_style ='ggplot'\n",
    "\n",
    "print(\"SDK version:\", azureml.core.VERSION)"
   ]
  },
  {
   "cell_type": "markdown",
   "metadata": {},
   "source": [
    "## Dataset\n",
    "\n",
    "### Overview\n",
    "The primary objective was to develop an early warning system, i.e. binary classification of failed ('Target'==1) vs. survived ('Target'==0), for the US banks using their quarterly filings with the regulator. Overall, 137 failed banks and 6,877 surviving banks were used in this machine learning exercise. Historical observations from the first 4 quarters ending 2010Q3 (stored in ./data) are used to tune the model and out-of-sample testing is performed on quarterly data starting from 2010Q4 (stored in ./oos). "
   ]
  },
  {
   "cell_type": "markdown",
   "metadata": {
    "nteract": {
     "transient": {
      "deleting": false
     }
    }
   },
   "source": [
    "### Setting up the project"
   ]
  },
  {
   "cell_type": "code",
   "execution_count": 9,
   "metadata": {
    "gather": {
     "logged": 1616608790416
    },
    "jupyter": {
     "outputs_hidden": false,
     "source_hidden": false
    },
    "nteract": {
     "transient": {
      "deleting": false
     }
    }
   },
   "outputs": [
    {
     "name": "stdout",
     "output_type": "stream",
     "text": [
      "Workspace name: my_ws\n",
      "Azure region: eastus\n",
      "Subscription id: 0c66ad45-500d-48af-80d3-0039ebf1975e\n",
      "Resource group: final-rgp\n"
     ]
    }
   ],
   "source": [
    "ws = Workspace.from_config()\n",
    "ws.write_config(path='.azureml')\n",
    "experiment_name = 'camels-clf'\n",
    "project_folder = './dmik'\n",
    "exp = Experiment(workspace=ws, name=experiment_name)\n",
    "#run = exp.start_logging() # added and \n",
    "\n",
    "print('Workspace name: ' + ws.name, \n",
    "      'Azure region: ' + ws.location, \n",
    "      'Subscription id: ' + ws.subscription_id, \n",
    "      'Resource group: ' + ws.resource_group, sep = '\\n')\n"
   ]
  },
  {
   "cell_type": "markdown",
   "metadata": {
    "nteract": {
     "transient": {
      "deleting": false
     }
    }
   },
   "source": [
    "### Uploading the training dataset using GUI"
   ]
  },
  {
   "cell_type": "code",
   "execution_count": 10,
   "metadata": {
    "gather": {
     "logged": 1616608795938
    },
    "jupyter": {
     "outputs_hidden": false,
     "source_hidden": false
    },
    "nteract": {
     "transient": {
      "deleting": false
     }
    }
   },
   "outputs": [
    {
     "data": {
      "text/html": [
       "<div>\n",
       "<style scoped>\n",
       "    .dataframe tbody tr th:only-of-type {\n",
       "        vertical-align: middle;\n",
       "    }\n",
       "\n",
       "    .dataframe tbody tr th {\n",
       "        vertical-align: top;\n",
       "    }\n",
       "\n",
       "    .dataframe thead th {\n",
       "        text-align: right;\n",
       "    }\n",
       "</style>\n",
       "<table border=\"1\" class=\"dataframe\">\n",
       "  <thead>\n",
       "    <tr style=\"text-align: right;\">\n",
       "      <th></th>\n",
       "      <th>Column2</th>\n",
       "      <th>Target</th>\n",
       "      <th>EQTA</th>\n",
       "      <th>EQTL</th>\n",
       "      <th>LLRTA</th>\n",
       "      <th>LLRGL</th>\n",
       "      <th>OEXTA</th>\n",
       "      <th>INCEMP</th>\n",
       "      <th>ROA</th>\n",
       "      <th>ROE</th>\n",
       "      <th>TDTL</th>\n",
       "      <th>TDTA</th>\n",
       "      <th>TATA</th>\n",
       "    </tr>\n",
       "  </thead>\n",
       "  <tbody>\n",
       "    <tr>\n",
       "      <th>0</th>\n",
       "      <td>1252</td>\n",
       "      <td>1</td>\n",
       "      <td>0.008644</td>\n",
       "      <td>0.010834</td>\n",
       "      <td>0.092012</td>\n",
       "      <td>0.115320</td>\n",
       "      <td>0.025272</td>\n",
       "      <td>-593.165644</td>\n",
       "      <td>-0.136337</td>\n",
       "      <td>-15.772594</td>\n",
       "      <td>1.232007</td>\n",
       "      <td>0.982991</td>\n",
       "      <td>0.112894</td>\n",
       "    </tr>\n",
       "    <tr>\n",
       "      <th>1</th>\n",
       "      <td>3287</td>\n",
       "      <td>1</td>\n",
       "      <td>0.078408</td>\n",
       "      <td>0.189268</td>\n",
       "      <td>0.003523</td>\n",
       "      <td>0.008503</td>\n",
       "      <td>0.022508</td>\n",
       "      <td>20.900000</td>\n",
       "      <td>0.003875</td>\n",
       "      <td>0.049421</td>\n",
       "      <td>2.205290</td>\n",
       "      <td>0.913583</td>\n",
       "      <td>0.358536</td>\n",
       "    </tr>\n",
       "    <tr>\n",
       "      <th>2</th>\n",
       "      <td>5672</td>\n",
       "      <td>1</td>\n",
       "      <td>0.002112</td>\n",
       "      <td>0.003144</td>\n",
       "      <td>0.066657</td>\n",
       "      <td>0.099216</td>\n",
       "      <td>0.034378</td>\n",
       "      <td>-323.516556</td>\n",
       "      <td>-0.058455</td>\n",
       "      <td>-27.677620</td>\n",
       "      <td>1.383128</td>\n",
       "      <td>0.929228</td>\n",
       "      <td>0.135505</td>\n",
       "    </tr>\n",
       "    <tr>\n",
       "      <th>3</th>\n",
       "      <td>5702</td>\n",
       "      <td>1</td>\n",
       "      <td>0.015982</td>\n",
       "      <td>0.021148</td>\n",
       "      <td>0.030035</td>\n",
       "      <td>0.039743</td>\n",
       "      <td>0.039763</td>\n",
       "      <td>-153.596354</td>\n",
       "      <td>-0.049911</td>\n",
       "      <td>-3.123001</td>\n",
       "      <td>1.195850</td>\n",
       "      <td>0.903733</td>\n",
       "      <td>0.094482</td>\n",
       "    </tr>\n",
       "    <tr>\n",
       "      <th>4</th>\n",
       "      <td>8221</td>\n",
       "      <td>1</td>\n",
       "      <td>0.011542</td>\n",
       "      <td>0.013393</td>\n",
       "      <td>0.041798</td>\n",
       "      <td>0.048502</td>\n",
       "      <td>0.038922</td>\n",
       "      <td>-217.888889</td>\n",
       "      <td>-0.069640</td>\n",
       "      <td>-6.033846</td>\n",
       "      <td>1.145630</td>\n",
       "      <td>0.987286</td>\n",
       "      <td>0.098334</td>\n",
       "    </tr>\n",
       "  </tbody>\n",
       "</table>\n",
       "</div>"
      ],
      "text/plain": [
       "  Column2  Target      EQTA      EQTL     LLRTA     LLRGL     OEXTA  \\\n",
       "0    1252       1  0.008644  0.010834  0.092012  0.115320  0.025272   \n",
       "1    3287       1  0.078408  0.189268  0.003523  0.008503  0.022508   \n",
       "2    5672       1  0.002112  0.003144  0.066657  0.099216  0.034378   \n",
       "3    5702       1  0.015982  0.021148  0.030035  0.039743  0.039763   \n",
       "4    8221       1  0.011542  0.013393  0.041798  0.048502  0.038922   \n",
       "\n",
       "       INCEMP       ROA        ROE      TDTL      TDTA      TATA  \n",
       "0 -593.165644 -0.136337 -15.772594  1.232007  0.982991  0.112894  \n",
       "1   20.900000  0.003875   0.049421  2.205290  0.913583  0.358536  \n",
       "2 -323.516556 -0.058455 -27.677620  1.383128  0.929228  0.135505  \n",
       "3 -153.596354 -0.049911  -3.123001  1.195850  0.903733  0.094482  \n",
       "4 -217.888889 -0.069640  -6.033846  1.145630  0.987286  0.098334  "
      ]
     },
     "execution_count": 10,
     "metadata": {},
     "output_type": "execute_result"
    }
   ],
   "source": [
    "dataset = ws.datasets['camels11'] \n",
    "df = dataset.to_pandas_dataframe()\n",
    "#df.pop('Column2')\n",
    "\n",
    "#len(df)\n",
    "df.head()\n",
    "#df.tail()"
   ]
  },
  {
   "cell_type": "markdown",
   "metadata": {},
   "source": [
    "### Checking for or creating appropriate `ComputeTarget`"
   ]
  },
  {
   "cell_type": "code",
   "execution_count": 11,
   "metadata": {
    "gather": {
     "logged": 1616608806079
    }
   },
   "outputs": [
    {
     "name": "stdout",
     "output_type": "stream",
     "text": [
      "Existing compute target.\n",
      "{\n",
      "  \"errors\": [],\n",
      "  \"creationTime\": \"2021-03-24T17:46:03.595148+00:00\",\n",
      "  \"createdBy\": {\n",
      "    \"userObjectId\": \"49e75006-b9ac-415c-9176-f83c59d4bf26\",\n",
      "    \"userTenantId\": \"d689239e-c492-40c6-b391-2c5951d31d14\",\n",
      "    \"userName\": null\n",
      "  },\n",
      "  \"modifiedTime\": \"2021-03-24T17:48:35.815670+00:00\",\n",
      "  \"state\": \"Running\",\n",
      "  \"vmSize\": \"STANDARD_DS2_V2\"\n",
      "}\n"
     ]
    }
   ],
   "source": [
    "cpu_cluster_name = 'my-cmp'\n",
    "\n",
    "try:\n",
    "    compute_target = ComputeTarget(workspace=ws, name=cpu_cluster_name)\n",
    "    print('Existing compute target.')\n",
    "\n",
    "except:\n",
    "    print('Creating compute target.')\n",
    "    compute_config = AmlCompute.provisioning_configuration(vm_size='STANDARD_D2_V2', max_nodes=4)\n",
    "    compute_target = ComputeTarget.create(ws, cpu_cluster_name, compute_config)\n",
    "\n",
    "print(compute_target.get_status())"
   ]
  },
  {
   "cell_type": "markdown",
   "metadata": {},
   "source": [
    "## AutoML Configuration\n",
    "### Primary metric determins configuaration\n",
    "Financial metrics recorded in the last reports of the failed banks should have predictive power that is needed to forecast future failures. Due to significant class imbalances and taking into account costs accosiated with financial distress, the model should aim to maximize the recall score. In other words, accuracy is probably not the best metrics, as Type II error needs to be minimized. This is why the main focus of this classification should be on maximizing AUC, hopefully, by achieving good recall score. This is why 'norm_macro_recall' was chosen as a primary metric. Timeout and number of concurrent iterations were set conservatively to control the costs."
   ]
  },
  {
   "cell_type": "code",
   "execution_count": 19,
   "metadata": {
    "gather": {
     "logged": 1616608814673
    }
   },
   "outputs": [],
   "source": [
    "automl_settings = {\n",
    "    \"experiment_timeout_minutes\": 20,\n",
    "    \"max_concurrent_iterations\": 4,\n",
    "    \"primary_metric\" : 'norm_macro_recall',\n",
    "    \"verbosity\": logging.INFO\n",
    "    }\n",
    "\n",
    "automl_config = AutoMLConfig(\n",
    "    compute_target=compute_target, \n",
    "    task = \"classification\",\n",
    "    training_data=dataset, \n",
    "    label_column_name=\"Target\", \n",
    "    path = project_folder,\n",
    "    enable_early_stopping= True, \n",
    "    featurization= 'auto', \n",
    "    debug_log = \"automl_errors.log\",\n",
    "    **automl_settings\n",
    "    )"
   ]
  },
  {
   "cell_type": "markdown",
   "metadata": {},
   "source": [
    "## Run Details\n",
    "\n",
    "### Possible modeling choices \n",
    "Generally speaking, decision trees should work well for this task, as these models do not make any functional form assumptions, handle both categorical and continuous data well, and are easy to interpret. Tree-based models simply aim to reduce entropy at every split and are therefore very straightforward, no need to worry about missing data and scaling. They are not very stable though, as new data may produce a totally different tree, and they also tend to overfit.\n",
    "\n",
    "Possible solution would be model averaging - employing “wisdom of the crowd”. It seems that for the present task two paths are possible: reducing variance or reducing bias. The former implies complex model, i.e. starting with a bushy, high-variance tree and resampling with replacement, what will produce a family of Random Forest models. The later implies starting with a simple model, i.e. possible a stump, high-bias classifier and learning from miss-classified instances, what will produce a family of Boosting models.\n"
   ]
  },
  {
   "cell_type": "code",
   "execution_count": null,
   "metadata": {
    "gather": {
     "logged": 1616549581425
    },
    "jupyter": {
     "outputs_hidden": false,
     "source_hidden": false
    },
    "nteract": {
     "transient": {
      "deleting": false
     }
    }
   },
   "outputs": [
    {
     "name": "stdout",
     "output_type": "stream",
     "text": [
      "Running on remote.\n"
     ]
    },
    {
     "data": {
      "application/vnd.jupyter.widget-view+json": {
       "model_id": "462b3e31b67e420faadfa107025943ad",
       "version_major": 2,
       "version_minor": 0
      },
      "text/plain": [
       "_AutoMLWidget(widget_settings={'childWidgetDisplay': 'popup', 'send_telemetry': False, 'log_level': 'INFO', 's…"
      ]
     },
     "metadata": {},
     "output_type": "display_data"
    },
    {
     "data": {
      "application/aml.mini.widget.v1": "{\"status\": \"Running\", \"workbench_run_details_uri\": \"https://ml.azure.com/experiments/camels-clf/runs/AutoML_9be7e20a-6720-4133-aa8c-9138c31e23cb?wsid=/subscriptions/0c66ad45-500d-48af-80d3-0039ebf1975e/resourcegroups/final-rgp/workspaces/my_ws\", \"run_id\": \"AutoML_9be7e20a-6720-4133-aa8c-9138c31e23cb\", \"run_properties\": {\"run_id\": \"AutoML_9be7e20a-6720-4133-aa8c-9138c31e23cb\", \"created_utc\": \"2021-03-25T16:46:37.574108Z\", \"properties\": {\"num_iterations\": \"1000\", \"training_type\": \"TrainFull\", \"acquisition_function\": \"EI\", \"primary_metric\": \"norm_macro_recall\", \"train_split\": \"0\", \"acquisition_parameter\": \"0\", \"num_cross_validation\": null, \"target\": \"my-cmp\", \"AMLSettingsJsonString\": \"{\\\"path\\\":null,\\\"name\\\":\\\"camels-clf\\\",\\\"subscription_id\\\":\\\"0c66ad45-500d-48af-80d3-0039ebf1975e\\\",\\\"resource_group\\\":\\\"final-rgp\\\",\\\"workspace_name\\\":\\\"my_ws\\\",\\\"region\\\":\\\"eastus\\\",\\\"compute_target\\\":\\\"my-cmp\\\",\\\"spark_service\\\":null,\\\"azure_service\\\":\\\"remote\\\",\\\"many_models\\\":false,\\\"pipeline_fetch_max_batch_size\\\":1,\\\"iterations\\\":1000,\\\"primary_metric\\\":\\\"norm_macro_recall\\\",\\\"task_type\\\":\\\"classification\\\",\\\"data_script\\\":null,\\\"validation_size\\\":0.0,\\\"n_cross_validations\\\":null,\\\"y_min\\\":null,\\\"y_max\\\":null,\\\"num_classes\\\":null,\\\"featurization\\\":\\\"auto\\\",\\\"_ignore_package_version_incompatibilities\\\":false,\\\"is_timeseries\\\":false,\\\"max_cores_per_iteration\\\":1,\\\"max_concurrent_iterations\\\":4,\\\"iteration_timeout_minutes\\\":null,\\\"mem_in_mb\\\":null,\\\"enforce_time_on_windows\\\":false,\\\"experiment_timeout_minutes\\\":20,\\\"experiment_exit_score\\\":null,\\\"whitelist_models\\\":null,\\\"blacklist_algos\\\":[\\\"TensorFlowLinearClassifier\\\",\\\"TensorFlowDNN\\\"],\\\"supported_models\\\":[\\\"BernoulliNaiveBayes\\\",\\\"XGBoostClassifier\\\",\\\"KNN\\\",\\\"TensorFlowLinearClassifier\\\",\\\"RandomForest\\\",\\\"SGD\\\",\\\"DecisionTree\\\",\\\"SVM\\\",\\\"LinearSVM\\\",\\\"LightGBM\\\",\\\"GradientBoosting\\\",\\\"MultinomialNaiveBayes\\\",\\\"TensorFlowDNN\\\",\\\"LogisticRegression\\\",\\\"ExtremeRandomTrees\\\",\\\"AveragedPerceptronClassifier\\\"],\\\"private_models\\\":[],\\\"auto_blacklist\\\":true,\\\"blacklist_samples_reached\\\":false,\\\"exclude_nan_labels\\\":true,\\\"verbosity\\\":20,\\\"_debug_log\\\":\\\"azureml_automl.log\\\",\\\"show_warnings\\\":false,\\\"model_explainability\\\":true,\\\"service_url\\\":null,\\\"sdk_url\\\":null,\\\"sdk_packages\\\":null,\\\"enable_onnx_compatible_models\\\":false,\\\"enable_split_onnx_featurizer_estimator_models\\\":false,\\\"vm_type\\\":\\\"STANDARD_DS2_V2\\\",\\\"telemetry_verbosity\\\":20,\\\"send_telemetry\\\":true,\\\"enable_dnn\\\":false,\\\"scenario\\\":\\\"SDK-1.13.0\\\",\\\"environment_label\\\":null,\\\"force_text_dnn\\\":false,\\\"enable_feature_sweeping\\\":true,\\\"enable_early_stopping\\\":true,\\\"early_stopping_n_iters\\\":10,\\\"metrics\\\":null,\\\"enable_ensembling\\\":true,\\\"enable_stack_ensembling\\\":true,\\\"ensemble_iterations\\\":15,\\\"enable_tf\\\":false,\\\"enable_subsampling\\\":null,\\\"subsample_seed\\\":null,\\\"enable_nimbusml\\\":false,\\\"enable_streaming\\\":false,\\\"force_streaming\\\":false,\\\"track_child_runs\\\":true,\\\"allowed_private_models\\\":[],\\\"label_column_name\\\":\\\"Target\\\",\\\"weight_column_name\\\":null,\\\"cv_split_column_names\\\":null,\\\"enable_local_managed\\\":false,\\\"_local_managed_run_id\\\":null,\\\"cost_mode\\\":1,\\\"lag_length\\\":0,\\\"metric_operation\\\":\\\"maximize\\\",\\\"preprocess\\\":true}\", \"DataPrepJsonString\": \"{\\\\\\\"training_data\\\\\\\": \\\\\\\"{\\\\\\\\\\\\\\\"blocks\\\\\\\\\\\\\\\": [{\\\\\\\\\\\\\\\"id\\\\\\\\\\\\\\\": \\\\\\\\\\\\\\\"bcdc347c-ef75-463f-be0e-c354bd11bf95\\\\\\\\\\\\\\\", \\\\\\\\\\\\\\\"type\\\\\\\\\\\\\\\": \\\\\\\\\\\\\\\"Microsoft.DPrep.GetDatastoreFilesBlock\\\\\\\\\\\\\\\", \\\\\\\\\\\\\\\"arguments\\\\\\\\\\\\\\\": {\\\\\\\\\\\\\\\"datastores\\\\\\\\\\\\\\\": [{\\\\\\\\\\\\\\\"datastoreName\\\\\\\\\\\\\\\": \\\\\\\\\\\\\\\"workspaceblobstore\\\\\\\\\\\\\\\", \\\\\\\\\\\\\\\"path\\\\\\\\\\\\\\\": \\\\\\\\\\\\\\\"UI/03-25-2021_024354_UTC/camel_data_after2010Q3.csv\\\\\\\\\\\\\\\", \\\\\\\\\\\\\\\"resourceGroup\\\\\\\\\\\\\\\": \\\\\\\\\\\\\\\"final-rgp\\\\\\\\\\\\\\\", \\\\\\\\\\\\\\\"subscription\\\\\\\\\\\\\\\": \\\\\\\\\\\\\\\"0c66ad45-500d-48af-80d3-0039ebf1975e\\\\\\\\\\\\\\\", \\\\\\\\\\\\\\\"workspaceName\\\\\\\\\\\\\\\": \\\\\\\\\\\\\\\"my_ws\\\\\\\\\\\\\\\"}]}, \\\\\\\\\\\\\\\"localData\\\\\\\\\\\\\\\": {}, \\\\\\\\\\\\\\\"isEnabled\\\\\\\\\\\\\\\": true, \\\\\\\\\\\\\\\"name\\\\\\\\\\\\\\\": null, \\\\\\\\\\\\\\\"annotation\\\\\\\\\\\\\\\": null}, {\\\\\\\\\\\\\\\"id\\\\\\\\\\\\\\\": \\\\\\\\\\\\\\\"811e5c70-3487-455a-a876-cd318f5900c8\\\\\\\\\\\\\\\", \\\\\\\\\\\\\\\"type\\\\\\\\\\\\\\\": \\\\\\\\\\\\\\\"Microsoft.DPrep.ParseDelimitedBlock\\\\\\\\\\\\\\\", \\\\\\\\\\\\\\\"arguments\\\\\\\\\\\\\\\": {\\\\\\\\\\\\\\\"columnHeadersMode\\\\\\\\\\\\\\\": 1, \\\\\\\\\\\\\\\"fileEncoding\\\\\\\\\\\\\\\": 0, \\\\\\\\\\\\\\\"handleQuotedLineBreaks\\\\\\\\\\\\\\\": false, \\\\\\\\\\\\\\\"preview\\\\\\\\\\\\\\\": false, \\\\\\\\\\\\\\\"separator\\\\\\\\\\\\\\\": \\\\\\\\\\\\\\\",\\\\\\\\\\\\\\\", \\\\\\\\\\\\\\\"skipRows\\\\\\\\\\\\\\\": 0, \\\\\\\\\\\\\\\"skipRowsMode\\\\\\\\\\\\\\\": 0}, \\\\\\\\\\\\\\\"localData\\\\\\\\\\\\\\\": {}, \\\\\\\\\\\\\\\"isEnabled\\\\\\\\\\\\\\\": true, \\\\\\\\\\\\\\\"name\\\\\\\\\\\\\\\": null, \\\\\\\\\\\\\\\"annotation\\\\\\\\\\\\\\\": null}, {\\\\\\\\\\\\\\\"id\\\\\\\\\\\\\\\": \\\\\\\\\\\\\\\"559fbcda-c73b-48ad-912e-398acc9b75ed\\\\\\\\\\\\\\\", \\\\\\\\\\\\\\\"type\\\\\\\\\\\\\\\": \\\\\\\\\\\\\\\"Microsoft.DPrep.DropColumnsBlock\\\\\\\\\\\\\\\", \\\\\\\\\\\\\\\"arguments\\\\\\\\\\\\\\\": {\\\\\\\\\\\\\\\"columns\\\\\\\\\\\\\\\": {\\\\\\\\\\\\\\\"type\\\\\\\\\\\\\\\": 0, \\\\\\\\\\\\\\\"details\\\\\\\\\\\\\\\": {\\\\\\\\\\\\\\\"selectedColumns\\\\\\\\\\\\\\\": [\\\\\\\\\\\\\\\"Path\\\\\\\\\\\\\\\", \\\\\\\\\\\\\\\"AsOfDate\\\\\\\\\\\\\\\", \\\\\\\\\\\\\\\"Column1\\\\\\\\\\\\\\\"]}}}, \\\\\\\\\\\\\\\"localData\\\\\\\\\\\\\\\": {}, \\\\\\\\\\\\\\\"isEnabled\\\\\\\\\\\\\\\": true, \\\\\\\\\\\\\\\"name\\\\\\\\\\\\\\\": null, \\\\\\\\\\\\\\\"annotation\\\\\\\\\\\\\\\": null}, {\\\\\\\\\\\\\\\"id\\\\\\\\\\\\\\\": \\\\\\\\\\\\\\\"bac16c17-8f06-4784-aaf6-b0f52ace6e91\\\\\\\\\\\\\\\", \\\\\\\\\\\\\\\"type\\\\\\\\\\\\\\\": \\\\\\\\\\\\\\\"Microsoft.DPrep.SetColumnTypesBlock\\\\\\\\\\\\\\\", \\\\\\\\\\\\\\\"arguments\\\\\\\\\\\\\\\": {\\\\\\\\\\\\\\\"columnConversion\\\\\\\\\\\\\\\": [{\\\\\\\\\\\\\\\"column\\\\\\\\\\\\\\\": {\\\\\\\\\\\\\\\"type\\\\\\\\\\\\\\\": 2, \\\\\\\\\\\\\\\"details\\\\\\\\\\\\\\\": {\\\\\\\\\\\\\\\"selectedColumn\\\\\\\\\\\\\\\": \\\\\\\\\\\\\\\"Path\\\\\\\\\\\\\\\"}}, \\\\\\\\\\\\\\\"typeProperty\\\\\\\\\\\\\\\": 0}, {\\\\\\\\\\\\\\\"column\\\\\\\\\\\\\\\": {\\\\\\\\\\\\\\\"type\\\\\\\\\\\\\\\": 2, \\\\\\\\\\\\\\\"details\\\\\\\\\\\\\\\": {\\\\\\\\\\\\\\\"selectedColumn\\\\\\\\\\\\\\\": \\\\\\\\\\\\\\\"Column1\\\\\\\\\\\\\\\"}}, \\\\\\\\\\\\\\\"typeProperty\\\\\\\\\\\\\\\": 2}, {\\\\\\\\\\\\\\\"column\\\\\\\\\\\\\\\": {\\\\\\\\\\\\\\\"type\\\\\\\\\\\\\\\": 2, \\\\\\\\\\\\\\\"details\\\\\\\\\\\\\\\": {\\\\\\\\\\\\\\\"selectedColumn\\\\\\\\\\\\\\\": \\\\\\\\\\\\\\\"AsOfDate\\\\\\\\\\\\\\\"}}, \\\\\\\\\\\\\\\"typeArguments\\\\\\\\\\\\\\\": {\\\\\\\\\\\\\\\"dateTimeFormats\\\\\\\\\\\\\\\": [\\\\\\\\\\\\\\\"%m/%d/%Y\\\\\\\\\\\\\\\"]}, \\\\\\\\\\\\\\\"typeProperty\\\\\\\\\\\\\\\": 4}, {\\\\\\\\\\\\\\\"column\\\\\\\\\\\\\\\": {\\\\\\\\\\\\\\\"type\\\\\\\\\\\\\\\": 2, \\\\\\\\\\\\\\\"details\\\\\\\\\\\\\\\": {\\\\\\\\\\\\\\\"selectedColumn\\\\\\\\\\\\\\\": \\\\\\\\\\\\\\\"Target\\\\\\\\\\\\\\\"}}, \\\\\\\\\\\\\\\"typeProperty\\\\\\\\\\\\\\\": 2}, {\\\\\\\\\\\\\\\"column\\\\\\\\\\\\\\\": {\\\\\\\\\\\\\\\"type\\\\\\\\\\\\\\\": 2, \\\\\\\\\\\\\\\"details\\\\\\\\\\\\\\\": {\\\\\\\\\\\\\\\"selectedColumn\\\\\\\\\\\\\\\": \\\\\\\\\\\\\\\"EQTA\\\\\\\\\\\\\\\"}}, \\\\\\\\\\\\\\\"typeProperty\\\\\\\\\\\\\\\": 3}, {\\\\\\\\\\\\\\\"column\\\\\\\\\\\\\\\": {\\\\\\\\\\\\\\\"type\\\\\\\\\\\\\\\": 2, \\\\\\\\\\\\\\\"details\\\\\\\\\\\\\\\": {\\\\\\\\\\\\\\\"selectedColumn\\\\\\\\\\\\\\\": \\\\\\\\\\\\\\\"EQTL\\\\\\\\\\\\\\\"}}, \\\\\\\\\\\\\\\"typeProperty\\\\\\\\\\\\\\\": 3}, {\\\\\\\\\\\\\\\"column\\\\\\\\\\\\\\\": {\\\\\\\\\\\\\\\"type\\\\\\\\\\\\\\\": 2, \\\\\\\\\\\\\\\"details\\\\\\\\\\\\\\\": {\\\\\\\\\\\\\\\"selectedColumn\\\\\\\\\\\\\\\": \\\\\\\\\\\\\\\"LLRTA\\\\\\\\\\\\\\\"}}, \\\\\\\\\\\\\\\"typeProperty\\\\\\\\\\\\\\\": 3}, {\\\\\\\\\\\\\\\"column\\\\\\\\\\\\\\\": {\\\\\\\\\\\\\\\"type\\\\\\\\\\\\\\\": 2, \\\\\\\\\\\\\\\"details\\\\\\\\\\\\\\\": {\\\\\\\\\\\\\\\"selectedColumn\\\\\\\\\\\\\\\": \\\\\\\\\\\\\\\"LLRGL\\\\\\\\\\\\\\\"}}, \\\\\\\\\\\\\\\"typeProperty\\\\\\\\\\\\\\\": 3}, {\\\\\\\\\\\\\\\"column\\\\\\\\\\\\\\\": {\\\\\\\\\\\\\\\"type\\\\\\\\\\\\\\\": 2, \\\\\\\\\\\\\\\"details\\\\\\\\\\\\\\\": {\\\\\\\\\\\\\\\"selectedColumn\\\\\\\\\\\\\\\": \\\\\\\\\\\\\\\"OEXTA\\\\\\\\\\\\\\\"}}, \\\\\\\\\\\\\\\"typeProperty\\\\\\\\\\\\\\\": 3}, {\\\\\\\\\\\\\\\"column\\\\\\\\\\\\\\\": {\\\\\\\\\\\\\\\"type\\\\\\\\\\\\\\\": 2, \\\\\\\\\\\\\\\"details\\\\\\\\\\\\\\\": {\\\\\\\\\\\\\\\"selectedColumn\\\\\\\\\\\\\\\": \\\\\\\\\\\\\\\"INCEMP\\\\\\\\\\\\\\\"}}, \\\\\\\\\\\\\\\"typeProperty\\\\\\\\\\\\\\\": 3}, {\\\\\\\\\\\\\\\"column\\\\\\\\\\\\\\\": {\\\\\\\\\\\\\\\"type\\\\\\\\\\\\\\\": 2, \\\\\\\\\\\\\\\"details\\\\\\\\\\\\\\\": {\\\\\\\\\\\\\\\"selectedColumn\\\\\\\\\\\\\\\": \\\\\\\\\\\\\\\"ROA\\\\\\\\\\\\\\\"}}, \\\\\\\\\\\\\\\"typeProperty\\\\\\\\\\\\\\\": 3}, {\\\\\\\\\\\\\\\"column\\\\\\\\\\\\\\\": {\\\\\\\\\\\\\\\"type\\\\\\\\\\\\\\\": 2, \\\\\\\\\\\\\\\"details\\\\\\\\\\\\\\\": {\\\\\\\\\\\\\\\"selectedColumn\\\\\\\\\\\\\\\": \\\\\\\\\\\\\\\"ROE\\\\\\\\\\\\\\\"}}, \\\\\\\\\\\\\\\"typeProperty\\\\\\\\\\\\\\\": 3}, {\\\\\\\\\\\\\\\"column\\\\\\\\\\\\\\\": {\\\\\\\\\\\\\\\"type\\\\\\\\\\\\\\\": 2, \\\\\\\\\\\\\\\"details\\\\\\\\\\\\\\\": {\\\\\\\\\\\\\\\"selectedColumn\\\\\\\\\\\\\\\": \\\\\\\\\\\\\\\"TDTL\\\\\\\\\\\\\\\"}}, \\\\\\\\\\\\\\\"typeProperty\\\\\\\\\\\\\\\": 3}, {\\\\\\\\\\\\\\\"column\\\\\\\\\\\\\\\": {\\\\\\\\\\\\\\\"type\\\\\\\\\\\\\\\": 2, \\\\\\\\\\\\\\\"details\\\\\\\\\\\\\\\": {\\\\\\\\\\\\\\\"selectedColumn\\\\\\\\\\\\\\\": \\\\\\\\\\\\\\\"TDTA\\\\\\\\\\\\\\\"}}, \\\\\\\\\\\\\\\"typeProperty\\\\\\\\\\\\\\\": 3}, {\\\\\\\\\\\\\\\"column\\\\\\\\\\\\\\\": {\\\\\\\\\\\\\\\"type\\\\\\\\\\\\\\\": 2, \\\\\\\\\\\\\\\"details\\\\\\\\\\\\\\\": {\\\\\\\\\\\\\\\"selectedColumn\\\\\\\\\\\\\\\": \\\\\\\\\\\\\\\"TATA\\\\\\\\\\\\\\\"}}, \\\\\\\\\\\\\\\"typeProperty\\\\\\\\\\\\\\\": 3}]}, \\\\\\\\\\\\\\\"localData\\\\\\\\\\\\\\\": {}, \\\\\\\\\\\\\\\"isEnabled\\\\\\\\\\\\\\\": true, \\\\\\\\\\\\\\\"name\\\\\\\\\\\\\\\": null, \\\\\\\\\\\\\\\"annotation\\\\\\\\\\\\\\\": null}], \\\\\\\\\\\\\\\"inspectors\\\\\\\\\\\\\\\": [], \\\\\\\\\\\\\\\"meta\\\\\\\\\\\\\\\": {\\\\\\\\\\\\\\\"savedDatasetId\\\\\\\\\\\\\\\": \\\\\\\\\\\\\\\"5b8de62c-4927-494e-b241-d41208da132a\\\\\\\\\\\\\\\", \\\\\\\\\\\\\\\"datasetType\\\\\\\\\\\\\\\": \\\\\\\\\\\\\\\"tabular\\\\\\\\\\\\\\\", \\\\\\\\\\\\\\\"subscriptionId\\\\\\\\\\\\\\\": \\\\\\\\\\\\\\\"0c66ad45-500d-48af-80d3-0039ebf1975e\\\\\\\\\\\\\\\", \\\\\\\\\\\\\\\"workspaceId\\\\\\\\\\\\\\\": \\\\\\\\\\\\\\\"76a84e9f-15e6-4c3b-a3d4-64fa11fb217b\\\\\\\\\\\\\\\", \\\\\\\\\\\\\\\"workspaceLocation\\\\\\\\\\\\\\\": \\\\\\\\\\\\\\\"eastus\\\\\\\\\\\\\\\"}}\\\\\\\", \\\\\\\"activities\\\\\\\": 0}\", \"EnableSubsampling\": null, \"runTemplate\": \"AutoML\", \"azureml.runsource\": \"automl\", \"display_task_type\": \"classification\", \"dependencies_versions\": \"{\\\"azureml-widgets\\\": \\\"1.22.0\\\", \\\"azureml-train\\\": \\\"1.22.0\\\", \\\"azureml-train-restclients-hyperdrive\\\": \\\"1.22.0\\\", \\\"azureml-train-core\\\": \\\"1.22.0\\\", \\\"azureml-train-automl\\\": \\\"1.22.0\\\", \\\"azureml-train-automl-runtime\\\": \\\"1.22.0\\\", \\\"azureml-train-automl-client\\\": \\\"1.22.0.post1\\\", \\\"azureml-tensorboard\\\": \\\"1.22.0\\\", \\\"azureml-telemetry\\\": \\\"1.22.0\\\", \\\"azureml-sdk\\\": \\\"1.22.0\\\", \\\"azureml-samples\\\": \\\"0+unknown\\\", \\\"azureml-pipeline\\\": \\\"1.22.0\\\", \\\"azureml-pipeline-steps\\\": \\\"1.22.0\\\", \\\"azureml-pipeline-core\\\": \\\"1.22.0\\\", \\\"azureml-opendatasets\\\": \\\"1.22.0\\\", \\\"azureml-model-management-sdk\\\": \\\"1.0.1b6.post1\\\", \\\"azureml-mlflow\\\": \\\"1.22.0\\\", \\\"azureml-interpret\\\": \\\"1.22.0\\\", \\\"azureml-explain-model\\\": \\\"1.22.0\\\", \\\"azureml-defaults\\\": \\\"1.22.0\\\", \\\"azureml-dataset-runtime\\\": \\\"1.22.0\\\", \\\"azureml-dataprep\\\": \\\"2.9.1\\\", \\\"azureml-dataprep-rslex\\\": \\\"1.7.0\\\", \\\"azureml-dataprep-native\\\": \\\"29.0.0\\\", \\\"azureml-datadrift\\\": \\\"1.22.0\\\", \\\"azureml-core\\\": \\\"1.22.0\\\", \\\"azureml-contrib-services\\\": \\\"1.22.0\\\", \\\"azureml-contrib-server\\\": \\\"1.22.0\\\", \\\"azureml-contrib-reinforcementlearning\\\": \\\"1.22.0\\\", \\\"azureml-contrib-pipeline-steps\\\": \\\"1.22.0\\\", \\\"azureml-contrib-notebook\\\": \\\"1.22.0\\\", \\\"azureml-contrib-interpret\\\": \\\"1.22.0\\\", \\\"azureml-contrib-gbdt\\\": \\\"1.22.0\\\", \\\"azureml-contrib-fairness\\\": \\\"1.22.0\\\", \\\"azureml-contrib-dataset\\\": \\\"1.22.0\\\", \\\"azureml-cli-common\\\": \\\"1.22.0\\\", \\\"azureml-automl-runtime\\\": \\\"1.22.0\\\", \\\"azureml-automl-core\\\": \\\"1.22.0\\\", \\\"azureml-accel-models\\\": \\\"1.22.0\\\"}\", \"_aml_system_scenario_identification\": \"Remote.Parent\", \"ClientType\": \"SDK\", \"environment_cpu_name\": \"AzureML-AutoML\", \"environment_cpu_label\": \"prod\", \"environment_gpu_name\": \"AzureML-AutoML-GPU\", \"environment_gpu_label\": \"prod\", \"root_attribution\": \"automl\", \"attribution\": \"AutoML\", \"Orchestrator\": \"AutoML\", \"CancelUri\": \"https://eastus.experiments.azureml.net/jasmine/v1.0/subscriptions/0c66ad45-500d-48af-80d3-0039ebf1975e/resourceGroups/final-rgp/providers/Microsoft.MachineLearningServices/workspaces/my_ws/experimentids/7ef4db68-2cc8-4556-b9f5-a0915e73df6e/cancel/AutoML_9be7e20a-6720-4133-aa8c-9138c31e23cb\", \"ClientSdkVersion\": \"1.24.0\", \"snapshotId\": \"00000000-0000-0000-0000-000000000000\", \"SetupRunId\": \"AutoML_9be7e20a-6720-4133-aa8c-9138c31e23cb_setup\", \"SetupRunContainerId\": \"dcid.AutoML_9be7e20a-6720-4133-aa8c-9138c31e23cb_setup\", \"FeaturizationRunJsonPath\": \"featurizer_container.json\", \"FeaturizationRunId\": \"AutoML_9be7e20a-6720-4133-aa8c-9138c31e23cb_featurize\", \"ProblemInfoJsonString\": \"{\\\"dataset_num_categorical\\\": 0, \\\"is_sparse\\\": false, \\\"subsampling\\\": false, \\\"dataset_classes\\\": 2, \\\"dataset_features\\\": 11, \\\"dataset_samples\\\": 7020, \\\"single_frequency_class_detected\\\": false}\"}, \"tags\": {\"model_explain_run\": \"best_run\", \"_aml_system_azureml.automlComponent\": \"AutoML\"}, \"end_time_utc\": null, \"status\": \"Running\", \"log_files\": {}, \"log_groups\": [], \"run_duration\": \"0:04:14\", \"run_number\": \"49\", \"run_queued_details\": {\"status\": \"Running\", \"details\": null}}, \"child_runs\": [{\"run_id\": \"AutoML_9be7e20a-6720-4133-aa8c-9138c31e23cb_0\", \"run_number\": 55, \"metric\": null, \"status\": \"Running\", \"run_type\": \"azureml.scriptrun\", \"training_percent\": \"100\", \"start_time\": \"2021-03-25T16:50:34.379108Z\", \"end_time\": \"\", \"created_time\": \"2021-03-25T16:50:14.856114Z\", \"created_time_dt\": \"2021-03-25T16:50:14.856114Z\", \"duration\": \"0:00:37\", \"iteration\": \"0\", \"goal\": null, \"run_name\": \"Running\", \"run_properties\": null}, {\"run_id\": \"AutoML_9be7e20a-6720-4133-aa8c-9138c31e23cb_2\", \"run_number\": 56, \"metric\": null, \"status\": \"Running\", \"run_type\": \"azureml.scriptrun\", \"training_percent\": \"100\", \"start_time\": \"2021-03-25T16:50:35.126962Z\", \"end_time\": \"\", \"created_time\": \"2021-03-25T16:50:14.589781Z\", \"created_time_dt\": \"2021-03-25T16:50:14.589781Z\", \"duration\": \"0:00:38\", \"iteration\": \"2\", \"goal\": null, \"run_name\": \"Running\", \"run_properties\": null}, {\"run_id\": \"AutoML_9be7e20a-6720-4133-aa8c-9138c31e23cb_3\", \"run_number\": 54, \"metric\": null, \"status\": \"Running\", \"run_type\": \"azureml.scriptrun\", \"training_percent\": \"100\", \"start_time\": \"2021-03-25T16:50:33.012747Z\", \"end_time\": \"\", \"created_time\": \"2021-03-25T16:50:14.607397Z\", \"created_time_dt\": \"2021-03-25T16:50:14.607397Z\", \"duration\": \"0:00:38\", \"iteration\": \"3\", \"goal\": null, \"run_name\": \"Running\", \"run_properties\": null}, {\"run_id\": \"AutoML_9be7e20a-6720-4133-aa8c-9138c31e23cb_1\", \"run_number\": 53, \"metric\": null, \"status\": \"Running\", \"run_type\": \"azureml.scriptrun\", \"training_percent\": \"100\", \"start_time\": \"2021-03-25T16:50:32.588424Z\", \"end_time\": \"\", \"created_time\": \"2021-03-25T16:50:14.585814Z\", \"created_time_dt\": \"2021-03-25T16:50:14.585814Z\", \"duration\": \"0:00:38\", \"iteration\": \"1\", \"goal\": null, \"run_name\": \"Running\", \"run_properties\": null}], \"children_metrics\": {\"categories\": null, \"series\": null, \"metricName\": null}, \"run_metrics\": [{\"name\": \"experiment_status\", \"run_id\": \"AutoML_9be7e20a-6720-4133-aa8c-9138c31e23cb\", \"categories\": [0, 1, 2, 3, 4, 5, 6], \"series\": [{\"data\": [\"DatasetEvaluation\", \"FeaturesGeneration\", \"DatasetFeaturization\", \"DatasetFeaturizationCompleted\", \"DatasetBalancing\", \"DatasetCrossValidationSplit\", \"ModelSelection\"]}]}, {\"name\": \"experiment_status_description\", \"run_id\": \"AutoML_9be7e20a-6720-4133-aa8c-9138c31e23cb\", \"categories\": [0, 1, 2, 3, 4, 5, 6], \"series\": [{\"data\": [\"Gathering dataset statistics.\", \"Generating features for the dataset.\", \"Beginning to fit featurizers and featurize the dataset.\", \"Completed fit featurizers and featurizing the dataset.\", \"Performing class balancing sweeping\", \"Generating individually featurized CV splits.\", \"Beginning model selection.\"]}]}], \"run_logs\": \"Your job is submitted in Azure cloud and we are monitoring to get logs...\", \"graph\": {}, \"widget_settings\": {\"childWidgetDisplay\": \"popup\", \"send_telemetry\": false, \"log_level\": \"INFO\", \"sdk_version\": \"1.22.0\"}, \"loading\": false}"
     },
     "metadata": {},
     "output_type": "display_data"
    }
   ],
   "source": [
    "remote_run = exp.submit(config=automl_config, show_output=False) \n",
    "RunDetails(remote_run).show() \n",
    "remote_run.wait_for_completion(show_output=False)"
   ]
  },
  {
   "cell_type": "code",
   "execution_count": null,
   "metadata": {
    "gather": {
     "logged": 1616550177228
    }
   },
   "outputs": [],
   "source": [
    "print(\"Run Status:\", remote_run.get_status())"
   ]
  },
  {
   "cell_type": "markdown",
   "metadata": {},
   "source": [
    "## Best Model\n",
    "\n",
    "Get the best model from the automl experiments and display all the properties of the model.\n",
    "\n"
   ]
  },
  {
   "cell_type": "code",
   "execution_count": 368,
   "metadata": {
    "gather": {
     "logged": 1616550183974
    },
    "jupyter": {
     "outputs_hidden": false,
     "source_hidden": false
    },
    "nteract": {
     "transient": {
      "deleting": false
     }
    }
   },
   "outputs": [
    {
     "name": "stdout",
     "output_type": "stream",
     "text": [
      "{'experiment_status': ['DatasetEvaluation', 'FeaturesGeneration', 'DatasetFeaturization', 'DatasetFeaturizationCompleted', 'DatasetBalancing', 'DatasetCrossValidationSplit', 'ModelSelection', 'BestRunExplainModel', 'ModelExplanationDataSetSetup', 'PickSurrogateModel', 'EngineeredFeatureExplanations', 'EngineeredFeatureExplanations', 'RawFeaturesExplanations', 'RawFeaturesExplanations', 'BestRunExplainModel'], 'experiment_status_description': ['Gathering dataset statistics.', 'Generating features for the dataset.', 'Beginning to fit featurizers and featurize the dataset.', 'Completed fit featurizers and featurizing the dataset.', 'Performing class balancing sweeping', 'Generating individually featurized CV splits.', 'Beginning model selection.', 'Best run model explanations started', 'Model explanations data setup completed', 'Choosing LightGBM as the surrogate model for explanations', 'Computation of engineered features started', 'Computation of engineered features completed', 'Computation of raw features started', 'Computation of raw features completed', 'Best run model explanations completed'], 'f1_score_micro': 0.9716524216524216, 'AUC_micro': 0.9970082426279007, 'weighted_accuracy': 0.9716788043716004, 'f1_score_weighted': 0.9774200815692718, 'accuracy': 0.9716524216524216, 'average_precision_score_micro': 0.9968784321973029, 'f1_score_macro': 0.7776619528495182, 'precision_score_micro': 0.9716524216524216, 'AUC_macro': 0.9799978874833976, 'average_precision_score_macro': 0.8051061813979169, 'recall_score_weighted': 0.9716524216524216, 'precision_score_weighted': 0.9880086621934551, 'recall_score_macro': 0.9701530010966627, 'balanced_accuracy': 0.9701530010966627, 'matthews_correlation': 0.6160875263101938, 'average_precision_score_weighted': 0.991849924454935, 'recall_score_micro': 0.9716524216524216, 'AUC_weighted': 0.9799978874833976, 'log_loss': 0.3129170437331355, 'precision_score_macro': 0.7029641303406372, 'norm_macro_recall': 0.9403060021933255}\n"
     ]
    }
   ],
   "source": [
    "print(remote_run.get_metrics())"
   ]
  },
  {
   "cell_type": "markdown",
   "metadata": {
    "nteract": {
     "transient": {
      "deleting": false
     }
    }
   },
   "source": [
    "Veiw the files that were created for the best run:"
   ]
  },
  {
   "cell_type": "markdown",
   "metadata": {
    "nteract": {
     "transient": {
      "deleting": false
     }
    }
   },
   "source": [
    "View dependencies for the best run model:"
   ]
  },
  {
   "cell_type": "code",
   "execution_count": 64,
   "metadata": {
    "gather": {
     "logged": 1616547685651
    },
    "jupyter": {
     "outputs_hidden": false,
     "source_hidden": false
    },
    "nteract": {
     "transient": {
      "deleting": false
     }
    }
   },
   "outputs": [
    {
     "data": {
      "text/plain": [
       "{'azureml-widgets': '1.22.0',\n",
       " 'azureml-train': '1.22.0',\n",
       " 'azureml-train-restclients-hyperdrive': '1.22.0',\n",
       " 'azureml-train-core': '1.22.0',\n",
       " 'azureml-train-automl': '1.22.0',\n",
       " 'azureml-train-automl-runtime': '1.22.0',\n",
       " 'azureml-train-automl-client': '1.22.0',\n",
       " 'azureml-tensorboard': '1.22.0',\n",
       " 'azureml-telemetry': '1.22.0',\n",
       " 'azureml-sdk': '1.22.0',\n",
       " 'azureml-samples': '0+unknown',\n",
       " 'azureml-pipeline': '1.22.0',\n",
       " 'azureml-pipeline-steps': '1.22.0',\n",
       " 'azureml-pipeline-core': '1.22.0',\n",
       " 'azureml-opendatasets': '1.22.0',\n",
       " 'azureml-model-management-sdk': '1.0.1b6.post1',\n",
       " 'azureml-mlflow': '1.22.0',\n",
       " 'azureml-interpret': '1.22.0',\n",
       " 'azureml-explain-model': '1.22.0',\n",
       " 'azureml-defaults': '1.22.0',\n",
       " 'azureml-dataset-runtime': '1.22.0',\n",
       " 'azureml-dataprep': '2.9.1',\n",
       " 'azureml-dataprep-rslex': '1.7.0',\n",
       " 'azureml-dataprep-native': '29.0.0',\n",
       " 'azureml-datadrift': '1.22.0',\n",
       " 'azureml-core': '1.22.0',\n",
       " 'azureml-contrib-services': '1.22.0',\n",
       " 'azureml-contrib-server': '1.22.0',\n",
       " 'azureml-contrib-reinforcementlearning': '1.22.0',\n",
       " 'azureml-contrib-pipeline-steps': '1.22.0',\n",
       " 'azureml-contrib-notebook': '1.22.0',\n",
       " 'azureml-contrib-interpret': '1.22.0',\n",
       " 'azureml-contrib-gbdt': '1.22.0',\n",
       " 'azureml-contrib-fairness': '1.22.0',\n",
       " 'azureml-contrib-dataset': '1.22.0',\n",
       " 'azureml-cli-common': '1.22.0',\n",
       " 'azureml-automl-runtime': '1.22.0',\n",
       " 'azureml-automl-core': '1.22.0',\n",
       " 'azureml-accel-models': '1.22.0'}"
      ]
     },
     "execution_count": 64,
     "metadata": {},
     "output_type": "execute_result"
    }
   ],
   "source": [
    "remote_run.get_run_sdk_dependencies()"
   ]
  },
  {
   "cell_type": "code",
   "execution_count": 62,
   "metadata": {
    "gather": {
     "logged": 1616550217058
    },
    "jupyter": {
     "outputs_hidden": false,
     "source_hidden": false
    },
    "nteract": {
     "transient": {
      "deleting": false
     }
    }
   },
   "outputs": [
    {
     "name": "stderr",
     "output_type": "stream",
     "text": [
      "WARNING:root:The version of the SDK does not match the version the model was trained on.\n",
      "WARNING:root:The consistency in the result may not be guaranteed.\n",
      "WARNING:root:Package:azureml-automl-core, training version:1.24.0, current version:1.22.0\n",
      "Package:azureml-automl-runtime, training version:1.24.0, current version:1.22.0\n",
      "Package:azureml-core, training version:1.24.0.post1, current version:1.22.0\n",
      "Package:azureml-dataprep, training version:2.11.2, current version:2.9.1\n",
      "Package:azureml-dataprep-native, training version:30.0.0, current version:29.0.0\n",
      "Package:azureml-dataprep-rslex, training version:1.9.1, current version:1.7.0\n",
      "Package:azureml-dataset-runtime, training version:1.24.0, current version:1.22.0\n",
      "Package:azureml-defaults, training version:1.24.0, current version:1.22.0\n",
      "Package:azureml-interpret, training version:1.24.0, current version:1.22.0\n",
      "Package:azureml-mlflow, training version:1.24.0, current version:1.22.0\n",
      "Package:azureml-pipeline-core, training version:1.24.0, current version:1.22.0\n",
      "Package:azureml-telemetry, training version:1.24.0, current version:1.22.0\n",
      "Package:azureml-train-automl-client, training version:1.24.0, current version:1.22.0\n",
      "Package:azureml-train-automl-runtime, training version:1.24.0, current version:1.22.0\n",
      "WARNING:root:Please ensure the version of your local conda dependencies match the version on which your model was trained in order to properly retrieve your model.\n"
     ]
    }
   ],
   "source": [
    "best_run, fitted_model = remote_run.get_output()"
   ]
  },
  {
   "cell_type": "markdown",
   "metadata": {},
   "source": [
    "The line below should give the preprocessor(s) and algorithm (estimator) used"
   ]
  },
  {
   "cell_type": "code",
   "execution_count": 63,
   "metadata": {
    "gather": {
     "logged": 1616550294217
    },
    "jupyter": {
     "outputs_hidden": false,
     "source_hidden": false
    },
    "nteract": {
     "transient": {
      "deleting": false
     }
    }
   },
   "outputs": [
    {
     "data": {
      "text/plain": [
       "('prefittedsoftvotingclassifier',\n",
       " PreFittedSoftVotingClassifier(classification_labels=None,\n",
       "                               estimators=[('16',\n",
       "                                            Pipeline(memory=None,\n",
       "                                                     steps=[('standardscalerwrapper',\n",
       "                                                             <azureml.automl.runtime.shared.model_wrappers.StandardScalerWrapper object at 0x7f216c128828>),\n",
       "                                                            ('randomforestclassifier',\n",
       "                                                             RandomForestClassifier(bootstrap=True,\n",
       "                                                                                    ccp_alpha=0.0,\n",
       "                                                                                    class_weight='balanced',\n",
       "                                                                                    criterion='gini',\n",
       "                                                                                    max_depth=N...\n",
       "                                                                                    min_samples_split=0.6657894736842105,\n",
       "                                                                                    min_weight_fraction_leaf=0.0,\n",
       "                                                                                    n_estimators=200,\n",
       "                                                                                    n_jobs=1,\n",
       "                                                                                    oob_score=False,\n",
       "                                                                                    random_state=None,\n",
       "                                                                                    verbose=0,\n",
       "                                                                                    warm_start=False))],\n",
       "                                                     verbose=False))],\n",
       "                               flatten_transform=None,\n",
       "                               weights=[0.16666666666666666, 0.08333333333333333,\n",
       "                                        0.08333333333333333, 0.08333333333333333,\n",
       "                                        0.08333333333333333, 0.08333333333333333,\n",
       "                                        0.08333333333333333, 0.08333333333333333,\n",
       "                                        0.25]))"
      ]
     },
     "execution_count": 63,
     "metadata": {},
     "output_type": "execute_result"
    }
   ],
   "source": [
    "estimator = fitted_model.steps[-1]\n",
    "estimator"
   ]
  },
  {
   "cell_type": "markdown",
   "metadata": {},
   "source": [
    "Specifically, the voting model consists of the following 9 components:"
   ]
  },
  {
   "cell_type": "code",
   "execution_count": 73,
   "metadata": {},
   "outputs": [
    {
     "data": {
      "text/plain": [
       "'[16, 4, 14, 2, 32, 8, 20, 6, 25]'"
      ]
     },
     "execution_count": 73,
     "metadata": {},
     "output_type": "execute_result"
    }
   ],
   "source": [
    "best_run.get_tags()['ensembled_iterations']"
   ]
  },
  {
   "cell_type": "code",
   "execution_count": 74,
   "metadata": {},
   "outputs": [
    {
     "data": {
      "text/plain": [
       "\"['RandomForest', 'RandomForest', 'RandomForest', 'RandomForest', 'ExtremeRandomTrees', 'ExtremeRandomTrees', 'ExtremeRandomTrees', 'ExtremeRandomTrees', 'RandomForest']\""
      ]
     },
     "execution_count": 74,
     "metadata": {},
     "output_type": "execute_result"
    }
   ],
   "source": [
    "best_run.get_tags()['ensembled_algorithms']"
   ]
  },
  {
   "cell_type": "code",
   "execution_count": 75,
   "metadata": {
    "gather": {
     "logged": 1616550334646
    }
   },
   "outputs": [
    {
     "data": {
      "text/plain": [
       "'[0.16666666666666666, 0.08333333333333333, 0.08333333333333333, 0.08333333333333333, 0.08333333333333333, 0.08333333333333333, 0.08333333333333333, 0.08333333333333333, 0.25]'"
      ]
     },
     "execution_count": 75,
     "metadata": {},
     "output_type": "execute_result"
    }
   ],
   "source": [
    "best_run.get_tags()['ensemble_weights']"
   ]
  },
  {
   "cell_type": "markdown",
   "metadata": {
    "nteract": {
     "transient": {
      "deleting": false
     }
    }
   },
   "source": [
    "Save the best model"
   ]
  },
  {
   "cell_type": "code",
   "execution_count": 76,
   "metadata": {
    "gather": {
     "logged": 1616550338399
    },
    "jupyter": {
     "outputs_hidden": false,
     "source_hidden": false
    },
    "nteract": {
     "transient": {
      "deleting": false
     }
    }
   },
   "outputs": [
    {
     "data": {
      "text/plain": [
       "['fitted_automl_model.joblib']"
      ]
     },
     "execution_count": 76,
     "metadata": {},
     "output_type": "execute_result"
    }
   ],
   "source": [
    "joblib.dump(value=fitted_model, filename=\"fitted_automl_model.joblib\")"
   ]
  },
  {
   "cell_type": "markdown",
   "metadata": {
    "nteract": {
     "transient": {
      "deleting": false
     }
    }
   },
   "source": [
    "### `VotingEnsemble` model validation\n",
    "Load the fitted model for testing"
   ]
  },
  {
   "cell_type": "code",
   "execution_count": 12,
   "metadata": {
    "gather": {
     "logged": 1616551999863
    },
    "jupyter": {
     "outputs_hidden": false,
     "source_hidden": false
    },
    "nteract": {
     "transient": {
      "deleting": false
     }
    }
   },
   "outputs": [],
   "source": [
    "best_model = joblib.load('fitted_automl_model.joblib')"
   ]
  },
  {
   "cell_type": "markdown",
   "metadata": {
    "nteract": {
     "transient": {
      "deleting": false
     }
    }
   },
   "source": [
    "Fetch sample dataset, isolate Target in vector 'y'"
   ]
  },
  {
   "cell_type": "code",
   "execution_count": 13,
   "metadata": {
    "gather": {
     "logged": 1616551996113
    },
    "jupyter": {
     "outputs_hidden": false,
     "source_hidden": false
    },
    "nteract": {
     "transient": {
      "deleting": false
     }
    }
   },
   "outputs": [
    {
     "data": {
      "text/html": [
       "<div>\n",
       "<style scoped>\n",
       "    .dataframe tbody tr th:only-of-type {\n",
       "        vertical-align: middle;\n",
       "    }\n",
       "\n",
       "    .dataframe tbody tr th {\n",
       "        vertical-align: top;\n",
       "    }\n",
       "\n",
       "    .dataframe thead th {\n",
       "        text-align: right;\n",
       "    }\n",
       "</style>\n",
       "<table border=\"1\" class=\"dataframe\">\n",
       "  <thead>\n",
       "    <tr style=\"text-align: right;\">\n",
       "      <th></th>\n",
       "      <th>Column2</th>\n",
       "      <th>EQTA</th>\n",
       "      <th>EQTL</th>\n",
       "      <th>LLRTA</th>\n",
       "      <th>LLRGL</th>\n",
       "      <th>OEXTA</th>\n",
       "      <th>INCEMP</th>\n",
       "      <th>ROA</th>\n",
       "      <th>ROE</th>\n",
       "      <th>TDTL</th>\n",
       "      <th>TDTA</th>\n",
       "      <th>TATA</th>\n",
       "    </tr>\n",
       "  </thead>\n",
       "  <tbody>\n",
       "    <tr>\n",
       "      <th>111</th>\n",
       "      <td>2119</td>\n",
       "      <td>0.02</td>\n",
       "      <td>0.03</td>\n",
       "      <td>0.01</td>\n",
       "      <td>0.01</td>\n",
       "      <td>0.03</td>\n",
       "      <td>-202.71</td>\n",
       "      <td>-0.06</td>\n",
       "      <td>-2.64</td>\n",
       "      <td>1.24</td>\n",
       "      <td>0.97</td>\n",
       "      <td>0.10</td>\n",
       "    </tr>\n",
       "    <tr>\n",
       "      <th>92</th>\n",
       "      <td>27344</td>\n",
       "      <td>0.02</td>\n",
       "      <td>0.03</td>\n",
       "      <td>0.04</td>\n",
       "      <td>0.05</td>\n",
       "      <td>0.02</td>\n",
       "      <td>-68.36</td>\n",
       "      <td>-0.02</td>\n",
       "      <td>-1.17</td>\n",
       "      <td>1.16</td>\n",
       "      <td>0.91</td>\n",
       "      <td>0.06</td>\n",
       "    </tr>\n",
       "    <tr>\n",
       "      <th>88</th>\n",
       "      <td>25172</td>\n",
       "      <td>-0.03</td>\n",
       "      <td>-0.03</td>\n",
       "      <td>0.05</td>\n",
       "      <td>0.07</td>\n",
       "      <td>0.02</td>\n",
       "      <td>-371.85</td>\n",
       "      <td>-0.07</td>\n",
       "      <td>2.69</td>\n",
       "      <td>1.29</td>\n",
       "      <td>0.94</td>\n",
       "      <td>0.08</td>\n",
       "    </tr>\n",
       "    <tr>\n",
       "      <th>96</th>\n",
       "      <td>32536</td>\n",
       "      <td>-0.01</td>\n",
       "      <td>-0.02</td>\n",
       "      <td>0.03</td>\n",
       "      <td>0.04</td>\n",
       "      <td>0.02</td>\n",
       "      <td>-289.92</td>\n",
       "      <td>-0.05</td>\n",
       "      <td>3.47</td>\n",
       "      <td>1.36</td>\n",
       "      <td>0.93</td>\n",
       "      <td>0.16</td>\n",
       "    </tr>\n",
       "    <tr>\n",
       "      <th>102</th>\n",
       "      <td>35383</td>\n",
       "      <td>0.02</td>\n",
       "      <td>0.02</td>\n",
       "      <td>0.03</td>\n",
       "      <td>0.04</td>\n",
       "      <td>0.02</td>\n",
       "      <td>-71.56</td>\n",
       "      <td>-0.01</td>\n",
       "      <td>-0.77</td>\n",
       "      <td>1.11</td>\n",
       "      <td>0.89</td>\n",
       "      <td>0.07</td>\n",
       "    </tr>\n",
       "  </tbody>\n",
       "</table>\n",
       "</div>"
      ],
      "text/plain": [
       "    Column2  EQTA  EQTL  LLRTA  LLRGL  OEXTA  INCEMP   ROA   ROE  TDTL  TDTA  \\\n",
       "111    2119  0.02  0.03   0.01   0.01   0.03 -202.71 -0.06 -2.64  1.24  0.97   \n",
       "92    27344  0.02  0.03   0.04   0.05   0.02  -68.36 -0.02 -1.17  1.16  0.91   \n",
       "88    25172 -0.03 -0.03   0.05   0.07   0.02 -371.85 -0.07  2.69  1.29  0.94   \n",
       "96    32536 -0.01 -0.02   0.03   0.04   0.02 -289.92 -0.05  3.47  1.36  0.93   \n",
       "102   35383  0.02  0.02   0.03   0.04   0.02  -71.56 -0.01 -0.77  1.11  0.89   \n",
       "\n",
       "     TATA  \n",
       "111  0.10  \n",
       "92   0.06  \n",
       "88   0.08  \n",
       "96   0.16  \n",
       "102  0.07  "
      ]
     },
     "execution_count": 13,
     "metadata": {},
     "output_type": "execute_result"
    }
   ],
   "source": [
    "sample = df.loc[df['Target']==1].sample(30)\n",
    "y = sample.pop('Target')\n",
    "sample.head()"
   ]
  },
  {
   "cell_type": "markdown",
   "metadata": {
    "nteract": {
     "transient": {
      "deleting": false
     }
    }
   },
   "source": [
    "Run the model to produce predictions"
   ]
  },
  {
   "cell_type": "code",
   "execution_count": 14,
   "metadata": {
    "gather": {
     "logged": 1616552006431
    },
    "jupyter": {
     "outputs_hidden": false,
     "source_hidden": false
    },
    "nteract": {
     "transient": {
      "deleting": false
     }
    }
   },
   "outputs": [
    {
     "name": "stdout",
     "output_type": "stream",
     "text": [
      "[1 1 1 1 1 1 1 1 1 1 1 1 1 1 1 1 1 1 1 0 1 1 1 1 1 1 1 1 1 1]\n"
     ]
    }
   ],
   "source": [
    "print(best_model.predict(sample))"
   ]
  },
  {
   "cell_type": "code",
   "execution_count": 15,
   "metadata": {},
   "outputs": [
    {
     "name": "stdout",
     "output_type": "stream",
     "text": [
      "[1, 1, 1, 1, 1, 1, 1, 1, 1, 1, 1, 1, 1, 1, 1, 1, 1, 1, 1, 1, 1, 1, 1, 1, 1, 1, 1, 1, 1, 1]\n"
     ]
    }
   ],
   "source": [
    "print(list(y))"
   ]
  },
  {
   "cell_type": "code",
   "execution_count": 16,
   "metadata": {},
   "outputs": [
    {
     "data": {
      "text/html": [
       "<div>\n",
       "<style scoped>\n",
       "    .dataframe tbody tr th:only-of-type {\n",
       "        vertical-align: middle;\n",
       "    }\n",
       "\n",
       "    .dataframe tbody tr th {\n",
       "        vertical-align: top;\n",
       "    }\n",
       "\n",
       "    .dataframe thead th {\n",
       "        text-align: right;\n",
       "    }\n",
       "</style>\n",
       "<table border=\"1\" class=\"dataframe\">\n",
       "  <thead>\n",
       "    <tr style=\"text-align: right;\">\n",
       "      <th></th>\n",
       "      <th>Predicted 0</th>\n",
       "      <th>Predicted 1</th>\n",
       "    </tr>\n",
       "  </thead>\n",
       "  <tbody>\n",
       "    <tr>\n",
       "      <th>True 0</th>\n",
       "      <td>0</td>\n",
       "      <td>0</td>\n",
       "    </tr>\n",
       "    <tr>\n",
       "      <th>True 1</th>\n",
       "      <td>1</td>\n",
       "      <td>29</td>\n",
       "    </tr>\n",
       "  </tbody>\n",
       "</table>\n",
       "</div>"
      ],
      "text/plain": [
       "        Predicted 0  Predicted 1\n",
       "True 0            0            0\n",
       "True 1            1           29"
      ]
     },
     "execution_count": 16,
     "metadata": {},
     "output_type": "execute_result"
    }
   ],
   "source": [
    "y_test = list(y)\n",
    "predictions = best_model.predict(sample)\n",
    "\n",
    "pd.DataFrame(confusion_matrix(y_test, predictions), index=[\"True 0\", \"True 1\"], \n",
    "             columns=[\"Predicted 0\", \"Predicted 1\"])"
   ]
  },
  {
   "cell_type": "markdown",
   "metadata": {},
   "source": [
    "## Model Deployment\n",
    "\n",
    "Register the model"
   ]
  },
  {
   "cell_type": "code",
   "execution_count": 17,
   "metadata": {
    "gather": {
     "logged": 1616552312685
    },
    "jupyter": {
     "outputs_hidden": false,
     "source_hidden": false
    },
    "nteract": {
     "transient": {
      "deleting": false
     }
    }
   },
   "outputs": [
    {
     "ename": "NameError",
     "evalue": "name 'remote_run' is not defined",
     "output_type": "error",
     "traceback": [
      "\u001b[0;31m---------------------------------------------------------------------------\u001b[0m",
      "\u001b[0;31mNameError\u001b[0m                                 Traceback (most recent call last)",
      "\u001b[0;32m<ipython-input-17-ff173bbe0c2e>\u001b[0m in \u001b[0;36m<module>\u001b[0;34m\u001b[0m\n\u001b[0;32m----> 1\u001b[0;31m \u001b[0mautoml_model\u001b[0m \u001b[0;34m=\u001b[0m \u001b[0mremote_run\u001b[0m\u001b[0;34m.\u001b[0m\u001b[0mregister_model\u001b[0m\u001b[0;34m(\u001b[0m\u001b[0mmodel_name\u001b[0m\u001b[0;34m=\u001b[0m\u001b[0;34m'automl_model.pkl'\u001b[0m\u001b[0;34m)\u001b[0m\u001b[0;34m\u001b[0m\u001b[0;34m\u001b[0m\u001b[0m\n\u001b[0m",
      "\u001b[0;31mNameError\u001b[0m: name 'remote_run' is not defined"
     ]
    }
   ],
   "source": [
    "automl_model = remote_run.register_model(model_name='automl_model.pkl')"
   ]
  },
  {
   "cell_type": "markdown",
   "metadata": {},
   "source": [
    "Create inference config"
   ]
  },
  {
   "cell_type": "code",
   "execution_count": 371,
   "metadata": {
    "gather": {
     "logged": 1616552323847
    }
   },
   "outputs": [],
   "source": [
    "environment = best_run.get_environment()\n",
    "entry_script='inference/scoring.py'\n",
    "best_run.download_file('outputs/scoring_file_v_1_0_0.py', entry_script)\n",
    "inference_config = InferenceConfig(entry_script = entry_script, environment = environment) "
   ]
  },
  {
   "cell_type": "markdown",
   "metadata": {},
   "source": [
    "Deploy the model as web service"
   ]
  },
  {
   "cell_type": "code",
   "execution_count": 372,
   "metadata": {
    "gather": {
     "logged": 1616514265047
    }
   },
   "outputs": [
    {
     "name": "stdout",
     "output_type": "stream",
     "text": [
      "Tips: You can try get_logs(): https://aka.ms/debugimage#dockerlog or local deployment: https://aka.ms/debugimage#debug-locally to debug if deployment takes longer than 10 minutes.\n",
      "Running...........................................................\n",
      "Succeeded\n",
      "ACI service creation operation finished, operation \"Succeeded\"\n"
     ]
    }
   ],
   "source": [
    "deployment_config = AciWebservice.deploy_configuration(cpu_cores = 1, \n",
    "                                                    memory_gb = 1, \n",
    "                                                    auth_enabled= True, \n",
    "                                                    enable_app_insights= True)\n",
    "\n",
    "service = Model.deploy(ws, \"aciservice\", [automl_model], inference_config, deployment_config)\n",
    "service.wait_for_deployment(show_output = True)\n"
   ]
  },
  {
   "cell_type": "markdown",
   "metadata": {
    "nteract": {
     "transient": {
      "deleting": false
     }
    }
   },
   "source": [
    "Check status of the web service"
   ]
  },
  {
   "cell_type": "code",
   "execution_count": 5,
   "metadata": {
    "gather": {
     "logged": 1616514374431
    }
   },
   "outputs": [
    {
     "ename": "NameError",
     "evalue": "name 'service' is not defined",
     "output_type": "error",
     "traceback": [
      "\u001b[0;31m---------------------------------------------------------------------------\u001b[0m",
      "\u001b[0;31mNameError\u001b[0m                                 Traceback (most recent call last)",
      "\u001b[0;32m<ipython-input-5-0de2fa86a47f>\u001b[0m in \u001b[0;36m<module>\u001b[0;34m\u001b[0m\n\u001b[0;32m----> 1\u001b[0;31m \u001b[0mprint\u001b[0m\u001b[0;34m(\u001b[0m\u001b[0;34m\"Print ACI service status: {}\"\u001b[0m\u001b[0;34m.\u001b[0m\u001b[0mformat\u001b[0m\u001b[0;34m(\u001b[0m\u001b[0mservice\u001b[0m\u001b[0;34m.\u001b[0m\u001b[0mstate\u001b[0m\u001b[0;34m)\u001b[0m\u001b[0;34m)\u001b[0m\u001b[0;34m\u001b[0m\u001b[0;34m\u001b[0m\u001b[0m\n\u001b[0m",
      "\u001b[0;31mNameError\u001b[0m: name 'service' is not defined"
     ]
    }
   ],
   "source": [
    "print(\"Print ACI service status: {}\".format(service.state))"
   ]
  },
  {
   "cell_type": "markdown",
   "metadata": {
    "nteract": {
     "transient": {
      "deleting": false
     }
    }
   },
   "source": [
    "If 'Healthy', get the URIs"
   ]
  },
  {
   "cell_type": "code",
   "execution_count": 421,
   "metadata": {
    "gather": {
     "logged": 1616514380896
    },
    "jupyter": {
     "outputs_hidden": false,
     "source_hidden": false
    },
    "nteract": {
     "transient": {
      "deleting": false
     }
    }
   },
   "outputs": [
    {
     "name": "stdout",
     "output_type": "stream",
     "text": [
      "Scoring URI:\n",
      " http://d2cabb1b-fa10-4e04-9aa2-56416603e956.eastus.azurecontainer.io/score\n",
      "Swagger URI:\n",
      " http://d2cabb1b-fa10-4e04-9aa2-56416603e956.eastus.azurecontainer.io/swagger.json\n"
     ]
    }
   ],
   "source": [
    "print(\"Scoring URI:\\n {}\".format(service.scoring_uri))\n",
    "print(\"Swagger URI:\\n {}\".format(service.swagger_uri))"
   ]
  },
  {
   "cell_type": "markdown",
   "metadata": {},
   "source": [
    "Store primary and secondary keys for authorization"
   ]
  },
  {
   "cell_type": "code",
   "execution_count": 422,
   "metadata": {
    "gather": {
     "logged": 1616514386860
    },
    "jupyter": {
     "outputs_hidden": false,
     "source_hidden": false
    },
    "nteract": {
     "transient": {
      "deleting": false
     }
    }
   },
   "outputs": [
    {
     "name": "stdout",
     "output_type": "stream",
     "text": [
      "Primary key: ZojzZXEq8gzDVlTgfrHTh7ih2ZyWqP6Z,\n",
      "Secondary key: ho5wyQWBxj6FH4q4pt6MIyB0nOuQqaRe\n"
     ]
    }
   ],
   "source": [
    "primary, secondary = service.get_keys()\n",
    "print(\"Primary key: {},\\nSecondary key: {}\".format(primary, secondary)) "
   ]
  },
  {
   "cell_type": "markdown",
   "metadata": {
    "collapsed": true,
    "gather": {
     "logged": 1598431657736
    },
    "jupyter": {
     "outputs_hidden": false,
     "source_hidden": false
    },
    "nteract": {
     "transient": {
      "deleting": false
     }
    }
   },
   "source": [
    "Take a small sample of feautures of the failed banks (`'Target'=1`)"
   ]
  },
  {
   "cell_type": "code",
   "execution_count": 423,
   "metadata": {
    "gather": {
     "logged": 1616514524390
    },
    "jupyter": {
     "outputs_hidden": false,
     "source_hidden": false
    },
    "nteract": {
     "transient": {
      "deleting": false
     }
    }
   },
   "outputs": [],
   "source": [
    "sample = df.loc[df['Target']==1].sample(5)\n",
    "y = sample.pop('Target')"
   ]
  },
  {
   "cell_type": "markdown",
   "metadata": {
    "nteract": {
     "transient": {
      "deleting": false
     }
    }
   },
   "source": [
    "Use this  sample to create JSON payload and headers"
   ]
  },
  {
   "cell_type": "code",
   "execution_count": 424,
   "metadata": {},
   "outputs": [],
   "source": [
    "json_payload = json.dumps({'data': sample.to_dict(orient='records')})\n",
    "headers = {\"Content-Type\": \"application/json\"}\n",
    "headers[\"Authorization\"] = \"Bearer {}\".format(primary) #{primary}\""
   ]
  },
  {
   "cell_type": "code",
   "execution_count": 425,
   "metadata": {},
   "outputs": [
    {
     "name": "stdout",
     "output_type": "stream",
     "text": [
      "{\"data\": [{\"Column2\": \"17599\", \"EQTA\": 0.008727358220964711, \"EQTL\": 0.01294835093459068, \"LLRTA\": 0.03824552940771113, \"LLRGL\": 0.056743005605138445, \"OEXTA\": 0.017641181132205492, \"INCEMP\": -58.55172413793103, \"ROA\": -0.01376595843864197, \"ROE\": -1.5773339526242451, \"TDTL\": 1.4066491856912604, \"TDTA\": 0.9480999856097903, \"TATA\": 0.18393930979689535}, {\"Column2\": \"32536\", \"EQTA\": -0.013874568268510223, \"EQTL\": -0.02038155934447939, \"LLRTA\": 0.029670447310446633, \"LLRGL\": 0.04358549908955471, \"OEXTA\": 0.016322690060456495, \"INCEMP\": -289.91525423728814, \"ROA\": -0.04818771375286647, \"ROE\": 3.4730964467005077, \"TDTL\": 1.3637684158251946, \"TDTA\": 0.9283734216798228, \"TATA\": 0.15939836491382273}, {\"Column2\": \"58104\", \"EQTA\": 0.023639094628891077, \"EQTL\": 0.03416627988800886, \"LLRTA\": 0.011260164707101051, \"LLRGL\": 0.01627464778188678, \"OEXTA\": 0.04754752162428135, \"INCEMP\": -273.2631578947368, \"ROA\": -0.05378360180245507, \"ROE\": -2.275197195442594, \"TDTL\": 1.4068811666242458, \"TDTA\": 0.9733982493396177, \"TATA\": 0.01941264826228829}, {\"Column2\": \"58052\", \"EQTA\": 0.10038380509376107, \"EQTL\": 0.15422578655151142, \"LLRTA\": 0.008260153104858056, \"LLRGL\": 0.012690579007667225, \"OEXTA\": 0.017870924678250348, \"INCEMP\": 14.166666666666666, \"ROA\": 0.0026595189920944496, \"ROE\": 0.026493506493506493, \"TDTL\": 1.2482514401083187, \"TDTA\": 0.8124726225986107, \"TATA\": 0.18277153167434973}, {\"Column2\": \"29561\", \"EQTA\": 0.0558271488189462, \"EQTL\": 0.08465667845051718, \"LLRTA\": 0.022124457784264952, \"LLRGL\": 0.03354968233482346, \"OEXTA\": 0.042411035503566806, \"INCEMP\": -146.5076923076923, \"ROA\": -0.03915465740188722, \"ROE\": -0.7013551333038739, \"TDTL\": 1.2957310039965335, \"TDTA\": 0.8544744361984252, \"TATA\": 0.21476882593590033}]}\n"
     ]
    }
   ],
   "source": [
    "print(json_payload)"
   ]
  },
  {
   "cell_type": "markdown",
   "metadata": {},
   "source": [
    "Check if result is delivered, compare to true values"
   ]
  },
  {
   "cell_type": "code",
   "execution_count": 426,
   "metadata": {},
   "outputs": [
    {
     "name": "stdout",
     "output_type": "stream",
     "text": [
      "\n",
      "Predicted Values: {\"result\": [1, 1, 1, 0, 1]}\n",
      "\n",
      "True Values:  [1, 1, 1, 1, 1]\n"
     ]
    }
   ],
   "source": [
    "resp = requests.post(service.scoring_uri, json_payload, headers=headers)\n",
    "print('\\nPredicted Values:', resp.json())\n",
    "print(f'\\nTrue Values: ', list(y.values))"
   ]
  },
  {
   "cell_type": "markdown",
   "metadata": {},
   "source": [
    "Print out service logs"
   ]
  },
  {
   "cell_type": "code",
   "execution_count": 427,
   "metadata": {},
   "outputs": [
    {
     "name": "stdout",
     "output_type": "stream",
     "text": [
      "webservice logs: \n",
      "2021-03-24T23:55:30,100535500+00:00 - iot-server/run \n",
      "2021-03-24T23:55:30,107300900+00:00 - gunicorn/run \n",
      "2021-03-24T23:55:30,100143200+00:00 - rsyslog/run \n",
      "2021-03-24T23:55:30,178179900+00:00 - nginx/run \n",
      "/usr/sbin/nginx: /azureml-envs/azureml_2b14f450572e78de640d54eaabed5e4d/lib/libcrypto.so.1.0.0: no version information available (required by /usr/sbin/nginx)\n",
      "/usr/sbin/nginx: /azureml-envs/azureml_2b14f450572e78de640d54eaabed5e4d/lib/libcrypto.so.1.0.0: no version information available (required by /usr/sbin/nginx)\n",
      "/usr/sbin/nginx: /azureml-envs/azureml_2b14f450572e78de640d54eaabed5e4d/lib/libssl.so.1.0.0: no version information available (required by /usr/sbin/nginx)\n",
      "/usr/sbin/nginx: /azureml-envs/azureml_2b14f450572e78de640d54eaabed5e4d/lib/libssl.so.1.0.0: no version information available (required by /usr/sbin/nginx)\n",
      "/usr/sbin/nginx: /azureml-envs/azureml_2b14f450572e78de640d54eaabed5e4d/lib/libssl.so.1.0.0: no version information available (required by /usr/sbin/nginx)\n",
      "rsyslogd: /azureml-envs/azureml_2b14f450572e78de640d54eaabed5e4d/lib/libuuid.so.1: no version information available (required by rsyslogd)\n",
      "EdgeHubConnectionString and IOTEDGE_IOTHUBHOSTNAME are not set. Exiting...\n",
      "2021-03-24T23:55:30,593007800+00:00 - iot-server/finish 1 0\n",
      "2021-03-24T23:55:30,597305500+00:00 - Exit code 1 is normal. Not restarting iot-server.\n",
      "Starting gunicorn 19.9.0\n",
      "Listening at: http://127.0.0.1:31311 (72)\n",
      "Using worker: sync\n",
      "worker timeout is set to 300\n",
      "Booting worker with pid: 98\n",
      "SPARK_HOME not set. Skipping PySpark Initialization.\n",
      "Generating new fontManager, this may take some time...\n",
      "Initializing logger\n",
      "2021-03-24 23:55:33,456 | root | INFO | Starting up app insights client\n",
      "2021-03-24 23:55:33,457 | root | INFO | Starting up request id generator\n",
      "2021-03-24 23:55:33,457 | root | INFO | Starting up app insight hooks\n",
      "2021-03-24 23:55:33,457 | root | INFO | Invoking user's init function\n",
      "2021-03-24 23:55:38,630 | azureml.core | WARNING | Failure while loading azureml_run_type_providers. Failed to load entrypoint automl = azureml.train.automl.run:AutoMLRun._from_run_dto with exception (cryptography 3.2 (/azureml-envs/azureml_2b14f450572e78de640d54eaabed5e4d/lib/python3.6/site-packages), Requirement.parse('cryptography<4.0.0,>=3.3.1; extra == \"crypto\"'), {'PyJWT'}).\n",
      "Failure while loading azureml_run_type_providers. Failed to load entrypoint automl = azureml.train.automl.run:AutoMLRun._from_run_dto with exception (cryptography 3.2 (/azureml-envs/azureml_2b14f450572e78de640d54eaabed5e4d/lib/python3.6/site-packages), Requirement.parse('cryptography<4.0.0,>=3.3.1; extra == \"crypto\"'), {'PyJWT'}).\n",
      "2021-03-24 23:55:39,894 | root | INFO | Users's init has completed successfully\n",
      "2021-03-24 23:55:39,915 | root | INFO | Skipping middleware: dbg_model_info as it's not enabled.\n",
      "2021-03-24 23:55:39,915 | root | INFO | Skipping middleware: dbg_resource_usage as it's not enabled.\n",
      "2021-03-24 23:55:39,918 | root | INFO | Scoring timeout is found from os.environ: 60000 ms\n",
      "2021-03-24 23:55:40,630 | root | INFO | 200\n",
      "127.0.0.1 - - [24/Mar/2021:23:55:40 +0000] \"GET /swagger.json HTTP/1.0\" 200 2692 \"-\" \"Go-http-client/1.1\"\n",
      "2021-03-24 23:55:43,913 | root | INFO | 200\n",
      "127.0.0.1 - - [24/Mar/2021:23:55:43 +0000] \"GET /swagger.json HTTP/1.0\" 200 2692 \"-\" \"Go-http-client/1.1\"\n",
      "2021-03-24 23:57:40,189 | root | INFO | Validation Request Content-Type\n",
      "2021-03-24 23:57:40,190 | root | INFO | Scoring Timer is set to 60.0 seconds\n",
      "2021-03-24 23:57:40,579 | root | INFO | 200\n",
      "127.0.0.1 - - [24/Mar/2021:23:57:40 +0000] \"POST /score HTTP/1.0\" 200 31 \"-\" \"python-requests/2.25.1\"\n",
      "2021-03-24 23:58:36,275 | root | INFO | Validation Request Content-Type\n",
      "2021-03-24 23:58:36,399 | root | INFO | Scoring Timer is set to 60.0 seconds\n",
      "2021-03-24 23:58:37,371 | root | INFO | 200\n",
      "127.0.0.1 - - [24/Mar/2021:23:58:37 +0000] \"POST /score HTTP/1.0\" 200 20425 \"-\" \"python-requests/2.25.1\"\n",
      "2021-03-24 23:58:37,883 | root | INFO | Validation Request Content-Type\n",
      "2021-03-24 23:58:38,019 | root | INFO | Scoring Timer is set to 60.0 seconds\n",
      "2021-03-24 23:58:39,018 | root | INFO | 200\n",
      "127.0.0.1 - - [24/Mar/2021:23:58:39 +0000] \"POST /score HTTP/1.0\" 200 20212 \"-\" \"python-requests/2.25.1\"\n",
      "2021-03-24 23:58:39,483 | root | INFO | Validation Request Content-Type\n",
      "2021-03-24 23:58:39,603 | root | INFO | Scoring Timer is set to 60.0 seconds\n",
      "2021-03-24 23:58:40,484 | root | INFO | 200\n",
      "127.0.0.1 - - [24/Mar/2021:23:58:40 +0000] \"POST /score HTTP/1.0\" 200 20080 \"-\" \"python-requests/2.25.1\"\n",
      "2021-03-24 23:58:40,938 | root | INFO | Validation Request Content-Type\n",
      "2021-03-24 23:58:41,067 | root | INFO | Scoring Timer is set to 60.0 seconds\n",
      "2021-03-24 23:58:41,985 | root | INFO | 200\n",
      "127.0.0.1 - - [24/Mar/2021:23:58:41 +0000] \"POST /score HTTP/1.0\" 200 19903 \"-\" \"python-requests/2.25.1\"\n",
      "2021-03-24 23:58:42,476 | root | INFO | Validation Request Content-Type\n",
      "2021-03-24 23:58:42,629 | root | INFO | Scoring Timer is set to 60.0 seconds\n",
      "2021-03-24 23:58:43,585 | root | INFO | 200\n",
      "127.0.0.1 - - [24/Mar/2021:23:58:43 +0000] \"POST /score HTTP/1.0\" 200 19801 \"-\" \"python-requests/2.25.1\"\n",
      "2021-03-24 23:58:44,082 | root | INFO | Validation Request Content-Type\n",
      "2021-03-24 23:58:44,240 | root | INFO | Scoring Timer is set to 60.0 seconds\n",
      "2021-03-24 23:58:45,178 | root | INFO | 200\n",
      "127.0.0.1 - - [24/Mar/2021:23:58:45 +0000] \"POST /score HTTP/1.0\" 200 21541 \"-\" \"python-requests/2.25.1\"\n",
      "2021-03-24 23:58:45,684 | root | INFO | Validation Request Content-Type\n",
      "2021-03-24 23:58:45,834 | root | INFO | Scoring Timer is set to 60.0 seconds\n",
      "2021-03-24 23:58:46,789 | root | INFO | 200\n",
      "127.0.0.1 - - [24/Mar/2021:23:58:46 +0000] \"POST /score HTTP/1.0\" 200 21343 \"-\" \"python-requests/2.25.1\"\n",
      "2021-03-24 23:58:47,376 | root | INFO | Validation Request Content-Type\n",
      "2021-03-24 23:58:47,549 | root | INFO | Scoring Timer is set to 60.0 seconds\n",
      "2021-03-24 23:58:48,532 | root | INFO | 200\n",
      "127.0.0.1 - - [24/Mar/2021:23:58:48 +0000] \"POST /score HTTP/1.0\" 200 21139 \"-\" \"python-requests/2.25.1\"\n",
      "2021-03-24 23:58:49,080 | root | INFO | Validation Request Content-Type\n",
      "2021-03-24 23:58:49,228 | root | INFO | Scoring Timer is set to 60.0 seconds\n",
      "2021-03-24 23:58:50,309 | root | INFO | 200\n",
      "127.0.0.1 - - [24/Mar/2021:23:58:50 +0000] \"POST /score HTTP/1.0\" 200 20833 \"-\" \"python-requests/2.25.1\"\n",
      "2021-03-25 00:30:28,714 | root | INFO | 200\n",
      "127.0.0.1 - - [25/Mar/2021:00:30:28 +0000] \"GET /swagger.json HTTP/1.0\" 200 2692 \"-\" \"Go-http-client/1.1\"\n",
      "2021-03-25 00:31:24,170 | root | INFO | Validation Request Content-Type\n",
      "2021-03-25 00:31:24,171 | root | INFO | Scoring Timer is set to 60.0 seconds\n",
      "2021-03-25 00:31:24,508 | root | INFO | 200\n",
      "127.0.0.1 - - [25/Mar/2021:00:31:24 +0000] \"POST /score HTTP/1.0\" 200 31 \"-\" \"python-requests/2.25.1\"\n",
      "\n",
      "\n"
     ]
    }
   ],
   "source": [
    "print(f'webservice logs: \\n{service.get_logs()}\\n')"
   ]
  },
  {
   "cell_type": "markdown",
   "metadata": {},
   "source": [
    "## Out of sample testing"
   ]
  },
  {
   "cell_type": "markdown",
   "metadata": {},
   "source": [
    "Define periods from which new , 'unseen' data will be used. In this case 9 out-of-sample quarters of reports that the model has never seen."
   ]
  },
  {
   "cell_type": "code",
   "execution_count": 4,
   "metadata": {},
   "outputs": [],
   "source": [
    "oos_reports = ['2010Q4', '2011Q1', '2011Q2', '2011Q3', '2011Q4', '2012Q1', '2012Q2', '2012Q3', '2012Q4']"
   ]
  },
  {
   "cell_type": "markdown",
   "metadata": {},
   "source": [
    "Get the date for the quarter, get features and true y_oos, send features to the web service and get response, y_pred. Use y_oos and y_pred to compute confusion matrix. Store results in a dictionary."
   ]
  },
  {
   "cell_type": "code",
   "execution_count": 428,
   "metadata": {},
   "outputs": [],
   "source": [
    "outofsample_results = {}\n",
    "for report in oos_reports:\n",
    "    # Get the quarter-end report and drop missing values\n",
    "    oos_df = pd.read_csv('https://raw.githubusercontent.com/allaccountstaken/automl_v_hyperdrive/main/oos/camel_data_after{}_OOS.csv'.format(report))\n",
    "    oos_df.replace([np.inf, -np.inf], np.nan)\n",
    "    oos_df.dropna(inplace=True)\n",
    "    \n",
    "    # Prepare data for model consumption, 12 columns expected\n",
    "    oos_df.pop('AsOfDate')\n",
    "    oos_df.rename(columns={'Unnamed: 0':'Column2'}, inplace=True)\n",
    "    \n",
    "    # Assing true values (y_oos) and features (X_oos)\n",
    "    y_oos = oos_df['Target']\n",
    "    X_oos = oos_df[['Column2', 'EQTA', 'EQTL', 'LLRTA', 'LLRGL', 'OEXTA', 'INCEMP', 'ROA', 'ROE', \n",
    "                    'TDTL', 'TDTA', 'TATA']].copy()\n",
    "    \n",
    "    \n",
    "    # Send JSON payload and ask for peridictions\n",
    "    json_payload = json.dumps({'data': X_oos.to_dict(orient='records')})\n",
    "    y_pred = json.loads(service.run(json_payload))[\"result\"]\n",
    "    \n",
    "    # Compute confusion matrix\n",
    "    tn, fp, fn, tp = confusion_matrix(y_oos, y_pred).ravel()\n",
    "    mcc = np.round(matthews_corrcoef(y_oos, y_pred), 2)\n",
    "    \n",
    "    # Build report as a dictionary \n",
    "    outofsample_results[report] = {'Actually failed':fn+tp, \n",
    "                                   'Predicted fail':tp,\n",
    "                                   'Recall (TP/TP+FN)':np.round(tp/(tp+fn), 2),\n",
    "                                   'Precision (TP/TP+FP)':np.round(tp/(tp+fp), 2),\n",
    "                                   'Matthews Correlation':mcc\n",
    "                                  }"
   ]
  },
  {
   "cell_type": "code",
   "execution_count": 429,
   "metadata": {},
   "outputs": [
    {
     "data": {
      "text/plain": [
       "{'2010Q4': {'Actually failed': 24,\n",
       "  'Predicted fail': 22,\n",
       "  'Recall (TP/TP+FN)': 0.92,\n",
       "  'Precision (TP/TP+FP)': 0.11,\n",
       "  'Matthews Correlation': 0.31},\n",
       " '2011Q1': {'Actually failed': 19,\n",
       "  'Predicted fail': 19,\n",
       "  'Recall (TP/TP+FN)': 1.0,\n",
       "  'Precision (TP/TP+FP)': 0.09,\n",
       "  'Matthews Correlation': 0.29},\n",
       " '2011Q2': {'Actually failed': 25,\n",
       "  'Predicted fail': 25,\n",
       "  'Recall (TP/TP+FN)': 1.0,\n",
       "  'Precision (TP/TP+FP)': 0.11,\n",
       "  'Matthews Correlation': 0.33},\n",
       " '2011Q3': {'Actually failed': 18,\n",
       "  'Predicted fail': 17,\n",
       "  'Recall (TP/TP+FN)': 0.94,\n",
       "  'Precision (TP/TP+FP)': 0.08,\n",
       "  'Matthews Correlation': 0.28},\n",
       " '2011Q4': {'Actually failed': 13,\n",
       "  'Predicted fail': 13,\n",
       "  'Recall (TP/TP+FN)': 1.0,\n",
       "  'Precision (TP/TP+FP)': 0.06,\n",
       "  'Matthews Correlation': 0.25},\n",
       " '2012Q1': {'Actually failed': 15,\n",
       "  'Predicted fail': 15,\n",
       "  'Recall (TP/TP+FN)': 1.0,\n",
       "  'Precision (TP/TP+FP)': 0.08,\n",
       "  'Matthews Correlation': 0.28},\n",
       " '2012Q2': {'Actually failed': 12,\n",
       "  'Predicted fail': 12,\n",
       "  'Recall (TP/TP+FN)': 1.0,\n",
       "  'Precision (TP/TP+FP)': 0.07,\n",
       "  'Matthews Correlation': 0.26},\n",
       " '2012Q3': {'Actually failed': 8,\n",
       "  'Predicted fail': 8,\n",
       "  'Recall (TP/TP+FN)': 1.0,\n",
       "  'Precision (TP/TP+FP)': 0.05,\n",
       "  'Matthews Correlation': 0.23},\n",
       " '2012Q4': {'Actually failed': 4,\n",
       "  'Predicted fail': 4,\n",
       "  'Recall (TP/TP+FN)': 1.0,\n",
       "  'Precision (TP/TP+FP)': 0.03,\n",
       "  'Matthews Correlation': 0.16}}"
      ]
     },
     "execution_count": 429,
     "metadata": {},
     "output_type": "execute_result"
    }
   ],
   "source": [
    "outofsample_results"
   ]
  },
  {
   "cell_type": "markdown",
   "metadata": {},
   "source": [
    "These are summary data used in model training. This is needed for the plot only."
   ]
  },
  {
   "cell_type": "code",
   "execution_count": 430,
   "metadata": {},
   "outputs": [],
   "source": [
    "insample_results = {\n",
    "    '2009Q4':{'Actually failed':31, 'Predicted fail':0, 'Recall (TP/TP+FN)':0.69, 'Precision (TP/TP+FP)':0.63},\n",
    "    '2010Q1':{'Actually failed':35, 'Predicted fail':0, 'Recall (TP/TP+FN)':0.69, 'Precision (TP/TP+FP)':0.63},\n",
    "    '2010Q2':{'Actually failed':41, 'Predicted fail':0, 'Recall (TP/TP+FN)':0.69, 'Precision (TP/TP+FP)':0.63}, \n",
    "    '2010Q3':{'Actually failed':30, 'Predicted fail':0, 'Recall (TP/TP+FN)':0.69, 'Precision (TP/TP+FP)':0.63}}"
   ]
  },
  {
   "cell_type": "markdown",
   "metadata": {},
   "source": [
    "Create a plot: counts of banks that actually failed (blue) and counts of banks that are predicted to fail (orange) as vertical bars. Area curves represent recall scores and precision. Note: the objective is to maximize recal, i.e. make the orange bars equal to the blue bars."
   ]
  },
  {
   "cell_type": "code",
   "execution_count": 431,
   "metadata": {},
   "outputs": [
    {
     "data": {
      "image/png": "[encoded data removed]",
      "text/plain": [
       "<Figure size 1440x576 with 2 Axes>"
      ]
     },
     "metadata": {
      "needs_background": "light"
     },
     "output_type": "display_data"
    }
   ],
   "source": [
    "# Combine all metrics in one DataFrame\n",
    "results_plot_df = results_df.append(pd.DataFrame.from_dict(outofsample_results).T)\n",
    "\n",
    "# Prepare figure and split axis\n",
    "fig, ax1 = plt.subplots(sharex=True, figsize=(20, 8))\n",
    "ax2 = ax1.twinx()\n",
    "\n",
    "# Plot bars and areas\n",
    "results_plot_df[['Actually failed','Predicted fail']].plot(\n",
    "    kind='bar', ax=ax1, width=0.9).legend(loc='upper left')                                                              \n",
    "results_plot_df[['Precision (TP/TP+FP)', 'Recall (TP/TP+FN)']].plot(\n",
    "    kind='area', stacked=False, alpha=0.2, ax=ax2).legend(loc='upper right')\n",
    "plt.axvline(x=3.4, ymin=0, ymax = 0.99, linewidth=3, color='k', linestyle=':')\n",
    "\n",
    "# Plot managements comtrols\n",
    "ax1.yaxis.tick_left()\n",
    "ax2.yaxis.tick_right()\n",
    "ax2.grid(True)\n",
    "ax1.set_xlim([-1.01, 13.01])\n",
    "\n",
    "# Assign titles\n",
    "ax1.text(x= 1.5, y=42.5, s='In-sample modeling', fontsize=14, verticalalignment='top')\n",
    "ax1.text(x= 3.5, y=42.5, s='Out-of-sample forecasting', fontsize=14, verticalalignment='top')\n",
    "plt.title('AutoML VotingEnsemble performance with out-of-sample data', fontsize=16)\n",
    "\n",
    "plt.show()"
   ]
  },
  {
   "cell_type": "markdown",
   "metadata": {
    "collapsed": true,
    "jupyter": {
     "outputs_hidden": false,
     "source_hidden": false
    },
    "nteract": {
     "transient": {
      "deleting": false
     }
    }
   },
   "source": [
    "Clean up - deleting the ACI service"
   ]
  },
  {
   "cell_type": "code",
   "execution_count": 3,
   "metadata": {
    "gather": {
     "logged": 1616454181026
    },
    "jupyter": {
     "outputs_hidden": false,
     "source_hidden": false
    },
    "nteract": {
     "transient": {
      "deleting": false
     }
    }
   },
   "outputs": [],
   "source": [
    "#service.delete()"
   ]
  },
  {
   "cell_type": "markdown",
   "metadata": {},
   "source": [
    "-- the end --"
   ]
  }
 ],
 "metadata": {
  "kernel_info": {
   "name": "python3-azureml"
  },
  "kernelspec": {
   "display_name": "Python 3.6 - AzureML",
   "language": "python",
   "name": "python3-azureml"
  },
  "language_info": {
   "codemirror_mode": {
    "name": "ipython",
    "version": 3
   },
   "file_extension": ".py",
   "mimetype": "text/x-python",
   "name": "python",
   "nbconvert_exporter": "python",
   "pygments_lexer": "ipython3",
   "version": "3.6.9"
  },
  "microsoft": {
   "host": {
    "AzureML": {
     "notebookHasBeenCompleted": true
    }
   }
  },
  "nteract": {
   "version": "nteract-front-end@1.0.0"
  }
 },
 "nbformat": 4,
 "nbformat_minor": 2
}
