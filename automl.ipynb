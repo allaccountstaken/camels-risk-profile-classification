{
 "cells": [
  {
   "cell_type": "markdown",
   "metadata": {},
   "source": [
    "# Automated ML\n",
    "\n",
    "Note: this research presents preliminary findings and is being distributed to interested readers solely to stimulate discussion and elicit comments. This notebook is use to train AutoML binary classification model, deploy it on remote server, and test it on the out of sample data."
   ]
  },
  {
   "cell_type": "code",
   "execution_count": 107,
   "metadata": {
    "gather": {
     "logged": 1616608254351
    },
    "jupyter": {
     "outputs_hidden": false,
     "source_hidden": false
    },
    "nteract": {
     "transient": {
      "deleting": false
     }
    }
   },
   "outputs": [],
   "source": [
    "#!pip install azureml-sdk==1.22.0"
   ]
  },
  {
   "cell_type": "code",
   "execution_count": 1,
   "metadata": {
    "gather": {
     "logged": 1616772246325
    },
    "jupyter": {
     "outputs_hidden": false,
     "source_hidden": false
    },
    "nteract": {
     "transient": {
      "deleting": false
     }
    }
   },
   "outputs": [
    {
     "name": "stdout",
     "output_type": "stream",
     "text": [
      "SDK version: 1.24.0\n"
     ]
    }
   ],
   "source": [
    "import logging\n",
    "import os\n",
    "import csv\n",
    "import joblib\n",
    "import json\n",
    "import requests\n",
    "import pandas as pd \n",
    "import numpy as np \n",
    "import azureml.core\n",
    "from azureml.core import Workspace, Experiment\n",
    "from azureml.train.automl import AutoMLConfig\n",
    "from azureml.core.dataset import Dataset\n",
    "from azureml.core.compute import ComputeTarget, AmlCompute\n",
    "from azureml.core.compute_target import ComputeTargetException\n",
    "from azureml.widgets import RunDetails\n",
    "from azureml.core.run import Run\n",
    "from azureml.core.model import InferenceConfig \n",
    "from azureml.core.webservice import AciWebservice, Webservice\n",
    "from azureml.core.model import Model\n",
    "from sklearn.metrics import confusion_matrix, matthews_corrcoef\n",
    "import matplotlib.pyplot as plt\n",
    "import joblib\n",
    "%matplotlib inline\n",
    "display.mpl_style ='ggplot'\n",
    "pd.set_option('use_inf_as_na', True)\n",
    "\n",
    "print(\"SDK version:\", azureml.core.VERSION)"
   ]
  },
  {
   "cell_type": "markdown",
   "metadata": {},
   "source": [
    "## Dataset\n",
    "\n",
    "### Overview\n",
    "The primary objective was to develop an early warning system, i.e. binary classification of failed ('Target'==1) vs. survived ('Target'==0), for the US banks using their quarterly filings with the regulator. Overall, 137 failed banks and 6,877 surviving banks were used in this machine learning exercise. Historical observations from the first 4 quarters ending 2010Q3 (stored in ./data) are used to tune the model and out-of-sample testing is performed on quarterly data starting from 2010Q4 (stored in ./oos). "
   ]
  },
  {
   "cell_type": "markdown",
   "metadata": {
    "nteract": {
     "transient": {
      "deleting": false
     }
    }
   },
   "source": [
    "### Setting up the project"
   ]
  },
  {
   "cell_type": "code",
   "execution_count": 2,
   "metadata": {
    "gather": {
     "logged": 1616772250393
    },
    "jupyter": {
     "outputs_hidden": false,
     "source_hidden": false
    },
    "nteract": {
     "transient": {
      "deleting": false
     }
    }
   },
   "outputs": [
    {
     "name": "stdout",
     "output_type": "stream",
     "text": [
      "Workspace name: my-wsp\n",
      "Azure region: eastus\n",
      "Subscription id: 0c66ad45-500d-48af-80d3-0039ebf1975e\n",
      "Resource group: automl-rgp\n"
     ]
    }
   ],
   "source": [
    "ws = Workspace.from_config()\n",
    "ws.write_config(path='.azureml')\n",
    "experiment_name = 'camels-clf'\n",
    "project_folder = './dmik'\n",
    "exp = Experiment(workspace=ws, name=experiment_name)\n",
    "#run = exp.start_logging() # added and \n",
    "\n",
    "print('Workspace name: ' + ws.name, \n",
    "      'Azure region: ' + ws.location, \n",
    "      'Subscription id: ' + ws.subscription_id, \n",
    "      'Resource group: ' + ws.resource_group, sep = '\\n')\n"
   ]
  },
  {
   "cell_type": "markdown",
   "metadata": {
    "nteract": {
     "transient": {
      "deleting": false
     }
    }
   },
   "source": [
    "### Uploading the training dataset using GUI"
   ]
  },
  {
   "cell_type": "code",
   "execution_count": 3,
   "metadata": {
    "gather": {
     "logged": 1616772268169
    },
    "jupyter": {
     "outputs_hidden": false,
     "source_hidden": false
    },
    "nteract": {
     "transient": {
      "deleting": false
     }
    }
   },
   "outputs": [
    {
     "data": {
      "text/html": [
       "<div>\n",
       "<style scoped>\n",
       "    .dataframe tbody tr th:only-of-type {\n",
       "        vertical-align: middle;\n",
       "    }\n",
       "\n",
       "    .dataframe tbody tr th {\n",
       "        vertical-align: top;\n",
       "    }\n",
       "\n",
       "    .dataframe thead th {\n",
       "        text-align: right;\n",
       "    }\n",
       "</style>\n",
       "<table border=\"1\" class=\"dataframe\">\n",
       "  <thead>\n",
       "    <tr style=\"text-align: right;\">\n",
       "      <th></th>\n",
       "      <th>Target</th>\n",
       "      <th>EQTA</th>\n",
       "      <th>EQTL</th>\n",
       "      <th>LLRTA</th>\n",
       "      <th>LLRGL</th>\n",
       "      <th>OEXTA</th>\n",
       "      <th>INCEMP</th>\n",
       "      <th>ROA</th>\n",
       "      <th>ROE</th>\n",
       "      <th>TDTL</th>\n",
       "      <th>TDTA</th>\n",
       "      <th>TATA</th>\n",
       "    </tr>\n",
       "  </thead>\n",
       "  <tbody>\n",
       "    <tr>\n",
       "      <th>0</th>\n",
       "      <td>1</td>\n",
       "      <td>0.008644</td>\n",
       "      <td>0.010834</td>\n",
       "      <td>0.092012</td>\n",
       "      <td>0.115320</td>\n",
       "      <td>0.025272</td>\n",
       "      <td>-593.165644</td>\n",
       "      <td>-0.136337</td>\n",
       "      <td>-15.772594</td>\n",
       "      <td>1.232007</td>\n",
       "      <td>0.982991</td>\n",
       "      <td>0.112894</td>\n",
       "    </tr>\n",
       "    <tr>\n",
       "      <th>1</th>\n",
       "      <td>1</td>\n",
       "      <td>0.078408</td>\n",
       "      <td>0.189268</td>\n",
       "      <td>0.003523</td>\n",
       "      <td>0.008503</td>\n",
       "      <td>0.022508</td>\n",
       "      <td>20.900000</td>\n",
       "      <td>0.003875</td>\n",
       "      <td>0.049421</td>\n",
       "      <td>2.205290</td>\n",
       "      <td>0.913583</td>\n",
       "      <td>0.358536</td>\n",
       "    </tr>\n",
       "    <tr>\n",
       "      <th>2</th>\n",
       "      <td>1</td>\n",
       "      <td>0.002112</td>\n",
       "      <td>0.003144</td>\n",
       "      <td>0.066657</td>\n",
       "      <td>0.099216</td>\n",
       "      <td>0.034378</td>\n",
       "      <td>-323.516556</td>\n",
       "      <td>-0.058455</td>\n",
       "      <td>-27.677620</td>\n",
       "      <td>1.383128</td>\n",
       "      <td>0.929228</td>\n",
       "      <td>0.135505</td>\n",
       "    </tr>\n",
       "    <tr>\n",
       "      <th>3</th>\n",
       "      <td>1</td>\n",
       "      <td>0.015982</td>\n",
       "      <td>0.021148</td>\n",
       "      <td>0.030035</td>\n",
       "      <td>0.039743</td>\n",
       "      <td>0.039763</td>\n",
       "      <td>-153.596354</td>\n",
       "      <td>-0.049911</td>\n",
       "      <td>-3.123001</td>\n",
       "      <td>1.195850</td>\n",
       "      <td>0.903733</td>\n",
       "      <td>0.094482</td>\n",
       "    </tr>\n",
       "    <tr>\n",
       "      <th>4</th>\n",
       "      <td>1</td>\n",
       "      <td>0.011542</td>\n",
       "      <td>0.013393</td>\n",
       "      <td>0.041798</td>\n",
       "      <td>0.048502</td>\n",
       "      <td>0.038922</td>\n",
       "      <td>-217.888889</td>\n",
       "      <td>-0.069640</td>\n",
       "      <td>-6.033846</td>\n",
       "      <td>1.145630</td>\n",
       "      <td>0.987286</td>\n",
       "      <td>0.098334</td>\n",
       "    </tr>\n",
       "  </tbody>\n",
       "</table>\n",
       "</div>"
      ],
      "text/plain": [
       "   Target      EQTA      EQTL     LLRTA     LLRGL     OEXTA      INCEMP  \\\n",
       "0       1  0.008644  0.010834  0.092012  0.115320  0.025272 -593.165644   \n",
       "1       1  0.078408  0.189268  0.003523  0.008503  0.022508   20.900000   \n",
       "2       1  0.002112  0.003144  0.066657  0.099216  0.034378 -323.516556   \n",
       "3       1  0.015982  0.021148  0.030035  0.039743  0.039763 -153.596354   \n",
       "4       1  0.011542  0.013393  0.041798  0.048502  0.038922 -217.888889   \n",
       "\n",
       "        ROA        ROE      TDTL      TDTA      TATA  \n",
       "0 -0.136337 -15.772594  1.232007  0.982991  0.112894  \n",
       "1  0.003875   0.049421  2.205290  0.913583  0.358536  \n",
       "2 -0.058455 -27.677620  1.383128  0.929228  0.135505  \n",
       "3 -0.049911  -3.123001  1.195850  0.903733  0.094482  \n",
       "4 -0.069640  -6.033846  1.145630  0.987286  0.098334  "
      ]
     },
     "execution_count": 3,
     "metadata": {},
     "output_type": "execute_result"
    }
   ],
   "source": [
    "dataset = ws.datasets['camels11'] \n",
    "df = dataset.to_pandas_dataframe()\n",
    "\n",
    "#len(df)\n",
    "df.head()\n",
    "#df.tail()"
   ]
  },
  {
   "cell_type": "markdown",
   "metadata": {},
   "source": [
    "### Checking for or creating appropriate `ComputeTarget`"
   ]
  },
  {
   "cell_type": "code",
   "execution_count": 4,
   "metadata": {
    "gather": {
     "logged": 1616772274362
    }
   },
   "outputs": [
    {
     "name": "stdout",
     "output_type": "stream",
     "text": [
      "Existing compute target.\n",
      "{\n",
      "  \"errors\": [],\n",
      "  \"creationTime\": \"2021-03-26T15:20:33.825941+00:00\",\n",
      "  \"createdBy\": {\n",
      "    \"userObjectId\": \"49e75006-b9ac-415c-9176-f83c59d4bf26\",\n",
      "    \"userTenantId\": \"d689239e-c492-40c6-b391-2c5951d31d14\",\n",
      "    \"userName\": null\n",
      "  },\n",
      "  \"modifiedTime\": \"2021-03-26T15:23:08.638003+00:00\",\n",
      "  \"state\": \"Running\",\n",
      "  \"vmSize\": \"STANDARD_DS3_V2\"\n",
      "}\n"
     ]
    }
   ],
   "source": [
    "cpu_cluster_name = 'my-cmp'\n",
    "\n",
    "try:\n",
    "    compute_target = ComputeTarget(workspace=ws, name=cpu_cluster_name)\n",
    "    print('Existing compute target.')\n",
    "\n",
    "except:\n",
    "    print('Creating compute target.')\n",
    "    compute_config = AmlCompute.provisioning_configuration(vm_size='STANDARD_D2_V2', max_nodes=4)\n",
    "    compute_target = ComputeTarget.create(ws, cpu_cluster_name, compute_config)\n",
    "\n",
    "print(compute_target.get_status())"
   ]
  },
  {
   "cell_type": "markdown",
   "metadata": {},
   "source": [
    "## AutoML Configuration\n",
    "### Primary metric determins configuaration\n",
    "Financial metrics recorded in the last reports of the failed banks should have predictive power that is needed to forecast future failures. Due to significant class imbalances and taking into account costs accosiated with financial distress, the model should aim to maximize the recall score. In other words, accuracy is probably not the best metrics, as Type II error needs to be minimized. This is why the main focus of this classification should be on maximizing AUC, hopefully, by achieving good recall score. This is why 'norm_macro_recall' was chosen as a primary metric. Timeout and number of concurrent iterations were set conservatively to control the costs."
   ]
  },
  {
   "cell_type": "code",
   "execution_count": 5,
   "metadata": {
    "gather": {
     "logged": 1616772280210
    }
   },
   "outputs": [],
   "source": [
    "automl_settings = {\n",
    "    \"experiment_timeout_minutes\": 20,\n",
    "    \"max_concurrent_iterations\": 4,\n",
    "    \"primary_metric\" : 'norm_macro_recall',\n",
    "    \"verbosity\": logging.INFO\n",
    "    }\n",
    "\n",
    "automl_config = AutoMLConfig(\n",
    "    compute_target=compute_target, \n",
    "    task = \"classification\",\n",
    "    training_data=dataset, \n",
    "    label_column_name=\"Target\", \n",
    "    path = project_folder,\n",
    "    enable_early_stopping= True, \n",
    "    featurization= 'auto', \n",
    "    debug_log = \"automl_errors.log\",\n",
    "    **automl_settings\n",
    "    )"
   ]
  },
  {
   "cell_type": "markdown",
   "metadata": {},
   "source": [
    "## Run Details\n",
    "\n",
    "### Possible modeling choices \n",
    "Generally speaking, decision trees should work well for this task, as these models do not make any functional form assumptions, handle both categorical and continuous data well, and are easy to interpret. Tree-based models simply aim to reduce entropy at every split and are therefore very straightforward, no need to worry about missing data and scaling. They are not very stable though, as new data may produce a totally different tree, and they also tend to overfit.\n",
    "\n",
    "Possible solution would be model averaging - employing “wisdom of the crowd”. It seems that for the present task two paths are possible: reducing variance or reducing bias. The former implies complex model, i.e. starting with a bushy, high-variance tree and resampling with replacement, what will produce a family of Random Forest models. The later implies starting with a simple model, i.e. possible a stump, high-bias classifier and learning from miss-classified instances, what will produce a family of Boosting models.\n"
   ]
  },
  {
   "cell_type": "code",
   "execution_count": 6,
   "metadata": {
    "gather": {
     "logged": 1616773456867
    },
    "jupyter": {
     "outputs_hidden": false,
     "source_hidden": false
    },
    "nteract": {
     "transient": {
      "deleting": false
     }
    }
   },
   "outputs": [
    {
     "name": "stdout",
     "output_type": "stream",
     "text": [
      "Running on remote.\n"
     ]
    },
    {
     "data": {
      "application/vnd.jupyter.widget-view+json": {
       "model_id": "0fd025ea36784fcf9095016bbe8f2d82",
       "version_major": 2,
       "version_minor": 0
      },
      "text/plain": [
       "_AutoMLWidget(widget_settings={'childWidgetDisplay': 'popup', 'send_telemetry': False, 'log_level': 'INFO', 's…"
      ]
     },
     "metadata": {},
     "output_type": "display_data"
    },
    {
     "data": {
      "application/aml.mini.widget.v1": "{\"status\": \"Completed\", \"workbench_run_details_uri\": \"https://ml.azure.com/experiments/camels-clf/runs/AutoML_494764fa-0431-4b4b-8b1b-fc84377a7a84?wsid=/subscriptions/0c66ad45-500d-48af-80d3-0039ebf1975e/resourcegroups/automl-rgp/workspaces/my-wsp\", \"run_id\": \"AutoML_494764fa-0431-4b4b-8b1b-fc84377a7a84\", \"run_properties\": {\"run_id\": \"AutoML_494764fa-0431-4b4b-8b1b-fc84377a7a84\", \"created_utc\": \"2021-03-26T15:24:52.637153Z\", \"properties\": {\"num_iterations\": \"1000\", \"training_type\": \"TrainFull\", \"acquisition_function\": \"EI\", \"primary_metric\": \"norm_macro_recall\", \"train_split\": \"0\", \"acquisition_parameter\": \"0\", \"num_cross_validation\": null, \"target\": \"my-cmp\", \"AMLSettingsJsonString\": \"{\\\"path\\\":null,\\\"name\\\":\\\"camels-clf\\\",\\\"subscription_id\\\":\\\"0c66ad45-500d-48af-80d3-0039ebf1975e\\\",\\\"resource_group\\\":\\\"automl-rgp\\\",\\\"workspace_name\\\":\\\"my-wsp\\\",\\\"region\\\":\\\"eastus\\\",\\\"compute_target\\\":\\\"my-cmp\\\",\\\"spark_service\\\":null,\\\"azure_service\\\":\\\"remote\\\",\\\"many_models\\\":false,\\\"pipeline_fetch_max_batch_size\\\":1,\\\"enable_batch_run\\\":false,\\\"iterations\\\":1000,\\\"primary_metric\\\":\\\"norm_macro_recall\\\",\\\"task_type\\\":\\\"classification\\\",\\\"data_script\\\":null,\\\"validation_size\\\":0.0,\\\"n_cross_validations\\\":null,\\\"y_min\\\":null,\\\"y_max\\\":null,\\\"num_classes\\\":null,\\\"featurization\\\":\\\"auto\\\",\\\"_ignore_package_version_incompatibilities\\\":false,\\\"is_timeseries\\\":false,\\\"max_cores_per_iteration\\\":1,\\\"max_concurrent_iterations\\\":4,\\\"iteration_timeout_minutes\\\":null,\\\"mem_in_mb\\\":null,\\\"enforce_time_on_windows\\\":false,\\\"experiment_timeout_minutes\\\":20,\\\"experiment_exit_score\\\":null,\\\"whitelist_models\\\":null,\\\"blacklist_algos\\\":[\\\"TensorFlowLinearClassifier\\\",\\\"TensorFlowDNN\\\"],\\\"supported_models\\\":[\\\"XGBoostClassifier\\\",\\\"AveragedPerceptronClassifier\\\",\\\"MultinomialNaiveBayes\\\",\\\"TensorFlowDNN\\\",\\\"BernoulliNaiveBayes\\\",\\\"RandomForest\\\",\\\"ExtremeRandomTrees\\\",\\\"DecisionTree\\\",\\\"LightGBM\\\",\\\"KNN\\\",\\\"LinearSVM\\\",\\\"GradientBoosting\\\",\\\"LogisticRegression\\\",\\\"TensorFlowLinearClassifier\\\",\\\"SGD\\\",\\\"SVM\\\"],\\\"private_models\\\":[],\\\"auto_blacklist\\\":true,\\\"blacklist_samples_reached\\\":false,\\\"exclude_nan_labels\\\":true,\\\"verbosity\\\":20,\\\"_debug_log\\\":\\\"azureml_automl.log\\\",\\\"show_warnings\\\":false,\\\"model_explainability\\\":true,\\\"service_url\\\":null,\\\"sdk_url\\\":null,\\\"sdk_packages\\\":null,\\\"enable_onnx_compatible_models\\\":false,\\\"enable_split_onnx_featurizer_estimator_models\\\":false,\\\"vm_type\\\":\\\"STANDARD_DS3_V2\\\",\\\"telemetry_verbosity\\\":20,\\\"send_telemetry\\\":true,\\\"enable_dnn\\\":false,\\\"scenario\\\":\\\"SDK-1.13.0\\\",\\\"environment_label\\\":null,\\\"save_mlflow\\\":false,\\\"force_text_dnn\\\":false,\\\"enable_feature_sweeping\\\":true,\\\"enable_early_stopping\\\":true,\\\"early_stopping_n_iters\\\":10,\\\"metrics\\\":null,\\\"enable_metric_confidence\\\":false,\\\"enable_ensembling\\\":true,\\\"enable_stack_ensembling\\\":true,\\\"ensemble_iterations\\\":15,\\\"enable_tf\\\":false,\\\"enable_subsampling\\\":null,\\\"subsample_seed\\\":null,\\\"enable_nimbusml\\\":false,\\\"enable_streaming\\\":false,\\\"force_streaming\\\":false,\\\"track_child_runs\\\":true,\\\"allowed_private_models\\\":[],\\\"label_column_name\\\":\\\"Target\\\",\\\"weight_column_name\\\":null,\\\"cv_split_column_names\\\":null,\\\"enable_local_managed\\\":false,\\\"_local_managed_run_id\\\":null,\\\"cost_mode\\\":1,\\\"lag_length\\\":0,\\\"metric_operation\\\":\\\"maximize\\\",\\\"preprocess\\\":true}\", \"DataPrepJsonString\": \"{\\\\\\\"training_data\\\\\\\": \\\\\\\"{\\\\\\\\\\\\\\\"blocks\\\\\\\\\\\\\\\": [{\\\\\\\\\\\\\\\"id\\\\\\\\\\\\\\\": \\\\\\\\\\\\\\\"951e721f-894f-42b5-9817-3fa7ff1cc72d\\\\\\\\\\\\\\\", \\\\\\\\\\\\\\\"type\\\\\\\\\\\\\\\": \\\\\\\\\\\\\\\"Microsoft.DPrep.GetDatastoreFilesBlock\\\\\\\\\\\\\\\", \\\\\\\\\\\\\\\"arguments\\\\\\\\\\\\\\\": {\\\\\\\\\\\\\\\"datastores\\\\\\\\\\\\\\\": [{\\\\\\\\\\\\\\\"datastoreName\\\\\\\\\\\\\\\": \\\\\\\\\\\\\\\"workspaceblobstore\\\\\\\\\\\\\\\", \\\\\\\\\\\\\\\"path\\\\\\\\\\\\\\\": \\\\\\\\\\\\\\\"UI/03-26-2021_031825_UTC/camels11_after2010Q3.csv\\\\\\\\\\\\\\\", \\\\\\\\\\\\\\\"resourceGroup\\\\\\\\\\\\\\\": \\\\\\\\\\\\\\\"automl-rgp\\\\\\\\\\\\\\\", \\\\\\\\\\\\\\\"subscription\\\\\\\\\\\\\\\": \\\\\\\\\\\\\\\"0c66ad45-500d-48af-80d3-0039ebf1975e\\\\\\\\\\\\\\\", \\\\\\\\\\\\\\\"workspaceName\\\\\\\\\\\\\\\": \\\\\\\\\\\\\\\"my-wsp\\\\\\\\\\\\\\\"}]}, \\\\\\\\\\\\\\\"localData\\\\\\\\\\\\\\\": {}, \\\\\\\\\\\\\\\"isEnabled\\\\\\\\\\\\\\\": true, \\\\\\\\\\\\\\\"name\\\\\\\\\\\\\\\": null, \\\\\\\\\\\\\\\"annotation\\\\\\\\\\\\\\\": null}, {\\\\\\\\\\\\\\\"id\\\\\\\\\\\\\\\": \\\\\\\\\\\\\\\"f2e4e3f8-3ab4-439f-89d1-2afe02a5b3f4\\\\\\\\\\\\\\\", \\\\\\\\\\\\\\\"type\\\\\\\\\\\\\\\": \\\\\\\\\\\\\\\"Microsoft.DPrep.ParseDelimitedBlock\\\\\\\\\\\\\\\", \\\\\\\\\\\\\\\"arguments\\\\\\\\\\\\\\\": {\\\\\\\\\\\\\\\"columnHeadersMode\\\\\\\\\\\\\\\": 1, \\\\\\\\\\\\\\\"fileEncoding\\\\\\\\\\\\\\\": 0, \\\\\\\\\\\\\\\"handleQuotedLineBreaks\\\\\\\\\\\\\\\": false, \\\\\\\\\\\\\\\"preview\\\\\\\\\\\\\\\": false, \\\\\\\\\\\\\\\"separator\\\\\\\\\\\\\\\": \\\\\\\\\\\\\\\",\\\\\\\\\\\\\\\", \\\\\\\\\\\\\\\"skipRows\\\\\\\\\\\\\\\": 0, \\\\\\\\\\\\\\\"skipRowsMode\\\\\\\\\\\\\\\": 0}, \\\\\\\\\\\\\\\"localData\\\\\\\\\\\\\\\": {}, \\\\\\\\\\\\\\\"isEnabled\\\\\\\\\\\\\\\": true, \\\\\\\\\\\\\\\"name\\\\\\\\\\\\\\\": null, \\\\\\\\\\\\\\\"annotation\\\\\\\\\\\\\\\": null}, {\\\\\\\\\\\\\\\"id\\\\\\\\\\\\\\\": \\\\\\\\\\\\\\\"c89269b2-88c4-4e8f-a24c-7e559d2e6bad\\\\\\\\\\\\\\\", \\\\\\\\\\\\\\\"type\\\\\\\\\\\\\\\": \\\\\\\\\\\\\\\"Microsoft.DPrep.DropColumnsBlock\\\\\\\\\\\\\\\", \\\\\\\\\\\\\\\"arguments\\\\\\\\\\\\\\\": {\\\\\\\\\\\\\\\"columns\\\\\\\\\\\\\\\": {\\\\\\\\\\\\\\\"type\\\\\\\\\\\\\\\": 0, \\\\\\\\\\\\\\\"details\\\\\\\\\\\\\\\": {\\\\\\\\\\\\\\\"selectedColumns\\\\\\\\\\\\\\\": [\\\\\\\\\\\\\\\"Path\\\\\\\\\\\\\\\"]}}}, \\\\\\\\\\\\\\\"localData\\\\\\\\\\\\\\\": {}, \\\\\\\\\\\\\\\"isEnabled\\\\\\\\\\\\\\\": true, \\\\\\\\\\\\\\\"name\\\\\\\\\\\\\\\": null, \\\\\\\\\\\\\\\"annotation\\\\\\\\\\\\\\\": null}, {\\\\\\\\\\\\\\\"id\\\\\\\\\\\\\\\": \\\\\\\\\\\\\\\"4025870c-af7d-40d4-891e-b8fa72ca15d9\\\\\\\\\\\\\\\", \\\\\\\\\\\\\\\"type\\\\\\\\\\\\\\\": \\\\\\\\\\\\\\\"Microsoft.DPrep.SetColumnTypesBlock\\\\\\\\\\\\\\\", \\\\\\\\\\\\\\\"arguments\\\\\\\\\\\\\\\": {\\\\\\\\\\\\\\\"columnConversion\\\\\\\\\\\\\\\": [{\\\\\\\\\\\\\\\"column\\\\\\\\\\\\\\\": {\\\\\\\\\\\\\\\"type\\\\\\\\\\\\\\\": 2, \\\\\\\\\\\\\\\"details\\\\\\\\\\\\\\\": {\\\\\\\\\\\\\\\"selectedColumn\\\\\\\\\\\\\\\": \\\\\\\\\\\\\\\"Path\\\\\\\\\\\\\\\"}}, \\\\\\\\\\\\\\\"typeProperty\\\\\\\\\\\\\\\": 0}, {\\\\\\\\\\\\\\\"column\\\\\\\\\\\\\\\": {\\\\\\\\\\\\\\\"type\\\\\\\\\\\\\\\": 2, \\\\\\\\\\\\\\\"details\\\\\\\\\\\\\\\": {\\\\\\\\\\\\\\\"selectedColumn\\\\\\\\\\\\\\\": \\\\\\\\\\\\\\\"Target\\\\\\\\\\\\\\\"}}, \\\\\\\\\\\\\\\"typeProperty\\\\\\\\\\\\\\\": 2}, {\\\\\\\\\\\\\\\"column\\\\\\\\\\\\\\\": {\\\\\\\\\\\\\\\"type\\\\\\\\\\\\\\\": 2, \\\\\\\\\\\\\\\"details\\\\\\\\\\\\\\\": {\\\\\\\\\\\\\\\"selectedColumn\\\\\\\\\\\\\\\": \\\\\\\\\\\\\\\"EQTA\\\\\\\\\\\\\\\"}}, \\\\\\\\\\\\\\\"typeProperty\\\\\\\\\\\\\\\": 3}, {\\\\\\\\\\\\\\\"column\\\\\\\\\\\\\\\": {\\\\\\\\\\\\\\\"type\\\\\\\\\\\\\\\": 2, \\\\\\\\\\\\\\\"details\\\\\\\\\\\\\\\": {\\\\\\\\\\\\\\\"selectedColumn\\\\\\\\\\\\\\\": \\\\\\\\\\\\\\\"EQTL\\\\\\\\\\\\\\\"}}, \\\\\\\\\\\\\\\"typeProperty\\\\\\\\\\\\\\\": 3}, {\\\\\\\\\\\\\\\"column\\\\\\\\\\\\\\\": {\\\\\\\\\\\\\\\"type\\\\\\\\\\\\\\\": 2, \\\\\\\\\\\\\\\"details\\\\\\\\\\\\\\\": {\\\\\\\\\\\\\\\"selectedColumn\\\\\\\\\\\\\\\": \\\\\\\\\\\\\\\"LLRTA\\\\\\\\\\\\\\\"}}, \\\\\\\\\\\\\\\"typeProperty\\\\\\\\\\\\\\\": 3}, {\\\\\\\\\\\\\\\"column\\\\\\\\\\\\\\\": {\\\\\\\\\\\\\\\"type\\\\\\\\\\\\\\\": 2, \\\\\\\\\\\\\\\"details\\\\\\\\\\\\\\\": {\\\\\\\\\\\\\\\"selectedColumn\\\\\\\\\\\\\\\": \\\\\\\\\\\\\\\"LLRGL\\\\\\\\\\\\\\\"}}, \\\\\\\\\\\\\\\"typeProperty\\\\\\\\\\\\\\\": 3}, {\\\\\\\\\\\\\\\"column\\\\\\\\\\\\\\\": {\\\\\\\\\\\\\\\"type\\\\\\\\\\\\\\\": 2, \\\\\\\\\\\\\\\"details\\\\\\\\\\\\\\\": {\\\\\\\\\\\\\\\"selectedColumn\\\\\\\\\\\\\\\": \\\\\\\\\\\\\\\"OEXTA\\\\\\\\\\\\\\\"}}, \\\\\\\\\\\\\\\"typeProperty\\\\\\\\\\\\\\\": 3}, {\\\\\\\\\\\\\\\"column\\\\\\\\\\\\\\\": {\\\\\\\\\\\\\\\"type\\\\\\\\\\\\\\\": 2, \\\\\\\\\\\\\\\"details\\\\\\\\\\\\\\\": {\\\\\\\\\\\\\\\"selectedColumn\\\\\\\\\\\\\\\": \\\\\\\\\\\\\\\"INCEMP\\\\\\\\\\\\\\\"}}, \\\\\\\\\\\\\\\"typeProperty\\\\\\\\\\\\\\\": 3}, {\\\\\\\\\\\\\\\"column\\\\\\\\\\\\\\\": {\\\\\\\\\\\\\\\"type\\\\\\\\\\\\\\\": 2, \\\\\\\\\\\\\\\"details\\\\\\\\\\\\\\\": {\\\\\\\\\\\\\\\"selectedColumn\\\\\\\\\\\\\\\": \\\\\\\\\\\\\\\"ROA\\\\\\\\\\\\\\\"}}, \\\\\\\\\\\\\\\"typeProperty\\\\\\\\\\\\\\\": 3}, {\\\\\\\\\\\\\\\"column\\\\\\\\\\\\\\\": {\\\\\\\\\\\\\\\"type\\\\\\\\\\\\\\\": 2, \\\\\\\\\\\\\\\"details\\\\\\\\\\\\\\\": {\\\\\\\\\\\\\\\"selectedColumn\\\\\\\\\\\\\\\": \\\\\\\\\\\\\\\"ROE\\\\\\\\\\\\\\\"}}, \\\\\\\\\\\\\\\"typeProperty\\\\\\\\\\\\\\\": 3}, {\\\\\\\\\\\\\\\"column\\\\\\\\\\\\\\\": {\\\\\\\\\\\\\\\"type\\\\\\\\\\\\\\\": 2, \\\\\\\\\\\\\\\"details\\\\\\\\\\\\\\\": {\\\\\\\\\\\\\\\"selectedColumn\\\\\\\\\\\\\\\": \\\\\\\\\\\\\\\"TDTL\\\\\\\\\\\\\\\"}}, \\\\\\\\\\\\\\\"typeProperty\\\\\\\\\\\\\\\": 3}, {\\\\\\\\\\\\\\\"column\\\\\\\\\\\\\\\": {\\\\\\\\\\\\\\\"type\\\\\\\\\\\\\\\": 2, \\\\\\\\\\\\\\\"details\\\\\\\\\\\\\\\": {\\\\\\\\\\\\\\\"selectedColumn\\\\\\\\\\\\\\\": \\\\\\\\\\\\\\\"TDTA\\\\\\\\\\\\\\\"}}, \\\\\\\\\\\\\\\"typeProperty\\\\\\\\\\\\\\\": 3}, {\\\\\\\\\\\\\\\"column\\\\\\\\\\\\\\\": {\\\\\\\\\\\\\\\"type\\\\\\\\\\\\\\\": 2, \\\\\\\\\\\\\\\"details\\\\\\\\\\\\\\\": {\\\\\\\\\\\\\\\"selectedColumn\\\\\\\\\\\\\\\": \\\\\\\\\\\\\\\"TATA\\\\\\\\\\\\\\\"}}, \\\\\\\\\\\\\\\"typeProperty\\\\\\\\\\\\\\\": 3}]}, \\\\\\\\\\\\\\\"localData\\\\\\\\\\\\\\\": {}, \\\\\\\\\\\\\\\"isEnabled\\\\\\\\\\\\\\\": true, \\\\\\\\\\\\\\\"name\\\\\\\\\\\\\\\": null, \\\\\\\\\\\\\\\"annotation\\\\\\\\\\\\\\\": null}], \\\\\\\\\\\\\\\"inspectors\\\\\\\\\\\\\\\": [], \\\\\\\\\\\\\\\"meta\\\\\\\\\\\\\\\": {\\\\\\\\\\\\\\\"savedDatasetId\\\\\\\\\\\\\\\": \\\\\\\\\\\\\\\"15ac78ea-2d39-4a4d-b7c4-17304a14f596\\\\\\\\\\\\\\\", \\\\\\\\\\\\\\\"datasetType\\\\\\\\\\\\\\\": \\\\\\\\\\\\\\\"tabular\\\\\\\\\\\\\\\", \\\\\\\\\\\\\\\"subscriptionId\\\\\\\\\\\\\\\": \\\\\\\\\\\\\\\"0c66ad45-500d-48af-80d3-0039ebf1975e\\\\\\\\\\\\\\\", \\\\\\\\\\\\\\\"workspaceId\\\\\\\\\\\\\\\": \\\\\\\\\\\\\\\"2cfd17ca-d502-43c8-b97f-8c46f3f3e63a\\\\\\\\\\\\\\\", \\\\\\\\\\\\\\\"workspaceLocation\\\\\\\\\\\\\\\": \\\\\\\\\\\\\\\"eastus\\\\\\\\\\\\\\\"}}\\\\\\\", \\\\\\\"activities\\\\\\\": 0}\", \"EnableSubsampling\": null, \"runTemplate\": \"AutoML\", \"azureml.runsource\": \"automl\", \"display_task_type\": \"classification\", \"dependencies_versions\": \"{\\\"azureml-widgets\\\": \\\"1.24.0\\\", \\\"azureml-train\\\": \\\"1.24.0\\\", \\\"azureml-train-restclients-hyperdrive\\\": \\\"1.24.0\\\", \\\"azureml-train-core\\\": \\\"1.24.0\\\", \\\"azureml-train-automl\\\": \\\"1.24.0\\\", \\\"azureml-train-automl-runtime\\\": \\\"1.24.0\\\", \\\"azureml-train-automl-client\\\": \\\"1.24.0\\\", \\\"azureml-tensorboard\\\": \\\"1.24.0\\\", \\\"azureml-telemetry\\\": \\\"1.24.0\\\", \\\"azureml-sdk\\\": \\\"1.24.0\\\", \\\"azureml-samples\\\": \\\"0+unknown\\\", \\\"azureml-pipeline\\\": \\\"1.24.0\\\", \\\"azureml-pipeline-steps\\\": \\\"1.24.0\\\", \\\"azureml-pipeline-core\\\": \\\"1.24.0\\\", \\\"azureml-opendatasets\\\": \\\"1.24.0\\\", \\\"azureml-model-management-sdk\\\": \\\"1.0.1b6.post1\\\", \\\"azureml-mlflow\\\": \\\"1.24.0\\\", \\\"azureml-interpret\\\": \\\"1.24.0\\\", \\\"azureml-explain-model\\\": \\\"1.24.0\\\", \\\"azureml-defaults\\\": \\\"1.24.0\\\", \\\"azureml-dataset-runtime\\\": \\\"1.24.0\\\", \\\"azureml-dataprep\\\": \\\"2.11.2\\\", \\\"azureml-dataprep-rslex\\\": \\\"1.9.1\\\", \\\"azureml-dataprep-native\\\": \\\"30.0.0\\\", \\\"azureml-datadrift\\\": \\\"1.24.0\\\", \\\"azureml-core\\\": \\\"1.24.0.post2\\\", \\\"azureml-contrib-services\\\": \\\"1.24.0\\\", \\\"azureml-contrib-server\\\": \\\"1.24.0\\\", \\\"azureml-contrib-reinforcementlearning\\\": \\\"1.24.0\\\", \\\"azureml-contrib-pipeline-steps\\\": \\\"1.24.0\\\", \\\"azureml-contrib-notebook\\\": \\\"1.24.0\\\", \\\"azureml-contrib-gbdt\\\": \\\"1.24.0\\\", \\\"azureml-contrib-fairness\\\": \\\"1.24.0\\\", \\\"azureml-contrib-dataset\\\": \\\"1.24.0\\\", \\\"azureml-cli-common\\\": \\\"1.24.0\\\", \\\"azureml-automl-runtime\\\": \\\"1.24.0\\\", \\\"azureml-automl-dnn-nlp\\\": \\\"1.24.0\\\", \\\"azureml-automl-core\\\": \\\"1.24.0\\\", \\\"azureml-accel-models\\\": \\\"1.24.0\\\"}\", \"_aml_system_scenario_identification\": \"Remote.Parent\", \"ClientType\": \"SDK\", \"environment_cpu_name\": \"AzureML-AutoML\", \"environment_cpu_label\": \"prod\", \"environment_gpu_name\": \"AzureML-AutoML-GPU\", \"environment_gpu_label\": \"prod\", \"root_attribution\": \"automl\", \"attribution\": \"AutoML\", \"Orchestrator\": \"AutoML\", \"CancelUri\": \"https://eastus.experiments.azureml.net/jasmine/v1.0/subscriptions/0c66ad45-500d-48af-80d3-0039ebf1975e/resourceGroups/automl-rgp/providers/Microsoft.MachineLearningServices/workspaces/my-wsp/experimentids/6a496f3d-bdee-4a1d-94c8-296bb940f8b5/cancel/AutoML_494764fa-0431-4b4b-8b1b-fc84377a7a84\", \"ClientSdkVersion\": \"1.24.0\", \"snapshotId\": \"00000000-0000-0000-0000-000000000000\", \"SetupRunId\": \"AutoML_494764fa-0431-4b4b-8b1b-fc84377a7a84_setup\", \"SetupRunContainerId\": \"dcid.AutoML_494764fa-0431-4b4b-8b1b-fc84377a7a84_setup\", \"FeaturizationRunJsonPath\": \"featurizer_container.json\", \"FeaturizationRunId\": \"AutoML_494764fa-0431-4b4b-8b1b-fc84377a7a84_featurize\", \"ProblemInfoJsonString\": \"{\\\"dataset_num_categorical\\\": 0, \\\"is_sparse\\\": false, \\\"subsampling\\\": false, \\\"dataset_classes\\\": 2, \\\"dataset_features\\\": 11, \\\"dataset_samples\\\": 7020, \\\"single_frequency_class_detected\\\": false}\", \"ModelExplainRunId\": \"AutoML_494764fa-0431-4b4b-8b1b-fc84377a7a84_ModelExplain\"}, \"tags\": {\"model_explain_run\": \"best_run\", \"_aml_system_azureml.automlComponent\": \"AutoML\", \"pipeline_id\": \"\", \"score\": \"\", \"predicted_cost\": \"\", \"fit_time\": \"\", \"training_percent\": \"\", \"iteration\": \"\", \"run_preprocessor\": \"\", \"run_algorithm\": \"\", \"dynamic_whitelisting_iterations\": \"<25>;<29>;<35>;\", \"automl_best_child_run_id\": \"AutoML_494764fa-0431-4b4b-8b1b-fc84377a7a84_36\", \"model_explain_best_run_child_id\": \"AutoML_494764fa-0431-4b4b-8b1b-fc84377a7a84_36\"}, \"end_time_utc\": \"2021-03-26T15:44:12.256199Z\", \"status\": \"Completed\", \"log_files\": {}, \"log_groups\": [], \"run_duration\": \"0:19:19\", \"run_number\": \"1\", \"run_queued_details\": {\"status\": \"Completed\", \"details\": null}}, \"child_runs\": [{\"run_id\": \"AutoML_494764fa-0431-4b4b-8b1b-fc84377a7a84_0\", \"run_number\": 5, \"metric\": null, \"status\": \"Completed\", \"run_type\": \"azureml.scriptrun\", \"training_percent\": \"100\", \"start_time\": \"2021-03-26T15:30:08.048561Z\", \"end_time\": \"2021-03-26T15:31:02.186726Z\", \"created_time\": \"2021-03-26T15:29:51.046361Z\", \"created_time_dt\": \"2021-03-26T15:29:51.046361Z\", \"duration\": \"0:01:11\", \"iteration\": \"0\", \"goal\": \"norm_macro_recall_max\", \"run_name\": \"MaxAbsScaler, LightGBM\", \"run_properties\": \"copy=True\", \"primary_metric\": 0.56279309, \"best_metric\": 0.56279309}, {\"run_id\": \"AutoML_494764fa-0431-4b4b-8b1b-fc84377a7a84_3\", \"run_number\": 6, \"metric\": null, \"status\": \"Completed\", \"run_type\": \"azureml.scriptrun\", \"training_percent\": \"100\", \"start_time\": \"2021-03-26T15:30:08.606775Z\", \"end_time\": \"2021-03-26T15:30:58.460713Z\", \"created_time\": \"2021-03-26T15:29:51.267475Z\", \"created_time_dt\": \"2021-03-26T15:29:51.267475Z\", \"duration\": \"0:01:07\", \"iteration\": \"3\", \"goal\": \"norm_macro_recall_max\", \"run_name\": \"MinMaxScaler, RandomForest\", \"run_properties\": \"copy=True, feature_range=(0, 1\", \"primary_metric\": 0.47303352, \"best_metric\": 0.92270517}, {\"run_id\": \"AutoML_494764fa-0431-4b4b-8b1b-fc84377a7a84_2\", \"run_number\": 7, \"metric\": null, \"status\": \"Completed\", \"run_type\": \"azureml.scriptrun\", \"training_percent\": \"100\", \"start_time\": \"2021-03-26T15:30:10.411641Z\", \"end_time\": \"2021-03-26T15:31:14.107494Z\", \"created_time\": \"2021-03-26T15:29:51.266476Z\", \"created_time_dt\": \"2021-03-26T15:29:51.266476Z\", \"duration\": \"0:01:22\", \"iteration\": \"2\", \"goal\": \"norm_macro_recall_max\", \"run_name\": \"MinMaxScaler, RandomForest\", \"run_properties\": \"copy=True, feature_range=(0, 1\", \"primary_metric\": 0.92270517, \"best_metric\": 0.92270517}, {\"run_id\": \"AutoML_494764fa-0431-4b4b-8b1b-fc84377a7a84_1\", \"run_number\": 8, \"metric\": null, \"status\": \"Completed\", \"run_type\": \"azureml.scriptrun\", \"training_percent\": \"100\", \"start_time\": \"2021-03-26T15:30:09.248298Z\", \"end_time\": \"2021-03-26T15:31:19.58402Z\", \"created_time\": \"2021-03-26T15:29:51.267934Z\", \"created_time_dt\": \"2021-03-26T15:29:51.267934Z\", \"duration\": \"0:01:28\", \"iteration\": \"1\", \"goal\": \"norm_macro_recall_max\", \"run_name\": \"MaxAbsScaler, XGBoostClassifier\", \"run_properties\": \"copy=True\", \"primary_metric\": 0.67745474, \"best_metric\": 0.67745474}, {\"run_id\": \"AutoML_494764fa-0431-4b4b-8b1b-fc84377a7a84_4\", \"run_number\": 9, \"metric\": null, \"status\": \"Completed\", \"run_type\": \"azureml.scriptrun\", \"training_percent\": \"100\", \"start_time\": \"2021-03-26T15:31:19.93165Z\", \"end_time\": \"2021-03-26T15:32:10.451064Z\", \"created_time\": \"2021-03-26T15:31:02.4087Z\", \"created_time_dt\": \"2021-03-26T15:31:02.4087Z\", \"duration\": \"0:01:08\", \"iteration\": \"4\", \"goal\": \"norm_macro_recall_max\", \"run_name\": \"StandardScalerWrapper, RandomForest\", \"run_properties\": \"<azureml.automl.runtime.shared.model_wrappers.StandardScalerWrapper object at 0x7f0bac065898\", \"primary_metric\": 0.93899932, \"best_metric\": 0.93899932}, {\"run_id\": \"AutoML_494764fa-0431-4b4b-8b1b-fc84377a7a84_5\", \"run_number\": 10, \"metric\": null, \"status\": \"Completed\", \"run_type\": \"azureml.scriptrun\", \"training_percent\": \"100\", \"start_time\": \"2021-03-26T15:31:30.565185Z\", \"end_time\": \"2021-03-26T15:32:21.955801Z\", \"created_time\": \"2021-03-26T15:31:08.864217Z\", \"created_time_dt\": \"2021-03-26T15:31:08.864217Z\", \"duration\": \"0:01:13\", \"iteration\": \"5\", \"goal\": \"norm_macro_recall_max\", \"run_name\": \"StandardScalerWrapper, RandomForest\", \"run_properties\": \"<azureml.automl.runtime.shared.model_wrappers.StandardScalerWrapper object at 0x7f5667324f60\", \"primary_metric\": 0.6970009, \"best_metric\": 0.93899932}, {\"run_id\": \"AutoML_494764fa-0431-4b4b-8b1b-fc84377a7a84_6\", \"run_number\": 11, \"metric\": null, \"status\": \"Completed\", \"run_type\": \"azureml.scriptrun\", \"training_percent\": \"100\", \"start_time\": \"2021-03-26T15:31:48.408567Z\", \"end_time\": \"2021-03-26T15:32:26.964085Z\", \"created_time\": \"2021-03-26T15:31:21.811816Z\", \"created_time_dt\": \"2021-03-26T15:31:21.811816Z\", \"duration\": \"0:01:05\", \"iteration\": \"6\", \"goal\": \"norm_macro_recall_max\", \"run_name\": \"MinMaxScaler, ExtremeRandomTrees\", \"run_properties\": \"copy=True, feature_range=(0, 1\", \"primary_metric\": 0.82267675, \"best_metric\": 0.93899932}, {\"run_id\": \"AutoML_494764fa-0431-4b4b-8b1b-fc84377a7a84_7\", \"run_number\": 12, \"metric\": null, \"status\": \"Completed\", \"run_type\": \"azureml.scriptrun\", \"training_percent\": \"100\", \"start_time\": \"2021-03-26T15:31:38.829613Z\", \"end_time\": \"2021-03-26T15:32:30.697335Z\", \"created_time\": \"2021-03-26T15:31:28.238521Z\", \"created_time_dt\": \"2021-03-26T15:31:28.238521Z\", \"duration\": \"0:01:02\", \"iteration\": \"7\", \"goal\": \"norm_macro_recall_max\", \"run_name\": \"MinMaxScaler, RandomForest\", \"run_properties\": \"copy=True, feature_range=(0, 1\", \"primary_metric\": 0.0, \"best_metric\": 0.93899932}, {\"run_id\": \"AutoML_494764fa-0431-4b4b-8b1b-fc84377a7a84_8\", \"run_number\": 13, \"metric\": null, \"status\": \"Completed\", \"run_type\": \"azureml.scriptrun\", \"training_percent\": \"100\", \"start_time\": \"2021-03-26T15:32:27.684673Z\", \"end_time\": \"2021-03-26T15:33:27.716125Z\", \"created_time\": \"2021-03-26T15:32:14.256049Z\", \"created_time_dt\": \"2021-03-26T15:32:14.256049Z\", \"duration\": \"0:01:13\", \"iteration\": \"8\", \"goal\": \"norm_macro_recall_max\", \"run_name\": \"MinMaxScaler, ExtremeRandomTrees\", \"run_properties\": \"copy=True, feature_range=(0, 1\", \"primary_metric\": 0.0, \"best_metric\": 0.93899932}, {\"run_id\": \"AutoML_494764fa-0431-4b4b-8b1b-fc84377a7a84_9\", \"run_number\": 14, \"metric\": null, \"status\": \"Completed\", \"run_type\": \"azureml.scriptrun\", \"training_percent\": \"100\", \"start_time\": \"2021-03-26T15:32:34.599412Z\", \"end_time\": \"2021-03-26T15:33:26.596337Z\", \"created_time\": \"2021-03-26T15:32:25.401191Z\", \"created_time_dt\": \"2021-03-26T15:32:25.401191Z\", \"duration\": \"0:01:01\", \"iteration\": \"9\", \"goal\": \"norm_macro_recall_max\", \"run_name\": \"RobustScaler, ExtremeRandomTrees\", \"run_properties\": \"copy=True, quantile_range=[10, 90], with_centering=False,\\n             with_scaling=False\", \"primary_metric\": 0.0, \"best_metric\": 0.93899932}, {\"run_id\": \"AutoML_494764fa-0431-4b4b-8b1b-fc84377a7a84_10\", \"run_number\": 15, \"metric\": null, \"status\": \"Completed\", \"run_type\": \"azureml.scriptrun\", \"training_percent\": \"100\", \"start_time\": \"2021-03-26T15:32:43.408169Z\", \"end_time\": \"2021-03-26T15:33:41.289558Z\", \"created_time\": \"2021-03-26T15:32:31.260317Z\", \"created_time_dt\": \"2021-03-26T15:32:31.260317Z\", \"duration\": \"0:01:10\", \"iteration\": \"10\", \"goal\": \"norm_macro_recall_max\", \"run_name\": \"MinMaxScaler, ExtremeRandomTrees\", \"run_properties\": \"copy=True, feature_range=(0, 1\", \"primary_metric\": 0.0, \"best_metric\": 0.93899932}, {\"run_id\": \"AutoML_494764fa-0431-4b4b-8b1b-fc84377a7a84_11\", \"run_number\": 16, \"metric\": null, \"status\": \"Completed\", \"run_type\": \"azureml.scriptrun\", \"training_percent\": \"100\", \"start_time\": \"2021-03-26T15:32:50.910098Z\", \"end_time\": \"2021-03-26T15:33:43.275474Z\", \"created_time\": \"2021-03-26T15:32:37.687183Z\", \"created_time_dt\": \"2021-03-26T15:32:37.687183Z\", \"duration\": \"0:01:05\", \"iteration\": \"11\", \"goal\": \"norm_macro_recall_max\", \"run_name\": \"RobustScaler, ExtremeRandomTrees\", \"run_properties\": \"copy=True, quantile_range=[10, 90], with_centering=True,\\n             with_scaling=False\", \"primary_metric\": 0.0, \"best_metric\": 0.93899932}, {\"run_id\": \"AutoML_494764fa-0431-4b4b-8b1b-fc84377a7a84_12\", \"run_number\": 17, \"metric\": null, \"status\": \"Completed\", \"run_type\": \"azureml.scriptrun\", \"training_percent\": \"100\", \"start_time\": \"2021-03-26T15:33:46.193342Z\", \"end_time\": \"2021-03-26T15:34:41.031048Z\", \"created_time\": \"2021-03-26T15:33:29.948245Z\", \"created_time_dt\": \"2021-03-26T15:33:29.948245Z\", \"duration\": \"0:01:11\", \"iteration\": \"12\", \"goal\": \"norm_macro_recall_max\", \"run_name\": \"StandardScalerWrapper, ExtremeRandomTrees\", \"run_properties\": \"<azureml.automl.runtime.shared.model_wrappers.StandardScalerWrapper object at 0x7f70d9a78588\", \"primary_metric\": 0.82528698, \"best_metric\": 0.93899932}, {\"run_id\": \"AutoML_494764fa-0431-4b4b-8b1b-fc84377a7a84_13\", \"run_number\": 18, \"metric\": null, \"status\": \"Completed\", \"run_type\": \"azureml.scriptrun\", \"training_percent\": \"100\", \"start_time\": \"2021-03-26T15:33:48.583667Z\", \"end_time\": \"2021-03-26T15:34:34.286764Z\", \"created_time\": \"2021-03-26T15:33:36.792131Z\", \"created_time_dt\": \"2021-03-26T15:33:36.792131Z\", \"duration\": \"0:00:57\", \"iteration\": \"13\", \"goal\": \"norm_macro_recall_max\", \"run_name\": \"StandardScalerWrapper, SGD\", \"run_properties\": \"<azureml.automl.runtime.shared.model_wrappers.StandardScalerWrapper object at 0x7f57df5b5828\", \"primary_metric\": 0.43203325, \"best_metric\": 0.93899932}, {\"run_id\": \"AutoML_494764fa-0431-4b4b-8b1b-fc84377a7a84_14\", \"run_number\": 19, \"metric\": null, \"status\": \"Completed\", \"run_type\": \"azureml.scriptrun\", \"training_percent\": \"100\", \"start_time\": \"2021-03-26T15:33:55.953148Z\", \"end_time\": \"2021-03-26T15:34:47.316932Z\", \"created_time\": \"2021-03-26T15:33:45.020841Z\", \"created_time_dt\": \"2021-03-26T15:33:45.020841Z\", \"duration\": \"0:01:02\", \"iteration\": \"14\", \"goal\": \"norm_macro_recall_max\", \"run_name\": \"RobustScaler, RandomForest\", \"run_properties\": \"copy=True, quantile_range=[10, 90], with_centering=True,\\n             with_scaling=False\", \"primary_metric\": 0.93598805, \"best_metric\": 0.93899932}, {\"run_id\": \"AutoML_494764fa-0431-4b4b-8b1b-fc84377a7a84_15\", \"run_number\": 20, \"metric\": null, \"status\": \"Completed\", \"run_type\": \"azureml.scriptrun\", \"training_percent\": \"100\", \"start_time\": \"2021-03-26T15:34:04.130829Z\", \"end_time\": \"2021-03-26T15:34:57.141221Z\", \"created_time\": \"2021-03-26T15:33:51.675343Z\", \"created_time_dt\": \"2021-03-26T15:33:51.675343Z\", \"duration\": \"0:01:05\", \"iteration\": \"15\", \"goal\": \"norm_macro_recall_max\", \"run_name\": \"MinMaxScaler, ExtremeRandomTrees\", \"run_properties\": \"copy=True, feature_range=(0, 1\", \"primary_metric\": 0.0, \"best_metric\": 0.93899932}, {\"run_id\": \"AutoML_494764fa-0431-4b4b-8b1b-fc84377a7a84_16\", \"run_number\": 21, \"metric\": null, \"status\": \"Completed\", \"run_type\": \"azureml.scriptrun\", \"training_percent\": \"100\", \"start_time\": \"2021-03-26T15:34:54.820142Z\", \"end_time\": \"2021-03-26T15:35:51.119855Z\", \"created_time\": \"2021-03-26T15:34:38.31716Z\", \"created_time_dt\": \"2021-03-26T15:34:38.31716Z\", \"duration\": \"0:01:12\", \"iteration\": \"16\", \"goal\": \"norm_macro_recall_max\", \"run_name\": \"StandardScalerWrapper, RandomForest\", \"run_properties\": \"<azureml.automl.runtime.shared.model_wrappers.StandardScalerWrapper object at 0x7ff5f4f1ceb8\", \"primary_metric\": 0.92049001, \"best_metric\": 0.93899932}, {\"run_id\": \"AutoML_494764fa-0431-4b4b-8b1b-fc84377a7a84_17\", \"run_number\": 22, \"metric\": null, \"status\": \"Completed\", \"run_type\": \"azureml.scriptrun\", \"training_percent\": \"100\", \"start_time\": \"2021-03-26T15:35:01.86543Z\", \"end_time\": \"2021-03-26T15:36:01.329513Z\", \"created_time\": \"2021-03-26T15:34:45.823456Z\", \"created_time_dt\": \"2021-03-26T15:34:45.823456Z\", \"duration\": \"0:01:15\", \"iteration\": \"17\", \"goal\": \"norm_macro_recall_max\", \"run_name\": \"RobustScaler, ExtremeRandomTrees\", \"run_properties\": \"copy=True, quantile_range=[10, 90], with_centering=True,\\n             with_scaling=False\", \"primary_metric\": 0.0, \"best_metric\": 0.93899932}, {\"run_id\": \"AutoML_494764fa-0431-4b4b-8b1b-fc84377a7a84_18\", \"run_number\": 23, \"metric\": null, \"status\": \"Completed\", \"run_type\": \"azureml.scriptrun\", \"training_percent\": \"100\", \"start_time\": \"2021-03-26T15:35:04.461944Z\", \"end_time\": \"2021-03-26T15:36:00.353744Z\", \"created_time\": \"2021-03-26T15:34:53.092168Z\", \"created_time_dt\": \"2021-03-26T15:34:53.092168Z\", \"duration\": \"0:01:07\", \"iteration\": \"18\", \"goal\": \"norm_macro_recall_max\", \"run_name\": \"RobustScaler, RandomForest\", \"run_properties\": \"copy=True, quantile_range=[25, 75], with_centering=True,\\n             with_scaling=False\", \"primary_metric\": 0.89691164, \"best_metric\": 0.93899932}, {\"run_id\": \"AutoML_494764fa-0431-4b4b-8b1b-fc84377a7a84_19\", \"run_number\": 24, \"metric\": null, \"status\": \"Completed\", \"run_type\": \"azureml.scriptrun\", \"training_percent\": \"100\", \"start_time\": \"2021-03-26T15:35:12.887995Z\", \"end_time\": \"2021-03-26T15:36:42.229562Z\", \"created_time\": \"2021-03-26T15:35:02.90447Z\", \"created_time_dt\": \"2021-03-26T15:35:02.90447Z\", \"duration\": \"0:01:39\", \"iteration\": \"19\", \"goal\": \"norm_macro_recall_max\", \"run_name\": \"MinMaxScaler, ExtremeRandomTrees\", \"run_properties\": \"copy=True, feature_range=(0, 1\", \"primary_metric\": 0.81857244, \"best_metric\": 0.93899932}, {\"run_id\": \"AutoML_494764fa-0431-4b4b-8b1b-fc84377a7a84_20\", \"run_number\": 25, \"metric\": null, \"status\": \"Completed\", \"run_type\": \"azureml.scriptrun\", \"training_percent\": \"100\", \"start_time\": \"2021-03-26T15:36:10.1941Z\", \"end_time\": \"2021-03-26T15:36:59.643662Z\", \"created_time\": \"2021-03-26T15:35:54.732985Z\", \"created_time_dt\": \"2021-03-26T15:35:54.732985Z\", \"duration\": \"0:01:04\", \"iteration\": \"20\", \"goal\": \"norm_macro_recall_max\", \"run_name\": \"MaxAbsScaler, ExtremeRandomTrees\", \"run_properties\": \"copy=True\", \"primary_metric\": 0.84878251, \"best_metric\": 0.93899932}, {\"run_id\": \"AutoML_494764fa-0431-4b4b-8b1b-fc84377a7a84_21\", \"run_number\": 26, \"metric\": null, \"status\": \"Completed\", \"run_type\": \"azureml.scriptrun\", \"training_percent\": \"100\", \"start_time\": \"2021-03-26T15:36:17.284668Z\", \"end_time\": \"2021-03-26T15:37:05.197292Z\", \"created_time\": \"2021-03-26T15:36:04.534663Z\", \"created_time_dt\": \"2021-03-26T15:36:04.534663Z\", \"duration\": \"0:01:00\", \"iteration\": \"21\", \"goal\": \"norm_macro_recall_max\", \"run_name\": \"StandardScalerWrapper, XGBoostClassifier\", \"run_properties\": \"<azureml.automl.runtime.shared.model_wrappers.StandardScalerWrapper object at 0x7f8c0c0c56a0\", \"primary_metric\": 0.68680394, \"best_metric\": 0.93899932}, {\"run_id\": \"AutoML_494764fa-0431-4b4b-8b1b-fc84377a7a84_22\", \"run_number\": 27, \"metric\": null, \"status\": \"Completed\", \"run_type\": \"azureml.scriptrun\", \"training_percent\": \"100\", \"start_time\": \"2021-03-26T15:36:30.45866Z\", \"end_time\": \"2021-03-26T15:37:05.321161Z\", \"created_time\": \"2021-03-26T15:36:04.59141Z\", \"created_time_dt\": \"2021-03-26T15:36:04.59141Z\", \"duration\": \"0:01:00\", \"iteration\": \"22\", \"goal\": \"norm_macro_recall_max\", \"run_name\": \"MaxAbsScaler, RandomForest\", \"run_properties\": \"copy=True\", \"primary_metric\": 0.36332621, \"best_metric\": 0.93899932}, {\"run_id\": \"AutoML_494764fa-0431-4b4b-8b1b-fc84377a7a84_23\", \"run_number\": 28, \"metric\": null, \"status\": \"Completed\", \"run_type\": \"azureml.scriptrun\", \"training_percent\": \"100\", \"start_time\": \"2021-03-26T15:37:01.048898Z\", \"end_time\": \"2021-03-26T15:37:59.125032Z\", \"created_time\": \"2021-03-26T15:36:46.715235Z\", \"created_time_dt\": \"2021-03-26T15:36:46.715235Z\", \"duration\": \"0:01:12\", \"iteration\": \"23\", \"goal\": \"norm_macro_recall_max\", \"run_name\": \"MaxAbsScaler, ExtremeRandomTrees\", \"run_properties\": \"copy=True\", \"primary_metric\": 0.82857449, \"best_metric\": 0.93899932}, {\"run_id\": \"AutoML_494764fa-0431-4b4b-8b1b-fc84377a7a84_24\", \"run_number\": 29, \"metric\": null, \"status\": \"Completed\", \"run_type\": \"azureml.scriptrun\", \"training_percent\": \"100\", \"start_time\": \"2021-03-26T15:37:18.251375Z\", \"end_time\": \"2021-03-26T15:38:28.057798Z\", \"created_time\": \"2021-03-26T15:37:03.424991Z\", \"created_time_dt\": \"2021-03-26T15:37:03.424991Z\", \"duration\": \"0:01:24\", \"iteration\": \"24\", \"goal\": \"norm_macro_recall_max\", \"run_name\": \"StandardScalerWrapper, ExtremeRandomTrees\", \"run_properties\": \"<azureml.automl.runtime.shared.model_wrappers.StandardScalerWrapper object at 0x7f811ea627b8\", \"primary_metric\": 0.89389315, \"best_metric\": 0.93899932}, {\"run_id\": \"AutoML_494764fa-0431-4b4b-8b1b-fc84377a7a84_26\", \"run_number\": 30, \"metric\": null, \"status\": \"Completed\", \"run_type\": \"azureml.scriptrun\", \"training_percent\": \"100\", \"start_time\": \"2021-03-26T15:37:21.639096Z\", \"end_time\": \"2021-03-26T15:38:33.502109Z\", \"created_time\": \"2021-03-26T15:37:10.374209Z\", \"created_time_dt\": \"2021-03-26T15:37:10.374209Z\", \"duration\": \"0:01:23\", \"iteration\": \"26\", \"goal\": \"norm_macro_recall_max\", \"run_name\": \"MinMaxScaler, GradientBoosting\", \"run_properties\": \"copy=True, feature_range=(0, 1\", \"primary_metric\": 0.68959581, \"best_metric\": 0.93899932}, {\"run_id\": \"AutoML_494764fa-0431-4b4b-8b1b-fc84377a7a84_25\", \"run_number\": 31, \"metric\": null, \"status\": \"Completed\", \"run_type\": \"azureml.scriptrun\", \"training_percent\": \"100\", \"start_time\": \"2021-03-26T15:37:23.045557Z\", \"end_time\": \"2021-03-26T15:38:29.644286Z\", \"created_time\": \"2021-03-26T15:37:10.399985Z\", \"created_time_dt\": \"2021-03-26T15:37:10.399985Z\", \"duration\": \"0:01:19\", \"iteration\": \"25\", \"goal\": \"norm_macro_recall_max\", \"run_name\": \"StandardScalerWrapper, RandomForest\", \"run_properties\": \"<azureml.automl.runtime.shared.model_wrappers.StandardScalerWrapper object at 0x7f71c9363630\", \"primary_metric\": 0.22709424, \"best_metric\": 0.93899932}, {\"run_id\": \"AutoML_494764fa-0431-4b4b-8b1b-fc84377a7a84_27\", \"run_number\": 32, \"metric\": null, \"status\": \"Completed\", \"run_type\": \"azureml.scriptrun\", \"training_percent\": \"100\", \"start_time\": \"2021-03-26T15:38:19.678812Z\", \"end_time\": \"2021-03-26T15:39:29.819686Z\", \"created_time\": \"2021-03-26T15:38:02.31194Z\", \"created_time_dt\": \"2021-03-26T15:38:02.31194Z\", \"duration\": \"0:01:27\", \"iteration\": \"27\", \"goal\": \"norm_macro_recall_max\", \"run_name\": \"StandardScalerWrapper, XGBoostClassifier\", \"run_properties\": \"<azureml.automl.runtime.shared.model_wrappers.StandardScalerWrapper object at 0x7fadc4ec35f8\", \"primary_metric\": 0.63639186, \"best_metric\": 0.93899932}, {\"run_id\": \"AutoML_494764fa-0431-4b4b-8b1b-fc84377a7a84_28\", \"run_number\": 33, \"metric\": null, \"status\": \"Completed\", \"run_type\": \"azureml.scriptrun\", \"training_percent\": \"100\", \"start_time\": \"2021-03-26T15:38:47.5336Z\", \"end_time\": \"2021-03-26T15:39:46.024431Z\", \"created_time\": \"2021-03-26T15:38:31.284631Z\", \"created_time_dt\": \"2021-03-26T15:38:31.284631Z\", \"duration\": \"0:01:14\", \"iteration\": \"28\", \"goal\": \"norm_macro_recall_max\", \"run_name\": \"StandardScalerWrapper, XGBoostClassifier\", \"run_properties\": \"<azureml.automl.runtime.shared.model_wrappers.StandardScalerWrapper object at 0x7fe37761e160\", \"primary_metric\": 0.64105386, \"best_metric\": 0.93899932}, {\"run_id\": \"AutoML_494764fa-0431-4b4b-8b1b-fc84377a7a84_30\", \"run_number\": 34, \"metric\": null, \"status\": \"Completed\", \"run_type\": \"azureml.scriptrun\", \"training_percent\": \"100\", \"start_time\": \"2021-03-26T15:38:48.679208Z\", \"end_time\": \"2021-03-26T15:39:51.07883Z\", \"created_time\": \"2021-03-26T15:38:39.361653Z\", \"created_time_dt\": \"2021-03-26T15:38:39.361653Z\", \"duration\": \"0:01:11\", \"iteration\": \"30\", \"goal\": \"norm_macro_recall_max\", \"run_name\": \"MinMaxScaler, LightGBM\", \"run_properties\": \"copy=True, feature_range=(0, 1\", \"primary_metric\": 0.66050346, \"best_metric\": 0.93899932}, {\"run_id\": \"AutoML_494764fa-0431-4b4b-8b1b-fc84377a7a84_29\", \"run_number\": 35, \"metric\": null, \"status\": \"Completed\", \"run_type\": \"azureml.scriptrun\", \"training_percent\": \"100\", \"start_time\": \"2021-03-26T15:38:57.278693Z\", \"end_time\": \"2021-03-26T15:39:52.588122Z\", \"created_time\": \"2021-03-26T15:38:39.390548Z\", \"created_time_dt\": \"2021-03-26T15:38:39.390548Z\", \"duration\": \"0:01:13\", \"iteration\": \"29\", \"goal\": \"norm_macro_recall_max\", \"run_name\": \"StandardScalerWrapper, RandomForest\", \"run_properties\": \"<azureml.automl.runtime.shared.model_wrappers.StandardScalerWrapper object at 0x7ff038f32a58\", \"primary_metric\": 0.92548248, \"best_metric\": 0.93899932}, {\"run_id\": \"AutoML_494764fa-0431-4b4b-8b1b-fc84377a7a84_31\", \"run_number\": 36, \"metric\": null, \"status\": \"Completed\", \"run_type\": \"azureml.scriptrun\", \"training_percent\": \"100\", \"start_time\": \"2021-03-26T15:39:48.28576Z\", \"end_time\": \"2021-03-26T15:40:47.934523Z\", \"created_time\": \"2021-03-26T15:39:32.666399Z\", \"created_time_dt\": \"2021-03-26T15:39:32.666399Z\", \"duration\": \"0:01:15\", \"iteration\": \"31\", \"goal\": \"norm_macro_recall_max\", \"run_name\": \"StandardScalerWrapper, LightGBM\", \"run_properties\": \"<azureml.automl.runtime.shared.model_wrappers.StandardScalerWrapper object at 0x7f478d364278\", \"primary_metric\": 0.73023899, \"best_metric\": 0.93899932}, {\"run_id\": \"AutoML_494764fa-0431-4b4b-8b1b-fc84377a7a84_32\", \"run_number\": 37, \"metric\": null, \"status\": \"Canceled\", \"run_type\": \"azureml.scriptrun\", \"training_percent\": \"100\", \"start_time\": \"2021-03-26T15:40:03.478691Z\", \"end_time\": \"2021-03-26T15:41:20.767978Z\", \"created_time\": \"2021-03-26T15:39:48.864441Z\", \"created_time_dt\": \"2021-03-26T15:39:48.864441Z\", \"duration\": \"0:01:31\", \"iteration\": \"32\", \"goal\": \"norm_macro_recall_max\", \"run_name\": \"MinMaxScaler, LightGBM\", \"run_properties\": \"copy=True, feature_range=(0, 1\", \"primary_metric\": 0.38135904, \"best_metric\": 0.93899932}, {\"run_id\": \"AutoML_494764fa-0431-4b4b-8b1b-fc84377a7a84_33\", \"run_number\": 38, \"metric\": null, \"status\": \"Canceled\", \"run_type\": \"azureml.scriptrun\", \"training_percent\": \"100\", \"start_time\": \"2021-03-26T15:40:15.192719Z\", \"end_time\": \"2021-03-26T15:41:20.785693Z\", \"created_time\": \"2021-03-26T15:40:05.580157Z\", \"created_time_dt\": \"2021-03-26T15:40:05.580157Z\", \"duration\": \"0:01:15\", \"iteration\": \"33\", \"goal\": \"norm_macro_recall_max\", \"run_name\": \"MaxAbsScaler, ExtremeRandomTrees\", \"run_properties\": \"copy=True\", \"primary_metric\": 0.89466126, \"best_metric\": 0.93899932}, {\"run_id\": \"AutoML_494764fa-0431-4b4b-8b1b-fc84377a7a84_34\", \"run_number\": 39, \"metric\": null, \"status\": \"Completed\", \"run_type\": \"azureml.scriptrun\", \"training_percent\": \"100\", \"start_time\": \"2021-03-26T15:40:20.357184Z\", \"end_time\": \"2021-03-26T15:41:10.447795Z\", \"created_time\": \"2021-03-26T15:40:06.100439Z\", \"created_time_dt\": \"2021-03-26T15:40:06.100439Z\", \"duration\": \"0:01:04\", \"iteration\": \"34\", \"goal\": \"norm_macro_recall_max\", \"run_name\": \"StandardScalerWrapper, XGBoostClassifier\", \"run_properties\": \"<azureml.automl.runtime.shared.model_wrappers.StandardScalerWrapper object at 0x7f77eb320a58\", \"primary_metric\": 0.69340484, \"best_metric\": 0.93899932}, {\"run_id\": \"AutoML_494764fa-0431-4b4b-8b1b-fc84377a7a84_35\", \"run_number\": 40, \"metric\": null, \"status\": \"Canceled\", \"run_type\": \"azureml.scriptrun\", \"training_percent\": \"100\", \"start_time\": \"2021-03-26T15:41:11.027932Z\", \"end_time\": \"2021-03-26T15:41:19.267739Z\", \"created_time\": \"2021-03-26T15:40:52.064187Z\", \"created_time_dt\": \"2021-03-26T15:40:52.064187Z\", \"duration\": \"0:00:27\", \"iteration\": \"35\", \"goal\": null, \"run_name\": \"Canceled\", \"run_properties\": null}, {\"run_id\": \"AutoML_494764fa-0431-4b4b-8b1b-fc84377a7a84_36\", \"run_number\": 41, \"metric\": null, \"status\": \"Completed\", \"run_type\": \"azureml.scriptrun\", \"training_percent\": \"100\", \"start_time\": \"2021-03-26T15:41:37.615377Z\", \"end_time\": \"2021-03-26T15:43:29.692531Z\", \"created_time\": \"2021-03-26T15:41:23.074584Z\", \"created_time_dt\": \"2021-03-26T15:41:23.074584Z\", \"duration\": \"0:02:06\", \"iteration\": \"36\", \"goal\": \"norm_macro_recall_max\", \"run_name\": \"VotingEnsemble\", \"run_properties\": \"classification_labels=None,\\n                              estimators=[('4',\\n                                           Pipeline(memory=None,\\n                                                    steps=[('standardscalerwrapper',\\n                                                            <azureml.automl.runtime.shared.model_wrappers.StandardScalerWrapper object at 0x7f4c306e4eb8>\", \"primary_metric\": 0.93987084, \"best_metric\": 0.93987084}, {\"run_id\": \"AutoML_494764fa-0431-4b4b-8b1b-fc84377a7a84_37\", \"run_number\": 42, \"metric\": null, \"status\": \"Completed\", \"run_type\": \"azureml.scriptrun\", \"training_percent\": \"100\", \"start_time\": \"2021-03-26T15:41:38.265525Z\", \"end_time\": \"2021-03-26T15:43:23.786012Z\", \"created_time\": \"2021-03-26T15:41:23.297812Z\", \"created_time_dt\": \"2021-03-26T15:41:23.297812Z\", \"duration\": \"0:02:00\", \"iteration\": \"37\", \"goal\": \"norm_macro_recall_max\", \"run_name\": \"StackEnsemble\", \"run_properties\": \"base_learners=[('4',\\n                                        Pipeline(memory=None,\\n                                                 steps=[('standardscalerwrapper',\\n                                                         <azureml.automl.runtime.shared.model_wrappers.StandardScalerWrapper object at 0x7fdbd41ac7f0>\", \"primary_metric\": 0.92911181, \"best_metric\": 0.93987084}], \"children_metrics\": {\"categories\": [0], \"series\": {\"AUC_macro\": [{\"categories\": [\"0\", \"1\", \"2\", \"3\", \"4\", \"5\", \"6\", \"7\", \"8\", \"9\", \"10\", \"11\", \"12\", \"13\", \"14\", \"15\", \"16\", \"17\", \"18\", \"19\", \"20\", \"21\", \"22\", \"23\", \"24\", \"25\", \"26\", \"27\", \"28\", \"29\", \"30\", \"31\", \"32\", \"33\", \"34\", \"36\", \"37\"], \"mode\": \"markers\", \"name\": \"AUC_macro\", \"stepped\": false, \"type\": \"scatter\", \"data\": [0.9823685632237739, 0.9860589599625071, 0.9816190686184054, 0.9822242706343478, 0.9760150393158592, 0.9850997430373863, 0.9426794233221097, 0.9730008300345675, 0.9689666219263148, 0.9737745632741942, 0.9541602237948984, 0.9737047622611134, 0.9555975329455646, 0.9880371740508321, 0.97654249567237, 0.9651890091268059, 0.9791495170397025, 0.9202755632149332, 0.968796117450757, 0.9597149310806952, 0.9680053290086795, 0.9752522564584174, 0.984109568135322, 0.9536201598882559, 0.9660025329416856, 0.6358105487686639, 0.9843376689619783, 0.9831873974767728, 0.9895462612821735, 0.9795799749029871, 0.9833755804043062, 0.9861202461312254, 0.981449138278467, 0.9709431604262981, 0.9522608861028714, 0.9818212191400404, 0.9815179705700253]}, {\"categories\": [\"0\", \"1\", \"2\", \"3\", \"4\", \"5\", \"6\", \"7\", \"8\", \"9\", \"10\", \"11\", \"12\", \"13\", \"14\", \"15\", \"16\", \"17\", \"18\", \"19\", \"20\", \"21\", \"22\", \"23\", \"24\", \"25\", \"26\", \"27\", \"28\", \"29\", \"30\", \"31\", \"32\", \"33\", \"34\", \"36\", \"37\"], \"mode\": \"lines\", \"name\": \"AUC_macro_max\", \"stepped\": true, \"type\": \"scatter\", \"data\": [0.9823685632237739, 0.9860589599625071, 0.9860589599625071, 0.9860589599625071, 0.9860589599625071, 0.9860589599625071, 0.9860589599625071, 0.9860589599625071, 0.9860589599625071, 0.9860589599625071, 0.9860589599625071, 0.9860589599625071, 0.9860589599625071, 0.9880371740508321, 0.9880371740508321, 0.9880371740508321, 0.9880371740508321, 0.9880371740508321, 0.9880371740508321, 0.9880371740508321, 0.9880371740508321, 0.9880371740508321, 0.9880371740508321, 0.9880371740508321, 0.9880371740508321, 0.9880371740508321, 0.9880371740508321, 0.9880371740508321, 0.9895462612821735, 0.9895462612821735, 0.9895462612821735, 0.9895462612821735, 0.9895462612821735, 0.9895462612821735, 0.9895462612821735, 0.9895462612821735, 0.9895462612821735]}], \"recall_score_macro\": [{\"categories\": [\"0\", \"1\", \"2\", \"3\", \"4\", \"5\", \"6\", \"7\", \"8\", \"9\", \"10\", \"11\", \"12\", \"13\", \"14\", \"15\", \"16\", \"17\", \"18\", \"19\", \"20\", \"21\", \"22\", \"23\", \"24\", \"25\", \"26\", \"27\", \"28\", \"29\", \"30\", \"31\", \"32\", \"33\", \"34\", \"36\", \"37\"], \"mode\": \"markers\", \"name\": \"recall_score_macro\", \"stepped\": false, \"type\": \"scatter\", \"data\": [0.7813965464752597, 0.8387273709033485, 0.9613525838919305, 0.7365167614127257, 0.9694996597457649, 0.8485004509209224, 0.9113383766838429, 0.5, 0.5, 0.5, 0.5, 0.5, 0.9126434878933328, 0.7160166259471628, 0.9679940266697694, 0.5, 0.9602450039777972, 0.5, 0.9484558221817329, 0.9092862175114041, 0.9243912547966359, 0.8434019714549122, 0.6816631042470092, 0.9142872447463346, 0.946946576072696, 0.6135471204188482, 0.8447979053335599, 0.8181959291516057, 0.8205269314826079, 0.9627412418284726, 0.8302517281564926, 0.865119493118228, 0.6906795211485571, 0.9473306321720524, 0.8467024200272064, 0.9699354185272564, 0.9645559073670995]}, {\"categories\": [\"0\", \"1\", \"2\", \"3\", \"4\", \"5\", \"6\", \"7\", \"8\", \"9\", \"10\", \"11\", \"12\", \"13\", \"14\", \"15\", \"16\", \"17\", \"18\", \"19\", \"20\", \"21\", \"22\", \"23\", \"24\", \"25\", \"26\", \"27\", \"28\", \"29\", \"30\", \"31\", \"32\", \"33\", \"34\", \"36\", \"37\"], \"mode\": \"lines\", \"name\": \"recall_score_macro_max\", \"stepped\": true, \"type\": \"scatter\", \"data\": [0.7813965464752597, 0.8387273709033485, 0.9613525838919305, 0.9613525838919305, 0.9694996597457649, 0.9694996597457649, 0.9694996597457649, 0.9694996597457649, 0.9694996597457649, 0.9694996597457649, 0.9694996597457649, 0.9694996597457649, 0.9694996597457649, 0.9694996597457649, 0.9694996597457649, 0.9694996597457649, 0.9694996597457649, 0.9694996597457649, 0.9694996597457649, 0.9694996597457649, 0.9694996597457649, 0.9694996597457649, 0.9694996597457649, 0.9694996597457649, 0.9694996597457649, 0.9694996597457649, 0.9694996597457649, 0.9694996597457649, 0.9694996597457649, 0.9694996597457649, 0.9694996597457649, 0.9694996597457649, 0.9694996597457649, 0.9694996597457649, 0.9694996597457649, 0.9699354185272564, 0.9699354185272564]}], \"norm_macro_recall\": [{\"categories\": [\"0\", \"1\", \"2\", \"3\", \"4\", \"5\", \"6\", \"7\", \"8\", \"9\", \"10\", \"11\", \"12\", \"13\", \"14\", \"15\", \"16\", \"17\", \"18\", \"19\", \"20\", \"21\", \"22\", \"23\", \"24\", \"25\", \"26\", \"27\", \"28\", \"29\", \"30\", \"31\", \"32\", \"33\", \"34\", \"36\", \"37\"], \"mode\": \"markers\", \"name\": \"norm_macro_recall\", \"stepped\": false, \"type\": \"scatter\", \"data\": [0.5627930929505192, 0.6774547418066968, 0.922705167783861, 0.4730335228254514, 0.9389993194915297, 0.6970009018418445, 0.8226767533676856, 0.0, 0.0, 0.0, 0.0, 0.0, 0.8252869757866655, 0.43203325189432545, 0.9359880533395387, 0.0, 0.9204900079555945, 0.0, 0.8969116443634656, 0.8185724350228082, 0.848782509593272, 0.6868039429098246, 0.3633262084940183, 0.8285744894926693, 0.893893152145392, 0.22709424083769628, 0.6895958106671198, 0.6363918583032112, 0.6410538629652158, 0.9254824836569453, 0.6605034563129855, 0.730238986236456, 0.3813590422971141, 0.8946612643441046, 0.6934048400544128, 0.9398708370545128, 0.9291118147341989]}, {\"categories\": [\"0\", \"1\", \"2\", \"3\", \"4\", \"5\", \"6\", \"7\", \"8\", \"9\", \"10\", \"11\", \"12\", \"13\", \"14\", \"15\", \"16\", \"17\", \"18\", \"19\", \"20\", \"21\", \"22\", \"23\", \"24\", \"25\", \"26\", \"27\", \"28\", \"29\", \"30\", \"31\", \"32\", \"33\", \"34\", \"36\", \"37\"], \"mode\": \"lines\", \"name\": \"norm_macro_recall_max\", \"stepped\": true, \"type\": \"scatter\", \"data\": [0.5627930929505192, 0.6774547418066968, 0.922705167783861, 0.922705167783861, 0.9389993194915297, 0.9389993194915297, 0.9389993194915297, 0.9389993194915297, 0.9389993194915297, 0.9389993194915297, 0.9389993194915297, 0.9389993194915297, 0.9389993194915297, 0.9389993194915297, 0.9389993194915297, 0.9389993194915297, 0.9389993194915297, 0.9389993194915297, 0.9389993194915297, 0.9389993194915297, 0.9389993194915297, 0.9389993194915297, 0.9389993194915297, 0.9389993194915297, 0.9389993194915297, 0.9389993194915297, 0.9389993194915297, 0.9389993194915297, 0.9389993194915297, 0.9389993194915297, 0.9389993194915297, 0.9389993194915297, 0.9389993194915297, 0.9389993194915297, 0.9389993194915297, 0.9398708370545128, 0.9398708370545128]}], \"AUC_micro\": [{\"categories\": [\"0\", \"1\", \"2\", \"3\", \"4\", \"5\", \"6\", \"7\", \"8\", \"9\", \"10\", \"11\", \"12\", \"13\", \"14\", \"15\", \"16\", \"17\", \"18\", \"19\", \"20\", \"21\", \"22\", \"23\", \"24\", \"25\", \"26\", \"27\", \"28\", \"29\", \"30\", \"31\", \"32\", \"33\", \"34\", \"36\", \"37\"], \"mode\": \"markers\", \"name\": \"AUC_micro\", \"stepped\": false, \"type\": \"scatter\", \"data\": [0.9991629532227823, 0.9993393113692259, 0.9943397375021306, 0.9991279494484623, 0.9861322960040909, 0.999267264470256, 0.9452306596537365, 0.9986342440402268, 0.9984818710887088, 0.9986825188107239, 0.9978846762607446, 0.9986477585409209, 0.9435391555263349, 0.9990424793629922, 0.9886067889059342, 0.9983050868093603, 0.9909412667104974, 0.9965984854019041, 0.9746749823459225, 0.941474602478876, 0.976323020917038, 0.9989044123018482, 0.9991447512601358, 0.9740304867655295, 0.9768304843304844, 0.6440172157693526, 0.9992661382618647, 0.99918024204349, 0.9994656902135534, 0.9901511554289333, 0.999231438868191, 0.9993463730002192, 0.9990650644069449, 0.9754070786763096, 0.9980054240631163, 0.9961500718338326, 0.9878832761097719]}, {\"categories\": [\"0\", \"1\", \"2\", \"3\", \"4\", \"5\", \"6\", \"7\", \"8\", \"9\", \"10\", \"11\", \"12\", \"13\", \"14\", \"15\", \"16\", \"17\", \"18\", \"19\", \"20\", \"21\", \"22\", \"23\", \"24\", \"25\", \"26\", \"27\", \"28\", \"29\", \"30\", \"31\", \"32\", \"33\", \"34\", \"36\", \"37\"], \"mode\": \"lines\", \"name\": \"AUC_micro_max\", \"stepped\": true, \"type\": \"scatter\", \"data\": [0.9991629532227823, 0.9993393113692259, 0.9993393113692259, 0.9993393113692259, 0.9993393113692259, 0.9993393113692259, 0.9993393113692259, 0.9993393113692259, 0.9993393113692259, 0.9993393113692259, 0.9993393113692259, 0.9993393113692259, 0.9993393113692259, 0.9993393113692259, 0.9993393113692259, 0.9993393113692259, 0.9993393113692259, 0.9993393113692259, 0.9993393113692259, 0.9993393113692259, 0.9993393113692259, 0.9993393113692259, 0.9993393113692259, 0.9993393113692259, 0.9993393113692259, 0.9993393113692259, 0.9993393113692259, 0.9993393113692259, 0.9994656902135534, 0.9994656902135534, 0.9994656902135534, 0.9994656902135534, 0.9994656902135534, 0.9994656902135534, 0.9994656902135534, 0.9994656902135534, 0.9994656902135534]}], \"AUC_weighted\": [{\"categories\": [\"0\", \"1\", \"2\", \"3\", \"4\", \"5\", \"6\", \"7\", \"8\", \"9\", \"10\", \"11\", \"12\", \"13\", \"14\", \"15\", \"16\", \"17\", \"18\", \"19\", \"20\", \"21\", \"22\", \"23\", \"24\", \"25\", \"26\", \"27\", \"28\", \"29\", \"30\", \"31\", \"32\", \"33\", \"34\", \"36\", \"37\"], \"mode\": \"markers\", \"name\": \"AUC_weighted\", \"stepped\": false, \"type\": \"scatter\", \"data\": [0.9823685632237739, 0.986058959962507, 0.9816190686184054, 0.9822242706343479, 0.9760150393158592, 0.9850990166473167, 0.9426794233221095, 0.9730008300345675, 0.9689666219263144, 0.9737745632741942, 0.9541602237948985, 0.9737047622611134, 0.9555975329455645, 0.9880371740508321, 0.9765424956723697, 0.9651890091268057, 0.9791495170397025, 0.9202755632149331, 0.9687961174507569, 0.9597149310806952, 0.9680053290086795, 0.9752522564584174, 0.984109568135322, 0.953620159888256, 0.9660025329416858, 0.6358105487686639, 0.9843376689619783, 0.9831873974767728, 0.9895462612821735, 0.9795799749029871, 0.9833755804043064, 0.9861202461312254, 0.981449138278467, 0.9709431604262981, 0.9522608861028714, 0.9818212191400403, 0.9815179705700254]}, {\"categories\": [\"0\", \"1\", \"2\", \"3\", \"4\", \"5\", \"6\", \"7\", \"8\", \"9\", \"10\", \"11\", \"12\", \"13\", \"14\", \"15\", \"16\", \"17\", \"18\", \"19\", \"20\", \"21\", \"22\", \"23\", \"24\", \"25\", \"26\", \"27\", \"28\", \"29\", \"30\", \"31\", \"32\", \"33\", \"34\", \"36\", \"37\"], \"mode\": \"lines\", \"name\": \"AUC_weighted_max\", \"stepped\": true, \"type\": \"scatter\", \"data\": [0.9823685632237739, 0.986058959962507, 0.986058959962507, 0.986058959962507, 0.986058959962507, 0.986058959962507, 0.986058959962507, 0.986058959962507, 0.986058959962507, 0.986058959962507, 0.986058959962507, 0.986058959962507, 0.986058959962507, 0.9880371740508321, 0.9880371740508321, 0.9880371740508321, 0.9880371740508321, 0.9880371740508321, 0.9880371740508321, 0.9880371740508321, 0.9880371740508321, 0.9880371740508321, 0.9880371740508321, 0.9880371740508321, 0.9880371740508321, 0.9880371740508321, 0.9880371740508321, 0.9880371740508321, 0.9895462612821735, 0.9895462612821735, 0.9895462612821735, 0.9895462612821735, 0.9895462612821735, 0.9895462612821735, 0.9895462612821735, 0.9895462612821735, 0.9895462612821735]}], \"average_precision_score_micro\": [{\"categories\": [\"0\", \"1\", \"2\", \"3\", \"4\", \"5\", \"6\", \"7\", \"8\", \"9\", \"10\", \"11\", \"12\", \"13\", \"14\", \"15\", \"16\", \"17\", \"18\", \"19\", \"20\", \"21\", \"22\", \"23\", \"24\", \"25\", \"26\", \"27\", \"28\", \"29\", \"30\", \"31\", \"32\", \"33\", \"34\", \"36\", \"37\"], \"mode\": \"markers\", \"name\": \"average_precision_score_micro\", \"stepped\": false, \"type\": \"scatter\", \"data\": [0.999075065372022, 0.999322878547693, 0.994329146984231, 0.9989587492916644, 0.9863691441395321, 0.9991224113093149, 0.9468320935955695, 0.9984327643513357, 0.9982994670851734, 0.9986448547137058, 0.9976204701242514, 0.9984622803104929, 0.9415946975601525, 0.9987283049333922, 0.988765725163342, 0.9980802767840494, 0.991005505974598, 0.9959452418511203, 0.975525816254687, 0.9435774320494043, 0.971989222552347, 0.9985371748205241, 0.9989922117707625, 0.9724571631007414, 0.9769738529951538, 0.7993348875406566, 0.999197079588447, 0.9991152725452288, 0.9993913055695488, 0.9901985115567623, 0.999038077610933, 0.9992685572646879, 0.9990273015175898, 0.9738220528195979, 0.9971522496944641, 0.9961283538462687, 0.9757972863534204]}, {\"categories\": [\"0\", \"1\", \"2\", \"3\", \"4\", \"5\", \"6\", \"7\", \"8\", \"9\", \"10\", \"11\", \"12\", \"13\", \"14\", \"15\", \"16\", \"17\", \"18\", \"19\", \"20\", \"21\", \"22\", \"23\", \"24\", \"25\", \"26\", \"27\", \"28\", \"29\", \"30\", \"31\", \"32\", \"33\", \"34\", \"36\", \"37\"], \"mode\": \"lines\", \"name\": \"average_precision_score_micro_max\", \"stepped\": true, \"type\": \"scatter\", \"data\": [0.999075065372022, 0.999322878547693, 0.999322878547693, 0.999322878547693, 0.999322878547693, 0.999322878547693, 0.999322878547693, 0.999322878547693, 0.999322878547693, 0.999322878547693, 0.999322878547693, 0.999322878547693, 0.999322878547693, 0.999322878547693, 0.999322878547693, 0.999322878547693, 0.999322878547693, 0.999322878547693, 0.999322878547693, 0.999322878547693, 0.999322878547693, 0.999322878547693, 0.999322878547693, 0.999322878547693, 0.999322878547693, 0.999322878547693, 0.999322878547693, 0.999322878547693, 0.9993913055695488, 0.9993913055695488, 0.9993913055695488, 0.9993913055695488, 0.9993913055695488, 0.9993913055695488, 0.9993913055695488, 0.9993913055695488, 0.9993913055695488]}], \"f1_score_macro\": [{\"categories\": [\"0\", \"1\", \"2\", \"3\", \"4\", \"5\", \"6\", \"7\", \"8\", \"9\", \"10\", \"11\", \"12\", \"13\", \"14\", \"15\", \"16\", \"17\", \"18\", \"19\", \"20\", \"21\", \"22\", \"23\", \"24\", \"25\", \"26\", \"27\", \"28\", \"29\", \"30\", \"31\", \"32\", \"33\", \"34\", \"36\", \"37\"], \"mode\": \"markers\", \"name\": \"f1_score_macro\", \"stepped\": false, \"type\": \"scatter\", \"data\": [0.8146425519239978, 0.8513360221840934, 0.7646389048649231, 0.744080096940461, 0.739025553827425, 0.8439966888469511, 0.6212402064728201, 0.4950720608456045, 0.4950720608456045, 0.4950720608456045, 0.4950720608456045, 0.4950720608456045, 0.6109498501352696, 0.7629702518847407, 0.7613534290936858, 0.4950720608456045, 0.7777982989052538, 0.4950720608456045, 0.6523384447476416, 0.5807484622202609, 0.6784623425825972, 0.8492338504060369, 0.7195416037263183, 0.6526575006419405, 0.6851483203059319, 0.3473790493115551, 0.8443808580085413, 0.8387548440516165, 0.8371399447865636, 0.7223713955994061, 0.8468995700550749, 0.8765486200456176, 0.7515356395008911, 0.662053289857925, 0.8581702205848177, 0.7758766405561796, 0.7658450033979644]}, {\"categories\": [\"0\", \"1\", \"2\", \"3\", \"4\", \"5\", \"6\", \"7\", \"8\", \"9\", \"10\", \"11\", \"12\", \"13\", \"14\", \"15\", \"16\", \"17\", \"18\", \"19\", \"20\", \"21\", \"22\", \"23\", \"24\", \"25\", \"26\", \"27\", \"28\", \"29\", \"30\", \"31\", \"32\", \"33\", \"34\", \"36\", \"37\"], \"mode\": \"lines\", \"name\": \"f1_score_macro_max\", \"stepped\": true, \"type\": \"scatter\", \"data\": [0.8146425519239978, 0.8513360221840934, 0.8513360221840934, 0.8513360221840934, 0.8513360221840934, 0.8513360221840934, 0.8513360221840934, 0.8513360221840934, 0.8513360221840934, 0.8513360221840934, 0.8513360221840934, 0.8513360221840934, 0.8513360221840934, 0.8513360221840934, 0.8513360221840934, 0.8513360221840934, 0.8513360221840934, 0.8513360221840934, 0.8513360221840934, 0.8513360221840934, 0.8513360221840934, 0.8513360221840934, 0.8513360221840934, 0.8513360221840934, 0.8513360221840934, 0.8513360221840934, 0.8513360221840934, 0.8513360221840934, 0.8513360221840934, 0.8513360221840934, 0.8513360221840934, 0.8765486200456176, 0.8765486200456176, 0.8765486200456176, 0.8765486200456176, 0.8765486200456176, 0.8765486200456176]}], \"average_precision_score_weighted\": [{\"categories\": [\"0\", \"1\", \"2\", \"3\", \"4\", \"5\", \"6\", \"7\", \"8\", \"9\", \"10\", \"11\", \"12\", \"13\", \"14\", \"15\", \"16\", \"17\", \"18\", \"19\", \"20\", \"21\", \"22\", \"23\", \"24\", \"25\", \"26\", \"27\", \"28\", \"29\", \"30\", \"31\", \"32\", \"33\", \"34\", \"36\", \"37\"], \"mode\": \"markers\", \"name\": \"average_precision_score_weighted\", \"stepped\": false, \"type\": \"scatter\", \"data\": [0.9947754642538372, 0.9957383385214261, 0.9924947328989554, 0.9922782828540441, 0.9884641944000983, 0.9941010077962146, 0.9843493879870134, 0.9872161040638497, 0.9881204503557662, 0.9908585373551495, 0.9863711211865905, 0.9903484838688884, 0.9873796421460476, 0.9937948100804835, 0.9888502321028462, 0.9882220063575061, 0.989362779497383, 0.9833886245642125, 0.9870045874161703, 0.9871440046711238, 0.9897891552349485, 0.9938470024190753, 0.9928096129060798, 0.9869445856241114, 0.9891703636465388, 0.9683123123738535, 0.9949356070685026, 0.9946127684808116, 0.9956937845529827, 0.9905147962753601, 0.9950518270095587, 0.9960751124968622, 0.9935687939040448, 0.9902980764160997, 0.992890392694367, 0.9933307820238042, 0.9933891098144989]}, {\"categories\": [\"0\", \"1\", \"2\", \"3\", \"4\", \"5\", \"6\", \"7\", \"8\", \"9\", \"10\", \"11\", \"12\", \"13\", \"14\", \"15\", \"16\", \"17\", \"18\", \"19\", \"20\", \"21\", \"22\", \"23\", \"24\", \"25\", \"26\", \"27\", \"28\", \"29\", \"30\", \"31\", \"32\", \"33\", \"34\", \"36\", \"37\"], \"mode\": \"lines\", \"name\": \"average_precision_score_weighted_max\", \"stepped\": true, \"type\": \"scatter\", \"data\": [0.9947754642538372, 0.9957383385214261, 0.9957383385214261, 0.9957383385214261, 0.9957383385214261, 0.9957383385214261, 0.9957383385214261, 0.9957383385214261, 0.9957383385214261, 0.9957383385214261, 0.9957383385214261, 0.9957383385214261, 0.9957383385214261, 0.9957383385214261, 0.9957383385214261, 0.9957383385214261, 0.9957383385214261, 0.9957383385214261, 0.9957383385214261, 0.9957383385214261, 0.9957383385214261, 0.9957383385214261, 0.9957383385214261, 0.9957383385214261, 0.9957383385214261, 0.9957383385214261, 0.9957383385214261, 0.9957383385214261, 0.9957383385214261, 0.9957383385214261, 0.9957383385214261, 0.9960751124968622, 0.9960751124968622, 0.9960751124968622, 0.9960751124968622, 0.9960751124968622, 0.9960751124968622]}], \"f1_score_weighted\": [{\"categories\": [\"0\", \"1\", \"2\", \"3\", \"4\", \"5\", \"6\", \"7\", \"8\", \"9\", \"10\", \"11\", \"12\", \"13\", \"14\", \"15\", \"16\", \"17\", \"18\", \"19\", \"20\", \"21\", \"22\", \"23\", \"24\", \"25\", \"26\", \"27\", \"28\", \"29\", \"30\", \"31\", \"32\", \"33\", \"34\", \"36\", \"37\"], \"mode\": \"markers\", \"name\": \"f1_score_weighted\", \"stepped\": false, \"type\": \"scatter\", \"data\": [0.9867898031302715, 0.9891721996191879, 0.9756804506965517, 0.9835272519772101, 0.9708248000253311, 0.9881087584588256, 0.9370848210799112, 0.9708245392774518, 0.9708245392774518, 0.9708245392774518, 0.9708245392774518, 0.9708245392774518, 0.9337680304820881, 0.9836452044064231, 0.9748661339021677, 0.9708245392774518, 0.9777124965116682, 0.9708245392774518, 0.9471918038232848, 0.9161895831847223, 0.9592836578798093, 0.9887469691959686, 0.9824548285319271, 0.9523986822374723, 0.9561969771611768, 0.6179044100994971, 0.9880319685241775, 0.9881837108679239, 0.9881408397748883, 0.9678340832462641, 0.9888633407750024, 0.990852264754324, 0.9835446445876842, 0.9529590948166047, 0.9894993840820926, 0.9771384768986161, 0.9757786047498422]}, {\"categories\": [\"0\", \"1\", \"2\", \"3\", \"4\", \"5\", \"6\", \"7\", \"8\", \"9\", \"10\", \"11\", \"12\", \"13\", \"14\", \"15\", \"16\", \"17\", \"18\", \"19\", \"20\", \"21\", \"22\", \"23\", \"24\", \"25\", \"26\", \"27\", \"28\", \"29\", \"30\", \"31\", \"32\", \"33\", \"34\", \"36\", \"37\"], \"mode\": \"lines\", \"name\": \"f1_score_weighted_max\", \"stepped\": true, \"type\": \"scatter\", \"data\": [0.9867898031302715, 0.9891721996191879, 0.9891721996191879, 0.9891721996191879, 0.9891721996191879, 0.9891721996191879, 0.9891721996191879, 0.9891721996191879, 0.9891721996191879, 0.9891721996191879, 0.9891721996191879, 0.9891721996191879, 0.9891721996191879, 0.9891721996191879, 0.9891721996191879, 0.9891721996191879, 0.9891721996191879, 0.9891721996191879, 0.9891721996191879, 0.9891721996191879, 0.9891721996191879, 0.9891721996191879, 0.9891721996191879, 0.9891721996191879, 0.9891721996191879, 0.9891721996191879, 0.9891721996191879, 0.9891721996191879, 0.9891721996191879, 0.9891721996191879, 0.9891721996191879, 0.990852264754324, 0.990852264754324, 0.990852264754324, 0.990852264754324, 0.990852264754324, 0.990852264754324]}], \"precision_score_macro\": [{\"categories\": [\"0\", \"1\", \"2\", \"3\", \"4\", \"5\", \"6\", \"7\", \"8\", \"9\", \"10\", \"11\", \"12\", \"13\", \"14\", \"15\", \"16\", \"17\", \"18\", \"19\", \"20\", \"21\", \"22\", \"23\", \"24\", \"25\", \"26\", \"27\", \"28\", \"29\", \"30\", \"31\", \"32\", \"33\", \"34\", \"36\", \"37\"], \"mode\": \"markers\", \"name\": \"precision_score_macro\", \"stepped\": false, \"type\": \"scatter\", \"data\": [0.8616748830508237, 0.8706905273860416, 0.6914212516548831, 0.7848909012174105, 0.6679020671200582, 0.8399402732494439, 0.5884655917819498, 0.4902421652421652, 0.4902421652421652, 0.4902421652421652, 0.4902421652421652, 0.4902421652421652, 0.5802765565676904, 0.8414845437365011, 0.6874284732198858, 0.4902421652421652, 0.7049966136489374, 0.4902421652421652, 0.6066692060791604, 0.5658752033505658, 0.6224693072615888, 0.859373743907132, 0.8757470003409273, 0.6043825900996423, 0.631512230622017, 0.3482656272569973, 0.8454676861393272, 0.8651578327380096, 0.862353853285093, 0.6542165966580147, 0.8676123401988699, 0.8946072115688507, 0.8878976827823388, 0.6105141699315447, 0.878367301479663, 0.7013665002353463, 0.6917686059229659]}, {\"categories\": [\"0\", \"1\", \"2\", \"3\", \"4\", \"5\", \"6\", \"7\", \"8\", \"9\", \"10\", \"11\", \"12\", \"13\", \"14\", \"15\", \"16\", \"17\", \"18\", \"19\", \"20\", \"21\", \"22\", \"23\", \"24\", \"25\", \"26\", \"27\", \"28\", \"29\", \"30\", \"31\", \"32\", \"33\", \"34\", \"36\", \"37\"], \"mode\": \"lines\", \"name\": \"precision_score_macro_max\", \"stepped\": true, \"type\": \"scatter\", \"data\": [0.8616748830508237, 0.8706905273860416, 0.8706905273860416, 0.8706905273860416, 0.8706905273860416, 0.8706905273860416, 0.8706905273860416, 0.8706905273860416, 0.8706905273860416, 0.8706905273860416, 0.8706905273860416, 0.8706905273860416, 0.8706905273860416, 0.8706905273860416, 0.8706905273860416, 0.8706905273860416, 0.8706905273860416, 0.8706905273860416, 0.8706905273860416, 0.8706905273860416, 0.8706905273860416, 0.8706905273860416, 0.8757470003409273, 0.8757470003409273, 0.8757470003409273, 0.8757470003409273, 0.8757470003409273, 0.8757470003409273, 0.8757470003409273, 0.8757470003409273, 0.8757470003409273, 0.8946072115688507, 0.8946072115688507, 0.8946072115688507, 0.8946072115688507, 0.8946072115688507, 0.8946072115688507]}], \"recall_score_weighted\": [{\"categories\": [\"0\", \"1\", \"2\", \"3\", \"4\", \"5\", \"6\", \"7\", \"8\", \"9\", \"10\", \"11\", \"12\", \"13\", \"14\", \"15\", \"16\", \"17\", \"18\", \"19\", \"20\", \"21\", \"22\", \"23\", \"24\", \"25\", \"26\", \"27\", \"28\", \"29\", \"30\", \"31\", \"32\", \"33\", \"34\", \"36\", \"37\"], \"mode\": \"markers\", \"name\": \"recall_score_weighted\", \"stepped\": false, \"type\": \"scatter\", \"data\": [0.9876068376068377, 0.9894586894586895, 0.9692307692307692, 0.9853276353276353, 0.9616809116809116, 0.9880341880341881, 0.9065527065527066, 0.9804843304843304, 0.9804843304843304, 0.9804843304843304, 0.9804843304843304, 0.9804843304843304, 0.9014245014245015, 0.9853276353276353, 0.967948717948718, 0.9804843304843304, 0.9722222222222222, 0.9804843304843304, 0.922934472934473, 0.8717948717948718, 0.9438746438746438, 0.9888888888888889, 0.9854700854700855, 0.9327635327635327, 0.9373219373219374, 0.6047008547008547, 0.9880341880341881, 0.9886039886039887, 0.9886039886039887, 0.9571225071225071, 0.9891737891737892, 0.9910256410256411, 0.9857549857549858, 0.933048433048433, 0.9897435897435898, 0.9712250712250712, 0.9693732193732193]}, {\"categories\": [\"0\", \"1\", \"2\", \"3\", \"4\", \"5\", \"6\", \"7\", \"8\", \"9\", \"10\", \"11\", \"12\", \"13\", \"14\", \"15\", \"16\", \"17\", \"18\", \"19\", \"20\", \"21\", \"22\", \"23\", \"24\", \"25\", \"26\", \"27\", \"28\", \"29\", \"30\", \"31\", \"32\", \"33\", \"34\", \"36\", \"37\"], \"mode\": \"lines\", \"name\": \"recall_score_weighted_max\", \"stepped\": true, \"type\": \"scatter\", \"data\": [0.9876068376068377, 0.9894586894586895, 0.9894586894586895, 0.9894586894586895, 0.9894586894586895, 0.9894586894586895, 0.9894586894586895, 0.9894586894586895, 0.9894586894586895, 0.9894586894586895, 0.9894586894586895, 0.9894586894586895, 0.9894586894586895, 0.9894586894586895, 0.9894586894586895, 0.9894586894586895, 0.9894586894586895, 0.9894586894586895, 0.9894586894586895, 0.9894586894586895, 0.9894586894586895, 0.9894586894586895, 0.9894586894586895, 0.9894586894586895, 0.9894586894586895, 0.9894586894586895, 0.9894586894586895, 0.9894586894586895, 0.9894586894586895, 0.9894586894586895, 0.9894586894586895, 0.9910256410256411, 0.9910256410256411, 0.9910256410256411, 0.9910256410256411, 0.9910256410256411, 0.9910256410256411]}], \"weighted_accuracy\": [{\"categories\": [\"0\", \"1\", \"2\", \"3\", \"4\", \"5\", \"6\", \"7\", \"8\", \"9\", \"10\", \"11\", \"12\", \"13\", \"14\", \"15\", \"16\", \"17\", \"18\", \"19\", \"20\", \"21\", \"22\", \"23\", \"24\", \"25\", \"26\", \"27\", \"28\", \"29\", \"30\", \"31\", \"32\", \"33\", \"34\", \"36\", \"37\"], \"mode\": \"markers\", \"name\": \"weighted_accuracy\", \"stepped\": false, \"type\": \"scatter\", \"data\": [0.9957616980235221, 0.9953755454730753, 0.9694925655495711, 0.9944401440014289, 0.9613696078721911, 0.993491474831063, 0.9064719971768399, 0.9995957652550409, 0.9995957652550409, 0.9995957652550409, 0.9995957652550409, 0.9995957652550409, 0.9008667529443648, 0.9959977800141875, 0.9678970932035419, 0.9995957652550409, 0.9726865904054551, 0.9995957652550409, 0.9218965944180578, 0.8702768244063005, 0.9446318739578675, 0.9946495209141512, 0.9970015924425959, 0.9335740756573715, 0.9368839489654271, 0.6021903533718371, 0.9937732380733405, 0.9953541835232943, 0.9952126754137548, 0.9568614346806285, 0.9953687866873383, 0.9959737591461039, 0.9974361004968654, 0.9324571827151752, 0.9953776959323931, 0.9712437891454239, 0.9694924134213269]}, {\"categories\": [\"0\", \"1\", \"2\", \"3\", \"4\", \"5\", \"6\", \"7\", \"8\", \"9\", \"10\", \"11\", \"12\", \"13\", \"14\", \"15\", \"16\", \"17\", \"18\", \"19\", \"20\", \"21\", \"22\", \"23\", \"24\", \"25\", \"26\", \"27\", \"28\", \"29\", \"30\", \"31\", \"32\", \"33\", \"34\", \"36\", \"37\"], \"mode\": \"lines\", \"name\": \"weighted_accuracy_max\", \"stepped\": true, \"type\": \"scatter\", \"data\": [0.9957616980235221, 0.9957616980235221, 0.9957616980235221, 0.9957616980235221, 0.9957616980235221, 0.9957616980235221, 0.9957616980235221, 0.9995957652550409, 0.9995957652550409, 0.9995957652550409, 0.9995957652550409, 0.9995957652550409, 0.9995957652550409, 0.9995957652550409, 0.9995957652550409, 0.9995957652550409, 0.9995957652550409, 0.9995957652550409, 0.9995957652550409, 0.9995957652550409, 0.9995957652550409, 0.9995957652550409, 0.9995957652550409, 0.9995957652550409, 0.9995957652550409, 0.9995957652550409, 0.9995957652550409, 0.9995957652550409, 0.9995957652550409, 0.9995957652550409, 0.9995957652550409, 0.9995957652550409, 0.9995957652550409, 0.9995957652550409, 0.9995957652550409, 0.9995957652550409, 0.9995957652550409]}], \"average_precision_score_macro\": [{\"categories\": [\"0\", \"1\", \"2\", \"3\", \"4\", \"5\", \"6\", \"7\", \"8\", \"9\", \"10\", \"11\", \"12\", \"13\", \"14\", \"15\", \"16\", \"17\", \"18\", \"19\", \"20\", \"21\", \"22\", \"23\", \"24\", \"25\", \"26\", \"27\", \"28\", \"29\", \"30\", \"31\", \"32\", \"33\", \"34\", \"36\", \"37\"], \"mode\": \"markers\", \"name\": \"average_precision_score_macro\", \"stepped\": false, \"type\": \"scatter\", \"data\": [0.8761183753061058, 0.8949515993637022, 0.8192627216474726, 0.8112308127316977, 0.7185231601110917, 0.8599113367943759, 0.6440312461825431, 0.6870048760049491, 0.7098451729195224, 0.7725372056414206, 0.6813569194406143, 0.7680730739405863, 0.7141933608350958, 0.8449369564025577, 0.7278420974591985, 0.7184692519247005, 0.7409029170005658, 0.625794070483019, 0.6859179946137927, 0.6887270842545842, 0.7522547821002146, 0.8627500635676738, 0.826010214564049, 0.7014366239061017, 0.7355322166666922, 0.5191380944961411, 0.8800608307612708, 0.870149097601565, 0.8929198905721533, 0.7715307226618434, 0.8848945534691101, 0.9042773877884841, 0.8388033974903889, 0.7666221956184586, 0.8601227160834798, 0.8371584298149042, 0.8382857791052714]}, {\"categories\": [\"0\", \"1\", \"2\", \"3\", \"4\", \"5\", \"6\", \"7\", \"8\", \"9\", \"10\", \"11\", \"12\", \"13\", \"14\", \"15\", \"16\", \"17\", \"18\", \"19\", \"20\", \"21\", \"22\", \"23\", \"24\", \"25\", \"26\", \"27\", \"28\", \"29\", \"30\", \"31\", \"32\", \"33\", \"34\", \"36\", \"37\"], \"mode\": \"lines\", \"name\": \"average_precision_score_macro_max\", \"stepped\": true, \"type\": \"scatter\", \"data\": [0.8761183753061058, 0.8949515993637022, 0.8949515993637022, 0.8949515993637022, 0.8949515993637022, 0.8949515993637022, 0.8949515993637022, 0.8949515993637022, 0.8949515993637022, 0.8949515993637022, 0.8949515993637022, 0.8949515993637022, 0.8949515993637022, 0.8949515993637022, 0.8949515993637022, 0.8949515993637022, 0.8949515993637022, 0.8949515993637022, 0.8949515993637022, 0.8949515993637022, 0.8949515993637022, 0.8949515993637022, 0.8949515993637022, 0.8949515993637022, 0.8949515993637022, 0.8949515993637022, 0.8949515993637022, 0.8949515993637022, 0.8949515993637022, 0.8949515993637022, 0.8949515993637022, 0.9042773877884841, 0.9042773877884841, 0.9042773877884841, 0.9042773877884841, 0.9042773877884841, 0.9042773877884841]}], \"matthews_correlation\": [{\"categories\": [\"0\", \"1\", \"2\", \"3\", \"4\", \"5\", \"6\", \"7\", \"8\", \"9\", \"10\", \"11\", \"12\", \"13\", \"14\", \"15\", \"16\", \"17\", \"18\", \"19\", \"20\", \"21\", \"22\", \"23\", \"24\", \"25\", \"26\", \"27\", \"28\", \"29\", \"30\", \"31\", \"32\", \"33\", \"34\", \"36\", \"37\"], \"mode\": \"markers\", \"name\": \"matthews_correlation\", \"stepped\": false, \"type\": \"scatter\", \"data\": [0.6364068396939287, 0.7061688403944107, 0.5930550124852599, 0.5036112333764108, 0.5598214865940947, 0.6882283670991587, 0.37522225402693304, 0.0, 0.0, 0.0, 0.0, 0.0, 0.3632043841956252, 0.5421289422690112, 0.5911727190098015, 0.0, 0.6121858271087772, 0.0, 0.4327045429001666, 0.32668831718181285, 0.45470792581170594, 0.7007101724058661, 0.49166794142768916, 0.4151781001465113, 0.4767226930931052, 0.07935257904293698, 0.6895498238828531, 0.6805464505277873, 0.6787316356979853, 0.5331483750771717, 0.6959145532436904, 0.7565322849881899, 0.5407074698805179, 0.44362951135693424, 0.7208564780031755, 0.6133943149194672, 0.5961120624883817]}, {\"categories\": [\"0\", \"1\", \"2\", \"3\", \"4\", \"5\", \"6\", \"7\", \"8\", \"9\", \"10\", \"11\", \"12\", \"13\", \"14\", \"15\", \"16\", \"17\", \"18\", \"19\", \"20\", \"21\", \"22\", \"23\", \"24\", \"25\", \"26\", \"27\", \"28\", \"29\", \"30\", \"31\", \"32\", \"33\", \"34\", \"36\", \"37\"], \"mode\": \"lines\", \"name\": \"matthews_correlation_max\", \"stepped\": true, \"type\": \"scatter\", \"data\": [0.6364068396939287, 0.7061688403944107, 0.7061688403944107, 0.7061688403944107, 0.7061688403944107, 0.7061688403944107, 0.7061688403944107, 0.7061688403944107, 0.7061688403944107, 0.7061688403944107, 0.7061688403944107, 0.7061688403944107, 0.7061688403944107, 0.7061688403944107, 0.7061688403944107, 0.7061688403944107, 0.7061688403944107, 0.7061688403944107, 0.7061688403944107, 0.7061688403944107, 0.7061688403944107, 0.7061688403944107, 0.7061688403944107, 0.7061688403944107, 0.7061688403944107, 0.7061688403944107, 0.7061688403944107, 0.7061688403944107, 0.7061688403944107, 0.7061688403944107, 0.7061688403944107, 0.7565322849881899, 0.7565322849881899, 0.7565322849881899, 0.7565322849881899, 0.7565322849881899, 0.7565322849881899]}], \"balanced_accuracy\": [{\"categories\": [\"0\", \"1\", \"2\", \"3\", \"4\", \"5\", \"6\", \"7\", \"8\", \"9\", \"10\", \"11\", \"12\", \"13\", \"14\", \"15\", \"16\", \"17\", \"18\", \"19\", \"20\", \"21\", \"22\", \"23\", \"24\", \"25\", \"26\", \"27\", \"28\", \"29\", \"30\", \"31\", \"32\", \"33\", \"34\", \"36\", \"37\"], \"mode\": \"markers\", \"name\": \"balanced_accuracy\", \"stepped\": false, \"type\": \"scatter\", \"data\": [0.7813965464752597, 0.8387273709033485, 0.9613525838919305, 0.7365167614127257, 0.9694996597457649, 0.8485004509209224, 0.9113383766838429, 0.5, 0.5, 0.5, 0.5, 0.5, 0.9126434878933328, 0.7160166259471628, 0.9679940266697694, 0.5, 0.9602450039777972, 0.5, 0.9484558221817329, 0.9092862175114041, 0.9243912547966359, 0.8434019714549122, 0.6816631042470092, 0.9142872447463346, 0.946946576072696, 0.6135471204188482, 0.8447979053335599, 0.8181959291516057, 0.8205269314826079, 0.9627412418284726, 0.8302517281564926, 0.865119493118228, 0.6906795211485571, 0.9473306321720524, 0.8467024200272064, 0.9699354185272564, 0.9645559073670995]}, {\"categories\": [\"0\", \"1\", \"2\", \"3\", \"4\", \"5\", \"6\", \"7\", \"8\", \"9\", \"10\", \"11\", \"12\", \"13\", \"14\", \"15\", \"16\", \"17\", \"18\", \"19\", \"20\", \"21\", \"22\", \"23\", \"24\", \"25\", \"26\", \"27\", \"28\", \"29\", \"30\", \"31\", \"32\", \"33\", \"34\", \"36\", \"37\"], \"mode\": \"lines\", \"name\": \"balanced_accuracy_max\", \"stepped\": true, \"type\": \"scatter\", \"data\": [0.7813965464752597, 0.8387273709033485, 0.9613525838919305, 0.9613525838919305, 0.9694996597457649, 0.9694996597457649, 0.9694996597457649, 0.9694996597457649, 0.9694996597457649, 0.9694996597457649, 0.9694996597457649, 0.9694996597457649, 0.9694996597457649, 0.9694996597457649, 0.9694996597457649, 0.9694996597457649, 0.9694996597457649, 0.9694996597457649, 0.9694996597457649, 0.9694996597457649, 0.9694996597457649, 0.9694996597457649, 0.9694996597457649, 0.9694996597457649, 0.9694996597457649, 0.9694996597457649, 0.9694996597457649, 0.9694996597457649, 0.9694996597457649, 0.9694996597457649, 0.9694996597457649, 0.9694996597457649, 0.9694996597457649, 0.9694996597457649, 0.9694996597457649, 0.9699354185272564, 0.9699354185272564]}], \"recall_score_micro\": [{\"categories\": [\"0\", \"1\", \"2\", \"3\", \"4\", \"5\", \"6\", \"7\", \"8\", \"9\", \"10\", \"11\", \"12\", \"13\", \"14\", \"15\", \"16\", \"17\", \"18\", \"19\", \"20\", \"21\", \"22\", \"23\", \"24\", \"25\", \"26\", \"27\", \"28\", \"29\", \"30\", \"31\", \"32\", \"33\", \"34\", \"36\", \"37\"], \"mode\": \"markers\", \"name\": \"recall_score_micro\", \"stepped\": false, \"type\": \"scatter\", \"data\": [0.9876068376068377, 0.9894586894586895, 0.9692307692307692, 0.9853276353276353, 0.9616809116809116, 0.9880341880341881, 0.9065527065527066, 0.9804843304843304, 0.9804843304843304, 0.9804843304843304, 0.9804843304843304, 0.9804843304843304, 0.9014245014245015, 0.9853276353276353, 0.967948717948718, 0.9804843304843304, 0.9722222222222222, 0.9804843304843304, 0.922934472934473, 0.8717948717948718, 0.9438746438746438, 0.9888888888888889, 0.9854700854700855, 0.9327635327635327, 0.9373219373219374, 0.6047008547008547, 0.9880341880341881, 0.9886039886039887, 0.9886039886039887, 0.9571225071225071, 0.9891737891737892, 0.9910256410256411, 0.9857549857549858, 0.933048433048433, 0.9897435897435898, 0.9712250712250712, 0.9693732193732193]}, {\"categories\": [\"0\", \"1\", \"2\", \"3\", \"4\", \"5\", \"6\", \"7\", \"8\", \"9\", \"10\", \"11\", \"12\", \"13\", \"14\", \"15\", \"16\", \"17\", \"18\", \"19\", \"20\", \"21\", \"22\", \"23\", \"24\", \"25\", \"26\", \"27\", \"28\", \"29\", \"30\", \"31\", \"32\", \"33\", \"34\", \"36\", \"37\"], \"mode\": \"lines\", \"name\": \"recall_score_micro_max\", \"stepped\": true, \"type\": \"scatter\", \"data\": [0.9876068376068377, 0.9894586894586895, 0.9894586894586895, 0.9894586894586895, 0.9894586894586895, 0.9894586894586895, 0.9894586894586895, 0.9894586894586895, 0.9894586894586895, 0.9894586894586895, 0.9894586894586895, 0.9894586894586895, 0.9894586894586895, 0.9894586894586895, 0.9894586894586895, 0.9894586894586895, 0.9894586894586895, 0.9894586894586895, 0.9894586894586895, 0.9894586894586895, 0.9894586894586895, 0.9894586894586895, 0.9894586894586895, 0.9894586894586895, 0.9894586894586895, 0.9894586894586895, 0.9894586894586895, 0.9894586894586895, 0.9894586894586895, 0.9894586894586895, 0.9894586894586895, 0.9910256410256411, 0.9910256410256411, 0.9910256410256411, 0.9910256410256411, 0.9910256410256411, 0.9910256410256411]}], \"precision_score_weighted\": [{\"categories\": [\"0\", \"1\", \"2\", \"3\", \"4\", \"5\", \"6\", \"7\", \"8\", \"9\", \"10\", \"11\", \"12\", \"13\", \"14\", \"15\", \"16\", \"17\", \"18\", \"19\", \"20\", \"21\", \"22\", \"23\", \"24\", \"25\", \"26\", \"27\", \"28\", \"29\", \"30\", \"31\", \"32\", \"33\", \"34\", \"36\", \"37\"], \"mode\": \"markers\", \"name\": \"precision_score_weighted\", \"stepped\": false, \"type\": \"scatter\", \"data\": [0.9865463323634928, 0.9891670454450546, 0.9872511286447662, 0.9828235919133855, 0.9867440802082784, 0.9882019127093092, 0.9822309977168904, 0.9613568680449021, 0.9613568680449021, 0.9613568680449021, 0.9613568680449021, 0.9613568680449021, 0.9820432703380023, 0.9832454448088598, 0.9873494236383767, 0.9613568680449021, 0.9876609872229117, 0.9613568680449021, 0.9843252457317638, 0.9819655822568838, 0.9834345308520476, 0.9887829123675903, 0.9835615742146829, 0.9823503047971732, 0.9851426774335996, 0.6490699815827052, 0.9880926672006695, 0.9880077872086157, 0.9880371714955327, 0.9860384264384309, 0.9887219889209221, 0.9909576885821135, 0.9845880793144642, 0.9841238908137346, 0.9896226780919107, 0.987949048306183, 0.9873859331517002]}, {\"categories\": [\"0\", \"1\", \"2\", \"3\", \"4\", \"5\", \"6\", \"7\", \"8\", \"9\", \"10\", \"11\", \"12\", \"13\", \"14\", \"15\", \"16\", \"17\", \"18\", \"19\", \"20\", \"21\", \"22\", \"23\", \"24\", \"25\", \"26\", \"27\", \"28\", \"29\", \"30\", \"31\", \"32\", \"33\", \"34\", \"36\", \"37\"], \"mode\": \"lines\", \"name\": \"precision_score_weighted_max\", \"stepped\": true, \"type\": \"scatter\", \"data\": [0.9865463323634928, 0.9891670454450546, 0.9891670454450546, 0.9891670454450546, 0.9891670454450546, 0.9891670454450546, 0.9891670454450546, 0.9891670454450546, 0.9891670454450546, 0.9891670454450546, 0.9891670454450546, 0.9891670454450546, 0.9891670454450546, 0.9891670454450546, 0.9891670454450546, 0.9891670454450546, 0.9891670454450546, 0.9891670454450546, 0.9891670454450546, 0.9891670454450546, 0.9891670454450546, 0.9891670454450546, 0.9891670454450546, 0.9891670454450546, 0.9891670454450546, 0.9891670454450546, 0.9891670454450546, 0.9891670454450546, 0.9891670454450546, 0.9891670454450546, 0.9891670454450546, 0.9909576885821135, 0.9909576885821135, 0.9909576885821135, 0.9909576885821135, 0.9909576885821135, 0.9909576885821135]}], \"precision_score_micro\": [{\"categories\": [\"0\", \"1\", \"2\", \"3\", \"4\", \"5\", \"6\", \"7\", \"8\", \"9\", \"10\", \"11\", \"12\", \"13\", \"14\", \"15\", \"16\", \"17\", \"18\", \"19\", \"20\", \"21\", \"22\", \"23\", \"24\", \"25\", \"26\", \"27\", \"28\", \"29\", \"30\", \"31\", \"32\", \"33\", \"34\", \"36\", \"37\"], \"mode\": \"markers\", \"name\": \"precision_score_micro\", \"stepped\": false, \"type\": \"scatter\", \"data\": [0.9876068376068377, 0.9894586894586895, 0.9692307692307692, 0.9853276353276353, 0.9616809116809116, 0.9880341880341881, 0.9065527065527066, 0.9804843304843304, 0.9804843304843304, 0.9804843304843304, 0.9804843304843304, 0.9804843304843304, 0.9014245014245015, 0.9853276353276353, 0.967948717948718, 0.9804843304843304, 0.9722222222222222, 0.9804843304843304, 0.922934472934473, 0.8717948717948718, 0.9438746438746438, 0.9888888888888889, 0.9854700854700855, 0.9327635327635327, 0.9373219373219374, 0.6047008547008547, 0.9880341880341881, 0.9886039886039887, 0.9886039886039887, 0.9571225071225071, 0.9891737891737892, 0.9910256410256411, 0.9857549857549858, 0.933048433048433, 0.9897435897435898, 0.9712250712250712, 0.9693732193732193]}, {\"categories\": [\"0\", \"1\", \"2\", \"3\", \"4\", \"5\", \"6\", \"7\", \"8\", \"9\", \"10\", \"11\", \"12\", \"13\", \"14\", \"15\", \"16\", \"17\", \"18\", \"19\", \"20\", \"21\", \"22\", \"23\", \"24\", \"25\", \"26\", \"27\", \"28\", \"29\", \"30\", \"31\", \"32\", \"33\", \"34\", \"36\", \"37\"], \"mode\": \"lines\", \"name\": \"precision_score_micro_max\", \"stepped\": true, \"type\": \"scatter\", \"data\": [0.9876068376068377, 0.9894586894586895, 0.9894586894586895, 0.9894586894586895, 0.9894586894586895, 0.9894586894586895, 0.9894586894586895, 0.9894586894586895, 0.9894586894586895, 0.9894586894586895, 0.9894586894586895, 0.9894586894586895, 0.9894586894586895, 0.9894586894586895, 0.9894586894586895, 0.9894586894586895, 0.9894586894586895, 0.9894586894586895, 0.9894586894586895, 0.9894586894586895, 0.9894586894586895, 0.9894586894586895, 0.9894586894586895, 0.9894586894586895, 0.9894586894586895, 0.9894586894586895, 0.9894586894586895, 0.9894586894586895, 0.9894586894586895, 0.9894586894586895, 0.9894586894586895, 0.9910256410256411, 0.9910256410256411, 0.9910256410256411, 0.9910256410256411, 0.9910256410256411, 0.9910256410256411]}], \"log_loss\": [{\"categories\": [\"0\", \"1\", \"2\", \"3\", \"4\", \"5\", \"6\", \"7\", \"8\", \"9\", \"10\", \"11\", \"12\", \"13\", \"14\", \"15\", \"16\", \"17\", \"18\", \"19\", \"20\", \"21\", \"22\", \"23\", \"24\", \"25\", \"26\", \"27\", \"28\", \"29\", \"30\", \"31\", \"32\", \"33\", \"34\", \"36\", \"37\"], \"mode\": \"markers\", \"name\": \"log_loss\", \"stepped\": false, \"type\": \"scatter\", \"data\": [0.04991036786613363, 0.027649049605158803, 0.09779669350456298, 0.03958207667810254, 0.15459692427462388, 0.035768307958388555, 0.6566415431671196, 0.05052087034158482, 0.05538280140572024, 0.07297460139525712, 0.07877616920203882, 0.06358217147922048, 0.5827178793133906, 0.03609984862069416, 0.1353432467371332, 0.07568318349631471, 0.10713342517151625, 0.08100473822128905, 0.20432625678764618, 0.49281329237092003, 0.547758376285887, 0.21554167880409011, 0.039985642037165564, 0.4697607982788252, 0.3618405342620623, 0.6811919402550787, 0.033514982225003424, 0.039651249017283376, 0.029269625122230813, 0.13645372789975438, 0.026363305808023398, 0.024618142867539577, 0.03329311675205809, 0.5564325848640685, 0.21403823772309707, 0.14636638194650872, 0.2795592328179703]}, {\"categories\": [\"0\", \"1\", \"2\", \"3\", \"4\", \"5\", \"6\", \"7\", \"8\", \"9\", \"10\", \"11\", \"12\", \"13\", \"14\", \"15\", \"16\", \"17\", \"18\", \"19\", \"20\", \"21\", \"22\", \"23\", \"24\", \"25\", \"26\", \"27\", \"28\", \"29\", \"30\", \"31\", \"32\", \"33\", \"34\", \"36\", \"37\"], \"mode\": \"lines\", \"name\": \"log_loss_min\", \"stepped\": true, \"type\": \"scatter\", \"data\": [0.04991036786613363, 0.027649049605158803, 0.027649049605158803, 0.027649049605158803, 0.027649049605158803, 0.027649049605158803, 0.027649049605158803, 0.027649049605158803, 0.027649049605158803, 0.027649049605158803, 0.027649049605158803, 0.027649049605158803, 0.027649049605158803, 0.027649049605158803, 0.027649049605158803, 0.027649049605158803, 0.027649049605158803, 0.027649049605158803, 0.027649049605158803, 0.027649049605158803, 0.027649049605158803, 0.027649049605158803, 0.027649049605158803, 0.027649049605158803, 0.027649049605158803, 0.027649049605158803, 0.027649049605158803, 0.027649049605158803, 0.027649049605158803, 0.027649049605158803, 0.026363305808023398, 0.024618142867539577, 0.024618142867539577, 0.024618142867539577, 0.024618142867539577, 0.024618142867539577, 0.024618142867539577]}], \"accuracy\": [{\"categories\": [\"0\", \"1\", \"2\", \"3\", \"4\", \"5\", \"6\", \"7\", \"8\", \"9\", \"10\", \"11\", \"12\", \"13\", \"14\", \"15\", \"16\", \"17\", \"18\", \"19\", \"20\", \"21\", \"22\", \"23\", \"24\", \"25\", \"26\", \"27\", \"28\", \"29\", \"30\", \"31\", \"32\", \"33\", \"34\", \"36\", \"37\"], \"mode\": \"markers\", \"name\": \"accuracy\", \"stepped\": false, \"type\": \"scatter\", \"data\": [0.9876068376068377, 0.9894586894586895, 0.9692307692307692, 0.9853276353276353, 0.9616809116809116, 0.9880341880341881, 0.9065527065527066, 0.9804843304843304, 0.9804843304843304, 0.9804843304843304, 0.9804843304843304, 0.9804843304843304, 0.9014245014245015, 0.9853276353276353, 0.967948717948718, 0.9804843304843304, 0.9722222222222222, 0.9804843304843304, 0.922934472934473, 0.8717948717948718, 0.9438746438746438, 0.9888888888888889, 0.9854700854700855, 0.9327635327635327, 0.9373219373219374, 0.6047008547008547, 0.9880341880341881, 0.9886039886039887, 0.9886039886039887, 0.9571225071225071, 0.9891737891737892, 0.9910256410256411, 0.9857549857549858, 0.933048433048433, 0.9897435897435898, 0.9712250712250712, 0.9693732193732193]}, {\"categories\": [\"0\", \"1\", \"2\", \"3\", \"4\", \"5\", \"6\", \"7\", \"8\", \"9\", \"10\", \"11\", \"12\", \"13\", \"14\", \"15\", \"16\", \"17\", \"18\", \"19\", \"20\", \"21\", \"22\", \"23\", \"24\", \"25\", \"26\", \"27\", \"28\", \"29\", \"30\", \"31\", \"32\", \"33\", \"34\", \"36\", \"37\"], \"mode\": \"lines\", \"name\": \"accuracy_max\", \"stepped\": true, \"type\": \"scatter\", \"data\": [0.9876068376068377, 0.9894586894586895, 0.9894586894586895, 0.9894586894586895, 0.9894586894586895, 0.9894586894586895, 0.9894586894586895, 0.9894586894586895, 0.9894586894586895, 0.9894586894586895, 0.9894586894586895, 0.9894586894586895, 0.9894586894586895, 0.9894586894586895, 0.9894586894586895, 0.9894586894586895, 0.9894586894586895, 0.9894586894586895, 0.9894586894586895, 0.9894586894586895, 0.9894586894586895, 0.9894586894586895, 0.9894586894586895, 0.9894586894586895, 0.9894586894586895, 0.9894586894586895, 0.9894586894586895, 0.9894586894586895, 0.9894586894586895, 0.9894586894586895, 0.9894586894586895, 0.9910256410256411, 0.9910256410256411, 0.9910256410256411, 0.9910256410256411, 0.9910256410256411, 0.9910256410256411]}], \"f1_score_micro\": [{\"categories\": [\"0\", \"1\", \"2\", \"3\", \"4\", \"5\", \"6\", \"7\", \"8\", \"9\", \"10\", \"11\", \"12\", \"13\", \"14\", \"15\", \"16\", \"17\", \"18\", \"19\", \"20\", \"21\", \"22\", \"23\", \"24\", \"25\", \"26\", \"27\", \"28\", \"29\", \"30\", \"31\", \"32\", \"33\", \"34\", \"36\", \"37\"], \"mode\": \"markers\", \"name\": \"f1_score_micro\", \"stepped\": false, \"type\": \"scatter\", \"data\": [0.9876068376068377, 0.9894586894586895, 0.9692307692307692, 0.9853276353276353, 0.9616809116809116, 0.9880341880341881, 0.9065527065527066, 0.9804843304843304, 0.9804843304843304, 0.9804843304843304, 0.9804843304843304, 0.9804843304843304, 0.9014245014245015, 0.9853276353276353, 0.967948717948718, 0.9804843304843304, 0.9722222222222222, 0.9804843304843304, 0.922934472934473, 0.8717948717948718, 0.9438746438746438, 0.9888888888888889, 0.9854700854700855, 0.9327635327635327, 0.9373219373219374, 0.6047008547008547, 0.9880341880341881, 0.9886039886039887, 0.9886039886039887, 0.9571225071225071, 0.9891737891737892, 0.9910256410256411, 0.9857549857549858, 0.933048433048433, 0.9897435897435898, 0.9712250712250712, 0.9693732193732193]}, {\"categories\": [\"0\", \"1\", \"2\", \"3\", \"4\", \"5\", \"6\", \"7\", \"8\", \"9\", \"10\", \"11\", \"12\", \"13\", \"14\", \"15\", \"16\", \"17\", \"18\", \"19\", \"20\", \"21\", \"22\", \"23\", \"24\", \"25\", \"26\", \"27\", \"28\", \"29\", \"30\", \"31\", \"32\", \"33\", \"34\", \"36\", \"37\"], \"mode\": \"lines\", \"name\": \"f1_score_micro_max\", \"stepped\": true, \"type\": \"scatter\", \"data\": [0.9876068376068377, 0.9894586894586895, 0.9894586894586895, 0.9894586894586895, 0.9894586894586895, 0.9894586894586895, 0.9894586894586895, 0.9894586894586895, 0.9894586894586895, 0.9894586894586895, 0.9894586894586895, 0.9894586894586895, 0.9894586894586895, 0.9894586894586895, 0.9894586894586895, 0.9894586894586895, 0.9894586894586895, 0.9894586894586895, 0.9894586894586895, 0.9894586894586895, 0.9894586894586895, 0.9894586894586895, 0.9894586894586895, 0.9894586894586895, 0.9894586894586895, 0.9894586894586895, 0.9894586894586895, 0.9894586894586895, 0.9894586894586895, 0.9894586894586895, 0.9894586894586895, 0.9910256410256411, 0.9910256410256411, 0.9910256410256411, 0.9910256410256411, 0.9910256410256411, 0.9910256410256411]}]}, \"metricName\": null, \"primaryMetricName\": \"norm_macro_recall\", \"showLegend\": false}, \"run_metrics\": [{\"name\": \"experiment_status\", \"run_id\": \"AutoML_494764fa-0431-4b4b-8b1b-fc84377a7a84\", \"categories\": [0, 1, 2, 3, 4, 5, 6, 7, 8, 9, 10, 11, 12, 13, 14], \"series\": [{\"data\": [\"DatasetEvaluation\", \"FeaturesGeneration\", \"DatasetFeaturization\", \"DatasetFeaturizationCompleted\", \"DatasetBalancing\", \"DatasetCrossValidationSplit\", \"ModelSelection\", \"BestRunExplainModel\", \"ModelExplanationDataSetSetup\", \"PickSurrogateModel\", \"EngineeredFeatureExplanations\", \"EngineeredFeatureExplanations\", \"RawFeaturesExplanations\", \"RawFeaturesExplanations\", \"BestRunExplainModel\"]}]}, {\"name\": \"experiment_status_description\", \"run_id\": \"AutoML_494764fa-0431-4b4b-8b1b-fc84377a7a84\", \"categories\": [0, 1, 2, 3, 4, 5, 6, 7, 8, 9, 10, 11, 12, 13, 14], \"series\": [{\"data\": [\"Gathering dataset statistics.\", \"Generating features for the dataset.\", \"Beginning to fit featurizers and featurize the dataset.\", \"Completed fit featurizers and featurizing the dataset.\", \"Performing class balancing sweeping\", \"Generating individually featurized CV splits.\", \"Beginning model selection.\", \"Best run model explanations started\", \"Model explanations data setup completed\", \"Choosing LightGBM as the surrogate model for explanations\", \"Computation of engineered features started\", \"Computation of engineered features completed\", \"Computation of raw features started\", \"Computation of raw features completed\", \"Best run model explanations completed\"]}]}, {\"name\": \"precision_score_weighted\", \"run_id\": \"AutoML_494764fa-0431-4b4b-8b1b-fc84377a7a84\", \"categories\": [0], \"series\": [{\"data\": [0.987949048306183]}]}, {\"name\": \"precision_score_macro\", \"run_id\": \"AutoML_494764fa-0431-4b4b-8b1b-fc84377a7a84\", \"categories\": [0], \"series\": [{\"data\": [0.7013665002353463]}]}, {\"name\": \"average_precision_score_macro\", \"run_id\": \"AutoML_494764fa-0431-4b4b-8b1b-fc84377a7a84\", \"categories\": [0], \"series\": [{\"data\": [0.8371584298149042]}]}, {\"name\": \"precision_score_micro\", \"run_id\": \"AutoML_494764fa-0431-4b4b-8b1b-fc84377a7a84\", \"categories\": [0], \"series\": [{\"data\": [0.9712250712250712]}]}, {\"name\": \"weighted_accuracy\", \"run_id\": \"AutoML_494764fa-0431-4b4b-8b1b-fc84377a7a84\", \"categories\": [0], \"series\": [{\"data\": [0.9712437891454239]}]}, {\"name\": \"recall_score_weighted\", \"run_id\": \"AutoML_494764fa-0431-4b4b-8b1b-fc84377a7a84\", \"categories\": [0], \"series\": [{\"data\": [0.9712250712250712]}]}, {\"name\": \"average_precision_score_weighted\", \"run_id\": \"AutoML_494764fa-0431-4b4b-8b1b-fc84377a7a84\", \"categories\": [0], \"series\": [{\"data\": [0.9933307820238042]}]}, {\"name\": \"log_loss\", \"run_id\": \"AutoML_494764fa-0431-4b4b-8b1b-fc84377a7a84\", \"categories\": [0], \"series\": [{\"data\": [0.14636638194650872]}]}, {\"name\": \"matthews_correlation\", \"run_id\": \"AutoML_494764fa-0431-4b4b-8b1b-fc84377a7a84\", \"categories\": [0], \"series\": [{\"data\": [0.6133943149194672]}]}, {\"name\": \"f1_score_macro\", \"run_id\": \"AutoML_494764fa-0431-4b4b-8b1b-fc84377a7a84\", \"categories\": [0], \"series\": [{\"data\": [0.7758766405561796]}]}, {\"name\": \"AUC_weighted\", \"run_id\": \"AutoML_494764fa-0431-4b4b-8b1b-fc84377a7a84\", \"categories\": [0], \"series\": [{\"data\": [0.9818212191400403]}]}, {\"name\": \"accuracy\", \"run_id\": \"AutoML_494764fa-0431-4b4b-8b1b-fc84377a7a84\", \"categories\": [0], \"series\": [{\"data\": [0.9712250712250712]}]}, {\"name\": \"f1_score_weighted\", \"run_id\": \"AutoML_494764fa-0431-4b4b-8b1b-fc84377a7a84\", \"categories\": [0], \"series\": [{\"data\": [0.9771384768986161]}]}, {\"name\": \"f1_score_micro\", \"run_id\": \"AutoML_494764fa-0431-4b4b-8b1b-fc84377a7a84\", \"categories\": [0], \"series\": [{\"data\": [0.9712250712250712]}]}, {\"name\": \"recall_score_macro\", \"run_id\": \"AutoML_494764fa-0431-4b4b-8b1b-fc84377a7a84\", \"categories\": [0], \"series\": [{\"data\": [0.9699354185272564]}]}, {\"name\": \"balanced_accuracy\", \"run_id\": \"AutoML_494764fa-0431-4b4b-8b1b-fc84377a7a84\", \"categories\": [0], \"series\": [{\"data\": [0.9699354185272564]}]}, {\"name\": \"norm_macro_recall\", \"run_id\": \"AutoML_494764fa-0431-4b4b-8b1b-fc84377a7a84\", \"categories\": [0], \"series\": [{\"data\": [0.9398708370545128]}]}, {\"name\": \"AUC_micro\", \"run_id\": \"AutoML_494764fa-0431-4b4b-8b1b-fc84377a7a84\", \"categories\": [0], \"series\": [{\"data\": [0.9961500718338326]}]}, {\"name\": \"recall_score_micro\", \"run_id\": \"AutoML_494764fa-0431-4b4b-8b1b-fc84377a7a84\", \"categories\": [0], \"series\": [{\"data\": [0.9712250712250712]}]}, {\"name\": \"AUC_macro\", \"run_id\": \"AutoML_494764fa-0431-4b4b-8b1b-fc84377a7a84\", \"categories\": [0], \"series\": [{\"data\": [0.9818212191400404]}]}, {\"name\": \"average_precision_score_micro\", \"run_id\": \"AutoML_494764fa-0431-4b4b-8b1b-fc84377a7a84\", \"categories\": [0], \"series\": [{\"data\": [0.9961283538462687]}]}], \"run_logs\": \"\\nRun is completed.\", \"graph\": {}, \"widget_settings\": {\"childWidgetDisplay\": \"popup\", \"send_telemetry\": false, \"log_level\": \"INFO\", \"sdk_version\": \"1.24.0\"}, \"loading\": false}"
     },
     "metadata": {},
     "output_type": "display_data"
    },
    {
     "data": {
      "text/plain": [
       "{'runId': 'AutoML_494764fa-0431-4b4b-8b1b-fc84377a7a84',\n",
       " 'target': 'my-cmp',\n",
       " 'status': 'Completed',\n",
       " 'startTimeUtc': '2021-03-26T15:25:13.582401Z',\n",
       " 'endTimeUtc': '2021-03-26T15:44:12.256199Z',\n",
       " 'properties': {'num_iterations': '1000',\n",
       "  'training_type': 'TrainFull',\n",
       "  'acquisition_function': 'EI',\n",
       "  'primary_metric': 'norm_macro_recall',\n",
       "  'train_split': '0',\n",
       "  'acquisition_parameter': '0',\n",
       "  'num_cross_validation': None,\n",
       "  'target': 'my-cmp',\n",
       "  'AMLSettingsJsonString': '{\"path\":null,\"name\":\"camels-clf\",\"subscription_id\":\"0c66ad45-500d-48af-80d3-0039ebf1975e\",\"resource_group\":\"automl-rgp\",\"workspace_name\":\"my-wsp\",\"region\":\"eastus\",\"compute_target\":\"my-cmp\",\"spark_service\":null,\"azure_service\":\"remote\",\"many_models\":false,\"pipeline_fetch_max_batch_size\":1,\"enable_batch_run\":false,\"iterations\":1000,\"primary_metric\":\"norm_macro_recall\",\"task_type\":\"classification\",\"data_script\":null,\"validation_size\":0.0,\"n_cross_validations\":null,\"y_min\":null,\"y_max\":null,\"num_classes\":null,\"featurization\":\"auto\",\"_ignore_package_version_incompatibilities\":false,\"is_timeseries\":false,\"max_cores_per_iteration\":1,\"max_concurrent_iterations\":4,\"iteration_timeout_minutes\":null,\"mem_in_mb\":null,\"enforce_time_on_windows\":false,\"experiment_timeout_minutes\":20,\"experiment_exit_score\":null,\"whitelist_models\":null,\"blacklist_algos\":[\"TensorFlowLinearClassifier\",\"TensorFlowDNN\"],\"supported_models\":[\"XGBoostClassifier\",\"AveragedPerceptronClassifier\",\"MultinomialNaiveBayes\",\"TensorFlowDNN\",\"BernoulliNaiveBayes\",\"RandomForest\",\"ExtremeRandomTrees\",\"DecisionTree\",\"LightGBM\",\"KNN\",\"LinearSVM\",\"GradientBoosting\",\"LogisticRegression\",\"TensorFlowLinearClassifier\",\"SGD\",\"SVM\"],\"private_models\":[],\"auto_blacklist\":true,\"blacklist_samples_reached\":false,\"exclude_nan_labels\":true,\"verbosity\":20,\"_debug_log\":\"azureml_automl.log\",\"show_warnings\":false,\"model_explainability\":true,\"service_url\":null,\"sdk_url\":null,\"sdk_packages\":null,\"enable_onnx_compatible_models\":false,\"enable_split_onnx_featurizer_estimator_models\":false,\"vm_type\":\"STANDARD_DS3_V2\",\"telemetry_verbosity\":20,\"send_telemetry\":true,\"enable_dnn\":false,\"scenario\":\"SDK-1.13.0\",\"environment_label\":null,\"save_mlflow\":false,\"force_text_dnn\":false,\"enable_feature_sweeping\":true,\"enable_early_stopping\":true,\"early_stopping_n_iters\":10,\"metrics\":null,\"enable_metric_confidence\":false,\"enable_ensembling\":true,\"enable_stack_ensembling\":true,\"ensemble_iterations\":15,\"enable_tf\":false,\"enable_subsampling\":null,\"subsample_seed\":null,\"enable_nimbusml\":false,\"enable_streaming\":false,\"force_streaming\":false,\"track_child_runs\":true,\"allowed_private_models\":[],\"label_column_name\":\"Target\",\"weight_column_name\":null,\"cv_split_column_names\":null,\"enable_local_managed\":false,\"_local_managed_run_id\":null,\"cost_mode\":1,\"lag_length\":0,\"metric_operation\":\"maximize\",\"preprocess\":true}',\n",
       "  'DataPrepJsonString': '{\\\\\"training_data\\\\\": \\\\\"{\\\\\\\\\\\\\"blocks\\\\\\\\\\\\\": [{\\\\\\\\\\\\\"id\\\\\\\\\\\\\": \\\\\\\\\\\\\"951e721f-894f-42b5-9817-3fa7ff1cc72d\\\\\\\\\\\\\", \\\\\\\\\\\\\"type\\\\\\\\\\\\\": \\\\\\\\\\\\\"Microsoft.DPrep.GetDatastoreFilesBlock\\\\\\\\\\\\\", \\\\\\\\\\\\\"arguments\\\\\\\\\\\\\": {\\\\\\\\\\\\\"datastores\\\\\\\\\\\\\": [{\\\\\\\\\\\\\"datastoreName\\\\\\\\\\\\\": \\\\\\\\\\\\\"workspaceblobstore\\\\\\\\\\\\\", \\\\\\\\\\\\\"path\\\\\\\\\\\\\": \\\\\\\\\\\\\"UI/03-26-2021_031825_UTC/camels11_after2010Q3.csv\\\\\\\\\\\\\", \\\\\\\\\\\\\"resourceGroup\\\\\\\\\\\\\": \\\\\\\\\\\\\"automl-rgp\\\\\\\\\\\\\", \\\\\\\\\\\\\"subscription\\\\\\\\\\\\\": \\\\\\\\\\\\\"0c66ad45-500d-48af-80d3-0039ebf1975e\\\\\\\\\\\\\", \\\\\\\\\\\\\"workspaceName\\\\\\\\\\\\\": \\\\\\\\\\\\\"my-wsp\\\\\\\\\\\\\"}]}, \\\\\\\\\\\\\"localData\\\\\\\\\\\\\": {}, \\\\\\\\\\\\\"isEnabled\\\\\\\\\\\\\": true, \\\\\\\\\\\\\"name\\\\\\\\\\\\\": null, \\\\\\\\\\\\\"annotation\\\\\\\\\\\\\": null}, {\\\\\\\\\\\\\"id\\\\\\\\\\\\\": \\\\\\\\\\\\\"f2e4e3f8-3ab4-439f-89d1-2afe02a5b3f4\\\\\\\\\\\\\", \\\\\\\\\\\\\"type\\\\\\\\\\\\\": \\\\\\\\\\\\\"Microsoft.DPrep.ParseDelimitedBlock\\\\\\\\\\\\\", \\\\\\\\\\\\\"arguments\\\\\\\\\\\\\": {\\\\\\\\\\\\\"columnHeadersMode\\\\\\\\\\\\\": 1, \\\\\\\\\\\\\"fileEncoding\\\\\\\\\\\\\": 0, \\\\\\\\\\\\\"handleQuotedLineBreaks\\\\\\\\\\\\\": false, \\\\\\\\\\\\\"preview\\\\\\\\\\\\\": false, \\\\\\\\\\\\\"separator\\\\\\\\\\\\\": \\\\\\\\\\\\\",\\\\\\\\\\\\\", \\\\\\\\\\\\\"skipRows\\\\\\\\\\\\\": 0, \\\\\\\\\\\\\"skipRowsMode\\\\\\\\\\\\\": 0}, \\\\\\\\\\\\\"localData\\\\\\\\\\\\\": {}, \\\\\\\\\\\\\"isEnabled\\\\\\\\\\\\\": true, \\\\\\\\\\\\\"name\\\\\\\\\\\\\": null, \\\\\\\\\\\\\"annotation\\\\\\\\\\\\\": null}, {\\\\\\\\\\\\\"id\\\\\\\\\\\\\": \\\\\\\\\\\\\"c89269b2-88c4-4e8f-a24c-7e559d2e6bad\\\\\\\\\\\\\", \\\\\\\\\\\\\"type\\\\\\\\\\\\\": \\\\\\\\\\\\\"Microsoft.DPrep.DropColumnsBlock\\\\\\\\\\\\\", \\\\\\\\\\\\\"arguments\\\\\\\\\\\\\": {\\\\\\\\\\\\\"columns\\\\\\\\\\\\\": {\\\\\\\\\\\\\"type\\\\\\\\\\\\\": 0, \\\\\\\\\\\\\"details\\\\\\\\\\\\\": {\\\\\\\\\\\\\"selectedColumns\\\\\\\\\\\\\": [\\\\\\\\\\\\\"Path\\\\\\\\\\\\\"]}}}, \\\\\\\\\\\\\"localData\\\\\\\\\\\\\": {}, \\\\\\\\\\\\\"isEnabled\\\\\\\\\\\\\": true, \\\\\\\\\\\\\"name\\\\\\\\\\\\\": null, \\\\\\\\\\\\\"annotation\\\\\\\\\\\\\": null}, {\\\\\\\\\\\\\"id\\\\\\\\\\\\\": \\\\\\\\\\\\\"4025870c-af7d-40d4-891e-b8fa72ca15d9\\\\\\\\\\\\\", \\\\\\\\\\\\\"type\\\\\\\\\\\\\": \\\\\\\\\\\\\"Microsoft.DPrep.SetColumnTypesBlock\\\\\\\\\\\\\", \\\\\\\\\\\\\"arguments\\\\\\\\\\\\\": {\\\\\\\\\\\\\"columnConversion\\\\\\\\\\\\\": [{\\\\\\\\\\\\\"column\\\\\\\\\\\\\": {\\\\\\\\\\\\\"type\\\\\\\\\\\\\": 2, \\\\\\\\\\\\\"details\\\\\\\\\\\\\": {\\\\\\\\\\\\\"selectedColumn\\\\\\\\\\\\\": \\\\\\\\\\\\\"Path\\\\\\\\\\\\\"}}, \\\\\\\\\\\\\"typeProperty\\\\\\\\\\\\\": 0}, {\\\\\\\\\\\\\"column\\\\\\\\\\\\\": {\\\\\\\\\\\\\"type\\\\\\\\\\\\\": 2, \\\\\\\\\\\\\"details\\\\\\\\\\\\\": {\\\\\\\\\\\\\"selectedColumn\\\\\\\\\\\\\": \\\\\\\\\\\\\"Target\\\\\\\\\\\\\"}}, \\\\\\\\\\\\\"typeProperty\\\\\\\\\\\\\": 2}, {\\\\\\\\\\\\\"column\\\\\\\\\\\\\": {\\\\\\\\\\\\\"type\\\\\\\\\\\\\": 2, \\\\\\\\\\\\\"details\\\\\\\\\\\\\": {\\\\\\\\\\\\\"selectedColumn\\\\\\\\\\\\\": \\\\\\\\\\\\\"EQTA\\\\\\\\\\\\\"}}, \\\\\\\\\\\\\"typeProperty\\\\\\\\\\\\\": 3}, {\\\\\\\\\\\\\"column\\\\\\\\\\\\\": {\\\\\\\\\\\\\"type\\\\\\\\\\\\\": 2, \\\\\\\\\\\\\"details\\\\\\\\\\\\\": {\\\\\\\\\\\\\"selectedColumn\\\\\\\\\\\\\": \\\\\\\\\\\\\"EQTL\\\\\\\\\\\\\"}}, \\\\\\\\\\\\\"typeProperty\\\\\\\\\\\\\": 3}, {\\\\\\\\\\\\\"column\\\\\\\\\\\\\": {\\\\\\\\\\\\\"type\\\\\\\\\\\\\": 2, \\\\\\\\\\\\\"details\\\\\\\\\\\\\": {\\\\\\\\\\\\\"selectedColumn\\\\\\\\\\\\\": \\\\\\\\\\\\\"LLRTA\\\\\\\\\\\\\"}}, \\\\\\\\\\\\\"typeProperty\\\\\\\\\\\\\": 3}, {\\\\\\\\\\\\\"column\\\\\\\\\\\\\": {\\\\\\\\\\\\\"type\\\\\\\\\\\\\": 2, \\\\\\\\\\\\\"details\\\\\\\\\\\\\": {\\\\\\\\\\\\\"selectedColumn\\\\\\\\\\\\\": \\\\\\\\\\\\\"LLRGL\\\\\\\\\\\\\"}}, \\\\\\\\\\\\\"typeProperty\\\\\\\\\\\\\": 3}, {\\\\\\\\\\\\\"column\\\\\\\\\\\\\": {\\\\\\\\\\\\\"type\\\\\\\\\\\\\": 2, \\\\\\\\\\\\\"details\\\\\\\\\\\\\": {\\\\\\\\\\\\\"selectedColumn\\\\\\\\\\\\\": \\\\\\\\\\\\\"OEXTA\\\\\\\\\\\\\"}}, \\\\\\\\\\\\\"typeProperty\\\\\\\\\\\\\": 3}, {\\\\\\\\\\\\\"column\\\\\\\\\\\\\": {\\\\\\\\\\\\\"type\\\\\\\\\\\\\": 2, \\\\\\\\\\\\\"details\\\\\\\\\\\\\": {\\\\\\\\\\\\\"selectedColumn\\\\\\\\\\\\\": \\\\\\\\\\\\\"INCEMP\\\\\\\\\\\\\"}}, \\\\\\\\\\\\\"typeProperty\\\\\\\\\\\\\": 3}, {\\\\\\\\\\\\\"column\\\\\\\\\\\\\": {\\\\\\\\\\\\\"type\\\\\\\\\\\\\": 2, \\\\\\\\\\\\\"details\\\\\\\\\\\\\": {\\\\\\\\\\\\\"selectedColumn\\\\\\\\\\\\\": \\\\\\\\\\\\\"ROA\\\\\\\\\\\\\"}}, \\\\\\\\\\\\\"typeProperty\\\\\\\\\\\\\": 3}, {\\\\\\\\\\\\\"column\\\\\\\\\\\\\": {\\\\\\\\\\\\\"type\\\\\\\\\\\\\": 2, \\\\\\\\\\\\\"details\\\\\\\\\\\\\": {\\\\\\\\\\\\\"selectedColumn\\\\\\\\\\\\\": \\\\\\\\\\\\\"ROE\\\\\\\\\\\\\"}}, \\\\\\\\\\\\\"typeProperty\\\\\\\\\\\\\": 3}, {\\\\\\\\\\\\\"column\\\\\\\\\\\\\": {\\\\\\\\\\\\\"type\\\\\\\\\\\\\": 2, \\\\\\\\\\\\\"details\\\\\\\\\\\\\": {\\\\\\\\\\\\\"selectedColumn\\\\\\\\\\\\\": \\\\\\\\\\\\\"TDTL\\\\\\\\\\\\\"}}, \\\\\\\\\\\\\"typeProperty\\\\\\\\\\\\\": 3}, {\\\\\\\\\\\\\"column\\\\\\\\\\\\\": {\\\\\\\\\\\\\"type\\\\\\\\\\\\\": 2, \\\\\\\\\\\\\"details\\\\\\\\\\\\\": {\\\\\\\\\\\\\"selectedColumn\\\\\\\\\\\\\": \\\\\\\\\\\\\"TDTA\\\\\\\\\\\\\"}}, \\\\\\\\\\\\\"typeProperty\\\\\\\\\\\\\": 3}, {\\\\\\\\\\\\\"column\\\\\\\\\\\\\": {\\\\\\\\\\\\\"type\\\\\\\\\\\\\": 2, \\\\\\\\\\\\\"details\\\\\\\\\\\\\": {\\\\\\\\\\\\\"selectedColumn\\\\\\\\\\\\\": \\\\\\\\\\\\\"TATA\\\\\\\\\\\\\"}}, \\\\\\\\\\\\\"typeProperty\\\\\\\\\\\\\": 3}]}, \\\\\\\\\\\\\"localData\\\\\\\\\\\\\": {}, \\\\\\\\\\\\\"isEnabled\\\\\\\\\\\\\": true, \\\\\\\\\\\\\"name\\\\\\\\\\\\\": null, \\\\\\\\\\\\\"annotation\\\\\\\\\\\\\": null}], \\\\\\\\\\\\\"inspectors\\\\\\\\\\\\\": [], \\\\\\\\\\\\\"meta\\\\\\\\\\\\\": {\\\\\\\\\\\\\"savedDatasetId\\\\\\\\\\\\\": \\\\\\\\\\\\\"15ac78ea-2d39-4a4d-b7c4-17304a14f596\\\\\\\\\\\\\", \\\\\\\\\\\\\"datasetType\\\\\\\\\\\\\": \\\\\\\\\\\\\"tabular\\\\\\\\\\\\\", \\\\\\\\\\\\\"subscriptionId\\\\\\\\\\\\\": \\\\\\\\\\\\\"0c66ad45-500d-48af-80d3-0039ebf1975e\\\\\\\\\\\\\", \\\\\\\\\\\\\"workspaceId\\\\\\\\\\\\\": \\\\\\\\\\\\\"2cfd17ca-d502-43c8-b97f-8c46f3f3e63a\\\\\\\\\\\\\", \\\\\\\\\\\\\"workspaceLocation\\\\\\\\\\\\\": \\\\\\\\\\\\\"eastus\\\\\\\\\\\\\"}}\\\\\", \\\\\"activities\\\\\": 0}',\n",
       "  'EnableSubsampling': None,\n",
       "  'runTemplate': 'AutoML',\n",
       "  'azureml.runsource': 'automl',\n",
       "  'display_task_type': 'classification',\n",
       "  'dependencies_versions': '{\"azureml-widgets\": \"1.24.0\", \"azureml-train\": \"1.24.0\", \"azureml-train-restclients-hyperdrive\": \"1.24.0\", \"azureml-train-core\": \"1.24.0\", \"azureml-train-automl\": \"1.24.0\", \"azureml-train-automl-runtime\": \"1.24.0\", \"azureml-train-automl-client\": \"1.24.0\", \"azureml-tensorboard\": \"1.24.0\", \"azureml-telemetry\": \"1.24.0\", \"azureml-sdk\": \"1.24.0\", \"azureml-samples\": \"0+unknown\", \"azureml-pipeline\": \"1.24.0\", \"azureml-pipeline-steps\": \"1.24.0\", \"azureml-pipeline-core\": \"1.24.0\", \"azureml-opendatasets\": \"1.24.0\", \"azureml-model-management-sdk\": \"1.0.1b6.post1\", \"azureml-mlflow\": \"1.24.0\", \"azureml-interpret\": \"1.24.0\", \"azureml-explain-model\": \"1.24.0\", \"azureml-defaults\": \"1.24.0\", \"azureml-dataset-runtime\": \"1.24.0\", \"azureml-dataprep\": \"2.11.2\", \"azureml-dataprep-rslex\": \"1.9.1\", \"azureml-dataprep-native\": \"30.0.0\", \"azureml-datadrift\": \"1.24.0\", \"azureml-core\": \"1.24.0.post2\", \"azureml-contrib-services\": \"1.24.0\", \"azureml-contrib-server\": \"1.24.0\", \"azureml-contrib-reinforcementlearning\": \"1.24.0\", \"azureml-contrib-pipeline-steps\": \"1.24.0\", \"azureml-contrib-notebook\": \"1.24.0\", \"azureml-contrib-gbdt\": \"1.24.0\", \"azureml-contrib-fairness\": \"1.24.0\", \"azureml-contrib-dataset\": \"1.24.0\", \"azureml-cli-common\": \"1.24.0\", \"azureml-automl-runtime\": \"1.24.0\", \"azureml-automl-dnn-nlp\": \"1.24.0\", \"azureml-automl-core\": \"1.24.0\", \"azureml-accel-models\": \"1.24.0\"}',\n",
       "  '_aml_system_scenario_identification': 'Remote.Parent',\n",
       "  'ClientType': 'SDK',\n",
       "  'environment_cpu_name': 'AzureML-AutoML',\n",
       "  'environment_cpu_label': 'prod',\n",
       "  'environment_gpu_name': 'AzureML-AutoML-GPU',\n",
       "  'environment_gpu_label': 'prod',\n",
       "  'root_attribution': 'automl',\n",
       "  'attribution': 'AutoML',\n",
       "  'Orchestrator': 'AutoML',\n",
       "  'CancelUri': 'https://eastus.experiments.azureml.net/jasmine/v1.0/subscriptions/0c66ad45-500d-48af-80d3-0039ebf1975e/resourceGroups/automl-rgp/providers/Microsoft.MachineLearningServices/workspaces/my-wsp/experimentids/6a496f3d-bdee-4a1d-94c8-296bb940f8b5/cancel/AutoML_494764fa-0431-4b4b-8b1b-fc84377a7a84',\n",
       "  'ClientSdkVersion': '1.24.0',\n",
       "  'snapshotId': '00000000-0000-0000-0000-000000000000',\n",
       "  'SetupRunId': 'AutoML_494764fa-0431-4b4b-8b1b-fc84377a7a84_setup',\n",
       "  'SetupRunContainerId': 'dcid.AutoML_494764fa-0431-4b4b-8b1b-fc84377a7a84_setup',\n",
       "  'FeaturizationRunJsonPath': 'featurizer_container.json',\n",
       "  'FeaturizationRunId': 'AutoML_494764fa-0431-4b4b-8b1b-fc84377a7a84_featurize',\n",
       "  'ProblemInfoJsonString': '{\"dataset_num_categorical\": 0, \"is_sparse\": false, \"subsampling\": false, \"dataset_classes\": 2, \"dataset_features\": 11, \"dataset_samples\": 7020, \"single_frequency_class_detected\": false}',\n",
       "  'ModelExplainRunId': 'AutoML_494764fa-0431-4b4b-8b1b-fc84377a7a84_ModelExplain'},\n",
       " 'inputDatasets': [{'dataset': {'id': '15ac78ea-2d39-4a4d-b7c4-17304a14f596'}, 'consumptionDetails': {'type': 'RunInput', 'inputName': 'training_data', 'mechanism': 'Direct'}}],\n",
       " 'outputDatasets': [],\n",
       " 'logFiles': {},\n",
       " 'submittedBy': 'Dmitry Mikhaylov'}"
      ]
     },
     "execution_count": 6,
     "metadata": {},
     "output_type": "execute_result"
    }
   ],
   "source": [
    "remote_run = exp.submit(config=automl_config, show_output=False) \n",
    "RunDetails(remote_run).show() \n",
    "remote_run.wait_for_completion(show_output=False)"
   ]
  },
  {
   "cell_type": "code",
   "execution_count": 7,
   "metadata": {
    "gather": {
     "logged": 1616774510263
    }
   },
   "outputs": [
    {
     "name": "stdout",
     "output_type": "stream",
     "text": [
      "Run Status: Completed\n"
     ]
    }
   ],
   "source": [
    "print(\"Run Status:\", remote_run.get_status())"
   ]
  },
  {
   "cell_type": "markdown",
   "metadata": {},
   "source": [
    "## Best Model\n",
    "\n",
    "Get the best model from the automl experiments and display all the properties of the model.\n",
    "\n"
   ]
  },
  {
   "cell_type": "code",
   "execution_count": 8,
   "metadata": {
    "gather": {
     "logged": 1616774512372
    },
    "jupyter": {
     "outputs_hidden": false,
     "source_hidden": false
    },
    "nteract": {
     "transient": {
      "deleting": false
     }
    }
   },
   "outputs": [
    {
     "name": "stdout",
     "output_type": "stream",
     "text": [
      "{'experiment_status': ['DatasetEvaluation', 'FeaturesGeneration', 'DatasetFeaturization', 'DatasetFeaturizationCompleted', 'DatasetBalancing', 'DatasetCrossValidationSplit', 'ModelSelection', 'BestRunExplainModel', 'ModelExplanationDataSetSetup', 'PickSurrogateModel', 'EngineeredFeatureExplanations', 'EngineeredFeatureExplanations', 'RawFeaturesExplanations', 'RawFeaturesExplanations', 'BestRunExplainModel'], 'experiment_status_description': ['Gathering dataset statistics.', 'Generating features for the dataset.', 'Beginning to fit featurizers and featurize the dataset.', 'Completed fit featurizers and featurizing the dataset.', 'Performing class balancing sweeping', 'Generating individually featurized CV splits.', 'Beginning model selection.', 'Best run model explanations started', 'Model explanations data setup completed', 'Choosing LightGBM as the surrogate model for explanations', 'Computation of engineered features started', 'Computation of engineered features completed', 'Computation of raw features started', 'Computation of raw features completed', 'Best run model explanations completed'], 'precision_score_weighted': 0.987949048306183, 'precision_score_macro': 0.7013665002353463, 'average_precision_score_macro': 0.8371584298149042, 'precision_score_micro': 0.9712250712250712, 'weighted_accuracy': 0.9712437891454239, 'recall_score_weighted': 0.9712250712250712, 'average_precision_score_weighted': 0.9933307820238042, 'log_loss': 0.14636638194650872, 'matthews_correlation': 0.6133943149194672, 'f1_score_macro': 0.7758766405561796, 'AUC_weighted': 0.9818212191400403, 'accuracy': 0.9712250712250712, 'f1_score_weighted': 0.9771384768986161, 'f1_score_micro': 0.9712250712250712, 'recall_score_macro': 0.9699354185272564, 'balanced_accuracy': 0.9699354185272564, 'norm_macro_recall': 0.9398708370545128, 'AUC_micro': 0.9961500718338326, 'recall_score_micro': 0.9712250712250712, 'AUC_macro': 0.9818212191400404, 'average_precision_score_micro': 0.9961283538462687}\n"
     ]
    }
   ],
   "source": [
    "print(remote_run.get_metrics())"
   ]
  },
  {
   "cell_type": "markdown",
   "metadata": {
    "nteract": {
     "transient": {
      "deleting": false
     }
    }
   },
   "source": [
    "View dependencies for the best run model:"
   ]
  },
  {
   "cell_type": "code",
   "execution_count": 9,
   "metadata": {
    "gather": {
     "logged": 1616774530185
    },
    "jupyter": {
     "outputs_hidden": false,
     "source_hidden": false
    },
    "nteract": {
     "transient": {
      "deleting": false
     }
    }
   },
   "outputs": [
    {
     "data": {
      "text/plain": [
       "{'azureml-widgets': '1.24.0',\n",
       " 'azureml-train': '1.24.0',\n",
       " 'azureml-train-restclients-hyperdrive': '1.24.0',\n",
       " 'azureml-train-core': '1.24.0',\n",
       " 'azureml-train-automl': '1.24.0',\n",
       " 'azureml-train-automl-runtime': '1.24.0',\n",
       " 'azureml-train-automl-client': '1.24.0',\n",
       " 'azureml-tensorboard': '1.24.0',\n",
       " 'azureml-telemetry': '1.24.0',\n",
       " 'azureml-sdk': '1.24.0',\n",
       " 'azureml-samples': '0+unknown',\n",
       " 'azureml-pipeline': '1.24.0',\n",
       " 'azureml-pipeline-steps': '1.24.0',\n",
       " 'azureml-pipeline-core': '1.24.0',\n",
       " 'azureml-opendatasets': '1.24.0',\n",
       " 'azureml-model-management-sdk': '1.0.1b6.post1',\n",
       " 'azureml-mlflow': '1.24.0',\n",
       " 'azureml-interpret': '1.24.0',\n",
       " 'azureml-explain-model': '1.24.0',\n",
       " 'azureml-defaults': '1.24.0',\n",
       " 'azureml-dataset-runtime': '1.24.0',\n",
       " 'azureml-dataprep': '2.11.2',\n",
       " 'azureml-dataprep-rslex': '1.9.1',\n",
       " 'azureml-dataprep-native': '30.0.0',\n",
       " 'azureml-datadrift': '1.24.0',\n",
       " 'azureml-core': '1.24.0.post2',\n",
       " 'azureml-contrib-services': '1.24.0',\n",
       " 'azureml-contrib-server': '1.24.0',\n",
       " 'azureml-contrib-reinforcementlearning': '1.24.0',\n",
       " 'azureml-contrib-pipeline-steps': '1.24.0',\n",
       " 'azureml-contrib-notebook': '1.24.0',\n",
       " 'azureml-contrib-gbdt': '1.24.0',\n",
       " 'azureml-contrib-fairness': '1.24.0',\n",
       " 'azureml-contrib-dataset': '1.24.0',\n",
       " 'azureml-cli-common': '1.24.0',\n",
       " 'azureml-automl-runtime': '1.24.0',\n",
       " 'azureml-automl-dnn-nlp': '1.24.0',\n",
       " 'azureml-automl-core': '1.24.0',\n",
       " 'azureml-accel-models': '1.24.0'}"
      ]
     },
     "execution_count": 9,
     "metadata": {},
     "output_type": "execute_result"
    }
   ],
   "source": [
    "remote_run.get_run_sdk_dependencies()"
   ]
  },
  {
   "cell_type": "code",
   "execution_count": 10,
   "metadata": {
    "gather": {
     "logged": 1616774567468
    },
    "jupyter": {
     "outputs_hidden": false,
     "source_hidden": false
    },
    "nteract": {
     "transient": {
      "deleting": false
     }
    }
   },
   "outputs": [],
   "source": [
    "best_run, fitted_model = remote_run.get_output()"
   ]
  },
  {
   "cell_type": "markdown",
   "metadata": {},
   "source": [
    "The line below should give the preprocessor(s) and algorithm (estimator) used"
   ]
  },
  {
   "cell_type": "code",
   "execution_count": 11,
   "metadata": {
    "gather": {
     "logged": 1616774567607
    },
    "jupyter": {
     "outputs_hidden": false,
     "source_hidden": false
    },
    "nteract": {
     "transient": {
      "deleting": false
     }
    }
   },
   "outputs": [
    {
     "data": {
      "text/plain": [
       "('prefittedsoftvotingclassifier',\n",
       " PreFittedSoftVotingClassifier(classification_labels=None,\n",
       "                               estimators=[('4',\n",
       "                                            Pipeline(memory=None,\n",
       "                                                     steps=[('standardscalerwrapper',\n",
       "                                                             <azureml.automl.runtime.shared.model_wrappers.StandardScalerWrapper object at 0x7f9facf3a9b0>),\n",
       "                                                            ('randomforestclassifier',\n",
       "                                                             RandomForestClassifier(bootstrap=False,\n",
       "                                                                                    ccp_alpha=0.0,\n",
       "                                                                                    class_weight='balanced',\n",
       "                                                                                    criterion='entropy',\n",
       "                                                                                    max_dept...\n",
       "                                                                                n_jobs=1,\n",
       "                                                                                num_leaves=31,\n",
       "                                                                                objective=None,\n",
       "                                                                                random_state=None,\n",
       "                                                                                reg_alpha=0.0,\n",
       "                                                                                reg_lambda=0.0,\n",
       "                                                                                silent=True,\n",
       "                                                                                subsample=1.0,\n",
       "                                                                                subsample_for_bin=200000,\n",
       "                                                                                subsample_freq=0,\n",
       "                                                                                verbose=-10))],\n",
       "                                                     verbose=False))],\n",
       "                               flatten_transform=None,\n",
       "                               weights=[0.14285714285714285, 0.14285714285714285,\n",
       "                                        0.14285714285714285, 0.14285714285714285,\n",
       "                                        0.14285714285714285, 0.14285714285714285,\n",
       "                                        0.14285714285714285]))"
      ]
     },
     "execution_count": 11,
     "metadata": {},
     "output_type": "execute_result"
    }
   ],
   "source": [
    "estimator = fitted_model.steps[-1]\n",
    "estimator"
   ]
  },
  {
   "cell_type": "markdown",
   "metadata": {},
   "source": [
    "Specifically, the voting model consists of the following 9 components:"
   ]
  },
  {
   "cell_type": "code",
   "execution_count": 12,
   "metadata": {
    "gather": {
     "logged": 1616774754641
    }
   },
   "outputs": [
    {
     "data": {
      "text/plain": [
       "'[4, 14, 29, 2, 16, 6, 0]'"
      ]
     },
     "execution_count": 12,
     "metadata": {},
     "output_type": "execute_result"
    }
   ],
   "source": [
    "best_run.get_tags()['ensembled_iterations']"
   ]
  },
  {
   "cell_type": "code",
   "execution_count": 13,
   "metadata": {
    "gather": {
     "logged": 1616774755967
    }
   },
   "outputs": [
    {
     "data": {
      "text/plain": [
       "\"['RandomForest', 'RandomForest', 'RandomForest', 'RandomForest', 'RandomForest', 'ExtremeRandomTrees', 'LightGBM']\""
      ]
     },
     "execution_count": 13,
     "metadata": {},
     "output_type": "execute_result"
    }
   ],
   "source": [
    "best_run.get_tags()['ensembled_algorithms']"
   ]
  },
  {
   "cell_type": "code",
   "execution_count": 14,
   "metadata": {
    "gather": {
     "logged": 1616774761169
    }
   },
   "outputs": [
    {
     "data": {
      "text/plain": [
       "'[0.14285714285714285, 0.14285714285714285, 0.14285714285714285, 0.14285714285714285, 0.14285714285714285, 0.14285714285714285, 0.14285714285714285]'"
      ]
     },
     "execution_count": 14,
     "metadata": {},
     "output_type": "execute_result"
    }
   ],
   "source": [
    "best_run.get_tags()['ensemble_weights']"
   ]
  },
  {
   "cell_type": "markdown",
   "metadata": {
    "nteract": {
     "transient": {
      "deleting": false
     }
    }
   },
   "source": [
    "Save the best model"
   ]
  },
  {
   "cell_type": "code",
   "execution_count": 44,
   "metadata": {
    "gather": {
     "logged": 1616789926084
    },
    "jupyter": {
     "outputs_hidden": false,
     "source_hidden": false
    },
    "nteract": {
     "transient": {
      "deleting": false
     }
    }
   },
   "outputs": [
    {
     "data": {
      "text/plain": [
       "['fitted_automl_model.joblib']"
      ]
     },
     "execution_count": 44,
     "metadata": {},
     "output_type": "execute_result"
    }
   ],
   "source": [
    "joblib.dump(value=fitted_model, filename=\"fitted_automl_model.joblib\")"
   ]
  },
  {
   "cell_type": "markdown",
   "metadata": {
    "nteract": {
     "transient": {
      "deleting": false
     }
    }
   },
   "source": [
    "### `VotingEnsemble` model validation\n",
    "Load the fitted model for testing"
   ]
  },
  {
   "cell_type": "code",
   "execution_count": 45,
   "metadata": {
    "gather": {
     "logged": 1616789930163
    },
    "jupyter": {
     "outputs_hidden": false,
     "source_hidden": false
    },
    "nteract": {
     "transient": {
      "deleting": false
     }
    }
   },
   "outputs": [],
   "source": [
    "best_model = joblib.load('fitted_automl_model.joblib')"
   ]
  },
  {
   "cell_type": "markdown",
   "metadata": {
    "nteract": {
     "transient": {
      "deleting": false
     }
    }
   },
   "source": [
    "Fetch sample dataset, isolate Target in vector 'y'"
   ]
  },
  {
   "cell_type": "code",
   "execution_count": 57,
   "metadata": {
    "gather": {
     "logged": 1616789984411
    },
    "jupyter": {
     "outputs_hidden": false,
     "source_hidden": false
    },
    "nteract": {
     "transient": {
      "deleting": false
     }
    }
   },
   "outputs": [
    {
     "data": {
      "text/html": [
       "<div>\n",
       "<style scoped>\n",
       "    .dataframe tbody tr th:only-of-type {\n",
       "        vertical-align: middle;\n",
       "    }\n",
       "\n",
       "    .dataframe tbody tr th {\n",
       "        vertical-align: top;\n",
       "    }\n",
       "\n",
       "    .dataframe thead th {\n",
       "        text-align: right;\n",
       "    }\n",
       "</style>\n",
       "<table border=\"1\" class=\"dataframe\">\n",
       "  <thead>\n",
       "    <tr style=\"text-align: right;\">\n",
       "      <th></th>\n",
       "      <th>EQTA</th>\n",
       "      <th>EQTL</th>\n",
       "      <th>LLRTA</th>\n",
       "      <th>LLRGL</th>\n",
       "      <th>OEXTA</th>\n",
       "      <th>INCEMP</th>\n",
       "      <th>ROA</th>\n",
       "      <th>ROE</th>\n",
       "      <th>TDTL</th>\n",
       "      <th>TDTA</th>\n",
       "      <th>TATA</th>\n",
       "    </tr>\n",
       "  </thead>\n",
       "  <tbody>\n",
       "    <tr>\n",
       "      <th>110</th>\n",
       "      <td>0.02</td>\n",
       "      <td>0.03</td>\n",
       "      <td>0.03</td>\n",
       "      <td>0.04</td>\n",
       "      <td>0.02</td>\n",
       "      <td>-189.06</td>\n",
       "      <td>-0.02</td>\n",
       "      <td>-0.96</td>\n",
       "      <td>1.11</td>\n",
       "      <td>0.90</td>\n",
       "      <td>0.04</td>\n",
       "    </tr>\n",
       "    <tr>\n",
       "      <th>87</th>\n",
       "      <td>0.03</td>\n",
       "      <td>0.04</td>\n",
       "      <td>0.05</td>\n",
       "      <td>0.06</td>\n",
       "      <td>0.01</td>\n",
       "      <td>-89.37</td>\n",
       "      <td>-0.02</td>\n",
       "      <td>-0.66</td>\n",
       "      <td>1.13</td>\n",
       "      <td>0.91</td>\n",
       "      <td>0.07</td>\n",
       "    </tr>\n",
       "    <tr>\n",
       "      <th>91</th>\n",
       "      <td>0.06</td>\n",
       "      <td>0.07</td>\n",
       "      <td>0.04</td>\n",
       "      <td>0.05</td>\n",
       "      <td>0.01</td>\n",
       "      <td>-7.06</td>\n",
       "      <td>-0.00</td>\n",
       "      <td>-0.02</td>\n",
       "      <td>0.98</td>\n",
       "      <td>0.76</td>\n",
       "      <td>0.05</td>\n",
       "    </tr>\n",
       "    <tr>\n",
       "      <th>17</th>\n",
       "      <td>0.06</td>\n",
       "      <td>0.06</td>\n",
       "      <td>0.03</td>\n",
       "      <td>0.03</td>\n",
       "      <td>0.04</td>\n",
       "      <td>-438.78</td>\n",
       "      <td>-0.06</td>\n",
       "      <td>-1.00</td>\n",
       "      <td>0.84</td>\n",
       "      <td>0.80</td>\n",
       "      <td>0.00</td>\n",
       "    </tr>\n",
       "    <tr>\n",
       "      <th>134</th>\n",
       "      <td>0.10</td>\n",
       "      <td>0.15</td>\n",
       "      <td>0.01</td>\n",
       "      <td>0.01</td>\n",
       "      <td>0.02</td>\n",
       "      <td>14.17</td>\n",
       "      <td>0.00</td>\n",
       "      <td>0.03</td>\n",
       "      <td>1.25</td>\n",
       "      <td>0.81</td>\n",
       "      <td>0.18</td>\n",
       "    </tr>\n",
       "  </tbody>\n",
       "</table>\n",
       "</div>"
      ],
      "text/plain": [
       "     EQTA  EQTL  LLRTA  LLRGL  OEXTA  INCEMP   ROA   ROE  TDTL  TDTA  TATA\n",
       "110  0.02  0.03   0.03   0.04   0.02 -189.06 -0.02 -0.96  1.11  0.90  0.04\n",
       "87   0.03  0.04   0.05   0.06   0.01  -89.37 -0.02 -0.66  1.13  0.91  0.07\n",
       "91   0.06  0.07   0.04   0.05   0.01   -7.06 -0.00 -0.02  0.98  0.76  0.05\n",
       "17   0.06  0.06   0.03   0.03   0.04 -438.78 -0.06 -1.00  0.84  0.80  0.00\n",
       "134  0.10  0.15   0.01   0.01   0.02   14.17  0.00  0.03  1.25  0.81  0.18"
      ]
     },
     "execution_count": 57,
     "metadata": {},
     "output_type": "execute_result"
    }
   ],
   "source": [
    "sample = df.loc[df['Target']==1].sample(30)\n",
    "y = sample.pop('Target')\n",
    "sample.head()"
   ]
  },
  {
   "cell_type": "markdown",
   "metadata": {
    "nteract": {
     "transient": {
      "deleting": false
     }
    }
   },
   "source": [
    "Run the model to produce predictions"
   ]
  },
  {
   "cell_type": "code",
   "execution_count": 58,
   "metadata": {
    "gather": {
     "logged": 1616789987660
    },
    "jupyter": {
     "outputs_hidden": false,
     "source_hidden": false
    },
    "nteract": {
     "transient": {
      "deleting": false
     }
    }
   },
   "outputs": [
    {
     "name": "stdout",
     "output_type": "stream",
     "text": [
      "[1 1 1 1 0 1 1 1 1 1 1 1 1 1 1 1 1 1 1 1 1 1 1 1 1 1 1 1 1 1]\n"
     ]
    }
   ],
   "source": [
    "print(best_model.predict(sample))"
   ]
  },
  {
   "cell_type": "code",
   "execution_count": 59,
   "metadata": {
    "gather": {
     "logged": 1616789994494
    }
   },
   "outputs": [
    {
     "name": "stdout",
     "output_type": "stream",
     "text": [
      "[1, 1, 1, 1, 1, 1, 1, 1, 1, 1, 1, 1, 1, 1, 1, 1, 1, 1, 1, 1, 1, 1, 1, 1, 1, 1, 1, 1, 1, 1]\n"
     ]
    }
   ],
   "source": [
    "print(list(y))"
   ]
  },
  {
   "cell_type": "code",
   "execution_count": 60,
   "metadata": {
    "gather": {
     "logged": 1616789997760
    }
   },
   "outputs": [
    {
     "data": {
      "text/html": [
       "<div>\n",
       "<style scoped>\n",
       "    .dataframe tbody tr th:only-of-type {\n",
       "        vertical-align: middle;\n",
       "    }\n",
       "\n",
       "    .dataframe tbody tr th {\n",
       "        vertical-align: top;\n",
       "    }\n",
       "\n",
       "    .dataframe thead th {\n",
       "        text-align: right;\n",
       "    }\n",
       "</style>\n",
       "<table border=\"1\" class=\"dataframe\">\n",
       "  <thead>\n",
       "    <tr style=\"text-align: right;\">\n",
       "      <th></th>\n",
       "      <th>Predicted 0</th>\n",
       "      <th>Predicted 1</th>\n",
       "    </tr>\n",
       "  </thead>\n",
       "  <tbody>\n",
       "    <tr>\n",
       "      <th>True 0</th>\n",
       "      <td>0</td>\n",
       "      <td>0</td>\n",
       "    </tr>\n",
       "    <tr>\n",
       "      <th>True 1</th>\n",
       "      <td>1</td>\n",
       "      <td>29</td>\n",
       "    </tr>\n",
       "  </tbody>\n",
       "</table>\n",
       "</div>"
      ],
      "text/plain": [
       "        Predicted 0  Predicted 1\n",
       "True 0            0            0\n",
       "True 1            1           29"
      ]
     },
     "execution_count": 60,
     "metadata": {},
     "output_type": "execute_result"
    }
   ],
   "source": [
    "y_test = list(y)\n",
    "predictions = best_model.predict(sample)\n",
    "\n",
    "pd.DataFrame(confusion_matrix(y_test, predictions), index=[\"True 0\", \"True 1\"], \n",
    "             columns=[\"Predicted 0\", \"Predicted 1\"])"
   ]
  },
  {
   "cell_type": "markdown",
   "metadata": {},
   "source": [
    "## Model Deployment\n",
    "\n",
    "Register the model"
   ]
  },
  {
   "cell_type": "code",
   "execution_count": 20,
   "metadata": {
    "gather": {
     "logged": 1616774853325
    },
    "jupyter": {
     "outputs_hidden": false,
     "source_hidden": false
    },
    "nteract": {
     "transient": {
      "deleting": false
     }
    }
   },
   "outputs": [],
   "source": [
    "automl_model = remote_run.register_model(model_name='automl_model.pkl')"
   ]
  },
  {
   "cell_type": "markdown",
   "metadata": {},
   "source": [
    "Create inference config"
   ]
  },
  {
   "cell_type": "code",
   "execution_count": 21,
   "metadata": {
    "gather": {
     "logged": 1616774857929
    }
   },
   "outputs": [],
   "source": [
    "environment = best_run.get_environment()\n",
    "entry_script='inference/scoring.py'\n",
    "best_run.download_file('outputs/scoring_file_v_1_0_0.py', entry_script)\n",
    "inference_config = InferenceConfig(entry_script = entry_script, environment = environment) "
   ]
  },
  {
   "cell_type": "markdown",
   "metadata": {},
   "source": [
    "Deploy the model as web service"
   ]
  },
  {
   "cell_type": "code",
   "execution_count": 22,
   "metadata": {
    "gather": {
     "logged": 1616775288446
    }
   },
   "outputs": [
    {
     "name": "stdout",
     "output_type": "stream",
     "text": [
      "Tips: You can try get_logs(): https://aka.ms/debugimage#dockerlog or local deployment: https://aka.ms/debugimage#debug-locally to debug if deployment takes longer than 10 minutes.\n",
      "Running\n",
      "2021-03-26 16:09:57+00:00 Creating Container Registry if not exists.\n",
      "2021-03-26 16:09:59+00:00 Use the existing image.\n",
      "2021-03-26 16:09:59+00:00 Generating deployment configuration.\n",
      "2021-03-26 16:10:02+00:00 Submitting deployment to compute..\n",
      "2021-03-26 16:10:10+00:00 Checking the status of deployment aciservice..\n",
      "2021-03-26 16:14:41+00:00 Checking the status of inference endpoint aciservice.\n",
      "Succeeded\n",
      "ACI service creation operation finished, operation \"Succeeded\"\n"
     ]
    }
   ],
   "source": [
    "deployment_config = AciWebservice.deploy_configuration(cpu_cores = 1, \n",
    "                                                    memory_gb = 1, \n",
    "                                                    auth_enabled= True, \n",
    "                                                    enable_app_insights= True)\n",
    "\n",
    "service = Model.deploy(ws, \"aciservice\", [automl_model], inference_config, deployment_config)\n",
    "service.wait_for_deployment(show_output = True)\n"
   ]
  },
  {
   "cell_type": "markdown",
   "metadata": {
    "nteract": {
     "transient": {
      "deleting": false
     }
    }
   },
   "source": [
    "Check status of the web service"
   ]
  },
  {
   "cell_type": "code",
   "execution_count": 61,
   "metadata": {
    "gather": {
     "logged": 1616790013751
    }
   },
   "outputs": [
    {
     "name": "stdout",
     "output_type": "stream",
     "text": [
      "Print ACI service status: Healthy\n"
     ]
    }
   ],
   "source": [
    "print(\"Print ACI service status: {}\".format(service.state))"
   ]
  },
  {
   "cell_type": "markdown",
   "metadata": {
    "nteract": {
     "transient": {
      "deleting": false
     }
    }
   },
   "source": [
    "If 'Healthy', get the URIs"
   ]
  },
  {
   "cell_type": "code",
   "execution_count": 62,
   "metadata": {
    "gather": {
     "logged": 1616790017761
    },
    "jupyter": {
     "outputs_hidden": false,
     "source_hidden": false
    },
    "nteract": {
     "transient": {
      "deleting": false
     }
    }
   },
   "outputs": [
    {
     "name": "stdout",
     "output_type": "stream",
     "text": [
      "Scoring URI:\n",
      " http://d4a45acd-b5c4-4e06-ad6a-5c04d4988e32.eastus.azurecontainer.io/score\n",
      "Swagger URI:\n",
      " http://d4a45acd-b5c4-4e06-ad6a-5c04d4988e32.eastus.azurecontainer.io/swagger.json\n"
     ]
    }
   ],
   "source": [
    "print(\"Scoring URI:\\n {}\".format(service.scoring_uri))\n",
    "print(\"Swagger URI:\\n {}\".format(service.swagger_uri))"
   ]
  },
  {
   "cell_type": "markdown",
   "metadata": {},
   "source": [
    "Store primary and secondary keys for authorization"
   ]
  },
  {
   "cell_type": "code",
   "execution_count": 63,
   "metadata": {
    "gather": {
     "logged": 1616790023720
    },
    "jupyter": {
     "outputs_hidden": false,
     "source_hidden": false
    },
    "nteract": {
     "transient": {
      "deleting": false
     }
    }
   },
   "outputs": [
    {
     "name": "stdout",
     "output_type": "stream",
     "text": [
      "Primary key: YPc4B5yqb4B9KD66jIBxeprC5sRv8vCc,\n",
      "Secondary key: IlComavEUZRRQg1XR6lcm66joOSs4Y35\n"
     ]
    }
   ],
   "source": [
    "primary, secondary = service.get_keys()\n",
    "print(\"Primary key: {},\\nSecondary key: {}\".format(primary, secondary)) "
   ]
  },
  {
   "cell_type": "markdown",
   "metadata": {
    "collapsed": true,
    "gather": {
     "logged": 1598431657736
    },
    "jupyter": {
     "outputs_hidden": false,
     "source_hidden": false
    },
    "nteract": {
     "transient": {
      "deleting": false
     }
    }
   },
   "source": [
    "Take a small sample of feautures of the failed banks (`'Target'=1`)"
   ]
  },
  {
   "cell_type": "code",
   "execution_count": 64,
   "metadata": {
    "gather": {
     "logged": 1616790028626
    },
    "jupyter": {
     "outputs_hidden": false,
     "source_hidden": false
    },
    "nteract": {
     "transient": {
      "deleting": false
     }
    }
   },
   "outputs": [],
   "source": [
    "sample = df.loc[df['Target']==1].sample(5)\n",
    "y = sample.pop('Target')"
   ]
  },
  {
   "cell_type": "markdown",
   "metadata": {
    "nteract": {
     "transient": {
      "deleting": false
     }
    }
   },
   "source": [
    "Use this  sample to create JSON payload and headers"
   ]
  },
  {
   "cell_type": "code",
   "execution_count": 65,
   "metadata": {
    "gather": {
     "logged": 1616790036533
    }
   },
   "outputs": [
    {
     "name": "stdout",
     "output_type": "stream",
     "text": [
      "{\"data\": [{\"EQTA\": 0.0173793913298757, \"EQTL\": 0.0224276405515987, \"LLRTA\": 0.0667579998042861, \"LLRGL\": 0.0861494165782694, \"OEXTA\": 0.0664448576181623, \"INCEMP\": -430.363636363636, \"ROA\": -0.092650944319405, \"ROE\": -5.33108108108108, \"TDTL\": 1.2634237510734, \"TDTA\": 0.979039044916332, \"TATA\": 0.0799882571680204}, {\"EQTA\": 0.00712228560054241, \"EQTL\": 0.0111522353170352, \"LLRTA\": 0.00355181229511766, \"LLRGL\": 0.00556150774325509, \"OEXTA\": 0.0152958081150514, \"INCEMP\": -185.076923076923, \"ROA\": -0.0299322605325852, \"ROE\": -4.20262008733624, \"TDTL\": 1.51486315379371, \"TDTA\": 0.967455198024421, \"TATA\": 0.101273302936621}, {\"EQTA\": 0.0198056561983894, \"EQTL\": 0.0252930693393064, \"LLRTA\": 0.0355080720531565, \"LLRGL\": 0.0453460425420597, \"OEXTA\": 0.021066714463122, \"INCEMP\": -68.3584905660377, \"ROA\": -0.0231919497113009, \"ROE\": -1.17097608274079, \"TDTL\": 1.15982701960335, \"TDTA\": 0.908198799114059, \"TATA\": 0.0569140559986685}, {\"EQTA\": 0.0201699173495024, \"EQTL\": 0.0290972426776635, \"LLRTA\": 0.0199035892154861, \"LLRGL\": 0.0287130361282225, \"OEXTA\": 0.0314622302317943, \"INCEMP\": -45.4666666666667, \"ROA\": -0.0121090524932752, \"ROE\": -0.600352112676056, \"TDTL\": 1.33838351497765, \"TDTA\": 0.92775405484584, \"TATA\": 0.0520405173867883}, {\"EQTA\": 0.00864389547795948, \"EQTL\": 0.0108336043207171, \"LLRTA\": 0.0920116586831667, \"LLRGL\": 0.115320448472338, \"OEXTA\": 0.0252717609716133, \"INCEMP\": -593.165644171779, \"ROA\": -0.136336652231972, \"ROE\": -15.7725938009788, \"TDTL\": 1.23200702682068, \"TDTA\": 0.982991408278116, \"TATA\": 0.112893787253004}]}\n"
     ]
    }
   ],
   "source": [
    "json_payload = json.dumps({'data': sample.to_dict(orient='records')})\n",
    "print(json_payload)"
   ]
  },
  {
   "cell_type": "markdown",
   "metadata": {},
   "source": [
    "Check if result is delivered, compare to true values"
   ]
  },
  {
   "cell_type": "code",
   "execution_count": 66,
   "metadata": {
    "gather": {
     "logged": 1616790068494
    }
   },
   "outputs": [
    {
     "name": "stdout",
     "output_type": "stream",
     "text": [
      "\n",
      "Predicted Values: {\"result\": [1, 1, 1, 1, 1]}\n",
      "\n",
      "True Values:  [1, 1, 1, 1, 1]\n"
     ]
    }
   ],
   "source": [
    "headers = {\"Content-Type\": \"application/json\"}\n",
    "headers[\"Authorization\"] = \"Bearer {}\".format(primary) #{primary}\"\n",
    "resp = requests.post(service.scoring_uri, json_payload, headers=headers)\n",
    "print('\\nPredicted Values:', resp.json())\n",
    "print(f'\\nTrue Values: ', list(y.values))"
   ]
  },
  {
   "cell_type": "markdown",
   "metadata": {},
   "source": [
    "Print out service logs"
   ]
  },
  {
   "cell_type": "code",
   "execution_count": 67,
   "metadata": {
    "gather": {
     "logged": 1616790079155
    }
   },
   "outputs": [
    {
     "name": "stdout",
     "output_type": "stream",
     "text": [
      "webservice logs: \n",
      "2021-03-26T16:14:33,051526300+00:00 - gunicorn/run \n",
      "2021-03-26T16:14:33,052598400+00:00 - iot-server/run \n",
      "2021-03-26T16:14:33,048325900+00:00 - rsyslog/run \n",
      "2021-03-26T16:14:33,275704000+00:00 - nginx/run \n",
      "/usr/sbin/nginx: /azureml-envs/azureml_2b14f450572e78de640d54eaabed5e4d/lib/libcrypto.so.1.0.0: no version information available (required by /usr/sbin/nginx)\n",
      "/usr/sbin/nginx: /azureml-envs/azureml_2b14f450572e78de640d54eaabed5e4d/lib/libcrypto.so.1.0.0: no version information available (required by /usr/sbin/nginx)\n",
      "/usr/sbin/nginx: /azureml-envs/azureml_2b14f450572e78de640d54eaabed5e4d/lib/libssl.so.1.0.0: no version information available (required by /usr/sbin/nginx)\n",
      "/usr/sbin/nginx: /azureml-envs/azureml_2b14f450572e78de640d54eaabed5e4d/lib/libssl.so.1.0.0: no version information available (required by /usr/sbin/nginx)\n",
      "/usr/sbin/nginx: /azureml-envs/azureml_2b14f450572e78de640d54eaabed5e4d/lib/libssl.so.1.0.0: no version information available (required by /usr/sbin/nginx)\n",
      "rsyslogd: /azureml-envs/azureml_2b14f450572e78de640d54eaabed5e4d/lib/libuuid.so.1: no version information available (required by rsyslogd)\n",
      "EdgeHubConnectionString and IOTEDGE_IOTHUBHOSTNAME are not set. Exiting...\n",
      "2021-03-26T16:14:33,771452200+00:00 - iot-server/finish 1 0\n",
      "2021-03-26T16:14:33,785357500+00:00 - Exit code 1 is normal. Not restarting iot-server.\n",
      "Starting gunicorn 19.9.0\n",
      "Listening at: http://127.0.0.1:31311 (72)\n",
      "Using worker: sync\n",
      "worker timeout is set to 300\n",
      "Booting worker with pid: 98\n",
      "SPARK_HOME not set. Skipping PySpark Initialization.\n",
      "Generating new fontManager, this may take some time...\n",
      "Initializing logger\n",
      "2021-03-26 16:14:36,197 | root | INFO | Starting up app insights client\n",
      "2021-03-26 16:14:36,198 | root | INFO | Starting up request id generator\n",
      "2021-03-26 16:14:36,198 | root | INFO | Starting up app insight hooks\n",
      "2021-03-26 16:14:36,198 | root | INFO | Invoking user's init function\n",
      "2021-03-26 16:14:40,318 | azureml.core | WARNING | Failure while loading azureml_run_type_providers. Failed to load entrypoint automl = azureml.train.automl.run:AutoMLRun._from_run_dto with exception (cryptography 3.2 (/azureml-envs/azureml_2b14f450572e78de640d54eaabed5e4d/lib/python3.6/site-packages), Requirement.parse('cryptography<4.0.0,>=3.3.1; extra == \"crypto\"'), {'PyJWT'}).\n",
      "Failure while loading azureml_run_type_providers. Failed to load entrypoint automl = azureml.train.automl.run:AutoMLRun._from_run_dto with exception (cryptography 3.2 (/azureml-envs/azureml_2b14f450572e78de640d54eaabed5e4d/lib/python3.6/site-packages), Requirement.parse('cryptography<4.0.0,>=3.3.1; extra == \"crypto\"'), {'PyJWT'}).\n",
      "2021-03-26 16:14:40,924 | root | INFO | Users's init has completed successfully\n",
      "2021-03-26 16:14:40,946 | root | INFO | Skipping middleware: dbg_model_info as it's not enabled.\n",
      "2021-03-26 16:14:40,946 | root | INFO | Skipping middleware: dbg_resource_usage as it's not enabled.\n",
      "2021-03-26 16:14:40,948 | root | INFO | Scoring timeout is found from os.environ: 60000 ms\n",
      "2021-03-26 16:14:41,288 | root | INFO | 200\n",
      "127.0.0.1 - - [26/Mar/2021:16:14:41 +0000] \"GET /swagger.json HTTP/1.0\" 200 2633 \"-\" \"Go-http-client/1.1\"\n",
      "2021-03-26 16:14:47,350 | root | INFO | 200\n",
      "127.0.0.1 - - [26/Mar/2021:16:14:47 +0000] \"GET /swagger.json HTTP/1.0\" 200 2633 \"-\" \"Go-http-client/1.1\"\n",
      "2021-03-26 16:18:31,880 | root | INFO | 200\n",
      "127.0.0.1 - - [26/Mar/2021:16:18:31 +0000] \"GET /swagger.json HTTP/1.0\" 200 2633 \"-\" \"Go-http-client/1.1\"\n",
      "2021-03-26 16:19:09,076 | root | INFO | 200\n",
      "127.0.0.1 - - [26/Mar/2021:16:19:09 +0000] \"GET /swagger.json HTTP/1.0\" 200 2633 \"-\" \"Go-http-client/1.1\"\n",
      "2021-03-26 16:22:59,237 | root | INFO | Validation Request Content-Type\n",
      "2021-03-26 16:22:59,243 | root | INFO | Scoring Timer is set to 60.0 seconds\n",
      "2021-03-26 16:22:59,388 | root | INFO | 200\n",
      "127.0.0.1 - - [26/Mar/2021:16:22:59 +0000] \"POST /score HTTP/1.0\" 200 31 \"-\" \"python-requests/2.25.1\"\n",
      "2021-03-26 16:23:42,674 | root | INFO | Validation Request Content-Type\n",
      "2021-03-26 16:23:42,798 | root | INFO | Scoring Timer is set to 60.0 seconds\n",
      "2021-03-26 16:23:43,190 | root | INFO | 200\n",
      "127.0.0.1 - - [26/Mar/2021:16:23:43 +0000] \"POST /score HTTP/1.0\" 200 20425 \"-\" \"python-requests/2.25.1\"\n",
      "2021-03-26 16:23:43,679 | root | INFO | Validation Request Content-Type\n",
      "2021-03-26 16:23:43,785 | root | INFO | Scoring Timer is set to 60.0 seconds\n",
      "2021-03-26 16:23:44,127 | root | INFO | 200\n",
      "127.0.0.1 - - [26/Mar/2021:16:23:44 +0000] \"POST /score HTTP/1.0\" 200 20212 \"-\" \"python-requests/2.25.1\"\n",
      "2021-03-26 16:23:44,647 | root | INFO | Validation Request Content-Type\n",
      "2021-03-26 16:23:44,761 | root | INFO | Scoring Timer is set to 60.0 seconds\n",
      "2021-03-26 16:23:45,102 | root | INFO | 200\n",
      "127.0.0.1 - - [26/Mar/2021:16:23:45 +0000] \"POST /score HTTP/1.0\" 200 20080 \"-\" \"python-requests/2.25.1\"\n",
      "2021-03-26 16:23:45,554 | root | INFO | Validation Request Content-Type\n",
      "2021-03-26 16:23:45,671 | root | INFO | Scoring Timer is set to 60.0 seconds\n",
      "2021-03-26 16:23:46,027 | root | INFO | 200\n",
      "127.0.0.1 - - [26/Mar/2021:16:23:46 +0000] \"POST /score HTTP/1.0\" 200 19903 \"-\" \"python-requests/2.25.1\"\n",
      "2021-03-26 16:23:46,484 | root | INFO | Validation Request Content-Type\n",
      "2021-03-26 16:23:46,593 | root | INFO | Scoring Timer is set to 60.0 seconds\n",
      "2021-03-26 16:23:46,947 | root | INFO | 200\n",
      "127.0.0.1 - - [26/Mar/2021:16:23:46 +0000] \"POST /score HTTP/1.0\" 200 19801 \"-\" \"python-requests/2.25.1\"\n",
      "2021-03-26 16:23:47,453 | root | INFO | Validation Request Content-Type\n",
      "2021-03-26 16:23:47,564 | root | INFO | Scoring Timer is set to 60.0 seconds\n",
      "2021-03-26 16:23:47,913 | root | INFO | 200\n",
      "127.0.0.1 - - [26/Mar/2021:16:23:47 +0000] \"POST /score HTTP/1.0\" 200 21541 \"-\" \"python-requests/2.25.1\"\n",
      "2021-03-26 16:23:48,449 | root | INFO | Validation Request Content-Type\n",
      "2021-03-26 16:23:48,578 | root | INFO | Scoring Timer is set to 60.0 seconds\n",
      "2021-03-26 16:23:48,912 | root | INFO | 200\n",
      "127.0.0.1 - - [26/Mar/2021:16:23:48 +0000] \"POST /score HTTP/1.0\" 200 21343 \"-\" \"python-requests/2.25.1\"\n",
      "2021-03-26 16:23:49,365 | root | INFO | Validation Request Content-Type\n",
      "2021-03-26 16:23:49,477 | root | INFO | Scoring Timer is set to 60.0 seconds\n",
      "2021-03-26 16:23:49,824 | root | INFO | 200\n",
      "127.0.0.1 - - [26/Mar/2021:16:23:49 +0000] \"POST /score HTTP/1.0\" 200 21139 \"-\" \"python-requests/2.25.1\"\n",
      "2021-03-26 16:23:50,269 | root | INFO | Validation Request Content-Type\n",
      "2021-03-26 16:23:50,393 | root | INFO | Scoring Timer is set to 60.0 seconds\n",
      "2021-03-26 16:23:50,721 | root | INFO | 200\n",
      "127.0.0.1 - - [26/Mar/2021:16:23:50 +0000] \"POST /score HTTP/1.0\" 200 20833 \"-\" \"python-requests/2.25.1\"\n",
      "2021-03-26 20:21:07,427 | root | INFO | Validation Request Content-Type\n",
      "2021-03-26 20:21:07,431 | root | INFO | Scoring Timer is set to 60.0 seconds\n",
      "2021-03-26 20:21:07,605 | root | INFO | 200\n",
      "127.0.0.1 - - [26/Mar/2021:20:21:07 +0000] \"POST /score HTTP/1.0\" 200 31 \"-\" \"python-requests/2.25.1\"\n",
      "\n",
      "\n"
     ]
    }
   ],
   "source": [
    "print(f'webservice logs: \\n{service.get_logs()}\\n')"
   ]
  },
  {
   "cell_type": "markdown",
   "metadata": {},
   "source": [
    "## Out of sample testing"
   ]
  },
  {
   "cell_type": "markdown",
   "metadata": {},
   "source": [
    "Define periods from which new , 'unseen' data will be used. In this case 9 out-of-sample quarters of reports that the model has never seen."
   ]
  },
  {
   "cell_type": "code",
   "execution_count": 31,
   "metadata": {
    "gather": {
     "logged": 1616775798856
    }
   },
   "outputs": [],
   "source": [
    "oos_reports = ['2010Q4', '2011Q1', '2011Q2', '2011Q3', '2011Q4', '2012Q1', '2012Q2', '2012Q3', '2012Q4']"
   ]
  },
  {
   "cell_type": "markdown",
   "metadata": {},
   "source": [
    "Get the date for the quarter, get features and true y_oos, send features to the web service and get response, y_pred. Use y_oos and y_pred to compute confusion matrix. Store results in a dictionary."
   ]
  },
  {
   "cell_type": "code",
   "execution_count": 33,
   "metadata": {
    "gather": {
     "logged": 1616775830850
    }
   },
   "outputs": [],
   "source": [
    "outofsample_results = {}\n",
    "for report in oos_reports:\n",
    "    # Get the quarter-end report and drop missing values\n",
    "    oos_df = pd.read_csv('https://raw.githubusercontent.com/allaccountstaken/automl_v_hyperdrive/main/oos/camel_data_after{}_OOS.csv'.format(report))\n",
    "    oos_df.replace([np.inf, -np.inf], np.nan)\n",
    "    oos_df.dropna(inplace=True)\n",
    "    \n",
    "    # Prepare data for model consumption, 12 columns expected\n",
    "    oos_df.pop('AsOfDate')\n",
    "    #oos_df.rename(columns={'Unnamed: 0':'Column2'}, inplace=True)\n",
    "    \n",
    "    # Assing true values (y_oos) and features (X_oos)\n",
    "    y_oos = oos_df['Target']\n",
    "    X_oos = oos_df[['EQTA', 'EQTL', 'LLRTA', 'LLRGL', 'OEXTA', 'INCEMP', 'ROA', 'ROE', \n",
    "                    'TDTL', 'TDTA', 'TATA']].copy()\n",
    "    \n",
    "    \n",
    "    # Send JSON payload and ask for peridictions\n",
    "    json_payload = json.dumps({'data': X_oos.to_dict(orient='records')})\n",
    "    y_pred = json.loads(service.run(json_payload))[\"result\"]\n",
    "  \n",
    "    \n",
    "    # Compute confusion matrix\n",
    "    tn, fp, fn, tp = confusion_matrix(y_oos, y_pred).ravel()\n",
    "    mcc = np.round(matthews_corrcoef(y_oos, y_pred), 2)\n",
    "    \n",
    "    # Build report as a dictionary \n",
    "    outofsample_results[report] = {'Actually failed':fn+tp, \n",
    "                                   'Predicted fail':tp,\n",
    "                                   'Recall (TP/TP+FN)':np.round(tp/(tp+fn), 2),\n",
    "                                   'Precision (TP/TP+FP)':np.round(tp/(tp+fp), 2),\n",
    "                                   'Matthews Correlation':mcc\n",
    "                                  }"
   ]
  },
  {
   "cell_type": "code",
   "execution_count": 34,
   "metadata": {
    "gather": {
     "logged": 1616775833539
    }
   },
   "outputs": [
    {
     "data": {
      "text/plain": [
       "{'2010Q4': {'Actually failed': 24,\n",
       "  'Predicted fail': 22,\n",
       "  'Recall (TP/TP+FN)': 0.92,\n",
       "  'Precision (TP/TP+FP)': 0.1,\n",
       "  'Matthews Correlation': 0.3},\n",
       " '2011Q1': {'Actually failed': 19,\n",
       "  'Predicted fail': 19,\n",
       "  'Recall (TP/TP+FN)': 1.0,\n",
       "  'Precision (TP/TP+FP)': 0.08,\n",
       "  'Matthews Correlation': 0.28},\n",
       " '2011Q2': {'Actually failed': 25,\n",
       "  'Predicted fail': 25,\n",
       "  'Recall (TP/TP+FN)': 1.0,\n",
       "  'Precision (TP/TP+FP)': 0.11,\n",
       "  'Matthews Correlation': 0.33},\n",
       " '2011Q3': {'Actually failed': 18,\n",
       "  'Predicted fail': 17,\n",
       "  'Recall (TP/TP+FN)': 0.94,\n",
       "  'Precision (TP/TP+FP)': 0.08,\n",
       "  'Matthews Correlation': 0.28},\n",
       " '2011Q4': {'Actually failed': 13,\n",
       "  'Predicted fail': 13,\n",
       "  'Recall (TP/TP+FN)': 1.0,\n",
       "  'Precision (TP/TP+FP)': 0.06,\n",
       "  'Matthews Correlation': 0.24},\n",
       " '2012Q1': {'Actually failed': 15,\n",
       "  'Predicted fail': 15,\n",
       "  'Recall (TP/TP+FN)': 1.0,\n",
       "  'Precision (TP/TP+FP)': 0.08,\n",
       "  'Matthews Correlation': 0.27},\n",
       " '2012Q2': {'Actually failed': 12,\n",
       "  'Predicted fail': 12,\n",
       "  'Recall (TP/TP+FN)': 1.0,\n",
       "  'Precision (TP/TP+FP)': 0.08,\n",
       "  'Matthews Correlation': 0.27},\n",
       " '2012Q3': {'Actually failed': 8,\n",
       "  'Predicted fail': 8,\n",
       "  'Recall (TP/TP+FN)': 1.0,\n",
       "  'Precision (TP/TP+FP)': 0.06,\n",
       "  'Matthews Correlation': 0.24},\n",
       " '2012Q4': {'Actually failed': 4,\n",
       "  'Predicted fail': 4,\n",
       "  'Recall (TP/TP+FN)': 1.0,\n",
       "  'Precision (TP/TP+FP)': 0.03,\n",
       "  'Matthews Correlation': 0.17}}"
      ]
     },
     "execution_count": 34,
     "metadata": {},
     "output_type": "execute_result"
    }
   ],
   "source": [
    "outofsample_results"
   ]
  },
  {
   "cell_type": "markdown",
   "metadata": {},
   "source": [
    "These are summary data used in model training. This is needed for the plot only."
   ]
  },
  {
   "cell_type": "code",
   "execution_count": 35,
   "metadata": {
    "gather": {
     "logged": 1616775840849
    }
   },
   "outputs": [],
   "source": [
    "insample_results = {\n",
    "    '2009Q4':{'Actually failed':31, 'Predicted fail':0, 'Recall (TP/TP+FN)':0.69, 'Precision (TP/TP+FP)':0.63},\n",
    "    '2010Q1':{'Actually failed':35, 'Predicted fail':0, 'Recall (TP/TP+FN)':0.69, 'Precision (TP/TP+FP)':0.63},\n",
    "    '2010Q2':{'Actually failed':41, 'Predicted fail':0, 'Recall (TP/TP+FN)':0.69, 'Precision (TP/TP+FP)':0.63}, \n",
    "    '2010Q3':{'Actually failed':30, 'Predicted fail':0, 'Recall (TP/TP+FN)':0.69, 'Precision (TP/TP+FP)':0.63}}\n",
    "\n",
    "results_df = pd.DataFrame.from_dict(insample_results, orient='index')"
   ]
  },
  {
   "cell_type": "markdown",
   "metadata": {},
   "source": [
    "Create a plot: counts of banks that actually failed (blue) and counts of banks that are predicted to fail (orange) as vertical bars. Area curves represent recall scores and precision. Note: the objective is to maximize recal, i.e. make the orange bars equal to the blue bars."
   ]
  },
  {
   "cell_type": "code",
   "execution_count": 36,
   "metadata": {
    "gather": {
     "logged": 1616775846268
    }
   },
   "outputs": [
    {
     "data": {
      "image/png": "[encoded data removed]",
      "text/plain": [
       "<Figure size 1440x576 with 2 Axes>"
      ]
     },
     "metadata": {
      "needs_background": "light"
     },
     "output_type": "display_data"
    }
   ],
   "source": [
    "# Combine all metrics in one DataFrame\n",
    "results_plot_df = results_df.append(pd.DataFrame.from_dict(outofsample_results).T)\n",
    "\n",
    "# Prepare figure and split axis\n",
    "fig, ax1 = plt.subplots(sharex=True, figsize=(20, 8))\n",
    "ax2 = ax1.twinx()\n",
    "\n",
    "# Plot bars and areas\n",
    "results_plot_df[['Actually failed','Predicted fail']].plot(\n",
    "    kind='bar', ax=ax1, width=0.9).legend(loc='upper left')                                                              \n",
    "results_plot_df[['Precision (TP/TP+FP)', 'Recall (TP/TP+FN)']].plot(\n",
    "    kind='area', stacked=False, alpha=0.2, ax=ax2).legend(loc='upper right')\n",
    "plt.axvline(x=3.4, ymin=0, ymax = 0.99, linewidth=3, color='k', linestyle=':')\n",
    "\n",
    "# Plot managements comtrols\n",
    "ax1.yaxis.tick_left()\n",
    "ax2.yaxis.tick_right()\n",
    "ax2.grid(True)\n",
    "ax1.set_xlim([-1.01, 13.01])\n",
    "\n",
    "# Assign titles\n",
    "ax1.text(x= 1.5, y=42.5, s='In-sample modeling', fontsize=14, verticalalignment='top')\n",
    "ax1.text(x= 3.5, y=42.5, s='Out-of-sample forecasting', fontsize=14, verticalalignment='top')\n",
    "plt.title('AutoML VotingEnsemble performance with out-of-sample data', fontsize=16)\n",
    "\n",
    "plt.show()"
   ]
  },
  {
   "cell_type": "markdown",
   "metadata": {
    "collapsed": true,
    "jupyter": {
     "outputs_hidden": false,
     "source_hidden": false
    },
    "nteract": {
     "transient": {
      "deleting": false
     }
    }
   },
   "source": [
    "Clean up - deleting the ACI service"
   ]
  },
  {
   "cell_type": "code",
   "execution_count": 3,
   "metadata": {
    "gather": {
     "logged": 1616454181026
    },
    "jupyter": {
     "outputs_hidden": false,
     "source_hidden": false
    },
    "nteract": {
     "transient": {
      "deleting": false
     }
    }
   },
   "outputs": [],
   "source": [
    "#service.delete()"
   ]
  },
  {
   "cell_type": "markdown",
   "metadata": {},
   "source": [
    "-- the end --"
   ]
  }
 ],
 "metadata": {
  "kernel_info": {
   "name": "python3"
  },
  "kernelspec": {
   "display_name": "Python 3",
   "language": "python",
   "name": "python3"
  },
  "language_info": {
   "codemirror_mode": {
    "name": "ipython",
    "version": 3
   },
   "file_extension": ".py",
   "mimetype": "text/x-python",
   "name": "python",
   "nbconvert_exporter": "python",
   "pygments_lexer": "ipython3",
   "version": "3.6.9"
  },
  "microsoft": {
   "host": {
    "AzureML": {
     "notebookHasBeenCompleted": true
    }
   }
  },
  "nteract": {
   "version": "nteract-front-end@1.0.0"
  }
 },
 "nbformat": 4,
 "nbformat_minor": 2
}
