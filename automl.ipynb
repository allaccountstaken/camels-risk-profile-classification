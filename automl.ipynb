{
 "cells": [
  {
   "cell_type": "markdown",
   "metadata": {},
   "source": [
    "# Automated ML\n",
    "\n",
    "TODO: Import Dependencies. In the cell below, import all the dependencies that you will need to complete the project."
   ]
  },
  {
   "cell_type": "code",
   "execution_count": 107,
   "metadata": {
    "gather": {
     "logged": 1616608254351
    },
    "jupyter": {
     "outputs_hidden": false,
     "source_hidden": false
    },
    "nteract": {
     "transient": {
      "deleting": false
     }
    }
   },
   "outputs": [],
   "source": [
    "#!pip install azureml-sdk==1.22.0"
   ]
  },
  {
   "cell_type": "code",
   "execution_count": 50,
   "metadata": {
    "gather": {
     "logged": 1616608775479
    },
    "jupyter": {
     "outputs_hidden": false,
     "source_hidden": false
    },
    "nteract": {
     "transient": {
      "deleting": false
     }
    }
   },
   "outputs": [
    {
     "name": "stdout",
     "output_type": "stream",
     "text": [
      "SDK version: 1.22.0\n"
     ]
    }
   ],
   "source": [
    "import logging\n",
    "import os\n",
    "import csv\n",
    "import joblib\n",
    "import json\n",
    "import requests\n",
    "import pandas as pd \n",
    "import numpy as np \n",
    "import azureml.core\n",
    "from azureml.core import Workspace, Experiment\n",
    "from azureml.train.automl import AutoMLConfig\n",
    "from azureml.core.dataset import Dataset\n",
    "from azureml.core.compute import ComputeTarget, AmlCompute\n",
    "from azureml.core.compute_target import ComputeTargetException\n",
    "from azureml.widgets import RunDetails\n",
    "from azureml.core.run import Run\n",
    "from azureml.core.model import InferenceConfig \n",
    "from azureml.core.webservice import AciWebservice, Webservice\n",
    "from azureml.core.model import Model\n",
    "from sklearn.metrics import confusion_matrix, matthews_corrcoef\n",
    "import matplotlib.pyplot as plt\n",
    "\n",
    "%matplotlib inline\n",
    "display.mpl_style ='ggplot'\n",
    "\n",
    "print(\"SDK version:\", azureml.core.VERSION)"
   ]
  },
  {
   "cell_type": "markdown",
   "metadata": {},
   "source": [
    "## Dataset\n",
    "\n",
    "### Overview\n",
    "The primary objective was to develop an early warning system, i.e. binary classification of failed ('Target'==1) vs. survived ('Target'==0), for the US banks using their quarterly filings with the regulator. Overall, 137 failed banks and 6,877 surviving banks were used in this machine learning exercise. Historical observations from the first 4 quarters ending 2010Q3 (stored in ./data) are used to tune the model and out-of-sample testing is performed on quarterly data starting from 2010Q4 (stored in ./oos). "
   ]
  },
  {
   "cell_type": "markdown",
   "metadata": {
    "nteract": {
     "transient": {
      "deleting": false
     }
    }
   },
   "source": [
    "### Setting up the project"
   ]
  },
  {
   "cell_type": "code",
   "execution_count": 51,
   "metadata": {
    "gather": {
     "logged": 1616608790416
    },
    "jupyter": {
     "outputs_hidden": false,
     "source_hidden": false
    },
    "nteract": {
     "transient": {
      "deleting": false
     }
    }
   },
   "outputs": [
    {
     "name": "stdout",
     "output_type": "stream",
     "text": [
      "Workspace name: my_ws\n",
      "Azure region: eastus\n",
      "Subscription id: 0c66ad45-500d-48af-80d3-0039ebf1975e\n",
      "Resource group: final-rgp\n"
     ]
    }
   ],
   "source": [
    "ws = Workspace.from_config()\n",
    "ws.write_config(path='.azureml')\n",
    "experiment_name = 'camels-clf'\n",
    "project_folder = './dmik'\n",
    "exp = Experiment(workspace=ws, name=experiment_name)\n",
    "#run = exp.start_logging() # added and \n",
    "\n",
    "print('Workspace name: ' + ws.name, \n",
    "      'Azure region: ' + ws.location, \n",
    "      'Subscription id: ' + ws.subscription_id, \n",
    "      'Resource group: ' + ws.resource_group, sep = '\\n')\n"
   ]
  },
  {
   "cell_type": "markdown",
   "metadata": {
    "nteract": {
     "transient": {
      "deleting": false
     }
    }
   },
   "source": [
    "### Uploading the training dataset using GUI"
   ]
  },
  {
   "cell_type": "code",
   "execution_count": 320,
   "metadata": {
    "gather": {
     "logged": 1616608795938
    },
    "jupyter": {
     "outputs_hidden": false,
     "source_hidden": false
    },
    "nteract": {
     "transient": {
      "deleting": false
     }
    }
   },
   "outputs": [
    {
     "data": {
      "text/html": [
       "<div>\n",
       "<style scoped>\n",
       "    .dataframe tbody tr th:only-of-type {\n",
       "        vertical-align: middle;\n",
       "    }\n",
       "\n",
       "    .dataframe tbody tr th {\n",
       "        vertical-align: top;\n",
       "    }\n",
       "\n",
       "    .dataframe thead th {\n",
       "        text-align: right;\n",
       "    }\n",
       "</style>\n",
       "<table border=\"1\" class=\"dataframe\">\n",
       "  <thead>\n",
       "    <tr style=\"text-align: right;\">\n",
       "      <th></th>\n",
       "      <th>Column2</th>\n",
       "      <th>Target</th>\n",
       "      <th>EQTA</th>\n",
       "      <th>EQTL</th>\n",
       "      <th>LLRTA</th>\n",
       "      <th>LLRGL</th>\n",
       "      <th>OEXTA</th>\n",
       "      <th>INCEMP</th>\n",
       "      <th>ROA</th>\n",
       "      <th>ROE</th>\n",
       "      <th>TDTL</th>\n",
       "      <th>TDTA</th>\n",
       "      <th>TATA</th>\n",
       "    </tr>\n",
       "  </thead>\n",
       "  <tbody>\n",
       "    <tr>\n",
       "      <th>0</th>\n",
       "      <td>1252</td>\n",
       "      <td>1</td>\n",
       "      <td>0.01</td>\n",
       "      <td>0.01</td>\n",
       "      <td>0.09</td>\n",
       "      <td>0.12</td>\n",
       "      <td>0.03</td>\n",
       "      <td>-593.17</td>\n",
       "      <td>-0.14</td>\n",
       "      <td>-15.77</td>\n",
       "      <td>1.23</td>\n",
       "      <td>0.98</td>\n",
       "      <td>0.11</td>\n",
       "    </tr>\n",
       "    <tr>\n",
       "      <th>1</th>\n",
       "      <td>3287</td>\n",
       "      <td>1</td>\n",
       "      <td>0.08</td>\n",
       "      <td>0.19</td>\n",
       "      <td>0.00</td>\n",
       "      <td>0.01</td>\n",
       "      <td>0.02</td>\n",
       "      <td>20.90</td>\n",
       "      <td>0.00</td>\n",
       "      <td>0.05</td>\n",
       "      <td>2.21</td>\n",
       "      <td>0.91</td>\n",
       "      <td>0.36</td>\n",
       "    </tr>\n",
       "    <tr>\n",
       "      <th>2</th>\n",
       "      <td>5672</td>\n",
       "      <td>1</td>\n",
       "      <td>0.00</td>\n",
       "      <td>0.00</td>\n",
       "      <td>0.07</td>\n",
       "      <td>0.10</td>\n",
       "      <td>0.03</td>\n",
       "      <td>-323.52</td>\n",
       "      <td>-0.06</td>\n",
       "      <td>-27.68</td>\n",
       "      <td>1.38</td>\n",
       "      <td>0.93</td>\n",
       "      <td>0.14</td>\n",
       "    </tr>\n",
       "    <tr>\n",
       "      <th>3</th>\n",
       "      <td>5702</td>\n",
       "      <td>1</td>\n",
       "      <td>0.02</td>\n",
       "      <td>0.02</td>\n",
       "      <td>0.03</td>\n",
       "      <td>0.04</td>\n",
       "      <td>0.04</td>\n",
       "      <td>-153.60</td>\n",
       "      <td>-0.05</td>\n",
       "      <td>-3.12</td>\n",
       "      <td>1.20</td>\n",
       "      <td>0.90</td>\n",
       "      <td>0.09</td>\n",
       "    </tr>\n",
       "    <tr>\n",
       "      <th>4</th>\n",
       "      <td>8221</td>\n",
       "      <td>1</td>\n",
       "      <td>0.01</td>\n",
       "      <td>0.01</td>\n",
       "      <td>0.04</td>\n",
       "      <td>0.05</td>\n",
       "      <td>0.04</td>\n",
       "      <td>-217.89</td>\n",
       "      <td>-0.07</td>\n",
       "      <td>-6.03</td>\n",
       "      <td>1.15</td>\n",
       "      <td>0.99</td>\n",
       "      <td>0.10</td>\n",
       "    </tr>\n",
       "  </tbody>\n",
       "</table>\n",
       "</div>"
      ],
      "text/plain": [
       "  Column2  Target  EQTA  EQTL  LLRTA  LLRGL  OEXTA  INCEMP   ROA    ROE  TDTL  \\\n",
       "0    1252       1  0.01  0.01   0.09   0.12   0.03 -593.17 -0.14 -15.77  1.23   \n",
       "1    3287       1  0.08  0.19   0.00   0.01   0.02   20.90  0.00   0.05  2.21   \n",
       "2    5672       1  0.00  0.00   0.07   0.10   0.03 -323.52 -0.06 -27.68  1.38   \n",
       "3    5702       1  0.02  0.02   0.03   0.04   0.04 -153.60 -0.05  -3.12  1.20   \n",
       "4    8221       1  0.01  0.01   0.04   0.05   0.04 -217.89 -0.07  -6.03  1.15   \n",
       "\n",
       "   TDTA  TATA  \n",
       "0  0.98  0.11  \n",
       "1  0.91  0.36  \n",
       "2  0.93  0.14  \n",
       "3  0.90  0.09  \n",
       "4  0.99  0.10  "
      ]
     },
     "execution_count": 320,
     "metadata": {},
     "output_type": "execute_result"
    }
   ],
   "source": [
    "dataset = ws.datasets['camels11'] \n",
    "df = dataset.to_pandas_dataframe()\n",
    "#df.pop('Column2')\n",
    "\n",
    "#len(df)\n",
    "df.head()\n",
    "#df.tail()"
   ]
  },
  {
   "cell_type": "markdown",
   "metadata": {},
   "source": [
    "### Checking for or creating appropriate `ComputeTarget`"
   ]
  },
  {
   "cell_type": "code",
   "execution_count": 53,
   "metadata": {
    "gather": {
     "logged": 1616608806079
    }
   },
   "outputs": [
    {
     "name": "stdout",
     "output_type": "stream",
     "text": [
      "Existing compute target.\n",
      "{\n",
      "  \"errors\": [],\n",
      "  \"creationTime\": \"2021-03-24T17:46:03.595148+00:00\",\n",
      "  \"createdBy\": {\n",
      "    \"userObjectId\": \"49e75006-b9ac-415c-9176-f83c59d4bf26\",\n",
      "    \"userTenantId\": \"d689239e-c492-40c6-b391-2c5951d31d14\",\n",
      "    \"userName\": null\n",
      "  },\n",
      "  \"modifiedTime\": \"2021-03-24T17:48:35.815670+00:00\",\n",
      "  \"state\": \"Running\",\n",
      "  \"vmSize\": \"STANDARD_DS2_V2\"\n",
      "}\n"
     ]
    }
   ],
   "source": [
    "cpu_cluster_name = 'my-cmp'\n",
    "\n",
    "try:\n",
    "    compute_target = ComputeTarget(workspace=ws, name=cpu_cluster_name)\n",
    "    print('Existing compute target.')\n",
    "\n",
    "except:\n",
    "    print('Creating compute target.')\n",
    "    compute_config = AmlCompute.provisioning_configuration(vm_size='STANDARD_D2_V2', max_nodes=4)\n",
    "    compute_target = ComputeTarget.create(ws, cpu_cluster_name, compute_config)\n",
    "\n",
    "print(compute_target.get_status())"
   ]
  },
  {
   "cell_type": "markdown",
   "metadata": {},
   "source": [
    "## AutoML Configuration\n",
    "### Primary metric determins configuaration\n",
    "Financial metrics recorded in the last reports of the failed banks should have predictive power that is needed to forecast future failures. Due to significant class imbalances and taking into account costs accosiated with financial distress, the model should aim to maximize the recall score. In other words, accuracy is probably not the best metrics, as Type II error needs to be minimized. This is why the main focus of this classification should be on maximizing AUC, hopefully, by achieving good recall score. This is why 'norm_macro_recall' was chosen as a primary metric. Timeout and number of concurrent iterations were set conservatively to control the costs."
   ]
  },
  {
   "cell_type": "code",
   "execution_count": 54,
   "metadata": {
    "gather": {
     "logged": 1616608814673
    }
   },
   "outputs": [],
   "source": [
    "automl_settings = {\n",
    "    \"experiment_timeout_minutes\": 20,\n",
    "    \"max_concurrent_iterations\": 4,\n",
    "    \"primary_metric\" : 'norm_macro_recall',\n",
    "    \"verbosity\": logging.INFO\n",
    "    }\n",
    "\n",
    "automl_config = AutoMLConfig(\n",
    "    compute_target=compute_target, \n",
    "    task = \"classification\",\n",
    "    training_data=dataset, \n",
    "    label_column_name=\"Target\", \n",
    "    path = project_folder,\n",
    "    enable_early_stopping= True, \n",
    "    featurization= 'auto', \n",
    "    debug_log = \"automl_errors.log\",\n",
    "    **automl_settings\n",
    "    )"
   ]
  },
  {
   "cell_type": "markdown",
   "metadata": {},
   "source": [
    "## Run Details\n",
    "\n",
    "### Possible modeling choices \n",
    "Generally speaking, decision trees should work well for this task, as these models do not make any functional form assumptions, handle both categorical and continuous data well, and are easy to interpret. Tree-based models simply aim to reduce entropy at every split and are therefore very straightforward, no need to worry about missing data and scaling. They are not very stable though, as new data may produce a totally different tree, and they also tend to overfit.\n",
    "\n",
    "Possible solution would be model averaging - employing “wisdom of the crowd”. It seems that for the present task two paths are possible: reducing variance or reducing bias. The former implies complex model, i.e. starting with a bushy, high-variance tree and resampling with replacement, what will produce a family of Random Forest models. The later implies starting with a simple model, i.e. possible a stump, high-bias classifier and learning from miss-classified instances, what will produce a family of Boosting models.\n"
   ]
  },
  {
   "cell_type": "code",
   "execution_count": 55,
   "metadata": {
    "gather": {
     "logged": 1616549581425
    },
    "jupyter": {
     "outputs_hidden": false,
     "source_hidden": false
    },
    "nteract": {
     "transient": {
      "deleting": false
     }
    }
   },
   "outputs": [
    {
     "name": "stdout",
     "output_type": "stream",
     "text": [
      "Running on remote.\n"
     ]
    },
    {
     "data": {
      "application/vnd.jupyter.widget-view+json": {
       "model_id": "83f5a8493efa42f5a5ecd466582d38bc",
       "version_major": 2,
       "version_minor": 0
      },
      "text/plain": [
       "_AutoMLWidget(widget_settings={'childWidgetDisplay': 'popup', 'send_telemetry': False, 'log_level': 'INFO', 's…"
      ]
     },
     "metadata": {},
     "output_type": "display_data"
    },
    {
     "data": {
      "application/aml.mini.widget.v1": "{\"status\": \"Completed\", \"workbench_run_details_uri\": \"https://ml.azure.com/experiments/camels-clf/runs/AutoML_4c5ca835-d091-4fc7-b266-d5b7223c9ed6?wsid=/subscriptions/0c66ad45-500d-48af-80d3-0039ebf1975e/resourcegroups/final-rgp/workspaces/my_ws\", \"run_id\": \"AutoML_4c5ca835-d091-4fc7-b266-d5b7223c9ed6\", \"run_properties\": {\"run_id\": \"AutoML_4c5ca835-d091-4fc7-b266-d5b7223c9ed6\", \"created_utc\": \"2021-03-24T18:07:08.003868Z\", \"properties\": {\"num_iterations\": \"1000\", \"training_type\": \"TrainFull\", \"acquisition_function\": \"EI\", \"primary_metric\": \"norm_macro_recall\", \"train_split\": \"0\", \"acquisition_parameter\": \"0\", \"num_cross_validation\": null, \"target\": \"my-cmp\", \"AMLSettingsJsonString\": \"{\\\"path\\\":null,\\\"name\\\":\\\"camels-clf\\\",\\\"subscription_id\\\":\\\"0c66ad45-500d-48af-80d3-0039ebf1975e\\\",\\\"resource_group\\\":\\\"final-rgp\\\",\\\"workspace_name\\\":\\\"my_ws\\\",\\\"region\\\":\\\"eastus\\\",\\\"compute_target\\\":\\\"my-cmp\\\",\\\"spark_service\\\":null,\\\"azure_service\\\":\\\"remote\\\",\\\"many_models\\\":false,\\\"pipeline_fetch_max_batch_size\\\":1,\\\"iterations\\\":1000,\\\"primary_metric\\\":\\\"norm_macro_recall\\\",\\\"task_type\\\":\\\"classification\\\",\\\"data_script\\\":null,\\\"validation_size\\\":0.0,\\\"n_cross_validations\\\":null,\\\"y_min\\\":null,\\\"y_max\\\":null,\\\"num_classes\\\":null,\\\"featurization\\\":\\\"auto\\\",\\\"_ignore_package_version_incompatibilities\\\":false,\\\"is_timeseries\\\":false,\\\"max_cores_per_iteration\\\":1,\\\"max_concurrent_iterations\\\":4,\\\"iteration_timeout_minutes\\\":null,\\\"mem_in_mb\\\":null,\\\"enforce_time_on_windows\\\":false,\\\"experiment_timeout_minutes\\\":20,\\\"experiment_exit_score\\\":null,\\\"whitelist_models\\\":null,\\\"blacklist_algos\\\":[\\\"TensorFlowLinearClassifier\\\",\\\"TensorFlowDNN\\\"],\\\"supported_models\\\":[\\\"BernoulliNaiveBayes\\\",\\\"ExtremeRandomTrees\\\",\\\"LightGBM\\\",\\\"LinearSVM\\\",\\\"SVM\\\",\\\"LogisticRegression\\\",\\\"DecisionTree\\\",\\\"AveragedPerceptronClassifier\\\",\\\"TensorFlowLinearClassifier\\\",\\\"TensorFlowDNN\\\",\\\"MultinomialNaiveBayes\\\",\\\"SGD\\\",\\\"GradientBoosting\\\",\\\"KNN\\\",\\\"XGBoostClassifier\\\",\\\"RandomForest\\\"],\\\"private_models\\\":[],\\\"auto_blacklist\\\":true,\\\"blacklist_samples_reached\\\":false,\\\"exclude_nan_labels\\\":true,\\\"verbosity\\\":20,\\\"_debug_log\\\":\\\"azureml_automl.log\\\",\\\"show_warnings\\\":false,\\\"model_explainability\\\":true,\\\"service_url\\\":null,\\\"sdk_url\\\":null,\\\"sdk_packages\\\":null,\\\"enable_onnx_compatible_models\\\":false,\\\"enable_split_onnx_featurizer_estimator_models\\\":false,\\\"vm_type\\\":\\\"STANDARD_DS2_V2\\\",\\\"telemetry_verbosity\\\":20,\\\"send_telemetry\\\":true,\\\"enable_dnn\\\":false,\\\"scenario\\\":\\\"SDK-1.13.0\\\",\\\"environment_label\\\":null,\\\"force_text_dnn\\\":false,\\\"enable_feature_sweeping\\\":true,\\\"enable_early_stopping\\\":true,\\\"early_stopping_n_iters\\\":10,\\\"metrics\\\":null,\\\"enable_ensembling\\\":true,\\\"enable_stack_ensembling\\\":true,\\\"ensemble_iterations\\\":15,\\\"enable_tf\\\":false,\\\"enable_subsampling\\\":null,\\\"subsample_seed\\\":null,\\\"enable_nimbusml\\\":false,\\\"enable_streaming\\\":false,\\\"force_streaming\\\":false,\\\"track_child_runs\\\":true,\\\"allowed_private_models\\\":[],\\\"label_column_name\\\":\\\"Target\\\",\\\"weight_column_name\\\":null,\\\"cv_split_column_names\\\":null,\\\"enable_local_managed\\\":false,\\\"_local_managed_run_id\\\":null,\\\"cost_mode\\\":1,\\\"lag_length\\\":0,\\\"metric_operation\\\":\\\"maximize\\\",\\\"preprocess\\\":true}\", \"DataPrepJsonString\": \"{\\\\\\\"training_data\\\\\\\": \\\\\\\"{\\\\\\\\\\\\\\\"blocks\\\\\\\\\\\\\\\": [{\\\\\\\\\\\\\\\"id\\\\\\\\\\\\\\\": \\\\\\\\\\\\\\\"0bf14829-1c94-4233-bff9-0f3cb3de65f5\\\\\\\\\\\\\\\", \\\\\\\\\\\\\\\"type\\\\\\\\\\\\\\\": \\\\\\\\\\\\\\\"Microsoft.DPrep.GetDatastoreFilesBlock\\\\\\\\\\\\\\\", \\\\\\\\\\\\\\\"arguments\\\\\\\\\\\\\\\": {\\\\\\\\\\\\\\\"datastores\\\\\\\\\\\\\\\": [{\\\\\\\\\\\\\\\"datastoreName\\\\\\\\\\\\\\\": \\\\\\\\\\\\\\\"workspaceblobstore\\\\\\\\\\\\\\\", \\\\\\\\\\\\\\\"path\\\\\\\\\\\\\\\": \\\\\\\\\\\\\\\"UI/03-24-2021_054339_UTC/camel_data_after2010Q3.csv\\\\\\\\\\\\\\\", \\\\\\\\\\\\\\\"resourceGroup\\\\\\\\\\\\\\\": \\\\\\\\\\\\\\\"final-rgp\\\\\\\\\\\\\\\", \\\\\\\\\\\\\\\"subscription\\\\\\\\\\\\\\\": \\\\\\\\\\\\\\\"0c66ad45-500d-48af-80d3-0039ebf1975e\\\\\\\\\\\\\\\", \\\\\\\\\\\\\\\"workspaceName\\\\\\\\\\\\\\\": \\\\\\\\\\\\\\\"my_ws\\\\\\\\\\\\\\\"}]}, \\\\\\\\\\\\\\\"localData\\\\\\\\\\\\\\\": {}, \\\\\\\\\\\\\\\"isEnabled\\\\\\\\\\\\\\\": true, \\\\\\\\\\\\\\\"name\\\\\\\\\\\\\\\": null, \\\\\\\\\\\\\\\"annotation\\\\\\\\\\\\\\\": null}, {\\\\\\\\\\\\\\\"id\\\\\\\\\\\\\\\": \\\\\\\\\\\\\\\"361556db-a5fd-4242-aa07-756a05e08c0e\\\\\\\\\\\\\\\", \\\\\\\\\\\\\\\"type\\\\\\\\\\\\\\\": \\\\\\\\\\\\\\\"Microsoft.DPrep.ParseDelimitedBlock\\\\\\\\\\\\\\\", \\\\\\\\\\\\\\\"arguments\\\\\\\\\\\\\\\": {\\\\\\\\\\\\\\\"columnHeadersMode\\\\\\\\\\\\\\\": 1, \\\\\\\\\\\\\\\"fileEncoding\\\\\\\\\\\\\\\": 0, \\\\\\\\\\\\\\\"handleQuotedLineBreaks\\\\\\\\\\\\\\\": false, \\\\\\\\\\\\\\\"preview\\\\\\\\\\\\\\\": false, \\\\\\\\\\\\\\\"separator\\\\\\\\\\\\\\\": \\\\\\\\\\\\\\\",\\\\\\\\\\\\\\\", \\\\\\\\\\\\\\\"skipRows\\\\\\\\\\\\\\\": 0, \\\\\\\\\\\\\\\"skipRowsMode\\\\\\\\\\\\\\\": 0}, \\\\\\\\\\\\\\\"localData\\\\\\\\\\\\\\\": {}, \\\\\\\\\\\\\\\"isEnabled\\\\\\\\\\\\\\\": true, \\\\\\\\\\\\\\\"name\\\\\\\\\\\\\\\": null, \\\\\\\\\\\\\\\"annotation\\\\\\\\\\\\\\\": null}, {\\\\\\\\\\\\\\\"id\\\\\\\\\\\\\\\": \\\\\\\\\\\\\\\"af9a2324-93d4-44ac-8a84-d617089183c0\\\\\\\\\\\\\\\", \\\\\\\\\\\\\\\"type\\\\\\\\\\\\\\\": \\\\\\\\\\\\\\\"Microsoft.DPrep.DropColumnsBlock\\\\\\\\\\\\\\\", \\\\\\\\\\\\\\\"arguments\\\\\\\\\\\\\\\": {\\\\\\\\\\\\\\\"columns\\\\\\\\\\\\\\\": {\\\\\\\\\\\\\\\"type\\\\\\\\\\\\\\\": 0, \\\\\\\\\\\\\\\"details\\\\\\\\\\\\\\\": {\\\\\\\\\\\\\\\"selectedColumns\\\\\\\\\\\\\\\": [\\\\\\\\\\\\\\\"Path\\\\\\\\\\\\\\\", \\\\\\\\\\\\\\\"Column1\\\\\\\\\\\\\\\", \\\\\\\\\\\\\\\"AsOfDate\\\\\\\\\\\\\\\"]}}}, \\\\\\\\\\\\\\\"localData\\\\\\\\\\\\\\\": {}, \\\\\\\\\\\\\\\"isEnabled\\\\\\\\\\\\\\\": true, \\\\\\\\\\\\\\\"name\\\\\\\\\\\\\\\": null, \\\\\\\\\\\\\\\"annotation\\\\\\\\\\\\\\\": null}, {\\\\\\\\\\\\\\\"id\\\\\\\\\\\\\\\": \\\\\\\\\\\\\\\"71f4573a-148b-49c4-ba00-7d9920c6aabe\\\\\\\\\\\\\\\", \\\\\\\\\\\\\\\"type\\\\\\\\\\\\\\\": \\\\\\\\\\\\\\\"Microsoft.DPrep.SetColumnTypesBlock\\\\\\\\\\\\\\\", \\\\\\\\\\\\\\\"arguments\\\\\\\\\\\\\\\": {\\\\\\\\\\\\\\\"columnConversion\\\\\\\\\\\\\\\": [{\\\\\\\\\\\\\\\"column\\\\\\\\\\\\\\\": {\\\\\\\\\\\\\\\"type\\\\\\\\\\\\\\\": 2, \\\\\\\\\\\\\\\"details\\\\\\\\\\\\\\\": {\\\\\\\\\\\\\\\"selectedColumn\\\\\\\\\\\\\\\": \\\\\\\\\\\\\\\"Path\\\\\\\\\\\\\\\"}}, \\\\\\\\\\\\\\\"typeProperty\\\\\\\\\\\\\\\": 0}, {\\\\\\\\\\\\\\\"column\\\\\\\\\\\\\\\": {\\\\\\\\\\\\\\\"type\\\\\\\\\\\\\\\": 2, \\\\\\\\\\\\\\\"details\\\\\\\\\\\\\\\": {\\\\\\\\\\\\\\\"selectedColumn\\\\\\\\\\\\\\\": \\\\\\\\\\\\\\\"Column1\\\\\\\\\\\\\\\"}}, \\\\\\\\\\\\\\\"typeProperty\\\\\\\\\\\\\\\": 2}, {\\\\\\\\\\\\\\\"column\\\\\\\\\\\\\\\": {\\\\\\\\\\\\\\\"type\\\\\\\\\\\\\\\": 2, \\\\\\\\\\\\\\\"details\\\\\\\\\\\\\\\": {\\\\\\\\\\\\\\\"selectedColumn\\\\\\\\\\\\\\\": \\\\\\\\\\\\\\\"AsOfDate\\\\\\\\\\\\\\\"}}, \\\\\\\\\\\\\\\"typeArguments\\\\\\\\\\\\\\\": {\\\\\\\\\\\\\\\"dateTimeFormats\\\\\\\\\\\\\\\": [\\\\\\\\\\\\\\\"%m/%d/%Y\\\\\\\\\\\\\\\"]}, \\\\\\\\\\\\\\\"typeProperty\\\\\\\\\\\\\\\": 4}, {\\\\\\\\\\\\\\\"column\\\\\\\\\\\\\\\": {\\\\\\\\\\\\\\\"type\\\\\\\\\\\\\\\": 2, \\\\\\\\\\\\\\\"details\\\\\\\\\\\\\\\": {\\\\\\\\\\\\\\\"selectedColumn\\\\\\\\\\\\\\\": \\\\\\\\\\\\\\\"Target\\\\\\\\\\\\\\\"}}, \\\\\\\\\\\\\\\"typeProperty\\\\\\\\\\\\\\\": 2}, {\\\\\\\\\\\\\\\"column\\\\\\\\\\\\\\\": {\\\\\\\\\\\\\\\"type\\\\\\\\\\\\\\\": 2, \\\\\\\\\\\\\\\"details\\\\\\\\\\\\\\\": {\\\\\\\\\\\\\\\"selectedColumn\\\\\\\\\\\\\\\": \\\\\\\\\\\\\\\"EQTA\\\\\\\\\\\\\\\"}}, \\\\\\\\\\\\\\\"typeProperty\\\\\\\\\\\\\\\": 3}, {\\\\\\\\\\\\\\\"column\\\\\\\\\\\\\\\": {\\\\\\\\\\\\\\\"type\\\\\\\\\\\\\\\": 2, \\\\\\\\\\\\\\\"details\\\\\\\\\\\\\\\": {\\\\\\\\\\\\\\\"selectedColumn\\\\\\\\\\\\\\\": \\\\\\\\\\\\\\\"EQTL\\\\\\\\\\\\\\\"}}, \\\\\\\\\\\\\\\"typeProperty\\\\\\\\\\\\\\\": 3}, {\\\\\\\\\\\\\\\"column\\\\\\\\\\\\\\\": {\\\\\\\\\\\\\\\"type\\\\\\\\\\\\\\\": 2, \\\\\\\\\\\\\\\"details\\\\\\\\\\\\\\\": {\\\\\\\\\\\\\\\"selectedColumn\\\\\\\\\\\\\\\": \\\\\\\\\\\\\\\"LLRTA\\\\\\\\\\\\\\\"}}, \\\\\\\\\\\\\\\"typeProperty\\\\\\\\\\\\\\\": 3}, {\\\\\\\\\\\\\\\"column\\\\\\\\\\\\\\\": {\\\\\\\\\\\\\\\"type\\\\\\\\\\\\\\\": 2, \\\\\\\\\\\\\\\"details\\\\\\\\\\\\\\\": {\\\\\\\\\\\\\\\"selectedColumn\\\\\\\\\\\\\\\": \\\\\\\\\\\\\\\"LLRGL\\\\\\\\\\\\\\\"}}, \\\\\\\\\\\\\\\"typeProperty\\\\\\\\\\\\\\\": 3}, {\\\\\\\\\\\\\\\"column\\\\\\\\\\\\\\\": {\\\\\\\\\\\\\\\"type\\\\\\\\\\\\\\\": 2, \\\\\\\\\\\\\\\"details\\\\\\\\\\\\\\\": {\\\\\\\\\\\\\\\"selectedColumn\\\\\\\\\\\\\\\": \\\\\\\\\\\\\\\"OEXTA\\\\\\\\\\\\\\\"}}, \\\\\\\\\\\\\\\"typeProperty\\\\\\\\\\\\\\\": 3}, {\\\\\\\\\\\\\\\"column\\\\\\\\\\\\\\\": {\\\\\\\\\\\\\\\"type\\\\\\\\\\\\\\\": 2, \\\\\\\\\\\\\\\"details\\\\\\\\\\\\\\\": {\\\\\\\\\\\\\\\"selectedColumn\\\\\\\\\\\\\\\": \\\\\\\\\\\\\\\"INCEMP\\\\\\\\\\\\\\\"}}, \\\\\\\\\\\\\\\"typeProperty\\\\\\\\\\\\\\\": 3}, {\\\\\\\\\\\\\\\"column\\\\\\\\\\\\\\\": {\\\\\\\\\\\\\\\"type\\\\\\\\\\\\\\\": 2, \\\\\\\\\\\\\\\"details\\\\\\\\\\\\\\\": {\\\\\\\\\\\\\\\"selectedColumn\\\\\\\\\\\\\\\": \\\\\\\\\\\\\\\"ROA\\\\\\\\\\\\\\\"}}, \\\\\\\\\\\\\\\"typeProperty\\\\\\\\\\\\\\\": 3}, {\\\\\\\\\\\\\\\"column\\\\\\\\\\\\\\\": {\\\\\\\\\\\\\\\"type\\\\\\\\\\\\\\\": 2, \\\\\\\\\\\\\\\"details\\\\\\\\\\\\\\\": {\\\\\\\\\\\\\\\"selectedColumn\\\\\\\\\\\\\\\": \\\\\\\\\\\\\\\"ROE\\\\\\\\\\\\\\\"}}, \\\\\\\\\\\\\\\"typeProperty\\\\\\\\\\\\\\\": 3}, {\\\\\\\\\\\\\\\"column\\\\\\\\\\\\\\\": {\\\\\\\\\\\\\\\"type\\\\\\\\\\\\\\\": 2, \\\\\\\\\\\\\\\"details\\\\\\\\\\\\\\\": {\\\\\\\\\\\\\\\"selectedColumn\\\\\\\\\\\\\\\": \\\\\\\\\\\\\\\"TDTL\\\\\\\\\\\\\\\"}}, \\\\\\\\\\\\\\\"typeProperty\\\\\\\\\\\\\\\": 3}, {\\\\\\\\\\\\\\\"column\\\\\\\\\\\\\\\": {\\\\\\\\\\\\\\\"type\\\\\\\\\\\\\\\": 2, \\\\\\\\\\\\\\\"details\\\\\\\\\\\\\\\": {\\\\\\\\\\\\\\\"selectedColumn\\\\\\\\\\\\\\\": \\\\\\\\\\\\\\\"TDTA\\\\\\\\\\\\\\\"}}, \\\\\\\\\\\\\\\"typeProperty\\\\\\\\\\\\\\\": 3}, {\\\\\\\\\\\\\\\"column\\\\\\\\\\\\\\\": {\\\\\\\\\\\\\\\"type\\\\\\\\\\\\\\\": 2, \\\\\\\\\\\\\\\"details\\\\\\\\\\\\\\\": {\\\\\\\\\\\\\\\"selectedColumn\\\\\\\\\\\\\\\": \\\\\\\\\\\\\\\"TATA\\\\\\\\\\\\\\\"}}, \\\\\\\\\\\\\\\"typeProperty\\\\\\\\\\\\\\\": 3}]}, \\\\\\\\\\\\\\\"localData\\\\\\\\\\\\\\\": {}, \\\\\\\\\\\\\\\"isEnabled\\\\\\\\\\\\\\\": true, \\\\\\\\\\\\\\\"name\\\\\\\\\\\\\\\": null, \\\\\\\\\\\\\\\"annotation\\\\\\\\\\\\\\\": null}], \\\\\\\\\\\\\\\"inspectors\\\\\\\\\\\\\\\": [], \\\\\\\\\\\\\\\"meta\\\\\\\\\\\\\\\": {\\\\\\\\\\\\\\\"savedDatasetId\\\\\\\\\\\\\\\": \\\\\\\\\\\\\\\"e5086eba-aa22-4910-82dd-5b196e33b205\\\\\\\\\\\\\\\", \\\\\\\\\\\\\\\"datasetType\\\\\\\\\\\\\\\": \\\\\\\\\\\\\\\"tabular\\\\\\\\\\\\\\\", \\\\\\\\\\\\\\\"subscriptionId\\\\\\\\\\\\\\\": \\\\\\\\\\\\\\\"0c66ad45-500d-48af-80d3-0039ebf1975e\\\\\\\\\\\\\\\", \\\\\\\\\\\\\\\"workspaceId\\\\\\\\\\\\\\\": \\\\\\\\\\\\\\\"76a84e9f-15e6-4c3b-a3d4-64fa11fb217b\\\\\\\\\\\\\\\", \\\\\\\\\\\\\\\"workspaceLocation\\\\\\\\\\\\\\\": \\\\\\\\\\\\\\\"eastus\\\\\\\\\\\\\\\"}}\\\\\\\", \\\\\\\"activities\\\\\\\": 0}\", \"EnableSubsampling\": null, \"runTemplate\": \"AutoML\", \"azureml.runsource\": \"automl\", \"display_task_type\": \"classification\", \"dependencies_versions\": \"{\\\"azureml-widgets\\\": \\\"1.22.0\\\", \\\"azureml-train\\\": \\\"1.22.0\\\", \\\"azureml-train-restclients-hyperdrive\\\": \\\"1.22.0\\\", \\\"azureml-train-core\\\": \\\"1.22.0\\\", \\\"azureml-train-automl\\\": \\\"1.22.0\\\", \\\"azureml-train-automl-runtime\\\": \\\"1.22.0\\\", \\\"azureml-train-automl-client\\\": \\\"1.22.0\\\", \\\"azureml-tensorboard\\\": \\\"1.22.0\\\", \\\"azureml-telemetry\\\": \\\"1.22.0\\\", \\\"azureml-sdk\\\": \\\"1.22.0\\\", \\\"azureml-samples\\\": \\\"0+unknown\\\", \\\"azureml-pipeline\\\": \\\"1.22.0\\\", \\\"azureml-pipeline-steps\\\": \\\"1.22.0\\\", \\\"azureml-pipeline-core\\\": \\\"1.22.0\\\", \\\"azureml-opendatasets\\\": \\\"1.22.0\\\", \\\"azureml-model-management-sdk\\\": \\\"1.0.1b6.post1\\\", \\\"azureml-mlflow\\\": \\\"1.22.0\\\", \\\"azureml-interpret\\\": \\\"1.22.0\\\", \\\"azureml-explain-model\\\": \\\"1.22.0\\\", \\\"azureml-defaults\\\": \\\"1.22.0\\\", \\\"azureml-dataset-runtime\\\": \\\"1.22.0\\\", \\\"azureml-dataprep\\\": \\\"2.9.1\\\", \\\"azureml-dataprep-rslex\\\": \\\"1.7.0\\\", \\\"azureml-dataprep-native\\\": \\\"29.0.0\\\", \\\"azureml-datadrift\\\": \\\"1.22.0\\\", \\\"azureml-core\\\": \\\"1.22.0\\\", \\\"azureml-contrib-services\\\": \\\"1.22.0\\\", \\\"azureml-contrib-server\\\": \\\"1.22.0\\\", \\\"azureml-contrib-reinforcementlearning\\\": \\\"1.22.0\\\", \\\"azureml-contrib-pipeline-steps\\\": \\\"1.22.0\\\", \\\"azureml-contrib-notebook\\\": \\\"1.22.0\\\", \\\"azureml-contrib-interpret\\\": \\\"1.22.0\\\", \\\"azureml-contrib-gbdt\\\": \\\"1.22.0\\\", \\\"azureml-contrib-fairness\\\": \\\"1.22.0\\\", \\\"azureml-contrib-dataset\\\": \\\"1.22.0\\\", \\\"azureml-cli-common\\\": \\\"1.22.0\\\", \\\"azureml-automl-runtime\\\": \\\"1.22.0\\\", \\\"azureml-automl-core\\\": \\\"1.22.0\\\", \\\"azureml-accel-models\\\": \\\"1.22.0\\\"}\", \"_aml_system_scenario_identification\": \"Remote.Parent\", \"ClientType\": \"SDK\", \"environment_cpu_name\": \"AzureML-AutoML\", \"environment_cpu_label\": \"prod\", \"environment_gpu_name\": \"AzureML-AutoML-GPU\", \"environment_gpu_label\": \"prod\", \"root_attribution\": \"automl\", \"attribution\": \"AutoML\", \"Orchestrator\": \"AutoML\", \"CancelUri\": \"https://eastus.experiments.azureml.net/jasmine/v1.0/subscriptions/0c66ad45-500d-48af-80d3-0039ebf1975e/resourceGroups/final-rgp/providers/Microsoft.MachineLearningServices/workspaces/my_ws/experimentids/7ef4db68-2cc8-4556-b9f5-a0915e73df6e/cancel/AutoML_4c5ca835-d091-4fc7-b266-d5b7223c9ed6\", \"ClientSdkVersion\": \"1.24.0\", \"snapshotId\": \"00000000-0000-0000-0000-000000000000\", \"SetupRunId\": \"AutoML_4c5ca835-d091-4fc7-b266-d5b7223c9ed6_setup\", \"SetupRunContainerId\": \"dcid.AutoML_4c5ca835-d091-4fc7-b266-d5b7223c9ed6_setup\", \"FeaturizationRunJsonPath\": \"featurizer_container.json\", \"FeaturizationRunId\": \"AutoML_4c5ca835-d091-4fc7-b266-d5b7223c9ed6_featurize\", \"ProblemInfoJsonString\": \"{\\\"dataset_num_categorical\\\": 0, \\\"is_sparse\\\": false, \\\"subsampling\\\": false, \\\"dataset_classes\\\": 2, \\\"dataset_features\\\": 11, \\\"dataset_samples\\\": 7020, \\\"single_frequency_class_detected\\\": false}\", \"ModelExplainRunId\": \"AutoML_4c5ca835-d091-4fc7-b266-d5b7223c9ed6_ModelExplain\"}, \"tags\": {\"model_explain_run\": \"best_run\", \"_aml_system_azureml.automlComponent\": \"AutoML\", \"pipeline_id\": \"\", \"score\": \"\", \"predicted_cost\": \"\", \"fit_time\": \"\", \"training_percent\": \"\", \"iteration\": \"\", \"run_preprocessor\": \"\", \"run_algorithm\": \"\", \"dynamic_whitelisting_iterations\": \"<25>;<30>;<35>;\", \"automl_best_child_run_id\": \"AutoML_4c5ca835-d091-4fc7-b266-d5b7223c9ed6_36\", \"model_explain_best_run_child_id\": \"AutoML_4c5ca835-d091-4fc7-b266-d5b7223c9ed6_36\"}, \"end_time_utc\": \"2021-03-24T18:25:10.00042Z\", \"status\": \"Completed\", \"log_files\": {}, \"log_groups\": [], \"run_duration\": \"0:18:01\", \"run_number\": \"6\", \"run_queued_details\": {\"status\": \"Completed\", \"details\": null}}, \"child_runs\": [{\"run_id\": \"AutoML_4c5ca835-d091-4fc7-b266-d5b7223c9ed6_0\", \"run_number\": 10, \"metric\": null, \"status\": \"Completed\", \"run_type\": \"azureml.scriptrun\", \"training_percent\": \"100\", \"start_time\": \"2021-03-24T18:12:49.488994Z\", \"end_time\": \"2021-03-24T18:13:41.422521Z\", \"created_time\": \"2021-03-24T18:12:30.679878Z\", \"created_time_dt\": \"2021-03-24T18:12:30.679878Z\", \"duration\": \"0:01:10\", \"iteration\": \"0\", \"goal\": \"norm_macro_recall_max\", \"run_name\": \"MaxAbsScaler, LightGBM\", \"run_properties\": \"copy=True\", \"primary_metric\": 0.56279309, \"best_metric\": 0.56279309}, {\"run_id\": \"AutoML_4c5ca835-d091-4fc7-b266-d5b7223c9ed6_2\", \"run_number\": 11, \"metric\": null, \"status\": \"Completed\", \"run_type\": \"azureml.scriptrun\", \"training_percent\": \"100\", \"start_time\": \"2021-03-24T18:12:48.148747Z\", \"end_time\": \"2021-03-24T18:13:35.557846Z\", \"created_time\": \"2021-03-24T18:12:30.826201Z\", \"created_time_dt\": \"2021-03-24T18:12:30.826201Z\", \"duration\": \"0:01:04\", \"iteration\": \"2\", \"goal\": \"norm_macro_recall_max\", \"run_name\": \"MinMaxScaler, RandomForest\", \"run_properties\": \"copy=True, feature_range=(0, 1\", \"primary_metric\": 0.91755455, \"best_metric\": 0.91755455}, {\"run_id\": \"AutoML_4c5ca835-d091-4fc7-b266-d5b7223c9ed6_1\", \"run_number\": 12, \"metric\": null, \"status\": \"Completed\", \"run_type\": \"azureml.scriptrun\", \"training_percent\": \"100\", \"start_time\": \"2021-03-24T18:12:49.99427Z\", \"end_time\": \"2021-03-24T18:13:50.472557Z\", \"created_time\": \"2021-03-24T18:12:30.864934Z\", \"created_time_dt\": \"2021-03-24T18:12:30.864934Z\", \"duration\": \"0:01:19\", \"iteration\": \"1\", \"goal\": \"norm_macro_recall_max\", \"run_name\": \"MaxAbsScaler, XGBoostClassifier\", \"run_properties\": \"copy=True\", \"primary_metric\": 0.67745474, \"best_metric\": 0.67745474}, {\"run_id\": \"AutoML_4c5ca835-d091-4fc7-b266-d5b7223c9ed6_3\", \"run_number\": 13, \"metric\": null, \"status\": \"Completed\", \"run_type\": \"azureml.scriptrun\", \"training_percent\": \"100\", \"start_time\": \"2021-03-24T18:12:48.223614Z\", \"end_time\": \"2021-03-24T18:13:51.330492Z\", \"created_time\": \"2021-03-24T18:12:30.823707Z\", \"created_time_dt\": \"2021-03-24T18:12:30.823707Z\", \"duration\": \"0:01:20\", \"iteration\": \"3\", \"goal\": \"norm_macro_recall_max\", \"run_name\": \"MinMaxScaler, RandomForest\", \"run_properties\": \"copy=True, feature_range=(0, 1\", \"primary_metric\": 0.62115092, \"best_metric\": 0.91755455}, {\"run_id\": \"AutoML_4c5ca835-d091-4fc7-b266-d5b7223c9ed6_4\", \"run_number\": 14, \"metric\": null, \"status\": \"Completed\", \"run_type\": \"azureml.scriptrun\", \"training_percent\": \"100\", \"start_time\": \"2021-03-24T18:14:00.035238Z\", \"end_time\": \"2021-03-24T18:14:41.709426Z\", \"created_time\": \"2021-03-24T18:13:42.729432Z\", \"created_time_dt\": \"2021-03-24T18:13:42.729432Z\", \"duration\": \"0:00:58\", \"iteration\": \"4\", \"goal\": \"norm_macro_recall_max\", \"run_name\": \"StandardScalerWrapper, RandomForest\", \"run_properties\": \"<azureml.automl.runtime.shared.model_wrappers.StandardScalerWrapper object at 0x7fa3f2edf080\", \"primary_metric\": 0.92371429, \"best_metric\": 0.92371429}, {\"run_id\": \"AutoML_4c5ca835-d091-4fc7-b266-d5b7223c9ed6_5\", \"run_number\": 15, \"metric\": null, \"status\": \"Completed\", \"run_type\": \"azureml.scriptrun\", \"training_percent\": \"100\", \"start_time\": \"2021-03-24T18:14:11.171321Z\", \"end_time\": \"2021-03-24T18:15:01.527383Z\", \"created_time\": \"2021-03-24T18:13:53.301486Z\", \"created_time_dt\": \"2021-03-24T18:13:53.301486Z\", \"duration\": \"0:01:08\", \"iteration\": \"5\", \"goal\": \"norm_macro_recall_max\", \"run_name\": \"StandardScalerWrapper, RandomForest\", \"run_properties\": \"<azureml.automl.runtime.shared.model_wrappers.StandardScalerWrapper object at 0x7fb527dc1ba8\", \"primary_metric\": 0.75612745, \"best_metric\": 0.92371429}, {\"run_id\": \"AutoML_4c5ca835-d091-4fc7-b266-d5b7223c9ed6_6\", \"run_number\": 16, \"metric\": null, \"status\": \"Completed\", \"run_type\": \"azureml.scriptrun\", \"training_percent\": \"100\", \"start_time\": \"2021-03-24T18:14:21.590886Z\", \"end_time\": \"2021-03-24T18:15:27.911755Z\", \"created_time\": \"2021-03-24T18:14:05.218209Z\", \"created_time_dt\": \"2021-03-24T18:14:05.218209Z\", \"duration\": \"0:01:22\", \"iteration\": \"6\", \"goal\": \"norm_macro_recall_max\", \"run_name\": \"MinMaxScaler, ExtremeRandomTrees\", \"run_properties\": \"copy=True, feature_range=(0, 1\", \"primary_metric\": 0.54331072, \"best_metric\": 0.92371429}, {\"run_id\": \"AutoML_4c5ca835-d091-4fc7-b266-d5b7223c9ed6_7\", \"run_number\": 17, \"metric\": null, \"status\": \"Completed\", \"run_type\": \"azureml.scriptrun\", \"training_percent\": \"100\", \"start_time\": \"2021-03-24T18:14:20.876732Z\", \"end_time\": \"2021-03-24T18:15:23.732391Z\", \"created_time\": \"2021-03-24T18:14:05.363508Z\", \"created_time_dt\": \"2021-03-24T18:14:05.363508Z\", \"duration\": \"0:01:18\", \"iteration\": \"7\", \"goal\": \"norm_macro_recall_max\", \"run_name\": \"MinMaxScaler, RandomForest\", \"run_properties\": \"copy=True, feature_range=(0, 1\", \"primary_metric\": 0.0, \"best_metric\": 0.92371429}, {\"run_id\": \"AutoML_4c5ca835-d091-4fc7-b266-d5b7223c9ed6_8\", \"run_number\": 18, \"metric\": null, \"status\": \"Completed\", \"run_type\": \"azureml.scriptrun\", \"training_percent\": \"100\", \"start_time\": \"2021-03-24T18:14:59.287344Z\", \"end_time\": \"2021-03-24T18:15:43.200144Z\", \"created_time\": \"2021-03-24T18:14:45.234899Z\", \"created_time_dt\": \"2021-03-24T18:14:45.234899Z\", \"duration\": \"0:00:57\", \"iteration\": \"8\", \"goal\": \"norm_macro_recall_max\", \"run_name\": \"MinMaxScaler, ExtremeRandomTrees\", \"run_properties\": \"copy=True, feature_range=(0, 1\", \"primary_metric\": 0.0, \"best_metric\": 0.92371429}, {\"run_id\": \"AutoML_4c5ca835-d091-4fc7-b266-d5b7223c9ed6_9\", \"run_number\": 19, \"metric\": null, \"status\": \"Completed\", \"run_type\": \"azureml.scriptrun\", \"training_percent\": \"100\", \"start_time\": \"2021-03-24T18:15:19.04289Z\", \"end_time\": \"2021-03-24T18:16:27.777896Z\", \"created_time\": \"2021-03-24T18:15:05.099038Z\", \"created_time_dt\": \"2021-03-24T18:15:05.099038Z\", \"duration\": \"0:01:22\", \"iteration\": \"9\", \"goal\": \"norm_macro_recall_max\", \"run_name\": \"RobustScaler, ExtremeRandomTrees\", \"run_properties\": \"copy=True, quantile_range=[10, 90], with_centering=False,\\n             with_scaling=False\", \"primary_metric\": 0.0, \"best_metric\": 0.92371429}, {\"run_id\": \"AutoML_4c5ca835-d091-4fc7-b266-d5b7223c9ed6_10\", \"run_number\": 20, \"metric\": null, \"status\": \"Completed\", \"run_type\": \"azureml.scriptrun\", \"training_percent\": \"100\", \"start_time\": \"2021-03-24T18:15:45.51463Z\", \"end_time\": \"2021-03-24T18:16:25.881155Z\", \"created_time\": \"2021-03-24T18:15:30.180232Z\", \"created_time_dt\": \"2021-03-24T18:15:30.180232Z\", \"duration\": \"0:00:55\", \"iteration\": \"10\", \"goal\": \"norm_macro_recall_max\", \"run_name\": \"MinMaxScaler, ExtremeRandomTrees\", \"run_properties\": \"copy=True, feature_range=(0, 1\", \"primary_metric\": 0.0, \"best_metric\": 0.92371429}, {\"run_id\": \"AutoML_4c5ca835-d091-4fc7-b266-d5b7223c9ed6_11\", \"run_number\": 21, \"metric\": null, \"status\": \"Completed\", \"run_type\": \"azureml.scriptrun\", \"training_percent\": \"100\", \"start_time\": \"2021-03-24T18:15:51.517014Z\", \"end_time\": \"2021-03-24T18:16:30.553526Z\", \"created_time\": \"2021-03-24T18:15:38.701175Z\", \"created_time_dt\": \"2021-03-24T18:15:38.701175Z\", \"duration\": \"0:00:51\", \"iteration\": \"11\", \"goal\": \"norm_macro_recall_max\", \"run_name\": \"RobustScaler, ExtremeRandomTrees\", \"run_properties\": \"copy=True, quantile_range=[10, 90], with_centering=True,\\n             with_scaling=False\", \"primary_metric\": 0.0, \"best_metric\": 0.92371429}, {\"run_id\": \"AutoML_4c5ca835-d091-4fc7-b266-d5b7223c9ed6_12\", \"run_number\": 22, \"metric\": null, \"status\": \"Completed\", \"run_type\": \"azureml.scriptrun\", \"training_percent\": \"100\", \"start_time\": \"2021-03-24T18:16:01.082449Z\", \"end_time\": \"2021-03-24T18:16:43.650701Z\", \"created_time\": \"2021-03-24T18:15:47.755004Z\", \"created_time_dt\": \"2021-03-24T18:15:47.755004Z\", \"duration\": \"0:00:55\", \"iteration\": \"12\", \"goal\": \"norm_macro_recall_max\", \"run_name\": \"StandardScalerWrapper, ExtremeRandomTrees\", \"run_properties\": \"<azureml.automl.runtime.shared.model_wrappers.StandardScalerWrapper object at 0x7f61edcc0358\", \"primary_metric\": 0.83746851, \"best_metric\": 0.92371429}, {\"run_id\": \"AutoML_4c5ca835-d091-4fc7-b266-d5b7223c9ed6_13\", \"run_number\": 23, \"metric\": null, \"status\": \"Completed\", \"run_type\": \"azureml.scriptrun\", \"training_percent\": \"100\", \"start_time\": \"2021-03-24T18:16:49.30272Z\", \"end_time\": \"2021-03-24T18:17:52.916226Z\", \"created_time\": \"2021-03-24T18:16:32.133084Z\", \"created_time_dt\": \"2021-03-24T18:16:32.133084Z\", \"duration\": \"0:01:20\", \"iteration\": \"13\", \"goal\": \"norm_macro_recall_max\", \"run_name\": \"StandardScalerWrapper, SGD\", \"run_properties\": \"<azureml.automl.runtime.shared.model_wrappers.StandardScalerWrapper object at 0x7f0c0de93dd8\", \"primary_metric\": 0.38033776, \"best_metric\": 0.92371429}, {\"run_id\": \"AutoML_4c5ca835-d091-4fc7-b266-d5b7223c9ed6_14\", \"run_number\": 24, \"metric\": null, \"status\": \"Completed\", \"run_type\": \"azureml.scriptrun\", \"training_percent\": \"100\", \"start_time\": \"2021-03-24T18:16:48.350044Z\", \"end_time\": \"2021-03-24T18:17:32.830009Z\", \"created_time\": \"2021-03-24T18:16:32.592744Z\", \"created_time_dt\": \"2021-03-24T18:16:32.592744Z\", \"duration\": \"0:01:00\", \"iteration\": \"14\", \"goal\": \"norm_macro_recall_max\", \"run_name\": \"RobustScaler, RandomForest\", \"run_properties\": \"copy=True, quantile_range=[10, 90], with_centering=True,\\n             with_scaling=False\", \"primary_metric\": 0.91849199, \"best_metric\": 0.92371429}, {\"run_id\": \"AutoML_4c5ca835-d091-4fc7-b266-d5b7223c9ed6_15\", \"run_number\": 25, \"metric\": null, \"status\": \"Completed\", \"run_type\": \"azureml.scriptrun\", \"training_percent\": \"100\", \"start_time\": \"2021-03-24T18:16:54.966979Z\", \"end_time\": \"2021-03-24T18:17:39.511185Z\", \"created_time\": \"2021-03-24T18:16:40.309103Z\", \"created_time_dt\": \"2021-03-24T18:16:40.309103Z\", \"duration\": \"0:00:59\", \"iteration\": \"15\", \"goal\": \"norm_macro_recall_max\", \"run_name\": \"MinMaxScaler, ExtremeRandomTrees\", \"run_properties\": \"copy=True, feature_range=(0, 1\", \"primary_metric\": 0.0, \"best_metric\": 0.92371429}, {\"run_id\": \"AutoML_4c5ca835-d091-4fc7-b266-d5b7223c9ed6_16\", \"run_number\": 26, \"metric\": null, \"status\": \"Completed\", \"run_type\": \"azureml.scriptrun\", \"training_percent\": \"100\", \"start_time\": \"2021-03-24T18:17:02.760567Z\", \"end_time\": \"2021-03-24T18:17:56.970955Z\", \"created_time\": \"2021-03-24T18:16:48.239512Z\", \"created_time_dt\": \"2021-03-24T18:16:48.239512Z\", \"duration\": \"0:01:08\", \"iteration\": \"16\", \"goal\": \"norm_macro_recall_max\", \"run_name\": \"StandardScalerWrapper, RandomForest\", \"run_properties\": \"<azureml.automl.runtime.shared.model_wrappers.StandardScalerWrapper object at 0x7f14697db9e8\", \"primary_metric\": 0.93336035, \"best_metric\": 0.93336035}, {\"run_id\": \"AutoML_4c5ca835-d091-4fc7-b266-d5b7223c9ed6_17\", \"run_number\": 27, \"metric\": null, \"status\": \"Completed\", \"run_type\": \"azureml.scriptrun\", \"training_percent\": \"100\", \"start_time\": \"2021-03-24T18:18:03.73533Z\", \"end_time\": \"2021-03-24T18:18:51.607843Z\", \"created_time\": \"2021-03-24T18:17:37.342928Z\", \"created_time_dt\": \"2021-03-24T18:17:37.342928Z\", \"duration\": \"0:01:14\", \"iteration\": \"17\", \"goal\": \"norm_macro_recall_max\", \"run_name\": \"RobustScaler, ExtremeRandomTrees\", \"run_properties\": \"copy=True, quantile_range=[10, 90], with_centering=True,\\n             with_scaling=False\", \"primary_metric\": 0.0, \"best_metric\": 0.93336035}, {\"run_id\": \"AutoML_4c5ca835-d091-4fc7-b266-d5b7223c9ed6_18\", \"run_number\": 28, \"metric\": null, \"status\": \"Completed\", \"run_type\": \"azureml.scriptrun\", \"training_percent\": \"100\", \"start_time\": \"2021-03-24T18:18:08.75664Z\", \"end_time\": \"2021-03-24T18:19:03.645277Z\", \"created_time\": \"2021-03-24T18:17:44.25787Z\", \"created_time_dt\": \"2021-03-24T18:17:44.25787Z\", \"duration\": \"0:01:19\", \"iteration\": \"18\", \"goal\": \"norm_macro_recall_max\", \"run_name\": \"RobustScaler, RandomForest\", \"run_properties\": \"copy=True, quantile_range=[25, 75], with_centering=True,\\n             with_scaling=False\", \"primary_metric\": 0.90134726, \"best_metric\": 0.93336035}, {\"run_id\": \"AutoML_4c5ca835-d091-4fc7-b266-d5b7223c9ed6_19\", \"run_number\": 29, \"metric\": null, \"status\": \"Completed\", \"run_type\": \"azureml.scriptrun\", \"training_percent\": \"100\", \"start_time\": \"2021-03-24T18:18:27.849259Z\", \"end_time\": \"2021-03-24T18:19:20.379334Z\", \"created_time\": \"2021-03-24T18:17:58.780995Z\", \"created_time_dt\": \"2021-03-24T18:17:58.780995Z\", \"duration\": \"0:01:21\", \"iteration\": \"19\", \"goal\": \"norm_macro_recall_max\", \"run_name\": \"MinMaxScaler, ExtremeRandomTrees\", \"run_properties\": \"copy=True, feature_range=(0, 1\", \"primary_metric\": 0.8259431, \"best_metric\": 0.93336035}, {\"run_id\": \"AutoML_4c5ca835-d091-4fc7-b266-d5b7223c9ed6_20\", \"run_number\": 30, \"metric\": null, \"status\": \"Completed\", \"run_type\": \"azureml.scriptrun\", \"training_percent\": \"100\", \"start_time\": \"2021-03-24T18:18:31.042246Z\", \"end_time\": \"2021-03-24T18:20:05.855592Z\", \"created_time\": \"2021-03-24T18:18:08.542525Z\", \"created_time_dt\": \"2021-03-24T18:18:08.542525Z\", \"duration\": \"0:01:57\", \"iteration\": \"20\", \"goal\": \"norm_macro_recall_max\", \"run_name\": \"MaxAbsScaler, ExtremeRandomTrees\", \"run_properties\": \"copy=True\", \"primary_metric\": 0.87522538, \"best_metric\": 0.93336035}, {\"run_id\": \"AutoML_4c5ca835-d091-4fc7-b266-d5b7223c9ed6_21\", \"run_number\": 31, \"metric\": null, \"status\": \"Completed\", \"run_type\": \"azureml.scriptrun\", \"training_percent\": \"100\", \"start_time\": \"2021-03-24T18:19:07.430923Z\", \"end_time\": \"2021-03-24T18:20:01.830837Z\", \"created_time\": \"2021-03-24T18:18:55.270564Z\", \"created_time_dt\": \"2021-03-24T18:18:55.270564Z\", \"duration\": \"0:01:06\", \"iteration\": \"21\", \"goal\": \"norm_macro_recall_max\", \"run_name\": \"StandardScalerWrapper, XGBoostClassifier\", \"run_properties\": \"<azureml.automl.runtime.shared.model_wrappers.StandardScalerWrapper object at 0x7f8992aff208\", \"primary_metric\": 0.68680394, \"best_metric\": 0.93336035}, {\"run_id\": \"AutoML_4c5ca835-d091-4fc7-b266-d5b7223c9ed6_22\", \"run_number\": 32, \"metric\": null, \"status\": \"Completed\", \"run_type\": \"azureml.scriptrun\", \"training_percent\": \"100\", \"start_time\": \"2021-03-24T18:19:22.350359Z\", \"end_time\": \"2021-03-24T18:20:16.205624Z\", \"created_time\": \"2021-03-24T18:19:07.448246Z\", \"created_time_dt\": \"2021-03-24T18:19:07.448246Z\", \"duration\": \"0:01:08\", \"iteration\": \"22\", \"goal\": \"norm_macro_recall_max\", \"run_name\": \"MaxAbsScaler, RandomForest\", \"run_properties\": \"copy=True\", \"primary_metric\": 0.39803626, \"best_metric\": 0.93336035}, {\"run_id\": \"AutoML_4c5ca835-d091-4fc7-b266-d5b7223c9ed6_23\", \"run_number\": 33, \"metric\": null, \"status\": \"Completed\", \"run_type\": \"azureml.scriptrun\", \"training_percent\": \"100\", \"start_time\": \"2021-03-24T18:19:40.062452Z\", \"end_time\": \"2021-03-24T18:20:19.224819Z\", \"created_time\": \"2021-03-24T18:19:24.499041Z\", \"created_time_dt\": \"2021-03-24T18:19:24.499041Z\", \"duration\": \"0:00:54\", \"iteration\": \"23\", \"goal\": \"norm_macro_recall_max\", \"run_name\": \"MaxAbsScaler, ExtremeRandomTrees\", \"run_properties\": \"copy=True\", \"primary_metric\": 0.89016787, \"best_metric\": 0.93336035}, {\"run_id\": \"AutoML_4c5ca835-d091-4fc7-b266-d5b7223c9ed6_24\", \"run_number\": 34, \"metric\": null, \"status\": \"Completed\", \"run_type\": \"azureml.scriptrun\", \"training_percent\": \"100\", \"start_time\": \"2021-03-24T18:20:17.384448Z\", \"end_time\": \"2021-03-24T18:21:05.772649Z\", \"created_time\": \"2021-03-24T18:20:08.012165Z\", \"created_time_dt\": \"2021-03-24T18:20:08.012165Z\", \"duration\": \"0:00:57\", \"iteration\": \"24\", \"goal\": \"norm_macro_recall_max\", \"run_name\": \"StandardScalerWrapper, ExtremeRandomTrees\", \"run_properties\": \"<azureml.automl.runtime.shared.model_wrappers.StandardScalerWrapper object at 0x7f879e018da0\", \"primary_metric\": 0.89103639, \"best_metric\": 0.93336035}, {\"run_id\": \"AutoML_4c5ca835-d091-4fc7-b266-d5b7223c9ed6_25\", \"run_number\": 35, \"metric\": null, \"status\": \"Completed\", \"run_type\": \"azureml.scriptrun\", \"training_percent\": \"100\", \"start_time\": \"2021-03-24T18:20:26.31403Z\", \"end_time\": \"2021-03-24T18:21:16.285749Z\", \"created_time\": \"2021-03-24T18:20:16.870291Z\", \"created_time_dt\": \"2021-03-24T18:20:16.870291Z\", \"duration\": \"0:00:59\", \"iteration\": \"25\", \"goal\": \"norm_macro_recall_max\", \"run_name\": \"MaxAbsScaler, RandomForest\", \"run_properties\": \"copy=True\", \"primary_metric\": 0.0, \"best_metric\": 0.93336035}, {\"run_id\": \"AutoML_4c5ca835-d091-4fc7-b266-d5b7223c9ed6_26\", \"run_number\": 36, \"metric\": null, \"status\": \"Completed\", \"run_type\": \"azureml.scriptrun\", \"training_percent\": \"100\", \"start_time\": \"2021-03-24T18:20:36.40051Z\", \"end_time\": \"2021-03-24T18:21:22.154482Z\", \"created_time\": \"2021-03-24T18:20:23.022402Z\", \"created_time_dt\": \"2021-03-24T18:20:23.022402Z\", \"duration\": \"0:00:59\", \"iteration\": \"26\", \"goal\": \"norm_macro_recall_max\", \"run_name\": \"StandardScalerWrapper, LightGBM\", \"run_properties\": \"<azureml.automl.runtime.shared.model_wrappers.StandardScalerWrapper object at 0x7f5e05cbf160\", \"primary_metric\": 0.68638627, \"best_metric\": 0.93336035}, {\"run_id\": \"AutoML_4c5ca835-d091-4fc7-b266-d5b7223c9ed6_27\", \"run_number\": 37, \"metric\": null, \"status\": \"Completed\", \"run_type\": \"azureml.scriptrun\", \"training_percent\": \"100\", \"start_time\": \"2021-03-24T18:20:38.075388Z\", \"end_time\": \"2021-03-24T18:21:31.959724Z\", \"created_time\": \"2021-03-24T18:20:23.238475Z\", \"created_time_dt\": \"2021-03-24T18:20:23.238475Z\", \"duration\": \"0:01:08\", \"iteration\": \"27\", \"goal\": \"norm_macro_recall_max\", \"run_name\": \"MinMaxScaler, GradientBoosting\", \"run_properties\": \"copy=True, feature_range=(0, 1\", \"primary_metric\": 0.71698359, \"best_metric\": 0.93336035}, {\"run_id\": \"AutoML_4c5ca835-d091-4fc7-b266-d5b7223c9ed6_28\", \"run_number\": 38, \"metric\": null, \"status\": \"Completed\", \"run_type\": \"azureml.scriptrun\", \"training_percent\": \"100\", \"start_time\": \"2021-03-24T18:21:26.79009Z\", \"end_time\": \"2021-03-24T18:22:13.966385Z\", \"created_time\": \"2021-03-24T18:21:09.494132Z\", \"created_time_dt\": \"2021-03-24T18:21:09.494132Z\", \"duration\": \"0:01:04\", \"iteration\": \"28\", \"goal\": \"norm_macro_recall_max\", \"run_name\": \"MinMaxScaler, LightGBM\", \"run_properties\": \"copy=True, feature_range=(0, 1\", \"primary_metric\": 0.43378632, \"best_metric\": 0.93336035}, {\"run_id\": \"AutoML_4c5ca835-d091-4fc7-b266-d5b7223c9ed6_29\", \"run_number\": 39, \"metric\": null, \"status\": \"Completed\", \"run_type\": \"azureml.scriptrun\", \"training_percent\": \"100\", \"start_time\": \"2021-03-24T18:21:30.946814Z\", \"end_time\": \"2021-03-24T18:22:18.591596Z\", \"created_time\": \"2021-03-24T18:21:19.336399Z\", \"created_time_dt\": \"2021-03-24T18:21:19.336399Z\", \"duration\": \"0:00:59\", \"iteration\": \"29\", \"goal\": \"norm_macro_recall_max\", \"run_name\": \"StandardScalerWrapper, LightGBM\", \"run_properties\": \"<azureml.automl.runtime.shared.model_wrappers.StandardScalerWrapper object at 0x7ff7390db5f8\", \"primary_metric\": 0.73023899, \"best_metric\": 0.93336035}, {\"run_id\": \"AutoML_4c5ca835-d091-4fc7-b266-d5b7223c9ed6_30\", \"run_number\": 40, \"metric\": null, \"status\": \"Completed\", \"run_type\": \"azureml.scriptrun\", \"training_percent\": \"100\", \"start_time\": \"2021-03-24T18:21:42.659744Z\", \"end_time\": \"2021-03-24T18:22:34.147083Z\", \"created_time\": \"2021-03-24T18:21:27.615466Z\", \"created_time_dt\": \"2021-03-24T18:21:27.615466Z\", \"duration\": \"0:01:06\", \"iteration\": \"30\", \"goal\": \"norm_macro_recall_max\", \"run_name\": \"MaxAbsScaler, RandomForest\", \"run_properties\": \"copy=True\", \"primary_metric\": 0.0, \"best_metric\": 0.93336035}, {\"run_id\": \"AutoML_4c5ca835-d091-4fc7-b266-d5b7223c9ed6_31\", \"run_number\": 41, \"metric\": null, \"status\": \"Completed\", \"run_type\": \"azureml.scriptrun\", \"training_percent\": \"100\", \"start_time\": \"2021-03-24T18:21:49.444452Z\", \"end_time\": \"2021-03-24T18:22:48.684439Z\", \"created_time\": \"2021-03-24T18:21:35.362764Z\", \"created_time_dt\": \"2021-03-24T18:21:35.362764Z\", \"duration\": \"0:01:13\", \"iteration\": \"31\", \"goal\": \"norm_macro_recall_max\", \"run_name\": \"MaxAbsScaler, ExtremeRandomTrees\", \"run_properties\": \"copy=True\", \"primary_metric\": 0.89829725, \"best_metric\": 0.93336035}, {\"run_id\": \"AutoML_4c5ca835-d091-4fc7-b266-d5b7223c9ed6_32\", \"run_number\": 42, \"metric\": null, \"status\": \"Completed\", \"run_type\": \"azureml.scriptrun\", \"training_percent\": \"100\", \"start_time\": \"2021-03-24T18:22:28.307907Z\", \"end_time\": \"2021-03-24T18:23:19.653306Z\", \"created_time\": \"2021-03-24T18:22:17.873244Z\", \"created_time_dt\": \"2021-03-24T18:22:17.873244Z\", \"duration\": \"0:01:01\", \"iteration\": \"32\", \"goal\": \"norm_macro_recall_max\", \"run_name\": \"MinMaxScaler, ExtremeRandomTrees\", \"run_properties\": \"copy=True, feature_range=(0, 1\", \"primary_metric\": 0.90471093, \"best_metric\": 0.93336035}, {\"run_id\": \"AutoML_4c5ca835-d091-4fc7-b266-d5b7223c9ed6_33\", \"run_number\": 43, \"metric\": null, \"status\": \"Canceled\", \"run_type\": \"azureml.scriptrun\", \"training_percent\": \"100\", \"start_time\": \"2021-03-24T18:22:34.585832Z\", \"end_time\": \"2021-03-24T18:23:31.076716Z\", \"created_time\": \"2021-03-24T18:22:23.951766Z\", \"created_time_dt\": \"2021-03-24T18:22:23.951766Z\", \"duration\": \"0:01:07\", \"iteration\": \"33\", \"goal\": \"norm_macro_recall_max\", \"run_name\": \"MinMaxScaler, ExtremeRandomTrees\", \"run_properties\": \"copy=True, feature_range=(0, 1\", \"primary_metric\": 0.82705398, \"best_metric\": 0.93336035}, {\"run_id\": \"AutoML_4c5ca835-d091-4fc7-b266-d5b7223c9ed6_34\", \"run_number\": 44, \"metric\": null, \"status\": \"Canceled\", \"run_type\": \"azureml.scriptrun\", \"training_percent\": \"100\", \"start_time\": \"2021-03-24T18:22:52.610824Z\", \"end_time\": \"2021-03-24T18:23:29.559527Z\", \"created_time\": \"2021-03-24T18:22:37.542713Z\", \"created_time_dt\": \"2021-03-24T18:22:37.542713Z\", \"duration\": \"0:00:52\", \"iteration\": \"34\", \"goal\": \"norm_macro_recall_max\", \"run_name\": \"StandardScalerWrapper, LightGBM\", \"run_properties\": \"<azureml.automl.runtime.shared.model_wrappers.StandardScalerWrapper object at 0x7f415ede7ba8\", \"primary_metric\": 0.68165448, \"best_metric\": 0.93336035}, {\"run_id\": \"AutoML_4c5ca835-d091-4fc7-b266-d5b7223c9ed6_35\", \"run_number\": 45, \"metric\": null, \"status\": \"Canceled\", \"run_type\": \"azureml.scriptrun\", \"training_percent\": \"100\", \"start_time\": \"2021-03-24T18:23:03.214445Z\", \"end_time\": \"2021-03-24T18:23:29.623772Z\", \"created_time\": \"2021-03-24T18:22:53.265988Z\", \"created_time_dt\": \"2021-03-24T18:22:53.265988Z\", \"duration\": \"0:00:36\", \"iteration\": \"35\", \"goal\": \"norm_macro_recall_max\", \"run_name\": \"StandardScalerWrapper, RandomForest\", \"run_properties\": \"<azureml.automl.runtime.shared.model_wrappers.StandardScalerWrapper object at 0x7f14b69fa278\", \"primary_metric\": 0.7851426, \"best_metric\": 0.93336035}, {\"run_id\": \"AutoML_4c5ca835-d091-4fc7-b266-d5b7223c9ed6_36\", \"run_number\": 46, \"metric\": null, \"status\": \"Completed\", \"run_type\": \"azureml.scriptrun\", \"training_percent\": \"100\", \"start_time\": \"2021-03-24T18:23:46.110851Z\", \"end_time\": \"2021-03-24T18:25:02.004979Z\", \"created_time\": \"2021-03-24T18:23:33.271804Z\", \"created_time_dt\": \"2021-03-24T18:23:33.271804Z\", \"duration\": \"0:01:28\", \"iteration\": \"36\", \"goal\": \"norm_macro_recall_max\", \"run_name\": \"VotingEnsemble\", \"run_properties\": \"classification_labels=None,\\n                              estimators=[('16',\\n                                           Pipeline(memory=None,\\n                                                    steps=[('standardscalerwrapper',\\n                                                            <azureml.automl.runtime.shared.model_wrappers.StandardScalerWrapper object at 0x7fa02839d828>\", \"primary_metric\": 0.940306, \"best_metric\": 0.940306}, {\"run_id\": \"AutoML_4c5ca835-d091-4fc7-b266-d5b7223c9ed6_37\", \"run_number\": 47, \"metric\": null, \"status\": \"Completed\", \"run_type\": \"azureml.scriptrun\", \"training_percent\": \"100\", \"start_time\": \"2021-03-24T18:23:46.897316Z\", \"end_time\": \"2021-03-24T18:25:04.193608Z\", \"created_time\": \"2021-03-24T18:23:33.482815Z\", \"created_time_dt\": \"2021-03-24T18:23:33.482815Z\", \"duration\": \"0:01:30\", \"iteration\": \"37\", \"goal\": \"norm_macro_recall_max\", \"run_name\": \"StackEnsemble\", \"run_properties\": \"base_learners=[('16',\\n                                        Pipeline(memory=None,\\n                                                 steps=[('standardscalerwrapper',\\n                                                         <azureml.automl.runtime.shared.model_wrappers.StandardScalerWrapper object at 0x7f4f603f1f28>\", \"primary_metric\": 0.93724839, \"best_metric\": 0.940306}], \"children_metrics\": {\"categories\": [0], \"series\": {\"f1_score_micro\": [{\"categories\": [\"0\", \"1\", \"2\", \"3\", \"4\", \"5\", \"6\", \"7\", \"8\", \"9\", \"10\", \"11\", \"12\", \"13\", \"14\", \"15\", \"16\", \"17\", \"18\", \"19\", \"20\", \"21\", \"22\", \"23\", \"24\", \"25\", \"26\", \"27\", \"28\", \"29\", \"30\", \"31\", \"32\", \"33\", \"34\", \"35\", \"36\", \"37\"], \"mode\": \"markers\", \"name\": \"f1_score_micro\", \"stepped\": false, \"type\": \"scatter\", \"data\": [0.9876068376068377, 0.9894586894586895, 0.9713675213675214, 0.9866096866096866, 0.9492877492877493, 0.9897435897435898, 0.9202279202279202, 0.9804843304843304, 0.9804843304843304, 0.9804843304843304, 0.9804843304843304, 0.9804843304843304, 0.9047008547008547, 0.9847578347578348, 0.9502849002849003, 0.9804843304843304, 0.9715099715099714, 0.9804843304843304, 0.936039886039886, 0.8723646723646724, 0.9334757834757834, 0.9888888888888889, 0.9851851851851853, 0.9317663817663817, 0.9361823361823362, 0.9804843304843304, 0.9894586894586895, 0.9887464387464387, 0.9854700854700855, 0.9910256410256411, 0.9804843304843304, 0.9366096866096866, 0.9306267806267806, 0.9015669515669517, 0.9894586894586895, 0.8047008547008548, 0.9716524216524216, 0.9686609686609686]}, {\"categories\": [\"0\", \"1\", \"2\", \"3\", \"4\", \"5\", \"6\", \"7\", \"8\", \"9\", \"10\", \"11\", \"12\", \"13\", \"14\", \"15\", \"16\", \"17\", \"18\", \"19\", \"20\", \"21\", \"22\", \"23\", \"24\", \"25\", \"26\", \"27\", \"28\", \"29\", \"30\", \"31\", \"32\", \"33\", \"34\", \"35\", \"36\", \"37\"], \"mode\": \"lines\", \"name\": \"f1_score_micro_max\", \"stepped\": true, \"type\": \"scatter\", \"data\": [0.9876068376068377, 0.9894586894586895, 0.9894586894586895, 0.9894586894586895, 0.9894586894586895, 0.9897435897435898, 0.9897435897435898, 0.9897435897435898, 0.9897435897435898, 0.9897435897435898, 0.9897435897435898, 0.9897435897435898, 0.9897435897435898, 0.9897435897435898, 0.9897435897435898, 0.9897435897435898, 0.9897435897435898, 0.9897435897435898, 0.9897435897435898, 0.9897435897435898, 0.9897435897435898, 0.9897435897435898, 0.9897435897435898, 0.9897435897435898, 0.9897435897435898, 0.9897435897435898, 0.9897435897435898, 0.9897435897435898, 0.9897435897435898, 0.9910256410256411, 0.9910256410256411, 0.9910256410256411, 0.9910256410256411, 0.9910256410256411, 0.9910256410256411, 0.9910256410256411, 0.9910256410256411, 0.9910256410256411]}], \"recall_score_macro\": [{\"categories\": [\"0\", \"1\", \"2\", \"3\", \"4\", \"5\", \"6\", \"7\", \"8\", \"9\", \"10\", \"11\", \"12\", \"13\", \"14\", \"15\", \"16\", \"17\", \"18\", \"19\", \"20\", \"21\", \"22\", \"23\", \"24\", \"25\", \"26\", \"27\", \"28\", \"29\", \"30\", \"31\", \"32\", \"33\", \"34\", \"35\", \"36\", \"37\"], \"mode\": \"markers\", \"name\": \"recall_score_macro\", \"stepped\": false, \"type\": \"scatter\", \"data\": [0.7813965464752597, 0.8387273709033485, 0.958777277351829, 0.8105754592977893, 0.9618571434054255, 0.8780637255484683, 0.771655362080894, 0.5, 0.5, 0.5, 0.5, 0.5, 0.9187342549212766, 0.6901688813494181, 0.959245996133916, 0.5, 0.9666801772977873, 0.5, 0.9506736310741387, 0.9129715479041733, 0.9376126924270792, 0.8434019714549122, 0.6990181288004892, 0.9450839325051597, 0.9455181974720995, 0.5, 0.8431931345045612, 0.8584917947092512, 0.7168931581279009, 0.865119493118228, 0.5, 0.9491486267915913, 0.9523554666583877, 0.9135269875400408, 0.8408272415407714, 0.8925712978023247, 0.9701530010966627, 0.9686241956572683]}, {\"categories\": [\"0\", \"1\", \"2\", \"3\", \"4\", \"5\", \"6\", \"7\", \"8\", \"9\", \"10\", \"11\", \"12\", \"13\", \"14\", \"15\", \"16\", \"17\", \"18\", \"19\", \"20\", \"21\", \"22\", \"23\", \"24\", \"25\", \"26\", \"27\", \"28\", \"29\", \"30\", \"31\", \"32\", \"33\", \"34\", \"35\", \"36\", \"37\"], \"mode\": \"lines\", \"name\": \"recall_score_macro_max\", \"stepped\": true, \"type\": \"scatter\", \"data\": [0.7813965464752597, 0.8387273709033485, 0.958777277351829, 0.958777277351829, 0.9618571434054255, 0.9618571434054255, 0.9618571434054255, 0.9618571434054255, 0.9618571434054255, 0.9618571434054255, 0.9618571434054255, 0.9618571434054255, 0.9618571434054255, 0.9618571434054255, 0.9618571434054255, 0.9618571434054255, 0.9666801772977873, 0.9666801772977873, 0.9666801772977873, 0.9666801772977873, 0.9666801772977873, 0.9666801772977873, 0.9666801772977873, 0.9666801772977873, 0.9666801772977873, 0.9666801772977873, 0.9666801772977873, 0.9666801772977873, 0.9666801772977873, 0.9666801772977873, 0.9666801772977873, 0.9666801772977873, 0.9666801772977873, 0.9666801772977873, 0.9666801772977873, 0.9666801772977873, 0.9701530010966627, 0.9701530010966627]}], \"average_precision_score_micro\": [{\"categories\": [\"0\", \"1\", \"2\", \"3\", \"4\", \"5\", \"6\", \"7\", \"8\", \"9\", \"10\", \"11\", \"12\", \"13\", \"14\", \"15\", \"16\", \"17\", \"18\", \"19\", \"20\", \"21\", \"22\", \"23\", \"24\", \"25\", \"26\", \"27\", \"28\", \"29\", \"30\", \"31\", \"32\", \"33\", \"34\", \"35\", \"36\", \"37\"], \"mode\": \"markers\", \"name\": \"average_precision_score_micro\", \"stepped\": false, \"type\": \"scatter\", \"data\": [0.999075065372022, 0.999322878547693, 0.9944794631914977, 0.9989661890910159, 0.9857680478669515, 0.9991400815687216, 0.9564322594587263, 0.998484914546478, 0.9988455642591981, 0.9984570568451364, 0.9982708911368601, 0.9986075868681082, 0.9611966823154835, 0.9984936908543948, 0.9866150341955061, 0.9987320581915263, 0.9935103522801606, 0.9961213513541082, 0.9791178187707388, 0.9405966330673068, 0.9729377721352493, 0.9985371748205241, 0.9991401952592097, 0.9634822772133832, 0.9683924614110037, 0.9711147028027369, 0.9993520447461796, 0.9992686023028868, 0.9990247298015317, 0.9992685572646879, 0.9965175081376273, 0.9730638486019951, 0.9712002507692823, 0.9662214851467305, 0.9993394072027058, 0.9198357219777012, 0.9968784321973029, 0.9869697868312297]}, {\"categories\": [\"0\", \"1\", \"2\", \"3\", \"4\", \"5\", \"6\", \"7\", \"8\", \"9\", \"10\", \"11\", \"12\", \"13\", \"14\", \"15\", \"16\", \"17\", \"18\", \"19\", \"20\", \"21\", \"22\", \"23\", \"24\", \"25\", \"26\", \"27\", \"28\", \"29\", \"30\", \"31\", \"32\", \"33\", \"34\", \"35\", \"36\", \"37\"], \"mode\": \"lines\", \"name\": \"average_precision_score_micro_max\", \"stepped\": true, \"type\": \"scatter\", \"data\": [0.999075065372022, 0.999322878547693, 0.999322878547693, 0.999322878547693, 0.999322878547693, 0.999322878547693, 0.999322878547693, 0.999322878547693, 0.999322878547693, 0.999322878547693, 0.999322878547693, 0.999322878547693, 0.999322878547693, 0.999322878547693, 0.999322878547693, 0.999322878547693, 0.999322878547693, 0.999322878547693, 0.999322878547693, 0.999322878547693, 0.999322878547693, 0.999322878547693, 0.999322878547693, 0.999322878547693, 0.999322878547693, 0.999322878547693, 0.9993520447461796, 0.9993520447461796, 0.9993520447461796, 0.9993520447461796, 0.9993520447461796, 0.9993520447461796, 0.9993520447461796, 0.9993520447461796, 0.9993520447461796, 0.9993520447461796, 0.9993520447461796, 0.9993520447461796]}], \"f1_score_weighted\": [{\"categories\": [\"0\", \"1\", \"2\", \"3\", \"4\", \"5\", \"6\", \"7\", \"8\", \"9\", \"10\", \"11\", \"12\", \"13\", \"14\", \"15\", \"16\", \"17\", \"18\", \"19\", \"20\", \"21\", \"22\", \"23\", \"24\", \"25\", \"26\", \"27\", \"28\", \"29\", \"30\", \"31\", \"32\", \"33\", \"34\", \"35\", \"36\", \"37\"], \"mode\": \"markers\", \"name\": \"f1_score_weighted\", \"stepped\": false, \"type\": \"scatter\", \"data\": [0.9867898031302715, 0.9891721996191879, 0.9771368254834054, 0.9859804088469994, 0.9629270648971411, 0.9898802861104636, 0.9417458573882285, 0.9708245392774518, 0.9708245392774518, 0.9708245392774518, 0.9708245392774518, 0.9708245392774518, 0.9357254506575726, 0.9824734721782219, 0.96387981879433, 0.9708245392774518, 0.9772749080436536, 0.9708245392774518, 0.9546740353709877, 0.9165854628031909, 0.9530716829096452, 0.9887469691959686, 0.9831058279773023, 0.9520701290551267, 0.9547818300641889, 0.9708245392774518, 0.9892571767591137, 0.9888088545613174, 0.983874624734684, 0.990852264754324, 0.9708245392774518, 0.9551195494796861, 0.9515225981735004, 0.9341291477714418, 0.9892251485250273, 0.8753154673971365, 0.9774200815692718, 0.9753868728235289]}, {\"categories\": [\"0\", \"1\", \"2\", \"3\", \"4\", \"5\", \"6\", \"7\", \"8\", \"9\", \"10\", \"11\", \"12\", \"13\", \"14\", \"15\", \"16\", \"17\", \"18\", \"19\", \"20\", \"21\", \"22\", \"23\", \"24\", \"25\", \"26\", \"27\", \"28\", \"29\", \"30\", \"31\", \"32\", \"33\", \"34\", \"35\", \"36\", \"37\"], \"mode\": \"lines\", \"name\": \"f1_score_weighted_max\", \"stepped\": true, \"type\": \"scatter\", \"data\": [0.9867898031302715, 0.9891721996191879, 0.9891721996191879, 0.9891721996191879, 0.9891721996191879, 0.9898802861104636, 0.9898802861104636, 0.9898802861104636, 0.9898802861104636, 0.9898802861104636, 0.9898802861104636, 0.9898802861104636, 0.9898802861104636, 0.9898802861104636, 0.9898802861104636, 0.9898802861104636, 0.9898802861104636, 0.9898802861104636, 0.9898802861104636, 0.9898802861104636, 0.9898802861104636, 0.9898802861104636, 0.9898802861104636, 0.9898802861104636, 0.9898802861104636, 0.9898802861104636, 0.9898802861104636, 0.9898802861104636, 0.9898802861104636, 0.990852264754324, 0.990852264754324, 0.990852264754324, 0.990852264754324, 0.990852264754324, 0.990852264754324, 0.990852264754324, 0.990852264754324, 0.990852264754324]}], \"balanced_accuracy\": [{\"categories\": [\"0\", \"1\", \"2\", \"3\", \"4\", \"5\", \"6\", \"7\", \"8\", \"9\", \"10\", \"11\", \"12\", \"13\", \"14\", \"15\", \"16\", \"17\", \"18\", \"19\", \"20\", \"21\", \"22\", \"23\", \"24\", \"25\", \"26\", \"27\", \"28\", \"29\", \"30\", \"31\", \"32\", \"33\", \"34\", \"35\", \"36\", \"37\"], \"mode\": \"markers\", \"name\": \"balanced_accuracy\", \"stepped\": false, \"type\": \"scatter\", \"data\": [0.7813965464752597, 0.8387273709033485, 0.958777277351829, 0.8105754592977893, 0.9618571434054255, 0.8780637255484683, 0.771655362080894, 0.5, 0.5, 0.5, 0.5, 0.5, 0.9187342549212766, 0.6901688813494181, 0.959245996133916, 0.5, 0.9666801772977873, 0.5, 0.9506736310741387, 0.9129715479041733, 0.9376126924270792, 0.8434019714549122, 0.6990181288004892, 0.9450839325051597, 0.9455181974720995, 0.5, 0.8431931345045612, 0.8584917947092512, 0.7168931581279009, 0.865119493118228, 0.5, 0.9491486267915913, 0.9523554666583877, 0.9135269875400408, 0.8408272415407714, 0.8925712978023247, 0.9701530010966627, 0.9686241956572683]}, {\"categories\": [\"0\", \"1\", \"2\", \"3\", \"4\", \"5\", \"6\", \"7\", \"8\", \"9\", \"10\", \"11\", \"12\", \"13\", \"14\", \"15\", \"16\", \"17\", \"18\", \"19\", \"20\", \"21\", \"22\", \"23\", \"24\", \"25\", \"26\", \"27\", \"28\", \"29\", \"30\", \"31\", \"32\", \"33\", \"34\", \"35\", \"36\", \"37\"], \"mode\": \"lines\", \"name\": \"balanced_accuracy_max\", \"stepped\": true, \"type\": \"scatter\", \"data\": [0.7813965464752597, 0.8387273709033485, 0.958777277351829, 0.958777277351829, 0.9618571434054255, 0.9618571434054255, 0.9618571434054255, 0.9618571434054255, 0.9618571434054255, 0.9618571434054255, 0.9618571434054255, 0.9618571434054255, 0.9618571434054255, 0.9618571434054255, 0.9618571434054255, 0.9618571434054255, 0.9666801772977873, 0.9666801772977873, 0.9666801772977873, 0.9666801772977873, 0.9666801772977873, 0.9666801772977873, 0.9666801772977873, 0.9666801772977873, 0.9666801772977873, 0.9666801772977873, 0.9666801772977873, 0.9666801772977873, 0.9666801772977873, 0.9666801772977873, 0.9666801772977873, 0.9666801772977873, 0.9666801772977873, 0.9666801772977873, 0.9666801772977873, 0.9666801772977873, 0.9701530010966627, 0.9701530010966627]}], \"AUC_macro\": [{\"categories\": [\"0\", \"1\", \"2\", \"3\", \"4\", \"5\", \"6\", \"7\", \"8\", \"9\", \"10\", \"11\", \"12\", \"13\", \"14\", \"15\", \"16\", \"17\", \"18\", \"19\", \"20\", \"21\", \"22\", \"23\", \"24\", \"25\", \"26\", \"27\", \"28\", \"29\", \"30\", \"31\", \"32\", \"33\", \"34\", \"35\", \"36\", \"37\"], \"mode\": \"markers\", \"name\": \"AUC_macro\", \"stepped\": false, \"type\": \"scatter\", \"data\": [0.9823685632237739, 0.9860589599625071, 0.9826792642156436, 0.983024765734435, 0.9759563346299466, 0.9851961534830815, 0.8766454049024368, 0.9738362975161484, 0.9803263517789104, 0.9748336881904222, 0.9663492954691207, 0.9737679938834933, 0.9611853286115721, 0.9820428471409014, 0.9780505489578325, 0.9775514830401931, 0.9789788006911406, 0.9201748400562494, 0.9754789860674197, 0.9607232177783355, 0.964563523333878, 0.9752522564584174, 0.9863566979964752, 0.9720666658158281, 0.9754281170167651, 0.5, 0.9875690248356025, 0.9855425900300806, 0.9812454874395352, 0.9861202461312254, 0.931399855078892, 0.9721529025430242, 0.9718827761440973, 0.9525402609321779, 0.9868346223518367, 0.944702507188028, 0.9799978874833976, 0.9799149959314496]}, {\"categories\": [\"0\", \"1\", \"2\", \"3\", \"4\", \"5\", \"6\", \"7\", \"8\", \"9\", \"10\", \"11\", \"12\", \"13\", \"14\", \"15\", \"16\", \"17\", \"18\", \"19\", \"20\", \"21\", \"22\", \"23\", \"24\", \"25\", \"26\", \"27\", \"28\", \"29\", \"30\", \"31\", \"32\", \"33\", \"34\", \"35\", \"36\", \"37\"], \"mode\": \"lines\", \"name\": \"AUC_macro_max\", \"stepped\": true, \"type\": \"scatter\", \"data\": [0.9823685632237739, 0.9860589599625071, 0.9860589599625071, 0.9860589599625071, 0.9860589599625071, 0.9860589599625071, 0.9860589599625071, 0.9860589599625071, 0.9860589599625071, 0.9860589599625071, 0.9860589599625071, 0.9860589599625071, 0.9860589599625071, 0.9860589599625071, 0.9860589599625071, 0.9860589599625071, 0.9860589599625071, 0.9860589599625071, 0.9860589599625071, 0.9860589599625071, 0.9860589599625071, 0.9860589599625071, 0.9863566979964752, 0.9863566979964752, 0.9863566979964752, 0.9863566979964752, 0.9875690248356025, 0.9875690248356025, 0.9875690248356025, 0.9875690248356025, 0.9875690248356025, 0.9875690248356025, 0.9875690248356025, 0.9875690248356025, 0.9875690248356025, 0.9875690248356025, 0.9875690248356025, 0.9875690248356025]}], \"AUC_weighted\": [{\"categories\": [\"0\", \"1\", \"2\", \"3\", \"4\", \"5\", \"6\", \"7\", \"8\", \"9\", \"10\", \"11\", \"12\", \"13\", \"14\", \"15\", \"16\", \"17\", \"18\", \"19\", \"20\", \"21\", \"22\", \"23\", \"24\", \"25\", \"26\", \"27\", \"28\", \"29\", \"30\", \"31\", \"32\", \"33\", \"34\", \"35\", \"36\", \"37\"], \"mode\": \"markers\", \"name\": \"AUC_weighted\", \"stepped\": false, \"type\": \"scatter\", \"data\": [0.9823685632237739, 0.986058959962507, 0.9826792642156436, 0.983024765734435, 0.9759563346299466, 0.9851968798731513, 0.8766454049024368, 0.9738362975161484, 0.9803263517789103, 0.9748336881904223, 0.9663492954691207, 0.9737679938834932, 0.9611853286115721, 0.9820428471409014, 0.9780505489578325, 0.9775514830401931, 0.9789788006911407, 0.9201748400562494, 0.9754789860674199, 0.9607232177783355, 0.964563523333878, 0.9752522564584174, 0.9863566979964754, 0.9720666658158281, 0.9754281170167651, 0.5, 0.9875690248356026, 0.9855425900300808, 0.9812454874395352, 0.9861202461312254, 0.9313875064477061, 0.9721529025430241, 0.9718827761440973, 0.9525402609321777, 0.9868346223518367, 0.944702507188028, 0.9799978874833976, 0.9799149959314496]}, {\"categories\": [\"0\", \"1\", \"2\", \"3\", \"4\", \"5\", \"6\", \"7\", \"8\", \"9\", \"10\", \"11\", \"12\", \"13\", \"14\", \"15\", \"16\", \"17\", \"18\", \"19\", \"20\", \"21\", \"22\", \"23\", \"24\", \"25\", \"26\", \"27\", \"28\", \"29\", \"30\", \"31\", \"32\", \"33\", \"34\", \"35\", \"36\", \"37\"], \"mode\": \"lines\", \"name\": \"AUC_weighted_max\", \"stepped\": true, \"type\": \"scatter\", \"data\": [0.9823685632237739, 0.986058959962507, 0.986058959962507, 0.986058959962507, 0.986058959962507, 0.986058959962507, 0.986058959962507, 0.986058959962507, 0.986058959962507, 0.986058959962507, 0.986058959962507, 0.986058959962507, 0.986058959962507, 0.986058959962507, 0.986058959962507, 0.986058959962507, 0.986058959962507, 0.986058959962507, 0.986058959962507, 0.986058959962507, 0.986058959962507, 0.986058959962507, 0.9863566979964754, 0.9863566979964754, 0.9863566979964754, 0.9863566979964754, 0.9875690248356026, 0.9875690248356026, 0.9875690248356026, 0.9875690248356026, 0.9875690248356026, 0.9875690248356026, 0.9875690248356026, 0.9875690248356026, 0.9875690248356026, 0.9875690248356026, 0.9875690248356026, 0.9875690248356026]}], \"precision_score_weighted\": [{\"categories\": [\"0\", \"1\", \"2\", \"3\", \"4\", \"5\", \"6\", \"7\", \"8\", \"9\", \"10\", \"11\", \"12\", \"13\", \"14\", \"15\", \"16\", \"17\", \"18\", \"19\", \"20\", \"21\", \"22\", \"23\", \"24\", \"25\", \"26\", \"27\", \"28\", \"29\", \"30\", \"31\", \"32\", \"33\", \"34\", \"35\", \"36\", \"37\"], \"mode\": \"markers\", \"name\": \"precision_score_weighted\", \"stepped\": false, \"type\": \"scatter\", \"data\": [0.9865463323634928, 0.9891670454450546, 0.9875062143278709, 0.9863867215767539, 0.9855927896938826, 0.9900805862088792, 0.9746155450425364, 0.9613568680449021, 0.9613568680449021, 0.9613568680449021, 0.9613568680449021, 0.9613568680449021, 0.9823682376050931, 0.982302870869141, 0.9859957284085231, 0.9613568680449021, 0.9878104878665087, 0.9613568680449021, 0.9843718545342125, 0.9820912953431691, 0.9835765308267105, 0.9887829123675903, 0.9827923338210125, 0.9840545104475699, 0.9841386257341722, 0.9613568680449021, 0.9891148022901498, 0.9889373211222515, 0.9840965244691301, 0.9909576885821135, 0.9613568680449021, 0.9843211361586791, 0.9843241095360321, 0.9821070967342634, 0.9890777565065959, 0.9819067521701941, 0.9880086621934551, 0.987522345841403]}, {\"categories\": [\"0\", \"1\", \"2\", \"3\", \"4\", \"5\", \"6\", \"7\", \"8\", \"9\", \"10\", \"11\", \"12\", \"13\", \"14\", \"15\", \"16\", \"17\", \"18\", \"19\", \"20\", \"21\", \"22\", \"23\", \"24\", \"25\", \"26\", \"27\", \"28\", \"29\", \"30\", \"31\", \"32\", \"33\", \"34\", \"35\", \"36\", \"37\"], \"mode\": \"lines\", \"name\": \"precision_score_weighted_max\", \"stepped\": true, \"type\": \"scatter\", \"data\": [0.9865463323634928, 0.9891670454450546, 0.9891670454450546, 0.9891670454450546, 0.9891670454450546, 0.9900805862088792, 0.9900805862088792, 0.9900805862088792, 0.9900805862088792, 0.9900805862088792, 0.9900805862088792, 0.9900805862088792, 0.9900805862088792, 0.9900805862088792, 0.9900805862088792, 0.9900805862088792, 0.9900805862088792, 0.9900805862088792, 0.9900805862088792, 0.9900805862088792, 0.9900805862088792, 0.9900805862088792, 0.9900805862088792, 0.9900805862088792, 0.9900805862088792, 0.9900805862088792, 0.9900805862088792, 0.9900805862088792, 0.9900805862088792, 0.9909576885821135, 0.9909576885821135, 0.9909576885821135, 0.9909576885821135, 0.9909576885821135, 0.9909576885821135, 0.9909576885821135, 0.9909576885821135, 0.9909576885821135]}], \"average_precision_score_weighted\": [{\"categories\": [\"0\", \"1\", \"2\", \"3\", \"4\", \"5\", \"6\", \"7\", \"8\", \"9\", \"10\", \"11\", \"12\", \"13\", \"14\", \"15\", \"16\", \"17\", \"18\", \"19\", \"20\", \"21\", \"22\", \"23\", \"24\", \"25\", \"26\", \"27\", \"28\", \"29\", \"30\", \"31\", \"32\", \"33\", \"34\", \"35\", \"36\", \"37\"], \"mode\": \"markers\", \"name\": \"average_precision_score_weighted\", \"stepped\": false, \"type\": \"scatter\", \"data\": [0.9947754642538372, 0.9957383385214261, 0.9927341570438853, 0.9929653804022839, 0.9885811692508225, 0.9940440189503207, 0.9820095321901228, 0.9871279002128537, 0.9903152496409993, 0.9906153092337373, 0.9883638379986309, 0.9900233452906458, 0.9885546981738935, 0.9932996360301761, 0.9894712589201339, 0.9904497790264909, 0.9895407271747382, 0.9840453314406732, 0.9882793886322464, 0.9867864229538794, 0.9893328737837345, 0.9938470024190753, 0.9926678717415776, 0.9867144346158309, 0.9895830791149393, 0.9617450751211435, 0.995891611711865, 0.9951479578020531, 0.9940867654569923, 0.9960751124968622, 0.9819331665237593, 0.9899824173316035, 0.989577675653997, 0.9870705137761934, 0.9958695471333942, 0.9834389833276224, 0.991849924454935, 0.9922279506524649]}, {\"categories\": [\"0\", \"1\", \"2\", \"3\", \"4\", \"5\", \"6\", \"7\", \"8\", \"9\", \"10\", \"11\", \"12\", \"13\", \"14\", \"15\", \"16\", \"17\", \"18\", \"19\", \"20\", \"21\", \"22\", \"23\", \"24\", \"25\", \"26\", \"27\", \"28\", \"29\", \"30\", \"31\", \"32\", \"33\", \"34\", \"35\", \"36\", \"37\"], \"mode\": \"lines\", \"name\": \"average_precision_score_weighted_max\", \"stepped\": true, \"type\": \"scatter\", \"data\": [0.9947754642538372, 0.9957383385214261, 0.9957383385214261, 0.9957383385214261, 0.9957383385214261, 0.9957383385214261, 0.9957383385214261, 0.9957383385214261, 0.9957383385214261, 0.9957383385214261, 0.9957383385214261, 0.9957383385214261, 0.9957383385214261, 0.9957383385214261, 0.9957383385214261, 0.9957383385214261, 0.9957383385214261, 0.9957383385214261, 0.9957383385214261, 0.9957383385214261, 0.9957383385214261, 0.9957383385214261, 0.9957383385214261, 0.9957383385214261, 0.9957383385214261, 0.9957383385214261, 0.995891611711865, 0.995891611711865, 0.995891611711865, 0.9960751124968622, 0.9960751124968622, 0.9960751124968622, 0.9960751124968622, 0.9960751124968622, 0.9960751124968622, 0.9960751124968622, 0.9960751124968622, 0.9960751124968622]}], \"log_loss\": [{\"categories\": [\"0\", \"1\", \"2\", \"3\", \"4\", \"5\", \"6\", \"7\", \"8\", \"9\", \"10\", \"11\", \"12\", \"13\", \"14\", \"15\", \"16\", \"17\", \"18\", \"19\", \"20\", \"21\", \"22\", \"23\", \"24\", \"25\", \"26\", \"27\", \"28\", \"29\", \"30\", \"31\", \"32\", \"33\", \"34\", \"35\", \"36\", \"37\"], \"mode\": \"markers\", \"name\": \"log_loss\", \"stepped\": false, \"type\": \"scatter\", \"data\": [0.04991036786613363, 0.027649049605158803, 0.09439324167583248, 0.03815026971599337, 0.1523853593887292, 0.03545523627785707, 0.6587876690783808, 0.04947547729229915, 0.055085399105235085, 0.07343104404942007, 0.07764247902713399, 0.06596861884217646, 0.567504314290317, 0.037909343943300346, 0.14821298795938484, 0.07301516673421587, 0.1101656039290105, 0.07849960483912977, 0.19621535179032143, 0.4743120858915632, 0.534719508032615, 0.21554167880409011, 0.036009458135112436, 0.42529551625112433, 0.381576764326677, 0.6891801248403807, 0.024922574163983514, 0.03367318294143042, 0.03135336654785091, 0.024618142867539577, 0.08838573674896567, 0.5699587763671712, 0.5654640463582888, 0.4286077225228204, 0.025466048545687684, 0.4066819780879833, 0.3129170437331355, 0.12030182847726063]}, {\"categories\": [\"0\", \"1\", \"2\", \"3\", \"4\", \"5\", \"6\", \"7\", \"8\", \"9\", \"10\", \"11\", \"12\", \"13\", \"14\", \"15\", \"16\", \"17\", \"18\", \"19\", \"20\", \"21\", \"22\", \"23\", \"24\", \"25\", \"26\", \"27\", \"28\", \"29\", \"30\", \"31\", \"32\", \"33\", \"34\", \"35\", \"36\", \"37\"], \"mode\": \"lines\", \"name\": \"log_loss_min\", \"stepped\": true, \"type\": \"scatter\", \"data\": [0.04991036786613363, 0.027649049605158803, 0.027649049605158803, 0.027649049605158803, 0.027649049605158803, 0.027649049605158803, 0.027649049605158803, 0.027649049605158803, 0.027649049605158803, 0.027649049605158803, 0.027649049605158803, 0.027649049605158803, 0.027649049605158803, 0.027649049605158803, 0.027649049605158803, 0.027649049605158803, 0.027649049605158803, 0.027649049605158803, 0.027649049605158803, 0.027649049605158803, 0.027649049605158803, 0.027649049605158803, 0.027649049605158803, 0.027649049605158803, 0.027649049605158803, 0.027649049605158803, 0.024922574163983514, 0.024922574163983514, 0.024922574163983514, 0.024618142867539577, 0.024618142867539577, 0.024618142867539577, 0.024618142867539577, 0.024618142867539577, 0.024618142867539577, 0.024618142867539577, 0.024618142867539577, 0.024618142867539577]}], \"precision_score_macro\": [{\"categories\": [\"0\", \"1\", \"2\", \"3\", \"4\", \"5\", \"6\", \"7\", \"8\", \"9\", \"10\", \"11\", \"12\", \"13\", \"14\", \"15\", \"16\", \"17\", \"18\", \"19\", \"20\", \"21\", \"22\", \"23\", \"24\", \"25\", \"26\", \"27\", \"28\", \"29\", \"30\", \"31\", \"32\", \"33\", \"34\", \"35\", \"36\", \"37\"], \"mode\": \"markers\", \"name\": \"precision_score_macro\", \"stepped\": false, \"type\": \"scatter\", \"data\": [0.8616748830508237, 0.8706905273860416, 0.7007222527393319, 0.8290208214094635, 0.6430068157044523, 0.858453783882414, 0.5445855580782953, 0.4902421652421652, 0.4902421652421652, 0.4902421652421652, 0.4902421652421652, 0.4902421652421652, 0.5863545068530923, 0.8442607933808705, 0.6541206756274224, 0.4902421652421652, 0.7018340563719042, 0.4902421652421652, 0.6145778437736401, 0.5650762671686161, 0.6085748947516776, 0.859373743907132, 0.8483678791148593, 0.6120777595053365, 0.6160336447115987, 0.4902421652421652, 0.8706690530885717, 0.8484388111029388, 0.8555000777957639, 0.8946072115688507, 0.4902421652421652, 0.61517902277985, 0.6083652865220697, 0.578908880168879, 0.8707272032717754, 0.5445639286667877, 0.7029641303406372, 0.6918923998721329]}, {\"categories\": [\"0\", \"1\", \"2\", \"3\", \"4\", \"5\", \"6\", \"7\", \"8\", \"9\", \"10\", \"11\", \"12\", \"13\", \"14\", \"15\", \"16\", \"17\", \"18\", \"19\", \"20\", \"21\", \"22\", \"23\", \"24\", \"25\", \"26\", \"27\", \"28\", \"29\", \"30\", \"31\", \"32\", \"33\", \"34\", \"35\", \"36\", \"37\"], \"mode\": \"lines\", \"name\": \"precision_score_macro_max\", \"stepped\": true, \"type\": \"scatter\", \"data\": [0.8616748830508237, 0.8706905273860416, 0.8706905273860416, 0.8706905273860416, 0.8706905273860416, 0.8706905273860416, 0.8706905273860416, 0.8706905273860416, 0.8706905273860416, 0.8706905273860416, 0.8706905273860416, 0.8706905273860416, 0.8706905273860416, 0.8706905273860416, 0.8706905273860416, 0.8706905273860416, 0.8706905273860416, 0.8706905273860416, 0.8706905273860416, 0.8706905273860416, 0.8706905273860416, 0.8706905273860416, 0.8706905273860416, 0.8706905273860416, 0.8706905273860416, 0.8706905273860416, 0.8706905273860416, 0.8706905273860416, 0.8706905273860416, 0.8946072115688507, 0.8946072115688507, 0.8946072115688507, 0.8946072115688507, 0.8946072115688507, 0.8946072115688507, 0.8946072115688507, 0.8946072115688507, 0.8946072115688507]}], \"recall_score_weighted\": [{\"categories\": [\"0\", \"1\", \"2\", \"3\", \"4\", \"5\", \"6\", \"7\", \"8\", \"9\", \"10\", \"11\", \"12\", \"13\", \"14\", \"15\", \"16\", \"17\", \"18\", \"19\", \"20\", \"21\", \"22\", \"23\", \"24\", \"25\", \"26\", \"27\", \"28\", \"29\", \"30\", \"31\", \"32\", \"33\", \"34\", \"35\", \"36\", \"37\"], \"mode\": \"markers\", \"name\": \"recall_score_weighted\", \"stepped\": false, \"type\": \"scatter\", \"data\": [0.9876068376068377, 0.9894586894586895, 0.9713675213675214, 0.9866096866096866, 0.9492877492877493, 0.9897435897435898, 0.9202279202279202, 0.9804843304843304, 0.9804843304843304, 0.9804843304843304, 0.9804843304843304, 0.9804843304843304, 0.9047008547008547, 0.9847578347578348, 0.9502849002849003, 0.9804843304843304, 0.9715099715099714, 0.9804843304843304, 0.936039886039886, 0.8723646723646724, 0.9334757834757834, 0.9888888888888889, 0.9851851851851853, 0.9317663817663817, 0.9361823361823362, 0.9804843304843304, 0.9894586894586895, 0.9887464387464387, 0.9854700854700855, 0.9910256410256411, 0.9804843304843304, 0.9366096866096866, 0.9306267806267806, 0.9015669515669514, 0.9894586894586895, 0.8047008547008548, 0.9716524216524216, 0.9686609686609686]}, {\"categories\": [\"0\", \"1\", \"2\", \"3\", \"4\", \"5\", \"6\", \"7\", \"8\", \"9\", \"10\", \"11\", \"12\", \"13\", \"14\", \"15\", \"16\", \"17\", \"18\", \"19\", \"20\", \"21\", \"22\", \"23\", \"24\", \"25\", \"26\", \"27\", \"28\", \"29\", \"30\", \"31\", \"32\", \"33\", \"34\", \"35\", \"36\", \"37\"], \"mode\": \"lines\", \"name\": \"recall_score_weighted_max\", \"stepped\": true, \"type\": \"scatter\", \"data\": [0.9876068376068377, 0.9894586894586895, 0.9894586894586895, 0.9894586894586895, 0.9894586894586895, 0.9897435897435898, 0.9897435897435898, 0.9897435897435898, 0.9897435897435898, 0.9897435897435898, 0.9897435897435898, 0.9897435897435898, 0.9897435897435898, 0.9897435897435898, 0.9897435897435898, 0.9897435897435898, 0.9897435897435898, 0.9897435897435898, 0.9897435897435898, 0.9897435897435898, 0.9897435897435898, 0.9897435897435898, 0.9897435897435898, 0.9897435897435898, 0.9897435897435898, 0.9897435897435898, 0.9897435897435898, 0.9897435897435898, 0.9897435897435898, 0.9910256410256411, 0.9910256410256411, 0.9910256410256411, 0.9910256410256411, 0.9910256410256411, 0.9910256410256411, 0.9910256410256411, 0.9910256410256411, 0.9910256410256411]}], \"accuracy\": [{\"categories\": [\"0\", \"1\", \"2\", \"3\", \"4\", \"5\", \"6\", \"7\", \"8\", \"9\", \"10\", \"11\", \"12\", \"13\", \"14\", \"15\", \"16\", \"17\", \"18\", \"19\", \"20\", \"21\", \"22\", \"23\", \"24\", \"25\", \"26\", \"27\", \"28\", \"29\", \"30\", \"31\", \"32\", \"33\", \"34\", \"35\", \"36\", \"37\"], \"mode\": \"markers\", \"name\": \"accuracy\", \"stepped\": false, \"type\": \"scatter\", \"data\": [0.9876068376068377, 0.9894586894586895, 0.9713675213675214, 0.9866096866096866, 0.9492877492877493, 0.9897435897435898, 0.9202279202279202, 0.9804843304843304, 0.9804843304843304, 0.9804843304843304, 0.9804843304843304, 0.9804843304843304, 0.9047008547008547, 0.9847578347578348, 0.9502849002849003, 0.9804843304843304, 0.9715099715099714, 0.9804843304843304, 0.936039886039886, 0.8723646723646724, 0.9334757834757834, 0.9888888888888889, 0.9851851851851853, 0.9317663817663817, 0.9361823361823362, 0.9804843304843304, 0.9894586894586895, 0.9887464387464387, 0.9854700854700855, 0.9910256410256411, 0.9804843304843304, 0.9366096866096866, 0.9306267806267806, 0.9015669515669514, 0.9894586894586895, 0.8047008547008548, 0.9716524216524216, 0.9686609686609686]}, {\"categories\": [\"0\", \"1\", \"2\", \"3\", \"4\", \"5\", \"6\", \"7\", \"8\", \"9\", \"10\", \"11\", \"12\", \"13\", \"14\", \"15\", \"16\", \"17\", \"18\", \"19\", \"20\", \"21\", \"22\", \"23\", \"24\", \"25\", \"26\", \"27\", \"28\", \"29\", \"30\", \"31\", \"32\", \"33\", \"34\", \"35\", \"36\", \"37\"], \"mode\": \"lines\", \"name\": \"accuracy_max\", \"stepped\": true, \"type\": \"scatter\", \"data\": [0.9876068376068377, 0.9894586894586895, 0.9894586894586895, 0.9894586894586895, 0.9894586894586895, 0.9897435897435898, 0.9897435897435898, 0.9897435897435898, 0.9897435897435898, 0.9897435897435898, 0.9897435897435898, 0.9897435897435898, 0.9897435897435898, 0.9897435897435898, 0.9897435897435898, 0.9897435897435898, 0.9897435897435898, 0.9897435897435898, 0.9897435897435898, 0.9897435897435898, 0.9897435897435898, 0.9897435897435898, 0.9897435897435898, 0.9897435897435898, 0.9897435897435898, 0.9897435897435898, 0.9897435897435898, 0.9897435897435898, 0.9897435897435898, 0.9910256410256411, 0.9910256410256411, 0.9910256410256411, 0.9910256410256411, 0.9910256410256411, 0.9910256410256411, 0.9910256410256411, 0.9910256410256411, 0.9910256410256411]}], \"norm_macro_recall\": [{\"categories\": [\"0\", \"1\", \"2\", \"3\", \"4\", \"5\", \"6\", \"7\", \"8\", \"9\", \"10\", \"11\", \"12\", \"13\", \"14\", \"15\", \"16\", \"17\", \"18\", \"19\", \"20\", \"21\", \"22\", \"23\", \"24\", \"25\", \"26\", \"27\", \"28\", \"29\", \"30\", \"31\", \"32\", \"33\", \"34\", \"35\", \"36\", \"37\"], \"mode\": \"markers\", \"name\": \"norm_macro_recall\", \"stepped\": false, \"type\": \"scatter\", \"data\": [0.5627930929505192, 0.6774547418066968, 0.917554554703658, 0.6211509185955787, 0.923714286810851, 0.7561274510969366, 0.5433107241617879, 0.0, 0.0, 0.0, 0.0, 0.0, 0.837468509842553, 0.38033776269883623, 0.9184919922678322, 0.0, 0.9333603545955748, 0.0, 0.9013472621482773, 0.8259430958083467, 0.8752253848541584, 0.6868039429098246, 0.39803625760097855, 0.8901678650103196, 0.891036394944199, 0.0, 0.6863862690091226, 0.7169835894185024, 0.4337863162558018, 0.730238986236456, 0.0, 0.8982972535831827, 0.9047109333167752, 0.8270539750800815, 0.6816544830815428, 0.7851425956046493, 0.9403060021933255, 0.9372483913145366]}, {\"categories\": [\"0\", \"1\", \"2\", \"3\", \"4\", \"5\", \"6\", \"7\", \"8\", \"9\", \"10\", \"11\", \"12\", \"13\", \"14\", \"15\", \"16\", \"17\", \"18\", \"19\", \"20\", \"21\", \"22\", \"23\", \"24\", \"25\", \"26\", \"27\", \"28\", \"29\", \"30\", \"31\", \"32\", \"33\", \"34\", \"35\", \"36\", \"37\"], \"mode\": \"lines\", \"name\": \"norm_macro_recall_max\", \"stepped\": true, \"type\": \"scatter\", \"data\": [0.5627930929505192, 0.6774547418066968, 0.917554554703658, 0.917554554703658, 0.923714286810851, 0.923714286810851, 0.923714286810851, 0.923714286810851, 0.923714286810851, 0.923714286810851, 0.923714286810851, 0.923714286810851, 0.923714286810851, 0.923714286810851, 0.923714286810851, 0.923714286810851, 0.9333603545955748, 0.9333603545955748, 0.9333603545955748, 0.9333603545955748, 0.9333603545955748, 0.9333603545955748, 0.9333603545955748, 0.9333603545955748, 0.9333603545955748, 0.9333603545955748, 0.9333603545955748, 0.9333603545955748, 0.9333603545955748, 0.9333603545955748, 0.9333603545955748, 0.9333603545955748, 0.9333603545955748, 0.9333603545955748, 0.9333603545955748, 0.9333603545955748, 0.9403060021933255, 0.9403060021933255]}], \"recall_score_micro\": [{\"categories\": [\"0\", \"1\", \"2\", \"3\", \"4\", \"5\", \"6\", \"7\", \"8\", \"9\", \"10\", \"11\", \"12\", \"13\", \"14\", \"15\", \"16\", \"17\", \"18\", \"19\", \"20\", \"21\", \"22\", \"23\", \"24\", \"25\", \"26\", \"27\", \"28\", \"29\", \"30\", \"31\", \"32\", \"33\", \"34\", \"35\", \"36\", \"37\"], \"mode\": \"markers\", \"name\": \"recall_score_micro\", \"stepped\": false, \"type\": \"scatter\", \"data\": [0.9876068376068377, 0.9894586894586895, 0.9713675213675214, 0.9866096866096866, 0.9492877492877493, 0.9897435897435898, 0.9202279202279202, 0.9804843304843304, 0.9804843304843304, 0.9804843304843304, 0.9804843304843304, 0.9804843304843304, 0.9047008547008547, 0.9847578347578348, 0.9502849002849003, 0.9804843304843304, 0.9715099715099714, 0.9804843304843304, 0.936039886039886, 0.8723646723646724, 0.9334757834757834, 0.9888888888888889, 0.9851851851851853, 0.9317663817663817, 0.9361823361823362, 0.9804843304843304, 0.9894586894586895, 0.9887464387464387, 0.9854700854700855, 0.9910256410256411, 0.9804843304843304, 0.9366096866096866, 0.9306267806267806, 0.9015669515669514, 0.9894586894586895, 0.8047008547008548, 0.9716524216524216, 0.9686609686609686]}, {\"categories\": [\"0\", \"1\", \"2\", \"3\", \"4\", \"5\", \"6\", \"7\", \"8\", \"9\", \"10\", \"11\", \"12\", \"13\", \"14\", \"15\", \"16\", \"17\", \"18\", \"19\", \"20\", \"21\", \"22\", \"23\", \"24\", \"25\", \"26\", \"27\", \"28\", \"29\", \"30\", \"31\", \"32\", \"33\", \"34\", \"35\", \"36\", \"37\"], \"mode\": \"lines\", \"name\": \"recall_score_micro_max\", \"stepped\": true, \"type\": \"scatter\", \"data\": [0.9876068376068377, 0.9894586894586895, 0.9894586894586895, 0.9894586894586895, 0.9894586894586895, 0.9897435897435898, 0.9897435897435898, 0.9897435897435898, 0.9897435897435898, 0.9897435897435898, 0.9897435897435898, 0.9897435897435898, 0.9897435897435898, 0.9897435897435898, 0.9897435897435898, 0.9897435897435898, 0.9897435897435898, 0.9897435897435898, 0.9897435897435898, 0.9897435897435898, 0.9897435897435898, 0.9897435897435898, 0.9897435897435898, 0.9897435897435898, 0.9897435897435898, 0.9897435897435898, 0.9897435897435898, 0.9897435897435898, 0.9897435897435898, 0.9910256410256411, 0.9910256410256411, 0.9910256410256411, 0.9910256410256411, 0.9910256410256411, 0.9910256410256411, 0.9910256410256411, 0.9910256410256411, 0.9910256410256411]}], \"matthews_correlation\": [{\"categories\": [\"0\", \"1\", \"2\", \"3\", \"4\", \"5\", \"6\", \"7\", \"8\", \"9\", \"10\", \"11\", \"12\", \"13\", \"14\", \"15\", \"16\", \"17\", \"18\", \"19\", \"20\", \"21\", \"22\", \"23\", \"24\", \"25\", \"26\", \"27\", \"28\", \"29\", \"30\", \"31\", \"32\", \"33\", \"34\", \"35\", \"36\", \"37\"], \"mode\": \"markers\", \"name\": \"matthews_correlation\", \"stepped\": false, \"type\": \"scatter\", \"data\": [0.6364068396939287, 0.7061688403944107, 0.6051105416562649, 0.6273783692884892, 0.5123494622660884, 0.7358053549260394, 0.22602890778391926, 0.0, 0.0, 0.0, 0.0, 0.0, 0.3785642587271472, 0.5098148500951986, 0.5262188627795467, 0.0, 0.6121748478619694, 0.0, 0.45446350634159743, 0.3269107991332394, 0.43549743851940415, 0.7007101724058661, 0.5260801948190754, 0.4456991753456541, 0.4537380484575187, 0.0, 0.7131437568338385, 0.7062403567493164, 0.5519396660001208, 0.7565322849881899, 0.0, 0.4537930194070185, 0.44202306622648085, 0.35959295836995236, 0.7106183854727117, 0.2640393286854256, 0.6160875263101938, 0.5979864950001107]}, {\"categories\": [\"0\", \"1\", \"2\", \"3\", \"4\", \"5\", \"6\", \"7\", \"8\", \"9\", \"10\", \"11\", \"12\", \"13\", \"14\", \"15\", \"16\", \"17\", \"18\", \"19\", \"20\", \"21\", \"22\", \"23\", \"24\", \"25\", \"26\", \"27\", \"28\", \"29\", \"30\", \"31\", \"32\", \"33\", \"34\", \"35\", \"36\", \"37\"], \"mode\": \"lines\", \"name\": \"matthews_correlation_max\", \"stepped\": true, \"type\": \"scatter\", \"data\": [0.6364068396939287, 0.7061688403944107, 0.7061688403944107, 0.7061688403944107, 0.7061688403944107, 0.7358053549260394, 0.7358053549260394, 0.7358053549260394, 0.7358053549260394, 0.7358053549260394, 0.7358053549260394, 0.7358053549260394, 0.7358053549260394, 0.7358053549260394, 0.7358053549260394, 0.7358053549260394, 0.7358053549260394, 0.7358053549260394, 0.7358053549260394, 0.7358053549260394, 0.7358053549260394, 0.7358053549260394, 0.7358053549260394, 0.7358053549260394, 0.7358053549260394, 0.7358053549260394, 0.7358053549260394, 0.7358053549260394, 0.7358053549260394, 0.7565322849881899, 0.7565322849881899, 0.7565322849881899, 0.7565322849881899, 0.7565322849881899, 0.7565322849881899, 0.7565322849881899, 0.7565322849881899, 0.7565322849881899]}], \"f1_score_macro\": [{\"categories\": [\"0\", \"1\", \"2\", \"3\", \"4\", \"5\", \"6\", \"7\", \"8\", \"9\", \"10\", \"11\", \"12\", \"13\", \"14\", \"15\", \"16\", \"17\", \"18\", \"19\", \"20\", \"21\", \"22\", \"23\", \"24\", \"25\", \"26\", \"27\", \"28\", \"29\", \"30\", \"31\", \"32\", \"33\", \"34\", \"35\", \"36\", \"37\"], \"mode\": \"markers\", \"name\": \"f1_score_macro\", \"stepped\": false, \"type\": \"scatter\", \"data\": [0.8146425519239978, 0.8513360221840934, 0.7734973126029239, 0.807357945437646, 0.7068852158155264, 0.8675087683779302, 0.5615726161468827, 0.4950720608456045, 0.4950720608456045, 0.4950720608456045, 0.4950720608456045, 0.4950720608456045, 0.6200529802959198, 0.7422754094880385, 0.7168165070084328, 0.4950720608456045, 0.7760391205421672, 0.4950720608456045, 0.668727400033997, 0.5800393596918497, 0.6595374243017984, 0.8492338504060369, 0.7519116683451816, 0.6634366136533582, 0.6698612013443337, 0.4950720608456045, 0.8561801149117686, 0.8527356488915, 0.7654943038113536, 0.8765486200456176, 0.4950720608456045, 0.6691058004932066, 0.6588857479402362, 0.6089373840186931, 0.8547943083886755, 0.5266531362793982, 0.7776619528495182, 0.7656728413180033]}, {\"categories\": [\"0\", \"1\", \"2\", \"3\", \"4\", \"5\", \"6\", \"7\", \"8\", \"9\", \"10\", \"11\", \"12\", \"13\", \"14\", \"15\", \"16\", \"17\", \"18\", \"19\", \"20\", \"21\", \"22\", \"23\", \"24\", \"25\", \"26\", \"27\", \"28\", \"29\", \"30\", \"31\", \"32\", \"33\", \"34\", \"35\", \"36\", \"37\"], \"mode\": \"lines\", \"name\": \"f1_score_macro_max\", \"stepped\": true, \"type\": \"scatter\", \"data\": [0.8146425519239978, 0.8513360221840934, 0.8513360221840934, 0.8513360221840934, 0.8513360221840934, 0.8675087683779302, 0.8675087683779302, 0.8675087683779302, 0.8675087683779302, 0.8675087683779302, 0.8675087683779302, 0.8675087683779302, 0.8675087683779302, 0.8675087683779302, 0.8675087683779302, 0.8675087683779302, 0.8675087683779302, 0.8675087683779302, 0.8675087683779302, 0.8675087683779302, 0.8675087683779302, 0.8675087683779302, 0.8675087683779302, 0.8675087683779302, 0.8675087683779302, 0.8675087683779302, 0.8675087683779302, 0.8675087683779302, 0.8675087683779302, 0.8765486200456176, 0.8765486200456176, 0.8765486200456176, 0.8765486200456176, 0.8765486200456176, 0.8765486200456176, 0.8765486200456176, 0.8765486200456176, 0.8765486200456176]}], \"AUC_micro\": [{\"categories\": [\"0\", \"1\", \"2\", \"3\", \"4\", \"5\", \"6\", \"7\", \"8\", \"9\", \"10\", \"11\", \"12\", \"13\", \"14\", \"15\", \"16\", \"17\", \"18\", \"19\", \"20\", \"21\", \"22\", \"23\", \"24\", \"25\", \"26\", \"27\", \"28\", \"29\", \"30\", \"31\", \"32\", \"33\", \"34\", \"35\", \"36\", \"37\"], \"mode\": \"markers\", \"name\": \"AUC_micro\", \"stepped\": false, \"type\": \"scatter\", \"data\": [0.9991629532227823, 0.9993393113692259, 0.9945069033530571, 0.9991362286020408, 0.9854454306377383, 0.9992874753451676, 0.9611003360362336, 0.9986711349745537, 0.9988817663817664, 0.998688302043003, 0.998368032727007, 0.9986659605035673, 0.9601391628314705, 0.9990344437139309, 0.9863072539995615, 0.9987676845155478, 0.993740959894806, 0.9967864100129057, 0.9785669150412741, 0.9386173813524241, 0.9745636399055203, 0.9989044123018482, 0.9992118976307012, 0.9650708598144494, 0.972606228845545, 0.9804843304843306, 0.9993826551732535, 0.9993016290452187, 0.9990865536805708, 0.9993463730002192, 0.9970021854530401, 0.9751292400224024, 0.972406616017727, 0.9648600457788493, 0.9993561131808995, 0.9134106460174835, 0.9970082426279007, 0.9885303284875935]}, {\"categories\": [\"0\", \"1\", \"2\", \"3\", \"4\", \"5\", \"6\", \"7\", \"8\", \"9\", \"10\", \"11\", \"12\", \"13\", \"14\", \"15\", \"16\", \"17\", \"18\", \"19\", \"20\", \"21\", \"22\", \"23\", \"24\", \"25\", \"26\", \"27\", \"28\", \"29\", \"30\", \"31\", \"32\", \"33\", \"34\", \"35\", \"36\", \"37\"], \"mode\": \"lines\", \"name\": \"AUC_micro_max\", \"stepped\": true, \"type\": \"scatter\", \"data\": [0.9991629532227823, 0.9993393113692259, 0.9993393113692259, 0.9993393113692259, 0.9993393113692259, 0.9993393113692259, 0.9993393113692259, 0.9993393113692259, 0.9993393113692259, 0.9993393113692259, 0.9993393113692259, 0.9993393113692259, 0.9993393113692259, 0.9993393113692259, 0.9993393113692259, 0.9993393113692259, 0.9993393113692259, 0.9993393113692259, 0.9993393113692259, 0.9993393113692259, 0.9993393113692259, 0.9993393113692259, 0.9993393113692259, 0.9993393113692259, 0.9993393113692259, 0.9993393113692259, 0.9993826551732535, 0.9993826551732535, 0.9993826551732535, 0.9993826551732535, 0.9993826551732535, 0.9993826551732535, 0.9993826551732535, 0.9993826551732535, 0.9993826551732535, 0.9993826551732535, 0.9993826551732535, 0.9993826551732535]}], \"average_precision_score_macro\": [{\"categories\": [\"0\", \"1\", \"2\", \"3\", \"4\", \"5\", \"6\", \"7\", \"8\", \"9\", \"10\", \"11\", \"12\", \"13\", \"14\", \"15\", \"16\", \"17\", \"18\", \"19\", \"20\", \"21\", \"22\", \"23\", \"24\", \"25\", \"26\", \"27\", \"28\", \"29\", \"30\", \"31\", \"32\", \"33\", \"34\", \"35\", \"36\", \"37\"], \"mode\": \"markers\", \"name\": \"average_precision_score_macro\", \"stepped\": false, \"type\": \"scatter\", \"data\": [0.8761183753061058, 0.8949515993637022, 0.8238375597697448, 0.8298927067653891, 0.7247935301339935, 0.8567592382794897, 0.6432190040815046, 0.6830013075876105, 0.7667977661682525, 0.7749702109873917, 0.7235473417940993, 0.7576287866010766, 0.7380543527237107, 0.8498829435831942, 0.7456269270798327, 0.7670594590381036, 0.7423478810005575, 0.6381561299988129, 0.7148204324504245, 0.6837581283267129, 0.7509523811696481, 0.8627500635676738, 0.8193291549796754, 0.6849049466656961, 0.746905814871175, 0.5, 0.8994643812342137, 0.8817987530281742, 0.8551060651508268, 0.9042773877884841, 0.579149271129812, 0.759312137737466, 0.7477467903269467, 0.6885275007287014, 0.898261168002562, 0.6090372205079387, 0.8051061813979169, 0.8129794046757768]}, {\"categories\": [\"0\", \"1\", \"2\", \"3\", \"4\", \"5\", \"6\", \"7\", \"8\", \"9\", \"10\", \"11\", \"12\", \"13\", \"14\", \"15\", \"16\", \"17\", \"18\", \"19\", \"20\", \"21\", \"22\", \"23\", \"24\", \"25\", \"26\", \"27\", \"28\", \"29\", \"30\", \"31\", \"32\", \"33\", \"34\", \"35\", \"36\", \"37\"], \"mode\": \"lines\", \"name\": \"average_precision_score_macro_max\", \"stepped\": true, \"type\": \"scatter\", \"data\": [0.8761183753061058, 0.8949515993637022, 0.8949515993637022, 0.8949515993637022, 0.8949515993637022, 0.8949515993637022, 0.8949515993637022, 0.8949515993637022, 0.8949515993637022, 0.8949515993637022, 0.8949515993637022, 0.8949515993637022, 0.8949515993637022, 0.8949515993637022, 0.8949515993637022, 0.8949515993637022, 0.8949515993637022, 0.8949515993637022, 0.8949515993637022, 0.8949515993637022, 0.8949515993637022, 0.8949515993637022, 0.8949515993637022, 0.8949515993637022, 0.8949515993637022, 0.8949515993637022, 0.8994643812342137, 0.8994643812342137, 0.8994643812342137, 0.9042773877884841, 0.9042773877884841, 0.9042773877884841, 0.9042773877884841, 0.9042773877884841, 0.9042773877884841, 0.9042773877884841, 0.9042773877884841, 0.9042773877884841]}], \"weighted_accuracy\": [{\"categories\": [\"0\", \"1\", \"2\", \"3\", \"4\", \"5\", \"6\", \"7\", \"8\", \"9\", \"10\", \"11\", \"12\", \"13\", \"14\", \"15\", \"16\", \"17\", \"18\", \"19\", \"20\", \"21\", \"22\", \"23\", \"24\", \"25\", \"26\", \"27\", \"28\", \"29\", \"30\", \"31\", \"32\", \"33\", \"34\", \"35\", \"36\", \"37\"], \"mode\": \"markers\", \"name\": \"weighted_accuracy\", \"stepped\": false, \"type\": \"scatter\", \"data\": [0.9957616980235221, 0.9953755454730753, 0.9718167316450147, 0.9936072956517039, 0.9486913182451048, 0.9940974077763757, 0.9265726161683331, 0.9995957652550409, 0.9995957652550409, 0.9995957652550409, 0.9995957652550409, 0.9995957652550409, 0.9040412752343947, 0.9965539444081072, 0.9498743325406371, 0.9995957652550409, 0.9716746061474414, 0.9995957652550409, 0.9353360054137005, 0.8707063237627756, 0.9333110101490294, 0.9946495209141512, 0.9965625050910024, 0.9311005378451679, 0.9357731513978994, 0.9995957652550409, 0.9952280907123839, 0.9937913065170205, 0.9961472128328147, 0.9959737591461039, 0.9995957652550409, 0.93609154172015, 0.9296944922901571, 0.9010993208993251, 0.9953722468051048, 0.8011714069824265, 0.9716788043716004, 0.9686227052014944]}, {\"categories\": [\"0\", \"1\", \"2\", \"3\", \"4\", \"5\", \"6\", \"7\", \"8\", \"9\", \"10\", \"11\", \"12\", \"13\", \"14\", \"15\", \"16\", \"17\", \"18\", \"19\", \"20\", \"21\", \"22\", \"23\", \"24\", \"25\", \"26\", \"27\", \"28\", \"29\", \"30\", \"31\", \"32\", \"33\", \"34\", \"35\", \"36\", \"37\"], \"mode\": \"lines\", \"name\": \"weighted_accuracy_max\", \"stepped\": true, \"type\": \"scatter\", \"data\": [0.9957616980235221, 0.9957616980235221, 0.9957616980235221, 0.9957616980235221, 0.9957616980235221, 0.9957616980235221, 0.9957616980235221, 0.9995957652550409, 0.9995957652550409, 0.9995957652550409, 0.9995957652550409, 0.9995957652550409, 0.9995957652550409, 0.9995957652550409, 0.9995957652550409, 0.9995957652550409, 0.9995957652550409, 0.9995957652550409, 0.9995957652550409, 0.9995957652550409, 0.9995957652550409, 0.9995957652550409, 0.9995957652550409, 0.9995957652550409, 0.9995957652550409, 0.9995957652550409, 0.9995957652550409, 0.9995957652550409, 0.9995957652550409, 0.9995957652550409, 0.9995957652550409, 0.9995957652550409, 0.9995957652550409, 0.9995957652550409, 0.9995957652550409, 0.9995957652550409, 0.9995957652550409, 0.9995957652550409]}], \"precision_score_micro\": [{\"categories\": [\"0\", \"1\", \"2\", \"3\", \"4\", \"5\", \"6\", \"7\", \"8\", \"9\", \"10\", \"11\", \"12\", \"13\", \"14\", \"15\", \"16\", \"17\", \"18\", \"19\", \"20\", \"21\", \"22\", \"23\", \"24\", \"25\", \"26\", \"27\", \"28\", \"29\", \"30\", \"31\", \"32\", \"33\", \"34\", \"35\", \"36\", \"37\"], \"mode\": \"markers\", \"name\": \"precision_score_micro\", \"stepped\": false, \"type\": \"scatter\", \"data\": [0.9876068376068377, 0.9894586894586895, 0.9713675213675214, 0.9866096866096866, 0.9492877492877493, 0.9897435897435898, 0.9202279202279202, 0.9804843304843304, 0.9804843304843304, 0.9804843304843304, 0.9804843304843304, 0.9804843304843304, 0.9047008547008547, 0.9847578347578348, 0.9502849002849003, 0.9804843304843304, 0.9715099715099714, 0.9804843304843304, 0.936039886039886, 0.8723646723646724, 0.9334757834757834, 0.9888888888888889, 0.9851851851851853, 0.9317663817663817, 0.9361823361823362, 0.9804843304843304, 0.9894586894586895, 0.9887464387464387, 0.9854700854700855, 0.9910256410256411, 0.9804843304843304, 0.9366096866096866, 0.9306267806267806, 0.9015669515669514, 0.9894586894586895, 0.8047008547008548, 0.9716524216524216, 0.9686609686609686]}, {\"categories\": [\"0\", \"1\", \"2\", \"3\", \"4\", \"5\", \"6\", \"7\", \"8\", \"9\", \"10\", \"11\", \"12\", \"13\", \"14\", \"15\", \"16\", \"17\", \"18\", \"19\", \"20\", \"21\", \"22\", \"23\", \"24\", \"25\", \"26\", \"27\", \"28\", \"29\", \"30\", \"31\", \"32\", \"33\", \"34\", \"35\", \"36\", \"37\"], \"mode\": \"lines\", \"name\": \"precision_score_micro_max\", \"stepped\": true, \"type\": \"scatter\", \"data\": [0.9876068376068377, 0.9894586894586895, 0.9894586894586895, 0.9894586894586895, 0.9894586894586895, 0.9897435897435898, 0.9897435897435898, 0.9897435897435898, 0.9897435897435898, 0.9897435897435898, 0.9897435897435898, 0.9897435897435898, 0.9897435897435898, 0.9897435897435898, 0.9897435897435898, 0.9897435897435898, 0.9897435897435898, 0.9897435897435898, 0.9897435897435898, 0.9897435897435898, 0.9897435897435898, 0.9897435897435898, 0.9897435897435898, 0.9897435897435898, 0.9897435897435898, 0.9897435897435898, 0.9897435897435898, 0.9897435897435898, 0.9897435897435898, 0.9910256410256411, 0.9910256410256411, 0.9910256410256411, 0.9910256410256411, 0.9910256410256411, 0.9910256410256411, 0.9910256410256411, 0.9910256410256411, 0.9910256410256411]}]}, \"metricName\": null, \"primaryMetricName\": \"norm_macro_recall\", \"showLegend\": false}, \"run_metrics\": [{\"name\": \"experiment_status\", \"run_id\": \"AutoML_4c5ca835-d091-4fc7-b266-d5b7223c9ed6\", \"categories\": [0, 1, 2, 3, 4, 5, 6, 7, 8, 9, 10, 11, 12, 13, 14], \"series\": [{\"data\": [\"DatasetEvaluation\", \"FeaturesGeneration\", \"DatasetFeaturization\", \"DatasetFeaturizationCompleted\", \"DatasetBalancing\", \"DatasetCrossValidationSplit\", \"ModelSelection\", \"BestRunExplainModel\", \"ModelExplanationDataSetSetup\", \"PickSurrogateModel\", \"EngineeredFeatureExplanations\", \"EngineeredFeatureExplanations\", \"RawFeaturesExplanations\", \"RawFeaturesExplanations\", \"BestRunExplainModel\"]}]}, {\"name\": \"experiment_status_description\", \"run_id\": \"AutoML_4c5ca835-d091-4fc7-b266-d5b7223c9ed6\", \"categories\": [0, 1, 2, 3, 4, 5, 6, 7, 8, 9, 10, 11, 12, 13, 14], \"series\": [{\"data\": [\"Gathering dataset statistics.\", \"Generating features for the dataset.\", \"Beginning to fit featurizers and featurize the dataset.\", \"Completed fit featurizers and featurizing the dataset.\", \"Performing class balancing sweeping\", \"Generating individually featurized CV splits.\", \"Beginning model selection.\", \"Best run model explanations started\", \"Model explanations data setup completed\", \"Choosing LightGBM as the surrogate model for explanations\", \"Computation of engineered features started\", \"Computation of engineered features completed\", \"Computation of raw features started\", \"Computation of raw features completed\", \"Best run model explanations completed\"]}]}, {\"name\": \"f1_score_micro\", \"run_id\": \"AutoML_4c5ca835-d091-4fc7-b266-d5b7223c9ed6\", \"categories\": [0], \"series\": [{\"data\": [0.9716524216524216]}]}, {\"name\": \"AUC_micro\", \"run_id\": \"AutoML_4c5ca835-d091-4fc7-b266-d5b7223c9ed6\", \"categories\": [0], \"series\": [{\"data\": [0.9970082426279007]}]}, {\"name\": \"weighted_accuracy\", \"run_id\": \"AutoML_4c5ca835-d091-4fc7-b266-d5b7223c9ed6\", \"categories\": [0], \"series\": [{\"data\": [0.9716788043716004]}]}, {\"name\": \"f1_score_weighted\", \"run_id\": \"AutoML_4c5ca835-d091-4fc7-b266-d5b7223c9ed6\", \"categories\": [0], \"series\": [{\"data\": [0.9774200815692718]}]}, {\"name\": \"accuracy\", \"run_id\": \"AutoML_4c5ca835-d091-4fc7-b266-d5b7223c9ed6\", \"categories\": [0], \"series\": [{\"data\": [0.9716524216524216]}]}, {\"name\": \"average_precision_score_micro\", \"run_id\": \"AutoML_4c5ca835-d091-4fc7-b266-d5b7223c9ed6\", \"categories\": [0], \"series\": [{\"data\": [0.9968784321973029]}]}, {\"name\": \"f1_score_macro\", \"run_id\": \"AutoML_4c5ca835-d091-4fc7-b266-d5b7223c9ed6\", \"categories\": [0], \"series\": [{\"data\": [0.7776619528495182]}]}, {\"name\": \"precision_score_micro\", \"run_id\": \"AutoML_4c5ca835-d091-4fc7-b266-d5b7223c9ed6\", \"categories\": [0], \"series\": [{\"data\": [0.9716524216524216]}]}, {\"name\": \"AUC_macro\", \"run_id\": \"AutoML_4c5ca835-d091-4fc7-b266-d5b7223c9ed6\", \"categories\": [0], \"series\": [{\"data\": [0.9799978874833976]}]}, {\"name\": \"average_precision_score_macro\", \"run_id\": \"AutoML_4c5ca835-d091-4fc7-b266-d5b7223c9ed6\", \"categories\": [0], \"series\": [{\"data\": [0.8051061813979169]}]}, {\"name\": \"recall_score_weighted\", \"run_id\": \"AutoML_4c5ca835-d091-4fc7-b266-d5b7223c9ed6\", \"categories\": [0], \"series\": [{\"data\": [0.9716524216524216]}]}, {\"name\": \"precision_score_weighted\", \"run_id\": \"AutoML_4c5ca835-d091-4fc7-b266-d5b7223c9ed6\", \"categories\": [0], \"series\": [{\"data\": [0.9880086621934551]}]}, {\"name\": \"recall_score_macro\", \"run_id\": \"AutoML_4c5ca835-d091-4fc7-b266-d5b7223c9ed6\", \"categories\": [0], \"series\": [{\"data\": [0.9701530010966627]}]}, {\"name\": \"balanced_accuracy\", \"run_id\": \"AutoML_4c5ca835-d091-4fc7-b266-d5b7223c9ed6\", \"categories\": [0], \"series\": [{\"data\": [0.9701530010966627]}]}, {\"name\": \"matthews_correlation\", \"run_id\": \"AutoML_4c5ca835-d091-4fc7-b266-d5b7223c9ed6\", \"categories\": [0], \"series\": [{\"data\": [0.6160875263101938]}]}, {\"name\": \"average_precision_score_weighted\", \"run_id\": \"AutoML_4c5ca835-d091-4fc7-b266-d5b7223c9ed6\", \"categories\": [0], \"series\": [{\"data\": [0.991849924454935]}]}, {\"name\": \"recall_score_micro\", \"run_id\": \"AutoML_4c5ca835-d091-4fc7-b266-d5b7223c9ed6\", \"categories\": [0], \"series\": [{\"data\": [0.9716524216524216]}]}, {\"name\": \"AUC_weighted\", \"run_id\": \"AutoML_4c5ca835-d091-4fc7-b266-d5b7223c9ed6\", \"categories\": [0], \"series\": [{\"data\": [0.9799978874833976]}]}, {\"name\": \"log_loss\", \"run_id\": \"AutoML_4c5ca835-d091-4fc7-b266-d5b7223c9ed6\", \"categories\": [0], \"series\": [{\"data\": [0.3129170437331355]}]}, {\"name\": \"precision_score_macro\", \"run_id\": \"AutoML_4c5ca835-d091-4fc7-b266-d5b7223c9ed6\", \"categories\": [0], \"series\": [{\"data\": [0.7029641303406372]}]}, {\"name\": \"norm_macro_recall\", \"run_id\": \"AutoML_4c5ca835-d091-4fc7-b266-d5b7223c9ed6\", \"categories\": [0], \"series\": [{\"data\": [0.9403060021933255]}]}], \"run_logs\": \"\\nRun is completed.\", \"graph\": {}, \"widget_settings\": {\"childWidgetDisplay\": \"popup\", \"send_telemetry\": false, \"log_level\": \"INFO\", \"sdk_version\": \"1.22.0\"}, \"loading\": false}"
     },
     "metadata": {},
     "output_type": "display_data"
    },
    {
     "data": {
      "text/plain": [
       "{'runId': 'AutoML_4c5ca835-d091-4fc7-b266-d5b7223c9ed6',\n",
       " 'target': 'my-cmp',\n",
       " 'status': 'Completed',\n",
       " 'startTimeUtc': '2021-03-24T18:07:28.043975Z',\n",
       " 'endTimeUtc': '2021-03-24T18:25:10.00042Z',\n",
       " 'properties': {'num_iterations': '1000',\n",
       "  'training_type': 'TrainFull',\n",
       "  'acquisition_function': 'EI',\n",
       "  'primary_metric': 'norm_macro_recall',\n",
       "  'train_split': '0',\n",
       "  'acquisition_parameter': '0',\n",
       "  'num_cross_validation': None,\n",
       "  'target': 'my-cmp',\n",
       "  'AMLSettingsJsonString': '{\"path\":null,\"name\":\"camels-clf\",\"subscription_id\":\"0c66ad45-500d-48af-80d3-0039ebf1975e\",\"resource_group\":\"final-rgp\",\"workspace_name\":\"my_ws\",\"region\":\"eastus\",\"compute_target\":\"my-cmp\",\"spark_service\":null,\"azure_service\":\"remote\",\"many_models\":false,\"pipeline_fetch_max_batch_size\":1,\"iterations\":1000,\"primary_metric\":\"norm_macro_recall\",\"task_type\":\"classification\",\"data_script\":null,\"validation_size\":0.0,\"n_cross_validations\":null,\"y_min\":null,\"y_max\":null,\"num_classes\":null,\"featurization\":\"auto\",\"_ignore_package_version_incompatibilities\":false,\"is_timeseries\":false,\"max_cores_per_iteration\":1,\"max_concurrent_iterations\":4,\"iteration_timeout_minutes\":null,\"mem_in_mb\":null,\"enforce_time_on_windows\":false,\"experiment_timeout_minutes\":20,\"experiment_exit_score\":null,\"whitelist_models\":null,\"blacklist_algos\":[\"TensorFlowLinearClassifier\",\"TensorFlowDNN\"],\"supported_models\":[\"BernoulliNaiveBayes\",\"ExtremeRandomTrees\",\"LightGBM\",\"LinearSVM\",\"SVM\",\"LogisticRegression\",\"DecisionTree\",\"AveragedPerceptronClassifier\",\"TensorFlowLinearClassifier\",\"TensorFlowDNN\",\"MultinomialNaiveBayes\",\"SGD\",\"GradientBoosting\",\"KNN\",\"XGBoostClassifier\",\"RandomForest\"],\"private_models\":[],\"auto_blacklist\":true,\"blacklist_samples_reached\":false,\"exclude_nan_labels\":true,\"verbosity\":20,\"_debug_log\":\"azureml_automl.log\",\"show_warnings\":false,\"model_explainability\":true,\"service_url\":null,\"sdk_url\":null,\"sdk_packages\":null,\"enable_onnx_compatible_models\":false,\"enable_split_onnx_featurizer_estimator_models\":false,\"vm_type\":\"STANDARD_DS2_V2\",\"telemetry_verbosity\":20,\"send_telemetry\":true,\"enable_dnn\":false,\"scenario\":\"SDK-1.13.0\",\"environment_label\":null,\"force_text_dnn\":false,\"enable_feature_sweeping\":true,\"enable_early_stopping\":true,\"early_stopping_n_iters\":10,\"metrics\":null,\"enable_ensembling\":true,\"enable_stack_ensembling\":true,\"ensemble_iterations\":15,\"enable_tf\":false,\"enable_subsampling\":null,\"subsample_seed\":null,\"enable_nimbusml\":false,\"enable_streaming\":false,\"force_streaming\":false,\"track_child_runs\":true,\"allowed_private_models\":[],\"label_column_name\":\"Target\",\"weight_column_name\":null,\"cv_split_column_names\":null,\"enable_local_managed\":false,\"_local_managed_run_id\":null,\"cost_mode\":1,\"lag_length\":0,\"metric_operation\":\"maximize\",\"preprocess\":true}',\n",
       "  'DataPrepJsonString': '{\\\\\"training_data\\\\\": \\\\\"{\\\\\\\\\\\\\"blocks\\\\\\\\\\\\\": [{\\\\\\\\\\\\\"id\\\\\\\\\\\\\": \\\\\\\\\\\\\"0bf14829-1c94-4233-bff9-0f3cb3de65f5\\\\\\\\\\\\\", \\\\\\\\\\\\\"type\\\\\\\\\\\\\": \\\\\\\\\\\\\"Microsoft.DPrep.GetDatastoreFilesBlock\\\\\\\\\\\\\", \\\\\\\\\\\\\"arguments\\\\\\\\\\\\\": {\\\\\\\\\\\\\"datastores\\\\\\\\\\\\\": [{\\\\\\\\\\\\\"datastoreName\\\\\\\\\\\\\": \\\\\\\\\\\\\"workspaceblobstore\\\\\\\\\\\\\", \\\\\\\\\\\\\"path\\\\\\\\\\\\\": \\\\\\\\\\\\\"UI/03-24-2021_054339_UTC/camel_data_after2010Q3.csv\\\\\\\\\\\\\", \\\\\\\\\\\\\"resourceGroup\\\\\\\\\\\\\": \\\\\\\\\\\\\"final-rgp\\\\\\\\\\\\\", \\\\\\\\\\\\\"subscription\\\\\\\\\\\\\": \\\\\\\\\\\\\"0c66ad45-500d-48af-80d3-0039ebf1975e\\\\\\\\\\\\\", \\\\\\\\\\\\\"workspaceName\\\\\\\\\\\\\": \\\\\\\\\\\\\"my_ws\\\\\\\\\\\\\"}]}, \\\\\\\\\\\\\"localData\\\\\\\\\\\\\": {}, \\\\\\\\\\\\\"isEnabled\\\\\\\\\\\\\": true, \\\\\\\\\\\\\"name\\\\\\\\\\\\\": null, \\\\\\\\\\\\\"annotation\\\\\\\\\\\\\": null}, {\\\\\\\\\\\\\"id\\\\\\\\\\\\\": \\\\\\\\\\\\\"361556db-a5fd-4242-aa07-756a05e08c0e\\\\\\\\\\\\\", \\\\\\\\\\\\\"type\\\\\\\\\\\\\": \\\\\\\\\\\\\"Microsoft.DPrep.ParseDelimitedBlock\\\\\\\\\\\\\", \\\\\\\\\\\\\"arguments\\\\\\\\\\\\\": {\\\\\\\\\\\\\"columnHeadersMode\\\\\\\\\\\\\": 1, \\\\\\\\\\\\\"fileEncoding\\\\\\\\\\\\\": 0, \\\\\\\\\\\\\"handleQuotedLineBreaks\\\\\\\\\\\\\": false, \\\\\\\\\\\\\"preview\\\\\\\\\\\\\": false, \\\\\\\\\\\\\"separator\\\\\\\\\\\\\": \\\\\\\\\\\\\",\\\\\\\\\\\\\", \\\\\\\\\\\\\"skipRows\\\\\\\\\\\\\": 0, \\\\\\\\\\\\\"skipRowsMode\\\\\\\\\\\\\": 0}, \\\\\\\\\\\\\"localData\\\\\\\\\\\\\": {}, \\\\\\\\\\\\\"isEnabled\\\\\\\\\\\\\": true, \\\\\\\\\\\\\"name\\\\\\\\\\\\\": null, \\\\\\\\\\\\\"annotation\\\\\\\\\\\\\": null}, {\\\\\\\\\\\\\"id\\\\\\\\\\\\\": \\\\\\\\\\\\\"af9a2324-93d4-44ac-8a84-d617089183c0\\\\\\\\\\\\\", \\\\\\\\\\\\\"type\\\\\\\\\\\\\": \\\\\\\\\\\\\"Microsoft.DPrep.DropColumnsBlock\\\\\\\\\\\\\", \\\\\\\\\\\\\"arguments\\\\\\\\\\\\\": {\\\\\\\\\\\\\"columns\\\\\\\\\\\\\": {\\\\\\\\\\\\\"type\\\\\\\\\\\\\": 0, \\\\\\\\\\\\\"details\\\\\\\\\\\\\": {\\\\\\\\\\\\\"selectedColumns\\\\\\\\\\\\\": [\\\\\\\\\\\\\"Path\\\\\\\\\\\\\", \\\\\\\\\\\\\"Column1\\\\\\\\\\\\\", \\\\\\\\\\\\\"AsOfDate\\\\\\\\\\\\\"]}}}, \\\\\\\\\\\\\"localData\\\\\\\\\\\\\": {}, \\\\\\\\\\\\\"isEnabled\\\\\\\\\\\\\": true, \\\\\\\\\\\\\"name\\\\\\\\\\\\\": null, \\\\\\\\\\\\\"annotation\\\\\\\\\\\\\": null}, {\\\\\\\\\\\\\"id\\\\\\\\\\\\\": \\\\\\\\\\\\\"71f4573a-148b-49c4-ba00-7d9920c6aabe\\\\\\\\\\\\\", \\\\\\\\\\\\\"type\\\\\\\\\\\\\": \\\\\\\\\\\\\"Microsoft.DPrep.SetColumnTypesBlock\\\\\\\\\\\\\", \\\\\\\\\\\\\"arguments\\\\\\\\\\\\\": {\\\\\\\\\\\\\"columnConversion\\\\\\\\\\\\\": [{\\\\\\\\\\\\\"column\\\\\\\\\\\\\": {\\\\\\\\\\\\\"type\\\\\\\\\\\\\": 2, \\\\\\\\\\\\\"details\\\\\\\\\\\\\": {\\\\\\\\\\\\\"selectedColumn\\\\\\\\\\\\\": \\\\\\\\\\\\\"Path\\\\\\\\\\\\\"}}, \\\\\\\\\\\\\"typeProperty\\\\\\\\\\\\\": 0}, {\\\\\\\\\\\\\"column\\\\\\\\\\\\\": {\\\\\\\\\\\\\"type\\\\\\\\\\\\\": 2, \\\\\\\\\\\\\"details\\\\\\\\\\\\\": {\\\\\\\\\\\\\"selectedColumn\\\\\\\\\\\\\": \\\\\\\\\\\\\"Column1\\\\\\\\\\\\\"}}, \\\\\\\\\\\\\"typeProperty\\\\\\\\\\\\\": 2}, {\\\\\\\\\\\\\"column\\\\\\\\\\\\\": {\\\\\\\\\\\\\"type\\\\\\\\\\\\\": 2, \\\\\\\\\\\\\"details\\\\\\\\\\\\\": {\\\\\\\\\\\\\"selectedColumn\\\\\\\\\\\\\": \\\\\\\\\\\\\"AsOfDate\\\\\\\\\\\\\"}}, \\\\\\\\\\\\\"typeArguments\\\\\\\\\\\\\": {\\\\\\\\\\\\\"dateTimeFormats\\\\\\\\\\\\\": [\\\\\\\\\\\\\"%m/%d/%Y\\\\\\\\\\\\\"]}, \\\\\\\\\\\\\"typeProperty\\\\\\\\\\\\\": 4}, {\\\\\\\\\\\\\"column\\\\\\\\\\\\\": {\\\\\\\\\\\\\"type\\\\\\\\\\\\\": 2, \\\\\\\\\\\\\"details\\\\\\\\\\\\\": {\\\\\\\\\\\\\"selectedColumn\\\\\\\\\\\\\": \\\\\\\\\\\\\"Target\\\\\\\\\\\\\"}}, \\\\\\\\\\\\\"typeProperty\\\\\\\\\\\\\": 2}, {\\\\\\\\\\\\\"column\\\\\\\\\\\\\": {\\\\\\\\\\\\\"type\\\\\\\\\\\\\": 2, \\\\\\\\\\\\\"details\\\\\\\\\\\\\": {\\\\\\\\\\\\\"selectedColumn\\\\\\\\\\\\\": \\\\\\\\\\\\\"EQTA\\\\\\\\\\\\\"}}, \\\\\\\\\\\\\"typeProperty\\\\\\\\\\\\\": 3}, {\\\\\\\\\\\\\"column\\\\\\\\\\\\\": {\\\\\\\\\\\\\"type\\\\\\\\\\\\\": 2, \\\\\\\\\\\\\"details\\\\\\\\\\\\\": {\\\\\\\\\\\\\"selectedColumn\\\\\\\\\\\\\": \\\\\\\\\\\\\"EQTL\\\\\\\\\\\\\"}}, \\\\\\\\\\\\\"typeProperty\\\\\\\\\\\\\": 3}, {\\\\\\\\\\\\\"column\\\\\\\\\\\\\": {\\\\\\\\\\\\\"type\\\\\\\\\\\\\": 2, \\\\\\\\\\\\\"details\\\\\\\\\\\\\": {\\\\\\\\\\\\\"selectedColumn\\\\\\\\\\\\\": \\\\\\\\\\\\\"LLRTA\\\\\\\\\\\\\"}}, \\\\\\\\\\\\\"typeProperty\\\\\\\\\\\\\": 3}, {\\\\\\\\\\\\\"column\\\\\\\\\\\\\": {\\\\\\\\\\\\\"type\\\\\\\\\\\\\": 2, \\\\\\\\\\\\\"details\\\\\\\\\\\\\": {\\\\\\\\\\\\\"selectedColumn\\\\\\\\\\\\\": \\\\\\\\\\\\\"LLRGL\\\\\\\\\\\\\"}}, \\\\\\\\\\\\\"typeProperty\\\\\\\\\\\\\": 3}, {\\\\\\\\\\\\\"column\\\\\\\\\\\\\": {\\\\\\\\\\\\\"type\\\\\\\\\\\\\": 2, \\\\\\\\\\\\\"details\\\\\\\\\\\\\": {\\\\\\\\\\\\\"selectedColumn\\\\\\\\\\\\\": \\\\\\\\\\\\\"OEXTA\\\\\\\\\\\\\"}}, \\\\\\\\\\\\\"typeProperty\\\\\\\\\\\\\": 3}, {\\\\\\\\\\\\\"column\\\\\\\\\\\\\": {\\\\\\\\\\\\\"type\\\\\\\\\\\\\": 2, \\\\\\\\\\\\\"details\\\\\\\\\\\\\": {\\\\\\\\\\\\\"selectedColumn\\\\\\\\\\\\\": \\\\\\\\\\\\\"INCEMP\\\\\\\\\\\\\"}}, \\\\\\\\\\\\\"typeProperty\\\\\\\\\\\\\": 3}, {\\\\\\\\\\\\\"column\\\\\\\\\\\\\": {\\\\\\\\\\\\\"type\\\\\\\\\\\\\": 2, \\\\\\\\\\\\\"details\\\\\\\\\\\\\": {\\\\\\\\\\\\\"selectedColumn\\\\\\\\\\\\\": \\\\\\\\\\\\\"ROA\\\\\\\\\\\\\"}}, \\\\\\\\\\\\\"typeProperty\\\\\\\\\\\\\": 3}, {\\\\\\\\\\\\\"column\\\\\\\\\\\\\": {\\\\\\\\\\\\\"type\\\\\\\\\\\\\": 2, \\\\\\\\\\\\\"details\\\\\\\\\\\\\": {\\\\\\\\\\\\\"selectedColumn\\\\\\\\\\\\\": \\\\\\\\\\\\\"ROE\\\\\\\\\\\\\"}}, \\\\\\\\\\\\\"typeProperty\\\\\\\\\\\\\": 3}, {\\\\\\\\\\\\\"column\\\\\\\\\\\\\": {\\\\\\\\\\\\\"type\\\\\\\\\\\\\": 2, \\\\\\\\\\\\\"details\\\\\\\\\\\\\": {\\\\\\\\\\\\\"selectedColumn\\\\\\\\\\\\\": \\\\\\\\\\\\\"TDTL\\\\\\\\\\\\\"}}, \\\\\\\\\\\\\"typeProperty\\\\\\\\\\\\\": 3}, {\\\\\\\\\\\\\"column\\\\\\\\\\\\\": {\\\\\\\\\\\\\"type\\\\\\\\\\\\\": 2, \\\\\\\\\\\\\"details\\\\\\\\\\\\\": {\\\\\\\\\\\\\"selectedColumn\\\\\\\\\\\\\": \\\\\\\\\\\\\"TDTA\\\\\\\\\\\\\"}}, \\\\\\\\\\\\\"typeProperty\\\\\\\\\\\\\": 3}, {\\\\\\\\\\\\\"column\\\\\\\\\\\\\": {\\\\\\\\\\\\\"type\\\\\\\\\\\\\": 2, \\\\\\\\\\\\\"details\\\\\\\\\\\\\": {\\\\\\\\\\\\\"selectedColumn\\\\\\\\\\\\\": \\\\\\\\\\\\\"TATA\\\\\\\\\\\\\"}}, \\\\\\\\\\\\\"typeProperty\\\\\\\\\\\\\": 3}]}, \\\\\\\\\\\\\"localData\\\\\\\\\\\\\": {}, \\\\\\\\\\\\\"isEnabled\\\\\\\\\\\\\": true, \\\\\\\\\\\\\"name\\\\\\\\\\\\\": null, \\\\\\\\\\\\\"annotation\\\\\\\\\\\\\": null}], \\\\\\\\\\\\\"inspectors\\\\\\\\\\\\\": [], \\\\\\\\\\\\\"meta\\\\\\\\\\\\\": {\\\\\\\\\\\\\"savedDatasetId\\\\\\\\\\\\\": \\\\\\\\\\\\\"e5086eba-aa22-4910-82dd-5b196e33b205\\\\\\\\\\\\\", \\\\\\\\\\\\\"datasetType\\\\\\\\\\\\\": \\\\\\\\\\\\\"tabular\\\\\\\\\\\\\", \\\\\\\\\\\\\"subscriptionId\\\\\\\\\\\\\": \\\\\\\\\\\\\"0c66ad45-500d-48af-80d3-0039ebf1975e\\\\\\\\\\\\\", \\\\\\\\\\\\\"workspaceId\\\\\\\\\\\\\": \\\\\\\\\\\\\"76a84e9f-15e6-4c3b-a3d4-64fa11fb217b\\\\\\\\\\\\\", \\\\\\\\\\\\\"workspaceLocation\\\\\\\\\\\\\": \\\\\\\\\\\\\"eastus\\\\\\\\\\\\\"}}\\\\\", \\\\\"activities\\\\\": 0}',\n",
       "  'EnableSubsampling': None,\n",
       "  'runTemplate': 'AutoML',\n",
       "  'azureml.runsource': 'automl',\n",
       "  'display_task_type': 'classification',\n",
       "  'dependencies_versions': '{\"azureml-widgets\": \"1.22.0\", \"azureml-train\": \"1.22.0\", \"azureml-train-restclients-hyperdrive\": \"1.22.0\", \"azureml-train-core\": \"1.22.0\", \"azureml-train-automl\": \"1.22.0\", \"azureml-train-automl-runtime\": \"1.22.0\", \"azureml-train-automl-client\": \"1.22.0\", \"azureml-tensorboard\": \"1.22.0\", \"azureml-telemetry\": \"1.22.0\", \"azureml-sdk\": \"1.22.0\", \"azureml-samples\": \"0+unknown\", \"azureml-pipeline\": \"1.22.0\", \"azureml-pipeline-steps\": \"1.22.0\", \"azureml-pipeline-core\": \"1.22.0\", \"azureml-opendatasets\": \"1.22.0\", \"azureml-model-management-sdk\": \"1.0.1b6.post1\", \"azureml-mlflow\": \"1.22.0\", \"azureml-interpret\": \"1.22.0\", \"azureml-explain-model\": \"1.22.0\", \"azureml-defaults\": \"1.22.0\", \"azureml-dataset-runtime\": \"1.22.0\", \"azureml-dataprep\": \"2.9.1\", \"azureml-dataprep-rslex\": \"1.7.0\", \"azureml-dataprep-native\": \"29.0.0\", \"azureml-datadrift\": \"1.22.0\", \"azureml-core\": \"1.22.0\", \"azureml-contrib-services\": \"1.22.0\", \"azureml-contrib-server\": \"1.22.0\", \"azureml-contrib-reinforcementlearning\": \"1.22.0\", \"azureml-contrib-pipeline-steps\": \"1.22.0\", \"azureml-contrib-notebook\": \"1.22.0\", \"azureml-contrib-interpret\": \"1.22.0\", \"azureml-contrib-gbdt\": \"1.22.0\", \"azureml-contrib-fairness\": \"1.22.0\", \"azureml-contrib-dataset\": \"1.22.0\", \"azureml-cli-common\": \"1.22.0\", \"azureml-automl-runtime\": \"1.22.0\", \"azureml-automl-core\": \"1.22.0\", \"azureml-accel-models\": \"1.22.0\"}',\n",
       "  '_aml_system_scenario_identification': 'Remote.Parent',\n",
       "  'ClientType': 'SDK',\n",
       "  'environment_cpu_name': 'AzureML-AutoML',\n",
       "  'environment_cpu_label': 'prod',\n",
       "  'environment_gpu_name': 'AzureML-AutoML-GPU',\n",
       "  'environment_gpu_label': 'prod',\n",
       "  'root_attribution': 'automl',\n",
       "  'attribution': 'AutoML',\n",
       "  'Orchestrator': 'AutoML',\n",
       "  'CancelUri': 'https://eastus.experiments.azureml.net/jasmine/v1.0/subscriptions/0c66ad45-500d-48af-80d3-0039ebf1975e/resourceGroups/final-rgp/providers/Microsoft.MachineLearningServices/workspaces/my_ws/experimentids/7ef4db68-2cc8-4556-b9f5-a0915e73df6e/cancel/AutoML_4c5ca835-d091-4fc7-b266-d5b7223c9ed6',\n",
       "  'ClientSdkVersion': '1.24.0',\n",
       "  'snapshotId': '00000000-0000-0000-0000-000000000000',\n",
       "  'SetupRunId': 'AutoML_4c5ca835-d091-4fc7-b266-d5b7223c9ed6_setup',\n",
       "  'SetupRunContainerId': 'dcid.AutoML_4c5ca835-d091-4fc7-b266-d5b7223c9ed6_setup',\n",
       "  'FeaturizationRunJsonPath': 'featurizer_container.json',\n",
       "  'FeaturizationRunId': 'AutoML_4c5ca835-d091-4fc7-b266-d5b7223c9ed6_featurize',\n",
       "  'ProblemInfoJsonString': '{\"dataset_num_categorical\": 0, \"is_sparse\": false, \"subsampling\": false, \"dataset_classes\": 2, \"dataset_features\": 11, \"dataset_samples\": 7020, \"single_frequency_class_detected\": false}',\n",
       "  'ModelExplainRunId': 'AutoML_4c5ca835-d091-4fc7-b266-d5b7223c9ed6_ModelExplain'},\n",
       " 'inputDatasets': [{'dataset': {'id': 'e5086eba-aa22-4910-82dd-5b196e33b205'}, 'consumptionDetails': {'type': 'RunInput', 'inputName': 'training_data', 'mechanism': 'Direct'}}],\n",
       " 'outputDatasets': [],\n",
       " 'logFiles': {},\n",
       " 'submittedBy': 'Dmitry Mikhaylov'}"
      ]
     },
     "execution_count": 55,
     "metadata": {},
     "output_type": "execute_result"
    },
    {
     "data": {
      "application/vnd.jupyter.widget-view+json": {
       "model_id": "",
       "version_major": 2,
       "version_minor": 0
      },
      "text/plain": [
       "_UserRunWidget(widget_settings={'childWidgetDisplay': 'popup', 'send_telemetry': False, 'log_level': 'INFO', '…"
      ]
     },
     "metadata": {},
     "output_type": "display_data"
    },
    {
     "data": {
      "application/aml.mini.widget.v1": "{\"loading\": true}"
     },
     "metadata": {},
     "output_type": "display_data"
    },
    {
     "data": {
      "application/vnd.jupyter.widget-view+json": {
       "model_id": "",
       "version_major": 2,
       "version_minor": 0
      },
      "text/plain": [
       "_UserRunWidget(widget_settings={'childWidgetDisplay': 'popup', 'send_telemetry': False, 'log_level': 'INFO', '…"
      ]
     },
     "metadata": {},
     "output_type": "display_data"
    },
    {
     "data": {
      "application/aml.mini.widget.v1": "{\"loading\": true}"
     },
     "metadata": {},
     "output_type": "display_data"
    },
    {
     "data": {
      "application/vnd.jupyter.widget-view+json": {
       "model_id": "5c9dfe50715f4512916eee18b294d541",
       "version_major": 2,
       "version_minor": 0
      },
      "text/plain": [
       "_UserRunWidget(widget_settings={'childWidgetDisplay': 'popup', 'send_telemetry': False, 'log_level': 'INFO', '…"
      ]
     },
     "metadata": {},
     "output_type": "display_data"
    },
    {
     "data": {
      "application/aml.mini.widget.v1": "{\"loading\": true}"
     },
     "metadata": {},
     "output_type": "display_data"
    }
   ],
   "source": [
    "remote_run = exp.submit(config=automl_config, show_output=False) \n",
    "RunDetails(remote_run).show() \n",
    "remote_run.wait_for_completion(show_output=False)"
   ]
  },
  {
   "cell_type": "code",
   "execution_count": 60,
   "metadata": {
    "gather": {
     "logged": 1616550174548
    },
    "jupyter": {
     "outputs_hidden": false,
     "source_hidden": false
    },
    "nteract": {
     "transient": {
      "deleting": false
     }
    }
   },
   "outputs": [],
   "source": [
    "#remote_run.wait_for_completion(show_output=False)"
   ]
  },
  {
   "cell_type": "code",
   "execution_count": 309,
   "metadata": {
    "gather": {
     "logged": 1616550177228
    }
   },
   "outputs": [
    {
     "name": "stdout",
     "output_type": "stream",
     "text": [
      "Run Status: Completed\n"
     ]
    }
   ],
   "source": [
    "print(\"Run Status:\", remote_run.get_status())"
   ]
  },
  {
   "cell_type": "markdown",
   "metadata": {},
   "source": [
    "## Best Model\n",
    "\n",
    "Get the best model from the automl experiments and display all the properties of the model.\n",
    "\n"
   ]
  },
  {
   "cell_type": "code",
   "execution_count": 59,
   "metadata": {
    "gather": {
     "logged": 1616550183974
    },
    "jupyter": {
     "outputs_hidden": false,
     "source_hidden": false
    },
    "nteract": {
     "transient": {
      "deleting": false
     }
    }
   },
   "outputs": [
    {
     "name": "stdout",
     "output_type": "stream",
     "text": [
      "{'experiment_status': ['DatasetEvaluation', 'FeaturesGeneration', 'DatasetFeaturization', 'DatasetFeaturizationCompleted', 'DatasetBalancing', 'DatasetCrossValidationSplit', 'ModelSelection'], 'experiment_status_description': ['Gathering dataset statistics.', 'Generating features for the dataset.', 'Beginning to fit featurizers and featurize the dataset.', 'Completed fit featurizers and featurizing the dataset.', 'Performing class balancing sweeping', 'Generating individually featurized CV splits.', 'Beginning model selection.'], 'f1_score_micro': 0.9716524216524216, 'AUC_micro': 0.9970082426279007, 'weighted_accuracy': 0.9716788043716004, 'f1_score_weighted': 0.9774200815692718, 'accuracy': 0.9716524216524216, 'average_precision_score_micro': 0.9968784321973029, 'f1_score_macro': 0.7776619528495182, 'precision_score_micro': 0.9716524216524216, 'AUC_macro': 0.9799978874833976, 'average_precision_score_macro': 0.8051061813979169, 'recall_score_weighted': 0.9716524216524216, 'precision_score_weighted': 0.9880086621934551, 'recall_score_macro': 0.9701530010966627, 'balanced_accuracy': 0.9701530010966627, 'matthews_correlation': 0.6160875263101938, 'average_precision_score_weighted': 0.991849924454935, 'recall_score_micro': 0.9716524216524216, 'AUC_weighted': 0.9799978874833976, 'log_loss': 0.3129170437331355, 'precision_score_macro': 0.7029641303406372, 'norm_macro_recall': 0.9403060021933255}\n"
     ]
    }
   ],
   "source": [
    "print(remote_run.get_metrics())"
   ]
  },
  {
   "cell_type": "markdown",
   "metadata": {
    "nteract": {
     "transient": {
      "deleting": false
     }
    }
   },
   "source": [
    "Veiw the files that were created for the best run:"
   ]
  },
  {
   "cell_type": "markdown",
   "metadata": {
    "nteract": {
     "transient": {
      "deleting": false
     }
    }
   },
   "source": [
    "View dependencies for the best run model:"
   ]
  },
  {
   "cell_type": "code",
   "execution_count": 64,
   "metadata": {
    "gather": {
     "logged": 1616547685651
    },
    "jupyter": {
     "outputs_hidden": false,
     "source_hidden": false
    },
    "nteract": {
     "transient": {
      "deleting": false
     }
    }
   },
   "outputs": [
    {
     "data": {
      "text/plain": [
       "{'azureml-widgets': '1.22.0',\n",
       " 'azureml-train': '1.22.0',\n",
       " 'azureml-train-restclients-hyperdrive': '1.22.0',\n",
       " 'azureml-train-core': '1.22.0',\n",
       " 'azureml-train-automl': '1.22.0',\n",
       " 'azureml-train-automl-runtime': '1.22.0',\n",
       " 'azureml-train-automl-client': '1.22.0',\n",
       " 'azureml-tensorboard': '1.22.0',\n",
       " 'azureml-telemetry': '1.22.0',\n",
       " 'azureml-sdk': '1.22.0',\n",
       " 'azureml-samples': '0+unknown',\n",
       " 'azureml-pipeline': '1.22.0',\n",
       " 'azureml-pipeline-steps': '1.22.0',\n",
       " 'azureml-pipeline-core': '1.22.0',\n",
       " 'azureml-opendatasets': '1.22.0',\n",
       " 'azureml-model-management-sdk': '1.0.1b6.post1',\n",
       " 'azureml-mlflow': '1.22.0',\n",
       " 'azureml-interpret': '1.22.0',\n",
       " 'azureml-explain-model': '1.22.0',\n",
       " 'azureml-defaults': '1.22.0',\n",
       " 'azureml-dataset-runtime': '1.22.0',\n",
       " 'azureml-dataprep': '2.9.1',\n",
       " 'azureml-dataprep-rslex': '1.7.0',\n",
       " 'azureml-dataprep-native': '29.0.0',\n",
       " 'azureml-datadrift': '1.22.0',\n",
       " 'azureml-core': '1.22.0',\n",
       " 'azureml-contrib-services': '1.22.0',\n",
       " 'azureml-contrib-server': '1.22.0',\n",
       " 'azureml-contrib-reinforcementlearning': '1.22.0',\n",
       " 'azureml-contrib-pipeline-steps': '1.22.0',\n",
       " 'azureml-contrib-notebook': '1.22.0',\n",
       " 'azureml-contrib-interpret': '1.22.0',\n",
       " 'azureml-contrib-gbdt': '1.22.0',\n",
       " 'azureml-contrib-fairness': '1.22.0',\n",
       " 'azureml-contrib-dataset': '1.22.0',\n",
       " 'azureml-cli-common': '1.22.0',\n",
       " 'azureml-automl-runtime': '1.22.0',\n",
       " 'azureml-automl-core': '1.22.0',\n",
       " 'azureml-accel-models': '1.22.0'}"
      ]
     },
     "execution_count": 64,
     "metadata": {},
     "output_type": "execute_result"
    }
   ],
   "source": [
    "remote_run.get_run_sdk_dependencies()"
   ]
  },
  {
   "cell_type": "code",
   "execution_count": 62,
   "metadata": {
    "gather": {
     "logged": 1616550217058
    },
    "jupyter": {
     "outputs_hidden": false,
     "source_hidden": false
    },
    "nteract": {
     "transient": {
      "deleting": false
     }
    }
   },
   "outputs": [
    {
     "name": "stderr",
     "output_type": "stream",
     "text": [
      "WARNING:root:The version of the SDK does not match the version the model was trained on.\n",
      "WARNING:root:The consistency in the result may not be guaranteed.\n",
      "WARNING:root:Package:azureml-automl-core, training version:1.24.0, current version:1.22.0\n",
      "Package:azureml-automl-runtime, training version:1.24.0, current version:1.22.0\n",
      "Package:azureml-core, training version:1.24.0.post1, current version:1.22.0\n",
      "Package:azureml-dataprep, training version:2.11.2, current version:2.9.1\n",
      "Package:azureml-dataprep-native, training version:30.0.0, current version:29.0.0\n",
      "Package:azureml-dataprep-rslex, training version:1.9.1, current version:1.7.0\n",
      "Package:azureml-dataset-runtime, training version:1.24.0, current version:1.22.0\n",
      "Package:azureml-defaults, training version:1.24.0, current version:1.22.0\n",
      "Package:azureml-interpret, training version:1.24.0, current version:1.22.0\n",
      "Package:azureml-mlflow, training version:1.24.0, current version:1.22.0\n",
      "Package:azureml-pipeline-core, training version:1.24.0, current version:1.22.0\n",
      "Package:azureml-telemetry, training version:1.24.0, current version:1.22.0\n",
      "Package:azureml-train-automl-client, training version:1.24.0, current version:1.22.0\n",
      "Package:azureml-train-automl-runtime, training version:1.24.0, current version:1.22.0\n",
      "WARNING:root:Please ensure the version of your local conda dependencies match the version on which your model was trained in order to properly retrieve your model.\n"
     ]
    }
   ],
   "source": [
    "best_run, fitted_model = remote_run.get_output()"
   ]
  },
  {
   "cell_type": "markdown",
   "metadata": {},
   "source": [
    "The line below should give the preprocessor(s) and algorithm (estimator) used"
   ]
  },
  {
   "cell_type": "code",
   "execution_count": 63,
   "metadata": {
    "gather": {
     "logged": 1616550294217
    },
    "jupyter": {
     "outputs_hidden": false,
     "source_hidden": false
    },
    "nteract": {
     "transient": {
      "deleting": false
     }
    }
   },
   "outputs": [
    {
     "data": {
      "text/plain": [
       "('prefittedsoftvotingclassifier',\n",
       " PreFittedSoftVotingClassifier(classification_labels=None,\n",
       "                               estimators=[('16',\n",
       "                                            Pipeline(memory=None,\n",
       "                                                     steps=[('standardscalerwrapper',\n",
       "                                                             <azureml.automl.runtime.shared.model_wrappers.StandardScalerWrapper object at 0x7f216c128828>),\n",
       "                                                            ('randomforestclassifier',\n",
       "                                                             RandomForestClassifier(bootstrap=True,\n",
       "                                                                                    ccp_alpha=0.0,\n",
       "                                                                                    class_weight='balanced',\n",
       "                                                                                    criterion='gini',\n",
       "                                                                                    max_depth=N...\n",
       "                                                                                    min_samples_split=0.6657894736842105,\n",
       "                                                                                    min_weight_fraction_leaf=0.0,\n",
       "                                                                                    n_estimators=200,\n",
       "                                                                                    n_jobs=1,\n",
       "                                                                                    oob_score=False,\n",
       "                                                                                    random_state=None,\n",
       "                                                                                    verbose=0,\n",
       "                                                                                    warm_start=False))],\n",
       "                                                     verbose=False))],\n",
       "                               flatten_transform=None,\n",
       "                               weights=[0.16666666666666666, 0.08333333333333333,\n",
       "                                        0.08333333333333333, 0.08333333333333333,\n",
       "                                        0.08333333333333333, 0.08333333333333333,\n",
       "                                        0.08333333333333333, 0.08333333333333333,\n",
       "                                        0.25]))"
      ]
     },
     "execution_count": 63,
     "metadata": {},
     "output_type": "execute_result"
    }
   ],
   "source": [
    "estimator = fitted_model.steps[-1]\n",
    "estimator"
   ]
  },
  {
   "cell_type": "markdown",
   "metadata": {},
   "source": [
    "Specifically, the voting model consists of the following 9 components:"
   ]
  },
  {
   "cell_type": "code",
   "execution_count": 73,
   "metadata": {},
   "outputs": [
    {
     "data": {
      "text/plain": [
       "'[16, 4, 14, 2, 32, 8, 20, 6, 25]'"
      ]
     },
     "execution_count": 73,
     "metadata": {},
     "output_type": "execute_result"
    }
   ],
   "source": [
    "best_run.get_tags()['ensembled_iterations']"
   ]
  },
  {
   "cell_type": "code",
   "execution_count": 74,
   "metadata": {},
   "outputs": [
    {
     "data": {
      "text/plain": [
       "\"['RandomForest', 'RandomForest', 'RandomForest', 'RandomForest', 'ExtremeRandomTrees', 'ExtremeRandomTrees', 'ExtremeRandomTrees', 'ExtremeRandomTrees', 'RandomForest']\""
      ]
     },
     "execution_count": 74,
     "metadata": {},
     "output_type": "execute_result"
    }
   ],
   "source": [
    "best_run.get_tags()['ensembled_algorithms']"
   ]
  },
  {
   "cell_type": "code",
   "execution_count": 75,
   "metadata": {
    "gather": {
     "logged": 1616550334646
    }
   },
   "outputs": [
    {
     "data": {
      "text/plain": [
       "'[0.16666666666666666, 0.08333333333333333, 0.08333333333333333, 0.08333333333333333, 0.08333333333333333, 0.08333333333333333, 0.08333333333333333, 0.08333333333333333, 0.25]'"
      ]
     },
     "execution_count": 75,
     "metadata": {},
     "output_type": "execute_result"
    }
   ],
   "source": [
    "best_run.get_tags()['ensemble_weights']"
   ]
  },
  {
   "cell_type": "markdown",
   "metadata": {
    "nteract": {
     "transient": {
      "deleting": false
     }
    }
   },
   "source": [
    "Save the best model"
   ]
  },
  {
   "cell_type": "code",
   "execution_count": 76,
   "metadata": {
    "gather": {
     "logged": 1616550338399
    },
    "jupyter": {
     "outputs_hidden": false,
     "source_hidden": false
    },
    "nteract": {
     "transient": {
      "deleting": false
     }
    }
   },
   "outputs": [
    {
     "data": {
      "text/plain": [
       "['fitted_automl_model.joblib']"
      ]
     },
     "execution_count": 76,
     "metadata": {},
     "output_type": "execute_result"
    }
   ],
   "source": [
    "joblib.dump(value=fitted_model, filename=\"fitted_automl_model.joblib\")"
   ]
  },
  {
   "cell_type": "markdown",
   "metadata": {
    "nteract": {
     "transient": {
      "deleting": false
     }
    }
   },
   "source": [
    "### `VotingEnsemble` model validation\n",
    "Load the fitted model for testing"
   ]
  },
  {
   "cell_type": "code",
   "execution_count": 321,
   "metadata": {
    "gather": {
     "logged": 1616551999863
    },
    "jupyter": {
     "outputs_hidden": false,
     "source_hidden": false
    },
    "nteract": {
     "transient": {
      "deleting": false
     }
    }
   },
   "outputs": [],
   "source": [
    "best_model = joblib.load('fitted_automl_model.joblib')"
   ]
  },
  {
   "cell_type": "markdown",
   "metadata": {
    "nteract": {
     "transient": {
      "deleting": false
     }
    }
   },
   "source": [
    "Fetch sample dataset, isolate Target in vector 'y'"
   ]
  },
  {
   "cell_type": "code",
   "execution_count": 322,
   "metadata": {
    "gather": {
     "logged": 1616551996113
    },
    "jupyter": {
     "outputs_hidden": false,
     "source_hidden": false
    },
    "nteract": {
     "transient": {
      "deleting": false
     }
    }
   },
   "outputs": [
    {
     "data": {
      "text/html": [
       "<div>\n",
       "<style scoped>\n",
       "    .dataframe tbody tr th:only-of-type {\n",
       "        vertical-align: middle;\n",
       "    }\n",
       "\n",
       "    .dataframe tbody tr th {\n",
       "        vertical-align: top;\n",
       "    }\n",
       "\n",
       "    .dataframe thead th {\n",
       "        text-align: right;\n",
       "    }\n",
       "</style>\n",
       "<table border=\"1\" class=\"dataframe\">\n",
       "  <thead>\n",
       "    <tr style=\"text-align: right;\">\n",
       "      <th></th>\n",
       "      <th>Column2</th>\n",
       "      <th>EQTA</th>\n",
       "      <th>EQTL</th>\n",
       "      <th>LLRTA</th>\n",
       "      <th>LLRGL</th>\n",
       "      <th>OEXTA</th>\n",
       "      <th>INCEMP</th>\n",
       "      <th>ROA</th>\n",
       "      <th>ROE</th>\n",
       "      <th>TDTL</th>\n",
       "      <th>TDTA</th>\n",
       "      <th>TATA</th>\n",
       "    </tr>\n",
       "  </thead>\n",
       "  <tbody>\n",
       "    <tr>\n",
       "      <th>4967</th>\n",
       "      <td>949154</td>\n",
       "      <td>0.09</td>\n",
       "      <td>0.11</td>\n",
       "      <td>0.01</td>\n",
       "      <td>0.02</td>\n",
       "      <td>0.02</td>\n",
       "      <td>33.14</td>\n",
       "      <td>0.01</td>\n",
       "      <td>0.10</td>\n",
       "      <td>1.12</td>\n",
       "      <td>0.87</td>\n",
       "      <td>0.06</td>\n",
       "    </tr>\n",
       "    <tr>\n",
       "      <th>5856</th>\n",
       "      <td>2737029</td>\n",
       "      <td>0.02</td>\n",
       "      <td>0.03</td>\n",
       "      <td>0.06</td>\n",
       "      <td>0.08</td>\n",
       "      <td>0.02</td>\n",
       "      <td>-320.47</td>\n",
       "      <td>-0.05</td>\n",
       "      <td>-2.30</td>\n",
       "      <td>1.11</td>\n",
       "      <td>0.88</td>\n",
       "      <td>0.00</td>\n",
       "    </tr>\n",
       "    <tr>\n",
       "      <th>3231</th>\n",
       "      <td>614948</td>\n",
       "      <td>0.12</td>\n",
       "      <td>0.26</td>\n",
       "      <td>0.01</td>\n",
       "      <td>0.01</td>\n",
       "      <td>0.02</td>\n",
       "      <td>34.79</td>\n",
       "      <td>0.01</td>\n",
       "      <td>0.06</td>\n",
       "      <td>1.59</td>\n",
       "      <td>0.75</td>\n",
       "      <td>0.44</td>\n",
       "    </tr>\n",
       "    <tr>\n",
       "      <th>358</th>\n",
       "      <td>43511</td>\n",
       "      <td>0.09</td>\n",
       "      <td>0.12</td>\n",
       "      <td>0.01</td>\n",
       "      <td>0.02</td>\n",
       "      <td>0.03</td>\n",
       "      <td>-4.29</td>\n",
       "      <td>-0.00</td>\n",
       "      <td>-0.01</td>\n",
       "      <td>1.21</td>\n",
       "      <td>0.85</td>\n",
       "      <td>0.10</td>\n",
       "    </tr>\n",
       "    <tr>\n",
       "      <th>5847</th>\n",
       "      <td>2733348</td>\n",
       "      <td>0.07</td>\n",
       "      <td>0.08</td>\n",
       "      <td>0.01</td>\n",
       "      <td>0.02</td>\n",
       "      <td>0.02</td>\n",
       "      <td>-48.33</td>\n",
       "      <td>-0.02</td>\n",
       "      <td>-0.27</td>\n",
       "      <td>1.16</td>\n",
       "      <td>0.92</td>\n",
       "      <td>0.15</td>\n",
       "    </tr>\n",
       "  </tbody>\n",
       "</table>\n",
       "</div>"
      ],
      "text/plain": [
       "      Column2  EQTA  EQTL  LLRTA  LLRGL  OEXTA  INCEMP   ROA   ROE  TDTL  \\\n",
       "4967   949154  0.09  0.11   0.01   0.02   0.02   33.14  0.01  0.10  1.12   \n",
       "5856  2737029  0.02  0.03   0.06   0.08   0.02 -320.47 -0.05 -2.30  1.11   \n",
       "3231   614948  0.12  0.26   0.01   0.01   0.02   34.79  0.01  0.06  1.59   \n",
       "358     43511  0.09  0.12   0.01   0.02   0.03   -4.29 -0.00 -0.01  1.21   \n",
       "5847  2733348  0.07  0.08   0.01   0.02   0.02  -48.33 -0.02 -0.27  1.16   \n",
       "\n",
       "      TDTA  TATA  \n",
       "4967  0.87  0.06  \n",
       "5856  0.88  0.00  \n",
       "3231  0.75  0.44  \n",
       "358   0.85  0.10  \n",
       "5847  0.92  0.15  "
      ]
     },
     "execution_count": 322,
     "metadata": {},
     "output_type": "execute_result"
    }
   ],
   "source": [
    "sample = df.loc[df['Target']==0].sample(30)\n",
    "y = sample.pop('Target')\n",
    "sample.head()"
   ]
  },
  {
   "cell_type": "markdown",
   "metadata": {
    "nteract": {
     "transient": {
      "deleting": false
     }
    }
   },
   "source": [
    "Run the model to produce predictions"
   ]
  },
  {
   "cell_type": "code",
   "execution_count": 323,
   "metadata": {
    "gather": {
     "logged": 1616552006431
    },
    "jupyter": {
     "outputs_hidden": false,
     "source_hidden": false
    },
    "nteract": {
     "transient": {
      "deleting": false
     }
    }
   },
   "outputs": [
    {
     "name": "stdout",
     "output_type": "stream",
     "text": [
      "[0 1 0 0 0 0 0 0 0 0 0 0 0 0 0 0 0 0 0 0 0 0 0 0 0 0 0 0 0 0]\n"
     ]
    }
   ],
   "source": [
    "print(best_model.predict(sample))"
   ]
  },
  {
   "cell_type": "code",
   "execution_count": 324,
   "metadata": {},
   "outputs": [
    {
     "name": "stdout",
     "output_type": "stream",
     "text": [
      "[0, 0, 0, 0, 0, 0, 0, 0, 0, 0, 0, 0, 0, 0, 0, 0, 0, 0, 0, 0, 0, 0, 0, 0, 0, 0, 0, 0, 0, 0]\n"
     ]
    }
   ],
   "source": [
    "print(list(y))"
   ]
  },
  {
   "cell_type": "code",
   "execution_count": 325,
   "metadata": {},
   "outputs": [
    {
     "data": {
      "text/html": [
       "<div>\n",
       "<style scoped>\n",
       "    .dataframe tbody tr th:only-of-type {\n",
       "        vertical-align: middle;\n",
       "    }\n",
       "\n",
       "    .dataframe tbody tr th {\n",
       "        vertical-align: top;\n",
       "    }\n",
       "\n",
       "    .dataframe thead th {\n",
       "        text-align: right;\n",
       "    }\n",
       "</style>\n",
       "<table border=\"1\" class=\"dataframe\">\n",
       "  <thead>\n",
       "    <tr style=\"text-align: right;\">\n",
       "      <th></th>\n",
       "      <th>Predicted 0</th>\n",
       "      <th>Predicted 1</th>\n",
       "    </tr>\n",
       "  </thead>\n",
       "  <tbody>\n",
       "    <tr>\n",
       "      <th>True 0</th>\n",
       "      <td>29</td>\n",
       "      <td>1</td>\n",
       "    </tr>\n",
       "    <tr>\n",
       "      <th>True 1</th>\n",
       "      <td>0</td>\n",
       "      <td>0</td>\n",
       "    </tr>\n",
       "  </tbody>\n",
       "</table>\n",
       "</div>"
      ],
      "text/plain": [
       "        Predicted 0  Predicted 1\n",
       "True 0           29            1\n",
       "True 1            0            0"
      ]
     },
     "execution_count": 325,
     "metadata": {},
     "output_type": "execute_result"
    }
   ],
   "source": [
    "y_test = list(y)\n",
    "predictions = best_model.predict(sample)\n",
    "\n",
    "pd.DataFrame(confusion_matrix(y_test, predictions), index=[\"True 0\", \"True 1\"], \n",
    "             columns=[\"Predicted 0\", \"Predicted 1\"])"
   ]
  },
  {
   "cell_type": "markdown",
   "metadata": {},
   "source": [
    "## Model Deployment\n",
    "\n",
    "### Register the model"
   ]
  },
  {
   "cell_type": "code",
   "execution_count": 84,
   "metadata": {
    "gather": {
     "logged": 1616552312685
    },
    "jupyter": {
     "outputs_hidden": false,
     "source_hidden": false
    },
    "nteract": {
     "transient": {
      "deleting": false
     }
    }
   },
   "outputs": [],
   "source": [
    "automl_model = remote_run.register_model(model_name='automl_model.pkl')"
   ]
  },
  {
   "cell_type": "markdown",
   "metadata": {},
   "source": [
    "### Create inference config"
   ]
  },
  {
   "cell_type": "code",
   "execution_count": 86,
   "metadata": {
    "gather": {
     "logged": 1616552323847
    }
   },
   "outputs": [],
   "source": [
    "environment = best_run.get_environment()\n",
    "entry_script='inference/scoring.py'\n",
    "best_run.download_file('outputs/scoring_file_v_1_0_0.py', entry_script)\n",
    "inference_config = InferenceConfig(entry_script = entry_script, environment = environment) "
   ]
  },
  {
   "cell_type": "markdown",
   "metadata": {},
   "source": [
    "### Deploy the model as web service"
   ]
  },
  {
   "cell_type": "code",
   "execution_count": 87,
   "metadata": {
    "gather": {
     "logged": 1616514265047
    }
   },
   "outputs": [
    {
     "name": "stdout",
     "output_type": "stream",
     "text": [
      "Tips: You can try get_logs(): https://aka.ms/debugimage#dockerlog or local deployment: https://aka.ms/debugimage#debug-locally to debug if deployment takes longer than 10 minutes.\n",
      "Running..........................\n",
      "Succeeded\n",
      "ACI service creation operation finished, operation \"Succeeded\"\n"
     ]
    }
   ],
   "source": [
    "deployment_config = AciWebservice.deploy_configuration(cpu_cores = 1, \n",
    "                                                    memory_gb = 1, \n",
    "                                                    auth_enabled= True, \n",
    "                                                    enable_app_insights= True)\n",
    "\n",
    "service = Model.deploy(ws, \"aciservice\", [automl_model], inference_config, deployment_config)\n",
    "service.wait_for_deployment(show_output = True)\n"
   ]
  },
  {
   "cell_type": "markdown",
   "metadata": {
    "nteract": {
     "transient": {
      "deleting": false
     }
    }
   },
   "source": [
    "Check status of the web service"
   ]
  },
  {
   "cell_type": "code",
   "execution_count": 326,
   "metadata": {
    "gather": {
     "logged": 1616514374431
    }
   },
   "outputs": [
    {
     "name": "stdout",
     "output_type": "stream",
     "text": [
      "Print ACI service status: Healthy\n"
     ]
    }
   ],
   "source": [
    "print(\"Print ACI service status: {}\".format(service.state))"
   ]
  },
  {
   "cell_type": "markdown",
   "metadata": {
    "nteract": {
     "transient": {
      "deleting": false
     }
    }
   },
   "source": [
    "If 'Healthy', get URIs"
   ]
  },
  {
   "cell_type": "code",
   "execution_count": 327,
   "metadata": {
    "gather": {
     "logged": 1616514380896
    },
    "jupyter": {
     "outputs_hidden": false,
     "source_hidden": false
    },
    "nteract": {
     "transient": {
      "deleting": false
     }
    }
   },
   "outputs": [
    {
     "name": "stdout",
     "output_type": "stream",
     "text": [
      "Scoring URI:\n",
      " http://2c5e0214-38fd-4e3c-84b5-9a5f69b5d143.eastus.azurecontainer.io/score\n",
      "Swagger URI:\n",
      " http://2c5e0214-38fd-4e3c-84b5-9a5f69b5d143.eastus.azurecontainer.io/swagger.json\n"
     ]
    }
   ],
   "source": [
    "print(\"Scoring URI:\\n {}\".format(service.scoring_uri))\n",
    "print(\"Swagger URI:\\n {}\".format(service.swagger_uri))"
   ]
  },
  {
   "cell_type": "code",
   "execution_count": 328,
   "metadata": {
    "gather": {
     "logged": 1616514386860
    },
    "jupyter": {
     "outputs_hidden": false,
     "source_hidden": false
    },
    "nteract": {
     "transient": {
      "deleting": false
     }
    }
   },
   "outputs": [
    {
     "name": "stdout",
     "output_type": "stream",
     "text": [
      "Primary key: u0XSweKwjcDblgCb43Q9oRmsH1wjro1i,\n",
      "Secondary key: gUfz4OvZxmtUb495jUGiHwLP6FcoR1UO\n"
     ]
    }
   ],
   "source": [
    "primary, secondary = service.get_keys()\n",
    "print(\"Primary key: {},\\nSecondary key: {}\".format(primary, secondary)) "
   ]
  },
  {
   "cell_type": "markdown",
   "metadata": {
    "collapsed": true,
    "gather": {
     "logged": 1598431657736
    },
    "jupyter": {
     "outputs_hidden": false,
     "source_hidden": false
    },
    "nteract": {
     "transient": {
      "deleting": false
     }
    }
   },
   "source": [
    "Take a small sample of feautures of the failed banks (`'Target'=1`)"
   ]
  },
  {
   "cell_type": "code",
   "execution_count": 329,
   "metadata": {
    "gather": {
     "logged": 1616514524390
    },
    "jupyter": {
     "outputs_hidden": false,
     "source_hidden": false
    },
    "nteract": {
     "transient": {
      "deleting": false
     }
    }
   },
   "outputs": [],
   "source": [
    "sample = df.loc[df['Target']==1].sample(5)\n",
    "y = sample.pop('Target')"
   ]
  },
  {
   "cell_type": "markdown",
   "metadata": {
    "nteract": {
     "transient": {
      "deleting": false
     }
    }
   },
   "source": [
    "Use this  sample to create JSON payload and headers"
   ]
  },
  {
   "cell_type": "code",
   "execution_count": 330,
   "metadata": {},
   "outputs": [],
   "source": [
    "json_payload = json.dumps({'data': sample.to_dict(orient='records')})\n",
    "headers = {\"Content-Type\": \"application/json\"}\n",
    "headers[\"Authorization\"] = \"Bearer {}\".format(primary) #{primary}\""
   ]
  },
  {
   "cell_type": "code",
   "execution_count": 331,
   "metadata": {},
   "outputs": [
    {
     "name": "stdout",
     "output_type": "stream",
     "text": [
      "{\"data\": [{\"Column2\": \"23306\", \"EQTA\": 0.08403813868035098, \"EQTL\": 0.16062238905370224, \"LLRTA\": 0.024074250055434128, \"LLRGL\": 0.04601319852273415, \"OEXTA\": 0.0692451455541829, \"INCEMP\": -143.0, \"ROA\": -0.05888688270138427, \"ROE\": -0.7007161703731625, \"TDTL\": 1.7463219713022946, \"TDTA\": 0.9136811428933448, \"TATA\": 0.015869999049700656}, {\"Column2\": \"58308\", \"EQTA\": 0.02254080430758876, \"EQTL\": 0.0279500254546365, \"LLRTA\": 0.03115598182735992, \"LLRGL\": 0.038632627001944565, \"OEXTA\": 0.02050143025408043, \"INCEMP\": -189.05882352941177, \"ROA\": -0.021632172303550395, \"ROE\": -0.9596894595401613, \"TDTL\": 1.1146710509843851, \"TDTA\": 0.8989466599360593, \"TATA\": 0.04337203432609793}, {\"Column2\": \"15448\", \"EQTA\": 0.016083723492150922, \"EQTL\": 0.02862745098039216, \"LLRTA\": 0.0454971082346461, \"LLRGL\": 0.08098039215686274, \"OEXTA\": 0.03855687138529331, \"INCEMP\": -245.0, \"ROA\": -0.08096942990911594, \"ROE\": -5.034246575342466, \"TDTL\": 1.6006862745098038, \"TDTA\": 0.8993114844395483, \"TATA\": 0.0}, {\"Column2\": \"57399\", \"EQTA\": 0.024460312874066123, \"EQTL\": 0.04074532453245325, \"LLRTA\": 0.013744995253229867, \"LLRGL\": 0.022896039603960396, \"OEXTA\": 0.03225327114376522, \"INCEMP\": -144.83050847457628, \"ROA\": -0.023513710598368213, \"ROE\": -0.9613004837439532, \"TDTL\": 1.5737944627796112, \"TDTA\": 0.944783368418156, \"TATA\": 0.07481460078975248}, {\"Column2\": \"33904\", \"EQTA\": 0.010595030588878635, \"EQTL\": 0.020666666666666667, \"LLRTA\": 0.022352096790731055, \"LLRGL\": 0.0436, \"OEXTA\": 0.03749273727741891, \"INCEMP\": -138.16666666666666, \"ROA\": -0.05666632489148638, \"ROE\": -5.348387096774194, \"TDTL\": 1.7911333333333332, \"TDTA\": 0.9182473768754913, \"TATA\": 0.0}]}\n"
     ]
    }
   ],
   "source": [
    "print(json_payload)"
   ]
  },
  {
   "cell_type": "code",
   "execution_count": 317,
   "metadata": {},
   "outputs": [
    {
     "name": "stdout",
     "output_type": "stream",
     "text": [
      "\n",
      "Predicted Values: {\"result\": [1, 1, 1, 1, 1]}\n",
      "\n",
      "True Values:  [1, 1, 1, 1, 1]\n"
     ]
    }
   ],
   "source": [
    "resp = requests.post(service.scoring_uri, json_payload, headers=headers)\n",
    "print('\\nPredicted Values:', resp.json())\n",
    "print(f'\\nTrue Values: ', list(y.values))"
   ]
  },
  {
   "cell_type": "code",
   "execution_count": 286,
   "metadata": {},
   "outputs": [
    {
     "name": "stdout",
     "output_type": "stream",
     "text": [
      "webservice logs: \n",
      "2021-03-24T18:40:52,961301500+00:00 - iot-server/run \n",
      "2021-03-24T18:40:52,961668500+00:00 - gunicorn/run \n",
      "2021-03-24T18:40:52,986375000+00:00 - rsyslog/run \n",
      "rsyslogd: /azureml-envs/azureml_2b14f450572e78de640d54eaabed5e4d/lib/libuuid.so.1: no version information available (required by rsyslogd)\n",
      "2021-03-24T18:40:53,228887800+00:00 - nginx/run \n",
      "/usr/sbin/nginx: /azureml-envs/azureml_2b14f450572e78de640d54eaabed5e4d/lib/libcrypto.so.1.0.0: no version information available (required by /usr/sbin/nginx)\n",
      "/usr/sbin/nginx: /azureml-envs/azureml_2b14f450572e78de640d54eaabed5e4d/lib/libcrypto.so.1.0.0: no version information available (required by /usr/sbin/nginx)\n",
      "/usr/sbin/nginx: /azureml-envs/azureml_2b14f450572e78de640d54eaabed5e4d/lib/libssl.so.1.0.0: no version information available (required by /usr/sbin/nginx)\n",
      "/usr/sbin/nginx: /azureml-envs/azureml_2b14f450572e78de640d54eaabed5e4d/lib/libssl.so.1.0.0: no version information available (required by /usr/sbin/nginx)\n",
      "/usr/sbin/nginx: /azureml-envs/azureml_2b14f450572e78de640d54eaabed5e4d/lib/libssl.so.1.0.0: no version information available (required by /usr/sbin/nginx)\n",
      "Starting gunicorn 19.9.0\n",
      "Listening at: http://127.0.0.1:31311 (62)\n",
      "Using worker: sync\n",
      "worker timeout is set to 300\n",
      "Booting worker with pid: 90\n",
      "EdgeHubConnectionString and IOTEDGE_IOTHUBHOSTNAME are not set. Exiting...\n",
      "2021-03-24T18:40:55,982119900+00:00 - iot-server/finish 1 0\n",
      "2021-03-24T18:40:55,984590600+00:00 - Exit code 1 is normal. Not restarting iot-server.\n",
      "SPARK_HOME not set. Skipping PySpark Initialization.\n",
      "Generating new fontManager, this may take some time...\n",
      "Initializing logger\n",
      "2021-03-24 18:41:02,601 | root | INFO | Starting up app insights client\n",
      "2021-03-24 18:41:02,602 | root | INFO | Starting up request id generator\n",
      "2021-03-24 18:41:02,602 | root | INFO | Starting up app insight hooks\n",
      "2021-03-24 18:41:02,603 | root | INFO | Invoking user's init function\n",
      "2021-03-24 18:41:13,941 | azureml.core | WARNING | Failure while loading azureml_run_type_providers. Failed to load entrypoint automl = azureml.train.automl.run:AutoMLRun._from_run_dto with exception (cryptography 3.2 (/azureml-envs/azureml_2b14f450572e78de640d54eaabed5e4d/lib/python3.6/site-packages), Requirement.parse('cryptography<4.0.0,>=3.3.1; extra == \"crypto\"'), {'PyJWT'}).\n",
      "Failure while loading azureml_run_type_providers. Failed to load entrypoint automl = azureml.train.automl.run:AutoMLRun._from_run_dto with exception (cryptography 3.2 (/azureml-envs/azureml_2b14f450572e78de640d54eaabed5e4d/lib/python3.6/site-packages), Requirement.parse('cryptography<4.0.0,>=3.3.1; extra == \"crypto\"'), {'PyJWT'}).\n",
      "2021-03-24 18:41:15,393 | root | INFO | Users's init has completed successfully\n",
      "2021-03-24 18:41:15,411 | root | INFO | Skipping middleware: dbg_model_info as it's not enabled.\n",
      "2021-03-24 18:41:15,411 | root | INFO | Skipping middleware: dbg_resource_usage as it's not enabled.\n",
      "2021-03-24 18:41:15,413 | root | INFO | Scoring timeout is found from os.environ: 60000 ms\n",
      "2021-03-24 18:41:15,495 | root | INFO | 200\n",
      "127.0.0.1 - - [24/Mar/2021:18:41:15 +0000] \"GET /swagger.json HTTP/1.0\" 200 2692 \"-\" \"Go-http-client/1.1\"\n",
      "2021-03-24 18:41:20,926 | root | INFO | 200\n",
      "127.0.0.1 - - [24/Mar/2021:18:41:20 +0000] \"GET /swagger.json HTTP/1.0\" 200 2692 \"-\" \"Go-http-client/1.1\"\n",
      "2021-03-24 18:46:47,336 | root | INFO | Validation Request Content-Type\n",
      "2021-03-24 18:46:47,340 | root | INFO | Scoring Timer is set to 60.0 seconds\n",
      "2021-03-24 18:46:47,697 | root | INFO | 200\n",
      "127.0.0.1 - - [24/Mar/2021:18:46:47 +0000] \"POST /score HTTP/1.0\" 200 31 \"-\" \"python-requests/2.25.1\"\n",
      "2021-03-24 18:52:17,599 | root | INFO | Validation Request Content-Type\n",
      "2021-03-24 18:52:17,603 | root | INFO | Scoring Timer is set to 60.0 seconds\n",
      "2021-03-24 18:52:17,882 | root | INFO | 200\n",
      "127.0.0.1 - - [24/Mar/2021:18:52:17 +0000] \"POST /score HTTP/1.0\" 200 31 \"-\" \"python-requests/2.25.1\"\n",
      "2021-03-24 18:53:31,600 | root | INFO | Validation Request Content-Type\n",
      "2021-03-24 18:53:31,600 | root | INFO | Scoring Timer is set to 60.0 seconds\n",
      "2021-03-24 18:53:31,882 | root | INFO | 200\n",
      "127.0.0.1 - - [24/Mar/2021:18:53:31 +0000] \"POST /score HTTP/1.0\" 200 31 \"-\" \"python-requests/2.25.1\"\n",
      "2021-03-24 19:22:28,466 | root | INFO | Validation Request Content-Type\n",
      "2021-03-24 19:22:28,468 | root | INFO | Scoring Timer is set to 60.0 seconds\n",
      "2021-03-24 19:22:28,768 | root | INFO | 200\n",
      "127.0.0.1 - - [24/Mar/2021:19:22:28 +0000] \"POST /score HTTP/1.0\" 200 31 \"-\" \"python-requests/2.25.1\"\n",
      "2021-03-24 20:08:00,388 | root | INFO | Validation Request Content-Type\n",
      "2021-03-24 20:08:00,393 | root | INFO | Scoring Timer is set to 60.0 seconds\n",
      "2021-03-24 20:08:00,857 | root | INFO | 200\n",
      "127.0.0.1 - - [24/Mar/2021:20:08:00 +0000] \"POST /score HTTP/1.0\" 200 31 \"-\" \"python-requests/2.25.1\"\n",
      "2021-03-24 20:10:04,272 | root | INFO | Validation Request Content-Type\n",
      "2021-03-24 20:10:04,273 | root | INFO | Scoring Timer is set to 60.0 seconds\n",
      "2021-03-24 20:10:04,565 | root | INFO | 200\n",
      "127.0.0.1 - - [24/Mar/2021:20:10:04 +0000] \"POST /score HTTP/1.0\" 200 31 \"-\" \"python-requests/2.25.1\"\n",
      "2021-03-24 20:11:05,632 | root | INFO | Validation Request Content-Type\n",
      "2021-03-24 20:11:05,633 | root | INFO | Scoring Timer is set to 60.0 seconds\n",
      "2021-03-24 20:11:05,921 | root | INFO | 200\n",
      "127.0.0.1 - - [24/Mar/2021:20:11:05 +0000] \"POST /score HTTP/1.0\" 200 31 \"-\" \"python-requests/2.25.1\"\n",
      "2021-03-24 20:11:48,220 | root | INFO | Validation Request Content-Type\n",
      "2021-03-24 20:11:48,221 | root | INFO | Scoring Timer is set to 60.0 seconds\n",
      "2021-03-24 20:11:48,519 | root | INFO | 200\n",
      "127.0.0.1 - - [24/Mar/2021:20:11:48 +0000] \"POST /score HTTP/1.0\" 200 31 \"-\" \"python-requests/2.25.1\"\n",
      "2021-03-24 20:25:36,184 | root | INFO | Validation Request Content-Type\n",
      "2021-03-24 20:25:36,189 | root | INFO | Scoring Timer is set to 60.0 seconds\n",
      "2021-03-24 20:25:36,477 | root | INFO | 200\n",
      "127.0.0.1 - - [24/Mar/2021:20:25:36 +0000] \"POST /score HTTP/1.0\" 200 31 \"-\" \"python-requests/2.25.1\"\n",
      "2021-03-24 20:26:09,308 | root | INFO | Validation Request Content-Type\n",
      "2021-03-24 20:26:09,308 | root | INFO | Scoring Timer is set to 60.0 seconds\n",
      "2021-03-24 20:26:09,595 | root | INFO | 200\n",
      "127.0.0.1 - - [24/Mar/2021:20:26:09 +0000] \"POST /score HTTP/1.0\" 200 31 \"-\" \"python-requests/2.25.1\"\n",
      "2021-03-24 20:27:22,659 | root | INFO | Validation Request Content-Type\n",
      "2021-03-24 20:27:22,660 | root | INFO | Scoring Timer is set to 60.0 seconds\n",
      "2021-03-24 20:27:22,946 | root | INFO | 200\n",
      "127.0.0.1 - - [24/Mar/2021:20:27:22 +0000] \"POST /score HTTP/1.0\" 200 31 \"-\" \"python-requests/2.25.1\"\n",
      "2021-03-24 20:35:36,952 | root | INFO | Validation Request Content-Type\n",
      "2021-03-24 20:35:36,957 | root | INFO | Scoring Timer is set to 60.0 seconds\n",
      "2021-03-24 20:35:37,255 | root | INFO | 200\n",
      "127.0.0.1 - - [24/Mar/2021:20:35:37 +0000] \"POST /score HTTP/1.0\" 200 31 \"-\" \"python-requests/2.25.1\"\n",
      "2021-03-24 20:43:59,969 | root | INFO | Validation Request Content-Type\n",
      "2021-03-24 20:44:00,092 | root | INFO | Scoring Timer is set to 60.0 seconds\n",
      "2021-03-24 20:44:00,859 | root | INFO | 200\n",
      "127.0.0.1 - - [24/Mar/2021:20:44:00 +0000] \"POST /score HTTP/1.0\" 200 20080 \"-\" \"python-requests/2.25.1\"\n",
      "2021-03-24 20:45:19,162 | root | INFO | Validation Request Content-Type\n",
      "2021-03-24 20:45:19,260 | root | INFO | Scoring Timer is set to 60.0 seconds\n",
      "2021-03-24 20:45:19,997 | root | INFO | 200\n",
      "127.0.0.1 - - [24/Mar/2021:20:45:19 +0000] \"POST /score HTTP/1.0\" 200 20080 \"-\" \"python-requests/2.25.1\"\n",
      "2021-03-24 20:45:25,864 | root | INFO | Validation Request Content-Type\n",
      "2021-03-24 20:45:25,971 | root | INFO | Scoring Timer is set to 60.0 seconds\n",
      "2021-03-24 20:45:26,812 | root | INFO | 200\n",
      "127.0.0.1 - - [24/Mar/2021:20:45:26 +0000] \"POST /score HTTP/1.0\" 200 20080 \"-\" \"python-requests/2.25.1\"\n",
      "2021-03-24 20:46:52,362 | root | INFO | Validation Request Content-Type\n",
      "2021-03-24 20:46:52,440 | root | INFO | Scoring Timer is set to 60.0 seconds\n",
      "2021-03-24 20:46:53,174 | root | INFO | 200\n",
      "127.0.0.1 - - [24/Mar/2021:20:46:53 +0000] \"POST /score HTTP/1.0\" 200 15598 \"-\" \"python-requests/2.25.1\"\n",
      "2021-03-24 20:47:09,152 | root | INFO | Validation Request Content-Type\n",
      "2021-03-24 20:47:09,230 | root | INFO | Scoring Timer is set to 60.0 seconds\n",
      "2021-03-24 20:47:09,915 | root | INFO | 200\n",
      "127.0.0.1 - - [24/Mar/2021:20:47:09 +0000] \"POST /score HTTP/1.0\" 200 15598 \"-\" \"python-requests/2.25.1\"\n",
      "2021-03-24 20:48:22,986 | root | INFO | Validation Request Content-Type\n",
      "2021-03-24 20:48:23,076 | root | INFO | Scoring Timer is set to 60.0 seconds\n",
      "2021-03-24 20:48:23,862 | root | INFO | 200\n",
      "127.0.0.1 - - [24/Mar/2021:20:48:23 +0000] \"POST /score HTTP/1.0\" 200 15598 \"-\" \"python-requests/2.25.1\"\n",
      "2021-03-24 20:48:44,712 | root | INFO | Validation Request Content-Type\n",
      "2021-03-24 20:48:44,803 | root | INFO | Scoring Timer is set to 60.0 seconds\n",
      "2021-03-24 20:48:45,507 | root | INFO | 200\n",
      "127.0.0.1 - - [24/Mar/2021:20:48:45 +0000] \"POST /score HTTP/1.0\" 200 15598 \"-\" \"python-requests/2.25.1\"\n",
      "2021-03-24 20:53:21,865 | root | INFO | Validation Request Content-Type\n",
      "2021-03-24 20:53:21,980 | root | INFO | Scoring Timer is set to 60.0 seconds\n",
      "2021-03-24 20:53:22,828 | root | INFO | 200\n",
      "127.0.0.1 - - [24/Mar/2021:20:53:22 +0000] \"POST /score HTTP/1.0\" 200 21541 \"-\" \"python-requests/2.25.1\"\n",
      "2021-03-24 20:53:35,457 | root | INFO | Validation Request Content-Type\n",
      "2021-03-24 20:53:35,566 | root | INFO | Scoring Timer is set to 60.0 seconds\n",
      "2021-03-24 20:53:36,412 | root | INFO | 200\n",
      "127.0.0.1 - - [24/Mar/2021:20:53:36 +0000] \"POST /score HTTP/1.0\" 200 21541 \"-\" \"python-requests/2.25.1\"\n",
      "2021-03-24 21:04:17,597 | root | INFO | Validation Request Content-Type\n",
      "2021-03-24 21:04:17,703 | root | INFO | Scoring Timer is set to 60.0 seconds\n",
      "2021-03-24 21:04:18,527 | root | INFO | 200\n",
      "127.0.0.1 - - [24/Mar/2021:21:04:18 +0000] \"POST /score HTTP/1.0\" 200 20425 \"-\" \"python-requests/2.25.1\"\n",
      "2021-03-24 21:04:19,118 | root | INFO | Validation Request Content-Type\n",
      "2021-03-24 21:04:19,220 | root | INFO | Scoring Timer is set to 60.0 seconds\n",
      "2021-03-24 21:04:19,988 | root | INFO | 200\n",
      "127.0.0.1 - - [24/Mar/2021:21:04:19 +0000] \"POST /score HTTP/1.0\" 200 20212 \"-\" \"python-requests/2.25.1\"\n",
      "2021-03-24 21:04:20,561 | root | INFO | Validation Request Content-Type\n",
      "2021-03-24 21:04:20,678 | root | INFO | Scoring Timer is set to 60.0 seconds\n",
      "2021-03-24 21:04:21,491 | root | INFO | 200\n",
      "127.0.0.1 - - [24/Mar/2021:21:04:21 +0000] \"POST /score HTTP/1.0\" 200 20080 \"-\" \"python-requests/2.25.1\"\n",
      "2021-03-24 21:04:22,061 | root | INFO | Validation Request Content-Type\n",
      "2021-03-24 21:04:22,180 | root | INFO | Scoring Timer is set to 60.0 seconds\n",
      "2021-03-24 21:04:22,981 | root | INFO | 200\n",
      "127.0.0.1 - - [24/Mar/2021:21:04:22 +0000] \"POST /score HTTP/1.0\" 200 19903 \"-\" \"python-requests/2.25.1\"\n",
      "2021-03-24 21:04:23,547 | root | INFO | Validation Request Content-Type\n",
      "2021-03-24 21:04:23,709 | root | INFO | Scoring Timer is set to 60.0 seconds\n",
      "2021-03-24 21:04:24,458 | root | INFO | 200\n",
      "127.0.0.1 - - [24/Mar/2021:21:04:24 +0000] \"POST /score HTTP/1.0\" 200 19801 \"-\" \"python-requests/2.25.1\"\n",
      "2021-03-24 21:04:25,102 | root | INFO | Validation Request Content-Type\n",
      "2021-03-24 21:04:25,229 | root | INFO | Scoring Timer is set to 60.0 seconds\n",
      "2021-03-24 21:04:26,035 | root | INFO | 200\n",
      "127.0.0.1 - - [24/Mar/2021:21:04:26 +0000] \"POST /score HTTP/1.0\" 200 21541 \"-\" \"python-requests/2.25.1\"\n",
      "2021-03-24 21:04:26,662 | root | INFO | Validation Request Content-Type\n",
      "2021-03-24 21:04:26,811 | root | INFO | Scoring Timer is set to 60.0 seconds\n",
      "2021-03-24 21:04:27,624 | root | INFO | 200\n",
      "127.0.0.1 - - [24/Mar/2021:21:04:27 +0000] \"POST /score HTTP/1.0\" 200 21343 \"-\" \"python-requests/2.25.1\"\n",
      "2021-03-24 21:04:28,225 | root | INFO | Validation Request Content-Type\n",
      "2021-03-24 21:04:28,345 | root | INFO | Scoring Timer is set to 60.0 seconds\n",
      "2021-03-24 21:04:29,283 | root | INFO | 200\n",
      "127.0.0.1 - - [24/Mar/2021:21:04:29 +0000] \"POST /score HTTP/1.0\" 200 21139 \"-\" \"python-requests/2.25.1\"\n",
      "2021-03-24 21:04:30,060 | root | INFO | Validation Request Content-Type\n",
      "2021-03-24 21:04:30,424 | root | INFO | Scoring Timer is set to 60.0 seconds\n",
      "2021-03-24 21:04:31,257 | root | INFO | 200\n",
      "127.0.0.1 - - [24/Mar/2021:21:04:31 +0000] \"POST /score HTTP/1.0\" 200 20833 \"-\" \"python-requests/2.25.1\"\n",
      "2021-03-24 21:08:06,070 | root | INFO | Validation Request Content-Type\n",
      "2021-03-24 21:08:06,170 | root | INFO | Scoring Timer is set to 60.0 seconds\n",
      "2021-03-24 21:08:06,921 | root | INFO | 200\n",
      "127.0.0.1 - - [24/Mar/2021:21:08:06 +0000] \"POST /score HTTP/1.0\" 200 20425 \"-\" \"python-requests/2.25.1\"\n",
      "2021-03-24 21:09:48,760 | root | INFO | Validation Request Content-Type\n",
      "2021-03-24 21:09:48,860 | root | INFO | Scoring Timer is set to 60.0 seconds\n",
      "2021-03-24 21:09:49,637 | root | INFO | 200\n",
      "127.0.0.1 - - [24/Mar/2021:21:09:49 +0000] \"POST /score HTTP/1.0\" 200 20425 \"-\" \"python-requests/2.25.1\"\n",
      "2021-03-24 21:09:50,282 | root | INFO | Validation Request Content-Type\n",
      "2021-03-24 21:09:50,425 | root | INFO | Scoring Timer is set to 60.0 seconds\n",
      "2021-03-24 21:09:51,465 | root | INFO | 200\n",
      "127.0.0.1 - - [24/Mar/2021:21:09:51 +0000] \"POST /score HTTP/1.0\" 200 20212 \"-\" \"python-requests/2.25.1\"\n",
      "2021-03-24 21:09:51,928 | root | INFO | Validation Request Content-Type\n",
      "2021-03-24 21:09:52,047 | root | INFO | Scoring Timer is set to 60.0 seconds\n",
      "2021-03-24 21:09:52,865 | root | INFO | 200\n",
      "127.0.0.1 - - [24/Mar/2021:21:09:52 +0000] \"POST /score HTTP/1.0\" 200 20080 \"-\" \"python-requests/2.25.1\"\n",
      "2021-03-24 21:09:53,399 | root | INFO | Validation Request Content-Type\n",
      "2021-03-24 21:09:53,509 | root | INFO | Scoring Timer is set to 60.0 seconds\n",
      "2021-03-24 21:09:54,350 | root | INFO | 200\n",
      "127.0.0.1 - - [24/Mar/2021:21:09:54 +0000] \"POST /score HTTP/1.0\" 200 19903 \"-\" \"python-requests/2.25.1\"\n",
      "2021-03-24 21:09:54,890 | root | INFO | Validation Request Content-Type\n",
      "2021-03-24 21:09:55,005 | root | INFO | Scoring Timer is set to 60.0 seconds\n",
      "2021-03-24 21:09:55,833 | root | INFO | 200\n",
      "127.0.0.1 - - [24/Mar/2021:21:09:55 +0000] \"POST /score HTTP/1.0\" 200 19801 \"-\" \"python-requests/2.25.1\"\n",
      "2021-03-24 21:09:56,314 | root | INFO | Validation Request Content-Type\n",
      "2021-03-24 21:09:56,443 | root | INFO | Scoring Timer is set to 60.0 seconds\n",
      "2021-03-24 21:09:57,311 | root | INFO | 200\n",
      "127.0.0.1 - - [24/Mar/2021:21:09:57 +0000] \"POST /score HTTP/1.0\" 200 21541 \"-\" \"python-requests/2.25.1\"\n",
      "2021-03-24 21:09:57,831 | root | INFO | Validation Request Content-Type\n",
      "2021-03-24 21:09:57,952 | root | INFO | Scoring Timer is set to 60.0 seconds\n",
      "2021-03-24 21:09:58,927 | root | INFO | 200\n",
      "127.0.0.1 - - [24/Mar/2021:21:09:58 +0000] \"POST /score HTTP/1.0\" 200 21343 \"-\" \"python-requests/2.25.1\"\n",
      "2021-03-24 21:09:59,475 | root | INFO | Validation Request Content-Type\n",
      "2021-03-24 21:09:59,617 | root | INFO | Scoring Timer is set to 60.0 seconds\n",
      "2021-03-24 21:10:00,489 | root | INFO | 200\n",
      "127.0.0.1 - - [24/Mar/2021:21:10:00 +0000] \"POST /score HTTP/1.0\" 200 21139 \"-\" \"python-requests/2.25.1\"\n",
      "2021-03-24 21:10:01,059 | root | INFO | Validation Request Content-Type\n",
      "2021-03-24 21:10:01,202 | root | INFO | Scoring Timer is set to 60.0 seconds\n",
      "2021-03-24 21:10:02,097 | root | INFO | 200\n",
      "127.0.0.1 - - [24/Mar/2021:21:10:02 +0000] \"POST /score HTTP/1.0\" 200 20833 \"-\" \"python-requests/2.25.1\"\n",
      "2021-03-24 21:11:09,381 | root | INFO | Validation Request Content-Type\n",
      "2021-03-24 21:11:09,501 | root | INFO | Scoring Timer is set to 60.0 seconds\n",
      "2021-03-24 21:11:10,325 | root | INFO | 200\n",
      "127.0.0.1 - - [24/Mar/2021:21:11:10 +0000] \"POST /score HTTP/1.0\" 200 20425 \"-\" \"python-requests/2.25.1\"\n",
      "2021-03-24 21:11:10,700 | root | INFO | Validation Request Content-Type\n",
      "2021-03-24 21:11:10,812 | root | INFO | Scoring Timer is set to 60.0 seconds\n",
      "2021-03-24 21:11:11,658 | root | INFO | 200\n",
      "127.0.0.1 - - [24/Mar/2021:21:11:11 +0000] \"POST /score HTTP/1.0\" 200 20212 \"-\" \"python-requests/2.25.1\"\n",
      "2021-03-24 21:11:12,154 | root | INFO | Validation Request Content-Type\n",
      "2021-03-24 21:11:12,283 | root | INFO | Scoring Timer is set to 60.0 seconds\n",
      "2021-03-24 21:11:13,151 | root | INFO | 200\n",
      "127.0.0.1 - - [24/Mar/2021:21:11:13 +0000] \"POST /score HTTP/1.0\" 200 20080 \"-\" \"python-requests/2.25.1\"\n",
      "2021-03-24 21:11:13,851 | root | INFO | Validation Request Content-Type\n",
      "2021-03-24 21:11:13,980 | root | INFO | Scoring Timer is set to 60.0 seconds\n",
      "2021-03-24 21:11:14,857 | root | INFO | 200\n",
      "127.0.0.1 - - [24/Mar/2021:21:11:14 +0000] \"POST /score HTTP/1.0\" 200 19903 \"-\" \"python-requests/2.25.1\"\n",
      "2021-03-24 21:11:15,260 | root | INFO | Validation Request Content-Type\n",
      "2021-03-24 21:11:15,372 | root | INFO | Scoring Timer is set to 60.0 seconds\n",
      "2021-03-24 21:11:16,101 | root | INFO | 200\n",
      "127.0.0.1 - - [24/Mar/2021:21:11:16 +0000] \"POST /score HTTP/1.0\" 200 19801 \"-\" \"python-requests/2.25.1\"\n",
      "2021-03-24 21:11:16,561 | root | INFO | Validation Request Content-Type\n",
      "2021-03-24 21:11:16,689 | root | INFO | Scoring Timer is set to 60.0 seconds\n",
      "2021-03-24 21:11:17,521 | root | INFO | 200\n",
      "127.0.0.1 - - [24/Mar/2021:21:11:17 +0000] \"POST /score HTTP/1.0\" 200 21541 \"-\" \"python-requests/2.25.1\"\n",
      "2021-03-24 21:11:18,019 | root | INFO | Validation Request Content-Type\n",
      "2021-03-24 21:11:18,152 | root | INFO | Scoring Timer is set to 60.0 seconds\n",
      "2021-03-24 21:11:18,934 | root | INFO | 200\n",
      "127.0.0.1 - - [24/Mar/2021:21:11:18 +0000] \"POST /score HTTP/1.0\" 200 21343 \"-\" \"python-requests/2.25.1\"\n",
      "2021-03-24 21:11:19,368 | root | INFO | Validation Request Content-Type\n",
      "2021-03-24 21:11:19,485 | root | INFO | Scoring Timer is set to 60.0 seconds\n",
      "2021-03-24 21:11:20,232 | root | INFO | 200\n",
      "127.0.0.1 - - [24/Mar/2021:21:11:20 +0000] \"POST /score HTTP/1.0\" 200 21139 \"-\" \"python-requests/2.25.1\"\n",
      "2021-03-24 21:11:20,652 | root | INFO | Validation Request Content-Type\n",
      "2021-03-24 21:11:20,780 | root | INFO | Scoring Timer is set to 60.0 seconds\n",
      "2021-03-24 21:11:21,560 | root | INFO | 200\n",
      "127.0.0.1 - - [24/Mar/2021:21:11:21 +0000] \"POST /score HTTP/1.0\" 200 20833 \"-\" \"python-requests/2.25.1\"\n",
      "\n",
      "\n"
     ]
    }
   ],
   "source": [
    "print(f'webservice logs: \\n{service.get_logs()}\\n')"
   ]
  },
  {
   "cell_type": "markdown",
   "metadata": {},
   "source": [
    "### Out of sample testing"
   ]
  },
  {
   "cell_type": "markdown",
   "metadata": {},
   "source": [
    "Define periods from which new , 'unseen' data will be used. In this case 9 out-of-sample quarters of reports that the model has never seen."
   ]
  },
  {
   "cell_type": "code",
   "execution_count": null,
   "metadata": {},
   "outputs": [],
   "source": [
    "oos_reports = ['2010Q4', '2011Q1', '2011Q2', '2011Q3', '2011Q4', '2012Q1', '2012Q2', '2012Q3', '2012Q4']\n"
   ]
  },
  {
   "cell_type": "markdown",
   "metadata": {},
   "source": [
    "Get the date for the quarter, get features and true y_oos, send features to the web service and get response, y_pred. Use y_oos and y_pred to compute confusion matrix. Store results in a dictionary."
   ]
  },
  {
   "cell_type": "code",
   "execution_count": 283,
   "metadata": {},
   "outputs": [],
   "source": [
    "outofsample_results = {}\n",
    "for report in oos_reports:\n",
    "    # Get the quarter-end report and drop missing values\n",
    "    oos_df = pd.read_csv('https://raw.githubusercontent.com/allaccountstaken/automl_v_hyperdrive/main/oos/camel_data_after{}_OOS.csv'.format(report))\n",
    "    oos_df.replace([np.inf, -np.inf], np.nan)\n",
    "    oos_df.dropna(inplace=True)\n",
    "    \n",
    "    # Prepare data for model consumption, 12 columns expected\n",
    "    oos_df.pop('AsOfDate')\n",
    "    oos_df.rename(columns={'Unnamed: 0':'Column2'}, inplace=True)\n",
    "    \n",
    "    # Assing true values (y_oos) and features (X_oos)\n",
    "    y_oos = oos_df['Target']\n",
    "    X_oos = oos_df[['Column2', 'EQTA', 'EQTL', 'LLRTA', 'LLRGL', 'OEXTA', 'INCEMP', 'ROA', 'ROE', \n",
    "                    'TDTL', 'TDTA', 'TATA']].copy()\n",
    "    \n",
    "    \n",
    "    # Send JSON payload and ask for peridictions\n",
    "    json_payload = json.dumps({'data': X_oos.to_dict(orient='records')})\n",
    "    #headers = {\"Content-Type\": \"application/json\"}\n",
    "    #headers[\"Authorization\"] = \"Bearer {}\".format(primary)\n",
    "    y_pred = json.loads(service.run(json_payload))[\"result\"]\n",
    "    \n",
    "    # Compute confusion matrix\n",
    "    tn, fp, fn, tp = confusion_matrix(y_oos, y_pred).ravel()\n",
    "    mcc = np.round(matthews_corrcoef(y_oos, y_pred), 2)\n",
    "    \n",
    "    # Build report as a dictionary \n",
    "    outofsample_results[report] = {'Actually failed':fn+tp, \n",
    "                                   'Predicted fail':tp,\n",
    "                                   'Recall (TP/TP+FN)':np.round(tp/(tp+fn), 2),\n",
    "                                   'Precision (TP/TP+FP)':np.round(tp/(tp+fp), 2),\n",
    "                                   'Matthews Correlation':mcc\n",
    "                                  }"
   ]
  },
  {
   "cell_type": "markdown",
   "metadata": {},
   "source": [
    "These are summary data used in model training. This is needed for the plot only."
   ]
  },
  {
   "cell_type": "code",
   "execution_count": 284,
   "metadata": {},
   "outputs": [],
   "source": [
    "insample_results = {\n",
    "    '2009Q4':{'Actually failed':31, 'Predicted fail':0, 'Recall (TP/TP+FN)':0.69, 'Precision (TP/TP+FP)':0.63},\n",
    "    '2010Q1':{'Actually failed':35, 'Predicted fail':0, 'Recall (TP/TP+FN)':0.69, 'Precision (TP/TP+FP)':0.63},\n",
    "    '2010Q2':{'Actually failed':41, 'Predicted fail':0, 'Recall (TP/TP+FN)':0.69, 'Precision (TP/TP+FP)':0.63}, \n",
    "    '2010Q3':{'Actually failed':30, 'Predicted fail':0, 'Recall (TP/TP+FN)':0.69, 'Precision (TP/TP+FP)':0.63}}"
   ]
  },
  {
   "cell_type": "markdown",
   "metadata": {},
   "source": [
    "Create a plot: counts of banks that actually failed (blue) and counts of banks that are predicted to fail (orange) as vertical bars. Area curves represent recall scores and precision. Note: the objective is to maximize recal, i.e. make the orange bars equal to the blue bars."
   ]
  },
  {
   "cell_type": "code",
   "execution_count": 332,
   "metadata": {},
   "outputs": [
    {
     "data": {
      "image/png": "[encoded data removed]",
      "text/plain": [
       "<Figure size 1440x576 with 2 Axes>"
      ]
     },
     "metadata": {
      "needs_background": "light"
     },
     "output_type": "display_data"
    }
   ],
   "source": [
    "results_plot_df = results_df.append(pd.DataFrame.from_dict(outofsample_results).T)\n",
    "fig, ax1 = plt.subplots(sharex=True, figsize=(20, 8))\n",
    "ax2 = ax1.twinx()\n",
    "\n",
    "results_plot_df[['Actually failed','Predicted fail']].plot(\n",
    "    kind='bar', ax=ax1, width=0.9).legend(loc='upper left')                                                              \n",
    "results_plot_df[['Precision (TP/TP+FP)', 'Recall (TP/TP+FN)']].plot(\n",
    "    kind='area', stacked=False, alpha=0.2, ax=ax2).legend(loc='upper right')\n",
    "plt.axvline(x=3.4, ymin=0, ymax = 0.99, linewidth=3, color='k', linestyle=':')\n",
    "\n",
    "ax1.yaxis.tick_left()\n",
    "ax2.yaxis.tick_right()\n",
    "ax2.grid(True)\n",
    "\n",
    "ax1.text(x= 1.5, y=42.5, s='In-sample modeling', fontsize=14, verticalalignment='top')\n",
    "ax1.text(x= 3.5, y=42.5, s='Out-of-sample forecasting', fontsize=14, verticalalignment='top')\n",
    "plt.title('AutoML VotingEnsemble performance with out-of-sample data', fontsize=16)\n",
    "\n",
    "plt.show()"
   ]
  },
  {
   "cell_type": "markdown",
   "metadata": {
    "collapsed": true,
    "jupyter": {
     "outputs_hidden": false,
     "source_hidden": false
    },
    "nteract": {
     "transient": {
      "deleting": false
     }
    }
   },
   "source": [
    "Clean up - deleting the ACI service"
   ]
  },
  {
   "cell_type": "code",
   "execution_count": 98,
   "metadata": {
    "gather": {
     "logged": 1616454181026
    },
    "jupyter": {
     "outputs_hidden": false,
     "source_hidden": false
    },
    "nteract": {
     "transient": {
      "deleting": false
     }
    }
   },
   "outputs": [],
   "source": [
    "#aci_service.delete()"
   ]
  }
 ],
 "metadata": {
  "kernel_info": {
   "name": "python3-azureml"
  },
  "kernelspec": {
   "display_name": "Python 3.6 - AzureML",
   "language": "python",
   "name": "python3-azureml"
  },
  "language_info": {
   "codemirror_mode": {
    "name": "ipython",
    "version": 3
   },
   "file_extension": ".py",
   "mimetype": "text/x-python",
   "name": "python",
   "nbconvert_exporter": "python",
   "pygments_lexer": "ipython3",
   "version": "3.6.9"
  },
  "microsoft": {
   "host": {
    "AzureML": {
     "notebookHasBeenCompleted": true
    }
   }
  },
  "nteract": {
   "version": "nteract-front-end@1.0.0"
  }
 },
 "nbformat": 4,
 "nbformat_minor": 2
}
