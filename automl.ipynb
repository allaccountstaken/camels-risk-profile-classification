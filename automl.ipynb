{
  "cells": [
    {
      "cell_type": "markdown",
      "source": [
        "# Automated ML\n",
        "\n",
        "TODO: Import Dependencies. In the cell below, import all the dependencies that you will need to complete the project."
      ],
      "metadata": {}
    },
    {
      "cell_type": "code",
      "source": [
        "import logging\n",
        "import os\n",
        "import csv\n",
        "import joblib\n",
        "import json\n",
        "import requests\n",
        "import pandas as pd \n",
        "import numpy as np \n",
        "from azureml.core import Workspace, Experiment\n",
        "from azureml.train.automl import AutoMLConfig\n",
        "from azureml.core.dataset import Dataset\n",
        "from azureml.core.compute import ComputeTarget, AmlCompute\n",
        "from azureml.core.compute_target import ComputeTargetException\n",
        "from azureml.widgets import RunDetails\n",
        "from azureml.core.model import InferenceConfig \n",
        "from azureml.core.webservice import AciWebservice, Webservice\n",
        "from azureml.core.model import Model\n"
      ],
      "outputs": [],
      "execution_count": 147,
      "metadata": {
        "gather": {
          "logged": 1616506853190
        },
        "jupyter": {
          "outputs_hidden": false,
          "source_hidden": false
        },
        "nteract": {
          "transient": {
            "deleting": false
          }
        }
      }
    },
    {
      "cell_type": "markdown",
      "source": [
        "## Dataset\n",
        "\n",
        "### Overview\n",
        "The primary objective was to develop an early warning system, i.e. binary classification of failed ('Target'==1) vs. survived ('Target'==0), for the US banks using their quarterly filings with the regulator. Overall, 137 failed banks and 6,877 surviving banks were used in this machine learning exercise. Historical observations from the first 4 quarters ending 2010Q3 (stored in ./data) are used to tune the model and out-of-sample testing is performed on quarterly data starting from 2010Q4 (stored in ./oos). "
      ],
      "metadata": {}
    },
    {
      "cell_type": "markdown",
      "source": [
        "### Setting up the project"
      ],
      "metadata": {
        "nteract": {
          "transient": {
            "deleting": false
          }
        }
      }
    },
    {
      "cell_type": "code",
      "source": [
        "ws = Workspace.from_config()\n",
        "ws.write_config(path='.azureml')\n",
        "experiment_name = 'camels-clf'\n",
        "project_folder = './dmik'\n",
        "\n",
        "exp = Experiment(workspace=ws, name=experiment_name)\n",
        "\n",
        "print('Workspace name: ' + ws.name, \n",
        "      'Azure region: ' + ws.location, \n",
        "      'Subscription id: ' + ws.subscription_id, \n",
        "      'Resource group: ' + ws.resource_group, sep = '\\n')\n",
        "\n",
        "run = exp.start_logging()"
      ],
      "outputs": [
        {
          "output_type": "stream",
          "name": "stdout",
          "text": [
            "Workspace name: final-ws\n",
            "Azure region: eastus\n",
            "Subscription id: 0c66ad45-500d-48af-80d3-0039ebf1975e\n",
            "Resource group: final-rgp\n"
          ]
        }
      ],
      "execution_count": 148,
      "metadata": {
        "gather": {
          "logged": 1616506864877
        },
        "jupyter": {
          "outputs_hidden": false,
          "source_hidden": false
        },
        "nteract": {
          "transient": {
            "deleting": false
          }
        }
      }
    },
    {
      "cell_type": "markdown",
      "source": [
        "### Uploading the training dataset using GUI"
      ],
      "metadata": {
        "nteract": {
          "transient": {
            "deleting": false
          }
        }
      }
    },
    {
      "cell_type": "code",
      "source": [
        "dataset = ws.datasets['camels'] \n",
        "df = dataset.to_pandas_dataframe()\n",
        "df.pop('Column2')\n",
        "#len(df)\n",
        "df.tail()"
      ],
      "outputs": [
        {
          "output_type": "execute_result",
          "execution_count": 149,
          "data": {
            "text/plain": "      Target  EQTA  EQTL  LLRTA  LLRGL  OEXTA  INCEMP   ROA   ROE  TDTL  TDTA  \\\n7015       0  0.14  0.63   0.00   0.00   0.01   80.99  0.01  0.08  3.43  0.75   \n7016       0  0.09  0.11   0.00   0.00   0.01   46.46  0.00  0.03  1.08  0.86   \n7017       0  0.13  0.18   0.00   0.00   0.01   85.78  0.02  0.13  0.98  0.73   \n7018       0  0.77 16.59   0.00   0.02   0.07 -143.14 -0.07 -0.09  4.92  0.23   \n7019       0  0.10  0.19   0.00   0.00   0.00   13.05  0.00  0.03  1.50  0.83   \n\n      TATA  \n7015  0.62  \n7016  0.00  \n7017  0.06  \n7018  0.14  \n7019  0.02  ",
            "text/html": "<div>\n<style scoped>\n    .dataframe tbody tr th:only-of-type {\n        vertical-align: middle;\n    }\n\n    .dataframe tbody tr th {\n        vertical-align: top;\n    }\n\n    .dataframe thead th {\n        text-align: right;\n    }\n</style>\n<table border=\"1\" class=\"dataframe\">\n  <thead>\n    <tr style=\"text-align: right;\">\n      <th></th>\n      <th>Target</th>\n      <th>EQTA</th>\n      <th>EQTL</th>\n      <th>LLRTA</th>\n      <th>LLRGL</th>\n      <th>OEXTA</th>\n      <th>INCEMP</th>\n      <th>ROA</th>\n      <th>ROE</th>\n      <th>TDTL</th>\n      <th>TDTA</th>\n      <th>TATA</th>\n    </tr>\n  </thead>\n  <tbody>\n    <tr>\n      <th>7015</th>\n      <td>0</td>\n      <td>0.14</td>\n      <td>0.63</td>\n      <td>0.00</td>\n      <td>0.00</td>\n      <td>0.01</td>\n      <td>80.99</td>\n      <td>0.01</td>\n      <td>0.08</td>\n      <td>3.43</td>\n      <td>0.75</td>\n      <td>0.62</td>\n    </tr>\n    <tr>\n      <th>7016</th>\n      <td>0</td>\n      <td>0.09</td>\n      <td>0.11</td>\n      <td>0.00</td>\n      <td>0.00</td>\n      <td>0.01</td>\n      <td>46.46</td>\n      <td>0.00</td>\n      <td>0.03</td>\n      <td>1.08</td>\n      <td>0.86</td>\n      <td>0.00</td>\n    </tr>\n    <tr>\n      <th>7017</th>\n      <td>0</td>\n      <td>0.13</td>\n      <td>0.18</td>\n      <td>0.00</td>\n      <td>0.00</td>\n      <td>0.01</td>\n      <td>85.78</td>\n      <td>0.02</td>\n      <td>0.13</td>\n      <td>0.98</td>\n      <td>0.73</td>\n      <td>0.06</td>\n    </tr>\n    <tr>\n      <th>7018</th>\n      <td>0</td>\n      <td>0.77</td>\n      <td>16.59</td>\n      <td>0.00</td>\n      <td>0.02</td>\n      <td>0.07</td>\n      <td>-143.14</td>\n      <td>-0.07</td>\n      <td>-0.09</td>\n      <td>4.92</td>\n      <td>0.23</td>\n      <td>0.14</td>\n    </tr>\n    <tr>\n      <th>7019</th>\n      <td>0</td>\n      <td>0.10</td>\n      <td>0.19</td>\n      <td>0.00</td>\n      <td>0.00</td>\n      <td>0.00</td>\n      <td>13.05</td>\n      <td>0.00</td>\n      <td>0.03</td>\n      <td>1.50</td>\n      <td>0.83</td>\n      <td>0.02</td>\n    </tr>\n  </tbody>\n</table>\n</div>"
          },
          "metadata": {}
        }
      ],
      "execution_count": 149,
      "metadata": {
        "collapsed": true,
        "jupyter": {
          "source_hidden": false,
          "outputs_hidden": false
        },
        "nteract": {
          "transient": {
            "deleting": false
          }
        },
        "gather": {
          "logged": 1616506865479
        }
      }
    },
    {
      "cell_type": "markdown",
      "source": [
        "### Checking for or creating appropriate `ComputeTarget`"
      ],
      "metadata": {}
    },
    {
      "cell_type": "code",
      "source": [
        "cpu_cluster_name = 'final-cmp'\n",
        "\n",
        "try:\n",
        "    compute_target = ComputeTarget(workspace=ws, name=cpu_cluster_name)\n",
        "    print('Existing compute target.')\n",
        "\n",
        "except:\n",
        "    print('Creating compute target.')\n",
        "    compute_config = AmlCompute.provisioning_configuration(vm_size='STANDARD_D2_V2', max_nodes=4)\n",
        "    compute_target = ComputeTarget.create(ws, cpu_cluster_name, compute_config)\n",
        "\n",
        "print(compute_target.get_status())"
      ],
      "outputs": [
        {
          "output_type": "stream",
          "name": "stdout",
          "text": [
            "Existing compute target.\n",
            "{\n",
            "  \"errors\": [],\n",
            "  \"creationTime\": \"2021-03-22T19:24:32.034596+00:00\",\n",
            "  \"createdBy\": {\n",
            "    \"userObjectId\": \"49e75006-b9ac-415c-9176-f83c59d4bf26\",\n",
            "    \"userTenantId\": \"d689239e-c492-40c6-b391-2c5951d31d14\",\n",
            "    \"userName\": null\n",
            "  },\n",
            "  \"modifiedTime\": \"2021-03-22T19:27:20.575645+00:00\",\n",
            "  \"state\": \"Running\",\n",
            "  \"vmSize\": \"STANDARD_DS2_V2\"\n",
            "}\n"
          ]
        }
      ],
      "execution_count": 150,
      "metadata": {
        "gather": {
          "logged": 1616506873108
        }
      }
    },
    {
      "cell_type": "markdown",
      "source": [
        "## AutoML Configuration\n",
        "### Primary metric determins configuaration\n",
        "Financial metrics recorded in the last reports of the failed banks should have predictive power that is needed to forecast future failures. Due to significant class imbalances and taking into account costs accosiated with financial distress, the model should aim to maximize the recall score. In other words, accuracy is probably not the best metrics, as Type II error needs to be minimized. This is why the main focus of this classification should be on maximizing AUC, hopefully, by achieving good recall score. This is why 'norm_macro_recall' was chosen as a primary metric. Timeout and number of concurrent iterations were set conservatively to control the costs."
      ],
      "metadata": {}
    },
    {
      "cell_type": "code",
      "source": [
        "automl_settings = {\n",
        "    \"experiment_timeout_minutes\": 15,\n",
        "    \"max_concurrent_iterations\": 4,\n",
        "    \"primary_metric\" : 'norm_macro_recall'\n",
        "    }\n",
        "\n",
        "automl_config = AutoMLConfig(\n",
        "    compute_target=compute_target, \n",
        "    task = \"classification\",\n",
        "    training_data=dataset, \n",
        "    label_column_name=\"Target\", \n",
        "    path = project_folder,\n",
        "    enable_early_stopping= True, \n",
        "    featurization= 'auto', \n",
        "    debug_log = \"automl_errors.log\",\n",
        "    **automl_settings\n",
        "    )"
      ],
      "outputs": [],
      "execution_count": 7,
      "metadata": {
        "gather": {
          "logged": 1616442385959
        }
      }
    },
    {
      "cell_type": "markdown",
      "source": [
        "## Run Details\n",
        "\n",
        "### Possible modeling choices \n",
        "Generally speaking, decision trees should work well for this task, as these models do not make any functional form assumptions, handle both categorical and continuous data well, and are easy to interpret. Tree-based models simply aim to reduce entropy at every split and are therefore very straightforward, no need to worry about missing data and scaling. They are not very stable though, as new data may produce a totally different tree, and they also tend to overfit.\n",
        "\n",
        "Possible solution would be model averaging - employing “wisdom of the crowd”. It seems that for the present task two paths are possible: reducing variance or reducing bias. The former implies complex model, i.e. starting with a bushy, high-variance tree and resampling with replacement, what will produce a family of Random Forest models. The later implies starting with a simple model, i.e. possible a stump, high-bias classifier and learning from miss-classified instances, what will produce a family of Boosting models.\n"
      ],
      "metadata": {}
    },
    {
      "cell_type": "code",
      "source": [
        "remote_run = exp.submit(config=automl_config) \n",
        "RunDetails(remote_run).show() # <--use Notebook widget\n",
        "remote_run.wait_for_completion(show_output=True)"
      ],
      "outputs": [
        {
          "output_type": "stream",
          "name": "stdout",
          "text": [
            "Running on remote.\n"
          ]
        },
        {
          "output_type": "display_data",
          "data": {
            "text/plain": "_AutoMLWidget(widget_settings={'childWidgetDisplay': 'popup', 'send_telemetry': False, 'log_level': 'INFO', 's…",
            "application/vnd.jupyter.widget-view+json": {
              "version_major": 2,
              "version_minor": 0,
              "model_id": "f9ef8dd199f24418806805116ec7a1ae"
            }
          },
          "metadata": {}
        },
        {
          "output_type": "display_data",
          "data": {
            "application/aml.mini.widget.v1": "{\"status\": \"Completed\", \"workbench_run_details_uri\": \"https://ml.azure.com/experiments/camels-clf/runs/AutoML_dbfdcfd4-7378-4756-b9e9-d7613df9a6be?wsid=/subscriptions/0c66ad45-500d-48af-80d3-0039ebf1975e/resourcegroups/final-rgp/workspaces/final-ws\", \"run_id\": \"AutoML_dbfdcfd4-7378-4756-b9e9-d7613df9a6be\", \"run_properties\": {\"run_id\": \"AutoML_dbfdcfd4-7378-4756-b9e9-d7613df9a6be\", \"created_utc\": \"2021-03-22T19:47:27.763626Z\", \"properties\": {\"num_iterations\": \"1000\", \"training_type\": \"TrainFull\", \"acquisition_function\": \"EI\", \"primary_metric\": \"norm_macro_recall\", \"train_split\": \"0\", \"acquisition_parameter\": \"0\", \"num_cross_validation\": null, \"target\": \"final-cmp\", \"AMLSettingsJsonString\": \"{\\\"path\\\":null,\\\"name\\\":\\\"camels-clf\\\",\\\"subscription_id\\\":\\\"0c66ad45-500d-48af-80d3-0039ebf1975e\\\",\\\"resource_group\\\":\\\"final-rgp\\\",\\\"workspace_name\\\":\\\"final-ws\\\",\\\"region\\\":\\\"eastus\\\",\\\"compute_target\\\":\\\"final-cmp\\\",\\\"spark_service\\\":null,\\\"azure_service\\\":\\\"remote\\\",\\\"many_models\\\":false,\\\"pipeline_fetch_max_batch_size\\\":1,\\\"iterations\\\":1000,\\\"primary_metric\\\":\\\"norm_macro_recall\\\",\\\"task_type\\\":\\\"classification\\\",\\\"data_script\\\":null,\\\"validation_size\\\":0.0,\\\"n_cross_validations\\\":null,\\\"y_min\\\":null,\\\"y_max\\\":null,\\\"num_classes\\\":null,\\\"featurization\\\":\\\"auto\\\",\\\"_ignore_package_version_incompatibilities\\\":false,\\\"is_timeseries\\\":false,\\\"max_cores_per_iteration\\\":1,\\\"max_concurrent_iterations\\\":4,\\\"iteration_timeout_minutes\\\":null,\\\"mem_in_mb\\\":null,\\\"enforce_time_on_windows\\\":false,\\\"experiment_timeout_minutes\\\":15,\\\"experiment_exit_score\\\":null,\\\"whitelist_models\\\":null,\\\"blacklist_algos\\\":[\\\"TensorFlowLinearClassifier\\\",\\\"TensorFlowDNN\\\"],\\\"supported_models\\\":[\\\"DecisionTree\\\",\\\"GradientBoosting\\\",\\\"AveragedPerceptronClassifier\\\",\\\"LogisticRegression\\\",\\\"LightGBM\\\",\\\"MultinomialNaiveBayes\\\",\\\"ExtremeRandomTrees\\\",\\\"LinearSVM\\\",\\\"RandomForest\\\",\\\"TensorFlowDNN\\\",\\\"SGD\\\",\\\"KNN\\\",\\\"BernoulliNaiveBayes\\\",\\\"SVM\\\",\\\"TensorFlowLinearClassifier\\\",\\\"XGBoostClassifier\\\"],\\\"private_models\\\":[],\\\"auto_blacklist\\\":true,\\\"blacklist_samples_reached\\\":false,\\\"exclude_nan_labels\\\":true,\\\"verbosity\\\":20,\\\"_debug_log\\\":\\\"azureml_automl.log\\\",\\\"show_warnings\\\":false,\\\"model_explainability\\\":true,\\\"service_url\\\":null,\\\"sdk_url\\\":null,\\\"sdk_packages\\\":null,\\\"enable_onnx_compatible_models\\\":false,\\\"enable_split_onnx_featurizer_estimator_models\\\":false,\\\"vm_type\\\":\\\"STANDARD_DS2_V2\\\",\\\"telemetry_verbosity\\\":20,\\\"send_telemetry\\\":true,\\\"enable_dnn\\\":false,\\\"scenario\\\":\\\"SDK-1.13.0\\\",\\\"environment_label\\\":null,\\\"force_text_dnn\\\":false,\\\"enable_feature_sweeping\\\":true,\\\"enable_early_stopping\\\":true,\\\"early_stopping_n_iters\\\":10,\\\"metrics\\\":null,\\\"enable_ensembling\\\":true,\\\"enable_stack_ensembling\\\":true,\\\"ensemble_iterations\\\":15,\\\"enable_tf\\\":false,\\\"enable_subsampling\\\":null,\\\"subsample_seed\\\":null,\\\"enable_nimbusml\\\":false,\\\"enable_streaming\\\":false,\\\"force_streaming\\\":false,\\\"track_child_runs\\\":true,\\\"allowed_private_models\\\":[],\\\"label_column_name\\\":\\\"Target\\\",\\\"weight_column_name\\\":null,\\\"cv_split_column_names\\\":null,\\\"enable_local_managed\\\":false,\\\"_local_managed_run_id\\\":null,\\\"cost_mode\\\":1,\\\"lag_length\\\":0,\\\"metric_operation\\\":\\\"maximize\\\",\\\"preprocess\\\":true}\", \"DataPrepJsonString\": \"{\\\\\\\"training_data\\\\\\\": \\\\\\\"{\\\\\\\\\\\\\\\"blocks\\\\\\\\\\\\\\\": [{\\\\\\\\\\\\\\\"id\\\\\\\\\\\\\\\": \\\\\\\\\\\\\\\"3b4f858c-e3e9-4129-891a-09db6e84409a\\\\\\\\\\\\\\\", \\\\\\\\\\\\\\\"type\\\\\\\\\\\\\\\": \\\\\\\\\\\\\\\"Microsoft.DPrep.GetDatastoreFilesBlock\\\\\\\\\\\\\\\", \\\\\\\\\\\\\\\"arguments\\\\\\\\\\\\\\\": {\\\\\\\\\\\\\\\"datastores\\\\\\\\\\\\\\\": [{\\\\\\\\\\\\\\\"datastoreName\\\\\\\\\\\\\\\": \\\\\\\\\\\\\\\"workspaceblobstore\\\\\\\\\\\\\\\", \\\\\\\\\\\\\\\"path\\\\\\\\\\\\\\\": \\\\\\\\\\\\\\\"UI/03-22-2021_074058_UTC/camel_data_after2010Q3.csv\\\\\\\\\\\\\\\", \\\\\\\\\\\\\\\"resourceGroup\\\\\\\\\\\\\\\": \\\\\\\\\\\\\\\"final-rgp\\\\\\\\\\\\\\\", \\\\\\\\\\\\\\\"subscription\\\\\\\\\\\\\\\": \\\\\\\\\\\\\\\"0c66ad45-500d-48af-80d3-0039ebf1975e\\\\\\\\\\\\\\\", \\\\\\\\\\\\\\\"workspaceName\\\\\\\\\\\\\\\": \\\\\\\\\\\\\\\"final-ws\\\\\\\\\\\\\\\"}]}, \\\\\\\\\\\\\\\"localData\\\\\\\\\\\\\\\": {}, \\\\\\\\\\\\\\\"isEnabled\\\\\\\\\\\\\\\": true, \\\\\\\\\\\\\\\"name\\\\\\\\\\\\\\\": null, \\\\\\\\\\\\\\\"annotation\\\\\\\\\\\\\\\": null}, {\\\\\\\\\\\\\\\"id\\\\\\\\\\\\\\\": \\\\\\\\\\\\\\\"adcd11a5-a768-41b1-8f87-2b8f04c6e414\\\\\\\\\\\\\\\", \\\\\\\\\\\\\\\"type\\\\\\\\\\\\\\\": \\\\\\\\\\\\\\\"Microsoft.DPrep.ParseDelimitedBlock\\\\\\\\\\\\\\\", \\\\\\\\\\\\\\\"arguments\\\\\\\\\\\\\\\": {\\\\\\\\\\\\\\\"columnHeadersMode\\\\\\\\\\\\\\\": 1, \\\\\\\\\\\\\\\"fileEncoding\\\\\\\\\\\\\\\": 0, \\\\\\\\\\\\\\\"handleQuotedLineBreaks\\\\\\\\\\\\\\\": false, \\\\\\\\\\\\\\\"preview\\\\\\\\\\\\\\\": false, \\\\\\\\\\\\\\\"separator\\\\\\\\\\\\\\\": \\\\\\\\\\\\\\\",\\\\\\\\\\\\\\\", \\\\\\\\\\\\\\\"skipRows\\\\\\\\\\\\\\\": 0, \\\\\\\\\\\\\\\"skipRowsMode\\\\\\\\\\\\\\\": 0}, \\\\\\\\\\\\\\\"localData\\\\\\\\\\\\\\\": {}, \\\\\\\\\\\\\\\"isEnabled\\\\\\\\\\\\\\\": true, \\\\\\\\\\\\\\\"name\\\\\\\\\\\\\\\": null, \\\\\\\\\\\\\\\"annotation\\\\\\\\\\\\\\\": null}, {\\\\\\\\\\\\\\\"id\\\\\\\\\\\\\\\": \\\\\\\\\\\\\\\"5050a055-3c1c-4017-bb96-bba33d2e05c0\\\\\\\\\\\\\\\", \\\\\\\\\\\\\\\"type\\\\\\\\\\\\\\\": \\\\\\\\\\\\\\\"Microsoft.DPrep.DropColumnsBlock\\\\\\\\\\\\\\\", \\\\\\\\\\\\\\\"arguments\\\\\\\\\\\\\\\": {\\\\\\\\\\\\\\\"columns\\\\\\\\\\\\\\\": {\\\\\\\\\\\\\\\"type\\\\\\\\\\\\\\\": 0, \\\\\\\\\\\\\\\"details\\\\\\\\\\\\\\\": {\\\\\\\\\\\\\\\"selectedColumns\\\\\\\\\\\\\\\": [\\\\\\\\\\\\\\\"Path\\\\\\\\\\\\\\\", \\\\\\\\\\\\\\\"Column1\\\\\\\\\\\\\\\", \\\\\\\\\\\\\\\"AsOfDate\\\\\\\\\\\\\\\"]}}}, \\\\\\\\\\\\\\\"localData\\\\\\\\\\\\\\\": {}, \\\\\\\\\\\\\\\"isEnabled\\\\\\\\\\\\\\\": true, \\\\\\\\\\\\\\\"name\\\\\\\\\\\\\\\": null, \\\\\\\\\\\\\\\"annotation\\\\\\\\\\\\\\\": null}, {\\\\\\\\\\\\\\\"id\\\\\\\\\\\\\\\": \\\\\\\\\\\\\\\"112c2df8-aa59-4f20-89d8-0188c2ef6725\\\\\\\\\\\\\\\", \\\\\\\\\\\\\\\"type\\\\\\\\\\\\\\\": \\\\\\\\\\\\\\\"Microsoft.DPrep.SetColumnTypesBlock\\\\\\\\\\\\\\\", \\\\\\\\\\\\\\\"arguments\\\\\\\\\\\\\\\": {\\\\\\\\\\\\\\\"columnConversion\\\\\\\\\\\\\\\": [{\\\\\\\\\\\\\\\"column\\\\\\\\\\\\\\\": {\\\\\\\\\\\\\\\"type\\\\\\\\\\\\\\\": 2, \\\\\\\\\\\\\\\"details\\\\\\\\\\\\\\\": {\\\\\\\\\\\\\\\"selectedColumn\\\\\\\\\\\\\\\": \\\\\\\\\\\\\\\"Path\\\\\\\\\\\\\\\"}}, \\\\\\\\\\\\\\\"typeProperty\\\\\\\\\\\\\\\": 0}, {\\\\\\\\\\\\\\\"column\\\\\\\\\\\\\\\": {\\\\\\\\\\\\\\\"type\\\\\\\\\\\\\\\": 2, \\\\\\\\\\\\\\\"details\\\\\\\\\\\\\\\": {\\\\\\\\\\\\\\\"selectedColumn\\\\\\\\\\\\\\\": \\\\\\\\\\\\\\\"Column1\\\\\\\\\\\\\\\"}}, \\\\\\\\\\\\\\\"typeProperty\\\\\\\\\\\\\\\": 2}, {\\\\\\\\\\\\\\\"column\\\\\\\\\\\\\\\": {\\\\\\\\\\\\\\\"type\\\\\\\\\\\\\\\": 2, \\\\\\\\\\\\\\\"details\\\\\\\\\\\\\\\": {\\\\\\\\\\\\\\\"selectedColumn\\\\\\\\\\\\\\\": \\\\\\\\\\\\\\\"AsOfDate\\\\\\\\\\\\\\\"}}, \\\\\\\\\\\\\\\"typeArguments\\\\\\\\\\\\\\\": {\\\\\\\\\\\\\\\"dateTimeFormats\\\\\\\\\\\\\\\": [\\\\\\\\\\\\\\\"%m/%d/%Y\\\\\\\\\\\\\\\"]}, \\\\\\\\\\\\\\\"typeProperty\\\\\\\\\\\\\\\": 4}, {\\\\\\\\\\\\\\\"column\\\\\\\\\\\\\\\": {\\\\\\\\\\\\\\\"type\\\\\\\\\\\\\\\": 2, \\\\\\\\\\\\\\\"details\\\\\\\\\\\\\\\": {\\\\\\\\\\\\\\\"selectedColumn\\\\\\\\\\\\\\\": \\\\\\\\\\\\\\\"Target\\\\\\\\\\\\\\\"}}, \\\\\\\\\\\\\\\"typeProperty\\\\\\\\\\\\\\\": 2}, {\\\\\\\\\\\\\\\"column\\\\\\\\\\\\\\\": {\\\\\\\\\\\\\\\"type\\\\\\\\\\\\\\\": 2, \\\\\\\\\\\\\\\"details\\\\\\\\\\\\\\\": {\\\\\\\\\\\\\\\"selectedColumn\\\\\\\\\\\\\\\": \\\\\\\\\\\\\\\"EQTA\\\\\\\\\\\\\\\"}}, \\\\\\\\\\\\\\\"typeProperty\\\\\\\\\\\\\\\": 3}, {\\\\\\\\\\\\\\\"column\\\\\\\\\\\\\\\": {\\\\\\\\\\\\\\\"type\\\\\\\\\\\\\\\": 2, \\\\\\\\\\\\\\\"details\\\\\\\\\\\\\\\": {\\\\\\\\\\\\\\\"selectedColumn\\\\\\\\\\\\\\\": \\\\\\\\\\\\\\\"EQTL\\\\\\\\\\\\\\\"}}, \\\\\\\\\\\\\\\"typeProperty\\\\\\\\\\\\\\\": 3}, {\\\\\\\\\\\\\\\"column\\\\\\\\\\\\\\\": {\\\\\\\\\\\\\\\"type\\\\\\\\\\\\\\\": 2, \\\\\\\\\\\\\\\"details\\\\\\\\\\\\\\\": {\\\\\\\\\\\\\\\"selectedColumn\\\\\\\\\\\\\\\": \\\\\\\\\\\\\\\"LLRTA\\\\\\\\\\\\\\\"}}, \\\\\\\\\\\\\\\"typeProperty\\\\\\\\\\\\\\\": 3}, {\\\\\\\\\\\\\\\"column\\\\\\\\\\\\\\\": {\\\\\\\\\\\\\\\"type\\\\\\\\\\\\\\\": 2, \\\\\\\\\\\\\\\"details\\\\\\\\\\\\\\\": {\\\\\\\\\\\\\\\"selectedColumn\\\\\\\\\\\\\\\": \\\\\\\\\\\\\\\"LLRGL\\\\\\\\\\\\\\\"}}, \\\\\\\\\\\\\\\"typeProperty\\\\\\\\\\\\\\\": 3}, {\\\\\\\\\\\\\\\"column\\\\\\\\\\\\\\\": {\\\\\\\\\\\\\\\"type\\\\\\\\\\\\\\\": 2, \\\\\\\\\\\\\\\"details\\\\\\\\\\\\\\\": {\\\\\\\\\\\\\\\"selectedColumn\\\\\\\\\\\\\\\": \\\\\\\\\\\\\\\"OEXTA\\\\\\\\\\\\\\\"}}, \\\\\\\\\\\\\\\"typeProperty\\\\\\\\\\\\\\\": 3}, {\\\\\\\\\\\\\\\"column\\\\\\\\\\\\\\\": {\\\\\\\\\\\\\\\"type\\\\\\\\\\\\\\\": 2, \\\\\\\\\\\\\\\"details\\\\\\\\\\\\\\\": {\\\\\\\\\\\\\\\"selectedColumn\\\\\\\\\\\\\\\": \\\\\\\\\\\\\\\"INCEMP\\\\\\\\\\\\\\\"}}, \\\\\\\\\\\\\\\"typeProperty\\\\\\\\\\\\\\\": 3}, {\\\\\\\\\\\\\\\"column\\\\\\\\\\\\\\\": {\\\\\\\\\\\\\\\"type\\\\\\\\\\\\\\\": 2, \\\\\\\\\\\\\\\"details\\\\\\\\\\\\\\\": {\\\\\\\\\\\\\\\"selectedColumn\\\\\\\\\\\\\\\": \\\\\\\\\\\\\\\"ROA\\\\\\\\\\\\\\\"}}, \\\\\\\\\\\\\\\"typeProperty\\\\\\\\\\\\\\\": 3}, {\\\\\\\\\\\\\\\"column\\\\\\\\\\\\\\\": {\\\\\\\\\\\\\\\"type\\\\\\\\\\\\\\\": 2, \\\\\\\\\\\\\\\"details\\\\\\\\\\\\\\\": {\\\\\\\\\\\\\\\"selectedColumn\\\\\\\\\\\\\\\": \\\\\\\\\\\\\\\"ROE\\\\\\\\\\\\\\\"}}, \\\\\\\\\\\\\\\"typeProperty\\\\\\\\\\\\\\\": 3}, {\\\\\\\\\\\\\\\"column\\\\\\\\\\\\\\\": {\\\\\\\\\\\\\\\"type\\\\\\\\\\\\\\\": 2, \\\\\\\\\\\\\\\"details\\\\\\\\\\\\\\\": {\\\\\\\\\\\\\\\"selectedColumn\\\\\\\\\\\\\\\": \\\\\\\\\\\\\\\"TDTL\\\\\\\\\\\\\\\"}}, \\\\\\\\\\\\\\\"typeProperty\\\\\\\\\\\\\\\": 3}, {\\\\\\\\\\\\\\\"column\\\\\\\\\\\\\\\": {\\\\\\\\\\\\\\\"type\\\\\\\\\\\\\\\": 2, \\\\\\\\\\\\\\\"details\\\\\\\\\\\\\\\": {\\\\\\\\\\\\\\\"selectedColumn\\\\\\\\\\\\\\\": \\\\\\\\\\\\\\\"TDTA\\\\\\\\\\\\\\\"}}, \\\\\\\\\\\\\\\"typeProperty\\\\\\\\\\\\\\\": 3}, {\\\\\\\\\\\\\\\"column\\\\\\\\\\\\\\\": {\\\\\\\\\\\\\\\"type\\\\\\\\\\\\\\\": 2, \\\\\\\\\\\\\\\"details\\\\\\\\\\\\\\\": {\\\\\\\\\\\\\\\"selectedColumn\\\\\\\\\\\\\\\": \\\\\\\\\\\\\\\"TATA\\\\\\\\\\\\\\\"}}, \\\\\\\\\\\\\\\"typeProperty\\\\\\\\\\\\\\\": 3}]}, \\\\\\\\\\\\\\\"localData\\\\\\\\\\\\\\\": {}, \\\\\\\\\\\\\\\"isEnabled\\\\\\\\\\\\\\\": true, \\\\\\\\\\\\\\\"name\\\\\\\\\\\\\\\": null, \\\\\\\\\\\\\\\"annotation\\\\\\\\\\\\\\\": null}], \\\\\\\\\\\\\\\"inspectors\\\\\\\\\\\\\\\": [], \\\\\\\\\\\\\\\"meta\\\\\\\\\\\\\\\": {\\\\\\\\\\\\\\\"savedDatasetId\\\\\\\\\\\\\\\": \\\\\\\\\\\\\\\"43eb7172-b089-4865-b5b7-4b07d79e8bd0\\\\\\\\\\\\\\\", \\\\\\\\\\\\\\\"datasetType\\\\\\\\\\\\\\\": \\\\\\\\\\\\\\\"tabular\\\\\\\\\\\\\\\", \\\\\\\\\\\\\\\"subscriptionId\\\\\\\\\\\\\\\": \\\\\\\\\\\\\\\"0c66ad45-500d-48af-80d3-0039ebf1975e\\\\\\\\\\\\\\\", \\\\\\\\\\\\\\\"workspaceId\\\\\\\\\\\\\\\": \\\\\\\\\\\\\\\"5f2d671b-df42-47ff-af2f-d74f27ad4dde\\\\\\\\\\\\\\\", \\\\\\\\\\\\\\\"workspaceLocation\\\\\\\\\\\\\\\": \\\\\\\\\\\\\\\"eastus\\\\\\\\\\\\\\\"}}\\\\\\\", \\\\\\\"activities\\\\\\\": 0}\", \"EnableSubsampling\": null, \"runTemplate\": \"AutoML\", \"azureml.runsource\": \"automl\", \"display_task_type\": \"classification\", \"dependencies_versions\": \"{\\\"azureml-widgets\\\": \\\"1.22.0\\\", \\\"azureml-train\\\": \\\"1.22.0\\\", \\\"azureml-train-restclients-hyperdrive\\\": \\\"1.22.0\\\", \\\"azureml-train-core\\\": \\\"1.22.0\\\", \\\"azureml-train-automl\\\": \\\"1.22.0\\\", \\\"azureml-train-automl-runtime\\\": \\\"1.22.0\\\", \\\"azureml-train-automl-client\\\": \\\"1.22.0\\\", \\\"azureml-tensorboard\\\": \\\"1.22.0\\\", \\\"azureml-telemetry\\\": \\\"1.22.0\\\", \\\"azureml-sdk\\\": \\\"1.22.0\\\", \\\"azureml-samples\\\": \\\"0+unknown\\\", \\\"azureml-pipeline\\\": \\\"1.22.0\\\", \\\"azureml-pipeline-steps\\\": \\\"1.22.0\\\", \\\"azureml-pipeline-core\\\": \\\"1.22.0\\\", \\\"azureml-opendatasets\\\": \\\"1.22.0\\\", \\\"azureml-model-management-sdk\\\": \\\"1.0.1b6.post1\\\", \\\"azureml-mlflow\\\": \\\"1.22.0\\\", \\\"azureml-interpret\\\": \\\"1.22.0\\\", \\\"azureml-explain-model\\\": \\\"1.22.0\\\", \\\"azureml-defaults\\\": \\\"1.22.0\\\", \\\"azureml-dataset-runtime\\\": \\\"1.22.0\\\", \\\"azureml-dataprep\\\": \\\"2.9.1\\\", \\\"azureml-dataprep-rslex\\\": \\\"1.7.0\\\", \\\"azureml-dataprep-native\\\": \\\"29.0.0\\\", \\\"azureml-datadrift\\\": \\\"1.22.0\\\", \\\"azureml-core\\\": \\\"1.22.0\\\", \\\"azureml-contrib-services\\\": \\\"1.22.0\\\", \\\"azureml-contrib-server\\\": \\\"1.22.0\\\", \\\"azureml-contrib-reinforcementlearning\\\": \\\"1.22.0\\\", \\\"azureml-contrib-pipeline-steps\\\": \\\"1.22.0\\\", \\\"azureml-contrib-notebook\\\": \\\"1.22.0\\\", \\\"azureml-contrib-interpret\\\": \\\"1.22.0\\\", \\\"azureml-contrib-gbdt\\\": \\\"1.22.0\\\", \\\"azureml-contrib-fairness\\\": \\\"1.22.0\\\", \\\"azureml-contrib-dataset\\\": \\\"1.22.0\\\", \\\"azureml-cli-common\\\": \\\"1.22.0\\\", \\\"azureml-automl-runtime\\\": \\\"1.22.0\\\", \\\"azureml-automl-core\\\": \\\"1.22.0\\\", \\\"azureml-accel-models\\\": \\\"1.22.0\\\"}\", \"_aml_system_scenario_identification\": \"Remote.Parent\", \"ClientType\": \"SDK\", \"environment_cpu_name\": \"AzureML-AutoML\", \"environment_cpu_label\": \"prod\", \"environment_gpu_name\": \"AzureML-AutoML-GPU\", \"environment_gpu_label\": \"prod\", \"root_attribution\": \"automl\", \"attribution\": \"AutoML\", \"Orchestrator\": \"AutoML\", \"CancelUri\": \"https://eastus.experiments.azureml.net/jasmine/v1.0/subscriptions/0c66ad45-500d-48af-80d3-0039ebf1975e/resourceGroups/final-rgp/providers/Microsoft.MachineLearningServices/workspaces/final-ws/experimentids/b86bab09-1296-418d-b16b-860e8f8360ff/cancel/AutoML_dbfdcfd4-7378-4756-b9e9-d7613df9a6be\", \"ClientSdkVersion\": \"1.24.0\", \"snapshotId\": \"00000000-0000-0000-0000-000000000000\", \"SetupRunId\": \"AutoML_dbfdcfd4-7378-4756-b9e9-d7613df9a6be_setup\", \"SetupRunContainerId\": \"dcid.AutoML_dbfdcfd4-7378-4756-b9e9-d7613df9a6be_setup\", \"FeaturizationRunJsonPath\": \"featurizer_container.json\", \"FeaturizationRunId\": \"AutoML_dbfdcfd4-7378-4756-b9e9-d7613df9a6be_featurize\", \"ProblemInfoJsonString\": \"{\\\"dataset_num_categorical\\\": 0, \\\"is_sparse\\\": false, \\\"subsampling\\\": false, \\\"dataset_classes\\\": 2, \\\"dataset_features\\\": 11, \\\"dataset_samples\\\": 7020, \\\"single_frequency_class_detected\\\": false}\", \"ModelExplainRunId\": \"AutoML_dbfdcfd4-7378-4756-b9e9-d7613df9a6be_ModelExplain\"}, \"tags\": {\"model_explain_run\": \"best_run\", \"_aml_system_azureml.automlComponent\": \"AutoML\", \"pipeline_id\": \"\", \"score\": \"\", \"predicted_cost\": \"\", \"fit_time\": \"\", \"training_percent\": \"\", \"iteration\": \"\", \"run_preprocessor\": \"\", \"run_algorithm\": \"\", \"dynamic_whitelisting_iterations\": \"<24>;<30>;<35>;\", \"automl_best_child_run_id\": \"AutoML_dbfdcfd4-7378-4756-b9e9-d7613df9a6be_37\", \"model_explain_best_run_child_id\": \"AutoML_dbfdcfd4-7378-4756-b9e9-d7613df9a6be_37\"}, \"end_time_utc\": \"2021-03-22T20:28:37.532955Z\", \"status\": \"Completed\", \"log_files\": {}, \"log_groups\": [], \"run_duration\": \"0:41:09\", \"run_number\": \"6\", \"run_queued_details\": {\"status\": \"Completed\", \"details\": null}}, \"child_runs\": [{\"run_id\": \"AutoML_dbfdcfd4-7378-4756-b9e9-d7613df9a6be_1\", \"run_number\": 10, \"metric\": null, \"status\": \"Completed\", \"run_type\": \"azureml.scriptrun\", \"training_percent\": \"100\", \"start_time\": \"2021-03-22T19:53:57.702606Z\", \"end_time\": \"2021-03-22T19:55:25.341137Z\", \"created_time\": \"2021-03-22T19:53:42.805469Z\", \"created_time_dt\": \"2021-03-22T19:53:42.805469Z\", \"duration\": \"0:01:42\", \"iteration\": \"1\", \"goal\": \"norm_macro_recall_max\", \"run_name\": \"MaxAbsScaler, XGBoostClassifier\", \"run_properties\": \"copy=True\", \"primary_metric\": 0.67745474, \"best_metric\": 0.67745474}, {\"run_id\": \"AutoML_dbfdcfd4-7378-4756-b9e9-d7613df9a6be_3\", \"run_number\": 11, \"metric\": null, \"status\": \"Completed\", \"run_type\": \"azureml.scriptrun\", \"training_percent\": \"100\", \"start_time\": \"2021-03-22T19:53:58.278183Z\", \"end_time\": \"2021-03-22T19:55:21.043722Z\", \"created_time\": \"2021-03-22T19:53:42.83649Z\", \"created_time_dt\": \"2021-03-22T19:53:42.83649Z\", \"duration\": \"0:01:38\", \"iteration\": \"3\", \"goal\": \"norm_macro_recall_max\", \"run_name\": \"MinMaxScaler, RandomForest\", \"run_properties\": \"copy=True, feature_range=(0, 1\", \"primary_metric\": 0.50507999, \"best_metric\": 0.91301799}, {\"run_id\": \"AutoML_dbfdcfd4-7378-4756-b9e9-d7613df9a6be_0\", \"run_number\": 12, \"metric\": null, \"status\": \"Completed\", \"run_type\": \"azureml.scriptrun\", \"training_percent\": \"100\", \"start_time\": \"2021-03-22T19:53:59.560929Z\", \"end_time\": \"2021-03-22T19:55:26.88062Z\", \"created_time\": \"2021-03-22T19:53:43.433196Z\", \"created_time_dt\": \"2021-03-22T19:53:43.433196Z\", \"duration\": \"0:01:43\", \"iteration\": \"0\", \"goal\": \"norm_macro_recall_max\", \"run_name\": \"MaxAbsScaler, LightGBM\", \"run_properties\": \"copy=True\", \"primary_metric\": 0.56279309, \"best_metric\": 0.56279309}, {\"run_id\": \"AutoML_dbfdcfd4-7378-4756-b9e9-d7613df9a6be_2\", \"run_number\": 13, \"metric\": null, \"status\": \"Completed\", \"run_type\": \"azureml.scriptrun\", \"training_percent\": \"100\", \"start_time\": \"2021-03-22T19:53:57.611669Z\", \"end_time\": \"2021-03-22T19:55:20.705753Z\", \"created_time\": \"2021-03-22T19:53:42.840448Z\", \"created_time_dt\": \"2021-03-22T19:53:42.840448Z\", \"duration\": \"0:01:37\", \"iteration\": \"2\", \"goal\": \"norm_macro_recall_max\", \"run_name\": \"MinMaxScaler, RandomForest\", \"run_properties\": \"copy=True, feature_range=(0, 1\", \"primary_metric\": 0.91301799, \"best_metric\": 0.91301799}, {\"run_id\": \"AutoML_dbfdcfd4-7378-4756-b9e9-d7613df9a6be_4\", \"run_number\": 14, \"metric\": null, \"status\": \"Completed\", \"run_type\": \"azureml.scriptrun\", \"training_percent\": \"100\", \"start_time\": \"2021-03-22T19:55:33.935339Z\", \"end_time\": \"2021-03-22T19:56:38.683506Z\", \"created_time\": \"2021-03-22T19:55:24.562319Z\", \"created_time_dt\": \"2021-03-22T19:55:24.562319Z\", \"duration\": \"0:01:14\", \"iteration\": \"4\", \"goal\": \"norm_macro_recall_max\", \"run_name\": \"StandardScalerWrapper, RandomForest\", \"run_properties\": \"<azureml.automl.runtime.shared.model_wrappers.StandardScalerWrapper object at 0x7efc9e5821d0\", \"primary_metric\": 0.92305903, \"best_metric\": 0.92305903}, {\"run_id\": \"AutoML_dbfdcfd4-7378-4756-b9e9-d7613df9a6be_5\", \"run_number\": 15, \"metric\": null, \"status\": \"Completed\", \"run_type\": \"azureml.scriptrun\", \"training_percent\": \"100\", \"start_time\": \"2021-03-22T19:55:40.70896Z\", \"end_time\": \"2021-03-22T19:56:47.080407Z\", \"created_time\": \"2021-03-22T19:55:24.667251Z\", \"created_time_dt\": \"2021-03-22T19:55:24.667251Z\", \"duration\": \"0:01:22\", \"iteration\": \"5\", \"goal\": \"norm_macro_recall_max\", \"run_name\": \"StandardScalerWrapper, RandomForest\", \"run_properties\": \"<azureml.automl.runtime.shared.model_wrappers.StandardScalerWrapper object at 0x7f5d9e242fd0\", \"primary_metric\": 0.72531481, \"best_metric\": 0.92305903}, {\"run_id\": \"AutoML_dbfdcfd4-7378-4756-b9e9-d7613df9a6be_6\", \"run_number\": 16, \"metric\": null, \"status\": \"Completed\", \"run_type\": \"azureml.scriptrun\", \"training_percent\": \"100\", \"start_time\": \"2021-03-22T19:55:40.630313Z\", \"end_time\": \"2021-03-22T20:00:37.861072Z\", \"created_time\": \"2021-03-22T19:55:29.778844Z\", \"created_time_dt\": \"2021-03-22T19:55:29.778844Z\", \"duration\": \"0:05:08\", \"iteration\": \"6\", \"goal\": \"norm_macro_recall_max\", \"run_name\": \"MinMaxScaler, ExtremeRandomTrees\", \"run_properties\": \"copy=True, feature_range=(0, 1\"}, {\"run_id\": \"AutoML_dbfdcfd4-7378-4756-b9e9-d7613df9a6be_7\", \"run_number\": 17, \"metric\": null, \"status\": \"Completed\", \"run_type\": \"azureml.scriptrun\", \"training_percent\": \"100\", \"start_time\": \"2021-03-22T19:55:46.459351Z\", \"end_time\": \"2021-03-22T19:56:54.981251Z\", \"created_time\": \"2021-03-22T19:55:35.408399Z\", \"created_time_dt\": \"2021-03-22T19:55:35.408399Z\", \"duration\": \"0:01:19\", \"iteration\": \"7\", \"goal\": \"norm_macro_recall_max\", \"run_name\": \"MinMaxScaler, RandomForest\", \"run_properties\": \"copy=True, feature_range=(0, 1\", \"primary_metric\": 0.0, \"best_metric\": 0.92305903}, {\"run_id\": \"AutoML_dbfdcfd4-7378-4756-b9e9-d7613df9a6be_8\", \"run_number\": 18, \"metric\": null, \"status\": \"Completed\", \"run_type\": \"azureml.scriptrun\", \"training_percent\": \"100\", \"start_time\": \"2021-03-22T19:56:53.808075Z\", \"end_time\": \"2021-03-22T19:57:50.504652Z\", \"created_time\": \"2021-03-22T19:56:41.831215Z\", \"created_time_dt\": \"2021-03-22T19:56:41.831215Z\", \"duration\": \"0:01:08\", \"iteration\": \"8\", \"goal\": \"norm_macro_recall_max\", \"run_name\": \"MinMaxScaler, ExtremeRandomTrees\", \"run_properties\": \"copy=True, feature_range=(0, 1\", \"primary_metric\": 0.0, \"best_metric\": 0.92305903}, {\"run_id\": \"AutoML_dbfdcfd4-7378-4756-b9e9-d7613df9a6be_9\", \"run_number\": 19, \"metric\": null, \"status\": \"Completed\", \"run_type\": \"azureml.scriptrun\", \"training_percent\": \"100\", \"start_time\": \"2021-03-22T19:57:04.219368Z\", \"end_time\": \"2021-03-22T19:58:00.766685Z\", \"created_time\": \"2021-03-22T19:56:49.823614Z\", \"created_time_dt\": \"2021-03-22T19:56:49.823614Z\", \"duration\": \"0:01:10\", \"iteration\": \"9\", \"goal\": \"norm_macro_recall_max\", \"run_name\": \"RobustScaler, ExtremeRandomTrees\", \"run_properties\": \"copy=True, quantile_range=[10, 90], with_centering=False,\\n             with_scaling=False\", \"primary_metric\": 0.0, \"best_metric\": 0.92305903}, {\"run_id\": \"AutoML_dbfdcfd4-7378-4756-b9e9-d7613df9a6be_10\", \"run_number\": 20, \"metric\": null, \"status\": \"Completed\", \"run_type\": \"azureml.scriptrun\", \"training_percent\": \"100\", \"start_time\": \"2021-03-22T19:57:12.5177Z\", \"end_time\": \"2021-03-22T19:59:18.775577Z\", \"created_time\": \"2021-03-22T19:56:57.97661Z\", \"created_time_dt\": \"2021-03-22T19:56:57.97661Z\", \"duration\": \"0:02:20\", \"iteration\": \"10\", \"goal\": \"norm_macro_recall_max\", \"run_name\": \"MinMaxScaler, ExtremeRandomTrees\", \"run_properties\": \"copy=True, feature_range=(0, 1\", \"primary_metric\": 0.0, \"best_metric\": 0.92305903}, {\"run_id\": \"AutoML_dbfdcfd4-7378-4756-b9e9-d7613df9a6be_11\", \"run_number\": 21, \"metric\": null, \"status\": \"Completed\", \"run_type\": \"azureml.scriptrun\", \"training_percent\": \"100\", \"start_time\": \"2021-03-22T19:58:07.262191Z\", \"end_time\": \"2021-03-22T19:59:03.732702Z\", \"created_time\": \"2021-03-22T19:57:53.490592Z\", \"created_time_dt\": \"2021-03-22T19:57:53.490592Z\", \"duration\": \"0:01:10\", \"iteration\": \"11\", \"goal\": \"norm_macro_recall_max\", \"run_name\": \"RobustScaler, ExtremeRandomTrees\", \"run_properties\": \"copy=True, quantile_range=[10, 90], with_centering=True,\\n             with_scaling=False\", \"primary_metric\": 0.0, \"best_metric\": 0.92305903}, {\"run_id\": \"AutoML_dbfdcfd4-7378-4756-b9e9-d7613df9a6be_12\", \"run_number\": 22, \"metric\": null, \"status\": \"Completed\", \"run_type\": \"azureml.scriptrun\", \"training_percent\": \"100\", \"start_time\": \"2021-03-22T19:58:36.292914Z\", \"end_time\": \"2021-03-22T19:59:43.871072Z\", \"created_time\": \"2021-03-22T19:58:18.679197Z\", \"created_time_dt\": \"2021-03-22T19:58:18.679197Z\", \"duration\": \"0:01:25\", \"iteration\": \"12\", \"goal\": \"norm_macro_recall_max\", \"run_name\": \"StandardScalerWrapper, ExtremeRandomTrees\", \"run_properties\": \"<azureml.automl.runtime.shared.model_wrappers.StandardScalerWrapper object at 0x7f2e8be25e10\", \"primary_metric\": 0.86199068, \"best_metric\": 0.92305903}, {\"run_id\": \"AutoML_dbfdcfd4-7378-4756-b9e9-d7613df9a6be_13\", \"run_number\": 23, \"metric\": null, \"status\": \"Completed\", \"run_type\": \"azureml.scriptrun\", \"training_percent\": \"100\", \"start_time\": \"2021-03-22T19:59:17.659Z\", \"end_time\": \"2021-03-22T20:00:30.427371Z\", \"created_time\": \"2021-03-22T19:59:06.510655Z\", \"created_time_dt\": \"2021-03-22T19:59:06.510655Z\", \"duration\": \"0:01:23\", \"iteration\": \"13\", \"goal\": \"norm_macro_recall_max\", \"run_name\": \"StandardScalerWrapper, SGD\", \"run_properties\": \"<azureml.automl.runtime.shared.model_wrappers.StandardScalerWrapper object at 0x7fb8690548d0\", \"primary_metric\": 0.42730202, \"best_metric\": 0.92305903}, {\"run_id\": \"AutoML_dbfdcfd4-7378-4756-b9e9-d7613df9a6be_14\", \"run_number\": 24, \"metric\": null, \"status\": \"Completed\", \"run_type\": \"azureml.scriptrun\", \"training_percent\": \"100\", \"start_time\": \"2021-03-22T19:59:33.678365Z\", \"end_time\": \"2021-03-22T20:00:29.836289Z\", \"created_time\": \"2021-03-22T19:59:22.540579Z\", \"created_time_dt\": \"2021-03-22T19:59:22.540579Z\", \"duration\": \"0:01:07\", \"iteration\": \"14\", \"goal\": \"norm_macro_recall_max\", \"run_name\": \"RobustScaler, RandomForest\", \"run_properties\": \"copy=True, quantile_range=[10, 90], with_centering=True,\\n             with_scaling=False\", \"primary_metric\": 0.9215964, \"best_metric\": 0.92305903}, {\"run_id\": \"AutoML_dbfdcfd4-7378-4756-b9e9-d7613df9a6be_15\", \"run_number\": 25, \"metric\": null, \"status\": \"Completed\", \"run_type\": \"azureml.scriptrun\", \"training_percent\": \"100\", \"start_time\": \"2021-03-22T19:59:55.896656Z\", \"end_time\": \"2021-03-22T20:01:17.82326Z\", \"created_time\": \"2021-03-22T19:59:47.033446Z\", \"created_time_dt\": \"2021-03-22T19:59:47.033446Z\", \"duration\": \"0:01:30\", \"iteration\": \"15\", \"goal\": \"norm_macro_recall_max\", \"run_name\": \"MinMaxScaler, ExtremeRandomTrees\", \"run_properties\": \"copy=True, feature_range=(0, 1\", \"primary_metric\": 0.0, \"best_metric\": 0.92305903}, {\"run_id\": \"AutoML_dbfdcfd4-7378-4756-b9e9-d7613df9a6be_16\", \"run_number\": 26, \"metric\": null, \"status\": \"Completed\", \"run_type\": \"azureml.scriptrun\", \"training_percent\": \"100\", \"start_time\": \"2021-03-22T20:00:50.857469Z\", \"end_time\": \"2021-03-22T20:02:08.489963Z\", \"created_time\": \"2021-03-22T20:00:34.247623Z\", \"created_time_dt\": \"2021-03-22T20:00:34.247623Z\", \"duration\": \"0:01:34\", \"iteration\": \"16\", \"goal\": \"norm_macro_recall_max\", \"run_name\": \"StandardScalerWrapper, RandomForest\", \"run_properties\": \"<azureml.automl.runtime.shared.model_wrappers.StandardScalerWrapper object at 0x7efd0f704b70\", \"primary_metric\": 0.91132709, \"best_metric\": 0.92305903}, {\"run_id\": \"AutoML_dbfdcfd4-7378-4756-b9e9-d7613df9a6be_17\", \"run_number\": 27, \"metric\": null, \"status\": \"Completed\", \"run_type\": \"azureml.scriptrun\", \"training_percent\": \"100\", \"start_time\": \"2021-03-22T20:01:01.97171Z\", \"end_time\": \"2021-03-22T20:02:13.149037Z\", \"created_time\": \"2021-03-22T20:00:46.796212Z\", \"created_time_dt\": \"2021-03-22T20:00:46.796212Z\", \"duration\": \"0:01:26\", \"iteration\": \"17\", \"goal\": \"norm_macro_recall_max\", \"run_name\": \"RobustScaler, ExtremeRandomTrees\", \"run_properties\": \"copy=True, quantile_range=[10, 90], with_centering=True,\\n             with_scaling=False\", \"primary_metric\": 0.0, \"best_metric\": 0.92305903}, {\"run_id\": \"AutoML_dbfdcfd4-7378-4756-b9e9-d7613df9a6be_18\", \"run_number\": 28, \"metric\": null, \"status\": \"Completed\", \"run_type\": \"azureml.scriptrun\", \"training_percent\": \"100\", \"start_time\": \"2021-03-22T20:01:02.247103Z\", \"end_time\": \"2021-03-22T20:02:21.276866Z\", \"created_time\": \"2021-03-22T20:00:46.809055Z\", \"created_time_dt\": \"2021-03-22T20:00:46.809055Z\", \"duration\": \"0:01:34\", \"iteration\": \"18\", \"goal\": \"norm_macro_recall_max\", \"run_name\": \"RobustScaler, RandomForest\", \"run_properties\": \"copy=True, quantile_range=[25, 75], with_centering=True,\\n             with_scaling=False\", \"primary_metric\": 0.91908307, \"best_metric\": 0.92305903}, {\"run_id\": \"AutoML_dbfdcfd4-7378-4756-b9e9-d7613df9a6be_19\", \"run_number\": 29, \"metric\": null, \"status\": \"Completed\", \"run_type\": \"azureml.scriptrun\", \"training_percent\": \"100\", \"start_time\": \"2021-03-22T20:01:36.345982Z\", \"end_time\": \"2021-03-22T20:02:43.089253Z\", \"created_time\": \"2021-03-22T20:01:22.629215Z\", \"created_time_dt\": \"2021-03-22T20:01:22.629215Z\", \"duration\": \"0:01:20\", \"iteration\": \"19\", \"goal\": \"norm_macro_recall_max\", \"run_name\": \"MinMaxScaler, ExtremeRandomTrees\", \"run_properties\": \"copy=True, feature_range=(0, 1\", \"primary_metric\": 0.82959587, \"best_metric\": 0.92305903}, {\"run_id\": \"AutoML_dbfdcfd4-7378-4756-b9e9-d7613df9a6be_20\", \"run_number\": 30, \"metric\": null, \"status\": \"Completed\", \"run_type\": \"azureml.scriptrun\", \"training_percent\": \"100\", \"start_time\": \"2021-03-22T20:02:24.693157Z\", \"end_time\": \"2021-03-22T20:03:43.267145Z\", \"created_time\": \"2021-03-22T20:02:12.028717Z\", \"created_time_dt\": \"2021-03-22T20:02:12.028717Z\", \"duration\": \"0:01:31\", \"iteration\": \"20\", \"goal\": \"norm_macro_recall_max\", \"run_name\": \"MaxAbsScaler, ExtremeRandomTrees\", \"run_properties\": \"copy=True\", \"primary_metric\": 0.86070376, \"best_metric\": 0.92305903}, {\"run_id\": \"AutoML_dbfdcfd4-7378-4756-b9e9-d7613df9a6be_21\", \"run_number\": 31, \"metric\": null, \"status\": \"Completed\", \"run_type\": \"azureml.scriptrun\", \"training_percent\": \"100\", \"start_time\": \"2021-03-22T20:02:36.538466Z\", \"end_time\": \"2021-03-22T20:03:45.018865Z\", \"created_time\": \"2021-03-22T20:02:17.982242Z\", \"created_time_dt\": \"2021-03-22T20:02:17.982242Z\", \"duration\": \"0:01:27\", \"iteration\": \"21\", \"goal\": \"norm_macro_recall_max\", \"run_name\": \"StandardScalerWrapper, XGBoostClassifier\", \"run_properties\": \"<azureml.automl.runtime.shared.model_wrappers.StandardScalerWrapper object at 0x7f59c06b30f0\", \"primary_metric\": 0.68680394, \"best_metric\": 0.92305903}, {\"run_id\": \"AutoML_dbfdcfd4-7378-4756-b9e9-d7613df9a6be_22\", \"run_number\": 32, \"metric\": null, \"status\": \"Completed\", \"run_type\": \"azureml.scriptrun\", \"training_percent\": \"100\", \"start_time\": \"2021-03-22T20:02:37.744683Z\", \"end_time\": \"2021-03-22T20:03:56.737626Z\", \"created_time\": \"2021-03-22T20:02:25.7927Z\", \"created_time_dt\": \"2021-03-22T20:02:25.7927Z\", \"duration\": \"0:01:30\", \"iteration\": \"22\", \"goal\": \"norm_macro_recall_max\", \"run_name\": \"MaxAbsScaler, RandomForest\", \"run_properties\": \"copy=True\", \"primary_metric\": 0.43242107, \"best_metric\": 0.92305903}, {\"run_id\": \"AutoML_dbfdcfd4-7378-4756-b9e9-d7613df9a6be_23\", \"run_number\": 33, \"metric\": null, \"status\": \"Completed\", \"run_type\": \"azureml.scriptrun\", \"training_percent\": \"100\", \"start_time\": \"2021-03-22T20:03:00.16744Z\", \"end_time\": \"2021-03-22T20:04:31.826219Z\", \"created_time\": \"2021-03-22T20:02:46.669419Z\", \"created_time_dt\": \"2021-03-22T20:02:46.669419Z\", \"duration\": \"0:01:45\", \"iteration\": \"23\", \"goal\": \"norm_macro_recall_max\", \"run_name\": \"MaxAbsScaler, ExtremeRandomTrees\", \"run_properties\": \"copy=True\", \"primary_metric\": 0.65717471, \"best_metric\": 0.92305903}, {\"run_id\": \"AutoML_dbfdcfd4-7378-4756-b9e9-d7613df9a6be_24\", \"run_number\": 34, \"metric\": null, \"status\": \"Completed\", \"run_type\": \"azureml.scriptrun\", \"training_percent\": \"100\", \"start_time\": \"2021-03-22T20:04:14.845036Z\", \"end_time\": \"2021-03-22T20:05:25.272607Z\", \"created_time\": \"2021-03-22T20:03:51.375638Z\", \"created_time_dt\": \"2021-03-22T20:03:51.375638Z\", \"duration\": \"0:01:33\", \"iteration\": \"24\", \"goal\": \"norm_macro_recall_max\", \"run_name\": \"MaxAbsScaler, RandomForest\", \"run_properties\": \"copy=True\", \"primary_metric\": 0.0, \"best_metric\": 0.92305903}, {\"run_id\": \"AutoML_dbfdcfd4-7378-4756-b9e9-d7613df9a6be_25\", \"run_number\": 35, \"metric\": null, \"status\": \"Completed\", \"run_type\": \"azureml.scriptrun\", \"training_percent\": \"100\", \"start_time\": \"2021-03-22T20:04:18.245117Z\", \"end_time\": \"2021-03-22T20:05:28.625177Z\", \"created_time\": \"2021-03-22T20:04:01.238857Z\", \"created_time_dt\": \"2021-03-22T20:04:01.238857Z\", \"duration\": \"0:01:27\", \"iteration\": \"25\", \"goal\": \"norm_macro_recall_max\", \"run_name\": \"StandardScalerWrapper, LogisticRegression\", \"run_properties\": \"<azureml.automl.runtime.shared.model_wrappers.StandardScalerWrapper object at 0x7f9ff3e59c88\", \"primary_metric\": 0.93350098, \"best_metric\": 0.93350098}, {\"run_id\": \"AutoML_dbfdcfd4-7378-4756-b9e9-d7613df9a6be_26\", \"run_number\": 36, \"metric\": null, \"status\": \"Completed\", \"run_type\": \"azureml.scriptrun\", \"training_percent\": \"100\", \"start_time\": \"2021-03-22T20:04:27.588122Z\", \"end_time\": \"2021-03-22T20:05:48.530067Z\", \"created_time\": \"2021-03-22T20:04:15.268101Z\", \"created_time_dt\": \"2021-03-22T20:04:15.268101Z\", \"duration\": \"0:01:33\", \"iteration\": \"26\", \"goal\": \"norm_macro_recall_max\", \"run_name\": \"MinMaxScaler, GradientBoosting\", \"run_properties\": \"copy=True, feature_range=(0, 1\", \"primary_metric\": 0.69195044, \"best_metric\": 0.93350098}, {\"run_id\": \"AutoML_dbfdcfd4-7378-4756-b9e9-d7613df9a6be_27\", \"run_number\": 37, \"metric\": null, \"status\": \"Completed\", \"run_type\": \"azureml.scriptrun\", \"training_percent\": \"100\", \"start_time\": \"2021-03-22T20:04:48.507461Z\", \"end_time\": \"2021-03-22T20:06:16.44142Z\", \"created_time\": \"2021-03-22T20:04:35.085822Z\", \"created_time_dt\": \"2021-03-22T20:04:35.085822Z\", \"duration\": \"0:01:41\", \"iteration\": \"27\", \"goal\": \"norm_macro_recall_max\", \"run_name\": \"StandardScalerWrapper, XGBoostClassifier\", \"run_properties\": \"<azureml.automl.runtime.shared.model_wrappers.StandardScalerWrapper object at 0x7fec828f79b0\", \"primary_metric\": 0.63639186, \"best_metric\": 0.93350098}, {\"run_id\": \"AutoML_dbfdcfd4-7378-4756-b9e9-d7613df9a6be_28\", \"run_number\": 38, \"metric\": null, \"status\": \"Completed\", \"run_type\": \"azureml.scriptrun\", \"training_percent\": \"100\", \"start_time\": \"2021-03-22T20:05:44.561714Z\", \"end_time\": \"2021-03-22T20:07:02.241302Z\", \"created_time\": \"2021-03-22T20:05:27.59806Z\", \"created_time_dt\": \"2021-03-22T20:05:27.59806Z\", \"duration\": \"0:01:34\", \"iteration\": \"28\", \"goal\": \"norm_macro_recall_max\", \"run_name\": \"StandardScalerWrapper, LightGBM\", \"run_properties\": \"<azureml.automl.runtime.shared.model_wrappers.StandardScalerWrapper object at 0x7fb6d59b29e8\", \"primary_metric\": 0.73023899, \"best_metric\": 0.93350098}, {\"run_id\": \"AutoML_dbfdcfd4-7378-4756-b9e9-d7613df9a6be_29\", \"run_number\": 39, \"metric\": null, \"status\": \"Completed\", \"run_type\": \"azureml.scriptrun\", \"training_percent\": \"100\", \"start_time\": \"2021-03-22T20:05:45.151938Z\", \"end_time\": \"2021-03-22T20:07:08.718842Z\", \"created_time\": \"2021-03-22T20:05:32.974138Z\", \"created_time_dt\": \"2021-03-22T20:05:32.974138Z\", \"duration\": \"0:01:35\", \"iteration\": \"29\", \"goal\": \"norm_macro_recall_max\", \"run_name\": \"RobustScaler, LightGBM\", \"run_properties\": \"copy=True, quantile_range=[10, 90], with_centering=False,\\n             with_scaling=False\", \"primary_metric\": 0.43311035, \"best_metric\": 0.93350098}, {\"run_id\": \"AutoML_dbfdcfd4-7378-4756-b9e9-d7613df9a6be_30\", \"run_number\": 40, \"metric\": null, \"status\": \"Completed\", \"run_type\": \"azureml.scriptrun\", \"training_percent\": \"100\", \"start_time\": \"2021-03-22T20:06:08.465947Z\", \"end_time\": \"2021-03-22T20:07:07.183407Z\", \"created_time\": \"2021-03-22T20:05:56.999188Z\", \"created_time_dt\": \"2021-03-22T20:05:56.999188Z\", \"duration\": \"0:01:10\", \"iteration\": \"30\", \"goal\": \"norm_macro_recall_max\", \"run_name\": \"RobustScaler, LogisticRegression\", \"run_properties\": \"copy=True, quantile_range=[10, 90], with_centering=True,\\n             with_scaling=True\", \"primary_metric\": 0.39644777, \"best_metric\": 0.93350098}, {\"run_id\": \"AutoML_dbfdcfd4-7378-4756-b9e9-d7613df9a6be_31\", \"run_number\": 41, \"metric\": null, \"status\": \"Completed\", \"run_type\": \"azureml.scriptrun\", \"training_percent\": \"100\", \"start_time\": \"2021-03-22T20:06:32.806934Z\", \"end_time\": \"2021-03-22T20:07:31.526676Z\", \"created_time\": \"2021-03-22T20:06:20.329276Z\", \"created_time_dt\": \"2021-03-22T20:06:20.329276Z\", \"duration\": \"0:01:11\", \"iteration\": \"31\", \"goal\": \"norm_macro_recall_max\", \"run_name\": \"MinMaxScaler, LightGBM\", \"run_properties\": \"copy=True, feature_range=(0, 1\", \"primary_metric\": 0.38135904, \"best_metric\": 0.93350098}, {\"run_id\": \"AutoML_dbfdcfd4-7378-4756-b9e9-d7613df9a6be_32\", \"run_number\": 42, \"metric\": null, \"status\": \"Completed\", \"run_type\": \"azureml.scriptrun\", \"training_percent\": \"100\", \"start_time\": \"2021-03-22T20:07:23.985101Z\", \"end_time\": \"2021-03-22T20:08:50.586585Z\", \"created_time\": \"2021-03-22T20:07:04.379145Z\", \"created_time_dt\": \"2021-03-22T20:07:04.379145Z\", \"duration\": \"0:01:46\", \"iteration\": \"32\", \"goal\": \"norm_macro_recall_max\", \"run_name\": \"SparseNormalizer, XGBoostClassifier\", \"run_properties\": \"<azureml.automl.runtime.shared.model_wrappers.SparseNormalizer object at 0x7fc22c54fc88\", \"primary_metric\": 0.54198619, \"best_metric\": 0.93350098}, {\"run_id\": \"AutoML_dbfdcfd4-7378-4756-b9e9-d7613df9a6be_33\", \"run_number\": 43, \"metric\": null, \"status\": \"Completed\", \"run_type\": \"azureml.scriptrun\", \"training_percent\": \"100\", \"start_time\": \"2021-03-22T20:07:22.994272Z\", \"end_time\": \"2021-03-22T20:08:34.987619Z\", \"created_time\": \"2021-03-22T20:07:09.112678Z\", \"created_time_dt\": \"2021-03-22T20:07:09.112678Z\", \"duration\": \"0:01:25\", \"iteration\": \"33\", \"goal\": \"norm_macro_recall_max\", \"run_name\": \"StandardScalerWrapper, XGBoostClassifier\", \"run_properties\": \"<azureml.automl.runtime.shared.model_wrappers.StandardScalerWrapper object at 0x7ff8d45c49e8\", \"primary_metric\": 0.6963661, \"best_metric\": 0.93350098}, {\"run_id\": \"AutoML_dbfdcfd4-7378-4756-b9e9-d7613df9a6be_34\", \"run_number\": 44, \"metric\": null, \"status\": \"Canceled\", \"run_type\": \"azureml.scriptrun\", \"training_percent\": \"100\", \"start_time\": \"2021-03-22T20:07:23.575624Z\", \"end_time\": \"2021-03-22T20:08:58.647674Z\", \"created_time\": \"2021-03-22T20:07:13.33637Z\", \"created_time_dt\": \"2021-03-22T20:07:13.33637Z\", \"duration\": \"0:01:45\", \"iteration\": \"34\", \"goal\": \"norm_macro_recall_max\", \"run_name\": \"StandardScalerWrapper, RandomForest\", \"run_properties\": \"<azureml.automl.runtime.shared.model_wrappers.StandardScalerWrapper object at 0x7f8cdb7399e8\", \"primary_metric\": 0.90617162, \"best_metric\": 0.93350098}, {\"run_id\": \"AutoML_dbfdcfd4-7378-4756-b9e9-d7613df9a6be_35\", \"run_number\": 45, \"metric\": null, \"status\": \"Canceled\", \"run_type\": \"azureml.scriptrun\", \"training_percent\": \"100\", \"start_time\": \"2021-03-22T20:07:48.186417Z\", \"end_time\": \"2021-03-22T20:09:01.06304Z\", \"created_time\": \"2021-03-22T20:07:35.711526Z\", \"created_time_dt\": \"2021-03-22T20:07:35.711526Z\", \"duration\": \"0:01:25\", \"iteration\": \"35\", \"goal\": \"norm_macro_recall_max\", \"run_name\": \"SparseNormalizer, LogisticRegression\", \"run_properties\": \"<azureml.automl.runtime.shared.model_wrappers.SparseNormalizer object at 0x7f3bb5a69c50\", \"primary_metric\": 0.0, \"best_metric\": 0.93350098}, {\"run_id\": \"AutoML_dbfdcfd4-7378-4756-b9e9-d7613df9a6be_36\", \"run_number\": 46, \"metric\": null, \"status\": \"Canceled\", \"run_type\": \"azureml.scriptrun\", \"training_percent\": \"100\", \"start_time\": \"2021-03-22T20:08:46.972339Z\", \"end_time\": \"2021-03-22T20:09:01.906322Z\", \"created_time\": \"2021-03-22T20:08:36.926603Z\", \"created_time_dt\": \"2021-03-22T20:08:36.926603Z\", \"duration\": \"0:00:24\", \"iteration\": \"36\", \"goal\": null, \"run_name\": \"Canceled\", \"run_properties\": null}, {\"run_id\": \"AutoML_dbfdcfd4-7378-4756-b9e9-d7613df9a6be_37\", \"run_number\": 47, \"metric\": null, \"status\": \"Completed\", \"run_type\": \"azureml.scriptrun\", \"training_percent\": \"100\", \"start_time\": \"2021-03-22T20:09:14.80399Z\", \"end_time\": \"2021-03-22T20:10:55.487974Z\", \"created_time\": \"2021-03-22T20:09:03.790864Z\", \"created_time_dt\": \"2021-03-22T20:09:03.790864Z\", \"duration\": \"0:01:51\", \"iteration\": \"37\", \"goal\": \"norm_macro_recall_max\", \"run_name\": \"VotingEnsemble\", \"run_properties\": \"classification_labels=None,\\n                              estimators=[('25',\\n                                           Pipeline(memory=None,\\n                                                    steps=[('standardscalerwrapper',\\n                                                            <azureml.automl.runtime.shared.model_wrappers.StandardScalerWrapper object at 0x7f850837b860>\", \"primary_metric\": 0.94424736, \"best_metric\": 0.94424736}, {\"run_id\": \"AutoML_dbfdcfd4-7378-4756-b9e9-d7613df9a6be_38\", \"run_number\": 48, \"metric\": null, \"status\": \"Completed\", \"run_type\": \"azureml.scriptrun\", \"training_percent\": \"100\", \"start_time\": \"2021-03-22T20:09:16.200658Z\", \"end_time\": \"2021-03-22T20:28:27.747254Z\", \"created_time\": \"2021-03-22T20:09:03.825616Z\", \"created_time_dt\": \"2021-03-22T20:09:03.825616Z\", \"duration\": \"0:19:23\", \"iteration\": \"38\", \"goal\": \"norm_macro_recall_max\", \"run_name\": \"StackEnsemble\", \"run_properties\": \"base_learners=[('25',\\n                                        Pipeline(memory=None,\\n                                                 steps=[('standardscalerwrapper',\\n                                                         <azureml.automl.runtime.shared.model_wrappers.StandardScalerWrapper object at 0x7fad184e97b8>\"}], \"children_metrics\": {\"categories\": [0], \"series\": {\"precision_score_micro\": [{\"categories\": [\"0\", \"1\", \"2\", \"3\", \"4\", \"5\", \"7\", \"8\", \"9\", \"10\", \"11\", \"12\", \"13\", \"14\", \"15\", \"16\", \"17\", \"18\", \"19\", \"20\", \"21\", \"22\", \"23\", \"24\", \"25\", \"26\", \"27\", \"28\", \"29\", \"30\", \"31\", \"32\", \"33\", \"34\", \"35\", \"37\"], \"mode\": \"markers\", \"name\": \"precision_score_micro\", \"stepped\": false, \"type\": \"scatter\", \"data\": [0.9876068376068377, 0.9894586894586895, 0.9689458689458689, 0.9850427350427351, 0.9398860398860398, 0.9887464387464387, 0.9804843304843304, 0.9804843304843304, 0.9804843304843304, 0.9804843304843304, 0.9804843304843304, 0.94002849002849, 0.9853276353276353, 0.9471509971509972, 0.9804843304843304, 0.9719373219373219, 0.9804843304843304, 0.9447293447293447, 0.8846153846153846, 0.9131054131054132, 0.9888888888888889, 0.9853276353276353, 0.8314814814814815, 0.9804843304843304, 0.9588319088319088, 0.9883190883190883, 0.9886039886039887, 0.9910256410256411, 0.9853276353276353, 0.5833333333333334, 0.9857549857549858, 0.9850427350427351, 0.99002849002849, 0.932051282051282, 0.9804843304843304, 0.9606837606837607]}, {\"categories\": [\"0\", \"1\", \"2\", \"3\", \"4\", \"5\", \"7\", \"8\", \"9\", \"10\", \"11\", \"12\", \"13\", \"14\", \"15\", \"16\", \"17\", \"18\", \"19\", \"20\", \"21\", \"22\", \"23\", \"24\", \"25\", \"26\", \"27\", \"28\", \"29\", \"30\", \"31\", \"32\", \"33\", \"34\", \"35\", \"37\"], \"mode\": \"lines\", \"name\": \"precision_score_micro_max\", \"stepped\": true, \"type\": \"scatter\", \"data\": [0.9876068376068377, 0.9894586894586895, 0.9894586894586895, 0.9894586894586895, 0.9894586894586895, 0.9894586894586895, 0.9894586894586895, 0.9894586894586895, 0.9894586894586895, 0.9894586894586895, 0.9894586894586895, 0.9894586894586895, 0.9894586894586895, 0.9894586894586895, 0.9894586894586895, 0.9894586894586895, 0.9894586894586895, 0.9894586894586895, 0.9894586894586895, 0.9894586894586895, 0.9894586894586895, 0.9894586894586895, 0.9894586894586895, 0.9894586894586895, 0.9894586894586895, 0.9894586894586895, 0.9894586894586895, 0.9910256410256411, 0.9910256410256411, 0.9910256410256411, 0.9910256410256411, 0.9910256410256411, 0.9910256410256411, 0.9910256410256411, 0.9910256410256411, 0.9910256410256411]}], \"norm_macro_recall\": [{\"categories\": [\"0\", \"1\", \"2\", \"3\", \"4\", \"5\", \"7\", \"8\", \"9\", \"10\", \"11\", \"12\", \"13\", \"14\", \"15\", \"16\", \"17\", \"18\", \"19\", \"20\", \"21\", \"22\", \"23\", \"24\", \"25\", \"26\", \"27\", \"28\", \"29\", \"30\", \"31\", \"32\", \"33\", \"34\", \"35\", \"37\"], \"mode\": \"markers\", \"name\": \"norm_macro_recall\", \"stepped\": false, \"type\": \"scatter\", \"data\": [0.5627930929505192, 0.6774547418066968, 0.9130179947566442, 0.5050799925887451, 0.9230590294857709, 0.7253148066824685, 0.0, 0.0, 0.0, 0.0, 0.0, 0.8619906792767198, 0.4273020157055151, 0.9215963986120657, 0.0, 0.9113270935805508, 0.0, 0.9190830738426579, 0.82959587214608, 0.8607037610860874, 0.6868039429098246, 0.43242106630885896, 0.6571747086485147, 0.0, 0.9335009793483035, 0.6919504380217472, 0.6363918583032112, 0.730238986236456, 0.4331103541914106, 0.39644776931732495, 0.3813590422971141, 0.5419861901077787, 0.6963660972695968, 0.9061716235863658, 0.0, 0.9442473618244239]}, {\"categories\": [\"0\", \"1\", \"2\", \"3\", \"4\", \"5\", \"7\", \"8\", \"9\", \"10\", \"11\", \"12\", \"13\", \"14\", \"15\", \"16\", \"17\", \"18\", \"19\", \"20\", \"21\", \"22\", \"23\", \"24\", \"25\", \"26\", \"27\", \"28\", \"29\", \"30\", \"31\", \"32\", \"33\", \"34\", \"35\", \"37\"], \"mode\": \"lines\", \"name\": \"norm_macro_recall_max\", \"stepped\": true, \"type\": \"scatter\", \"data\": [0.5627930929505192, 0.6774547418066968, 0.9130179947566442, 0.9130179947566442, 0.9230590294857709, 0.9230590294857709, 0.9230590294857709, 0.9230590294857709, 0.9230590294857709, 0.9230590294857709, 0.9230590294857709, 0.9230590294857709, 0.9230590294857709, 0.9230590294857709, 0.9230590294857709, 0.9230590294857709, 0.9230590294857709, 0.9230590294857709, 0.9230590294857709, 0.9230590294857709, 0.9230590294857709, 0.9230590294857709, 0.9230590294857709, 0.9230590294857709, 0.9335009793483035, 0.9335009793483035, 0.9335009793483035, 0.9335009793483035, 0.9335009793483035, 0.9335009793483035, 0.9335009793483035, 0.9335009793483035, 0.9335009793483035, 0.9335009793483035, 0.9335009793483035, 0.9442473618244239]}], \"precision_score_macro\": [{\"categories\": [\"0\", \"1\", \"2\", \"3\", \"4\", \"5\", \"7\", \"8\", \"9\", \"10\", \"11\", \"12\", \"13\", \"14\", \"15\", \"16\", \"17\", \"18\", \"19\", \"20\", \"21\", \"22\", \"23\", \"24\", \"25\", \"26\", \"27\", \"28\", \"29\", \"30\", \"31\", \"32\", \"33\", \"34\", \"35\", \"37\"], \"mode\": \"markers\", \"name\": \"precision_score_macro\", \"stepped\": false, \"type\": \"scatter\", \"data\": [0.8616748830508237, 0.8706905273860416, 0.6901314618763417, 0.8321218904652145, 0.6260118598187002, 0.8470134098482465, 0.4902421652421652, 0.4902421652421652, 0.4902421652421652, 0.4902421652421652, 0.4902421652421652, 0.6265637400239582, 0.8498632421945347, 0.6371209093598652, 0.4902421652421652, 0.7013275600248066, 0.4902421652421652, 0.6284047099700913, 0.5688439635651243, 0.5892078433464528, 0.859373743907132, 0.8305591176895488, 0.5582961041321292, 0.4902421652421652, 0.6605618383132152, 0.8473838254558158, 0.8651578327380096, 0.8946072115688507, 0.8576765249293085, 0.5152766659507412, 0.8878976827823388, 0.8101559580253671, 0.8782984217111364, 0.6094958662789375, 0.4902421652421652, 0.6651620662064796]}, {\"categories\": [\"0\", \"1\", \"2\", \"3\", \"4\", \"5\", \"7\", \"8\", \"9\", \"10\", \"11\", \"12\", \"13\", \"14\", \"15\", \"16\", \"17\", \"18\", \"19\", \"20\", \"21\", \"22\", \"23\", \"24\", \"25\", \"26\", \"27\", \"28\", \"29\", \"30\", \"31\", \"32\", \"33\", \"34\", \"35\", \"37\"], \"mode\": \"lines\", \"name\": \"precision_score_macro_max\", \"stepped\": true, \"type\": \"scatter\", \"data\": [0.8616748830508237, 0.8706905273860416, 0.8706905273860416, 0.8706905273860416, 0.8706905273860416, 0.8706905273860416, 0.8706905273860416, 0.8706905273860416, 0.8706905273860416, 0.8706905273860416, 0.8706905273860416, 0.8706905273860416, 0.8706905273860416, 0.8706905273860416, 0.8706905273860416, 0.8706905273860416, 0.8706905273860416, 0.8706905273860416, 0.8706905273860416, 0.8706905273860416, 0.8706905273860416, 0.8706905273860416, 0.8706905273860416, 0.8706905273860416, 0.8706905273860416, 0.8706905273860416, 0.8706905273860416, 0.8946072115688507, 0.8946072115688507, 0.8946072115688507, 0.8946072115688507, 0.8946072115688507, 0.8946072115688507, 0.8946072115688507, 0.8946072115688507, 0.8946072115688507]}], \"average_precision_score_macro\": [{\"categories\": [\"0\", \"1\", \"2\", \"3\", \"4\", \"5\", \"7\", \"8\", \"9\", \"10\", \"11\", \"12\", \"13\", \"14\", \"15\", \"16\", \"17\", \"18\", \"19\", \"20\", \"21\", \"22\", \"23\", \"24\", \"25\", \"26\", \"27\", \"28\", \"29\", \"30\", \"31\", \"32\", \"33\", \"34\", \"35\", \"37\"], \"mode\": \"markers\", \"name\": \"average_precision_score_macro\", \"stepped\": false, \"type\": \"scatter\", \"data\": [0.8761183753061058, 0.8949515993637022, 0.8111652242701158, 0.8095466709214391, 0.7319426582181633, 0.8362387539671561, 0.6829260566636264, 0.7349505187937799, 0.7894575541324195, 0.7309393704548212, 0.7650821163295314, 0.7779149043112934, 0.8536341441067211, 0.7453470863958606, 0.7230933981654513, 0.7678469639113271, 0.653200666756942, 0.6778891792851071, 0.6827447055976013, 0.735446660361724, 0.8627500635676738, 0.8190095444669473, 0.619733863295533, 0.5, 0.8084211117819304, 0.8718697401147333, 0.870149097601565, 0.9042773877884841, 0.8337516538480706, 0.7206543466482088, 0.8388033974903889, 0.8073535436886715, 0.9023166107646342, 0.6535645162362508, 0.6628465503998069, 0.787895882190344]}, {\"categories\": [\"0\", \"1\", \"2\", \"3\", \"4\", \"5\", \"7\", \"8\", \"9\", \"10\", \"11\", \"12\", \"13\", \"14\", \"15\", \"16\", \"17\", \"18\", \"19\", \"20\", \"21\", \"22\", \"23\", \"24\", \"25\", \"26\", \"27\", \"28\", \"29\", \"30\", \"31\", \"32\", \"33\", \"34\", \"35\", \"37\"], \"mode\": \"lines\", \"name\": \"average_precision_score_macro_max\", \"stepped\": true, \"type\": \"scatter\", \"data\": [0.8761183753061058, 0.8949515993637022, 0.8949515993637022, 0.8949515993637022, 0.8949515993637022, 0.8949515993637022, 0.8949515993637022, 0.8949515993637022, 0.8949515993637022, 0.8949515993637022, 0.8949515993637022, 0.8949515993637022, 0.8949515993637022, 0.8949515993637022, 0.8949515993637022, 0.8949515993637022, 0.8949515993637022, 0.8949515993637022, 0.8949515993637022, 0.8949515993637022, 0.8949515993637022, 0.8949515993637022, 0.8949515993637022, 0.8949515993637022, 0.8949515993637022, 0.8949515993637022, 0.8949515993637022, 0.9042773877884841, 0.9042773877884841, 0.9042773877884841, 0.9042773877884841, 0.9042773877884841, 0.9042773877884841, 0.9042773877884841, 0.9042773877884841, 0.9042773877884841]}], \"AUC_macro\": [{\"categories\": [\"0\", \"1\", \"2\", \"3\", \"4\", \"5\", \"7\", \"8\", \"9\", \"10\", \"11\", \"12\", \"13\", \"14\", \"15\", \"16\", \"17\", \"18\", \"19\", \"20\", \"21\", \"22\", \"23\", \"24\", \"25\", \"26\", \"27\", \"28\", \"29\", \"30\", \"31\", \"32\", \"33\", \"34\", \"35\", \"37\"], \"mode\": \"markers\", \"name\": \"AUC_macro\", \"stepped\": false, \"type\": \"scatter\", \"data\": [0.9823685632237739, 0.9860589599625071, 0.9815472857375979, 0.9822844354240964, 0.9759268879817391, 0.9846470575943435, 0.9730074437917272, 0.977842336226633, 0.9703861097757528, 0.9742287614050019, 0.9752205774437632, 0.9762244611325026, 0.9885317510177386, 0.981708995159568, 0.9585851390784988, 0.9800276512109606, 0.9516641462642029, 0.971511970467635, 0.9589629849636495, 0.9676406375523728, 0.9752522564584174, 0.9840508349418807, 0.8924551515512662, 0.5, 0.9860917536508591, 0.9845188328413393, 0.9831873974767728, 0.9861202461312254, 0.9790740248944182, 0.8039509591743162, 0.981449138278467, 0.9838816064626403, 0.9859661481986989, 0.9679255539500149, 0.9426095135698555, 0.9828434075256044]}, {\"categories\": [\"0\", \"1\", \"2\", \"3\", \"4\", \"5\", \"7\", \"8\", \"9\", \"10\", \"11\", \"12\", \"13\", \"14\", \"15\", \"16\", \"17\", \"18\", \"19\", \"20\", \"21\", \"22\", \"23\", \"24\", \"25\", \"26\", \"27\", \"28\", \"29\", \"30\", \"31\", \"32\", \"33\", \"34\", \"35\", \"37\"], \"mode\": \"lines\", \"name\": \"AUC_macro_max\", \"stepped\": true, \"type\": \"scatter\", \"data\": [0.9823685632237739, 0.9860589599625071, 0.9860589599625071, 0.9860589599625071, 0.9860589599625071, 0.9860589599625071, 0.9860589599625071, 0.9860589599625071, 0.9860589599625071, 0.9860589599625071, 0.9860589599625071, 0.9860589599625071, 0.9885317510177386, 0.9885317510177386, 0.9885317510177386, 0.9885317510177386, 0.9885317510177386, 0.9885317510177386, 0.9885317510177386, 0.9885317510177386, 0.9885317510177386, 0.9885317510177386, 0.9885317510177386, 0.9885317510177386, 0.9885317510177386, 0.9885317510177386, 0.9885317510177386, 0.9885317510177386, 0.9885317510177386, 0.9885317510177386, 0.9885317510177386, 0.9885317510177386, 0.9885317510177386, 0.9885317510177386, 0.9885317510177386, 0.9885317510177386]}], \"accuracy\": [{\"categories\": [\"0\", \"1\", \"2\", \"3\", \"4\", \"5\", \"7\", \"8\", \"9\", \"10\", \"11\", \"12\", \"13\", \"14\", \"15\", \"16\", \"17\", \"18\", \"19\", \"20\", \"21\", \"22\", \"23\", \"24\", \"25\", \"26\", \"27\", \"28\", \"29\", \"30\", \"31\", \"32\", \"33\", \"34\", \"35\", \"37\"], \"mode\": \"markers\", \"name\": \"accuracy\", \"stepped\": false, \"type\": \"scatter\", \"data\": [0.9876068376068377, 0.9894586894586895, 0.9689458689458689, 0.9850427350427351, 0.9398860398860398, 0.9887464387464387, 0.9804843304843304, 0.9804843304843304, 0.9804843304843304, 0.9804843304843304, 0.9804843304843304, 0.94002849002849, 0.9853276353276353, 0.9471509971509972, 0.9804843304843304, 0.9719373219373219, 0.9804843304843304, 0.9447293447293447, 0.8846153846153846, 0.9131054131054132, 0.9888888888888889, 0.9853276353276353, 0.8314814814814815, 0.9804843304843304, 0.9588319088319088, 0.9883190883190883, 0.9886039886039887, 0.9910256410256411, 0.9853276353276353, 0.5833333333333334, 0.9857549857549858, 0.9850427350427351, 0.99002849002849, 0.932051282051282, 0.9804843304843304, 0.9606837606837607]}, {\"categories\": [\"0\", \"1\", \"2\", \"3\", \"4\", \"5\", \"7\", \"8\", \"9\", \"10\", \"11\", \"12\", \"13\", \"14\", \"15\", \"16\", \"17\", \"18\", \"19\", \"20\", \"21\", \"22\", \"23\", \"24\", \"25\", \"26\", \"27\", \"28\", \"29\", \"30\", \"31\", \"32\", \"33\", \"34\", \"35\", \"37\"], \"mode\": \"lines\", \"name\": \"accuracy_max\", \"stepped\": true, \"type\": \"scatter\", \"data\": [0.9876068376068377, 0.9894586894586895, 0.9894586894586895, 0.9894586894586895, 0.9894586894586895, 0.9894586894586895, 0.9894586894586895, 0.9894586894586895, 0.9894586894586895, 0.9894586894586895, 0.9894586894586895, 0.9894586894586895, 0.9894586894586895, 0.9894586894586895, 0.9894586894586895, 0.9894586894586895, 0.9894586894586895, 0.9894586894586895, 0.9894586894586895, 0.9894586894586895, 0.9894586894586895, 0.9894586894586895, 0.9894586894586895, 0.9894586894586895, 0.9894586894586895, 0.9894586894586895, 0.9894586894586895, 0.9910256410256411, 0.9910256410256411, 0.9910256410256411, 0.9910256410256411, 0.9910256410256411, 0.9910256410256411, 0.9910256410256411, 0.9910256410256411, 0.9910256410256411]}], \"f1_score_weighted\": [{\"categories\": [\"0\", \"1\", \"2\", \"3\", \"4\", \"5\", \"7\", \"8\", \"9\", \"10\", \"11\", \"12\", \"13\", \"14\", \"15\", \"16\", \"17\", \"18\", \"19\", \"20\", \"21\", \"22\", \"23\", \"24\", \"25\", \"26\", \"27\", \"28\", \"29\", \"30\", \"31\", \"32\", \"33\", \"34\", \"35\", \"37\"], \"mode\": \"markers\", \"name\": \"f1_score_weighted\", \"stepped\": false, \"type\": \"scatter\", \"data\": [0.9867898031302715, 0.9891721996191879, 0.975480407387132, 0.9833065087092164, 0.9574003764743789, 0.9888426941615448, 0.9708245392774518, 0.9708245392774518, 0.9708245392774518, 0.9708245392774518, 0.9708245392774518, 0.9569905888954047, 0.983475777506631, 0.9618168270720502, 0.9708245392774518, 0.9773904088861372, 0.9708245392774518, 0.9600222238054735, 0.9240457671045963, 0.9409270219838998, 0.9887469691959686, 0.9825953525790223, 0.8895270051855836, 0.9708245392774518, 0.9690486520519507, 0.9882554475340175, 0.9881837108679239, 0.990852264754324, 0.9838151399615983, 0.7185234060340521, 0.9835446445876842, 0.9845557326033426, 0.9898185263895444, 0.9523914254262013, 0.9708245392774518, 0.9702090720822877]}, {\"categories\": [\"0\", \"1\", \"2\", \"3\", \"4\", \"5\", \"7\", \"8\", \"9\", \"10\", \"11\", \"12\", \"13\", \"14\", \"15\", \"16\", \"17\", \"18\", \"19\", \"20\", \"21\", \"22\", \"23\", \"24\", \"25\", \"26\", \"27\", \"28\", \"29\", \"30\", \"31\", \"32\", \"33\", \"34\", \"35\", \"37\"], \"mode\": \"lines\", \"name\": \"f1_score_weighted_max\", \"stepped\": true, \"type\": \"scatter\", \"data\": [0.9867898031302715, 0.9891721996191879, 0.9891721996191879, 0.9891721996191879, 0.9891721996191879, 0.9891721996191879, 0.9891721996191879, 0.9891721996191879, 0.9891721996191879, 0.9891721996191879, 0.9891721996191879, 0.9891721996191879, 0.9891721996191879, 0.9891721996191879, 0.9891721996191879, 0.9891721996191879, 0.9891721996191879, 0.9891721996191879, 0.9891721996191879, 0.9891721996191879, 0.9891721996191879, 0.9891721996191879, 0.9891721996191879, 0.9891721996191879, 0.9891721996191879, 0.9891721996191879, 0.9891721996191879, 0.990852264754324, 0.990852264754324, 0.990852264754324, 0.990852264754324, 0.990852264754324, 0.990852264754324, 0.990852264754324, 0.990852264754324, 0.990852264754324]}], \"recall_score_macro\": [{\"categories\": [\"0\", \"1\", \"2\", \"3\", \"4\", \"5\", \"7\", \"8\", \"9\", \"10\", \"11\", \"12\", \"13\", \"14\", \"15\", \"16\", \"17\", \"18\", \"19\", \"20\", \"21\", \"22\", \"23\", \"24\", \"25\", \"26\", \"27\", \"28\", \"29\", \"30\", \"31\", \"32\", \"33\", \"34\", \"35\", \"37\"], \"mode\": \"markers\", \"name\": \"recall_score_macro\", \"stepped\": false, \"type\": \"scatter\", \"data\": [0.7813965464752597, 0.8387273709033485, 0.9565089973783222, 0.7525399962943725, 0.9615295147428854, 0.8626574033412343, 0.5, 0.5, 0.5, 0.5, 0.5, 0.93099533963836, 0.7136510078527576, 0.9607981993060329, 0.5, 0.9556635467902753, 0.5, 0.9595415369213289, 0.9147979360730399, 0.9303518805430437, 0.8434019714549122, 0.7162105331544296, 0.8285873543242573, 0.5, 0.9667504896741518, 0.8459752190108736, 0.8181959291516057, 0.865119493118228, 0.7165551770957053, 0.6982238846586625, 0.6906795211485571, 0.7709930950538894, 0.8481830486347984, 0.953085811793183, 0.5, 0.9721236809122119]}, {\"categories\": [\"0\", \"1\", \"2\", \"3\", \"4\", \"5\", \"7\", \"8\", \"9\", \"10\", \"11\", \"12\", \"13\", \"14\", \"15\", \"16\", \"17\", \"18\", \"19\", \"20\", \"21\", \"22\", \"23\", \"24\", \"25\", \"26\", \"27\", \"28\", \"29\", \"30\", \"31\", \"32\", \"33\", \"34\", \"35\", \"37\"], \"mode\": \"lines\", \"name\": \"recall_score_macro_max\", \"stepped\": true, \"type\": \"scatter\", \"data\": [0.7813965464752597, 0.8387273709033485, 0.9565089973783222, 0.9565089973783222, 0.9615295147428854, 0.9615295147428854, 0.9615295147428854, 0.9615295147428854, 0.9615295147428854, 0.9615295147428854, 0.9615295147428854, 0.9615295147428854, 0.9615295147428854, 0.9615295147428854, 0.9615295147428854, 0.9615295147428854, 0.9615295147428854, 0.9615295147428854, 0.9615295147428854, 0.9615295147428854, 0.9615295147428854, 0.9615295147428854, 0.9615295147428854, 0.9615295147428854, 0.9667504896741518, 0.9667504896741518, 0.9667504896741518, 0.9667504896741518, 0.9667504896741518, 0.9667504896741518, 0.9667504896741518, 0.9667504896741518, 0.9667504896741518, 0.9667504896741518, 0.9667504896741518, 0.9721236809122119]}], \"precision_score_weighted\": [{\"categories\": [\"0\", \"1\", \"2\", \"3\", \"4\", \"5\", \"7\", \"8\", \"9\", \"10\", \"11\", \"12\", \"13\", \"14\", \"15\", \"16\", \"17\", \"18\", \"19\", \"20\", \"21\", \"22\", \"23\", \"24\", \"25\", \"26\", \"27\", \"28\", \"29\", \"30\", \"31\", \"32\", \"33\", \"34\", \"35\", \"37\"], \"mode\": \"markers\", \"name\": \"precision_score_weighted\", \"stepped\": false, \"type\": \"scatter\", \"data\": [0.9865463323634928, 0.9891670454450546, 0.9870771248623025, 0.9842578320606767, 0.9852619308054774, 0.9890850024653691, 0.9613568680449021, 0.9613568680449021, 0.9613568680449021, 0.9613568680449021, 0.9613568680449021, 0.9836662881528841, 0.9833505069693521, 0.9855712012272013, 0.9613568680449021, 0.9873147090972086, 0.9613568680449021, 0.9850767066852756, 0.9821162660522269, 0.9829342787502325, 0.9887829123675903, 0.9832490992614681, 0.9789475259796244, 0.9613568680449021, 0.9864822088442664, 0.988349813193774, 0.9880077872086157, 0.9909576885821135, 0.9842945187895547, 0.9749158886355173, 0.9845880793144642, 0.9842011434049156, 0.9897971630850679, 0.9843840636076134, 0.9613568680449021, 0.9867801899063519]}, {\"categories\": [\"0\", \"1\", \"2\", \"3\", \"4\", \"5\", \"7\", \"8\", \"9\", \"10\", \"11\", \"12\", \"13\", \"14\", \"15\", \"16\", \"17\", \"18\", \"19\", \"20\", \"21\", \"22\", \"23\", \"24\", \"25\", \"26\", \"27\", \"28\", \"29\", \"30\", \"31\", \"32\", \"33\", \"34\", \"35\", \"37\"], \"mode\": \"lines\", \"name\": \"precision_score_weighted_max\", \"stepped\": true, \"type\": \"scatter\", \"data\": [0.9865463323634928, 0.9891670454450546, 0.9891670454450546, 0.9891670454450546, 0.9891670454450546, 0.9891670454450546, 0.9891670454450546, 0.9891670454450546, 0.9891670454450546, 0.9891670454450546, 0.9891670454450546, 0.9891670454450546, 0.9891670454450546, 0.9891670454450546, 0.9891670454450546, 0.9891670454450546, 0.9891670454450546, 0.9891670454450546, 0.9891670454450546, 0.9891670454450546, 0.9891670454450546, 0.9891670454450546, 0.9891670454450546, 0.9891670454450546, 0.9891670454450546, 0.9891670454450546, 0.9891670454450546, 0.9909576885821135, 0.9909576885821135, 0.9909576885821135, 0.9909576885821135, 0.9909576885821135, 0.9909576885821135, 0.9909576885821135, 0.9909576885821135, 0.9909576885821135]}], \"AUC_micro\": [{\"categories\": [\"0\", \"1\", \"2\", \"3\", \"4\", \"5\", \"7\", \"8\", \"9\", \"10\", \"11\", \"12\", \"13\", \"14\", \"15\", \"16\", \"17\", \"18\", \"19\", \"20\", \"21\", \"22\", \"23\", \"24\", \"25\", \"26\", \"27\", \"28\", \"29\", \"30\", \"31\", \"32\", \"33\", \"34\", \"35\", \"37\"], \"mode\": \"markers\", \"name\": \"AUC_micro\", \"stepped\": false, \"type\": \"scatter\", \"data\": [0.9991629532227823, 0.9993393113692259, 0.993766771373609, 0.9990832663695911, 0.9835268585482261, 0.9992607811624906, 0.9986350354299073, 0.9987475345167653, 0.9985523656463827, 0.9986456887525264, 0.99868690189203, 0.9765335305719921, 0.9992904887135655, 0.9872266053035285, 0.9980898896924538, 0.9931857087198969, 0.9977722380500157, 0.9763048189543916, 0.9489772201524339, 0.9669826746536149, 0.9989044123018482, 0.9991426814717412, 0.8788547373803784, 0.9804843304843306, 0.9822654747120559, 0.9992666557089634, 0.99918024204349, 0.9993463730002192, 0.9989782550466311, 0.5777931794384785, 0.9990650644069449, 0.9991230184819928, 0.9993558088002533, 0.9804663720262011, 0.9974868507560815, 0.9888463973506708]}, {\"categories\": [\"0\", \"1\", \"2\", \"3\", \"4\", \"5\", \"7\", \"8\", \"9\", \"10\", \"11\", \"12\", \"13\", \"14\", \"15\", \"16\", \"17\", \"18\", \"19\", \"20\", \"21\", \"22\", \"23\", \"24\", \"25\", \"26\", \"27\", \"28\", \"29\", \"30\", \"31\", \"32\", \"33\", \"34\", \"35\", \"37\"], \"mode\": \"lines\", \"name\": \"AUC_micro_max\", \"stepped\": true, \"type\": \"scatter\", \"data\": [0.9991629532227823, 0.9993393113692259, 0.9993393113692259, 0.9993393113692259, 0.9993393113692259, 0.9993393113692259, 0.9993393113692259, 0.9993393113692259, 0.9993393113692259, 0.9993393113692259, 0.9993393113692259, 0.9993393113692259, 0.9993393113692259, 0.9993393113692259, 0.9993393113692259, 0.9993393113692259, 0.9993393113692259, 0.9993393113692259, 0.9993393113692259, 0.9993393113692259, 0.9993393113692259, 0.9993393113692259, 0.9993393113692259, 0.9993393113692259, 0.9993393113692259, 0.9993393113692259, 0.9993393113692259, 0.9993463730002192, 0.9993463730002192, 0.9993463730002192, 0.9993463730002192, 0.9993463730002192, 0.9993558088002533, 0.9993558088002533, 0.9993558088002533, 0.9993558088002533]}], \"balanced_accuracy\": [{\"categories\": [\"0\", \"1\", \"2\", \"3\", \"4\", \"5\", \"7\", \"8\", \"9\", \"10\", \"11\", \"12\", \"13\", \"14\", \"15\", \"16\", \"17\", \"18\", \"19\", \"20\", \"21\", \"22\", \"23\", \"24\", \"25\", \"26\", \"27\", \"28\", \"29\", \"30\", \"31\", \"32\", \"33\", \"34\", \"35\", \"37\"], \"mode\": \"markers\", \"name\": \"balanced_accuracy\", \"stepped\": false, \"type\": \"scatter\", \"data\": [0.7813965464752597, 0.8387273709033485, 0.9565089973783222, 0.7525399962943725, 0.9615295147428854, 0.8626574033412343, 0.5, 0.5, 0.5, 0.5, 0.5, 0.93099533963836, 0.7136510078527576, 0.9607981993060329, 0.5, 0.9556635467902753, 0.5, 0.9595415369213289, 0.9147979360730399, 0.9303518805430437, 0.8434019714549122, 0.7162105331544296, 0.8285873543242573, 0.5, 0.9667504896741518, 0.8459752190108736, 0.8181959291516057, 0.865119493118228, 0.7165551770957053, 0.6982238846586625, 0.6906795211485571, 0.7709930950538894, 0.8481830486347984, 0.953085811793183, 0.5, 0.9721236809122119]}, {\"categories\": [\"0\", \"1\", \"2\", \"3\", \"4\", \"5\", \"7\", \"8\", \"9\", \"10\", \"11\", \"12\", \"13\", \"14\", \"15\", \"16\", \"17\", \"18\", \"19\", \"20\", \"21\", \"22\", \"23\", \"24\", \"25\", \"26\", \"27\", \"28\", \"29\", \"30\", \"31\", \"32\", \"33\", \"34\", \"35\", \"37\"], \"mode\": \"lines\", \"name\": \"balanced_accuracy_max\", \"stepped\": true, \"type\": \"scatter\", \"data\": [0.7813965464752597, 0.8387273709033485, 0.9565089973783222, 0.9565089973783222, 0.9615295147428854, 0.9615295147428854, 0.9615295147428854, 0.9615295147428854, 0.9615295147428854, 0.9615295147428854, 0.9615295147428854, 0.9615295147428854, 0.9615295147428854, 0.9615295147428854, 0.9615295147428854, 0.9615295147428854, 0.9615295147428854, 0.9615295147428854, 0.9615295147428854, 0.9615295147428854, 0.9615295147428854, 0.9615295147428854, 0.9615295147428854, 0.9615295147428854, 0.9667504896741518, 0.9667504896741518, 0.9667504896741518, 0.9667504896741518, 0.9667504896741518, 0.9667504896741518, 0.9667504896741518, 0.9667504896741518, 0.9667504896741518, 0.9667504896741518, 0.9667504896741518, 0.9721236809122119]}], \"average_precision_score_micro\": [{\"categories\": [\"0\", \"1\", \"2\", \"3\", \"4\", \"5\", \"7\", \"8\", \"9\", \"10\", \"11\", \"12\", \"13\", \"14\", \"15\", \"16\", \"17\", \"18\", \"19\", \"20\", \"21\", \"22\", \"23\", \"24\", \"25\", \"26\", \"27\", \"28\", \"29\", \"30\", \"31\", \"32\", \"33\", \"34\", \"35\", \"37\"], \"mode\": \"markers\", \"name\": \"average_precision_score_micro\", \"stepped\": false, \"type\": \"scatter\", \"data\": [0.999075065372022, 0.999322878547693, 0.9937647360509425, 0.9988980996365725, 0.9839321239365756, 0.9991150425092603, 0.998472574523113, 0.9987614434108538, 0.9983586123632481, 0.9985787654269149, 0.9986214075428194, 0.974777120733835, 0.9992945531842993, 0.9875548743957729, 0.9978530841637366, 0.9930518291725505, 0.9974159092247673, 0.9766579812726013, 0.9501551851262772, 0.9635843778105615, 0.9985371748205241, 0.9989920785495592, 0.895158424150468, 0.9711147028027369, 0.9767031845816377, 0.9992191496723289, 0.9991152725452288, 0.9992685572646879, 0.9988944047010619, 0.5419036039051608, 0.9990273015175898, 0.9989951751079215, 0.999234013773369, 0.9811377030113245, 0.9973379010631674, 0.9891443013233099]}, {\"categories\": [\"0\", \"1\", \"2\", \"3\", \"4\", \"5\", \"7\", \"8\", \"9\", \"10\", \"11\", \"12\", \"13\", \"14\", \"15\", \"16\", \"17\", \"18\", \"19\", \"20\", \"21\", \"22\", \"23\", \"24\", \"25\", \"26\", \"27\", \"28\", \"29\", \"30\", \"31\", \"32\", \"33\", \"34\", \"35\", \"37\"], \"mode\": \"lines\", \"name\": \"average_precision_score_micro_max\", \"stepped\": true, \"type\": \"scatter\", \"data\": [0.999075065372022, 0.999322878547693, 0.999322878547693, 0.999322878547693, 0.999322878547693, 0.999322878547693, 0.999322878547693, 0.999322878547693, 0.999322878547693, 0.999322878547693, 0.999322878547693, 0.999322878547693, 0.999322878547693, 0.999322878547693, 0.999322878547693, 0.999322878547693, 0.999322878547693, 0.999322878547693, 0.999322878547693, 0.999322878547693, 0.999322878547693, 0.999322878547693, 0.999322878547693, 0.999322878547693, 0.999322878547693, 0.999322878547693, 0.999322878547693, 0.999322878547693, 0.999322878547693, 0.999322878547693, 0.999322878547693, 0.999322878547693, 0.999322878547693, 0.999322878547693, 0.999322878547693, 0.999322878547693]}], \"average_precision_score_weighted\": [{\"categories\": [\"0\", \"1\", \"2\", \"3\", \"4\", \"5\", \"7\", \"8\", \"9\", \"10\", \"11\", \"12\", \"13\", \"14\", \"15\", \"16\", \"17\", \"18\", \"19\", \"20\", \"21\", \"22\", \"23\", \"24\", \"25\", \"26\", \"27\", \"28\", \"29\", \"30\", \"31\", \"32\", \"33\", \"34\", \"35\", \"37\"], \"mode\": \"markers\", \"name\": \"average_precision_score_weighted\", \"stepped\": false, \"type\": \"scatter\", \"data\": [0.9947754642538372, 0.9957383385214261, 0.9921905660683138, 0.9921652833709703, 0.9889685079956901, 0.9932493335108566, 0.9871043004524013, 0.9890805429231312, 0.9910028095635038, 0.9888053003228285, 0.9900952603957546, 0.9907845764088427, 0.9942077284478724, 0.9898082435493252, 0.9883250708630481, 0.9901295891597011, 0.9851989500795789, 0.9867826105193709, 0.9867643149149071, 0.989077260408843, 0.9938470024190753, 0.9925617752241749, 0.9827972553071986, 0.9617450751211435, 0.9923802989424583, 0.9946645087111298, 0.9946127684808116, 0.9960751124968622, 0.9932689985171951, 0.9707382048368096, 0.9935687939040448, 0.9921523137361131, 0.9959024638803653, 0.9857412804395413, 0.9856616864210199, 0.9914181103863715]}, {\"categories\": [\"0\", \"1\", \"2\", \"3\", \"4\", \"5\", \"7\", \"8\", \"9\", \"10\", \"11\", \"12\", \"13\", \"14\", \"15\", \"16\", \"17\", \"18\", \"19\", \"20\", \"21\", \"22\", \"23\", \"24\", \"25\", \"26\", \"27\", \"28\", \"29\", \"30\", \"31\", \"32\", \"33\", \"34\", \"35\", \"37\"], \"mode\": \"lines\", \"name\": \"average_precision_score_weighted_max\", \"stepped\": true, \"type\": \"scatter\", \"data\": [0.9947754642538372, 0.9957383385214261, 0.9957383385214261, 0.9957383385214261, 0.9957383385214261, 0.9957383385214261, 0.9957383385214261, 0.9957383385214261, 0.9957383385214261, 0.9957383385214261, 0.9957383385214261, 0.9957383385214261, 0.9957383385214261, 0.9957383385214261, 0.9957383385214261, 0.9957383385214261, 0.9957383385214261, 0.9957383385214261, 0.9957383385214261, 0.9957383385214261, 0.9957383385214261, 0.9957383385214261, 0.9957383385214261, 0.9957383385214261, 0.9957383385214261, 0.9957383385214261, 0.9957383385214261, 0.9960751124968622, 0.9960751124968622, 0.9960751124968622, 0.9960751124968622, 0.9960751124968622, 0.9960751124968622, 0.9960751124968622, 0.9960751124968622, 0.9960751124968622]}], \"recall_score_weighted\": [{\"categories\": [\"0\", \"1\", \"2\", \"3\", \"4\", \"5\", \"7\", \"8\", \"9\", \"10\", \"11\", \"12\", \"13\", \"14\", \"15\", \"16\", \"17\", \"18\", \"19\", \"20\", \"21\", \"22\", \"23\", \"24\", \"25\", \"26\", \"27\", \"28\", \"29\", \"30\", \"31\", \"32\", \"33\", \"34\", \"35\", \"37\"], \"mode\": \"markers\", \"name\": \"recall_score_weighted\", \"stepped\": false, \"type\": \"scatter\", \"data\": [0.9876068376068377, 0.9894586894586895, 0.9689458689458689, 0.9850427350427351, 0.9398860398860398, 0.9887464387464387, 0.9804843304843304, 0.9804843304843304, 0.9804843304843304, 0.9804843304843304, 0.9804843304843304, 0.94002849002849, 0.9853276353276353, 0.9471509971509972, 0.9804843304843304, 0.9719373219373219, 0.9804843304843304, 0.9447293447293447, 0.8846153846153846, 0.9131054131054132, 0.9888888888888889, 0.9853276353276353, 0.8314814814814815, 0.9804843304843304, 0.9588319088319088, 0.9883190883190883, 0.9886039886039887, 0.9910256410256411, 0.9853276353276353, 0.5833333333333334, 0.9857549857549858, 0.9850427350427351, 0.99002849002849, 0.932051282051282, 0.9804843304843304, 0.9606837606837607]}, {\"categories\": [\"0\", \"1\", \"2\", \"3\", \"4\", \"5\", \"7\", \"8\", \"9\", \"10\", \"11\", \"12\", \"13\", \"14\", \"15\", \"16\", \"17\", \"18\", \"19\", \"20\", \"21\", \"22\", \"23\", \"24\", \"25\", \"26\", \"27\", \"28\", \"29\", \"30\", \"31\", \"32\", \"33\", \"34\", \"35\", \"37\"], \"mode\": \"lines\", \"name\": \"recall_score_weighted_max\", \"stepped\": true, \"type\": \"scatter\", \"data\": [0.9876068376068377, 0.9894586894586895, 0.9894586894586895, 0.9894586894586895, 0.9894586894586895, 0.9894586894586895, 0.9894586894586895, 0.9894586894586895, 0.9894586894586895, 0.9894586894586895, 0.9894586894586895, 0.9894586894586895, 0.9894586894586895, 0.9894586894586895, 0.9894586894586895, 0.9894586894586895, 0.9894586894586895, 0.9894586894586895, 0.9894586894586895, 0.9894586894586895, 0.9894586894586895, 0.9894586894586895, 0.9894586894586895, 0.9894586894586895, 0.9894586894586895, 0.9894586894586895, 0.9894586894586895, 0.9910256410256411, 0.9910256410256411, 0.9910256410256411, 0.9910256410256411, 0.9910256410256411, 0.9910256410256411, 0.9910256410256411, 0.9910256410256411, 0.9910256410256411]}], \"recall_score_micro\": [{\"categories\": [\"0\", \"1\", \"2\", \"3\", \"4\", \"5\", \"7\", \"8\", \"9\", \"10\", \"11\", \"12\", \"13\", \"14\", \"15\", \"16\", \"17\", \"18\", \"19\", \"20\", \"21\", \"22\", \"23\", \"24\", \"25\", \"26\", \"27\", \"28\", \"29\", \"30\", \"31\", \"32\", \"33\", \"34\", \"35\", \"37\"], \"mode\": \"markers\", \"name\": \"recall_score_micro\", \"stepped\": false, \"type\": \"scatter\", \"data\": [0.9876068376068377, 0.9894586894586895, 0.9689458689458689, 0.9850427350427351, 0.9398860398860398, 0.9887464387464387, 0.9804843304843304, 0.9804843304843304, 0.9804843304843304, 0.9804843304843304, 0.9804843304843304, 0.94002849002849, 0.9853276353276353, 0.9471509971509972, 0.9804843304843304, 0.9719373219373219, 0.9804843304843304, 0.9447293447293447, 0.8846153846153846, 0.9131054131054132, 0.9888888888888889, 0.9853276353276353, 0.8314814814814815, 0.9804843304843304, 0.9588319088319088, 0.9883190883190883, 0.9886039886039887, 0.9910256410256411, 0.9853276353276353, 0.5833333333333334, 0.9857549857549858, 0.9850427350427351, 0.99002849002849, 0.932051282051282, 0.9804843304843304, 0.9606837606837607]}, {\"categories\": [\"0\", \"1\", \"2\", \"3\", \"4\", \"5\", \"7\", \"8\", \"9\", \"10\", \"11\", \"12\", \"13\", \"14\", \"15\", \"16\", \"17\", \"18\", \"19\", \"20\", \"21\", \"22\", \"23\", \"24\", \"25\", \"26\", \"27\", \"28\", \"29\", \"30\", \"31\", \"32\", \"33\", \"34\", \"35\", \"37\"], \"mode\": \"lines\", \"name\": \"recall_score_micro_max\", \"stepped\": true, \"type\": \"scatter\", \"data\": [0.9876068376068377, 0.9894586894586895, 0.9894586894586895, 0.9894586894586895, 0.9894586894586895, 0.9894586894586895, 0.9894586894586895, 0.9894586894586895, 0.9894586894586895, 0.9894586894586895, 0.9894586894586895, 0.9894586894586895, 0.9894586894586895, 0.9894586894586895, 0.9894586894586895, 0.9894586894586895, 0.9894586894586895, 0.9894586894586895, 0.9894586894586895, 0.9894586894586895, 0.9894586894586895, 0.9894586894586895, 0.9894586894586895, 0.9894586894586895, 0.9894586894586895, 0.9894586894586895, 0.9894586894586895, 0.9910256410256411, 0.9910256410256411, 0.9910256410256411, 0.9910256410256411, 0.9910256410256411, 0.9910256410256411, 0.9910256410256411, 0.9910256410256411, 0.9910256410256411]}], \"f1_score_macro\": [{\"categories\": [\"0\", \"1\", \"2\", \"3\", \"4\", \"5\", \"7\", \"8\", \"9\", \"10\", \"11\", \"12\", \"13\", \"14\", \"15\", \"16\", \"17\", \"18\", \"19\", \"20\", \"21\", \"22\", \"23\", \"24\", \"25\", \"26\", \"27\", \"28\", \"29\", \"30\", \"31\", \"32\", \"33\", \"34\", \"35\", \"37\"], \"mode\": \"markers\", \"name\": \"f1_score_macro\", \"stepped\": false, \"type\": \"scatter\", \"data\": [0.8146425519239978, 0.8513360221840934, 0.7624534209491433, 0.762311848614106, 0.682958331460354, 0.8531529447464443, 0.4950720608456045, 0.4950720608456045, 0.4950720608456045, 0.4950720608456045, 0.4950720608456045, 0.6822043251524083, 0.761634038023145, 0.6983059728526397, 0.4950720608456045, 0.7745001819534978, 0.4950720608456045, 0.6890313165830783, 0.5896715109815198, 0.6272412037316077, 0.8492338504060369, 0.7321509002346973, 0.5544541978589326, 0.4950720608456045, 0.729722390008309, 0.8448563207789723, 0.8387548440516165, 0.8765486200456176, 0.7642053784973365, 0.4010560118893569, 0.7515356395008911, 0.7889052304666896, 0.8609803108687747, 0.6608929763078147, 0.4950720608456045, 0.73621228176115]}, {\"categories\": [\"0\", \"1\", \"2\", \"3\", \"4\", \"5\", \"7\", \"8\", \"9\", \"10\", \"11\", \"12\", \"13\", \"14\", \"15\", \"16\", \"17\", \"18\", \"19\", \"20\", \"21\", \"22\", \"23\", \"24\", \"25\", \"26\", \"27\", \"28\", \"29\", \"30\", \"31\", \"32\", \"33\", \"34\", \"35\", \"37\"], \"mode\": \"lines\", \"name\": \"f1_score_macro_max\", \"stepped\": true, \"type\": \"scatter\", \"data\": [0.8146425519239978, 0.8513360221840934, 0.8513360221840934, 0.8513360221840934, 0.8513360221840934, 0.8531529447464443, 0.8531529447464443, 0.8531529447464443, 0.8531529447464443, 0.8531529447464443, 0.8531529447464443, 0.8531529447464443, 0.8531529447464443, 0.8531529447464443, 0.8531529447464443, 0.8531529447464443, 0.8531529447464443, 0.8531529447464443, 0.8531529447464443, 0.8531529447464443, 0.8531529447464443, 0.8531529447464443, 0.8531529447464443, 0.8531529447464443, 0.8531529447464443, 0.8531529447464443, 0.8531529447464443, 0.8765486200456176, 0.8765486200456176, 0.8765486200456176, 0.8765486200456176, 0.8765486200456176, 0.8765486200456176, 0.8765486200456176, 0.8765486200456176, 0.8765486200456176]}], \"f1_score_micro\": [{\"categories\": [\"0\", \"1\", \"2\", \"3\", \"4\", \"5\", \"7\", \"8\", \"9\", \"10\", \"11\", \"12\", \"13\", \"14\", \"15\", \"16\", \"17\", \"18\", \"19\", \"20\", \"21\", \"22\", \"23\", \"24\", \"25\", \"26\", \"27\", \"28\", \"29\", \"30\", \"31\", \"32\", \"33\", \"34\", \"35\", \"37\"], \"mode\": \"markers\", \"name\": \"f1_score_micro\", \"stepped\": false, \"type\": \"scatter\", \"data\": [0.9876068376068377, 0.9894586894586895, 0.9689458689458689, 0.9850427350427351, 0.9398860398860398, 0.9887464387464387, 0.9804843304843304, 0.9804843304843304, 0.9804843304843304, 0.9804843304843304, 0.9804843304843304, 0.94002849002849, 0.9853276353276353, 0.9471509971509972, 0.9804843304843304, 0.9719373219373219, 0.9804843304843304, 0.9447293447293447, 0.8846153846153846, 0.9131054131054132, 0.9888888888888889, 0.9853276353276353, 0.8314814814814815, 0.9804843304843304, 0.9588319088319087, 0.9883190883190883, 0.9886039886039887, 0.9910256410256411, 0.9853276353276353, 0.5833333333333334, 0.9857549857549858, 0.9850427350427351, 0.99002849002849, 0.932051282051282, 0.9804843304843304, 0.9606837606837607]}, {\"categories\": [\"0\", \"1\", \"2\", \"3\", \"4\", \"5\", \"7\", \"8\", \"9\", \"10\", \"11\", \"12\", \"13\", \"14\", \"15\", \"16\", \"17\", \"18\", \"19\", \"20\", \"21\", \"22\", \"23\", \"24\", \"25\", \"26\", \"27\", \"28\", \"29\", \"30\", \"31\", \"32\", \"33\", \"34\", \"35\", \"37\"], \"mode\": \"lines\", \"name\": \"f1_score_micro_max\", \"stepped\": true, \"type\": \"scatter\", \"data\": [0.9876068376068377, 0.9894586894586895, 0.9894586894586895, 0.9894586894586895, 0.9894586894586895, 0.9894586894586895, 0.9894586894586895, 0.9894586894586895, 0.9894586894586895, 0.9894586894586895, 0.9894586894586895, 0.9894586894586895, 0.9894586894586895, 0.9894586894586895, 0.9894586894586895, 0.9894586894586895, 0.9894586894586895, 0.9894586894586895, 0.9894586894586895, 0.9894586894586895, 0.9894586894586895, 0.9894586894586895, 0.9894586894586895, 0.9894586894586895, 0.9894586894586895, 0.9894586894586895, 0.9894586894586895, 0.9910256410256411, 0.9910256410256411, 0.9910256410256411, 0.9910256410256411, 0.9910256410256411, 0.9910256410256411, 0.9910256410256411, 0.9910256410256411, 0.9910256410256411]}], \"weighted_accuracy\": [{\"categories\": [\"0\", \"1\", \"2\", \"3\", \"4\", \"5\", \"7\", \"8\", \"9\", \"10\", \"11\", \"12\", \"13\", \"14\", \"15\", \"16\", \"17\", \"18\", \"19\", \"20\", \"21\", \"22\", \"23\", \"24\", \"25\", \"26\", \"27\", \"28\", \"29\", \"30\", \"31\", \"32\", \"33\", \"34\", \"35\", \"37\"], \"mode\": \"markers\", \"name\": \"weighted_accuracy\", \"stepped\": false, \"type\": \"scatter\", \"data\": [0.9957616980235221, 0.9953755454730753, 0.9693465327572935, 0.9944250720998097, 0.9390305335177301, 0.9936502885539923, 0.9995957652550409, 0.9995957652550409, 0.9995957652550409, 0.9995957652550409, 0.9995957652550409, 0.9403653842737899, 0.9962810116042214, 0.9465718087835011, 0.9995957652550409, 0.9725307568311616, 0.9995957652550409, 0.9440612323122659, 0.8833599066259392, 0.9123913758873767, 0.9946495209141512, 0.9957191959607496, 0.8317308672741316, 0.9995957652550409, 0.9584719492020527, 0.9939239394298128, 0.9953541835232943, 0.9959737591461039, 0.9960056320126535, 0.5789407841373359, 0.9974361004968654, 0.9934311213211017, 0.9955280347882899, 0.9311542585868725, 0.9995957652550409, 0.9602111763319758]}, {\"categories\": [\"0\", \"1\", \"2\", \"3\", \"4\", \"5\", \"7\", \"8\", \"9\", \"10\", \"11\", \"12\", \"13\", \"14\", \"15\", \"16\", \"17\", \"18\", \"19\", \"20\", \"21\", \"22\", \"23\", \"24\", \"25\", \"26\", \"27\", \"28\", \"29\", \"30\", \"31\", \"32\", \"33\", \"34\", \"35\", \"37\"], \"mode\": \"lines\", \"name\": \"weighted_accuracy_max\", \"stepped\": true, \"type\": \"scatter\", \"data\": [0.9957616980235221, 0.9957616980235221, 0.9957616980235221, 0.9957616980235221, 0.9957616980235221, 0.9957616980235221, 0.9995957652550409, 0.9995957652550409, 0.9995957652550409, 0.9995957652550409, 0.9995957652550409, 0.9995957652550409, 0.9995957652550409, 0.9995957652550409, 0.9995957652550409, 0.9995957652550409, 0.9995957652550409, 0.9995957652550409, 0.9995957652550409, 0.9995957652550409, 0.9995957652550409, 0.9995957652550409, 0.9995957652550409, 0.9995957652550409, 0.9995957652550409, 0.9995957652550409, 0.9995957652550409, 0.9995957652550409, 0.9995957652550409, 0.9995957652550409, 0.9995957652550409, 0.9995957652550409, 0.9995957652550409, 0.9995957652550409, 0.9995957652550409, 0.9995957652550409]}], \"AUC_weighted\": [{\"categories\": [\"0\", \"1\", \"2\", \"3\", \"4\", \"5\", \"7\", \"8\", \"9\", \"10\", \"11\", \"12\", \"13\", \"14\", \"15\", \"16\", \"17\", \"18\", \"19\", \"20\", \"21\", \"22\", \"23\", \"24\", \"25\", \"26\", \"27\", \"28\", \"29\", \"30\", \"31\", \"32\", \"33\", \"34\", \"35\", \"37\"], \"mode\": \"markers\", \"name\": \"AUC_weighted\", \"stepped\": false, \"type\": \"scatter\", \"data\": [0.9823685632237739, 0.986058959962507, 0.9815472857375979, 0.9822844354240963, 0.9759268879817391, 0.9846470575943433, 0.9730074437917272, 0.9778423362266331, 0.9703861097757528, 0.9742287614050021, 0.9752205774437632, 0.9762244611325027, 0.9885317510177387, 0.981708995159568, 0.9585851390784988, 0.9800276512109606, 0.9516641462642029, 0.971511970467635, 0.9589629849636497, 0.9676406375523728, 0.9752522564584174, 0.9840508349418808, 0.8924551515512662, 0.5, 0.9860917536508591, 0.9845122035793908, 0.9831873974767728, 0.9861202461312254, 0.9790740248944182, 0.8039509591743162, 0.981449138278467, 0.9838816064626403, 0.9859661481986989, 0.9679255539500149, 0.9426095135698555, 0.9828434075256043]}, {\"categories\": [\"0\", \"1\", \"2\", \"3\", \"4\", \"5\", \"7\", \"8\", \"9\", \"10\", \"11\", \"12\", \"13\", \"14\", \"15\", \"16\", \"17\", \"18\", \"19\", \"20\", \"21\", \"22\", \"23\", \"24\", \"25\", \"26\", \"27\", \"28\", \"29\", \"30\", \"31\", \"32\", \"33\", \"34\", \"35\", \"37\"], \"mode\": \"lines\", \"name\": \"AUC_weighted_max\", \"stepped\": true, \"type\": \"scatter\", \"data\": [0.9823685632237739, 0.986058959962507, 0.986058959962507, 0.986058959962507, 0.986058959962507, 0.986058959962507, 0.986058959962507, 0.986058959962507, 0.986058959962507, 0.986058959962507, 0.986058959962507, 0.986058959962507, 0.9885317510177387, 0.9885317510177387, 0.9885317510177387, 0.9885317510177387, 0.9885317510177387, 0.9885317510177387, 0.9885317510177387, 0.9885317510177387, 0.9885317510177387, 0.9885317510177387, 0.9885317510177387, 0.9885317510177387, 0.9885317510177387, 0.9885317510177387, 0.9885317510177387, 0.9885317510177387, 0.9885317510177387, 0.9885317510177387, 0.9885317510177387, 0.9885317510177387, 0.9885317510177387, 0.9885317510177387, 0.9885317510177387, 0.9885317510177387]}], \"matthews_correlation\": [{\"categories\": [\"0\", \"1\", \"2\", \"3\", \"4\", \"5\", \"7\", \"8\", \"9\", \"10\", \"11\", \"12\", \"13\", \"14\", \"15\", \"16\", \"17\", \"18\", \"19\", \"20\", \"21\", \"22\", \"23\", \"24\", \"25\", \"26\", \"27\", \"28\", \"29\", \"30\", \"31\", \"32\", \"33\", \"34\", \"35\", \"37\"], \"mode\": \"markers\", \"name\": \"matthews_correlation\", \"stepped\": false, \"type\": \"scatter\", \"data\": [0.6364068396939287, 0.7061688403944107, 0.5878301811455011, 0.5532158970809289, 0.4787089564209424, 0.7080741136735487, 0.0, 0.0, 0.0, 0.0, 0.0, 0.46491825561501604, 0.5437847638708796, 0.49934680609307786, 0.0, 0.6049787901626451, 0.0, 0.4857877086747464, 0.337406725779745, 0.3908152430649632, 0.7007101724058661, 0.4997412432511647, 0.27186683158167363, 0.0, 0.5454647330333491, 0.691624733620566, 0.6805464505277873, 0.7565322849881899, 0.551638485095327, 0.10974730960875141, 0.5407074698805179, 0.5795559860014304, 0.724310805547621, 0.4448141394688239, 0.0, 0.5569679855358968]}, {\"categories\": [\"0\", \"1\", \"2\", \"3\", \"4\", \"5\", \"7\", \"8\", \"9\", \"10\", \"11\", \"12\", \"13\", \"14\", \"15\", \"16\", \"17\", \"18\", \"19\", \"20\", \"21\", \"22\", \"23\", \"24\", \"25\", \"26\", \"27\", \"28\", \"29\", \"30\", \"31\", \"32\", \"33\", \"34\", \"35\", \"37\"], \"mode\": \"lines\", \"name\": \"matthews_correlation_max\", \"stepped\": true, \"type\": \"scatter\", \"data\": [0.6364068396939287, 0.7061688403944107, 0.7061688403944107, 0.7061688403944107, 0.7061688403944107, 0.7080741136735487, 0.7080741136735487, 0.7080741136735487, 0.7080741136735487, 0.7080741136735487, 0.7080741136735487, 0.7080741136735487, 0.7080741136735487, 0.7080741136735487, 0.7080741136735487, 0.7080741136735487, 0.7080741136735487, 0.7080741136735487, 0.7080741136735487, 0.7080741136735487, 0.7080741136735487, 0.7080741136735487, 0.7080741136735487, 0.7080741136735487, 0.7080741136735487, 0.7080741136735487, 0.7080741136735487, 0.7565322849881899, 0.7565322849881899, 0.7565322849881899, 0.7565322849881899, 0.7565322849881899, 0.7565322849881899, 0.7565322849881899, 0.7565322849881899, 0.7565322849881899]}], \"log_loss\": [{\"categories\": [\"0\", \"1\", \"2\", \"3\", \"4\", \"5\", \"7\", \"8\", \"9\", \"10\", \"11\", \"12\", \"13\", \"14\", \"15\", \"16\", \"17\", \"18\", \"19\", \"20\", \"21\", \"22\", \"23\", \"24\", \"25\", \"26\", \"27\", \"28\", \"29\", \"30\", \"31\", \"32\", \"33\", \"34\", \"35\", \"37\"], \"mode\": \"markers\", \"name\": \"log_loss\", \"stepped\": false, \"type\": \"scatter\", \"data\": [0.04991036786613363, 0.027649049605158803, 0.1008298385108285, 0.038835558826588804, 0.17241197624309249, 0.036209091634345845, 0.049547358958327514, 0.05613040323553061, 0.07295162841360679, 0.07210788164833942, 0.06855854750230252, 0.5633995857129069, 0.03564664009929652, 0.15185181911904097, 0.0749622896580205, 0.10459039228098767, 0.07706662316107897, 0.19279132265276755, 0.44412204498543, 0.53465370229984, 0.21554167880409011, 0.03870005745127858, 0.5351168279178508, 0.6900968330325927, 0.15640294560986737, 0.035395207718281356, 0.039651249017283376, 0.024618142867539577, 0.034217793568324294, 0.6929503710567926, 0.03329311675205809, 0.2178075658509252, 0.025547941156406784, 0.18755058378187262, 0.0720684831440193, 0.29783416075514063]}, {\"categories\": [\"0\", \"1\", \"2\", \"3\", \"4\", \"5\", \"7\", \"8\", \"9\", \"10\", \"11\", \"12\", \"13\", \"14\", \"15\", \"16\", \"17\", \"18\", \"19\", \"20\", \"21\", \"22\", \"23\", \"24\", \"25\", \"26\", \"27\", \"28\", \"29\", \"30\", \"31\", \"32\", \"33\", \"34\", \"35\", \"37\"], \"mode\": \"lines\", \"name\": \"log_loss_min\", \"stepped\": true, \"type\": \"scatter\", \"data\": [0.04991036786613363, 0.027649049605158803, 0.027649049605158803, 0.027649049605158803, 0.027649049605158803, 0.027649049605158803, 0.027649049605158803, 0.027649049605158803, 0.027649049605158803, 0.027649049605158803, 0.027649049605158803, 0.027649049605158803, 0.027649049605158803, 0.027649049605158803, 0.027649049605158803, 0.027649049605158803, 0.027649049605158803, 0.027649049605158803, 0.027649049605158803, 0.027649049605158803, 0.027649049605158803, 0.027649049605158803, 0.027649049605158803, 0.027649049605158803, 0.027649049605158803, 0.027649049605158803, 0.027649049605158803, 0.024618142867539577, 0.024618142867539577, 0.024618142867539577, 0.024618142867539577, 0.024618142867539577, 0.024618142867539577, 0.024618142867539577, 0.024618142867539577, 0.024618142867539577]}]}, \"metricName\": null, \"primaryMetricName\": \"norm_macro_recall\", \"showLegend\": false}, \"run_metrics\": [{\"name\": \"experiment_status\", \"run_id\": \"AutoML_dbfdcfd4-7378-4756-b9e9-d7613df9a6be\", \"categories\": [0, 1, 2, 3, 4, 5, 6, 7, 8, 9, 10, 11, 12, 13, 14], \"series\": [{\"data\": [\"DatasetEvaluation\", \"FeaturesGeneration\", \"DatasetFeaturization\", \"DatasetFeaturizationCompleted\", \"DatasetBalancing\", \"DatasetCrossValidationSplit\", \"ModelSelection\", \"BestRunExplainModel\", \"ModelExplanationDataSetSetup\", \"PickSurrogateModel\", \"EngineeredFeatureExplanations\", \"EngineeredFeatureExplanations\", \"RawFeaturesExplanations\", \"RawFeaturesExplanations\", \"BestRunExplainModel\"]}]}, {\"name\": \"experiment_status_description\", \"run_id\": \"AutoML_dbfdcfd4-7378-4756-b9e9-d7613df9a6be\", \"categories\": [0, 1, 2, 3, 4, 5, 6, 7, 8, 9, 10, 11, 12, 13, 14], \"series\": [{\"data\": [\"Gathering dataset statistics.\", \"Generating features for the dataset.\", \"Beginning to fit featurizers and featurize the dataset.\", \"Completed fit featurizers and featurizing the dataset.\", \"Performing class balancing sweeping\", \"Generating individually featurized CV splits.\", \"Beginning model selection.\", \"Best run model explanations started\", \"Model explanations data setup completed\", \"Choosing LightGBM as the surrogate model for explanations\", \"Computation of engineered features started\", \"Computation of engineered features completed\", \"Computation of raw features started\", \"Computation of raw features completed\", \"Best run model explanations completed\"]}]}], \"run_logs\": \"\\nRun is completed.\", \"graph\": {}, \"widget_settings\": {\"childWidgetDisplay\": \"popup\", \"send_telemetry\": false, \"log_level\": \"INFO\", \"sdk_version\": \"1.22.0\"}, \"loading\": false}"
          },
          "metadata": {}
        },
        {
          "output_type": "stream",
          "name": "stdout",
          "text": [
            "\n",
            "Current status: FeaturesGeneration. Generating features for the dataset.\n",
            "Current status: ModelSelection. Beginning model selection.\n",
            "\n",
            "****************************************************************************************************\n",
            "DATA GUARDRAILS: \n",
            "\n",
            "TYPE:         Cross validation\n",
            "STATUS:       DONE\n",
            "DESCRIPTION:  Each iteration of the trained model was validated through cross-validation.\n",
            "              \n",
            "DETAILS:      \n",
            "+---------------------------------+\n",
            "|Number of folds                  |\n",
            "+=================================+\n",
            "|3                                |\n",
            "+---------------------------------+\n",
            "\n",
            "****************************************************************************************************\n",
            "\n",
            "TYPE:         Class balancing detection\n",
            "STATUS:       ALERTED\n",
            "DESCRIPTION:  To decrease model bias, please cancel the current run and fix balancing problem.\n",
            "              Learn more about imbalanced data: https://aka.ms/AutomatedMLImbalancedData\n",
            "DETAILS:      Imbalanced data can lead to a falsely perceived positive effect of a model's accuracy because the input data has bias towards one class.\n",
            "+---------------------------------+---------------------------------+--------------------------------------+\n",
            "|Size of the smallest class       |Name/Label of the smallest class |Number of samples in the training data|\n",
            "+=================================+=================================+======================================+\n",
            "|137                              |1                                |7020                                  |\n",
            "+---------------------------------+---------------------------------+--------------------------------------+\n",
            "\n",
            "****************************************************************************************************\n",
            "\n",
            "TYPE:         Missing feature values imputation\n",
            "STATUS:       DONE\n",
            "DESCRIPTION:  If the missing values are expected, let the run complete. Otherwise cancel the current run and use a script to customize the handling of missing feature values that may be more appropriate based on the data type and business requirement.\n",
            "              Learn more about missing value imputation: https://aka.ms/AutomatedMLFeaturization\n",
            "DETAILS:      \n",
            "+---------------------------------+---------------------------------+---------------------------------+\n",
            "|Column name                      |Missing value count              |Imputation type                  |\n",
            "+=================================+=================================+=================================+\n",
            "|INCEMP                           |6                                |mean                             |\n",
            "+---------------------------------+---------------------------------+---------------------------------+\n",
            "\n",
            "****************************************************************************************************\n",
            "\n",
            "TYPE:         High cardinality feature detection\n",
            "STATUS:       PASSED\n",
            "DESCRIPTION:  Your inputs were analyzed, and no high cardinality features were detected.\n",
            "              Learn more about high cardinality feature handling: https://aka.ms/AutomatedMLFeaturization\n",
            "\n",
            "****************************************************************************************************\n",
            "\n",
            "****************************************************************************************************\n",
            "ITERATION: The iteration being evaluated.\n",
            "PIPELINE: A summary description of the pipeline being evaluated.\n",
            "DURATION: Time taken for the current iteration.\n",
            "METRIC: The result of computing score on the fitted pipeline.\n",
            "BEST: The best observed score thus far.\n",
            "****************************************************************************************************\n",
            "\n",
            " ITERATION   PIPELINE                                       DURATION      METRIC      BEST\n",
            "         2   MinMaxScaler RandomForest                      0:01:23       0.9130    0.9130\n",
            "         3   MinMaxScaler RandomForest                      0:01:23       0.5051    0.9130\n",
            "         0   MaxAbsScaler LightGBM                          0:01:27       0.5628    0.9130\n",
            "         1   MaxAbsScaler XGBoostClassifier                 0:01:28       0.6775    0.9130\n",
            "         4   StandardScalerWrapper RandomForest             0:01:05       0.9231    0.9231\n",
            "         5   StandardScalerWrapper RandomForest             0:01:06       0.7253    0.9231\n",
            "         7   MinMaxScaler RandomForest                      0:01:09       0.0000    0.9231\n",
            "         8   MinMaxScaler ExtremeRandomTrees                0:00:57       0.0000    0.9231\n",
            "         9   RobustScaler ExtremeRandomTrees                0:00:57       0.0000    0.9231\n",
            "        11   RobustScaler ExtremeRandomTrees                0:00:56       0.0000    0.9231\n",
            "        10   MinMaxScaler ExtremeRandomTrees                0:02:06       0.0000    0.9231\n",
            "        12   StandardScalerWrapper ExtremeRandomTrees       0:01:08       0.8620    0.9231\n",
            "        13   StandardScalerWrapper SGD                      0:01:13       0.4273    0.9231\n",
            "        14   RobustScaler RandomForest                      0:00:56       0.9216    0.9231\n",
            "         6   MinMaxScaler ExtremeRandomTrees                0:04:57       0.6429    0.9231\n",
            "        15   MinMaxScaler ExtremeRandomTrees                0:01:22       0.0000    0.9231\n",
            "        16   StandardScalerWrapper RandomForest             0:01:18       0.9113    0.9231\n",
            "        17   RobustScaler ExtremeRandomTrees                0:01:11       0.0000    0.9231\n",
            "        18   RobustScaler RandomForest                      0:01:19       0.9191    0.9231\n",
            "        19   MinMaxScaler ExtremeRandomTrees                0:01:07       0.8296    0.9231\n",
            "        20   MaxAbsScaler ExtremeRandomTrees                0:01:19       0.8607    0.9231\n",
            "        21   StandardScalerWrapper XGBoostClassifier        0:01:08       0.6868    0.9231\n",
            "        22   MaxAbsScaler RandomForest                      0:01:19       0.4324    0.9231\n",
            "        23   MaxAbsScaler ExtremeRandomTrees                0:01:32       0.6572    0.9231\n",
            "        24   MaxAbsScaler RandomForest                      0:01:10       0.0000    0.9231\n",
            "        25   StandardScalerWrapper LogisticRegression       0:01:10       0.9335    0.9335\n",
            "        26   MinMaxScaler GradientBoosting                  0:01:21       0.6920    0.9335\n",
            "        27   StandardScalerWrapper XGBoostClassifier        0:01:28       0.6364    0.9335\n",
            "        28   StandardScalerWrapper LightGBM                 0:01:18       0.7302    0.9335\n",
            "        29   RobustScaler LightGBM                          0:01:24       0.4331    0.9335\n",
            "        30   RobustScaler LogisticRegression                0:00:59       0.3964    0.9335\n",
            "        31   MinMaxScaler LightGBM                          0:00:59       0.3814    0.9335\n",
            "        33   StandardScalerWrapper XGBoostClassifier        0:01:12       0.6964    0.9335\n",
            "        32   SparseNormalizer XGBoostClassifier             0:01:27       0.5420    0.9335\n",
            "        34   StandardScalerWrapper RandomForest             0:01:35       0.9062    0.9335\n",
            "ERROR: {\n",
            "    \"additional_properties\": {},\n",
            "    \"error\": {\n",
            "        \"additional_properties\": {\n",
            "            \"debugInfo\": null\n",
            "        },\n",
            "        \"code\": \"UserError\",\n",
            "        \"severity\": null,\n",
            "        \"message\": \"Experiment timeout reached, please consider increasing your experiment timeout.\",\n",
            "        \"message_format\": \"Experiment timeout reached, please consider increasing your experiment timeout.\",\n",
            "        \"message_parameters\": {},\n",
            "        \"reference_code\": null,\n",
            "        \"details_uri\": null,\n",
            "        \"target\": null,\n",
            "        \"details\": [],\n",
            "        \"inner_error\": {\n",
            "            \"additional_properties\": {},\n",
            "            \"code\": \"ResourceExhausted\",\n",
            "            \"inner_error\": {\n",
            "                \"additional_properties\": {},\n",
            "                \"code\": \"Timeout\",\n",
            "                \"inner_error\": {\n",
            "                    \"additional_properties\": {},\n",
            "                    \"code\": \"ExperimentTimeoutForIterations\",\n",
            "                    \"inner_error\": null\n",
            "                }\n",
            "            }\n",
            "        }\n",
            "    },\n",
            "    \"correlation\": null,\n",
            "    \"environment\": null,\n",
            "    \"location\": null,\n",
            "    \"time\": {},\n",
            "    \"component_name\": null\n",
            "}\n",
            "        35   SparseNormalizer LogisticRegression            0:01:13       0.0000    0.9335\n",
            "ERROR: {\n",
            "    \"additional_properties\": {},\n",
            "    \"error\": {\n",
            "        \"additional_properties\": {\n",
            "            \"debugInfo\": null\n",
            "        },\n",
            "        \"code\": \"UserError\",\n",
            "        \"severity\": null,\n",
            "        \"message\": \"Experiment timeout reached, please consider increasing your experiment timeout.\",\n",
            "        \"message_format\": \"Experiment timeout reached, please consider increasing your experiment timeout.\",\n",
            "        \"message_parameters\": {},\n",
            "        \"reference_code\": null,\n",
            "        \"details_uri\": null,\n",
            "        \"target\": null,\n",
            "        \"details\": [],\n",
            "        \"inner_error\": {\n",
            "            \"additional_properties\": {},\n",
            "            \"code\": \"ResourceExhausted\",\n",
            "            \"inner_error\": {\n",
            "                \"additional_properties\": {},\n",
            "                \"code\": \"Timeout\",\n",
            "                \"inner_error\": {\n",
            "                    \"additional_properties\": {},\n",
            "                    \"code\": \"ExperimentTimeoutForIterations\",\n",
            "                    \"inner_error\": null\n",
            "                }\n",
            "            }\n",
            "        }\n",
            "    },\n",
            "    \"correlation\": null,\n",
            "    \"environment\": null,\n",
            "    \"location\": null,\n",
            "    \"time\": {},\n",
            "    \"component_name\": null\n",
            "}\n",
            "        36                                                  0:00:15          nan    0.9335\n",
            "ERROR: {\n",
            "    \"additional_properties\": {},\n",
            "    \"error\": {\n",
            "        \"additional_properties\": {\n",
            "            \"debugInfo\": null\n",
            "        },\n",
            "        \"code\": \"UserError\",\n",
            "        \"severity\": null,\n",
            "        \"message\": \"Experiment timeout reached, please consider increasing your experiment timeout.\",\n",
            "        \"message_format\": \"Experiment timeout reached, please consider increasing your experiment timeout.\",\n",
            "        \"message_parameters\": {},\n",
            "        \"reference_code\": null,\n",
            "        \"details_uri\": null,\n",
            "        \"target\": null,\n",
            "        \"details\": [],\n",
            "        \"inner_error\": {\n",
            "            \"additional_properties\": {},\n",
            "            \"code\": \"ResourceExhausted\",\n",
            "            \"inner_error\": {\n",
            "                \"additional_properties\": {},\n",
            "                \"code\": \"Timeout\",\n",
            "                \"inner_error\": {\n",
            "                    \"additional_properties\": {},\n",
            "                    \"code\": \"ExperimentTimeoutForIterations\",\n",
            "                    \"inner_error\": null\n",
            "                }\n",
            "            }\n",
            "        }\n",
            "    },\n",
            "    \"correlation\": null,\n",
            "    \"environment\": null,\n",
            "    \"location\": null,\n",
            "    \"time\": {},\n",
            "    \"component_name\": null\n",
            "}\n",
            "        38    StackEnsemble                                 0:19:12       0.9267    0.9442\n"
          ]
        },
        {
          "output_type": "execute_result",
          "execution_count": 8,
          "data": {
            "text/plain": "{'runId': 'AutoML_dbfdcfd4-7378-4756-b9e9-d7613df9a6be',\n 'target': 'final-cmp',\n 'status': 'Completed',\n 'startTimeUtc': '2021-03-22T19:47:48.199852Z',\n 'endTimeUtc': '2021-03-22T20:28:37.532955Z',\n 'properties': {'num_iterations': '1000',\n  'training_type': 'TrainFull',\n  'acquisition_function': 'EI',\n  'primary_metric': 'norm_macro_recall',\n  'train_split': '0',\n  'acquisition_parameter': '0',\n  'num_cross_validation': None,\n  'target': 'final-cmp',\n  'AMLSettingsJsonString': '{\"path\":null,\"name\":\"camels-clf\",\"subscription_id\":\"0c66ad45-500d-48af-80d3-0039ebf1975e\",\"resource_group\":\"final-rgp\",\"workspace_name\":\"final-ws\",\"region\":\"eastus\",\"compute_target\":\"final-cmp\",\"spark_service\":null,\"azure_service\":\"remote\",\"many_models\":false,\"pipeline_fetch_max_batch_size\":1,\"iterations\":1000,\"primary_metric\":\"norm_macro_recall\",\"task_type\":\"classification\",\"data_script\":null,\"validation_size\":0.0,\"n_cross_validations\":null,\"y_min\":null,\"y_max\":null,\"num_classes\":null,\"featurization\":\"auto\",\"_ignore_package_version_incompatibilities\":false,\"is_timeseries\":false,\"max_cores_per_iteration\":1,\"max_concurrent_iterations\":4,\"iteration_timeout_minutes\":null,\"mem_in_mb\":null,\"enforce_time_on_windows\":false,\"experiment_timeout_minutes\":15,\"experiment_exit_score\":null,\"whitelist_models\":null,\"blacklist_algos\":[\"TensorFlowLinearClassifier\",\"TensorFlowDNN\"],\"supported_models\":[\"DecisionTree\",\"GradientBoosting\",\"AveragedPerceptronClassifier\",\"LogisticRegression\",\"LightGBM\",\"MultinomialNaiveBayes\",\"ExtremeRandomTrees\",\"LinearSVM\",\"RandomForest\",\"TensorFlowDNN\",\"SGD\",\"KNN\",\"BernoulliNaiveBayes\",\"SVM\",\"TensorFlowLinearClassifier\",\"XGBoostClassifier\"],\"private_models\":[],\"auto_blacklist\":true,\"blacklist_samples_reached\":false,\"exclude_nan_labels\":true,\"verbosity\":20,\"_debug_log\":\"azureml_automl.log\",\"show_warnings\":false,\"model_explainability\":true,\"service_url\":null,\"sdk_url\":null,\"sdk_packages\":null,\"enable_onnx_compatible_models\":false,\"enable_split_onnx_featurizer_estimator_models\":false,\"vm_type\":\"STANDARD_DS2_V2\",\"telemetry_verbosity\":20,\"send_telemetry\":true,\"enable_dnn\":false,\"scenario\":\"SDK-1.13.0\",\"environment_label\":null,\"force_text_dnn\":false,\"enable_feature_sweeping\":true,\"enable_early_stopping\":true,\"early_stopping_n_iters\":10,\"metrics\":null,\"enable_ensembling\":true,\"enable_stack_ensembling\":true,\"ensemble_iterations\":15,\"enable_tf\":false,\"enable_subsampling\":null,\"subsample_seed\":null,\"enable_nimbusml\":false,\"enable_streaming\":false,\"force_streaming\":false,\"track_child_runs\":true,\"allowed_private_models\":[],\"label_column_name\":\"Target\",\"weight_column_name\":null,\"cv_split_column_names\":null,\"enable_local_managed\":false,\"_local_managed_run_id\":null,\"cost_mode\":1,\"lag_length\":0,\"metric_operation\":\"maximize\",\"preprocess\":true}',\n  'DataPrepJsonString': '{\\\\\"training_data\\\\\": \\\\\"{\\\\\\\\\\\\\"blocks\\\\\\\\\\\\\": [{\\\\\\\\\\\\\"id\\\\\\\\\\\\\": \\\\\\\\\\\\\"3b4f858c-e3e9-4129-891a-09db6e84409a\\\\\\\\\\\\\", \\\\\\\\\\\\\"type\\\\\\\\\\\\\": \\\\\\\\\\\\\"Microsoft.DPrep.GetDatastoreFilesBlock\\\\\\\\\\\\\", \\\\\\\\\\\\\"arguments\\\\\\\\\\\\\": {\\\\\\\\\\\\\"datastores\\\\\\\\\\\\\": [{\\\\\\\\\\\\\"datastoreName\\\\\\\\\\\\\": \\\\\\\\\\\\\"workspaceblobstore\\\\\\\\\\\\\", \\\\\\\\\\\\\"path\\\\\\\\\\\\\": \\\\\\\\\\\\\"UI/03-22-2021_074058_UTC/camel_data_after2010Q3.csv\\\\\\\\\\\\\", \\\\\\\\\\\\\"resourceGroup\\\\\\\\\\\\\": \\\\\\\\\\\\\"final-rgp\\\\\\\\\\\\\", \\\\\\\\\\\\\"subscription\\\\\\\\\\\\\": \\\\\\\\\\\\\"0c66ad45-500d-48af-80d3-0039ebf1975e\\\\\\\\\\\\\", \\\\\\\\\\\\\"workspaceName\\\\\\\\\\\\\": \\\\\\\\\\\\\"final-ws\\\\\\\\\\\\\"}]}, \\\\\\\\\\\\\"localData\\\\\\\\\\\\\": {}, \\\\\\\\\\\\\"isEnabled\\\\\\\\\\\\\": true, \\\\\\\\\\\\\"name\\\\\\\\\\\\\": null, \\\\\\\\\\\\\"annotation\\\\\\\\\\\\\": null}, {\\\\\\\\\\\\\"id\\\\\\\\\\\\\": \\\\\\\\\\\\\"adcd11a5-a768-41b1-8f87-2b8f04c6e414\\\\\\\\\\\\\", \\\\\\\\\\\\\"type\\\\\\\\\\\\\": \\\\\\\\\\\\\"Microsoft.DPrep.ParseDelimitedBlock\\\\\\\\\\\\\", \\\\\\\\\\\\\"arguments\\\\\\\\\\\\\": {\\\\\\\\\\\\\"columnHeadersMode\\\\\\\\\\\\\": 1, \\\\\\\\\\\\\"fileEncoding\\\\\\\\\\\\\": 0, \\\\\\\\\\\\\"handleQuotedLineBreaks\\\\\\\\\\\\\": false, \\\\\\\\\\\\\"preview\\\\\\\\\\\\\": false, \\\\\\\\\\\\\"separator\\\\\\\\\\\\\": \\\\\\\\\\\\\",\\\\\\\\\\\\\", \\\\\\\\\\\\\"skipRows\\\\\\\\\\\\\": 0, \\\\\\\\\\\\\"skipRowsMode\\\\\\\\\\\\\": 0}, \\\\\\\\\\\\\"localData\\\\\\\\\\\\\": {}, \\\\\\\\\\\\\"isEnabled\\\\\\\\\\\\\": true, \\\\\\\\\\\\\"name\\\\\\\\\\\\\": null, \\\\\\\\\\\\\"annotation\\\\\\\\\\\\\": null}, {\\\\\\\\\\\\\"id\\\\\\\\\\\\\": \\\\\\\\\\\\\"5050a055-3c1c-4017-bb96-bba33d2e05c0\\\\\\\\\\\\\", \\\\\\\\\\\\\"type\\\\\\\\\\\\\": \\\\\\\\\\\\\"Microsoft.DPrep.DropColumnsBlock\\\\\\\\\\\\\", \\\\\\\\\\\\\"arguments\\\\\\\\\\\\\": {\\\\\\\\\\\\\"columns\\\\\\\\\\\\\": {\\\\\\\\\\\\\"type\\\\\\\\\\\\\": 0, \\\\\\\\\\\\\"details\\\\\\\\\\\\\": {\\\\\\\\\\\\\"selectedColumns\\\\\\\\\\\\\": [\\\\\\\\\\\\\"Path\\\\\\\\\\\\\", \\\\\\\\\\\\\"Column1\\\\\\\\\\\\\", \\\\\\\\\\\\\"AsOfDate\\\\\\\\\\\\\"]}}}, \\\\\\\\\\\\\"localData\\\\\\\\\\\\\": {}, \\\\\\\\\\\\\"isEnabled\\\\\\\\\\\\\": true, \\\\\\\\\\\\\"name\\\\\\\\\\\\\": null, \\\\\\\\\\\\\"annotation\\\\\\\\\\\\\": null}, {\\\\\\\\\\\\\"id\\\\\\\\\\\\\": \\\\\\\\\\\\\"112c2df8-aa59-4f20-89d8-0188c2ef6725\\\\\\\\\\\\\", \\\\\\\\\\\\\"type\\\\\\\\\\\\\": \\\\\\\\\\\\\"Microsoft.DPrep.SetColumnTypesBlock\\\\\\\\\\\\\", \\\\\\\\\\\\\"arguments\\\\\\\\\\\\\": {\\\\\\\\\\\\\"columnConversion\\\\\\\\\\\\\": [{\\\\\\\\\\\\\"column\\\\\\\\\\\\\": {\\\\\\\\\\\\\"type\\\\\\\\\\\\\": 2, \\\\\\\\\\\\\"details\\\\\\\\\\\\\": {\\\\\\\\\\\\\"selectedColumn\\\\\\\\\\\\\": \\\\\\\\\\\\\"Path\\\\\\\\\\\\\"}}, \\\\\\\\\\\\\"typeProperty\\\\\\\\\\\\\": 0}, {\\\\\\\\\\\\\"column\\\\\\\\\\\\\": {\\\\\\\\\\\\\"type\\\\\\\\\\\\\": 2, \\\\\\\\\\\\\"details\\\\\\\\\\\\\": {\\\\\\\\\\\\\"selectedColumn\\\\\\\\\\\\\": \\\\\\\\\\\\\"Column1\\\\\\\\\\\\\"}}, \\\\\\\\\\\\\"typeProperty\\\\\\\\\\\\\": 2}, {\\\\\\\\\\\\\"column\\\\\\\\\\\\\": {\\\\\\\\\\\\\"type\\\\\\\\\\\\\": 2, \\\\\\\\\\\\\"details\\\\\\\\\\\\\": {\\\\\\\\\\\\\"selectedColumn\\\\\\\\\\\\\": \\\\\\\\\\\\\"AsOfDate\\\\\\\\\\\\\"}}, \\\\\\\\\\\\\"typeArguments\\\\\\\\\\\\\": {\\\\\\\\\\\\\"dateTimeFormats\\\\\\\\\\\\\": [\\\\\\\\\\\\\"%m/%d/%Y\\\\\\\\\\\\\"]}, \\\\\\\\\\\\\"typeProperty\\\\\\\\\\\\\": 4}, {\\\\\\\\\\\\\"column\\\\\\\\\\\\\": {\\\\\\\\\\\\\"type\\\\\\\\\\\\\": 2, \\\\\\\\\\\\\"details\\\\\\\\\\\\\": {\\\\\\\\\\\\\"selectedColumn\\\\\\\\\\\\\": \\\\\\\\\\\\\"Target\\\\\\\\\\\\\"}}, \\\\\\\\\\\\\"typeProperty\\\\\\\\\\\\\": 2}, {\\\\\\\\\\\\\"column\\\\\\\\\\\\\": {\\\\\\\\\\\\\"type\\\\\\\\\\\\\": 2, \\\\\\\\\\\\\"details\\\\\\\\\\\\\": {\\\\\\\\\\\\\"selectedColumn\\\\\\\\\\\\\": \\\\\\\\\\\\\"EQTA\\\\\\\\\\\\\"}}, \\\\\\\\\\\\\"typeProperty\\\\\\\\\\\\\": 3}, {\\\\\\\\\\\\\"column\\\\\\\\\\\\\": {\\\\\\\\\\\\\"type\\\\\\\\\\\\\": 2, \\\\\\\\\\\\\"details\\\\\\\\\\\\\": {\\\\\\\\\\\\\"selectedColumn\\\\\\\\\\\\\": \\\\\\\\\\\\\"EQTL\\\\\\\\\\\\\"}}, \\\\\\\\\\\\\"typeProperty\\\\\\\\\\\\\": 3}, {\\\\\\\\\\\\\"column\\\\\\\\\\\\\": {\\\\\\\\\\\\\"type\\\\\\\\\\\\\": 2, \\\\\\\\\\\\\"details\\\\\\\\\\\\\": {\\\\\\\\\\\\\"selectedColumn\\\\\\\\\\\\\": \\\\\\\\\\\\\"LLRTA\\\\\\\\\\\\\"}}, \\\\\\\\\\\\\"typeProperty\\\\\\\\\\\\\": 3}, {\\\\\\\\\\\\\"column\\\\\\\\\\\\\": {\\\\\\\\\\\\\"type\\\\\\\\\\\\\": 2, \\\\\\\\\\\\\"details\\\\\\\\\\\\\": {\\\\\\\\\\\\\"selectedColumn\\\\\\\\\\\\\": \\\\\\\\\\\\\"LLRGL\\\\\\\\\\\\\"}}, \\\\\\\\\\\\\"typeProperty\\\\\\\\\\\\\": 3}, {\\\\\\\\\\\\\"column\\\\\\\\\\\\\": {\\\\\\\\\\\\\"type\\\\\\\\\\\\\": 2, \\\\\\\\\\\\\"details\\\\\\\\\\\\\": {\\\\\\\\\\\\\"selectedColumn\\\\\\\\\\\\\": \\\\\\\\\\\\\"OEXTA\\\\\\\\\\\\\"}}, \\\\\\\\\\\\\"typeProperty\\\\\\\\\\\\\": 3}, {\\\\\\\\\\\\\"column\\\\\\\\\\\\\": {\\\\\\\\\\\\\"type\\\\\\\\\\\\\": 2, \\\\\\\\\\\\\"details\\\\\\\\\\\\\": {\\\\\\\\\\\\\"selectedColumn\\\\\\\\\\\\\": \\\\\\\\\\\\\"INCEMP\\\\\\\\\\\\\"}}, \\\\\\\\\\\\\"typeProperty\\\\\\\\\\\\\": 3}, {\\\\\\\\\\\\\"column\\\\\\\\\\\\\": {\\\\\\\\\\\\\"type\\\\\\\\\\\\\": 2, \\\\\\\\\\\\\"details\\\\\\\\\\\\\": {\\\\\\\\\\\\\"selectedColumn\\\\\\\\\\\\\": \\\\\\\\\\\\\"ROA\\\\\\\\\\\\\"}}, \\\\\\\\\\\\\"typeProperty\\\\\\\\\\\\\": 3}, {\\\\\\\\\\\\\"column\\\\\\\\\\\\\": {\\\\\\\\\\\\\"type\\\\\\\\\\\\\": 2, \\\\\\\\\\\\\"details\\\\\\\\\\\\\": {\\\\\\\\\\\\\"selectedColumn\\\\\\\\\\\\\": \\\\\\\\\\\\\"ROE\\\\\\\\\\\\\"}}, \\\\\\\\\\\\\"typeProperty\\\\\\\\\\\\\": 3}, {\\\\\\\\\\\\\"column\\\\\\\\\\\\\": {\\\\\\\\\\\\\"type\\\\\\\\\\\\\": 2, \\\\\\\\\\\\\"details\\\\\\\\\\\\\": {\\\\\\\\\\\\\"selectedColumn\\\\\\\\\\\\\": \\\\\\\\\\\\\"TDTL\\\\\\\\\\\\\"}}, \\\\\\\\\\\\\"typeProperty\\\\\\\\\\\\\": 3}, {\\\\\\\\\\\\\"column\\\\\\\\\\\\\": {\\\\\\\\\\\\\"type\\\\\\\\\\\\\": 2, \\\\\\\\\\\\\"details\\\\\\\\\\\\\": {\\\\\\\\\\\\\"selectedColumn\\\\\\\\\\\\\": \\\\\\\\\\\\\"TDTA\\\\\\\\\\\\\"}}, \\\\\\\\\\\\\"typeProperty\\\\\\\\\\\\\": 3}, {\\\\\\\\\\\\\"column\\\\\\\\\\\\\": {\\\\\\\\\\\\\"type\\\\\\\\\\\\\": 2, \\\\\\\\\\\\\"details\\\\\\\\\\\\\": {\\\\\\\\\\\\\"selectedColumn\\\\\\\\\\\\\": \\\\\\\\\\\\\"TATA\\\\\\\\\\\\\"}}, \\\\\\\\\\\\\"typeProperty\\\\\\\\\\\\\": 3}]}, \\\\\\\\\\\\\"localData\\\\\\\\\\\\\": {}, \\\\\\\\\\\\\"isEnabled\\\\\\\\\\\\\": true, \\\\\\\\\\\\\"name\\\\\\\\\\\\\": null, \\\\\\\\\\\\\"annotation\\\\\\\\\\\\\": null}], \\\\\\\\\\\\\"inspectors\\\\\\\\\\\\\": [], \\\\\\\\\\\\\"meta\\\\\\\\\\\\\": {\\\\\\\\\\\\\"savedDatasetId\\\\\\\\\\\\\": \\\\\\\\\\\\\"43eb7172-b089-4865-b5b7-4b07d79e8bd0\\\\\\\\\\\\\", \\\\\\\\\\\\\"datasetType\\\\\\\\\\\\\": \\\\\\\\\\\\\"tabular\\\\\\\\\\\\\", \\\\\\\\\\\\\"subscriptionId\\\\\\\\\\\\\": \\\\\\\\\\\\\"0c66ad45-500d-48af-80d3-0039ebf1975e\\\\\\\\\\\\\", \\\\\\\\\\\\\"workspaceId\\\\\\\\\\\\\": \\\\\\\\\\\\\"5f2d671b-df42-47ff-af2f-d74f27ad4dde\\\\\\\\\\\\\", \\\\\\\\\\\\\"workspaceLocation\\\\\\\\\\\\\": \\\\\\\\\\\\\"eastus\\\\\\\\\\\\\"}}\\\\\", \\\\\"activities\\\\\": 0}',\n  'EnableSubsampling': None,\n  'runTemplate': 'AutoML',\n  'azureml.runsource': 'automl',\n  'display_task_type': 'classification',\n  'dependencies_versions': '{\"azureml-widgets\": \"1.22.0\", \"azureml-train\": \"1.22.0\", \"azureml-train-restclients-hyperdrive\": \"1.22.0\", \"azureml-train-core\": \"1.22.0\", \"azureml-train-automl\": \"1.22.0\", \"azureml-train-automl-runtime\": \"1.22.0\", \"azureml-train-automl-client\": \"1.22.0\", \"azureml-tensorboard\": \"1.22.0\", \"azureml-telemetry\": \"1.22.0\", \"azureml-sdk\": \"1.22.0\", \"azureml-samples\": \"0+unknown\", \"azureml-pipeline\": \"1.22.0\", \"azureml-pipeline-steps\": \"1.22.0\", \"azureml-pipeline-core\": \"1.22.0\", \"azureml-opendatasets\": \"1.22.0\", \"azureml-model-management-sdk\": \"1.0.1b6.post1\", \"azureml-mlflow\": \"1.22.0\", \"azureml-interpret\": \"1.22.0\", \"azureml-explain-model\": \"1.22.0\", \"azureml-defaults\": \"1.22.0\", \"azureml-dataset-runtime\": \"1.22.0\", \"azureml-dataprep\": \"2.9.1\", \"azureml-dataprep-rslex\": \"1.7.0\", \"azureml-dataprep-native\": \"29.0.0\", \"azureml-datadrift\": \"1.22.0\", \"azureml-core\": \"1.22.0\", \"azureml-contrib-services\": \"1.22.0\", \"azureml-contrib-server\": \"1.22.0\", \"azureml-contrib-reinforcementlearning\": \"1.22.0\", \"azureml-contrib-pipeline-steps\": \"1.22.0\", \"azureml-contrib-notebook\": \"1.22.0\", \"azureml-contrib-interpret\": \"1.22.0\", \"azureml-contrib-gbdt\": \"1.22.0\", \"azureml-contrib-fairness\": \"1.22.0\", \"azureml-contrib-dataset\": \"1.22.0\", \"azureml-cli-common\": \"1.22.0\", \"azureml-automl-runtime\": \"1.22.0\", \"azureml-automl-core\": \"1.22.0\", \"azureml-accel-models\": \"1.22.0\"}',\n  '_aml_system_scenario_identification': 'Remote.Parent',\n  'ClientType': 'SDK',\n  'environment_cpu_name': 'AzureML-AutoML',\n  'environment_cpu_label': 'prod',\n  'environment_gpu_name': 'AzureML-AutoML-GPU',\n  'environment_gpu_label': 'prod',\n  'root_attribution': 'automl',\n  'attribution': 'AutoML',\n  'Orchestrator': 'AutoML',\n  'CancelUri': 'https://eastus.experiments.azureml.net/jasmine/v1.0/subscriptions/0c66ad45-500d-48af-80d3-0039ebf1975e/resourceGroups/final-rgp/providers/Microsoft.MachineLearningServices/workspaces/final-ws/experimentids/b86bab09-1296-418d-b16b-860e8f8360ff/cancel/AutoML_dbfdcfd4-7378-4756-b9e9-d7613df9a6be',\n  'ClientSdkVersion': '1.24.0',\n  'snapshotId': '00000000-0000-0000-0000-000000000000',\n  'SetupRunId': 'AutoML_dbfdcfd4-7378-4756-b9e9-d7613df9a6be_setup',\n  'SetupRunContainerId': 'dcid.AutoML_dbfdcfd4-7378-4756-b9e9-d7613df9a6be_setup',\n  'FeaturizationRunJsonPath': 'featurizer_container.json',\n  'FeaturizationRunId': 'AutoML_dbfdcfd4-7378-4756-b9e9-d7613df9a6be_featurize',\n  'ProblemInfoJsonString': '{\"dataset_num_categorical\": 0, \"is_sparse\": false, \"subsampling\": false, \"dataset_classes\": 2, \"dataset_features\": 11, \"dataset_samples\": 7020, \"single_frequency_class_detected\": false}',\n  'ModelExplainRunId': 'AutoML_dbfdcfd4-7378-4756-b9e9-d7613df9a6be_ModelExplain'},\n 'inputDatasets': [{'dataset': {'id': '43eb7172-b089-4865-b5b7-4b07d79e8bd0'}, 'consumptionDetails': {'type': 'RunInput', 'inputName': 'training_data', 'mechanism': 'Direct'}}],\n 'outputDatasets': [],\n 'logFiles': {},\n 'submittedBy': 'Dmitry Mikhaylov'}"
          },
          "metadata": {}
        }
      ],
      "execution_count": 8,
      "metadata": {
        "gather": {
          "logged": 1616444923747
        },
        "jupyter": {
          "outputs_hidden": false,
          "source_hidden": false
        },
        "nteract": {
          "transient": {
            "deleting": false
          }
        }
      }
    },
    {
      "cell_type": "code",
      "source": [
        "print(\"Run Status: \",remote_run.get_status())"
      ],
      "outputs": [
        {
          "output_type": "stream",
          "name": "stdout",
          "text": [
            "Run Status:  Completed\n"
          ]
        }
      ],
      "execution_count": 120,
      "metadata": {
        "gather": {
          "logged": 1616453850074
        }
      }
    },
    {
      "cell_type": "markdown",
      "source": [
        "## Best Model\n",
        "\n",
        "TODO: In the cell below, get the best model from the automl experiments and display all the properties of the model.\n",
        "\n"
      ],
      "metadata": {}
    },
    {
      "cell_type": "code",
      "source": [
        "best_run, fitted_model = remote_run.get_output()\n"
      ],
      "outputs": [
        {
          "output_type": "stream",
          "name": "stderr",
          "text": [
            "WARNING:root:The version of the SDK does not match the version the model was trained on.\n",
            "WARNING:root:The consistency in the result may not be guaranteed.\n",
            "WARNING:root:Package:azureml-automl-core, training version:1.24.0, current version:1.22.0\n",
            "Package:azureml-automl-runtime, training version:1.24.0, current version:1.22.0\n",
            "Package:azureml-core, training version:1.24.0.post1, current version:1.22.0\n",
            "Package:azureml-dataprep, training version:2.11.2, current version:2.9.1\n",
            "Package:azureml-dataprep-native, training version:30.0.0, current version:29.0.0\n",
            "Package:azureml-dataprep-rslex, training version:1.9.1, current version:1.7.0\n",
            "Package:azureml-dataset-runtime, training version:1.24.0, current version:1.22.0\n",
            "Package:azureml-defaults, training version:1.24.0, current version:1.22.0\n",
            "Package:azureml-interpret, training version:1.24.0, current version:1.22.0\n",
            "Package:azureml-mlflow, training version:1.24.0, current version:1.22.0\n",
            "Package:azureml-pipeline-core, training version:1.24.0, current version:1.22.0\n",
            "Package:azureml-telemetry, training version:1.24.0, current version:1.22.0\n",
            "Package:azureml-train-automl-client, training version:1.24.0, current version:1.22.0\n",
            "Package:azureml-train-automl-runtime, training version:1.24.0, current version:1.22.0\n",
            "WARNING:root:Please ensure the version of your local conda dependencies match the version on which your model was trained in order to properly retrieve your model.\n"
          ]
        }
      ],
      "execution_count": 104,
      "metadata": {
        "gather": {
          "logged": 1616452943230
        },
        "jupyter": {
          "outputs_hidden": false,
          "source_hidden": false
        },
        "nteract": {
          "transient": {
            "deleting": false
          }
        }
      }
    },
    {
      "cell_type": "code",
      "source": [
        "fitted_model._final_estimator"
      ],
      "outputs": [
        {
          "output_type": "execute_result",
          "execution_count": 105,
          "data": {
            "text/plain": "PreFittedSoftVotingClassifier(classification_labels=None,\n                              estimators=[('25',\n                                           Pipeline(memory=None,\n                                                    steps=[('standardscalerwrapper',\n                                                            <azureml.automl.runtime.shared.model_wrappers.StandardScalerWrapper object at 0x7f320c1d0470>),\n                                                           ('logisticregression',\n                                                            LogisticRegression(C=0.040949150623804234,\n                                                                               class_weight='balanced',\n                                                                               dual=False,\n                                                                               fit_intercept=True,\n                                                                               intercept_sc...\n                                                                                   max_leaf_nodes=None,\n                                                                                   max_samples=None,\n                                                                                   min_impurity_decrease=0.0,\n                                                                                   min_impurity_split=None,\n                                                                                   min_samples_leaf=0.08736842105263157,\n                                                                                   min_samples_split=0.6657894736842105,\n                                                                                   min_weight_fraction_leaf=0.0,\n                                                                                   n_estimators=200,\n                                                                                   n_jobs=1,\n                                                                                   oob_score=False,\n                                                                                   random_state=None,\n                                                                                   verbose=0,\n                                                                                   warm_start=False))],\n                                                    verbose=False))],\n                              flatten_transform=None,\n                              weights=[0.125, 0.125, 0.125, 0.125, 0.125,\n                                       0.375])"
          },
          "metadata": {}
        }
      ],
      "execution_count": 105,
      "metadata": {
        "gather": {
          "logged": 1616452947887
        }
      }
    },
    {
      "cell_type": "code",
      "source": [
        "# Save the best model\n",
        "joblib.dump(value=fitted_model, filename=\"fitted_automl_model.joblib\")"
      ],
      "outputs": [
        {
          "output_type": "execute_result",
          "execution_count": 151,
          "data": {
            "text/plain": "['fitted_automl_model.joblib']"
          },
          "metadata": {}
        }
      ],
      "execution_count": 151,
      "metadata": {
        "collapsed": true,
        "jupyter": {
          "source_hidden": false,
          "outputs_hidden": false
        },
        "nteract": {
          "transient": {
            "deleting": false
          }
        },
        "gather": {
          "logged": 1616506899776
        }
      }
    },
    {
      "cell_type": "code",
      "source": [
        "m = joblib.load('fitted_automl_model.joblib')"
      ],
      "outputs": [],
      "execution_count": 157,
      "metadata": {
        "collapsed": true,
        "jupyter": {
          "source_hidden": false,
          "outputs_hidden": false
        },
        "nteract": {
          "transient": {
            "deleting": false
          }
        },
        "gather": {
          "logged": 1616507753277
        }
      }
    },
    {
      "cell_type": "code",
      "source": [
        "ds = dataset.to_pandas_dataframe()\n",
        "sample = ds.loc[df['Target']==1].sample(100)\n",
        "y = sample.pop('Target')\n",
        "sample.head()"
      ],
      "outputs": [
        {
          "output_type": "execute_result",
          "execution_count": 180,
          "data": {
            "text/plain": "    Column2  EQTA  EQTL  LLRTA  LLRGL  OEXTA  INCEMP   ROA   ROE  TDTL  TDTA  \\\n71    57315  0.03  0.04   0.03   0.04   0.01   -9.86 -0.00 -0.11  1.10  0.92   \n30    57399  0.02  0.04   0.01   0.02   0.03 -144.83 -0.02 -0.96  1.57  0.94   \n1      3287  0.08  0.19   0.00   0.01   0.02   20.90  0.00  0.05  2.21  0.91   \n68    35517  0.03  0.04   0.03   0.03   0.01   -2.12 -0.00 -0.01  0.97  0.87   \n116   21777  0.03  0.04   0.05   0.07   0.04 -124.49 -0.04 -1.28  1.24  0.91   \n\n     TATA  \n71   0.03  \n30   0.07  \n1    0.36  \n68   0.03  \n116  0.13  ",
            "text/html": "<div>\n<style scoped>\n    .dataframe tbody tr th:only-of-type {\n        vertical-align: middle;\n    }\n\n    .dataframe tbody tr th {\n        vertical-align: top;\n    }\n\n    .dataframe thead th {\n        text-align: right;\n    }\n</style>\n<table border=\"1\" class=\"dataframe\">\n  <thead>\n    <tr style=\"text-align: right;\">\n      <th></th>\n      <th>Column2</th>\n      <th>EQTA</th>\n      <th>EQTL</th>\n      <th>LLRTA</th>\n      <th>LLRGL</th>\n      <th>OEXTA</th>\n      <th>INCEMP</th>\n      <th>ROA</th>\n      <th>ROE</th>\n      <th>TDTL</th>\n      <th>TDTA</th>\n      <th>TATA</th>\n    </tr>\n  </thead>\n  <tbody>\n    <tr>\n      <th>71</th>\n      <td>57315</td>\n      <td>0.03</td>\n      <td>0.04</td>\n      <td>0.03</td>\n      <td>0.04</td>\n      <td>0.01</td>\n      <td>-9.86</td>\n      <td>-0.00</td>\n      <td>-0.11</td>\n      <td>1.10</td>\n      <td>0.92</td>\n      <td>0.03</td>\n    </tr>\n    <tr>\n      <th>30</th>\n      <td>57399</td>\n      <td>0.02</td>\n      <td>0.04</td>\n      <td>0.01</td>\n      <td>0.02</td>\n      <td>0.03</td>\n      <td>-144.83</td>\n      <td>-0.02</td>\n      <td>-0.96</td>\n      <td>1.57</td>\n      <td>0.94</td>\n      <td>0.07</td>\n    </tr>\n    <tr>\n      <th>1</th>\n      <td>3287</td>\n      <td>0.08</td>\n      <td>0.19</td>\n      <td>0.00</td>\n      <td>0.01</td>\n      <td>0.02</td>\n      <td>20.90</td>\n      <td>0.00</td>\n      <td>0.05</td>\n      <td>2.21</td>\n      <td>0.91</td>\n      <td>0.36</td>\n    </tr>\n    <tr>\n      <th>68</th>\n      <td>35517</td>\n      <td>0.03</td>\n      <td>0.04</td>\n      <td>0.03</td>\n      <td>0.03</td>\n      <td>0.01</td>\n      <td>-2.12</td>\n      <td>-0.00</td>\n      <td>-0.01</td>\n      <td>0.97</td>\n      <td>0.87</td>\n      <td>0.03</td>\n    </tr>\n    <tr>\n      <th>116</th>\n      <td>21777</td>\n      <td>0.03</td>\n      <td>0.04</td>\n      <td>0.05</td>\n      <td>0.07</td>\n      <td>0.04</td>\n      <td>-124.49</td>\n      <td>-0.04</td>\n      <td>-1.28</td>\n      <td>1.24</td>\n      <td>0.91</td>\n      <td>0.13</td>\n    </tr>\n  </tbody>\n</table>\n</div>"
          },
          "metadata": {}
        }
      ],
      "execution_count": 180,
      "metadata": {
        "collapsed": true,
        "jupyter": {
          "source_hidden": false,
          "outputs_hidden": false
        },
        "nteract": {
          "transient": {
            "deleting": false
          }
        },
        "gather": {
          "logged": 1616508475922
        }
      }
    },
    {
      "cell_type": "code",
      "source": [
        "print(m.predict(sample))"
      ],
      "outputs": [
        {
          "output_type": "stream",
          "name": "stdout",
          "text": [
            "[1 1 0 1 1 1 1 1 1 1 1 1 1 1 1 1 1 1 1 1 1 1 1 1 1 1 1 1 1 1 1 1 1 1 1 1 1\n",
            " 1 1 1 1 1 1 1 1 1 1 1 1 1 1 1 1 1 1 1 1 1 1 1 1 1 1 1 0 1 1 1 1 1 1 1 1 1\n",
            " 1 1 1 1 1 1 1 1 1 1 1 1 1 1 1 1 1 1 1 1 1 1 1 1 1 1]\n"
          ]
        }
      ],
      "execution_count": 181,
      "metadata": {
        "collapsed": true,
        "jupyter": {
          "source_hidden": false,
          "outputs_hidden": false
        },
        "nteract": {
          "transient": {
            "deleting": false
          }
        },
        "gather": {
          "logged": 1616508479963
        }
      }
    },
    {
      "cell_type": "markdown",
      "source": [
        "## Model Deployment\n",
        "\n",
        "Remember you have to deploy only one of the two models you trained.. Perform the steps in the rest of this notebook only if you wish to deploy this model.\n",
        "\n",
        "TODO: In the cell below, register the model, create an inference config and deploy the model as a web service."
      ],
      "metadata": {}
    },
    {
      "cell_type": "code",
      "source": [
        "\n",
        "automl_model = remote_run.register_model(model_name='automl_model.pkl')\n"
      ],
      "outputs": [],
      "execution_count": 165,
      "metadata": {
        "gather": {
          "logged": 1616508014470
        },
        "jupyter": {
          "outputs_hidden": false,
          "source_hidden": false
        },
        "nteract": {
          "transient": {
            "deleting": false
          }
        }
      }
    },
    {
      "cell_type": "markdown",
      "source": [
        "### Create inference config"
      ],
      "metadata": {}
    },
    {
      "cell_type": "code",
      "source": [
        "environment = best_run.get_environment()\n",
        "entry_script='inference/scoring.py'\n",
        "best_run.download_file('outputs/scoring_file_v_1_0_0.py', entry_script)\n",
        "inference_config = InferenceConfig(entry_script = entry_script, environment = environment) "
      ],
      "outputs": [],
      "execution_count": 152,
      "metadata": {
        "gather": {
          "logged": 1616506929223
        }
      }
    },
    {
      "cell_type": "markdown",
      "source": [
        "### Deploy the model as web service"
      ],
      "metadata": {}
    },
    {
      "cell_type": "code",
      "source": [
        "deployment_config = AciWebservice.deploy_configuration(cpu_cores = 1, \n",
        "                                                    memory_gb = 1, \n",
        "                                                    auth_enabled= True, \n",
        "                                                    enable_app_insights= True)\n",
        "\n",
        "service = Model.deploy(ws, \"aciservice\", [automl_model], inference_config, deployment_config)\n",
        "service.wait_for_deployment(show_output = True)\n"
      ],
      "outputs": [
        {
          "output_type": "error",
          "ename": "WebserviceException",
          "evalue": "WebserviceException:\n\tMessage: Service aciservice with the same name already exists, please use a different service name or delete the existing service.\n\tInnerException None\n\tErrorResponse \n{\n    \"error\": {\n        \"message\": \"Service aciservice with the same name already exists, please use a different service name or delete the existing service.\"\n    }\n}",
          "traceback": [
            "\u001b[0;31m---------------------------------------------------------------------------\u001b[0m",
            "\u001b[0;31mWebserviceException\u001b[0m                       Traceback (most recent call last)",
            "\u001b[0;32m<ipython-input-182-564602193650>\u001b[0m in \u001b[0;36m<module>\u001b[0;34m\u001b[0m\n\u001b[1;32m      4\u001b[0m                                                     enable_app_insights= True)\n\u001b[1;32m      5\u001b[0m \u001b[0;34m\u001b[0m\u001b[0m\n\u001b[0;32m----> 6\u001b[0;31m \u001b[0mservice\u001b[0m \u001b[0;34m=\u001b[0m \u001b[0mModel\u001b[0m\u001b[0;34m.\u001b[0m\u001b[0mdeploy\u001b[0m\u001b[0;34m(\u001b[0m\u001b[0mws\u001b[0m\u001b[0;34m,\u001b[0m \u001b[0;34m\"aciservice\"\u001b[0m\u001b[0;34m,\u001b[0m \u001b[0;34m[\u001b[0m\u001b[0mautoml_model\u001b[0m\u001b[0;34m]\u001b[0m\u001b[0;34m,\u001b[0m \u001b[0minference_config\u001b[0m\u001b[0;34m,\u001b[0m \u001b[0mdeployment_config\u001b[0m\u001b[0;34m)\u001b[0m\u001b[0;34m\u001b[0m\u001b[0;34m\u001b[0m\u001b[0m\n\u001b[0m\u001b[1;32m      7\u001b[0m \u001b[0mservice\u001b[0m\u001b[0;34m.\u001b[0m\u001b[0mwait_for_deployment\u001b[0m\u001b[0;34m(\u001b[0m\u001b[0mshow_output\u001b[0m \u001b[0;34m=\u001b[0m \u001b[0;32mTrue\u001b[0m\u001b[0;34m)\u001b[0m\u001b[0;34m\u001b[0m\u001b[0;34m\u001b[0m\u001b[0m\n",
            "\u001b[0;32m/anaconda/envs/azureml_py36/lib/python3.6/site-packages/azureml/core/model.py\u001b[0m in \u001b[0;36mdeploy\u001b[0;34m(workspace, name, models, inference_config, deployment_config, deployment_target, overwrite)\u001b[0m\n\u001b[1;32m   1622\u001b[0m         \u001b[0;32mif\u001b[0m \u001b[0muse_env_path\u001b[0m\u001b[0;34m:\u001b[0m\u001b[0;34m\u001b[0m\u001b[0;34m\u001b[0m\u001b[0m\n\u001b[1;32m   1623\u001b[0m             return Model._deploy_with_environment(workspace, name, models, inference_config, deployment_config,\n\u001b[0;32m-> 1624\u001b[0;31m                                                   deployment_target, overwrite)\n\u001b[0m\u001b[1;32m   1625\u001b[0m \u001b[0;34m\u001b[0m\u001b[0m\n\u001b[1;32m   1626\u001b[0m         \u001b[0;31m# ContainerImage-based webservice.\u001b[0m\u001b[0;34m\u001b[0m\u001b[0;34m\u001b[0m\u001b[0;34m\u001b[0m\u001b[0m\n",
            "\u001b[0;32m/anaconda/envs/azureml_py36/lib/python3.6/site-packages/azureml/core/model.py\u001b[0m in \u001b[0;36m_deploy_with_environment\u001b[0;34m(workspace, name, models, inference_config, deployment_config, deployment_target, overwrite)\u001b[0m\n\u001b[1;32m   1822\u001b[0m \u001b[0;34m\u001b[0m\u001b[0m\n\u001b[1;32m   1823\u001b[0m         return Model._deploy_with_environment_image_request(workspace, name, environment_image_request,\n\u001b[0;32m-> 1824\u001b[0;31m                                                             deployment_config, deployment_target, overwrite)\n\u001b[0m\u001b[1;32m   1825\u001b[0m \u001b[0;34m\u001b[0m\u001b[0m\n\u001b[1;32m   1826\u001b[0m     \u001b[0;34m@\u001b[0m\u001b[0mstaticmethod\u001b[0m\u001b[0;34m\u001b[0m\u001b[0;34m\u001b[0m\u001b[0m\n",
            "\u001b[0;32m/anaconda/envs/azureml_py36/lib/python3.6/site-packages/azureml/core/model.py\u001b[0m in \u001b[0;36m_deploy_with_environment_image_request\u001b[0;34m(workspace, name, environment_image_request, deployment_config, deployment_target, overwrite)\u001b[0m\n\u001b[1;32m   1866\u001b[0m             \u001b[0mwebservice_payload\u001b[0m\u001b[0;34m[\u001b[0m\u001b[0;34m'computeName'\u001b[0m\u001b[0;34m]\u001b[0m \u001b[0;34m=\u001b[0m \u001b[0mdeployment_target\u001b[0m\u001b[0;34m.\u001b[0m\u001b[0mname\u001b[0m\u001b[0;34m\u001b[0m\u001b[0;34m\u001b[0m\u001b[0m\n\u001b[1;32m   1867\u001b[0m \u001b[0;34m\u001b[0m\u001b[0m\n\u001b[0;32m-> 1868\u001b[0;31m         \u001b[0;32mreturn\u001b[0m \u001b[0mWebservice\u001b[0m\u001b[0;34m.\u001b[0m\u001b[0m_deploy_webservice\u001b[0m\u001b[0;34m(\u001b[0m\u001b[0mworkspace\u001b[0m\u001b[0;34m,\u001b[0m \u001b[0mname\u001b[0m\u001b[0;34m,\u001b[0m \u001b[0mwebservice_payload\u001b[0m\u001b[0;34m,\u001b[0m \u001b[0moverwrite\u001b[0m\u001b[0;34m,\u001b[0m \u001b[0mwebservice_class\u001b[0m\u001b[0;34m)\u001b[0m\u001b[0;34m\u001b[0m\u001b[0;34m\u001b[0m\u001b[0m\n\u001b[0m\u001b[1;32m   1869\u001b[0m \u001b[0;34m\u001b[0m\u001b[0m\n\u001b[1;32m   1870\u001b[0m     \u001b[0;32mdef\u001b[0m \u001b[0mget_sas_urls\u001b[0m\u001b[0;34m(\u001b[0m\u001b[0mself\u001b[0m\u001b[0;34m)\u001b[0m\u001b[0;34m:\u001b[0m\u001b[0;34m\u001b[0m\u001b[0;34m\u001b[0m\u001b[0m\n",
            "\u001b[0;32m/anaconda/envs/azureml_py36/lib/python3.6/site-packages/azureml/core/webservice/webservice.py\u001b[0m in \u001b[0;36m_deploy_webservice\u001b[0;34m(workspace, name, webservice_payload, overwrite, webservice_class)\u001b[0m\n\u001b[1;32m    822\u001b[0m         \"\"\"\n\u001b[1;32m    823\u001b[0m         \u001b[0;31m# TODO Remove check_for_existing_webservice() later, this check has already included in common validation.\u001b[0m\u001b[0;34m\u001b[0m\u001b[0;34m\u001b[0m\u001b[0;34m\u001b[0m\u001b[0m\n\u001b[0;32m--> 824\u001b[0;31m         \u001b[0mWebservice\u001b[0m\u001b[0;34m.\u001b[0m\u001b[0mcheck_for_existing_webservice\u001b[0m\u001b[0;34m(\u001b[0m\u001b[0mworkspace\u001b[0m\u001b[0;34m,\u001b[0m \u001b[0mname\u001b[0m\u001b[0;34m,\u001b[0m \u001b[0moverwrite\u001b[0m\u001b[0;34m)\u001b[0m\u001b[0;34m\u001b[0m\u001b[0;34m\u001b[0m\u001b[0m\n\u001b[0m\u001b[1;32m    825\u001b[0m         Webservice._check_for_webservice(workspace, name, Webservice._get_deploy_compute_type(webservice_payload),\n\u001b[1;32m    826\u001b[0m                                          webservice_payload, SERVICE_REQUEST_OPERATION_CREATE)\n",
            "\u001b[0;32m/anaconda/envs/azureml_py36/lib/python3.6/site-packages/azureml/core/webservice/webservice.py\u001b[0m in \u001b[0;36mcheck_for_existing_webservice\u001b[0;34m(workspace, name, overwrite, request_func, check_func)\u001b[0m\n\u001b[1;32m    665\u001b[0m                 \u001b[0;32mreturn\u001b[0m \u001b[0mWebservice\u001b[0m\u001b[0;34m.\u001b[0m\u001b[0m_check_validate_error\u001b[0m\u001b[0;34m(\u001b[0m\u001b[0mcontent\u001b[0m\u001b[0;34m)\u001b[0m\u001b[0;34m\u001b[0m\u001b[0;34m\u001b[0m\u001b[0m\n\u001b[1;32m    666\u001b[0m \u001b[0;34m\u001b[0m\u001b[0m\n\u001b[0;32m--> 667\u001b[0;31m         \u001b[0mWebservice\u001b[0m\u001b[0;34m.\u001b[0m\u001b[0m_run_validate_framework\u001b[0m\u001b[0;34m(\u001b[0m\u001b[0mrequest_func\u001b[0m\u001b[0;34m,\u001b[0m \u001b[0mcheck_func\u001b[0m\u001b[0;34m)\u001b[0m\u001b[0;34m\u001b[0m\u001b[0;34m\u001b[0m\u001b[0m\n\u001b[0m\u001b[1;32m    668\u001b[0m \u001b[0;34m\u001b[0m\u001b[0m\n\u001b[1;32m    669\u001b[0m     \u001b[0;34m@\u001b[0m\u001b[0mstaticmethod\u001b[0m\u001b[0;34m\u001b[0m\u001b[0;34m\u001b[0m\u001b[0m\n",
            "\u001b[0;32m/anaconda/envs/azureml_py36/lib/python3.6/site-packages/azureml/core/webservice/webservice.py\u001b[0m in \u001b[0;36m_run_validate_framework\u001b[0;34m(request_func, check_func)\u001b[0m\n\u001b[1;32m    636\u001b[0m             \u001b[0;32mreturn\u001b[0m\u001b[0;34m\u001b[0m\u001b[0;34m\u001b[0m\u001b[0m\n\u001b[1;32m    637\u001b[0m \u001b[0;34m\u001b[0m\u001b[0m\n\u001b[0;32m--> 638\u001b[0;31m         \u001b[0;32mraise\u001b[0m \u001b[0mWebserviceException\u001b[0m\u001b[0;34m(\u001b[0m\u001b[0merror\u001b[0m\u001b[0;34m)\u001b[0m\u001b[0;34m\u001b[0m\u001b[0;34m\u001b[0m\u001b[0m\n\u001b[0m\u001b[1;32m    639\u001b[0m \u001b[0;34m\u001b[0m\u001b[0m\n\u001b[1;32m    640\u001b[0m     \u001b[0;34m@\u001b[0m\u001b[0mstaticmethod\u001b[0m\u001b[0;34m\u001b[0m\u001b[0;34m\u001b[0m\u001b[0m\n",
            "\u001b[0;31mWebserviceException\u001b[0m: WebserviceException:\n\tMessage: Service aciservice with the same name already exists, please use a different service name or delete the existing service.\n\tInnerException None\n\tErrorResponse \n{\n    \"error\": {\n        \"message\": \"Service aciservice with the same name already exists, please use a different service name or delete the existing service.\"\n    }\n}"
          ]
        }
      ],
      "execution_count": 182,
      "metadata": {
        "gather": {
          "logged": 1616454043914
        }
      }
    },
    {
      "cell_type": "code",
      "source": [
        "print(\"Checking service status:{}\".format(service.state))"
      ],
      "outputs": [
        {
          "output_type": "stream",
          "name": "stdout",
          "text": [
            "Checking service status:Unhealthy\n"
          ]
        }
      ],
      "execution_count": 183,
      "metadata": {
        "gather": {
          "logged": 1616508596547
        }
      }
    },
    {
      "cell_type": "markdown",
      "source": [
        "If 'Healthy', get URIs"
      ],
      "metadata": {
        "nteract": {
          "transient": {
            "deleting": false
          }
        }
      }
    },
    {
      "cell_type": "code",
      "source": [
        "print(\"Scoring URI: {}\".format(service.scoring_uri))\n",
        "print(\"Swagger URI: {}\".format(service.swagger_uri))"
      ],
      "outputs": [
        {
          "output_type": "stream",
          "name": "stdout",
          "text": [
            "Scoring URI: http://e6d3ccd2-b44e-4259-87fe-8bdc28dff4ec.eastus.azurecontainer.io/score\n",
            "Swagger URI: http://e6d3ccd2-b44e-4259-87fe-8bdc28dff4ec.eastus.azurecontainer.io/swagger.json\n"
          ]
        }
      ],
      "execution_count": 135,
      "metadata": {
        "collapsed": true,
        "jupyter": {
          "source_hidden": false,
          "outputs_hidden": false
        },
        "nteract": {
          "transient": {
            "deleting": false
          }
        },
        "gather": {
          "logged": 1616454058352
        }
      }
    },
    {
      "cell_type": "code",
      "source": [
        "primary, secondary = service.get_keys()\n",
        "print(\"primary key: {},\\nsecond key: {}\".format(primary, secondary)) "
      ],
      "outputs": [
        {
          "output_type": "stream",
          "name": "stdout",
          "text": [
            "primary key: taQRhOtWcivd0YtpegeGV1w9r77N0BT7,\n",
            "second key: t2ra1FhQWOBjWebWU5EiU80S2uB35K9a\n"
          ]
        }
      ],
      "execution_count": 140,
      "metadata": {
        "collapsed": true,
        "jupyter": {
          "source_hidden": false,
          "outputs_hidden": false
        },
        "nteract": {
          "transient": {
            "deleting": false
          }
        },
        "gather": {
          "logged": 1616454113900
        }
      }
    },
    {
      "cell_type": "markdown",
      "source": [
        "Take a small sample of feautures of the failed banks (`'Target'=1`)"
      ],
      "metadata": {
        "collapsed": true,
        "gather": {
          "logged": 1598431657736
        },
        "jupyter": {
          "outputs_hidden": false,
          "source_hidden": false
        },
        "nteract": {
          "transient": {
            "deleting": false
          }
        }
      }
    },
    {
      "cell_type": "code",
      "source": [
        "sample = df.loc[df['Target']==1].sample(5)\n",
        "y = sample.pop('Target')"
      ],
      "outputs": [],
      "execution_count": 141,
      "metadata": {
        "gather": {
          "logged": 1616454119218
        },
        "jupyter": {
          "outputs_hidden": false,
          "source_hidden": false
        },
        "nteract": {
          "transient": {
            "deleting": false
          }
        }
      }
    },
    {
      "cell_type": "code",
      "source": [
        "# convert the sample records to a json data file\n",
        "scoring_json = json.dumps({'data': sample.to_dict(orient='records')})\n",
        "print(f'{scoring_json}')\n",
        "\n",
        "# Set the content type\n",
        "headers = {\"Content-Type\": \"application/json\"}\n",
        "\n",
        "# set the authorization header\n",
        "headers[\"Authorization\"] = f\"Bearer {primary}\"\n",
        "\n",
        "# post a request to the scoring uri\n",
        "resp = requests.post(service.scoring_uri, scoring_json, headers=headers)\n",
        "\n",
        "# print the scoring results\n",
        "print('\\n', resp.json())\n",
        "\n",
        "# compare the scoring results with the corresponding y label values\n",
        "print(f'\\nTrue Values: {list(y.values)}')"
      ],
      "outputs": [
        {
          "output_type": "stream",
          "name": "stdout",
          "text": [
            "{\"data\": [{\"EQTA\": 0.04184211984375433, \"EQTL\": 0.056076110917739876, \"LLRTA\": 0.030428428955314845, \"LLRGL\": 0.04077967281587191, \"OEXTA\": 0.017439122364739452, \"INCEMP\": -65.35555555555555, \"ROA\": -0.010184364351608167, \"ROE\": -0.24339981792601176, \"TDTL\": 1.2812669683257918, \"TDTA\": 0.9560385904645815, \"TATA\": 0.08062304346621603}, {\"EQTA\": 0.00500656159501208, \"EQTL\": 0.005842295708111368, \"LLRTA\": 0.03579929948128638, \"LLRGL\": 0.04177519635857157, \"OEXTA\": 0.0074746195782244874, \"INCEMP\": -63.828611898016995, \"ROA\": -0.01386240769007861, \"ROE\": -2.768847926267281, \"TDTL\": 1.0219569806010653, \"TDTA\": 0.8757671344379454, \"TATA\": 0.024451400822091258}, {\"EQTA\": 0.0071222856005424134, \"EQTL\": 0.011152235317035162, \"LLRTA\": 0.003551812295117658, \"LLRGL\": 0.005561507743255089, \"OEXTA\": 0.01529580811505135, \"INCEMP\": -185.07692307692307, \"ROA\": -0.029932260532585235, \"ROE\": -4.2026200873362445, \"TDTL\": 1.514863153793708, \"TDTA\": 0.967455198024421, \"TATA\": 0.10127330293662098}, {\"EQTA\": -0.0028891425310315307, \"EQTL\": -0.004322651226085332, \"LLRTA\": 0.033421315451562274, \"LLRGL\": 0.05000400245483897, \"OEXTA\": 0.03815629904408618, \"INCEMP\": -85.72, \"ROA\": -0.038218718790126976, \"ROE\": 13.228395061728396, \"TDTL\": 1.4968247191610855, \"TDTA\": 1.0004369382222857, \"TATA\": 0.09721429590526466}, {\"EQTA\": 0.014950539865900433, \"EQTL\": 0.019484462107412927, \"LLRTA\": 0.03264077675042816, \"LLRGL\": 0.0425394656952034, \"OEXTA\": 0.03985928280820268, \"INCEMP\": -257.6890756302521, \"ROA\": -0.08117179620889461, \"ROE\": -5.4293555240793205, \"TDTL\": 1.1715412319920517, \"TDTA\": 0.8989303269901185, \"TATA\": 0.06655743172595618}]}\n"
          ]
        },
        {
          "output_type": "error",
          "ename": "JSONDecodeError",
          "evalue": "Expecting value: line 1 column 1 (char 0)",
          "traceback": [
            "\u001b[0;31m---------------------------------------------------------------------------\u001b[0m",
            "\u001b[0;31mJSONDecodeError\u001b[0m                           Traceback (most recent call last)",
            "\u001b[0;32m<ipython-input-142-6381f696163b>\u001b[0m in \u001b[0;36m<module>\u001b[0;34m\u001b[0m\n\u001b[1;32m     13\u001b[0m \u001b[0;34m\u001b[0m\u001b[0m\n\u001b[1;32m     14\u001b[0m \u001b[0;31m# print the scoring results\u001b[0m\u001b[0;34m\u001b[0m\u001b[0;34m\u001b[0m\u001b[0;34m\u001b[0m\u001b[0m\n\u001b[0;32m---> 15\u001b[0;31m \u001b[0mprint\u001b[0m\u001b[0;34m(\u001b[0m\u001b[0;34m'\\n'\u001b[0m\u001b[0;34m,\u001b[0m \u001b[0mresp\u001b[0m\u001b[0;34m.\u001b[0m\u001b[0mjson\u001b[0m\u001b[0;34m(\u001b[0m\u001b[0;34m)\u001b[0m\u001b[0;34m)\u001b[0m\u001b[0;34m\u001b[0m\u001b[0;34m\u001b[0m\u001b[0m\n\u001b[0m\u001b[1;32m     16\u001b[0m \u001b[0;34m\u001b[0m\u001b[0m\n\u001b[1;32m     17\u001b[0m \u001b[0;31m# compare the scoring results with the corresponding y label values\u001b[0m\u001b[0;34m\u001b[0m\u001b[0;34m\u001b[0m\u001b[0;34m\u001b[0m\u001b[0m\n",
            "\u001b[0;32m/anaconda/envs/azureml_py36/lib/python3.6/site-packages/requests/models.py\u001b[0m in \u001b[0;36mjson\u001b[0;34m(self, **kwargs)\u001b[0m\n\u001b[1;32m    898\u001b[0m                     \u001b[0;31m# used.\u001b[0m\u001b[0;34m\u001b[0m\u001b[0;34m\u001b[0m\u001b[0;34m\u001b[0m\u001b[0m\n\u001b[1;32m    899\u001b[0m                     \u001b[0;32mpass\u001b[0m\u001b[0;34m\u001b[0m\u001b[0;34m\u001b[0m\u001b[0m\n\u001b[0;32m--> 900\u001b[0;31m         \u001b[0;32mreturn\u001b[0m \u001b[0mcomplexjson\u001b[0m\u001b[0;34m.\u001b[0m\u001b[0mloads\u001b[0m\u001b[0;34m(\u001b[0m\u001b[0mself\u001b[0m\u001b[0;34m.\u001b[0m\u001b[0mtext\u001b[0m\u001b[0;34m,\u001b[0m \u001b[0;34m**\u001b[0m\u001b[0mkwargs\u001b[0m\u001b[0;34m)\u001b[0m\u001b[0;34m\u001b[0m\u001b[0;34m\u001b[0m\u001b[0m\n\u001b[0m\u001b[1;32m    901\u001b[0m \u001b[0;34m\u001b[0m\u001b[0m\n\u001b[1;32m    902\u001b[0m     \u001b[0;34m@\u001b[0m\u001b[0mproperty\u001b[0m\u001b[0;34m\u001b[0m\u001b[0;34m\u001b[0m\u001b[0m\n",
            "\u001b[0;32m/anaconda/envs/azureml_py36/lib/python3.6/json/__init__.py\u001b[0m in \u001b[0;36mloads\u001b[0;34m(s, encoding, cls, object_hook, parse_float, parse_int, parse_constant, object_pairs_hook, **kw)\u001b[0m\n\u001b[1;32m    352\u001b[0m             \u001b[0mparse_int\u001b[0m \u001b[0;32mis\u001b[0m \u001b[0;32mNone\u001b[0m \u001b[0;32mand\u001b[0m \u001b[0mparse_float\u001b[0m \u001b[0;32mis\u001b[0m \u001b[0;32mNone\u001b[0m \u001b[0;32mand\u001b[0m\u001b[0;34m\u001b[0m\u001b[0;34m\u001b[0m\u001b[0m\n\u001b[1;32m    353\u001b[0m             parse_constant is None and object_pairs_hook is None and not kw):\n\u001b[0;32m--> 354\u001b[0;31m         \u001b[0;32mreturn\u001b[0m \u001b[0m_default_decoder\u001b[0m\u001b[0;34m.\u001b[0m\u001b[0mdecode\u001b[0m\u001b[0;34m(\u001b[0m\u001b[0ms\u001b[0m\u001b[0;34m)\u001b[0m\u001b[0;34m\u001b[0m\u001b[0;34m\u001b[0m\u001b[0m\n\u001b[0m\u001b[1;32m    355\u001b[0m     \u001b[0;32mif\u001b[0m \u001b[0mcls\u001b[0m \u001b[0;32mis\u001b[0m \u001b[0;32mNone\u001b[0m\u001b[0;34m:\u001b[0m\u001b[0;34m\u001b[0m\u001b[0;34m\u001b[0m\u001b[0m\n\u001b[1;32m    356\u001b[0m         \u001b[0mcls\u001b[0m \u001b[0;34m=\u001b[0m \u001b[0mJSONDecoder\u001b[0m\u001b[0;34m\u001b[0m\u001b[0;34m\u001b[0m\u001b[0m\n",
            "\u001b[0;32m/anaconda/envs/azureml_py36/lib/python3.6/json/decoder.py\u001b[0m in \u001b[0;36mdecode\u001b[0;34m(self, s, _w)\u001b[0m\n\u001b[1;32m    337\u001b[0m \u001b[0;34m\u001b[0m\u001b[0m\n\u001b[1;32m    338\u001b[0m         \"\"\"\n\u001b[0;32m--> 339\u001b[0;31m         \u001b[0mobj\u001b[0m\u001b[0;34m,\u001b[0m \u001b[0mend\u001b[0m \u001b[0;34m=\u001b[0m \u001b[0mself\u001b[0m\u001b[0;34m.\u001b[0m\u001b[0mraw_decode\u001b[0m\u001b[0;34m(\u001b[0m\u001b[0ms\u001b[0m\u001b[0;34m,\u001b[0m \u001b[0midx\u001b[0m\u001b[0;34m=\u001b[0m\u001b[0m_w\u001b[0m\u001b[0;34m(\u001b[0m\u001b[0ms\u001b[0m\u001b[0;34m,\u001b[0m \u001b[0;36m0\u001b[0m\u001b[0;34m)\u001b[0m\u001b[0;34m.\u001b[0m\u001b[0mend\u001b[0m\u001b[0;34m(\u001b[0m\u001b[0;34m)\u001b[0m\u001b[0;34m)\u001b[0m\u001b[0;34m\u001b[0m\u001b[0;34m\u001b[0m\u001b[0m\n\u001b[0m\u001b[1;32m    340\u001b[0m         \u001b[0mend\u001b[0m \u001b[0;34m=\u001b[0m \u001b[0m_w\u001b[0m\u001b[0;34m(\u001b[0m\u001b[0ms\u001b[0m\u001b[0;34m,\u001b[0m \u001b[0mend\u001b[0m\u001b[0;34m)\u001b[0m\u001b[0;34m.\u001b[0m\u001b[0mend\u001b[0m\u001b[0;34m(\u001b[0m\u001b[0;34m)\u001b[0m\u001b[0;34m\u001b[0m\u001b[0;34m\u001b[0m\u001b[0m\n\u001b[1;32m    341\u001b[0m         \u001b[0;32mif\u001b[0m \u001b[0mend\u001b[0m \u001b[0;34m!=\u001b[0m \u001b[0mlen\u001b[0m\u001b[0;34m(\u001b[0m\u001b[0ms\u001b[0m\u001b[0;34m)\u001b[0m\u001b[0;34m:\u001b[0m\u001b[0;34m\u001b[0m\u001b[0;34m\u001b[0m\u001b[0m\n",
            "\u001b[0;32m/anaconda/envs/azureml_py36/lib/python3.6/json/decoder.py\u001b[0m in \u001b[0;36mraw_decode\u001b[0;34m(self, s, idx)\u001b[0m\n\u001b[1;32m    355\u001b[0m             \u001b[0mobj\u001b[0m\u001b[0;34m,\u001b[0m \u001b[0mend\u001b[0m \u001b[0;34m=\u001b[0m \u001b[0mself\u001b[0m\u001b[0;34m.\u001b[0m\u001b[0mscan_once\u001b[0m\u001b[0;34m(\u001b[0m\u001b[0ms\u001b[0m\u001b[0;34m,\u001b[0m \u001b[0midx\u001b[0m\u001b[0;34m)\u001b[0m\u001b[0;34m\u001b[0m\u001b[0;34m\u001b[0m\u001b[0m\n\u001b[1;32m    356\u001b[0m         \u001b[0;32mexcept\u001b[0m \u001b[0mStopIteration\u001b[0m \u001b[0;32mas\u001b[0m \u001b[0merr\u001b[0m\u001b[0;34m:\u001b[0m\u001b[0;34m\u001b[0m\u001b[0;34m\u001b[0m\u001b[0m\n\u001b[0;32m--> 357\u001b[0;31m             \u001b[0;32mraise\u001b[0m \u001b[0mJSONDecodeError\u001b[0m\u001b[0;34m(\u001b[0m\u001b[0;34m\"Expecting value\"\u001b[0m\u001b[0;34m,\u001b[0m \u001b[0ms\u001b[0m\u001b[0;34m,\u001b[0m \u001b[0merr\u001b[0m\u001b[0;34m.\u001b[0m\u001b[0mvalue\u001b[0m\u001b[0;34m)\u001b[0m \u001b[0;32mfrom\u001b[0m \u001b[0;32mNone\u001b[0m\u001b[0;34m\u001b[0m\u001b[0;34m\u001b[0m\u001b[0m\n\u001b[0m\u001b[1;32m    358\u001b[0m         \u001b[0;32mreturn\u001b[0m \u001b[0mobj\u001b[0m\u001b[0;34m,\u001b[0m \u001b[0mend\u001b[0m\u001b[0;34m\u001b[0m\u001b[0;34m\u001b[0m\u001b[0m\n",
            "\u001b[0;31mJSONDecodeError\u001b[0m: Expecting value: line 1 column 1 (char 0)"
          ]
        }
      ],
      "execution_count": 142,
      "metadata": {
        "gather": {
          "logged": 1616453957938
        }
      }
    },
    {
      "cell_type": "code",
      "source": [],
      "outputs": [
        {
          "output_type": "error",
          "ename": "JSONDecodeError",
          "evalue": "Expecting value: line 1 column 1 (char 0)",
          "traceback": [
            "\u001b[0;31m---------------------------------------------------------------------------\u001b[0m",
            "\u001b[0;31mJSONDecodeError\u001b[0m                           Traceback (most recent call last)",
            "\u001b[0;32m<ipython-input-138-ce9b29c4b814>\u001b[0m in \u001b[0;36m<module>\u001b[0;34m\u001b[0m\n\u001b[1;32m      1\u001b[0m \u001b[0;31m# print the scoring results\u001b[0m\u001b[0;34m\u001b[0m\u001b[0;34m\u001b[0m\u001b[0;34m\u001b[0m\u001b[0m\n\u001b[0;32m----> 2\u001b[0;31m \u001b[0mprint\u001b[0m\u001b[0;34m(\u001b[0m\u001b[0;34m'\\n'\u001b[0m\u001b[0;34m,\u001b[0m \u001b[0mresp\u001b[0m\u001b[0;34m.\u001b[0m\u001b[0mjson\u001b[0m\u001b[0;34m(\u001b[0m\u001b[0;34m)\u001b[0m\u001b[0;34m)\u001b[0m\u001b[0;34m\u001b[0m\u001b[0;34m\u001b[0m\u001b[0m\n\u001b[0m\u001b[1;32m      3\u001b[0m \u001b[0;34m\u001b[0m\u001b[0m\n\u001b[1;32m      4\u001b[0m \u001b[0;31m# compare the scoring results with the corresponding y label values\u001b[0m\u001b[0;34m\u001b[0m\u001b[0;34m\u001b[0m\u001b[0;34m\u001b[0m\u001b[0m\n\u001b[1;32m      5\u001b[0m \u001b[0mprint\u001b[0m\u001b[0;34m(\u001b[0m\u001b[0;34mf'\\nTrue Values: {list(y.values)}'\u001b[0m\u001b[0;34m)\u001b[0m\u001b[0;34m\u001b[0m\u001b[0;34m\u001b[0m\u001b[0m\n",
            "\u001b[0;32m/anaconda/envs/azureml_py36/lib/python3.6/site-packages/requests/models.py\u001b[0m in \u001b[0;36mjson\u001b[0;34m(self, **kwargs)\u001b[0m\n\u001b[1;32m    898\u001b[0m                     \u001b[0;31m# used.\u001b[0m\u001b[0;34m\u001b[0m\u001b[0;34m\u001b[0m\u001b[0;34m\u001b[0m\u001b[0m\n\u001b[1;32m    899\u001b[0m                     \u001b[0;32mpass\u001b[0m\u001b[0;34m\u001b[0m\u001b[0;34m\u001b[0m\u001b[0m\n\u001b[0;32m--> 900\u001b[0;31m         \u001b[0;32mreturn\u001b[0m \u001b[0mcomplexjson\u001b[0m\u001b[0;34m.\u001b[0m\u001b[0mloads\u001b[0m\u001b[0;34m(\u001b[0m\u001b[0mself\u001b[0m\u001b[0;34m.\u001b[0m\u001b[0mtext\u001b[0m\u001b[0;34m,\u001b[0m \u001b[0;34m**\u001b[0m\u001b[0mkwargs\u001b[0m\u001b[0;34m)\u001b[0m\u001b[0;34m\u001b[0m\u001b[0;34m\u001b[0m\u001b[0m\n\u001b[0m\u001b[1;32m    901\u001b[0m \u001b[0;34m\u001b[0m\u001b[0m\n\u001b[1;32m    902\u001b[0m     \u001b[0;34m@\u001b[0m\u001b[0mproperty\u001b[0m\u001b[0;34m\u001b[0m\u001b[0;34m\u001b[0m\u001b[0m\n",
            "\u001b[0;32m/anaconda/envs/azureml_py36/lib/python3.6/json/__init__.py\u001b[0m in \u001b[0;36mloads\u001b[0;34m(s, encoding, cls, object_hook, parse_float, parse_int, parse_constant, object_pairs_hook, **kw)\u001b[0m\n\u001b[1;32m    352\u001b[0m             \u001b[0mparse_int\u001b[0m \u001b[0;32mis\u001b[0m \u001b[0;32mNone\u001b[0m \u001b[0;32mand\u001b[0m \u001b[0mparse_float\u001b[0m \u001b[0;32mis\u001b[0m \u001b[0;32mNone\u001b[0m \u001b[0;32mand\u001b[0m\u001b[0;34m\u001b[0m\u001b[0;34m\u001b[0m\u001b[0m\n\u001b[1;32m    353\u001b[0m             parse_constant is None and object_pairs_hook is None and not kw):\n\u001b[0;32m--> 354\u001b[0;31m         \u001b[0;32mreturn\u001b[0m \u001b[0m_default_decoder\u001b[0m\u001b[0;34m.\u001b[0m\u001b[0mdecode\u001b[0m\u001b[0;34m(\u001b[0m\u001b[0ms\u001b[0m\u001b[0;34m)\u001b[0m\u001b[0;34m\u001b[0m\u001b[0;34m\u001b[0m\u001b[0m\n\u001b[0m\u001b[1;32m    355\u001b[0m     \u001b[0;32mif\u001b[0m \u001b[0mcls\u001b[0m \u001b[0;32mis\u001b[0m \u001b[0;32mNone\u001b[0m\u001b[0;34m:\u001b[0m\u001b[0;34m\u001b[0m\u001b[0;34m\u001b[0m\u001b[0m\n\u001b[1;32m    356\u001b[0m         \u001b[0mcls\u001b[0m \u001b[0;34m=\u001b[0m \u001b[0mJSONDecoder\u001b[0m\u001b[0;34m\u001b[0m\u001b[0;34m\u001b[0m\u001b[0m\n",
            "\u001b[0;32m/anaconda/envs/azureml_py36/lib/python3.6/json/decoder.py\u001b[0m in \u001b[0;36mdecode\u001b[0;34m(self, s, _w)\u001b[0m\n\u001b[1;32m    337\u001b[0m \u001b[0;34m\u001b[0m\u001b[0m\n\u001b[1;32m    338\u001b[0m         \"\"\"\n\u001b[0;32m--> 339\u001b[0;31m         \u001b[0mobj\u001b[0m\u001b[0;34m,\u001b[0m \u001b[0mend\u001b[0m \u001b[0;34m=\u001b[0m \u001b[0mself\u001b[0m\u001b[0;34m.\u001b[0m\u001b[0mraw_decode\u001b[0m\u001b[0;34m(\u001b[0m\u001b[0ms\u001b[0m\u001b[0;34m,\u001b[0m \u001b[0midx\u001b[0m\u001b[0;34m=\u001b[0m\u001b[0m_w\u001b[0m\u001b[0;34m(\u001b[0m\u001b[0ms\u001b[0m\u001b[0;34m,\u001b[0m \u001b[0;36m0\u001b[0m\u001b[0;34m)\u001b[0m\u001b[0;34m.\u001b[0m\u001b[0mend\u001b[0m\u001b[0;34m(\u001b[0m\u001b[0;34m)\u001b[0m\u001b[0;34m)\u001b[0m\u001b[0;34m\u001b[0m\u001b[0;34m\u001b[0m\u001b[0m\n\u001b[0m\u001b[1;32m    340\u001b[0m         \u001b[0mend\u001b[0m \u001b[0;34m=\u001b[0m \u001b[0m_w\u001b[0m\u001b[0;34m(\u001b[0m\u001b[0ms\u001b[0m\u001b[0;34m,\u001b[0m \u001b[0mend\u001b[0m\u001b[0;34m)\u001b[0m\u001b[0;34m.\u001b[0m\u001b[0mend\u001b[0m\u001b[0;34m(\u001b[0m\u001b[0;34m)\u001b[0m\u001b[0;34m\u001b[0m\u001b[0;34m\u001b[0m\u001b[0m\n\u001b[1;32m    341\u001b[0m         \u001b[0;32mif\u001b[0m \u001b[0mend\u001b[0m \u001b[0;34m!=\u001b[0m \u001b[0mlen\u001b[0m\u001b[0;34m(\u001b[0m\u001b[0ms\u001b[0m\u001b[0;34m)\u001b[0m\u001b[0;34m:\u001b[0m\u001b[0;34m\u001b[0m\u001b[0;34m\u001b[0m\u001b[0m\n",
            "\u001b[0;32m/anaconda/envs/azureml_py36/lib/python3.6/json/decoder.py\u001b[0m in \u001b[0;36mraw_decode\u001b[0;34m(self, s, idx)\u001b[0m\n\u001b[1;32m    355\u001b[0m             \u001b[0mobj\u001b[0m\u001b[0;34m,\u001b[0m \u001b[0mend\u001b[0m \u001b[0;34m=\u001b[0m \u001b[0mself\u001b[0m\u001b[0;34m.\u001b[0m\u001b[0mscan_once\u001b[0m\u001b[0;34m(\u001b[0m\u001b[0ms\u001b[0m\u001b[0;34m,\u001b[0m \u001b[0midx\u001b[0m\u001b[0;34m)\u001b[0m\u001b[0;34m\u001b[0m\u001b[0;34m\u001b[0m\u001b[0m\n\u001b[1;32m    356\u001b[0m         \u001b[0;32mexcept\u001b[0m \u001b[0mStopIteration\u001b[0m \u001b[0;32mas\u001b[0m \u001b[0merr\u001b[0m\u001b[0;34m:\u001b[0m\u001b[0;34m\u001b[0m\u001b[0;34m\u001b[0m\u001b[0m\n\u001b[0;32m--> 357\u001b[0;31m             \u001b[0;32mraise\u001b[0m \u001b[0mJSONDecodeError\u001b[0m\u001b[0;34m(\u001b[0m\u001b[0;34m\"Expecting value\"\u001b[0m\u001b[0;34m,\u001b[0m \u001b[0ms\u001b[0m\u001b[0;34m,\u001b[0m \u001b[0merr\u001b[0m\u001b[0;34m.\u001b[0m\u001b[0mvalue\u001b[0m\u001b[0;34m)\u001b[0m \u001b[0;32mfrom\u001b[0m \u001b[0;32mNone\u001b[0m\u001b[0;34m\u001b[0m\u001b[0;34m\u001b[0m\u001b[0m\n\u001b[0m\u001b[1;32m    358\u001b[0m         \u001b[0;32mreturn\u001b[0m \u001b[0mobj\u001b[0m\u001b[0;34m,\u001b[0m \u001b[0mend\u001b[0m\u001b[0;34m\u001b[0m\u001b[0;34m\u001b[0m\u001b[0m\n",
            "\u001b[0;31mJSONDecodeError\u001b[0m: Expecting value: line 1 column 1 (char 0)"
          ]
        }
      ],
      "execution_count": 138,
      "metadata": {
        "collapsed": true,
        "jupyter": {
          "source_hidden": false,
          "outputs_hidden": false
        },
        "nteract": {
          "transient": {
            "deleting": false
          }
        },
        "gather": {
          "logged": 1616453411852
        }
      }
    },
    {
      "cell_type": "code",
      "source": [
        "service.delete()"
      ],
      "outputs": [
        {
          "output_type": "stream",
          "name": "stdout",
          "text": [
            "No service with name aciservice found to delete.\n"
          ]
        }
      ],
      "execution_count": 145,
      "metadata": {
        "collapsed": true,
        "jupyter": {
          "source_hidden": false,
          "outputs_hidden": false
        },
        "nteract": {
          "transient": {
            "deleting": false
          }
        },
        "gather": {
          "logged": 1616454181026
        }
      }
    },
    {
      "cell_type": "markdown",
      "source": [],
      "metadata": {
        "nteract": {
          "transient": {
            "deleting": false
          }
        }
      }
    },
    {
      "cell_type": "code",
      "source": [],
      "outputs": [],
      "execution_count": null,
      "metadata": {
        "collapsed": true,
        "jupyter": {
          "source_hidden": false,
          "outputs_hidden": false
        },
        "nteract": {
          "transient": {
            "deleting": false
          }
        }
      }
    },
    {
      "cell_type": "code",
      "source": [
        "# another way to test the scoring uri\n",
        "print(\"Prediction: {}\".format(service.run(scoring_json)))\n",
        "print(f'True Values: {list(y.values)}')\n",
        "pd.DataFrame()"
      ],
      "outputs": [
        {
          "output_type": "stream",
          "name": "stdout",
          "text": [
            "Prediction: {\"result\": [1, 1, 1, 1, 1, 1, 1, 1, 1, 1]}\n",
            "True Values: [1, 1, 1, 1, 1, 1, 1, 1, 1, 1]\n"
          ]
        }
      ],
      "execution_count": 55,
      "metadata": {
        "gather": {
          "logged": 1616449294791
        }
      }
    },
    {
      "cell_type": "code",
      "source": [],
      "outputs": [],
      "execution_count": null,
      "metadata": {
        "collapsed": true,
        "jupyter": {
          "source_hidden": false,
          "outputs_hidden": false
        },
        "nteract": {
          "transient": {
            "deleting": false
          }
        }
      }
    },
    {
      "cell_type": "code",
      "source": [],
      "outputs": [],
      "execution_count": null,
      "metadata": {
        "collapsed": true,
        "jupyter": {
          "source_hidden": false,
          "outputs_hidden": false
        },
        "nteract": {
          "transient": {
            "deleting": false
          }
        }
      }
    },
    {
      "cell_type": "markdown",
      "source": [
        "### Out-of-sample Testing"
      ],
      "metadata": {
        "nteract": {
          "transient": {
            "deleting": false
          }
        }
      }
    },
    {
      "cell_type": "code",
      "source": [],
      "outputs": [],
      "execution_count": null,
      "metadata": {
        "collapsed": true,
        "jupyter": {
          "source_hidden": false,
          "outputs_hidden": false
        },
        "nteract": {
          "transient": {
            "deleting": false
          }
        }
      }
    },
    {
      "cell_type": "code",
      "source": [
        "tn, fp, fn, tp = confusion_matrix(y_oos, predictions_oos).ravel()\n",
        "print(\"recall: {0:.5f}\".format(tp/(tp+fn)))\n",
        "print(\"precision: {0:.5f}\".format(tp/(tp+fp))) #TP / (TP + FP)"
      ],
      "outputs": [],
      "execution_count": null,
      "metadata": {
        "collapsed": true,
        "jupyter": {
          "source_hidden": false,
          "outputs_hidden": false
        },
        "nteract": {
          "transient": {
            "deleting": false
          }
        }
      }
    },
    {
      "cell_type": "markdown",
      "source": [
        "Printing the logs of the web service prior to deleting the service"
      ],
      "metadata": {
        "collapsed": true,
        "gather": {
          "logged": 1598432765711
        },
        "jupyter": {
          "outputs_hidden": false,
          "source_hidden": false
        },
        "nteract": {
          "transient": {
            "deleting": false
          }
        }
      }
    },
    {
      "cell_type": "code",
      "source": [
        "# print the logs by calling the get_logs() function of the web service\n",
        "print(f'webservice logs: \\n{service.get_logs()}\\n')"
      ],
      "outputs": [
        {
          "output_type": "stream",
          "name": "stdout",
          "text": [
            "webservice logs: \n",
            "2021-03-22T21:06:32,392545800+00:00 - iot-server/run \n",
            "2021-03-22T21:06:32,393517400+00:00 - gunicorn/run \n",
            "2021-03-22T21:06:32,423816600+00:00 - nginx/run \n",
            "/usr/sbin/nginx: /azureml-envs/azureml_2b14f450572e78de640d54eaabed5e4d/lib/libcrypto.so.1.0.0: no version information available (required by /usr/sbin/nginx)\n",
            "2021-03-22T21:06:32,432858200+00:00 - rsyslog/run \n",
            "/usr/sbin/nginx: /azureml-envs/azureml_2b14f450572e78de640d54eaabed5e4d/lib/libcrypto.so.1.0.0: no version information available (required by /usr/sbin/nginx)\n",
            "/usr/sbin/nginx: /azureml-envs/azureml_2b14f450572e78de640d54eaabed5e4d/lib/libssl.so.1.0.0: no version information available (required by /usr/sbin/nginx)\n",
            "/usr/sbin/nginx: /azureml-envs/azureml_2b14f450572e78de640d54eaabed5e4d/lib/libssl.so.1.0.0: no version information available (required by /usr/sbin/nginx)\n",
            "/usr/sbin/nginx: /azureml-envs/azureml_2b14f450572e78de640d54eaabed5e4d/lib/libssl.so.1.0.0: no version information available (required by /usr/sbin/nginx)\n",
            "rsyslogd: /azureml-envs/azureml_2b14f450572e78de640d54eaabed5e4d/lib/libuuid.so.1: no version information available (required by rsyslogd)\n",
            "EdgeHubConnectionString and IOTEDGE_IOTHUBHOSTNAME are not set. Exiting...\n",
            "2021-03-22T21:06:32,780105700+00:00 - iot-server/finish 1 0\n",
            "2021-03-22T21:06:32,782305100+00:00 - Exit code 1 is normal. Not restarting iot-server.\n",
            "Starting gunicorn 19.9.0\n",
            "Listening at: http://127.0.0.1:31311 (68)\n",
            "Using worker: sync\n",
            "worker timeout is set to 300\n",
            "Booting worker with pid: 97\n",
            "SPARK_HOME not set. Skipping PySpark Initialization.\n",
            "Generating new fontManager, this may take some time...\n",
            "Initializing logger\n",
            "2021-03-22 21:06:35,488 | root | INFO | Starting up app insights client\n",
            "2021-03-22 21:06:35,489 | root | INFO | Starting up request id generator\n",
            "2021-03-22 21:06:35,489 | root | INFO | Starting up app insight hooks\n",
            "2021-03-22 21:06:35,489 | root | INFO | Invoking user's init function\n",
            "2021-03-22 21:06:40,304 | azureml.core | WARNING | Failure while loading azureml_run_type_providers. Failed to load entrypoint automl = azureml.train.automl.run:AutoMLRun._from_run_dto with exception (cryptography 3.2 (/azureml-envs/azureml_2b14f450572e78de640d54eaabed5e4d/lib/python3.6/site-packages), Requirement.parse('cryptography<4.0.0,>=3.3.1; extra == \"crypto\"'), {'PyJWT'}).\n",
            "Failure while loading azureml_run_type_providers. Failed to load entrypoint automl = azureml.train.automl.run:AutoMLRun._from_run_dto with exception (cryptography 3.2 (/azureml-envs/azureml_2b14f450572e78de640d54eaabed5e4d/lib/python3.6/site-packages), Requirement.parse('cryptography<4.0.0,>=3.3.1; extra == \"crypto\"'), {'PyJWT'}).\n",
            "2021-03-22 21:06:40,966 | root | INFO | Users's init has completed successfully\n",
            "2021-03-22 21:06:40,982 | root | INFO | Skipping middleware: dbg_model_info as it's not enabled.\n",
            "2021-03-22 21:06:40,986 | root | INFO | Skipping middleware: dbg_resource_usage as it's not enabled.\n",
            "2021-03-22 21:06:40,989 | root | INFO | Scoring timeout is found from os.environ: 60000 ms\n",
            "2021-03-22 21:06:41,986 | root | INFO | 200\n",
            "127.0.0.1 - - [22/Mar/2021:21:06:41 +0000] \"GET /swagger.json HTTP/1.0\" 200 2692 \"-\" \"Go-http-client/1.1\"\n",
            "2021-03-22 21:06:44,534 | root | INFO | 200\n",
            "127.0.0.1 - - [22/Mar/2021:21:06:44 +0000] \"GET /swagger.json HTTP/1.0\" 200 2692 \"-\" \"Go-http-client/1.1\"\n",
            "2021-03-22 21:10:23,570 | root | INFO | Validation Request Content-Type\n",
            "2021-03-22 21:10:23,571 | root | INFO | Scoring Timer is set to 60.0 seconds\n",
            "2021-03-22 21:10:23,789 | root | INFO | 200\n",
            "127.0.0.1 - - [22/Mar/2021:21:10:23 +0000] \"POST /score HTTP/1.0\" 200 22 \"-\" \"python-requests/2.25.1\"\n",
            "2021-03-22 21:12:59,481 | root | INFO | Validation Request Content-Type\n",
            "2021-03-22 21:12:59,486 | root | INFO | Scoring Timer is set to 60.0 seconds\n",
            "2021-03-22 21:12:59,660 | root | INFO | 200\n",
            "127.0.0.1 - - [22/Mar/2021:21:12:59 +0000] \"POST /score HTTP/1.0\" 200 22 \"-\" \"python-requests/2.25.1\"\n",
            "2021-03-22 21:13:38,240 | root | INFO | Validation Request Content-Type\n",
            "2021-03-22 21:13:38,240 | root | INFO | Scoring Timer is set to 60.0 seconds\n",
            "2021-03-22 21:13:38,422 | root | INFO | 200\n",
            "127.0.0.1 - - [22/Mar/2021:21:13:38 +0000] \"POST /score HTTP/1.0\" 200 22 \"-\" \"python-requests/2.25.1\"\n",
            "\n",
            "\n"
          ]
        }
      ],
      "execution_count": 33,
      "metadata": {
        "jupyter": {
          "outputs_hidden": false,
          "source_hidden": false
        },
        "nteract": {
          "transient": {
            "deleting": false
          }
        },
        "gather": {
          "logged": 1616447631857
        }
      }
    },
    {
      "cell_type": "markdown",
      "source": [
        "## Clean Up"
      ],
      "metadata": {}
    },
    {
      "cell_type": "code",
      "source": [
        "service.delete()"
      ],
      "outputs": [],
      "execution_count": 143,
      "metadata": {
        "gather": {
          "logged": 1616454148791
        }
      }
    },
    {
      "cell_type": "code",
      "source": [
        "sevice.state()"
      ],
      "outputs": [
        {
          "output_type": "error",
          "ename": "NameError",
          "evalue": "name 'sevice' is not defined",
          "traceback": [
            "\u001b[0;31m---------------------------------------------------------------------------\u001b[0m",
            "\u001b[0;31mNameError\u001b[0m                                 Traceback (most recent call last)",
            "\u001b[0;32m<ipython-input-144-e1cf4eb2d0a8>\u001b[0m in \u001b[0;36m<module>\u001b[0;34m\u001b[0m\n\u001b[0;32m----> 1\u001b[0;31m \u001b[0msevice\u001b[0m\u001b[0;34m.\u001b[0m\u001b[0mstate\u001b[0m\u001b[0;34m(\u001b[0m\u001b[0;34m)\u001b[0m\u001b[0;34m\u001b[0m\u001b[0;34m\u001b[0m\u001b[0m\n\u001b[0m",
            "\u001b[0;31mNameError\u001b[0m: name 'sevice' is not defined"
          ]
        }
      ],
      "execution_count": 144,
      "metadata": {}
    },
    {
      "cell_type": "code",
      "source": [],
      "outputs": [],
      "execution_count": null,
      "metadata": {
        "collapsed": true,
        "jupyter": {
          "source_hidden": false,
          "outputs_hidden": false
        },
        "nteract": {
          "transient": {
            "deleting": false
          }
        }
      }
    }
  ],
  "metadata": {
    "kernel_info": {
      "name": "python3-azureml"
    },
    "kernelspec": {
      "name": "python3-azureml",
      "language": "python",
      "display_name": "Python 3.6 - AzureML"
    },
    "language_info": {
      "name": "python",
      "version": "3.6.9",
      "mimetype": "text/x-python",
      "codemirror_mode": {
        "name": "ipython",
        "version": 3
      },
      "pygments_lexer": "ipython3",
      "nbconvert_exporter": "python",
      "file_extension": ".py"
    },
    "nteract": {
      "version": "nteract-front-end@1.0.0"
    },
    "microsoft": {
      "host": {
        "AzureML": {
          "notebookHasBeenCompleted": true
        }
      }
    }
  },
  "nbformat": 4,
  "nbformat_minor": 2
}